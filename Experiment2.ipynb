{
 "cells": [
  {
   "cell_type": "code",
   "execution_count": 1,
   "id": "15643430",
   "metadata": {},
   "outputs": [
    {
     "name": "stdout",
     "output_type": "stream",
     "text": [
      "a,b,c,d,message\n",
      "1,2,3,4,hello\n",
      "5,6,7,8,world\n",
      "9,10,11,12,foo\n"
     ]
    }
   ],
   "source": [
    "!type ex1.csv"
   ]
  },
  {
   "cell_type": "code",
   "execution_count": 9,
   "id": "d565039f",
   "metadata": {},
   "outputs": [
    {
     "data": {
      "text/plain": [
       "'C:\\\\Users\\\\ankit19.gupta\\\\ankit\\\\ankit\\\\ML_Code\\\\Python_R_Prolog_Code\\\\Python_Practice\\\\Python_For_Data_Analysis'"
      ]
     },
     "execution_count": 9,
     "metadata": {},
     "output_type": "execute_result"
    }
   ],
   "source": [
    "import os\n",
    "os.getcwd()"
   ]
  },
  {
   "cell_type": "code",
   "execution_count": 33,
   "id": "8003106d",
   "metadata": {},
   "outputs": [
    {
     "name": "stdout",
     "output_type": "stream",
     "text": [
      "   a   b   c   d message\n",
      "0  9  10  11  12     foo\n"
     ]
    }
   ],
   "source": [
    "import pandas as pd\n",
    "fold='.\\\\pydata-book-3rd-edition\\\\examples'\n",
    "print(pd.read_csv(fold+'\\\\ex2.csv',names=['a','b','c','d','message'],skiprows=[0,1]))"
   ]
  },
  {
   "cell_type": "code",
   "execution_count": 17,
   "id": "62287fb1",
   "metadata": {},
   "outputs": [
    {
     "name": "stdout",
     "output_type": "stream",
     "text": [
      "            a   c   d\n",
      "message b            \n",
      "hello   2   1   3   4\n",
      "world   6   5   7   8\n",
      "foo     10  9  11  12\n"
     ]
    }
   ],
   "source": [
    "print(pd.read_csv(fold+'\\\\ex2.csv',names=['a','b','c','d','message'],index_col=[4,1]))"
   ]
  },
  {
   "cell_type": "code",
   "execution_count": 23,
   "id": "71a8140e",
   "metadata": {},
   "outputs": [
    {
     "data": {
      "text/plain": [
       "['            A         B         C\\n',\n",
       " 'aaa -0.264438 -1.026059 -0.619500\\n',\n",
       " 'bbb  0.927272  0.302904 -0.032399\\n',\n",
       " 'ccc -0.264273 -0.386314 -0.217601\\n',\n",
       " 'ddd -0.871858 -0.348382  1.100491\\n']"
      ]
     },
     "execution_count": 23,
     "metadata": {},
     "output_type": "execute_result"
    }
   ],
   "source": [
    "list(open(fold+'\\\\ex3.txt'))"
   ]
  },
  {
   "cell_type": "code",
   "execution_count": 44,
   "id": "dca14aa2",
   "metadata": {},
   "outputs": [
    {
     "name": "stdout",
     "output_type": "stream",
     "text": [
      "  something  a   b     c   d message\n",
      "0       one  1   2   3.0   4     NaN\n",
      "1       two  5   6   NaN   8   world\n",
      "2     three  9  10  11.0  12     foo\n",
      "   something      a      b      c      d  message\n",
      "0      False  False  False  False  False     True\n",
      "1      False  False  False   True  False    False\n",
      "2      False  False  False  False  False    False\n"
     ]
    }
   ],
   "source": [
    "result = pd.read_table(fold+'\\\\ex5.csv',sep=',')\n",
    "print(result)\n",
    "print(pd.isnull(result))"
   ]
  },
  {
   "cell_type": "code",
   "execution_count": 45,
   "id": "4e6214c1",
   "metadata": {},
   "outputs": [
    {
     "name": "stdout",
     "output_type": "stream",
     "text": [
      "  something  a   b     c   d  message\n",
      "0       one  1   2   3.0   4      NaN\n",
      "1       NaN  5   6   NaN   8      NaN\n",
      "2       NaN  9  10  11.0  12      NaN\n"
     ]
    }
   ],
   "source": [
    "result = pd.read_table(fold+'\\\\ex5.csv',sep=',',na_values={'message': ['foo','world'],'something':['two','three']})\n",
    "print(result)"
   ]
  },
  {
   "cell_type": "code",
   "execution_count": 47,
   "id": "9047796d",
   "metadata": {},
   "outputs": [],
   "source": [
    "result.to_csv(fold+'\\\\out.csv')"
   ]
  },
  {
   "cell_type": "code",
   "execution_count": 49,
   "id": "cba467b4",
   "metadata": {},
   "outputs": [
    {
     "name": "stdout",
     "output_type": "stream",
     "text": [
      "one|1|2|3.0|4|NULL\r\n",
      "NULL|5|6|NULL|8|NULL\r\n",
      "NULL|9|10|11.0|12|NULL\r\n"
     ]
    }
   ],
   "source": [
    "import sys\n",
    "result.to_csv(sys.stdout,sep='|',index=False,header=False,na_rep='NULL')"
   ]
  },
  {
   "cell_type": "code",
   "execution_count": 52,
   "id": "5e4f9f57",
   "metadata": {},
   "outputs": [
    {
     "name": "stdout",
     "output_type": "stream",
     "text": [
      "{'name': [{'myself': ['ankit'], 'mylife': 'kiio'}, {'age': [21, 22], 'state': ['UP', 'Punjab']}], 'Institute': ['ISI', 'IIIT-D']}\n",
      "{\"name\": [{\"myself\": [\"ankit\"], \"mylife\": \"kiio\"}, {\"age\": [21, 22], \"state\": [\"UP\", \"Punjab\"]}], \"Institute\": [\"ISI\", \"IIIT-D\"]}\n"
     ]
    }
   ],
   "source": [
    "json_obj=\"\"\"\n",
    "{\"name\":[{\"myself\":[\"ankit\"],\"mylife\":\"kiio\"},{\"age\":[21,22],\"state\":[\"UP\",\"Punjab\"]}],\n",
    " \"Institute\":[\"ISI\",\"IIIT-D\"]\n",
    "}\n",
    "\"\"\"\n",
    "import json\n",
    "python_obj=json.loads(json_obj)\n",
    "print(python_obj)\n",
    "json_obj=json.dumps(python_obj)\n",
    "print(json_obj)"
   ]
  },
  {
   "cell_type": "code",
   "execution_count": 57,
   "id": "c857ef8d",
   "metadata": {},
   "outputs": [
    {
     "data": {
      "text/html": [
       "<div>\n",
       "<style scoped>\n",
       "    .dataframe tbody tr th:only-of-type {\n",
       "        vertical-align: middle;\n",
       "    }\n",
       "\n",
       "    .dataframe tbody tr th {\n",
       "        vertical-align: top;\n",
       "    }\n",
       "\n",
       "    .dataframe thead th {\n",
       "        text-align: right;\n",
       "    }\n",
       "</style>\n",
       "<table border=\"1\" class=\"dataframe\">\n",
       "  <thead>\n",
       "    <tr style=\"text-align: right;\">\n",
       "      <th></th>\n",
       "      <th>Institute</th>\n",
       "    </tr>\n",
       "  </thead>\n",
       "  <tbody>\n",
       "    <tr>\n",
       "      <th>0</th>\n",
       "      <td>ISI</td>\n",
       "    </tr>\n",
       "    <tr>\n",
       "      <th>1</th>\n",
       "      <td>IIIT-D</td>\n",
       "    </tr>\n",
       "  </tbody>\n",
       "</table>\n",
       "</div>"
      ],
      "text/plain": [
       "  Institute\n",
       "0       ISI\n",
       "1    IIIT-D"
      ]
     },
     "execution_count": 57,
     "metadata": {},
     "output_type": "execute_result"
    }
   ],
   "source": [
    "pd.DataFrame(python_obj['Institute'],columns=['Institute'])"
   ]
  },
  {
   "cell_type": "code",
   "execution_count": 59,
   "id": "1eb1f319",
   "metadata": {},
   "outputs": [
    {
     "data": {
      "text/html": [
       "<div>\n",
       "<style scoped>\n",
       "    .dataframe tbody tr th:only-of-type {\n",
       "        vertical-align: middle;\n",
       "    }\n",
       "\n",
       "    .dataframe tbody tr th {\n",
       "        vertical-align: top;\n",
       "    }\n",
       "\n",
       "    .dataframe thead th {\n",
       "        text-align: right;\n",
       "    }\n",
       "</style>\n",
       "<table border=\"1\" class=\"dataframe\">\n",
       "  <thead>\n",
       "    <tr style=\"text-align: right;\">\n",
       "      <th></th>\n",
       "      <th>a</th>\n",
       "      <th>b</th>\n",
       "      <th>c</th>\n",
       "    </tr>\n",
       "  </thead>\n",
       "  <tbody>\n",
       "    <tr>\n",
       "      <th>0</th>\n",
       "      <td>1</td>\n",
       "      <td>2</td>\n",
       "      <td>3</td>\n",
       "    </tr>\n",
       "    <tr>\n",
       "      <th>1</th>\n",
       "      <td>4</td>\n",
       "      <td>5</td>\n",
       "      <td>6</td>\n",
       "    </tr>\n",
       "    <tr>\n",
       "      <th>2</th>\n",
       "      <td>7</td>\n",
       "      <td>8</td>\n",
       "      <td>9</td>\n",
       "    </tr>\n",
       "  </tbody>\n",
       "</table>\n",
       "</div>"
      ],
      "text/plain": [
       "   a  b  c\n",
       "0  1  2  3\n",
       "1  4  5  6\n",
       "2  7  8  9"
      ]
     },
     "execution_count": 59,
     "metadata": {},
     "output_type": "execute_result"
    }
   ],
   "source": [
    "data = pd.read_json(fold+'\\\\example.json')\n",
    "data"
   ]
  },
  {
   "cell_type": "code",
   "execution_count": 61,
   "id": "2f145a66",
   "metadata": {},
   "outputs": [],
   "source": [
    "data.to_json('sample.json')"
   ]
  },
  {
   "cell_type": "code",
   "execution_count": 62,
   "id": "d6611976",
   "metadata": {},
   "outputs": [
    {
     "data": {
      "text/html": [
       "<div>\n",
       "<style scoped>\n",
       "    .dataframe tbody tr th:only-of-type {\n",
       "        vertical-align: middle;\n",
       "    }\n",
       "\n",
       "    .dataframe tbody tr th {\n",
       "        vertical-align: top;\n",
       "    }\n",
       "\n",
       "    .dataframe thead th {\n",
       "        text-align: right;\n",
       "    }\n",
       "</style>\n",
       "<table border=\"1\" class=\"dataframe\">\n",
       "  <thead>\n",
       "    <tr style=\"text-align: right;\">\n",
       "      <th></th>\n",
       "      <th>a</th>\n",
       "      <th>b</th>\n",
       "      <th>c</th>\n",
       "    </tr>\n",
       "  </thead>\n",
       "  <tbody>\n",
       "    <tr>\n",
       "      <th>0</th>\n",
       "      <td>1</td>\n",
       "      <td>2</td>\n",
       "      <td>3</td>\n",
       "    </tr>\n",
       "    <tr>\n",
       "      <th>1</th>\n",
       "      <td>4</td>\n",
       "      <td>5</td>\n",
       "      <td>6</td>\n",
       "    </tr>\n",
       "    <tr>\n",
       "      <th>2</th>\n",
       "      <td>7</td>\n",
       "      <td>8</td>\n",
       "      <td>9</td>\n",
       "    </tr>\n",
       "  </tbody>\n",
       "</table>\n",
       "</div>"
      ],
      "text/plain": [
       "   a  b  c\n",
       "0  1  2  3\n",
       "1  4  5  6\n",
       "2  7  8  9"
      ]
     },
     "execution_count": 62,
     "metadata": {},
     "output_type": "execute_result"
    }
   ],
   "source": [
    "pd.read_json('sample.json')"
   ]
  },
  {
   "cell_type": "code",
   "execution_count": 64,
   "id": "23b37913",
   "metadata": {},
   "outputs": [
    {
     "name": "stdout",
     "output_type": "stream",
     "text": [
      "                       Bank NameBank           CityCity StateSt  CertCert  \\\n",
      "0                      Citizens Bank           Sac City      IA      8758   \n",
      "1           Heartland Tri-State Bank            Elkhart      KS     25851   \n",
      "2                First Republic Bank      San Francisco      CA     59017   \n",
      "3                     Signature Bank           New York      NY     57053   \n",
      "4                Silicon Valley Bank        Santa Clara      CA     24735   \n",
      "5                  Almena State Bank             Almena      KS     15426   \n",
      "6         First City Bank of Florida  Fort Walton Beach      FL     16748   \n",
      "7               The First State Bank      Barboursville      WV     14361   \n",
      "8                 Ericson State Bank            Ericson      NE     18265   \n",
      "9   City National Bank of New Jersey             Newark      NJ     21111   \n",
      "10                     Resolute Bank             Maumee      OH     58317   \n",
      "11             Louisa Community Bank             Louisa      KY     58112   \n",
      "\n",
      "                Acquiring InstitutionAI Closing DateClosing  FundFund  \n",
      "0             Iowa Trust & Savings Bank    November 3, 2023     10545  \n",
      "1                Dream First Bank, N.A.       July 28, 2023     10544  \n",
      "2             JPMorgan Chase Bank, N.A.         May 1, 2023     10543  \n",
      "3                   Flagstar Bank, N.A.      March 12, 2023     10540  \n",
      "4   First–Citizens Bank & Trust Company      March 10, 2023     10539  \n",
      "5                           Equity Bank    October 23, 2020     10538  \n",
      "6             United Fidelity Bank, fsb    October 16, 2020     10537  \n",
      "7                        MVB Bank, Inc.       April 3, 2020     10536  \n",
      "8            Farmers and Merchants Bank   February 14, 2020     10535  \n",
      "9                       Industrial Bank    November 1, 2019     10534  \n",
      "10                   Buckeye State Bank    October 25, 2019     10533  \n",
      "11    Kentucky Farmers Bank Corporation    October 25, 2019     10532  \n"
     ]
    }
   ],
   "source": [
    "tables=pd.read_html('table.html')\n",
    "print(tables[0])"
   ]
  },
  {
   "cell_type": "code",
   "execution_count": 68,
   "id": "1be979fc",
   "metadata": {},
   "outputs": [
    {
     "name": "stdout",
     "output_type": "stream",
     "text": [
      "2023    5\n",
      "2020    4\n",
      "2019    3\n",
      "Name: Closing DateClosing, dtype: int64\n"
     ]
    }
   ],
   "source": [
    "time=pd.to_datetime(tables[0]['Closing DateClosing'])\n",
    "print(time.dt.year.value_counts())"
   ]
  },
  {
   "cell_type": "code",
   "execution_count": 69,
   "id": "2cfdb3ba",
   "metadata": {},
   "outputs": [],
   "source": []
  },
  {
   "cell_type": "code",
   "execution_count": 74,
   "id": "08627f92",
   "metadata": {},
   "outputs": [
    {
     "data": {
      "text/html": [
       "<div>\n",
       "<style scoped>\n",
       "    .dataframe tbody tr th:only-of-type {\n",
       "        vertical-align: middle;\n",
       "    }\n",
       "\n",
       "    .dataframe tbody tr th {\n",
       "        vertical-align: top;\n",
       "    }\n",
       "\n",
       "    .dataframe thead th {\n",
       "        text-align: right;\n",
       "    }\n",
       "</style>\n",
       "<table border=\"1\" class=\"dataframe\">\n",
       "  <thead>\n",
       "    <tr style=\"text-align: right;\">\n",
       "      <th></th>\n",
       "      <th>AGENCY_NAME</th>\n",
       "      <th>INDICATOR_NAME</th>\n",
       "      <th>DESCRIPTION</th>\n",
       "      <th>PERIOD_YEAR</th>\n",
       "      <th>PERIOD_MONTH</th>\n",
       "      <th>CATEGORY</th>\n",
       "      <th>FREQUENCY</th>\n",
       "      <th>INDICATOR_UNIT</th>\n",
       "      <th>YTD_TARGET</th>\n",
       "      <th>YTD_ACTUAL</th>\n",
       "      <th>MONTHLY_TARGET</th>\n",
       "      <th>MONTHLY_ACTUAL</th>\n",
       "    </tr>\n",
       "  </thead>\n",
       "  <tbody>\n",
       "    <tr>\n",
       "      <th>0</th>\n",
       "      <td>Metro-North Railroad</td>\n",
       "      <td>Escalator Availability</td>\n",
       "      <td>Percent of the time that escalators are operat...</td>\n",
       "      <td>2011</td>\n",
       "      <td>12</td>\n",
       "      <td>Service Indicators</td>\n",
       "      <td>M</td>\n",
       "      <td>%</td>\n",
       "      <td>97.0</td>\n",
       "      <td></td>\n",
       "      <td>97.0</td>\n",
       "      <td></td>\n",
       "    </tr>\n",
       "  </tbody>\n",
       "</table>\n",
       "</div>"
      ],
      "text/plain": [
       "            AGENCY_NAME          INDICATOR_NAME  \\\n",
       "0  Metro-North Railroad  Escalator Availability   \n",
       "\n",
       "                                         DESCRIPTION  PERIOD_YEAR  \\\n",
       "0  Percent of the time that escalators are operat...         2011   \n",
       "\n",
       "   PERIOD_MONTH            CATEGORY FREQUENCY INDICATOR_UNIT  YTD_TARGET  \\\n",
       "0            12  Service Indicators         M              %        97.0   \n",
       "\n",
       "  YTD_ACTUAL  MONTHLY_TARGET MONTHLY_ACTUAL  \n",
       "0                       97.0                 "
      ]
     },
     "execution_count": 74,
     "metadata": {},
     "output_type": "execute_result"
    }
   ],
   "source": [
    "from lxml import objectify\n",
    "parsed=objectify.parse(open('Performance_MNR.xml'))\n",
    "root=parsed.getroot()\n",
    "xml_data=[]\n",
    "skip_fields=['PARENT_SEQ','INDICATOR_SEQ','DESIRED_CHANGE','DECIMAL_PLACES']\n",
    "for ele in root.INDICATOR:\n",
    "    data={}\n",
    "    for child in ele.getchildren():\n",
    "        if child.tag in skip_fields:\n",
    "            continue\n",
    "        else:\n",
    "            data[child.tag]=child.pyval\n",
    "    xml_data.append(data)\n",
    "df=pd.DataFrame(xml_data)\n",
    "df"
   ]
  },
  {
   "cell_type": "code",
   "execution_count": 79,
   "id": "25adb4f7",
   "metadata": {},
   "outputs": [
    {
     "name": "stdout",
     "output_type": "stream",
     "text": [
      "http://www.google.com\n",
      "Google\n"
     ]
    }
   ],
   "source": [
    "from io  import StringIO\n",
    "root=objectify.parse(StringIO('<a href=\"http://www.google.com\">Google</a>')).getroot()\n",
    "print(root.get(\"href\"))\n",
    "print(root.text)"
   ]
  },
  {
   "cell_type": "code",
   "execution_count": 80,
   "id": "812c2c04",
   "metadata": {},
   "outputs": [],
   "source": [
    "df.to_pickle('serialized_dataframe')"
   ]
  },
  {
   "cell_type": "code",
   "execution_count": 81,
   "id": "20a313de",
   "metadata": {},
   "outputs": [
    {
     "data": {
      "text/html": [
       "<div>\n",
       "<style scoped>\n",
       "    .dataframe tbody tr th:only-of-type {\n",
       "        vertical-align: middle;\n",
       "    }\n",
       "\n",
       "    .dataframe tbody tr th {\n",
       "        vertical-align: top;\n",
       "    }\n",
       "\n",
       "    .dataframe thead th {\n",
       "        text-align: right;\n",
       "    }\n",
       "</style>\n",
       "<table border=\"1\" class=\"dataframe\">\n",
       "  <thead>\n",
       "    <tr style=\"text-align: right;\">\n",
       "      <th></th>\n",
       "      <th>AGENCY_NAME</th>\n",
       "      <th>INDICATOR_NAME</th>\n",
       "      <th>DESCRIPTION</th>\n",
       "      <th>PERIOD_YEAR</th>\n",
       "      <th>PERIOD_MONTH</th>\n",
       "      <th>CATEGORY</th>\n",
       "      <th>FREQUENCY</th>\n",
       "      <th>INDICATOR_UNIT</th>\n",
       "      <th>YTD_TARGET</th>\n",
       "      <th>YTD_ACTUAL</th>\n",
       "      <th>MONTHLY_TARGET</th>\n",
       "      <th>MONTHLY_ACTUAL</th>\n",
       "    </tr>\n",
       "  </thead>\n",
       "  <tbody>\n",
       "    <tr>\n",
       "      <th>0</th>\n",
       "      <td>Metro-North Railroad</td>\n",
       "      <td>Escalator Availability</td>\n",
       "      <td>Percent of the time that escalators are operat...</td>\n",
       "      <td>2011</td>\n",
       "      <td>12</td>\n",
       "      <td>Service Indicators</td>\n",
       "      <td>M</td>\n",
       "      <td>%</td>\n",
       "      <td>97.0</td>\n",
       "      <td></td>\n",
       "      <td>97.0</td>\n",
       "      <td></td>\n",
       "    </tr>\n",
       "  </tbody>\n",
       "</table>\n",
       "</div>"
      ],
      "text/plain": [
       "            AGENCY_NAME          INDICATOR_NAME  \\\n",
       "0  Metro-North Railroad  Escalator Availability   \n",
       "\n",
       "                                         DESCRIPTION  PERIOD_YEAR  \\\n",
       "0  Percent of the time that escalators are operat...         2011   \n",
       "\n",
       "   PERIOD_MONTH            CATEGORY FREQUENCY INDICATOR_UNIT  YTD_TARGET  \\\n",
       "0            12  Service Indicators         M              %        97.0   \n",
       "\n",
       "  YTD_ACTUAL  MONTHLY_TARGET MONTHLY_ACTUAL  \n",
       "0                       97.0                 "
      ]
     },
     "execution_count": 81,
     "metadata": {},
     "output_type": "execute_result"
    }
   ],
   "source": [
    "pd.read_pickle('serialized_dataframe')"
   ]
  },
  {
   "cell_type": "code",
   "execution_count": 91,
   "id": "02f156a6",
   "metadata": {},
   "outputs": [
    {
     "name": "stdout",
     "output_type": "stream",
     "text": [
      "           a\n",
      "0  -0.505008\n",
      "1   0.364013\n",
      "2   0.461533\n",
      "3  -0.651221\n",
      "4  -0.251317\n",
      "..       ...\n",
      "95  0.342657\n",
      "96  1.926088\n",
      "97 -0.899588\n",
      "98 -0.970420\n",
      "99 -1.313902\n",
      "\n",
      "[100 rows x 1 columns]\n"
     ]
    }
   ],
   "source": [
    "import numpy as np\n",
    "frame = pd.DataFrame({'a': np.random.randn(100)})\n",
    "store = pd.HDFStore('mydata.h5')\n",
    "store['obj1'] = frame\n",
    "store['obj1_col'] = frame['a']\n",
    "print(store['obj1'])"
   ]
  },
  {
   "cell_type": "code",
   "execution_count": 92,
   "id": "d1793613",
   "metadata": {},
   "outputs": [
    {
     "data": {
      "text/html": [
       "<div>\n",
       "<style scoped>\n",
       "    .dataframe tbody tr th:only-of-type {\n",
       "        vertical-align: middle;\n",
       "    }\n",
       "\n",
       "    .dataframe tbody tr th {\n",
       "        vertical-align: top;\n",
       "    }\n",
       "\n",
       "    .dataframe thead th {\n",
       "        text-align: right;\n",
       "    }\n",
       "</style>\n",
       "<table border=\"1\" class=\"dataframe\">\n",
       "  <thead>\n",
       "    <tr style=\"text-align: right;\">\n",
       "      <th></th>\n",
       "      <th>a</th>\n",
       "    </tr>\n",
       "  </thead>\n",
       "  <tbody>\n",
       "    <tr>\n",
       "      <th>10</th>\n",
       "      <td>-0.669056</td>\n",
       "    </tr>\n",
       "    <tr>\n",
       "      <th>11</th>\n",
       "      <td>1.552245</td>\n",
       "    </tr>\n",
       "    <tr>\n",
       "      <th>12</th>\n",
       "      <td>-0.357852</td>\n",
       "    </tr>\n",
       "    <tr>\n",
       "      <th>13</th>\n",
       "      <td>1.814004</td>\n",
       "    </tr>\n",
       "    <tr>\n",
       "      <th>14</th>\n",
       "      <td>1.462315</td>\n",
       "    </tr>\n",
       "    <tr>\n",
       "      <th>15</th>\n",
       "      <td>0.585812</td>\n",
       "    </tr>\n",
       "  </tbody>\n",
       "</table>\n",
       "</div>"
      ],
      "text/plain": [
       "           a\n",
       "10 -0.669056\n",
       "11  1.552245\n",
       "12 -0.357852\n",
       "13  1.814004\n",
       "14  1.462315\n",
       "15  0.585812"
      ]
     },
     "execution_count": 92,
     "metadata": {},
     "output_type": "execute_result"
    }
   ],
   "source": [
    "store.put('obj2', frame, format='table')\n",
    "store.select('obj2', where=['index >= 10 and index <= 15'])"
   ]
  },
  {
   "cell_type": "code",
   "execution_count": 99,
   "id": "62ce16a2",
   "metadata": {},
   "outputs": [
    {
     "data": {
      "text/plain": [
       "[('/obj1',\n",
       "  /obj1 (Group) ''\n",
       "    children := ['axis0' (Array), 'axis1' (Array), 'block0_values' (Array), 'block0_items' (Array)]),\n",
       " ('/obj1_col',\n",
       "  /obj1_col (Group) ''\n",
       "    children := ['index' (Array), 'values' (Array)]),\n",
       " ('/obj2',\n",
       "  /obj2 (Group) ''\n",
       "    children := ['table' (Table)]),\n",
       " ('/obj3',\n",
       "  /obj3 (Group) ''\n",
       "    children := ['table' (Table)])]"
      ]
     },
     "execution_count": 99,
     "metadata": {},
     "output_type": "execute_result"
    }
   ],
   "source": [
    "list(store.items())"
   ]
  },
  {
   "cell_type": "code",
   "execution_count": 103,
   "id": "3cee0fd7",
   "metadata": {},
   "outputs": [],
   "source": [
    "#store.close()\n",
    "frame.to_hdf('mydata.h5', 'obj3', format='table')\n"
   ]
  },
  {
   "cell_type": "code",
   "execution_count": 113,
   "id": "a572c3e5",
   "metadata": {},
   "outputs": [
    {
     "data": {
      "text/html": [
       "<div>\n",
       "<style scoped>\n",
       "    .dataframe tbody tr th:only-of-type {\n",
       "        vertical-align: middle;\n",
       "    }\n",
       "\n",
       "    .dataframe tbody tr th {\n",
       "        vertical-align: top;\n",
       "    }\n",
       "\n",
       "    .dataframe thead th {\n",
       "        text-align: right;\n",
       "    }\n",
       "</style>\n",
       "<table border=\"1\" class=\"dataframe\">\n",
       "  <thead>\n",
       "    <tr style=\"text-align: right;\">\n",
       "      <th></th>\n",
       "      <th>Unnamed: 0</th>\n",
       "      <th>a</th>\n",
       "      <th>b</th>\n",
       "      <th>c</th>\n",
       "      <th>d</th>\n",
       "      <th>message</th>\n",
       "    </tr>\n",
       "  </thead>\n",
       "  <tbody>\n",
       "    <tr>\n",
       "      <th>0</th>\n",
       "      <td>0</td>\n",
       "      <td>1</td>\n",
       "      <td>2</td>\n",
       "      <td>3</td>\n",
       "      <td>4</td>\n",
       "      <td>hello</td>\n",
       "    </tr>\n",
       "    <tr>\n",
       "      <th>1</th>\n",
       "      <td>1</td>\n",
       "      <td>5</td>\n",
       "      <td>6</td>\n",
       "      <td>7</td>\n",
       "      <td>8</td>\n",
       "      <td>world</td>\n",
       "    </tr>\n",
       "    <tr>\n",
       "      <th>2</th>\n",
       "      <td>2</td>\n",
       "      <td>9</td>\n",
       "      <td>10</td>\n",
       "      <td>11</td>\n",
       "      <td>12</td>\n",
       "      <td>foo</td>\n",
       "    </tr>\n",
       "  </tbody>\n",
       "</table>\n",
       "</div>"
      ],
      "text/plain": [
       "   Unnamed: 0  a   b   c   d message\n",
       "0           0  1   2   3   4   hello\n",
       "1           1  5   6   7   8   world\n",
       "2           2  9  10  11  12     foo"
      ]
     },
     "execution_count": 113,
     "metadata": {},
     "output_type": "execute_result"
    }
   ],
   "source": [
    "xlsx=pd.ExcelFile(fold+'\\\\ex1.xlsx')\n",
    "pd.read_excel(xlsx,sheet_name='Sheet1')"
   ]
  },
  {
   "cell_type": "code",
   "execution_count": 122,
   "id": "3f206cf8",
   "metadata": {},
   "outputs": [
    {
     "name": "stderr",
     "output_type": "stream",
     "text": [
      "C:\\Users\\ankit19.gupta\\AppData\\Local\\Temp\\ipykernel_13492\\3608403225.py:4: FutureWarning: save is not part of the public API, usage can give unexpected results and will be removed in a future version\n",
      "  writer.save()\n"
     ]
    }
   ],
   "source": [
    "writer=pd.ExcelWriter(fold+'\\\\ex1.xlsx')\n",
    "frame=pd.DataFrame(np.random.randn(5),columns=['Random Numbers'])\n",
    "frame.to_excel(writer,sheet_name='Sheet2')\n",
    "writer.save()"
   ]
  },
  {
   "cell_type": "code",
   "execution_count": 139,
   "id": "2ecd0f34",
   "metadata": {},
   "outputs": [
    {
     "name": "stdout",
     "output_type": "stream",
     "text": [
      "<Response [200]>\n"
     ]
    }
   ],
   "source": [
    "import requests\n",
    "response=requests.get('http://ergast.com/api/f1/2004/1/results.json')\n",
    "print(response)"
   ]
  },
  {
   "cell_type": "code",
   "execution_count": 148,
   "id": "534106d9",
   "metadata": {},
   "outputs": [
    {
     "name": "stdout",
     "output_type": "stream",
     "text": [
      "http://ergast.com/mrd/1.5\n"
     ]
    }
   ],
   "source": [
    "data=response.json()\n",
    "print(data['MRData']['xmlns'])"
   ]
  },
  {
   "cell_type": "code",
   "execution_count": 153,
   "id": "48c5b51e",
   "metadata": {},
   "outputs": [
    {
     "data": {
      "text/plain": [
       "{'season': '2004',\n",
       " 'round': '1',\n",
       " 'Races': [{'season': '2004',\n",
       "   'round': '1',\n",
       "   'url': 'http://en.wikipedia.org/wiki/2004_Australian_Grand_Prix',\n",
       "   'raceName': 'Australian Grand Prix',\n",
       "   'Circuit': {'circuitId': 'albert_park',\n",
       "    'url': 'http://en.wikipedia.org/wiki/Melbourne_Grand_Prix_Circuit',\n",
       "    'circuitName': 'Albert Park Grand Prix Circuit',\n",
       "    'Location': {'lat': '-37.8497',\n",
       "     'long': '144.968',\n",
       "     'locality': 'Melbourne',\n",
       "     'country': 'Australia'}},\n",
       "   'date': '2004-03-07',\n",
       "   'Results': [{'number': '1',\n",
       "     'position': '1',\n",
       "     'positionText': '1',\n",
       "     'points': '10',\n",
       "     'Driver': {'driverId': 'michael_schumacher',\n",
       "      'code': 'MSC',\n",
       "      'url': 'http://en.wikipedia.org/wiki/Michael_Schumacher',\n",
       "      'givenName': 'Michael',\n",
       "      'familyName': 'Schumacher',\n",
       "      'dateOfBirth': '1969-01-03',\n",
       "      'nationality': 'German'},\n",
       "     'Constructor': {'constructorId': 'ferrari',\n",
       "      'url': 'http://en.wikipedia.org/wiki/Scuderia_Ferrari',\n",
       "      'name': 'Ferrari',\n",
       "      'nationality': 'Italian'},\n",
       "     'grid': '1',\n",
       "     'laps': '58',\n",
       "     'status': 'Finished',\n",
       "     'Time': {'millis': '5055757', 'time': '1:24:15.757'},\n",
       "     'FastestLap': {'rank': '1',\n",
       "      'lap': '29',\n",
       "      'Time': {'time': '1:24.125'},\n",
       "      'AverageSpeed': {'units': 'kph', 'speed': '226.933'}}},\n",
       "    {'number': '2',\n",
       "     'position': '2',\n",
       "     'positionText': '2',\n",
       "     'points': '8',\n",
       "     'Driver': {'driverId': 'barrichello',\n",
       "      'code': 'BAR',\n",
       "      'url': 'http://en.wikipedia.org/wiki/Rubens_Barrichello',\n",
       "      'givenName': 'Rubens',\n",
       "      'familyName': 'Barrichello',\n",
       "      'dateOfBirth': '1972-05-23',\n",
       "      'nationality': 'Brazilian'},\n",
       "     'Constructor': {'constructorId': 'ferrari',\n",
       "      'url': 'http://en.wikipedia.org/wiki/Scuderia_Ferrari',\n",
       "      'name': 'Ferrari',\n",
       "      'nationality': 'Italian'},\n",
       "     'grid': '2',\n",
       "     'laps': '58',\n",
       "     'status': 'Finished',\n",
       "     'Time': {'millis': '5069362', 'time': '+13.605'},\n",
       "     'FastestLap': {'rank': '2',\n",
       "      'lap': '8',\n",
       "      'Time': {'time': '1:24.179'},\n",
       "      'AverageSpeed': {'units': 'kph', 'speed': '226.788'}}},\n",
       "    {'number': '8',\n",
       "     'position': '3',\n",
       "     'positionText': '3',\n",
       "     'points': '6',\n",
       "     'Driver': {'driverId': 'alonso',\n",
       "      'permanentNumber': '14',\n",
       "      'code': 'ALO',\n",
       "      'url': 'http://en.wikipedia.org/wiki/Fernando_Alonso',\n",
       "      'givenName': 'Fernando',\n",
       "      'familyName': 'Alonso',\n",
       "      'dateOfBirth': '1981-07-29',\n",
       "      'nationality': 'Spanish'},\n",
       "     'Constructor': {'constructorId': 'renault',\n",
       "      'url': 'http://en.wikipedia.org/wiki/Renault_in_Formula_One',\n",
       "      'name': 'Renault',\n",
       "      'nationality': 'French'},\n",
       "     'grid': '5',\n",
       "     'laps': '58',\n",
       "     'status': 'Finished',\n",
       "     'Time': {'millis': '5090430', 'time': '+34.673'},\n",
       "     'FastestLap': {'rank': '3',\n",
       "      'lap': '10',\n",
       "      'Time': {'time': '1:25.088'},\n",
       "      'AverageSpeed': {'units': 'kph', 'speed': '224.365'}}},\n",
       "    {'number': '4',\n",
       "     'position': '4',\n",
       "     'positionText': '4',\n",
       "     'points': '5',\n",
       "     'Driver': {'driverId': 'ralf_schumacher',\n",
       "      'code': 'SCH',\n",
       "      'url': 'http://en.wikipedia.org/wiki/Ralf_Schumacher',\n",
       "      'givenName': 'Ralf',\n",
       "      'familyName': 'Schumacher',\n",
       "      'dateOfBirth': '1975-06-30',\n",
       "      'nationality': 'German'},\n",
       "     'Constructor': {'constructorId': 'williams',\n",
       "      'url': 'http://en.wikipedia.org/wiki/Williams_Grand_Prix_Engineering',\n",
       "      'name': 'Williams',\n",
       "      'nationality': 'British'},\n",
       "     'grid': '8',\n",
       "     'laps': '58',\n",
       "     'status': 'Finished',\n",
       "     'Time': {'millis': '5116180', 'time': '+1:00.423'},\n",
       "     'FastestLap': {'rank': '5',\n",
       "      'lap': '11',\n",
       "      'Time': {'time': '1:25.824'},\n",
       "      'AverageSpeed': {'units': 'kph', 'speed': '222.441'}}},\n",
       "    {'number': '3',\n",
       "     'position': '5',\n",
       "     'positionText': '5',\n",
       "     'points': '4',\n",
       "     'Driver': {'driverId': 'montoya',\n",
       "      'code': 'MON',\n",
       "      'url': 'http://en.wikipedia.org/wiki/Juan_Pablo_Montoya',\n",
       "      'givenName': 'Juan',\n",
       "      'familyName': 'Pablo Montoya',\n",
       "      'dateOfBirth': '1975-09-20',\n",
       "      'nationality': 'Colombian'},\n",
       "     'Constructor': {'constructorId': 'williams',\n",
       "      'url': 'http://en.wikipedia.org/wiki/Williams_Grand_Prix_Engineering',\n",
       "      'name': 'Williams',\n",
       "      'nationality': 'British'},\n",
       "     'grid': '3',\n",
       "     'laps': '58',\n",
       "     'status': 'Finished',\n",
       "     'Time': {'millis': '5124293', 'time': '+1:08.536'},\n",
       "     'FastestLap': {'rank': '4',\n",
       "      'lap': '42',\n",
       "      'Time': {'time': '1:25.286'},\n",
       "      'AverageSpeed': {'units': 'kph', 'speed': '223.844'}}},\n",
       "    {'number': '9',\n",
       "     'position': '6',\n",
       "     'positionText': '6',\n",
       "     'points': '3',\n",
       "     'Driver': {'driverId': 'button',\n",
       "      'permanentNumber': '22',\n",
       "      'code': 'BUT',\n",
       "      'url': 'http://en.wikipedia.org/wiki/Jenson_Button',\n",
       "      'givenName': 'Jenson',\n",
       "      'familyName': 'Button',\n",
       "      'dateOfBirth': '1980-01-19',\n",
       "      'nationality': 'British'},\n",
       "     'Constructor': {'constructorId': 'bar',\n",
       "      'url': 'http://en.wikipedia.org/wiki/British_American_Racing',\n",
       "      'name': 'BAR',\n",
       "      'nationality': 'British'},\n",
       "     'grid': '4',\n",
       "     'laps': '58',\n",
       "     'status': 'Finished',\n",
       "     'Time': {'millis': '5126355', 'time': '+1:10.598'},\n",
       "     'FastestLap': {'rank': '7',\n",
       "      'lap': '24',\n",
       "      'Time': {'time': '1:25.982'},\n",
       "      'AverageSpeed': {'units': 'kph', 'speed': '222.032'}}},\n",
       "    {'number': '7',\n",
       "     'position': '7',\n",
       "     'positionText': '7',\n",
       "     'points': '2',\n",
       "     'Driver': {'driverId': 'trulli',\n",
       "      'code': 'TRU',\n",
       "      'url': 'http://en.wikipedia.org/wiki/Jarno_Trulli',\n",
       "      'givenName': 'Jarno',\n",
       "      'familyName': 'Trulli',\n",
       "      'dateOfBirth': '1974-07-13',\n",
       "      'nationality': 'Italian'},\n",
       "     'Constructor': {'constructorId': 'renault',\n",
       "      'url': 'http://en.wikipedia.org/wiki/Renault_in_Formula_One',\n",
       "      'name': 'Renault',\n",
       "      'nationality': 'French'},\n",
       "     'grid': '9',\n",
       "     'laps': '57',\n",
       "     'status': '+1 Lap',\n",
       "     'FastestLap': {'rank': '9',\n",
       "      'lap': '9',\n",
       "      'Time': {'time': '1:26.275'},\n",
       "      'AverageSpeed': {'units': 'kph', 'speed': '221.278'}}},\n",
       "    {'number': '5',\n",
       "     'position': '8',\n",
       "     'positionText': '8',\n",
       "     'points': '1',\n",
       "     'Driver': {'driverId': 'coulthard',\n",
       "      'code': 'COU',\n",
       "      'url': 'http://en.wikipedia.org/wiki/David_Coulthard',\n",
       "      'givenName': 'David',\n",
       "      'familyName': 'Coulthard',\n",
       "      'dateOfBirth': '1971-03-27',\n",
       "      'nationality': 'British'},\n",
       "     'Constructor': {'constructorId': 'mclaren',\n",
       "      'url': 'http://en.wikipedia.org/wiki/McLaren',\n",
       "      'name': 'McLaren',\n",
       "      'nationality': 'British'},\n",
       "     'grid': '12',\n",
       "     'laps': '57',\n",
       "     'status': '+1 Lap',\n",
       "     'FastestLap': {'rank': '11',\n",
       "      'lap': '13',\n",
       "      'Time': {'time': '1:26.328'},\n",
       "      'AverageSpeed': {'units': 'kph', 'speed': '221.142'}}},\n",
       "    {'number': '10',\n",
       "     'position': '9',\n",
       "     'positionText': '9',\n",
       "     'points': '0',\n",
       "     'Driver': {'driverId': 'sato',\n",
       "      'code': 'SAT',\n",
       "      'url': 'http://en.wikipedia.org/wiki/Takuma_Sato',\n",
       "      'givenName': 'Takuma',\n",
       "      'familyName': 'Sato',\n",
       "      'dateOfBirth': '1977-01-28',\n",
       "      'nationality': 'Japanese'},\n",
       "     'Constructor': {'constructorId': 'bar',\n",
       "      'url': 'http://en.wikipedia.org/wiki/British_American_Racing',\n",
       "      'name': 'BAR',\n",
       "      'nationality': 'British'},\n",
       "     'grid': '7',\n",
       "     'laps': '57',\n",
       "     'status': '+1 Lap',\n",
       "     'FastestLap': {'rank': '8',\n",
       "      'lap': '43',\n",
       "      'Time': {'time': '1:26.077'},\n",
       "      'AverageSpeed': {'units': 'kph', 'speed': '221.787'}}},\n",
       "    {'number': '11',\n",
       "     'position': '10',\n",
       "     'positionText': '10',\n",
       "     'points': '0',\n",
       "     'Driver': {'driverId': 'fisichella',\n",
       "      'code': 'FIS',\n",
       "      'url': 'http://en.wikipedia.org/wiki/Giancarlo_Fisichella',\n",
       "      'givenName': 'Giancarlo',\n",
       "      'familyName': 'Fisichella',\n",
       "      'dateOfBirth': '1973-01-14',\n",
       "      'nationality': 'Italian'},\n",
       "     'Constructor': {'constructorId': 'sauber',\n",
       "      'url': 'http://en.wikipedia.org/wiki/Sauber_Motorsport',\n",
       "      'name': 'Sauber',\n",
       "      'nationality': 'Swiss'},\n",
       "     'grid': '14',\n",
       "     'laps': '57',\n",
       "     'status': '+1 Lap',\n",
       "     'FastestLap': {'rank': '10',\n",
       "      'lap': '39',\n",
       "      'Time': {'time': '1:26.282'},\n",
       "      'AverageSpeed': {'units': 'kph', 'speed': '221.260'}}},\n",
       "    {'number': '15',\n",
       "     'position': '11',\n",
       "     'positionText': '11',\n",
       "     'points': '0',\n",
       "     'Driver': {'driverId': 'klien',\n",
       "      'code': 'KLI',\n",
       "      'url': 'http://en.wikipedia.org/wiki/Christian_Klien',\n",
       "      'givenName': 'Christian',\n",
       "      'familyName': 'Klien',\n",
       "      'dateOfBirth': '1983-02-07',\n",
       "      'nationality': 'Austrian'},\n",
       "     'Constructor': {'constructorId': 'jaguar',\n",
       "      'url': 'http://en.wikipedia.org/wiki/Jaguar_Racing',\n",
       "      'name': 'Jaguar',\n",
       "      'nationality': 'British'},\n",
       "     'grid': '19',\n",
       "     'laps': '56',\n",
       "     'status': '+2 Laps',\n",
       "     'FastestLap': {'rank': '16',\n",
       "      'lap': '6',\n",
       "      'Time': {'time': '1:27.840'},\n",
       "      'AverageSpeed': {'units': 'kph', 'speed': '217.336'}}},\n",
       "    {'number': '16',\n",
       "     'position': '12',\n",
       "     'positionText': '12',\n",
       "     'points': '0',\n",
       "     'Driver': {'driverId': 'matta',\n",
       "      'url': 'http://en.wikipedia.org/wiki/Cristiano_da_Matta',\n",
       "      'givenName': 'Cristiano',\n",
       "      'familyName': 'da Matta',\n",
       "      'dateOfBirth': '1973-09-19',\n",
       "      'nationality': 'Brazilian'},\n",
       "     'Constructor': {'constructorId': 'toyota',\n",
       "      'url': 'http://en.wikipedia.org/wiki/Toyota_Racing',\n",
       "      'name': 'Toyota',\n",
       "      'nationality': 'Japanese'},\n",
       "     'grid': '13',\n",
       "     'laps': '56',\n",
       "     'status': '+2 Laps',\n",
       "     'FastestLap': {'rank': '15',\n",
       "      'lap': '41',\n",
       "      'Time': {'time': '1:27.820'},\n",
       "      'AverageSpeed': {'units': 'kph', 'speed': '217.385'}}},\n",
       "    {'number': '17',\n",
       "     'position': '13',\n",
       "     'positionText': '13',\n",
       "     'points': '0',\n",
       "     'Driver': {'driverId': 'panis',\n",
       "      'url': 'http://en.wikipedia.org/wiki/Olivier_Panis',\n",
       "      'givenName': 'Olivier',\n",
       "      'familyName': 'Panis',\n",
       "      'dateOfBirth': '1966-09-02',\n",
       "      'nationality': 'French'},\n",
       "     'Constructor': {'constructorId': 'toyota',\n",
       "      'url': 'http://en.wikipedia.org/wiki/Toyota_Racing',\n",
       "      'name': 'Toyota',\n",
       "      'nationality': 'Japanese'},\n",
       "     'grid': '18',\n",
       "     'laps': '56',\n",
       "     'status': '+2 Laps',\n",
       "     'FastestLap': {'rank': '14',\n",
       "      'lap': '35',\n",
       "      'Time': {'time': '1:27.807'},\n",
       "      'AverageSpeed': {'units': 'kph', 'speed': '217.417'}}},\n",
       "    {'number': '19',\n",
       "     'position': '14',\n",
       "     'positionText': '14',\n",
       "     'points': '0',\n",
       "     'Driver': {'driverId': 'pantano',\n",
       "      'url': 'http://en.wikipedia.org/wiki/Giorgio_Pantano',\n",
       "      'givenName': 'Giorgio',\n",
       "      'familyName': 'Pantano',\n",
       "      'dateOfBirth': '1979-02-04',\n",
       "      'nationality': 'Italian'},\n",
       "     'Constructor': {'constructorId': 'jordan',\n",
       "      'url': 'http://en.wikipedia.org/wiki/Jordan_Grand_Prix',\n",
       "      'name': 'Jordan',\n",
       "      'nationality': 'Irish'},\n",
       "     'grid': '16',\n",
       "     'laps': '55',\n",
       "     'status': '+3 Laps',\n",
       "     'FastestLap': {'rank': '18',\n",
       "      'lap': '15',\n",
       "      'Time': {'time': '1:28.523'},\n",
       "      'AverageSpeed': {'units': 'kph', 'speed': '215.659'}}},\n",
       "    {'number': '12',\n",
       "     'position': '15',\n",
       "     'positionText': 'R',\n",
       "     'points': '0',\n",
       "     'Driver': {'driverId': 'massa',\n",
       "      'permanentNumber': '19',\n",
       "      'code': 'MAS',\n",
       "      'url': 'http://en.wikipedia.org/wiki/Felipe_Massa',\n",
       "      'givenName': 'Felipe',\n",
       "      'familyName': 'Massa',\n",
       "      'dateOfBirth': '1981-04-25',\n",
       "      'nationality': 'Brazilian'},\n",
       "     'Constructor': {'constructorId': 'sauber',\n",
       "      'url': 'http://en.wikipedia.org/wiki/Sauber_Motorsport',\n",
       "      'name': 'Sauber',\n",
       "      'nationality': 'Swiss'},\n",
       "     'grid': '11',\n",
       "     'laps': '44',\n",
       "     'status': 'Engine',\n",
       "     'FastestLap': {'rank': '12',\n",
       "      'lap': '11',\n",
       "      'Time': {'time': '1:26.846'},\n",
       "      'AverageSpeed': {'units': 'kph', 'speed': '219.823'}}},\n",
       "    {'number': '18',\n",
       "     'position': '16',\n",
       "     'positionText': 'R',\n",
       "     'points': '0',\n",
       "     'Driver': {'driverId': 'heidfeld',\n",
       "      'code': 'HEI',\n",
       "      'url': 'http://en.wikipedia.org/wiki/Nick_Heidfeld',\n",
       "      'givenName': 'Nick',\n",
       "      'familyName': 'Heidfeld',\n",
       "      'dateOfBirth': '1977-05-10',\n",
       "      'nationality': 'German'},\n",
       "     'Constructor': {'constructorId': 'jordan',\n",
       "      'url': 'http://en.wikipedia.org/wiki/Jordan_Grand_Prix',\n",
       "      'name': 'Jordan',\n",
       "      'nationality': 'Irish'},\n",
       "     'grid': '15',\n",
       "     'laps': '43',\n",
       "     'status': 'Transmission',\n",
       "     'FastestLap': {'rank': '13',\n",
       "      'lap': '27',\n",
       "      'Time': {'time': '1:27.503'},\n",
       "      'AverageSpeed': {'units': 'kph', 'speed': '218.173'}}},\n",
       "    {'number': '20',\n",
       "     'position': '17',\n",
       "     'positionText': 'N',\n",
       "     'points': '0',\n",
       "     'Driver': {'driverId': 'bruni',\n",
       "      'url': 'http://en.wikipedia.org/wiki/Gianmaria_Bruni',\n",
       "      'givenName': 'Gianmaria',\n",
       "      'familyName': 'Bruni',\n",
       "      'dateOfBirth': '1981-05-30',\n",
       "      'nationality': 'Italian'},\n",
       "     'Constructor': {'constructorId': 'minardi',\n",
       "      'url': 'http://en.wikipedia.org/wiki/Minardi',\n",
       "      'name': 'Minardi',\n",
       "      'nationality': 'Italian'},\n",
       "     'grid': '20',\n",
       "     'laps': '43',\n",
       "     'status': 'Not classified',\n",
       "     'FastestLap': {'rank': '19',\n",
       "      'lap': '10',\n",
       "      'Time': {'time': '1:30.161'},\n",
       "      'AverageSpeed': {'units': 'kph', 'speed': '211.741'}}},\n",
       "    {'number': '14',\n",
       "     'position': '18',\n",
       "     'positionText': 'R',\n",
       "     'points': '0',\n",
       "     'Driver': {'driverId': 'webber',\n",
       "      'code': 'WEB',\n",
       "      'url': 'http://en.wikipedia.org/wiki/Mark_Webber_(racing_driver)',\n",
       "      'givenName': 'Mark',\n",
       "      'familyName': 'Webber',\n",
       "      'dateOfBirth': '1976-08-27',\n",
       "      'nationality': 'Australian'},\n",
       "     'Constructor': {'constructorId': 'jaguar',\n",
       "      'url': 'http://en.wikipedia.org/wiki/Jaguar_Racing',\n",
       "      'name': 'Jaguar',\n",
       "      'nationality': 'British'},\n",
       "     'grid': '6',\n",
       "     'laps': '29',\n",
       "     'status': 'Transmission',\n",
       "     'FastestLap': {'rank': '6',\n",
       "      'lap': '15',\n",
       "      'Time': {'time': '1:25.952'},\n",
       "      'AverageSpeed': {'units': 'kph', 'speed': '222.110'}}},\n",
       "    {'number': '21',\n",
       "     'position': '19',\n",
       "     'positionText': 'R',\n",
       "     'points': '0',\n",
       "     'Driver': {'driverId': 'baumgartner',\n",
       "      'url': 'http://en.wikipedia.org/wiki/Zsolt_Baumgartner',\n",
       "      'givenName': 'Zsolt',\n",
       "      'familyName': 'Baumgartner',\n",
       "      'dateOfBirth': '1981-01-01',\n",
       "      'nationality': 'Hungarian'},\n",
       "     'Constructor': {'constructorId': 'minardi',\n",
       "      'url': 'http://en.wikipedia.org/wiki/Minardi',\n",
       "      'name': 'Minardi',\n",
       "      'nationality': 'Italian'},\n",
       "     'grid': '17',\n",
       "     'laps': '13',\n",
       "     'status': 'Electrical',\n",
       "     'FastestLap': {'rank': '20',\n",
       "      'lap': '8',\n",
       "      'Time': {'time': '1:30.621'},\n",
       "      'AverageSpeed': {'units': 'kph', 'speed': '210.666'}}},\n",
       "    {'number': '6',\n",
       "     'position': '20',\n",
       "     'positionText': 'R',\n",
       "     'points': '0',\n",
       "     'Driver': {'driverId': 'raikkonen',\n",
       "      'permanentNumber': '7',\n",
       "      'code': 'RAI',\n",
       "      'url': 'http://en.wikipedia.org/wiki/Kimi_R%C3%A4ikk%C3%B6nen',\n",
       "      'givenName': 'Kimi',\n",
       "      'familyName': 'Räikkönen',\n",
       "      'dateOfBirth': '1979-10-17',\n",
       "      'nationality': 'Finnish'},\n",
       "     'Constructor': {'constructorId': 'mclaren',\n",
       "      'url': 'http://en.wikipedia.org/wiki/McLaren',\n",
       "      'name': 'McLaren',\n",
       "      'nationality': 'British'},\n",
       "     'grid': '10',\n",
       "     'laps': '9',\n",
       "     'status': 'Engine',\n",
       "     'FastestLap': {'rank': '17',\n",
       "      'lap': '7',\n",
       "      'Time': {'time': '1:27.936'},\n",
       "      'AverageSpeed': {'units': 'kph', 'speed': '217.098'}}}]}]}"
      ]
     },
     "execution_count": 153,
     "metadata": {},
     "output_type": "execute_result"
    }
   ],
   "source": [
    "pd.DataFrame(data).loc['RaceTable']['MRData']"
   ]
  },
  {
   "cell_type": "code",
   "execution_count": 8,
   "id": "4562bb04",
   "metadata": {},
   "outputs": [
    {
     "name": "stdout",
     "output_type": "stream",
     "text": [
      "a    ankit\n",
      "b     kiio\n",
      "c      NaN\n",
      "d    summi\n",
      "dtype: object\n"
     ]
    }
   ],
   "source": [
    "import pandas as pd \n",
    "import numpy as np\n",
    "ser=pd.Series(('ankit','kiio',np.nan,'summi'),index=['a','b','c','d'])\n",
    "print(ser)"
   ]
  },
  {
   "cell_type": "code",
   "execution_count": 15,
   "id": "8901cbbe",
   "metadata": {},
   "outputs": [
    {
     "name": "stdout",
     "output_type": "stream",
     "text": [
      "a    False\n",
      "b    False\n",
      "c     True\n",
      "d    False\n",
      "dtype: bool\n",
      "a    False\n",
      "b    False\n",
      "c     True\n",
      "d    False\n",
      "dtype: bool\n",
      "1\n"
     ]
    }
   ],
   "source": [
    "print(ser.isnull())\n",
    "print(ser.isna())\n",
    "print(ser.isnull().sum())"
   ]
  },
  {
   "cell_type": "code",
   "execution_count": 19,
   "id": "63f6d047",
   "metadata": {},
   "outputs": [
    {
     "name": "stdout",
     "output_type": "stream",
     "text": [
      "a    ankit\n",
      "b     kiio\n",
      "d    summi\n",
      "dtype: object\n",
      "a    ankit\n",
      "b     kiio\n",
      "d    summi\n",
      "dtype: object\n"
     ]
    }
   ],
   "source": [
    "print(ser.dropna(axis=0))\n",
    "print(ser[ser.notnull()])"
   ]
  },
  {
   "cell_type": "code",
   "execution_count": 42,
   "id": "ed68ba65",
   "metadata": {},
   "outputs": [
    {
     "name": "stdout",
     "output_type": "stream",
     "text": [
      "    Name  Marks Institute\n",
      "a  ankit    NaN       ISI\n",
      "b  soumi  100.0       NaN\n",
      "c  summi  100.0      ECIL\n",
      "d    NaN    NaN       NaN\n",
      "e   kiio  100.0    IIIT-D\n",
      "    Name  Marks Institute\n",
      "a  ankit    NaN       ISI\n",
      "b  soumi  100.0       NaN\n",
      "c  summi  100.0      ECIL\n",
      "e   kiio  100.0    IIIT-D\n",
      "    Name  Marks Institute\n",
      "c  summi  100.0      ECIL\n",
      "e   kiio  100.0    IIIT-D\n"
     ]
    }
   ],
   "source": [
    "df=pd.DataFrame([['ankit',np.nan,'ISI'],['soumi',100,np.nan],['summi',100,'ECIL'],[np.nan,np.nan,np.nan],['kiio',100,'IIIT-D']],columns=['Name','Marks','Institute'],index=['a','b','c','d','e'])\n",
    "print(df)\n",
    "print(df.dropna(how='all',axis=0)) # drop all rows with null\n",
    "print(df.dropna(thresh=3)) # rows with atleast 3 np.nan values"
   ]
  },
  {
   "cell_type": "code",
   "execution_count": 49,
   "id": "d4bb8259",
   "metadata": {},
   "outputs": [
    {
     "name": "stdout",
     "output_type": "stream",
     "text": [
      "    Name  Marks Institute\n",
      "a  ankit    1.0       ISI\n",
      "b  soumi  100.0         1\n",
      "c  summi  100.0      ECIL\n",
      "d      1    1.0         1\n",
      "e   kiio  100.0    IIIT-D\n",
      "       Name  Marks Institute\n",
      "a     ankit    2.1       ISI\n",
      "b     soumi  100.0       NaN\n",
      "c     summi  100.0      ECIL\n",
      "d  samiksha    2.1       NaN\n",
      "e      kiio  100.0    IIIT-D\n",
      "    Name  Marks Institute\n",
      "a  ankit    NaN       ISI\n",
      "b  soumi  100.0       ISI\n",
      "c  summi  100.0      ECIL\n",
      "d  summi  100.0      ECIL\n",
      "e   kiio  100.0    IIIT-D\n",
      "    Name  Marks Institute\n",
      "a  ankit  100.0       ISI\n",
      "b  soumi  100.0       NaN\n",
      "c  summi  100.0      ECIL\n",
      "d    NaN  100.0       NaN\n",
      "e   kiio  100.0    IIIT-D\n"
     ]
    }
   ],
   "source": [
    "print(df.fillna(1))\n",
    "#print(df.fillna({'Marks':2.1,'Name':'samiksha'},inplace=True))\n",
    "print(df.fillna({'Marks':2.1,'Name':'samiksha'}))\n",
    "print(df.fillna(method='ffill',limit=1))\n",
    "print(df.fillna({'Marks':df['Marks'].mean()}))"
   ]
  },
  {
   "cell_type": "code",
   "execution_count": 53,
   "id": "8a09f365",
   "metadata": {},
   "outputs": [
    {
     "name": "stdout",
     "output_type": "stream",
     "text": [
      "    k1  k2\n",
      "0  one   1\n",
      "1  two   1\n",
      "2  one   2\n",
      "3  two   3\n",
      "4  one   3\n",
      "5  two   4\n",
      "6  two   4\n",
      "0    False\n",
      "1    False\n",
      "2    False\n",
      "3    False\n",
      "4    False\n",
      "5    False\n",
      "6     True\n",
      "dtype: bool\n",
      "    k1  k2\n",
      "0  one   1\n",
      "1  two   1\n",
      "2  one   2\n",
      "3  two   3\n",
      "4  one   3\n",
      "5  two   4\n",
      "    k1  k2\n",
      "0  one   1\n",
      "1  two   1\n",
      "    k1  k2\n",
      "0  one   1\n",
      "1  two   1\n",
      "2  one   2\n",
      "3  two   3\n",
      "4  one   3\n",
      "6  two   4\n"
     ]
    }
   ],
   "source": [
    "data = pd.DataFrame({'k1': ['one', 'two'] * 3 + ['two'],'k2': [1, 1, 2, 3, 3, 4, 4]})\n",
    "print(data)\n",
    "print(data.duplicated())\n",
    "print(data.drop_duplicates())\n",
    "print(data.drop_duplicates(['k1']))\n",
    "print(data.drop_duplicates(['k1', 'k2'], keep='last'))"
   ]
  },
  {
   "cell_type": "code",
   "execution_count": 78,
   "id": "a91600d0",
   "metadata": {},
   "outputs": [
    {
     "name": "stdout",
     "output_type": "stream",
     "text": [
      "    Name\n",
      "a  ankit\n",
      "b   kiio\n",
      "c  summi\n",
      "    Name  Marks\n",
      "a  ankit      0\n",
      "b   kiio    100\n",
      "c  summi    100\n",
      "    Name  Marks\n",
      "a  ankit      0\n",
      "b   kiio    100\n",
      "c  summi    100\n"
     ]
    }
   ],
   "source": [
    "data=pd.DataFrame(['ankit','kiio','summi'],columns=['Name'],index=['a','b','c'])\n",
    "print(data)\n",
    "data['Marks']=data['Name'].map({k:(0 if k=='ankit' else 100) for k in data['Name'] })\n",
    "print(data)\n",
    "data['Marks']=data['Name'].map(lambda x:0 if x=='ankit' else 100)\n",
    "print(data)"
   ]
  },
  {
   "cell_type": "code",
   "execution_count": 79,
   "id": "ddea12f5",
   "metadata": {},
   "outputs": [
    {
     "name": "stdout",
     "output_type": "stream",
     "text": [
      "0     1.0\n",
      "1     NaN\n",
      "2     NaN\n",
      "3    21.0\n",
      "dtype: float64\n"
     ]
    }
   ],
   "source": [
    "data=pd.Series([1,999,34,21])\n",
    "data=data.replace([999,34],np.nan)\n",
    "print(data)"
   ]
  },
  {
   "cell_type": "code",
   "execution_count": 82,
   "id": "80a516a7",
   "metadata": {},
   "outputs": [
    {
     "name": "stdout",
     "output_type": "stream",
     "text": [
      "    Name\n",
      "a  ankit\n",
      "b   kiio\n",
      "c  summi\n",
      "    Name\n",
      "a  ankit\n",
      "b   kiio\n",
      "c  soumi\n"
     ]
    }
   ],
   "source": [
    "data=pd.DataFrame(['ankit','kiio','summi'],columns=['Name'],index=['a','b','c'])\n",
    "print(data)\n",
    "data['Name'].replace('summi','soumi',inplace=True)\n",
    "print(data)"
   ]
  },
  {
   "cell_type": "code",
   "execution_count": 84,
   "id": "0bb3b640",
   "metadata": {},
   "outputs": [
    {
     "data": {
      "text/html": [
       "<div>\n",
       "<style scoped>\n",
       "    .dataframe tbody tr th:only-of-type {\n",
       "        vertical-align: middle;\n",
       "    }\n",
       "\n",
       "    .dataframe tbody tr th {\n",
       "        vertical-align: top;\n",
       "    }\n",
       "\n",
       "    .dataframe thead th {\n",
       "        text-align: right;\n",
       "    }\n",
       "</style>\n",
       "<table border=\"1\" class=\"dataframe\">\n",
       "  <thead>\n",
       "    <tr style=\"text-align: right;\">\n",
       "      <th></th>\n",
       "      <th>NAME</th>\n",
       "    </tr>\n",
       "  </thead>\n",
       "  <tbody>\n",
       "    <tr>\n",
       "      <th>Abc</th>\n",
       "      <td>ankit</td>\n",
       "    </tr>\n",
       "    <tr>\n",
       "      <th>Bcd</th>\n",
       "      <td>kiio</td>\n",
       "    </tr>\n",
       "    <tr>\n",
       "      <th>Cde</th>\n",
       "      <td>summi</td>\n",
       "    </tr>\n",
       "  </tbody>\n",
       "</table>\n",
       "</div>"
      ],
      "text/plain": [
       "      NAME\n",
       "Abc  ankit\n",
       "Bcd   kiio\n",
       "Cde  summi"
      ]
     },
     "execution_count": 84,
     "metadata": {},
     "output_type": "execute_result"
    }
   ],
   "source": [
    "data=pd.DataFrame(['ankit','kiio','summi'],columns=['Name'],index=['abc','bcd','cde'])\n",
    "data.rename(index=str.capitalize,columns=str.upper)"
   ]
  },
  {
   "cell_type": "code",
   "execution_count": 86,
   "id": "fe918382",
   "metadata": {},
   "outputs": [
    {
     "name": "stdout",
     "output_type": "stream",
     "text": [
      "          New_Name\n",
      "new          ankit\n",
      "bcd           kiio\n",
      "new_index    summi\n"
     ]
    }
   ],
   "source": [
    "data.rename(index={'abc':'new','cde':'new_index'},columns={'Name':'New_Name'},inplace=True)\n",
    "print(data)"
   ]
  },
  {
   "cell_type": "code",
   "execution_count": 94,
   "id": "1bbb89a8",
   "metadata": {
    "scrolled": true
   },
   "outputs": [
    {
     "name": "stdout",
     "output_type": "stream",
     "text": [
      "['11-20', '0-10', '0-10', '21-30', '11-20', ..., '0-10', '0-10', '0-10', '0-10', NaN]\n",
      "Length: 31\n",
      "Categories (10, object): ['0-10' < '11-20' < '21-30' < '31-40' ... '61-70' < '71-80' < '81-90' < '91-100']\n",
      "[ 1  0  0  2  1  3  3  0  4  4  4  5  5  6  6  6  6  6  7  7  8  9  8  8\n",
      "  1  0  0  0  0  0 -1]\n",
      "Index(['0-10', '11-20', '21-30', '31-40', '41-50', '51-60', '61-70', '71-80',\n",
      "       '81-90', '91-100'],\n",
      "      dtype='object')\n",
      "0-10      8\n",
      "61-70     5\n",
      "11-20     3\n",
      "41-50     3\n",
      "81-90     3\n",
      "31-40     2\n",
      "51-60     2\n",
      "71-80     2\n",
      "21-30     1\n",
      "91-100    1\n",
      "dtype: int64\n"
     ]
    }
   ],
   "source": [
    "b=pd.cut([12,2,1,22,11,34,32,1,41,48,45,51,58,61,66,67,69,70,71,72,90,91,81,81,11,2,3,2,1,2,0],[0,10,20,30,40,50,60,70,80,90,100],right=True,labels=['0-10','11-20','21-30','31-40','41-50','51-60','61-70','71-80','81-90','91-100'])\n",
    "print(b)\n",
    "print(b.codes)\n",
    "print(b.categories)\n",
    "print(pd.value_counts(b))"
   ]
  },
  {
   "cell_type": "code",
   "execution_count": 95,
   "id": "7a38a0bf",
   "metadata": {},
   "outputs": [
    {
     "name": "stdout",
     "output_type": "stream",
     "text": [
      "[(0.0084, 0.626], (0.626, 3.354], (0.0084, 0.626], (0.626, 3.354], (0.0084, 0.626], ..., (0.626, 3.354], (0.626, 3.354], (0.626, 3.354], (0.0084, 0.626], (0.626, 3.354]]\n",
      "Length: 1000\n",
      "Categories (4, interval[float64, right]): [(-3.62, -0.691] < (-0.691, 0.0084] < (0.0084, 0.626] < (0.626, 3.354]]\n",
      "(-3.62, -0.691]     250\n",
      "(-0.691, 0.0084]    250\n",
      "(0.0084, 0.626]     250\n",
      "(0.626, 3.354]      250\n",
      "dtype: int64\n"
     ]
    }
   ],
   "source": [
    "data = np.random.randn(1000) # Normally distributed\n",
    "cats = pd.qcut(data, 4) # Cut into quartiles\n",
    "print(cats)\n",
    "print(pd.value_counts(cats))"
   ]
  },
  {
   "cell_type": "code",
   "execution_count": 111,
   "id": "5cf38613",
   "metadata": {},
   "outputs": [
    {
     "name": "stdout",
     "output_type": "stream",
     "text": [
      "            0         1         2         3\n",
      "0    0.555229 -0.063679  0.322598  1.370509\n",
      "1    0.688280 -0.770756 -1.974387 -0.942000\n",
      "2   -1.254370  0.097759 -0.186317  0.362924\n",
      "3   -0.634275  1.443248  1.699919  0.492581\n",
      "4    1.529708  2.928737  1.146503 -1.391692\n",
      "..        ...       ...       ...       ...\n",
      "995  0.524295  0.838711  1.587841  0.080143\n",
      "996 -0.466875  1.822928 -0.349306 -0.968938\n",
      "997 -0.684669  0.195257 -1.432022 -0.364939\n",
      "998 -0.559563 -0.596628  2.880303 -0.281358\n",
      "999 -0.075537  0.024840 -0.358946  0.586875\n",
      "\n",
      "[1000 rows x 4 columns]\n"
     ]
    },
    {
     "name": "stderr",
     "output_type": "stream",
     "text": [
      "C:\\Users\\ankit19.gupta\\AppData\\Local\\Temp\\ipykernel_10284\\569682102.py:2: FutureWarning: In a future version of pandas all arguments of DataFrame.any and Series.any will be keyword-only.\n",
      "  data[(np.abs(data) > 0).any(1)]\n"
     ]
    }
   ],
   "source": [
    "data = pd.DataFrame(np.random.randn(1000, 4))\n",
    "data[(np.abs(data) > 0).any(1)]\n",
    "data[np.abs(data) > 3] = np.sign(data) * 3\n",
    "print(data)\n",
    "# The statement np.sign(data) produces 1 and –1 values based on whether the values in data are positive or negative:"
   ]
  },
  {
   "cell_type": "code",
   "execution_count": 117,
   "id": "4d8ffe8b",
   "metadata": {},
   "outputs": [
    {
     "name": "stdout",
     "output_type": "stream",
     "text": [
      "    a   b   c   d\n",
      "0   0   1   2   3\n",
      "1   4   5   6   7\n",
      "2   8   9  10  11\n",
      "3  12  13  14  15\n",
      "4  16  17  18  19\n",
      "    a   b   c   d\n",
      "1   4   5   6   7\n",
      "3  12  13  14  15\n",
      "2   8   9  10  11\n",
      "4  16  17  18  19\n",
      "0   0   1   2   3\n",
      "    a   b   c   d\n",
      "3  12  13  14  15\n",
      "0   0   1   2   3\n",
      "4  16  17  18  19\n",
      "0    5\n",
      "4    4\n",
      "0    5\n",
      "1    7\n",
      "3    6\n",
      "1    7\n",
      "1    7\n",
      "1    7\n",
      "4    4\n",
      "0    5\n",
      "dtype: int64\n"
     ]
    }
   ],
   "source": [
    "df = pd.DataFrame(np.arange(5 * 4).reshape((5, 4)),columns=['a','b','c','d'])\n",
    "print(df)\n",
    "sampler=np.random.permutation(5)\n",
    "print(df.take(sampler,axis=0))\n",
    "# To select a random subset without replacement, you can use the sample method on Series and DataFrame:\n",
    "print(df.sample(n=3))\n",
    "#To generate a sample with replacement (to allow repeat choices), pass replace=True to sample:\n",
    "\n",
    "choices = pd.Series([5, 7, -1, 6, 4])\n",
    "draws = choices.sample(n=10, replace=True)\n",
    "print(draws)"
   ]
  },
  {
   "cell_type": "code",
   "execution_count": 122,
   "id": "bb39536b",
   "metadata": {},
   "outputs": [
    {
     "name": "stdout",
     "output_type": "stream",
     "text": [
      "    Name  Marks\n",
      "0  ankit      0\n",
      "1   kiio      1\n",
      "2  summi      2\n"
     ]
    },
    {
     "data": {
      "text/html": [
       "<div>\n",
       "<style scoped>\n",
       "    .dataframe tbody tr th:only-of-type {\n",
       "        vertical-align: middle;\n",
       "    }\n",
       "\n",
       "    .dataframe tbody tr th {\n",
       "        vertical-align: top;\n",
       "    }\n",
       "\n",
       "    .dataframe thead th {\n",
       "        text-align: right;\n",
       "    }\n",
       "</style>\n",
       "<table border=\"1\" class=\"dataframe\">\n",
       "  <thead>\n",
       "    <tr style=\"text-align: right;\">\n",
       "      <th></th>\n",
       "      <th>name_ankit</th>\n",
       "      <th>name_kiio</th>\n",
       "      <th>name_summi</th>\n",
       "      <th>Marks</th>\n",
       "    </tr>\n",
       "  </thead>\n",
       "  <tbody>\n",
       "    <tr>\n",
       "      <th>0</th>\n",
       "      <td>1</td>\n",
       "      <td>0</td>\n",
       "      <td>0</td>\n",
       "      <td>0</td>\n",
       "    </tr>\n",
       "    <tr>\n",
       "      <th>1</th>\n",
       "      <td>0</td>\n",
       "      <td>1</td>\n",
       "      <td>0</td>\n",
       "      <td>1</td>\n",
       "    </tr>\n",
       "    <tr>\n",
       "      <th>2</th>\n",
       "      <td>0</td>\n",
       "      <td>0</td>\n",
       "      <td>1</td>\n",
       "      <td>2</td>\n",
       "    </tr>\n",
       "  </tbody>\n",
       "</table>\n",
       "</div>"
      ],
      "text/plain": [
       "   name_ankit  name_kiio  name_summi  Marks\n",
       "0           1          0           0      0\n",
       "1           0          1           0      1\n",
       "2           0          0           1      2"
      ]
     },
     "execution_count": 122,
     "metadata": {},
     "output_type": "execute_result"
    }
   ],
   "source": [
    "df=pd.DataFrame({'Name':['ankit','kiio','summi'],'Marks':range(3)})\n",
    "print(df)\n",
    "print(pd.get_dummies(df['Name'],prefix='name').join(df[['Marks']]))"
   ]
  },
  {
   "cell_type": "code",
   "execution_count": 124,
   "id": "3dafb150",
   "metadata": {},
   "outputs": [
    {
     "name": "stdout",
     "output_type": "stream",
     "text": [
      "    0-10  11-20  21-30  31-40  41-50  51-60  61-70  71-80  81-90  91-100\n",
      "0      0      1      0      0      0      0      0      0      0       0\n",
      "1      1      0      0      0      0      0      0      0      0       0\n",
      "2      1      0      0      0      0      0      0      0      0       0\n",
      "3      0      0      1      0      0      0      0      0      0       0\n",
      "4      0      1      0      0      0      0      0      0      0       0\n",
      "5      0      0      0      1      0      0      0      0      0       0\n",
      "6      0      0      0      1      0      0      0      0      0       0\n",
      "7      1      0      0      0      0      0      0      0      0       0\n",
      "8      0      0      0      0      1      0      0      0      0       0\n",
      "9      0      0      0      0      1      0      0      0      0       0\n",
      "10     0      0      0      0      1      0      0      0      0       0\n",
      "11     0      0      0      0      0      1      0      0      0       0\n",
      "12     0      0      0      0      0      1      0      0      0       0\n",
      "13     0      0      0      0      0      0      1      0      0       0\n",
      "14     0      0      0      0      0      0      1      0      0       0\n",
      "15     0      0      0      0      0      0      1      0      0       0\n",
      "16     0      0      0      0      0      0      1      0      0       0\n",
      "17     0      0      0      0      0      0      1      0      0       0\n",
      "18     0      0      0      0      0      0      0      1      0       0\n",
      "19     0      0      0      0      0      0      0      1      0       0\n",
      "20     0      0      0      0      0      0      0      0      1       0\n",
      "21     0      0      0      0      0      0      0      0      0       1\n",
      "22     0      0      0      0      0      0      0      0      1       0\n",
      "23     0      0      0      0      0      0      0      0      1       0\n",
      "24     0      1      0      0      0      0      0      0      0       0\n",
      "25     1      0      0      0      0      0      0      0      0       0\n",
      "26     1      0      0      0      0      0      0      0      0       0\n",
      "27     1      0      0      0      0      0      0      0      0       0\n",
      "28     1      0      0      0      0      0      0      0      0       0\n",
      "29     1      0      0      0      0      0      0      0      0       0\n",
      "30     0      0      0      0      0      0      0      0      0       0\n"
     ]
    }
   ],
   "source": [
    "b=pd.cut([12,2,1,22,11,34,32,1,41,48,45,51,58,61,66,67,69,70,71,72,90,91,81,81,11,2,3,2,1,2,0],[0,10,20,30,40,50,60,70,80,90,100],right=True,labels=['0-10','11-20','21-30','31-40','41-50','51-60','61-70','71-80','81-90','91-100'])\n",
    "print(pd.get_dummies(b))"
   ]
  },
  {
   "cell_type": "code",
   "execution_count": 143,
   "id": "4e17bf40",
   "metadata": {},
   "outputs": [
    {
     "data": {
      "text/plain": [
       "'ankit@kiio@summi'"
      ]
     },
     "execution_count": 143,
     "metadata": {},
     "output_type": "execute_result"
    }
   ],
   "source": [
    "\"::\".join([s.strip() for s  in 'ankit ,   kiio ,  summi'.split(',')]).replace('::','@')"
   ]
  },
  {
   "cell_type": "code",
   "execution_count": 139,
   "id": "df7a9200",
   "metadata": {},
   "outputs": [
    {
     "name": "stdout",
     "output_type": "stream",
     "text": [
      "2\n",
      "2\n"
     ]
    }
   ],
   "source": [
    "print([1,2,3].index(3))\n",
    "print(\"ankit\".index('k'))\n"
   ]
  },
  {
   "cell_type": "code",
   "execution_count": 152,
   "id": "ebd50e4f",
   "metadata": {},
   "outputs": [
    {
     "data": {
      "text/plain": [
       "['ankit', 'summi', 'kiio']"
      ]
     },
     "execution_count": 152,
     "metadata": {},
     "output_type": "execute_result"
    }
   ],
   "source": [
    "import re \n",
    "text=\"ankit\\n summi\\t\\t\\r kiio\"\n",
    "re.split('\\s+',text)"
   ]
  },
  {
   "cell_type": "code",
   "execution_count": 155,
   "id": "90033c9d",
   "metadata": {},
   "outputs": [
    {
     "data": {
      "text/plain": [
       "['ankit', 'summi', 'kiio']"
      ]
     },
     "execution_count": 155,
     "metadata": {},
     "output_type": "execute_result"
    }
   ],
   "source": [
    "regex=re.compile('\\s+')\n",
    "regex.split(text)"
   ]
  },
  {
   "cell_type": "code",
   "execution_count": 156,
   "id": "32594fbc",
   "metadata": {},
   "outputs": [
    {
     "data": {
      "text/plain": [
       "['\\n ', '\\t\\t\\r ']"
      ]
     },
     "execution_count": 156,
     "metadata": {},
     "output_type": "execute_result"
    }
   ],
   "source": [
    "regex.findall(text)"
   ]
  },
  {
   "cell_type": "code",
   "execution_count": 158,
   "id": "3d8708cb",
   "metadata": {},
   "outputs": [
    {
     "data": {
      "text/plain": [
       "re.compile(r'[A-Z0-9._%+-]+@[A-Z0-9.-]+\\.[A-Z]{2,4}', re.IGNORECASE|re.UNICODE)"
      ]
     },
     "execution_count": 158,
     "metadata": {},
     "output_type": "execute_result"
    }
   ],
   "source": [
    "text = \"\"\"Dave dave@google.com\n",
    "Steve steve@gmail.com\n",
    "Rob rob@gmail.com\n",
    "Ryan ryan@yahoo.com\n",
    "\"\"\"\n",
    "     \n",
    "pattern = r'[A-Z0-9._%+-]+@[A-Z0-9.-]+\\.[A-Z]{2,4}'\n",
    "      \n",
    "# re.IGNORECASE makes the regex case-insensitive\n",
    "regex = re.compile(pattern, flags=re.IGNORECASE)\n",
    "regex"
   ]
  },
  {
   "cell_type": "code",
   "execution_count": 159,
   "id": "8f89fee8",
   "metadata": {},
   "outputs": [
    {
     "data": {
      "text/plain": [
       "['dave@google.com', 'steve@gmail.com', 'rob@gmail.com', 'ryan@yahoo.com']"
      ]
     },
     "execution_count": 159,
     "metadata": {},
     "output_type": "execute_result"
    }
   ],
   "source": [
    "regex.findall(text)"
   ]
  },
  {
   "cell_type": "code",
   "execution_count": null,
   "id": "ef8b4345",
   "metadata": {},
   "outputs": [],
   "source": []
  }
 ],
 "metadata": {
  "kernelspec": {
   "display_name": "Python 3 (ipykernel)",
   "language": "python",
   "name": "python3"
  },
  "language_info": {
   "codemirror_mode": {
    "name": "ipython",
    "version": 3
   },
   "file_extension": ".py",
   "mimetype": "text/x-python",
   "name": "python",
   "nbconvert_exporter": "python",
   "pygments_lexer": "ipython3",
   "version": "3.9.18"
  }
 },
 "nbformat": 4,
 "nbformat_minor": 5
}
