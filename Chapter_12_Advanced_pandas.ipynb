{
 "cells": [
  {
   "cell_type": "markdown",
   "id": "5358ee08",
   "metadata": {},
   "source": [
    "## 12.1 Categorical Data"
   ]
  },
  {
   "cell_type": "markdown",
   "id": "fc0d6ece",
   "metadata": {},
   "source": [
    "I will show how you can ach‐\n",
    "ieve better performance and memory use in some pandas operations by using it. I\n",
    "also introduce some tools for using categorical data in statistics and machine learning\n",
    "applications."
   ]
  },
  {
   "cell_type": "markdown",
   "id": "f62c719d",
   "metadata": {},
   "source": [
    "### Background and Motivation "
   ]
  },
  {
   "cell_type": "markdown",
   "id": "ff10dc6a",
   "metadata": {},
   "source": [
    "Frequently, a column in a table may contain repeated instances of a smaller set of dis‐\n",
    "tinct values. We have already seen functions like unique and value_counts, which\n",
    "enable us to extract the distinct values from an array and compute their frequencies,\n",
    "respectively"
   ]
  },
  {
   "cell_type": "code",
   "execution_count": 1,
   "id": "5502d83c",
   "metadata": {},
   "outputs": [
    {
     "data": {
      "text/plain": [
       "0     apple\n",
       "1    orange\n",
       "2     apple\n",
       "3     apple\n",
       "4     apple\n",
       "5    orange\n",
       "6     apple\n",
       "7     apple\n",
       "dtype: object"
      ]
     },
     "execution_count": 1,
     "metadata": {},
     "output_type": "execute_result"
    }
   ],
   "source": [
    "import numpy as np; import pandas as pd\n",
    "values = pd.Series(['apple', 'orange', 'apple','apple'] * 2)\n",
    "values"
   ]
  },
  {
   "cell_type": "code",
   "execution_count": 2,
   "id": "d5fa80c2",
   "metadata": {},
   "outputs": [
    {
     "data": {
      "text/plain": [
       "array(['apple', 'orange'], dtype=object)"
      ]
     },
     "execution_count": 2,
     "metadata": {},
     "output_type": "execute_result"
    }
   ],
   "source": [
    "pd.unique(values)"
   ]
  },
  {
   "cell_type": "code",
   "execution_count": 3,
   "id": "67c805f2",
   "metadata": {},
   "outputs": [
    {
     "data": {
      "text/plain": [
       "apple     6\n",
       "orange    2\n",
       "dtype: int64"
      ]
     },
     "execution_count": 3,
     "metadata": {},
     "output_type": "execute_result"
    }
   ],
   "source": [
    "pd.value_counts(values)"
   ]
  },
  {
   "cell_type": "markdown",
   "id": "09278d11",
   "metadata": {},
   "source": [
    "Many data systems (for data warehousing, statistical computing, or other uses) have\n",
    "developed specialized approaches for representing data with repeated values for more\n",
    "efficient storage and computation. In data warehousing, a best practice is to use socalled dimension tables containing the distinct values and storing the primary obser‐\n",
    "vations as integer keys referencing the dimension table:\n"
   ]
  },
  {
   "cell_type": "code",
   "execution_count": 4,
   "id": "ba7139c5",
   "metadata": {},
   "outputs": [
    {
     "data": {
      "text/plain": [
       "0    0\n",
       "1    1\n",
       "2    0\n",
       "3    0\n",
       "4    0\n",
       "5    1\n",
       "6    0\n",
       "7    0\n",
       "dtype: int64"
      ]
     },
     "execution_count": 4,
     "metadata": {},
     "output_type": "execute_result"
    }
   ],
   "source": [
    "values = pd.Series([0, 1, 0, 0] * 2)\n",
    "dim = pd.Series(['apple', 'orange'])\n",
    "values"
   ]
  },
  {
   "cell_type": "code",
   "execution_count": 5,
   "id": "90c5c4b3",
   "metadata": {},
   "outputs": [
    {
     "data": {
      "text/plain": [
       "0     apple\n",
       "1    orange\n",
       "dtype: object"
      ]
     },
     "execution_count": 5,
     "metadata": {},
     "output_type": "execute_result"
    }
   ],
   "source": [
    "dim"
   ]
  },
  {
   "cell_type": "markdown",
   "id": "802b1c25",
   "metadata": {},
   "source": [
    "We can use the take method to restore the original Series of strings:"
   ]
  },
  {
   "cell_type": "code",
   "execution_count": 6,
   "id": "3e6f6ab0",
   "metadata": {},
   "outputs": [
    {
     "data": {
      "text/plain": [
       "0     apple\n",
       "1    orange\n",
       "0     apple\n",
       "0     apple\n",
       "0     apple\n",
       "1    orange\n",
       "0     apple\n",
       "0     apple\n",
       "dtype: object"
      ]
     },
     "execution_count": 6,
     "metadata": {},
     "output_type": "execute_result"
    }
   ],
   "source": [
    "dim.take(values)\n"
   ]
  },
  {
   "cell_type": "markdown",
   "id": "adcebbe3",
   "metadata": {},
   "source": [
    "This representation as integers is called the categorical or dictionary-encoded repre‐\n",
    "sentation. The array of distinct values can be called the categories, dictionary, or levels\n",
    "of the data. In this book we will use the terms categorical and categories. The integer\n",
    "values that reference the categories are called the category codes or simply codes."
   ]
  },
  {
   "cell_type": "markdown",
   "id": "4bc1caa6",
   "metadata": {},
   "source": [
    "The categorical representation can yield significant performance improvements when\n",
    "you are doing analytics. You can also perform transformations on the categories while\n",
    "leaving the codes unmodified. Some example transformations that can be made at\n",
    "relatively low cost are:"
   ]
  },
  {
   "cell_type": "markdown",
   "id": "81a5c247",
   "metadata": {},
   "source": [
    "• Renaming categories  \n",
    "    \n",
    "    \n",
    "• Appending a new category without changing the order or position of the existing\n",
    "categories"
   ]
  },
  {
   "cell_type": "markdown",
   "id": "4225a799",
   "metadata": {},
   "source": [
    "### Categorical Type in pandas"
   ]
  },
  {
   "cell_type": "markdown",
   "id": "f3773c15",
   "metadata": {},
   "source": [
    "pandas has a special Categorical type for holding data that uses the integer-based\n",
    "categorical representation or encoding. Let’s consider the example Series from before:"
   ]
  },
  {
   "cell_type": "code",
   "execution_count": 7,
   "id": "9ab3889d",
   "metadata": {},
   "outputs": [
    {
     "data": {
      "text/html": [
       "<div>\n",
       "<style scoped>\n",
       "    .dataframe tbody tr th:only-of-type {\n",
       "        vertical-align: middle;\n",
       "    }\n",
       "\n",
       "    .dataframe tbody tr th {\n",
       "        vertical-align: top;\n",
       "    }\n",
       "\n",
       "    .dataframe thead th {\n",
       "        text-align: right;\n",
       "    }\n",
       "</style>\n",
       "<table border=\"1\" class=\"dataframe\">\n",
       "  <thead>\n",
       "    <tr style=\"text-align: right;\">\n",
       "      <th></th>\n",
       "      <th>basket_id</th>\n",
       "      <th>fruit</th>\n",
       "      <th>count</th>\n",
       "      <th>weight</th>\n",
       "    </tr>\n",
       "  </thead>\n",
       "  <tbody>\n",
       "    <tr>\n",
       "      <th>0</th>\n",
       "      <td>0</td>\n",
       "      <td>apple</td>\n",
       "      <td>3</td>\n",
       "      <td>3.516063</td>\n",
       "    </tr>\n",
       "    <tr>\n",
       "      <th>1</th>\n",
       "      <td>1</td>\n",
       "      <td>orange</td>\n",
       "      <td>5</td>\n",
       "      <td>3.602808</td>\n",
       "    </tr>\n",
       "    <tr>\n",
       "      <th>2</th>\n",
       "      <td>2</td>\n",
       "      <td>apple</td>\n",
       "      <td>6</td>\n",
       "      <td>2.808427</td>\n",
       "    </tr>\n",
       "    <tr>\n",
       "      <th>3</th>\n",
       "      <td>3</td>\n",
       "      <td>apple</td>\n",
       "      <td>13</td>\n",
       "      <td>3.138310</td>\n",
       "    </tr>\n",
       "    <tr>\n",
       "      <th>4</th>\n",
       "      <td>4</td>\n",
       "      <td>apple</td>\n",
       "      <td>12</td>\n",
       "      <td>1.889745</td>\n",
       "    </tr>\n",
       "    <tr>\n",
       "      <th>5</th>\n",
       "      <td>5</td>\n",
       "      <td>orange</td>\n",
       "      <td>13</td>\n",
       "      <td>3.975940</td>\n",
       "    </tr>\n",
       "    <tr>\n",
       "      <th>6</th>\n",
       "      <td>6</td>\n",
       "      <td>apple</td>\n",
       "      <td>14</td>\n",
       "      <td>0.017706</td>\n",
       "    </tr>\n",
       "    <tr>\n",
       "      <th>7</th>\n",
       "      <td>7</td>\n",
       "      <td>apple</td>\n",
       "      <td>7</td>\n",
       "      <td>3.191929</td>\n",
       "    </tr>\n",
       "  </tbody>\n",
       "</table>\n",
       "</div>"
      ],
      "text/plain": [
       "   basket_id   fruit  count    weight\n",
       "0          0   apple      3  3.516063\n",
       "1          1  orange      5  3.602808\n",
       "2          2   apple      6  2.808427\n",
       "3          3   apple     13  3.138310\n",
       "4          4   apple     12  1.889745\n",
       "5          5  orange     13  3.975940\n",
       "6          6   apple     14  0.017706\n",
       "7          7   apple      7  3.191929"
      ]
     },
     "execution_count": 7,
     "metadata": {},
     "output_type": "execute_result"
    }
   ],
   "source": [
    "fruits = ['apple', 'orange', 'apple', 'apple'] * 2\n",
    "N = len(fruits)\n",
    "df = pd.DataFrame({'fruit': fruits,'basket_id': np.arange(N),'count': np.random.randint(3, 15, size=N),'weight': np.random.uniform(0, 4, size=N)},columns=['basket_id', 'fruit', 'count', 'weight'])\n",
    "df"
   ]
  },
  {
   "cell_type": "markdown",
   "id": "2429de9b",
   "metadata": {},
   "source": [
    "Here, df['fruit'] is an array of Python string objects. We can convert it to categori‐\n",
    "cal by calling:\n"
   ]
  },
  {
   "cell_type": "code",
   "execution_count": 8,
   "id": "70fd9d12",
   "metadata": {},
   "outputs": [
    {
     "data": {
      "text/plain": [
       "0     apple\n",
       "1    orange\n",
       "2     apple\n",
       "3     apple\n",
       "4     apple\n",
       "5    orange\n",
       "6     apple\n",
       "7     apple\n",
       "Name: fruit, dtype: category\n",
       "Categories (2, object): ['apple', 'orange']"
      ]
     },
     "execution_count": 8,
     "metadata": {},
     "output_type": "execute_result"
    }
   ],
   "source": [
    "fruit_cat = df['fruit'].astype('category')\n",
    "fruit_cat"
   ]
  },
  {
   "cell_type": "markdown",
   "id": "1450be02",
   "metadata": {},
   "source": [
    "The values for fruit_cat are not a NumPy array, but an instance of pandas.Catego\n",
    "rical:"
   ]
  },
  {
   "cell_type": "code",
   "execution_count": 9,
   "id": "2e4c0341",
   "metadata": {},
   "outputs": [
    {
     "data": {
      "text/plain": [
       "pandas.core.arrays.categorical.Categorical"
      ]
     },
     "execution_count": 9,
     "metadata": {},
     "output_type": "execute_result"
    }
   ],
   "source": [
    "c = fruit_cat.values\n",
    "type(c)"
   ]
  },
  {
   "cell_type": "markdown",
   "id": "c2c094ea",
   "metadata": {},
   "source": [
    "The Categorical object has categories and codes attributes:"
   ]
  },
  {
   "cell_type": "code",
   "execution_count": 10,
   "id": "81541ab0",
   "metadata": {},
   "outputs": [
    {
     "data": {
      "text/plain": [
       "Index(['apple', 'orange'], dtype='object')"
      ]
     },
     "execution_count": 10,
     "metadata": {},
     "output_type": "execute_result"
    }
   ],
   "source": [
    "c.categories"
   ]
  },
  {
   "cell_type": "code",
   "execution_count": 11,
   "id": "1168a8fc",
   "metadata": {},
   "outputs": [
    {
     "data": {
      "text/plain": [
       "array([0, 1, 0, 0, 0, 1, 0, 0], dtype=int8)"
      ]
     },
     "execution_count": 11,
     "metadata": {},
     "output_type": "execute_result"
    }
   ],
   "source": [
    "c.codes"
   ]
  },
  {
   "cell_type": "markdown",
   "id": "e68b43b4",
   "metadata": {},
   "source": [
    "You can convert a DataFrame column to categorical by assigning the converted result:"
   ]
  },
  {
   "cell_type": "code",
   "execution_count": 12,
   "id": "ed79190a",
   "metadata": {},
   "outputs": [
    {
     "data": {
      "text/plain": [
       "0     apple\n",
       "1    orange\n",
       "2     apple\n",
       "3     apple\n",
       "4     apple\n",
       "5    orange\n",
       "6     apple\n",
       "7     apple\n",
       "Name: fruit, dtype: category\n",
       "Categories (2, object): ['apple', 'orange']"
      ]
     },
     "execution_count": 12,
     "metadata": {},
     "output_type": "execute_result"
    }
   ],
   "source": [
    "df['fruit'] = df['fruit'].astype('category')\n",
    "df.fruit"
   ]
  },
  {
   "cell_type": "markdown",
   "id": "55ed5678",
   "metadata": {},
   "source": [
    "You can also create pandas.Categorical directly from other types of Python\n",
    "sequences"
   ]
  },
  {
   "cell_type": "code",
   "execution_count": 13,
   "id": "ce335f22",
   "metadata": {},
   "outputs": [
    {
     "data": {
      "text/plain": [
       "['foo', 'bar', 'baz', 'foo', 'bar']\n",
       "Categories (3, object): ['bar', 'baz', 'foo']"
      ]
     },
     "execution_count": 13,
     "metadata": {},
     "output_type": "execute_result"
    }
   ],
   "source": [
    "my_categories = pd.Categorical(['foo', 'bar', 'baz', 'foo', 'bar'])\n",
    "my_categories"
   ]
  },
  {
   "cell_type": "markdown",
   "id": "186303c2",
   "metadata": {},
   "source": [
    "If you have obtained categorical encoded data from another source, you can use the\n",
    "alternative from_codes constructor:\n"
   ]
  },
  {
   "cell_type": "code",
   "execution_count": 14,
   "id": "f1afaaae",
   "metadata": {},
   "outputs": [
    {
     "data": {
      "text/plain": [
       "['foo', 'bar', 'baz', 'foo', 'foo', 'bar']\n",
       "Categories (3, object): ['foo', 'bar', 'baz']"
      ]
     },
     "execution_count": 14,
     "metadata": {},
     "output_type": "execute_result"
    }
   ],
   "source": [
    "categories = ['foo', 'bar', 'baz']\n",
    "codes = [0, 1, 2, 0, 0, 1]\n",
    "my_cats_2 = pd.Categorical.from_codes(codes, categories)\n",
    "my_cats_2"
   ]
  },
  {
   "cell_type": "markdown",
   "id": "1e4ea6e2",
   "metadata": {},
   "source": [
    "Unless explicitly specified, categorical conversions assume no specific ordering of the\n",
    "categories. So the categories array may be in a different order depending on the\n",
    "ordering of the input data. When using from_codes or any of the other constructors,\n",
    "you can indicate that the categories have a meaningful ordering:"
   ]
  },
  {
   "cell_type": "code",
   "execution_count": 15,
   "id": "c4b0da0a",
   "metadata": {},
   "outputs": [
    {
     "data": {
      "text/plain": [
       "['foo', 'bar', 'baz', 'foo', 'foo', 'bar']\n",
       "Categories (3, object): ['foo' < 'bar' < 'baz']"
      ]
     },
     "execution_count": 15,
     "metadata": {},
     "output_type": "execute_result"
    }
   ],
   "source": [
    "ordered_cat = pd.Categorical.from_codes(codes, categories,ordered=True)\n",
    "ordered_cat"
   ]
  },
  {
   "cell_type": "markdown",
   "id": "f45612c1",
   "metadata": {},
   "source": [
    "The output [foo < bar < baz] indicates that 'foo' precedes 'bar' in the ordering,\n",
    "and so on. An unordered categorical instance can be made ordered with as_ordered:"
   ]
  },
  {
   "cell_type": "code",
   "execution_count": 16,
   "id": "205130b0",
   "metadata": {},
   "outputs": [
    {
     "data": {
      "text/plain": [
       "['foo', 'bar', 'baz', 'foo', 'foo', 'bar']\n",
       "Categories (3, object): ['foo' < 'bar' < 'baz']"
      ]
     },
     "execution_count": 16,
     "metadata": {},
     "output_type": "execute_result"
    }
   ],
   "source": [
    "my_cats_2.as_ordered()"
   ]
  },
  {
   "cell_type": "markdown",
   "id": "96c4b37a",
   "metadata": {},
   "source": [
    "As a last note, categorical data need not be strings, even though I have only showed\n",
    "string examples. A categorical array can consist of any immutable value types."
   ]
  },
  {
   "cell_type": "markdown",
   "id": "a3588245",
   "metadata": {},
   "source": [
    "## Computations with Categoricals"
   ]
  },
  {
   "cell_type": "markdown",
   "id": "85803c4e",
   "metadata": {},
   "source": [
    "Using Categorical in pandas compared with the non-encoded version (like an array\n",
    "of strings) generally behaves the same way. Some parts of pandas, like the groupby\n",
    "function, perform better when working with categoricals. There are also some func‐\n",
    "tions that can utilize the ordered flag."
   ]
  },
  {
   "cell_type": "markdown",
   "id": "c6684163",
   "metadata": {},
   "source": [
    "Let’s consider some random numeric data, and use the pandas.qcut binning func‐\n",
    "tion. This return pandas.Categorical; we used pandas.cut earlier in the book but\n",
    "glossed over the details of how categoricals work:"
   ]
  },
  {
   "cell_type": "code",
   "execution_count": 17,
   "id": "6af32a94",
   "metadata": {},
   "outputs": [
    {
     "data": {
      "text/plain": [
       "array([-0.20470766,  0.47894334, -0.51943872, -0.5557303 ,  1.96578057])"
      ]
     },
     "execution_count": 17,
     "metadata": {},
     "output_type": "execute_result"
    }
   ],
   "source": [
    "np.random.seed(12345)\n",
    "draws = np.random.randn(1000)\n",
    "draws[:5]"
   ]
  },
  {
   "cell_type": "markdown",
   "id": "7d92280e",
   "metadata": {},
   "source": [
    "Let’s compute a quartile binning of this data and extract some statistics:"
   ]
  },
  {
   "cell_type": "code",
   "execution_count": 18,
   "id": "775944ad",
   "metadata": {},
   "outputs": [
    {
     "data": {
      "text/plain": [
       "[(-0.684, -0.0101], (-0.0101, 0.63], (-0.684, -0.0101], (-0.684, -0.0101], (0.63, 3.928], ..., (-0.0101, 0.63], (-0.684, -0.0101], (-2.9499999999999997, -0.684], (-0.0101, 0.63], (0.63, 3.928]]\n",
       "Length: 1000\n",
       "Categories (4, interval[float64]): [(-2.9499999999999997, -0.684] < (-0.684, -0.0101] < (-0.0101, 0.63] < (0.63, 3.928]]"
      ]
     },
     "execution_count": 18,
     "metadata": {},
     "output_type": "execute_result"
    }
   ],
   "source": [
    "bins = pd.qcut(draws, 4)\n",
    "bins"
   ]
  },
  {
   "cell_type": "markdown",
   "id": "8257042e",
   "metadata": {},
   "source": [
    "While useful, the exact sample quartiles may be less useful for producing a report\n",
    "than quartile names. We can achieve this with the labels argument to qcut:"
   ]
  },
  {
   "cell_type": "code",
   "execution_count": 19,
   "id": "83490ee5",
   "metadata": {},
   "outputs": [
    {
     "data": {
      "text/plain": [
       "['Q2', 'Q3', 'Q2', 'Q2', 'Q4', ..., 'Q3', 'Q2', 'Q1', 'Q3', 'Q4']\n",
       "Length: 1000\n",
       "Categories (4, object): ['Q1' < 'Q2' < 'Q3' < 'Q4']"
      ]
     },
     "execution_count": 19,
     "metadata": {},
     "output_type": "execute_result"
    }
   ],
   "source": [
    "bins = pd.qcut(draws, 4, labels=['Q1', 'Q2', 'Q3', 'Q4'])\n",
    "bins"
   ]
  },
  {
   "cell_type": "code",
   "execution_count": 20,
   "id": "50eb1b86",
   "metadata": {},
   "outputs": [
    {
     "data": {
      "text/plain": [
       "array([1, 2, 1, 1, 3, 3, 2, 2, 3, 3], dtype=int8)"
      ]
     },
     "execution_count": 20,
     "metadata": {},
     "output_type": "execute_result"
    }
   ],
   "source": [
    "bins.codes[:10]"
   ]
  },
  {
   "cell_type": "markdown",
   "id": "4747d8c8",
   "metadata": {},
   "source": [
    "The labeled bins categorical does not contain information about the bin edges in the\n",
    "data, so we can use groupby to extract some summary statistics:"
   ]
  },
  {
   "cell_type": "code",
   "execution_count": 21,
   "id": "84e9d906",
   "metadata": {},
   "outputs": [
    {
     "data": {
      "text/html": [
       "<div>\n",
       "<style scoped>\n",
       "    .dataframe tbody tr th:only-of-type {\n",
       "        vertical-align: middle;\n",
       "    }\n",
       "\n",
       "    .dataframe tbody tr th {\n",
       "        vertical-align: top;\n",
       "    }\n",
       "\n",
       "    .dataframe thead th {\n",
       "        text-align: right;\n",
       "    }\n",
       "</style>\n",
       "<table border=\"1\" class=\"dataframe\">\n",
       "  <thead>\n",
       "    <tr style=\"text-align: right;\">\n",
       "      <th></th>\n",
       "      <th>quartile</th>\n",
       "      <th>count</th>\n",
       "      <th>min</th>\n",
       "      <th>max</th>\n",
       "    </tr>\n",
       "  </thead>\n",
       "  <tbody>\n",
       "    <tr>\n",
       "      <th>0</th>\n",
       "      <td>Q1</td>\n",
       "      <td>250</td>\n",
       "      <td>-2.949343</td>\n",
       "      <td>-0.685484</td>\n",
       "    </tr>\n",
       "    <tr>\n",
       "      <th>1</th>\n",
       "      <td>Q2</td>\n",
       "      <td>250</td>\n",
       "      <td>-0.683066</td>\n",
       "      <td>-0.010115</td>\n",
       "    </tr>\n",
       "    <tr>\n",
       "      <th>2</th>\n",
       "      <td>Q3</td>\n",
       "      <td>250</td>\n",
       "      <td>-0.010032</td>\n",
       "      <td>0.628894</td>\n",
       "    </tr>\n",
       "    <tr>\n",
       "      <th>3</th>\n",
       "      <td>Q4</td>\n",
       "      <td>250</td>\n",
       "      <td>0.634238</td>\n",
       "      <td>3.927528</td>\n",
       "    </tr>\n",
       "  </tbody>\n",
       "</table>\n",
       "</div>"
      ],
      "text/plain": [
       "  quartile  count       min       max\n",
       "0       Q1    250 -2.949343 -0.685484\n",
       "1       Q2    250 -0.683066 -0.010115\n",
       "2       Q3    250 -0.010032  0.628894\n",
       "3       Q4    250  0.634238  3.927528"
      ]
     },
     "execution_count": 21,
     "metadata": {},
     "output_type": "execute_result"
    }
   ],
   "source": [
    "bins = pd.Series(bins, name='quartile')\n",
    "results = (pd.Series(draws).groupby(bins).agg(['count', 'min', 'max']).reset_index())\n",
    "results"
   ]
  },
  {
   "cell_type": "markdown",
   "id": "b72bcacf",
   "metadata": {},
   "source": [
    "The 'quartile' column in the result retains the original categorical information,\n",
    "including ordering, from bins:"
   ]
  },
  {
   "cell_type": "code",
   "execution_count": 22,
   "id": "66590bae",
   "metadata": {},
   "outputs": [
    {
     "data": {
      "text/plain": [
       "0    Q1\n",
       "1    Q2\n",
       "2    Q3\n",
       "3    Q4\n",
       "Name: quartile, dtype: category\n",
       "Categories (4, object): ['Q1' < 'Q2' < 'Q3' < 'Q4']"
      ]
     },
     "execution_count": 22,
     "metadata": {},
     "output_type": "execute_result"
    }
   ],
   "source": [
    "results['quartile']"
   ]
  },
  {
   "cell_type": "markdown",
   "id": "177f6aed",
   "metadata": {},
   "source": [
    "### Better performance with categoricals"
   ]
  },
  {
   "cell_type": "markdown",
   "id": "88f9f2e2",
   "metadata": {},
   "source": [
    "If you do a lot of analytics on a particular dataset, converting to categorical can yield\n",
    "substantial overall performance gains. A categorical version of a DataFrame column\n",
    "will often use significantly less memory, too. Let’s consider some Series with 10 mil‐\n",
    "lion elements and a small number of distinct categories:"
   ]
  },
  {
   "cell_type": "code",
   "execution_count": 23,
   "id": "ff74e265",
   "metadata": {},
   "outputs": [],
   "source": [
    "N = 10000000\n",
    "draws = pd.Series(np.random.randn(N))\n",
    "labels = pd.Series(['foo', 'bar', 'baz', 'qux'] * (N // 4))"
   ]
  },
  {
   "cell_type": "markdown",
   "id": "37794a4b",
   "metadata": {},
   "source": [
    "Now we convert labels to categorical:"
   ]
  },
  {
   "cell_type": "code",
   "execution_count": 24,
   "id": "0717c923",
   "metadata": {},
   "outputs": [],
   "source": [
    "categories = labels.astype('category')"
   ]
  },
  {
   "cell_type": "markdown",
   "id": "bf3d3af1",
   "metadata": {},
   "source": [
    "Now we note that labels uses significantly more memory than categories:"
   ]
  },
  {
   "cell_type": "code",
   "execution_count": 25,
   "id": "b1e11a02",
   "metadata": {},
   "outputs": [
    {
     "data": {
      "text/plain": [
       "80000128"
      ]
     },
     "execution_count": 25,
     "metadata": {},
     "output_type": "execute_result"
    }
   ],
   "source": [
    "labels.memory_usage()"
   ]
  },
  {
   "cell_type": "code",
   "execution_count": 26,
   "id": "89170303",
   "metadata": {},
   "outputs": [
    {
     "data": {
      "text/plain": [
       "10000320"
      ]
     },
     "execution_count": 26,
     "metadata": {},
     "output_type": "execute_result"
    }
   ],
   "source": [
    "categories.memory_usage()"
   ]
  },
  {
   "cell_type": "markdown",
   "id": "49237ee6",
   "metadata": {},
   "source": [
    "The conversion to category is not free, of course, but it is a one-time cost:"
   ]
  },
  {
   "cell_type": "code",
   "execution_count": 27,
   "id": "f57d6ceb",
   "metadata": {},
   "outputs": [
    {
     "name": "stdout",
     "output_type": "stream",
     "text": [
      "Wall time: 379 ms\n"
     ]
    }
   ],
   "source": [
    "%time _ = labels.astype('category')"
   ]
  },
  {
   "cell_type": "markdown",
   "id": "fdd11278",
   "metadata": {},
   "source": [
    "GroupBy operations can be significantly faster with categoricals because the underly‐\n",
    "ing algorithms use the integer-based codes array instead of an array of strings."
   ]
  },
  {
   "cell_type": "markdown",
   "id": "bd12f34b",
   "metadata": {},
   "source": [
    "## Categorical Methods"
   ]
  },
  {
   "cell_type": "markdown",
   "id": "35174b34",
   "metadata": {},
   "source": [
    "Series containing categorical data have several special methods similar to the Ser\n",
    "ies.str specialized string methods. This also provides convenient access to the cate‐\n",
    "gories and codes. Consider the Series:\n"
   ]
  },
  {
   "cell_type": "code",
   "execution_count": 28,
   "id": "2feeba2e",
   "metadata": {},
   "outputs": [
    {
     "data": {
      "text/plain": [
       "0    a\n",
       "1    b\n",
       "2    c\n",
       "3    d\n",
       "4    a\n",
       "5    b\n",
       "6    c\n",
       "7    d\n",
       "dtype: category\n",
       "Categories (4, object): ['a', 'b', 'c', 'd']"
      ]
     },
     "execution_count": 28,
     "metadata": {},
     "output_type": "execute_result"
    }
   ],
   "source": [
    "s = pd.Series(['a', 'b', 'c', 'd'] * 2)\n",
    "cat_s = s.astype('category')\n",
    "cat_s"
   ]
  },
  {
   "cell_type": "markdown",
   "id": "13a4792d",
   "metadata": {},
   "source": [
    "The special attribute cat provides access to categorical methods:\n"
   ]
  },
  {
   "cell_type": "code",
   "execution_count": 29,
   "id": "946fa448",
   "metadata": {},
   "outputs": [
    {
     "data": {
      "text/plain": [
       "0    0\n",
       "1    1\n",
       "2    2\n",
       "3    3\n",
       "4    0\n",
       "5    1\n",
       "6    2\n",
       "7    3\n",
       "dtype: int8"
      ]
     },
     "execution_count": 29,
     "metadata": {},
     "output_type": "execute_result"
    }
   ],
   "source": [
    "cat_s.cat.codes"
   ]
  },
  {
   "cell_type": "markdown",
   "id": "5bb5a181",
   "metadata": {},
   "source": [
    "Suppose that we know the actual set of categories for this data extends beyond the\n",
    "four values observed in the data. We can use the set_categories method to change\n",
    "them:\n"
   ]
  },
  {
   "cell_type": "code",
   "execution_count": 30,
   "id": "d54e2d47",
   "metadata": {},
   "outputs": [
    {
     "data": {
      "text/plain": [
       "0    a\n",
       "1    b\n",
       "2    c\n",
       "3    d\n",
       "4    a\n",
       "5    b\n",
       "6    c\n",
       "7    d\n",
       "dtype: category\n",
       "Categories (5, object): ['a', 'b', 'c', 'd', 'e']"
      ]
     },
     "execution_count": 30,
     "metadata": {},
     "output_type": "execute_result"
    }
   ],
   "source": [
    "actual_categories = ['a', 'b', 'c', 'd', 'e']\n",
    "cat_s2 = cat_s.cat.set_categories(actual_categories)\n",
    "cat_s2"
   ]
  },
  {
   "cell_type": "markdown",
   "id": "f54f6b53",
   "metadata": {},
   "source": [
    "While it appears that the data is unchanged, the new categories will be reflected in\n",
    "operations that use them. For example, value_counts respects the categories, if\n",
    "present:"
   ]
  },
  {
   "cell_type": "code",
   "execution_count": 31,
   "id": "d4f62f19",
   "metadata": {},
   "outputs": [
    {
     "data": {
      "text/plain": [
       "d    2\n",
       "c    2\n",
       "b    2\n",
       "a    2\n",
       "dtype: int64"
      ]
     },
     "execution_count": 31,
     "metadata": {},
     "output_type": "execute_result"
    }
   ],
   "source": [
    "cat_s.value_counts()"
   ]
  },
  {
   "cell_type": "code",
   "execution_count": 32,
   "id": "a09e06d4",
   "metadata": {},
   "outputs": [
    {
     "data": {
      "text/plain": [
       "d    2\n",
       "c    2\n",
       "b    2\n",
       "a    2\n",
       "e    0\n",
       "dtype: int64"
      ]
     },
     "execution_count": 32,
     "metadata": {},
     "output_type": "execute_result"
    }
   ],
   "source": [
    "cat_s2.value_counts()"
   ]
  },
  {
   "cell_type": "markdown",
   "id": "fcc1aaeb",
   "metadata": {},
   "source": [
    "In large datasets, categoricals are often used as a convenient tool for memory savings\n",
    "and better performance. After you filter a large DataFrame or Series, many of the\n",
    "categories may not appear in the data. To help with this, we can use the\n",
    "remove_unused_categories method to trim unobserved categories:"
   ]
  },
  {
   "cell_type": "code",
   "execution_count": 33,
   "id": "ad3a81fc",
   "metadata": {},
   "outputs": [
    {
     "data": {
      "text/plain": [
       "0    a\n",
       "1    b\n",
       "4    a\n",
       "5    b\n",
       "dtype: category\n",
       "Categories (4, object): ['a', 'b', 'c', 'd']"
      ]
     },
     "execution_count": 33,
     "metadata": {},
     "output_type": "execute_result"
    }
   ],
   "source": [
    "cat_s3 = cat_s[cat_s.isin(['a', 'b'])]\n",
    "cat_s3"
   ]
  },
  {
   "cell_type": "code",
   "execution_count": 34,
   "id": "20ca215d",
   "metadata": {},
   "outputs": [
    {
     "data": {
      "text/plain": [
       "0    a\n",
       "1    b\n",
       "4    a\n",
       "5    b\n",
       "dtype: category\n",
       "Categories (2, object): ['a', 'b']"
      ]
     },
     "execution_count": 34,
     "metadata": {},
     "output_type": "execute_result"
    }
   ],
   "source": [
    "cat_s3.cat.remove_unused_categories()"
   ]
  },
  {
   "cell_type": "markdown",
   "id": "4e84e710",
   "metadata": {},
   "source": [
    "Table 12-1. Categorical methods for Series in pandas\n",
    "------------------------------------------------------------------------------\n",
    "  \n",
    "   \n",
    "Method --> Description\n",
    "  \n",
    "   \n",
    "add_categories --> Append new (unused) categories at end of existing categories\n",
    "  \n",
    "   \n",
    "as_ordered --> Make categories ordered\n",
    "  \n",
    "   \n",
    "as_unordered --> Make categories unordered\n",
    "  \n",
    "   \n",
    "remove_categories --> Remove categories, setting any removed values to null\n",
    "  \n",
    "   \n",
    "remove_unused_categories --> Remove any category values which do not appear in the data\n",
    "  \n",
    "    \n",
    "rename_categories --> Replace categories with indicated set of new category names; cannot change the\n",
    "number of categories\n",
    "  \n",
    "    \n",
    "reorder_categories --> Behaves like rename_categories, but can also change the result to have ordered\n",
    "categories\n",
    "  \n",
    "    \n",
    "set_categories --> Replace the categories with the indicated set of new categories; can add or remove\n",
    "categories"
   ]
  },
  {
   "cell_type": "markdown",
   "id": "de59473a",
   "metadata": {},
   "source": [
    "### Creating dummy variables for modeling"
   ]
  },
  {
   "cell_type": "markdown",
   "id": "aeb94cc6",
   "metadata": {},
   "source": [
    "When you’re using statistics or machine learning tools, you’ll often transform catego‐\n",
    "rical data into dummy variables, also known as one-hot encoding. This involves creat‐\n",
    "ing a DataFrame with a column for each distinct category; these columns contain 1s\n",
    "for occurrences of a given category and 0 otherwise."
   ]
  },
  {
   "cell_type": "markdown",
   "id": "63081a6f",
   "metadata": {},
   "source": [
    "Consider the previous example:"
   ]
  },
  {
   "cell_type": "code",
   "execution_count": 35,
   "id": "79dfcd98",
   "metadata": {},
   "outputs": [],
   "source": [
    "cat_s = pd.Series(['a', 'b', 'c', 'd'] * 2, dtype='category')"
   ]
  },
  {
   "cell_type": "markdown",
   "id": "a20b7998",
   "metadata": {},
   "source": [
    "As mentioned previously in Chapter 7, the pandas.get_dummies function converts\n",
    "this one-dimensional categorical data into a DataFrame containing the dummy\n",
    "variable:"
   ]
  },
  {
   "cell_type": "code",
   "execution_count": 36,
   "id": "9b596fd5",
   "metadata": {},
   "outputs": [
    {
     "data": {
      "text/html": [
       "<div>\n",
       "<style scoped>\n",
       "    .dataframe tbody tr th:only-of-type {\n",
       "        vertical-align: middle;\n",
       "    }\n",
       "\n",
       "    .dataframe tbody tr th {\n",
       "        vertical-align: top;\n",
       "    }\n",
       "\n",
       "    .dataframe thead th {\n",
       "        text-align: right;\n",
       "    }\n",
       "</style>\n",
       "<table border=\"1\" class=\"dataframe\">\n",
       "  <thead>\n",
       "    <tr style=\"text-align: right;\">\n",
       "      <th></th>\n",
       "      <th>a</th>\n",
       "      <th>b</th>\n",
       "      <th>c</th>\n",
       "      <th>d</th>\n",
       "    </tr>\n",
       "  </thead>\n",
       "  <tbody>\n",
       "    <tr>\n",
       "      <th>0</th>\n",
       "      <td>1</td>\n",
       "      <td>0</td>\n",
       "      <td>0</td>\n",
       "      <td>0</td>\n",
       "    </tr>\n",
       "    <tr>\n",
       "      <th>1</th>\n",
       "      <td>0</td>\n",
       "      <td>1</td>\n",
       "      <td>0</td>\n",
       "      <td>0</td>\n",
       "    </tr>\n",
       "    <tr>\n",
       "      <th>2</th>\n",
       "      <td>0</td>\n",
       "      <td>0</td>\n",
       "      <td>1</td>\n",
       "      <td>0</td>\n",
       "    </tr>\n",
       "    <tr>\n",
       "      <th>3</th>\n",
       "      <td>0</td>\n",
       "      <td>0</td>\n",
       "      <td>0</td>\n",
       "      <td>1</td>\n",
       "    </tr>\n",
       "    <tr>\n",
       "      <th>4</th>\n",
       "      <td>1</td>\n",
       "      <td>0</td>\n",
       "      <td>0</td>\n",
       "      <td>0</td>\n",
       "    </tr>\n",
       "    <tr>\n",
       "      <th>5</th>\n",
       "      <td>0</td>\n",
       "      <td>1</td>\n",
       "      <td>0</td>\n",
       "      <td>0</td>\n",
       "    </tr>\n",
       "    <tr>\n",
       "      <th>6</th>\n",
       "      <td>0</td>\n",
       "      <td>0</td>\n",
       "      <td>1</td>\n",
       "      <td>0</td>\n",
       "    </tr>\n",
       "    <tr>\n",
       "      <th>7</th>\n",
       "      <td>0</td>\n",
       "      <td>0</td>\n",
       "      <td>0</td>\n",
       "      <td>1</td>\n",
       "    </tr>\n",
       "  </tbody>\n",
       "</table>\n",
       "</div>"
      ],
      "text/plain": [
       "   a  b  c  d\n",
       "0  1  0  0  0\n",
       "1  0  1  0  0\n",
       "2  0  0  1  0\n",
       "3  0  0  0  1\n",
       "4  1  0  0  0\n",
       "5  0  1  0  0\n",
       "6  0  0  1  0\n",
       "7  0  0  0  1"
      ]
     },
     "execution_count": 36,
     "metadata": {},
     "output_type": "execute_result"
    }
   ],
   "source": [
    "pd.get_dummies(cat_s)"
   ]
  },
  {
   "cell_type": "markdown",
   "id": "219a9dd4",
   "metadata": {},
   "source": [
    "## 12.2 Advanced GroupBy Use"
   ]
  },
  {
   "cell_type": "markdown",
   "id": "d2d9df62",
   "metadata": {},
   "source": [
    "### Group Transforms and “Unwrapped” GroupBys"
   ]
  },
  {
   "cell_type": "markdown",
   "id": "cb672d3a",
   "metadata": {},
   "source": [
    "In Chapter 10 we looked at the apply method in grouped operations for performing\n",
    "transformations. There is another built-in method called transform, which is similar\n",
    "to apply but imposes more constraints on the kind of function you can use:\n",
    "      \n",
    "          \n",
    "• It can produce a scalar value to be broadcast to the shape of the group\n",
    "  \n",
    "     \n",
    "• It can produce an object of the same shape as the input group\n",
    " \n",
    "      \n",
    "        \n",
    "• It must not mutate its input"
   ]
  },
  {
   "cell_type": "markdown",
   "id": "f025a546",
   "metadata": {},
   "source": [
    "Let’s consider a simple example for illustration:\n"
   ]
  },
  {
   "cell_type": "code",
   "execution_count": 37,
   "id": "91a7ec0b",
   "metadata": {},
   "outputs": [
    {
     "data": {
      "text/html": [
       "<div>\n",
       "<style scoped>\n",
       "    .dataframe tbody tr th:only-of-type {\n",
       "        vertical-align: middle;\n",
       "    }\n",
       "\n",
       "    .dataframe tbody tr th {\n",
       "        vertical-align: top;\n",
       "    }\n",
       "\n",
       "    .dataframe thead th {\n",
       "        text-align: right;\n",
       "    }\n",
       "</style>\n",
       "<table border=\"1\" class=\"dataframe\">\n",
       "  <thead>\n",
       "    <tr style=\"text-align: right;\">\n",
       "      <th></th>\n",
       "      <th>key</th>\n",
       "      <th>value</th>\n",
       "    </tr>\n",
       "  </thead>\n",
       "  <tbody>\n",
       "    <tr>\n",
       "      <th>0</th>\n",
       "      <td>a</td>\n",
       "      <td>0.0</td>\n",
       "    </tr>\n",
       "    <tr>\n",
       "      <th>1</th>\n",
       "      <td>b</td>\n",
       "      <td>1.0</td>\n",
       "    </tr>\n",
       "    <tr>\n",
       "      <th>2</th>\n",
       "      <td>c</td>\n",
       "      <td>2.0</td>\n",
       "    </tr>\n",
       "    <tr>\n",
       "      <th>3</th>\n",
       "      <td>a</td>\n",
       "      <td>3.0</td>\n",
       "    </tr>\n",
       "    <tr>\n",
       "      <th>4</th>\n",
       "      <td>b</td>\n",
       "      <td>4.0</td>\n",
       "    </tr>\n",
       "    <tr>\n",
       "      <th>5</th>\n",
       "      <td>c</td>\n",
       "      <td>5.0</td>\n",
       "    </tr>\n",
       "    <tr>\n",
       "      <th>6</th>\n",
       "      <td>a</td>\n",
       "      <td>6.0</td>\n",
       "    </tr>\n",
       "    <tr>\n",
       "      <th>7</th>\n",
       "      <td>b</td>\n",
       "      <td>7.0</td>\n",
       "    </tr>\n",
       "    <tr>\n",
       "      <th>8</th>\n",
       "      <td>c</td>\n",
       "      <td>8.0</td>\n",
       "    </tr>\n",
       "    <tr>\n",
       "      <th>9</th>\n",
       "      <td>a</td>\n",
       "      <td>9.0</td>\n",
       "    </tr>\n",
       "    <tr>\n",
       "      <th>10</th>\n",
       "      <td>b</td>\n",
       "      <td>10.0</td>\n",
       "    </tr>\n",
       "    <tr>\n",
       "      <th>11</th>\n",
       "      <td>c</td>\n",
       "      <td>11.0</td>\n",
       "    </tr>\n",
       "  </tbody>\n",
       "</table>\n",
       "</div>"
      ],
      "text/plain": [
       "   key  value\n",
       "0    a    0.0\n",
       "1    b    1.0\n",
       "2    c    2.0\n",
       "3    a    3.0\n",
       "4    b    4.0\n",
       "5    c    5.0\n",
       "6    a    6.0\n",
       "7    b    7.0\n",
       "8    c    8.0\n",
       "9    a    9.0\n",
       "10   b   10.0\n",
       "11   c   11.0"
      ]
     },
     "execution_count": 37,
     "metadata": {},
     "output_type": "execute_result"
    }
   ],
   "source": [
    "df = pd.DataFrame({'key': ['a', 'b', 'c'] * 4,'value': np.arange(12.)})\n",
    "df"
   ]
  },
  {
   "cell_type": "markdown",
   "id": "0ce01cd7",
   "metadata": {},
   "source": [
    "Here are the group means by key:"
   ]
  },
  {
   "cell_type": "code",
   "execution_count": 38,
   "id": "a7abd8f5",
   "metadata": {},
   "outputs": [
    {
     "data": {
      "text/plain": [
       "key\n",
       "a    4.5\n",
       "b    5.5\n",
       "c    6.5\n",
       "Name: value, dtype: float64"
      ]
     },
     "execution_count": 38,
     "metadata": {},
     "output_type": "execute_result"
    }
   ],
   "source": [
    "g = df.groupby('key').value\n",
    "g.mean()"
   ]
  },
  {
   "cell_type": "markdown",
   "id": "d68c01aa",
   "metadata": {},
   "source": [
    "Suppose instead we wanted to produce a Series of the same shape as df['value'] but\n",
    "with values replaced by the average grouped by 'key'. We can pass the function\n",
    "lambda x: x.mean() to transform:"
   ]
  },
  {
   "cell_type": "code",
   "execution_count": 39,
   "id": "6dd10324",
   "metadata": {},
   "outputs": [
    {
     "data": {
      "text/plain": [
       "0     4.5\n",
       "1     5.5\n",
       "2     6.5\n",
       "3     4.5\n",
       "4     5.5\n",
       "5     6.5\n",
       "6     4.5\n",
       "7     5.5\n",
       "8     6.5\n",
       "9     4.5\n",
       "10    5.5\n",
       "11    6.5\n",
       "Name: value, dtype: float64"
      ]
     },
     "execution_count": 39,
     "metadata": {},
     "output_type": "execute_result"
    }
   ],
   "source": [
    "g.transform(lambda x: x.mean())"
   ]
  },
  {
   "cell_type": "markdown",
   "id": "3a7eb525",
   "metadata": {},
   "source": [
    "For built-in aggregation functions, we can pass a string alias as with the GroupBy agg\n",
    "method:"
   ]
  },
  {
   "cell_type": "code",
   "execution_count": 40,
   "id": "31830d25",
   "metadata": {},
   "outputs": [
    {
     "data": {
      "text/plain": [
       "0     4.5\n",
       "1     5.5\n",
       "2     6.5\n",
       "3     4.5\n",
       "4     5.5\n",
       "5     6.5\n",
       "6     4.5\n",
       "7     5.5\n",
       "8     6.5\n",
       "9     4.5\n",
       "10    5.5\n",
       "11    6.5\n",
       "Name: value, dtype: float64"
      ]
     },
     "execution_count": 40,
     "metadata": {},
     "output_type": "execute_result"
    }
   ],
   "source": [
    "g.transform('mean')"
   ]
  },
  {
   "cell_type": "markdown",
   "id": "bf15ad43",
   "metadata": {},
   "source": [
    "Like apply, transform works with functions that return Series, but the result must be\n",
    "the same size as the input. For example, we can multiply each group by 2 using a\n",
    "lambda function:"
   ]
  },
  {
   "cell_type": "code",
   "execution_count": 41,
   "id": "2bdabe98",
   "metadata": {},
   "outputs": [
    {
     "data": {
      "text/plain": [
       "0      0.0\n",
       "1      2.0\n",
       "2      4.0\n",
       "3      6.0\n",
       "4      8.0\n",
       "5     10.0\n",
       "6     12.0\n",
       "7     14.0\n",
       "8     16.0\n",
       "9     18.0\n",
       "10    20.0\n",
       "11    22.0\n",
       "Name: value, dtype: float64"
      ]
     },
     "execution_count": 41,
     "metadata": {},
     "output_type": "execute_result"
    }
   ],
   "source": [
    "g.transform(lambda x: x * 2)"
   ]
  },
  {
   "cell_type": "markdown",
   "id": "e920259a",
   "metadata": {},
   "source": [
    "As a more complicated example, we can compute the ranks in descending order for\n",
    "each group:\n"
   ]
  },
  {
   "cell_type": "code",
   "execution_count": 42,
   "id": "c2a83a8f",
   "metadata": {},
   "outputs": [
    {
     "data": {
      "text/plain": [
       "0     4.0\n",
       "1     4.0\n",
       "2     4.0\n",
       "3     3.0\n",
       "4     3.0\n",
       "5     3.0\n",
       "6     2.0\n",
       "7     2.0\n",
       "8     2.0\n",
       "9     1.0\n",
       "10    1.0\n",
       "11    1.0\n",
       "Name: value, dtype: float64"
      ]
     },
     "execution_count": 42,
     "metadata": {},
     "output_type": "execute_result"
    }
   ],
   "source": [
    "g.transform(lambda x: x.rank(ascending=False))"
   ]
  },
  {
   "cell_type": "markdown",
   "id": "057c47b0",
   "metadata": {},
   "source": [
    "Consider a group transformation function composed from simple aggregations:"
   ]
  },
  {
   "cell_type": "code",
   "execution_count": 43,
   "id": "e31e4b39",
   "metadata": {},
   "outputs": [],
   "source": [
    "def normalize(x):\n",
    "    return (x - x.mean()) / x.std()"
   ]
  },
  {
   "cell_type": "markdown",
   "id": "e7fba35c",
   "metadata": {},
   "source": [
    "We can obtain equivalent results in this case either using transform or apply:"
   ]
  },
  {
   "cell_type": "code",
   "execution_count": 44,
   "id": "f989d384",
   "metadata": {},
   "outputs": [
    {
     "data": {
      "text/plain": [
       "0    -1.161895\n",
       "1    -1.161895\n",
       "2    -1.161895\n",
       "3    -0.387298\n",
       "4    -0.387298\n",
       "5    -0.387298\n",
       "6     0.387298\n",
       "7     0.387298\n",
       "8     0.387298\n",
       "9     1.161895\n",
       "10    1.161895\n",
       "11    1.161895\n",
       "Name: value, dtype: float64"
      ]
     },
     "execution_count": 44,
     "metadata": {},
     "output_type": "execute_result"
    }
   ],
   "source": [
    "g.transform(normalize)"
   ]
  },
  {
   "cell_type": "code",
   "execution_count": 45,
   "id": "a495d126",
   "metadata": {},
   "outputs": [
    {
     "data": {
      "text/plain": [
       "0    -1.161895\n",
       "1    -1.161895\n",
       "2    -1.161895\n",
       "3    -0.387298\n",
       "4    -0.387298\n",
       "5    -0.387298\n",
       "6     0.387298\n",
       "7     0.387298\n",
       "8     0.387298\n",
       "9     1.161895\n",
       "10    1.161895\n",
       "11    1.161895\n",
       "Name: value, dtype: float64"
      ]
     },
     "execution_count": 45,
     "metadata": {},
     "output_type": "execute_result"
    }
   ],
   "source": [
    "g.apply(normalize)"
   ]
  },
  {
   "cell_type": "markdown",
   "id": "42807428",
   "metadata": {},
   "source": [
    "Built-in aggregate functions like 'mean' or 'sum' are often much faster than a general\n",
    "apply function. These also have a “fast past” when used with transform. This allows\n",
    "us to perform a so-called unwrapped group operation:\n"
   ]
  },
  {
   "cell_type": "code",
   "execution_count": 46,
   "id": "d3286f3e",
   "metadata": {},
   "outputs": [
    {
     "data": {
      "text/plain": [
       "0     4.5\n",
       "1     5.5\n",
       "2     6.5\n",
       "3     4.5\n",
       "4     5.5\n",
       "5     6.5\n",
       "6     4.5\n",
       "7     5.5\n",
       "8     6.5\n",
       "9     4.5\n",
       "10    5.5\n",
       "11    6.5\n",
       "Name: value, dtype: float64"
      ]
     },
     "execution_count": 46,
     "metadata": {},
     "output_type": "execute_result"
    }
   ],
   "source": [
    "g.transform('mean')"
   ]
  },
  {
   "cell_type": "code",
   "execution_count": 47,
   "id": "0fd79aeb",
   "metadata": {},
   "outputs": [
    {
     "data": {
      "text/plain": [
       "0    -1.161895\n",
       "1    -1.161895\n",
       "2    -1.161895\n",
       "3    -0.387298\n",
       "4    -0.387298\n",
       "5    -0.387298\n",
       "6     0.387298\n",
       "7     0.387298\n",
       "8     0.387298\n",
       "9     1.161895\n",
       "10    1.161895\n",
       "11    1.161895\n",
       "Name: value, dtype: float64"
      ]
     },
     "execution_count": 47,
     "metadata": {},
     "output_type": "execute_result"
    }
   ],
   "source": [
    "normalized = (df['value'] - g.transform('mean')) / g.transform('std')\n",
    "normalized"
   ]
  },
  {
   "cell_type": "markdown",
   "id": "80bfc997",
   "metadata": {},
   "source": [
    "While an unwrapped group operation may involve multiple group aggregations, the\n",
    "overall benefit of vectorized operations often outweighs this."
   ]
  },
  {
   "cell_type": "markdown",
   "id": "afbedc6c",
   "metadata": {},
   "source": [
    "## Grouped Time Resampling"
   ]
  },
  {
   "cell_type": "markdown",
   "id": "840c33e2",
   "metadata": {},
   "source": [
    "For time series data, the resample method is semantically a group operation based on\n",
    "a time intervalization. Here’s a small example table:"
   ]
  },
  {
   "cell_type": "code",
   "execution_count": 48,
   "id": "f961901d",
   "metadata": {},
   "outputs": [
    {
     "data": {
      "text/html": [
       "<div>\n",
       "<style scoped>\n",
       "    .dataframe tbody tr th:only-of-type {\n",
       "        vertical-align: middle;\n",
       "    }\n",
       "\n",
       "    .dataframe tbody tr th {\n",
       "        vertical-align: top;\n",
       "    }\n",
       "\n",
       "    .dataframe thead th {\n",
       "        text-align: right;\n",
       "    }\n",
       "</style>\n",
       "<table border=\"1\" class=\"dataframe\">\n",
       "  <thead>\n",
       "    <tr style=\"text-align: right;\">\n",
       "      <th></th>\n",
       "      <th>time</th>\n",
       "      <th>value</th>\n",
       "    </tr>\n",
       "  </thead>\n",
       "  <tbody>\n",
       "    <tr>\n",
       "      <th>0</th>\n",
       "      <td>2017-05-20 00:00:00</td>\n",
       "      <td>0</td>\n",
       "    </tr>\n",
       "    <tr>\n",
       "      <th>1</th>\n",
       "      <td>2017-05-20 00:01:00</td>\n",
       "      <td>1</td>\n",
       "    </tr>\n",
       "    <tr>\n",
       "      <th>2</th>\n",
       "      <td>2017-05-20 00:02:00</td>\n",
       "      <td>2</td>\n",
       "    </tr>\n",
       "    <tr>\n",
       "      <th>3</th>\n",
       "      <td>2017-05-20 00:03:00</td>\n",
       "      <td>3</td>\n",
       "    </tr>\n",
       "    <tr>\n",
       "      <th>4</th>\n",
       "      <td>2017-05-20 00:04:00</td>\n",
       "      <td>4</td>\n",
       "    </tr>\n",
       "    <tr>\n",
       "      <th>5</th>\n",
       "      <td>2017-05-20 00:05:00</td>\n",
       "      <td>5</td>\n",
       "    </tr>\n",
       "    <tr>\n",
       "      <th>6</th>\n",
       "      <td>2017-05-20 00:06:00</td>\n",
       "      <td>6</td>\n",
       "    </tr>\n",
       "    <tr>\n",
       "      <th>7</th>\n",
       "      <td>2017-05-20 00:07:00</td>\n",
       "      <td>7</td>\n",
       "    </tr>\n",
       "    <tr>\n",
       "      <th>8</th>\n",
       "      <td>2017-05-20 00:08:00</td>\n",
       "      <td>8</td>\n",
       "    </tr>\n",
       "    <tr>\n",
       "      <th>9</th>\n",
       "      <td>2017-05-20 00:09:00</td>\n",
       "      <td>9</td>\n",
       "    </tr>\n",
       "    <tr>\n",
       "      <th>10</th>\n",
       "      <td>2017-05-20 00:10:00</td>\n",
       "      <td>10</td>\n",
       "    </tr>\n",
       "    <tr>\n",
       "      <th>11</th>\n",
       "      <td>2017-05-20 00:11:00</td>\n",
       "      <td>11</td>\n",
       "    </tr>\n",
       "    <tr>\n",
       "      <th>12</th>\n",
       "      <td>2017-05-20 00:12:00</td>\n",
       "      <td>12</td>\n",
       "    </tr>\n",
       "    <tr>\n",
       "      <th>13</th>\n",
       "      <td>2017-05-20 00:13:00</td>\n",
       "      <td>13</td>\n",
       "    </tr>\n",
       "    <tr>\n",
       "      <th>14</th>\n",
       "      <td>2017-05-20 00:14:00</td>\n",
       "      <td>14</td>\n",
       "    </tr>\n",
       "  </tbody>\n",
       "</table>\n",
       "</div>"
      ],
      "text/plain": [
       "                  time  value\n",
       "0  2017-05-20 00:00:00      0\n",
       "1  2017-05-20 00:01:00      1\n",
       "2  2017-05-20 00:02:00      2\n",
       "3  2017-05-20 00:03:00      3\n",
       "4  2017-05-20 00:04:00      4\n",
       "5  2017-05-20 00:05:00      5\n",
       "6  2017-05-20 00:06:00      6\n",
       "7  2017-05-20 00:07:00      7\n",
       "8  2017-05-20 00:08:00      8\n",
       "9  2017-05-20 00:09:00      9\n",
       "10 2017-05-20 00:10:00     10\n",
       "11 2017-05-20 00:11:00     11\n",
       "12 2017-05-20 00:12:00     12\n",
       "13 2017-05-20 00:13:00     13\n",
       "14 2017-05-20 00:14:00     14"
      ]
     },
     "execution_count": 48,
     "metadata": {},
     "output_type": "execute_result"
    }
   ],
   "source": [
    "N = 15\n",
    "times = pd.date_range('2017-05-20 00:00', freq='1min', periods=N)\n",
    "df = pd.DataFrame({'time': times,'value': np.arange(N)})\n",
    "df"
   ]
  },
  {
   "cell_type": "markdown",
   "id": "ec71d577",
   "metadata": {},
   "source": [
    "Here, we can index by 'time' and then resample:"
   ]
  },
  {
   "cell_type": "code",
   "execution_count": 49,
   "id": "24f971f8",
   "metadata": {},
   "outputs": [
    {
     "data": {
      "text/html": [
       "<div>\n",
       "<style scoped>\n",
       "    .dataframe tbody tr th:only-of-type {\n",
       "        vertical-align: middle;\n",
       "    }\n",
       "\n",
       "    .dataframe tbody tr th {\n",
       "        vertical-align: top;\n",
       "    }\n",
       "\n",
       "    .dataframe thead th {\n",
       "        text-align: right;\n",
       "    }\n",
       "</style>\n",
       "<table border=\"1\" class=\"dataframe\">\n",
       "  <thead>\n",
       "    <tr style=\"text-align: right;\">\n",
       "      <th></th>\n",
       "      <th>value</th>\n",
       "    </tr>\n",
       "    <tr>\n",
       "      <th>time</th>\n",
       "      <th></th>\n",
       "    </tr>\n",
       "  </thead>\n",
       "  <tbody>\n",
       "    <tr>\n",
       "      <th>2017-05-20 00:00:00</th>\n",
       "      <td>5</td>\n",
       "    </tr>\n",
       "    <tr>\n",
       "      <th>2017-05-20 00:05:00</th>\n",
       "      <td>5</td>\n",
       "    </tr>\n",
       "    <tr>\n",
       "      <th>2017-05-20 00:10:00</th>\n",
       "      <td>5</td>\n",
       "    </tr>\n",
       "  </tbody>\n",
       "</table>\n",
       "</div>"
      ],
      "text/plain": [
       "                     value\n",
       "time                      \n",
       "2017-05-20 00:00:00      5\n",
       "2017-05-20 00:05:00      5\n",
       "2017-05-20 00:10:00      5"
      ]
     },
     "execution_count": 49,
     "metadata": {},
     "output_type": "execute_result"
    }
   ],
   "source": [
    "df.set_index('time').resample('5min').count()"
   ]
  },
  {
   "cell_type": "markdown",
   "id": "a4b9830d",
   "metadata": {},
   "source": [
    "Suppose that a DataFrame contains multiple time series, marked by an additional\n",
    "group key column:"
   ]
  },
  {
   "cell_type": "code",
   "execution_count": 50,
   "id": "b6be506f",
   "metadata": {},
   "outputs": [
    {
     "data": {
      "text/html": [
       "<div>\n",
       "<style scoped>\n",
       "    .dataframe tbody tr th:only-of-type {\n",
       "        vertical-align: middle;\n",
       "    }\n",
       "\n",
       "    .dataframe tbody tr th {\n",
       "        vertical-align: top;\n",
       "    }\n",
       "\n",
       "    .dataframe thead th {\n",
       "        text-align: right;\n",
       "    }\n",
       "</style>\n",
       "<table border=\"1\" class=\"dataframe\">\n",
       "  <thead>\n",
       "    <tr style=\"text-align: right;\">\n",
       "      <th></th>\n",
       "      <th>time</th>\n",
       "      <th>key</th>\n",
       "      <th>value</th>\n",
       "    </tr>\n",
       "  </thead>\n",
       "  <tbody>\n",
       "    <tr>\n",
       "      <th>0</th>\n",
       "      <td>2017-05-20 00:00:00</td>\n",
       "      <td>a</td>\n",
       "      <td>0.0</td>\n",
       "    </tr>\n",
       "    <tr>\n",
       "      <th>1</th>\n",
       "      <td>2017-05-20 00:00:00</td>\n",
       "      <td>b</td>\n",
       "      <td>1.0</td>\n",
       "    </tr>\n",
       "    <tr>\n",
       "      <th>2</th>\n",
       "      <td>2017-05-20 00:00:00</td>\n",
       "      <td>c</td>\n",
       "      <td>2.0</td>\n",
       "    </tr>\n",
       "    <tr>\n",
       "      <th>3</th>\n",
       "      <td>2017-05-20 00:01:00</td>\n",
       "      <td>a</td>\n",
       "      <td>3.0</td>\n",
       "    </tr>\n",
       "    <tr>\n",
       "      <th>4</th>\n",
       "      <td>2017-05-20 00:01:00</td>\n",
       "      <td>b</td>\n",
       "      <td>4.0</td>\n",
       "    </tr>\n",
       "    <tr>\n",
       "      <th>5</th>\n",
       "      <td>2017-05-20 00:01:00</td>\n",
       "      <td>c</td>\n",
       "      <td>5.0</td>\n",
       "    </tr>\n",
       "    <tr>\n",
       "      <th>6</th>\n",
       "      <td>2017-05-20 00:02:00</td>\n",
       "      <td>a</td>\n",
       "      <td>6.0</td>\n",
       "    </tr>\n",
       "  </tbody>\n",
       "</table>\n",
       "</div>"
      ],
      "text/plain": [
       "                 time key  value\n",
       "0 2017-05-20 00:00:00   a    0.0\n",
       "1 2017-05-20 00:00:00   b    1.0\n",
       "2 2017-05-20 00:00:00   c    2.0\n",
       "3 2017-05-20 00:01:00   a    3.0\n",
       "4 2017-05-20 00:01:00   b    4.0\n",
       "5 2017-05-20 00:01:00   c    5.0\n",
       "6 2017-05-20 00:02:00   a    6.0"
      ]
     },
     "execution_count": 50,
     "metadata": {},
     "output_type": "execute_result"
    }
   ],
   "source": [
    "df2 = pd.DataFrame({'time': times.repeat(3),'key': np.tile(['a', 'b', 'c'], N),'value': np.arange(N * 3.)})\n",
    "df2[:7]"
   ]
  },
  {
   "cell_type": "markdown",
   "id": "1ac2f30c",
   "metadata": {},
   "source": [
    "To do the same resampling for each value of 'key', we introduce the pandas.Time\n",
    "Grouper object:"
   ]
  },
  {
   "cell_type": "code",
   "execution_count": 54,
   "id": "6f94c1e1",
   "metadata": {},
   "outputs": [],
   "source": [
    "time_key = pd.Grouper(freq='5min')"
   ]
  },
  {
   "cell_type": "code",
   "execution_count": null,
   "id": "bf5cc56a",
   "metadata": {},
   "outputs": [],
   "source": []
  },
  {
   "cell_type": "markdown",
   "id": "b49aa7b0",
   "metadata": {},
   "source": [
    "We can then set the time index, group by 'key' and time_key, and aggregate:"
   ]
  },
  {
   "cell_type": "code",
   "execution_count": 55,
   "id": "5524ea5b",
   "metadata": {},
   "outputs": [
    {
     "data": {
      "text/html": [
       "<div>\n",
       "<style scoped>\n",
       "    .dataframe tbody tr th:only-of-type {\n",
       "        vertical-align: middle;\n",
       "    }\n",
       "\n",
       "    .dataframe tbody tr th {\n",
       "        vertical-align: top;\n",
       "    }\n",
       "\n",
       "    .dataframe thead th {\n",
       "        text-align: right;\n",
       "    }\n",
       "</style>\n",
       "<table border=\"1\" class=\"dataframe\">\n",
       "  <thead>\n",
       "    <tr style=\"text-align: right;\">\n",
       "      <th></th>\n",
       "      <th></th>\n",
       "      <th>value</th>\n",
       "    </tr>\n",
       "    <tr>\n",
       "      <th>key</th>\n",
       "      <th>time</th>\n",
       "      <th></th>\n",
       "    </tr>\n",
       "  </thead>\n",
       "  <tbody>\n",
       "    <tr>\n",
       "      <th rowspan=\"3\" valign=\"top\">a</th>\n",
       "      <th>2017-05-20 00:00:00</th>\n",
       "      <td>30.0</td>\n",
       "    </tr>\n",
       "    <tr>\n",
       "      <th>2017-05-20 00:05:00</th>\n",
       "      <td>105.0</td>\n",
       "    </tr>\n",
       "    <tr>\n",
       "      <th>2017-05-20 00:10:00</th>\n",
       "      <td>180.0</td>\n",
       "    </tr>\n",
       "    <tr>\n",
       "      <th rowspan=\"3\" valign=\"top\">b</th>\n",
       "      <th>2017-05-20 00:00:00</th>\n",
       "      <td>35.0</td>\n",
       "    </tr>\n",
       "    <tr>\n",
       "      <th>2017-05-20 00:05:00</th>\n",
       "      <td>110.0</td>\n",
       "    </tr>\n",
       "    <tr>\n",
       "      <th>2017-05-20 00:10:00</th>\n",
       "      <td>185.0</td>\n",
       "    </tr>\n",
       "    <tr>\n",
       "      <th rowspan=\"3\" valign=\"top\">c</th>\n",
       "      <th>2017-05-20 00:00:00</th>\n",
       "      <td>40.0</td>\n",
       "    </tr>\n",
       "    <tr>\n",
       "      <th>2017-05-20 00:05:00</th>\n",
       "      <td>115.0</td>\n",
       "    </tr>\n",
       "    <tr>\n",
       "      <th>2017-05-20 00:10:00</th>\n",
       "      <td>190.0</td>\n",
       "    </tr>\n",
       "  </tbody>\n",
       "</table>\n",
       "</div>"
      ],
      "text/plain": [
       "                         value\n",
       "key time                      \n",
       "a   2017-05-20 00:00:00   30.0\n",
       "    2017-05-20 00:05:00  105.0\n",
       "    2017-05-20 00:10:00  180.0\n",
       "b   2017-05-20 00:00:00   35.0\n",
       "    2017-05-20 00:05:00  110.0\n",
       "    2017-05-20 00:10:00  185.0\n",
       "c   2017-05-20 00:00:00   40.0\n",
       "    2017-05-20 00:05:00  115.0\n",
       "    2017-05-20 00:10:00  190.0"
      ]
     },
     "execution_count": 55,
     "metadata": {},
     "output_type": "execute_result"
    }
   ],
   "source": [
    "resampled = (df2.set_index('time').groupby(['key', time_key]).sum())\n",
    "resampled"
   ]
  },
  {
   "cell_type": "code",
   "execution_count": 56,
   "id": "ea833947",
   "metadata": {},
   "outputs": [
    {
     "data": {
      "text/html": [
       "<div>\n",
       "<style scoped>\n",
       "    .dataframe tbody tr th:only-of-type {\n",
       "        vertical-align: middle;\n",
       "    }\n",
       "\n",
       "    .dataframe tbody tr th {\n",
       "        vertical-align: top;\n",
       "    }\n",
       "\n",
       "    .dataframe thead th {\n",
       "        text-align: right;\n",
       "    }\n",
       "</style>\n",
       "<table border=\"1\" class=\"dataframe\">\n",
       "  <thead>\n",
       "    <tr style=\"text-align: right;\">\n",
       "      <th></th>\n",
       "      <th>key</th>\n",
       "      <th>time</th>\n",
       "      <th>value</th>\n",
       "    </tr>\n",
       "  </thead>\n",
       "  <tbody>\n",
       "    <tr>\n",
       "      <th>0</th>\n",
       "      <td>a</td>\n",
       "      <td>2017-05-20 00:00:00</td>\n",
       "      <td>30.0</td>\n",
       "    </tr>\n",
       "    <tr>\n",
       "      <th>1</th>\n",
       "      <td>a</td>\n",
       "      <td>2017-05-20 00:05:00</td>\n",
       "      <td>105.0</td>\n",
       "    </tr>\n",
       "    <tr>\n",
       "      <th>2</th>\n",
       "      <td>a</td>\n",
       "      <td>2017-05-20 00:10:00</td>\n",
       "      <td>180.0</td>\n",
       "    </tr>\n",
       "    <tr>\n",
       "      <th>3</th>\n",
       "      <td>b</td>\n",
       "      <td>2017-05-20 00:00:00</td>\n",
       "      <td>35.0</td>\n",
       "    </tr>\n",
       "    <tr>\n",
       "      <th>4</th>\n",
       "      <td>b</td>\n",
       "      <td>2017-05-20 00:05:00</td>\n",
       "      <td>110.0</td>\n",
       "    </tr>\n",
       "    <tr>\n",
       "      <th>5</th>\n",
       "      <td>b</td>\n",
       "      <td>2017-05-20 00:10:00</td>\n",
       "      <td>185.0</td>\n",
       "    </tr>\n",
       "    <tr>\n",
       "      <th>6</th>\n",
       "      <td>c</td>\n",
       "      <td>2017-05-20 00:00:00</td>\n",
       "      <td>40.0</td>\n",
       "    </tr>\n",
       "    <tr>\n",
       "      <th>7</th>\n",
       "      <td>c</td>\n",
       "      <td>2017-05-20 00:05:00</td>\n",
       "      <td>115.0</td>\n",
       "    </tr>\n",
       "    <tr>\n",
       "      <th>8</th>\n",
       "      <td>c</td>\n",
       "      <td>2017-05-20 00:10:00</td>\n",
       "      <td>190.0</td>\n",
       "    </tr>\n",
       "  </tbody>\n",
       "</table>\n",
       "</div>"
      ],
      "text/plain": [
       "  key                time  value\n",
       "0   a 2017-05-20 00:00:00   30.0\n",
       "1   a 2017-05-20 00:05:00  105.0\n",
       "2   a 2017-05-20 00:10:00  180.0\n",
       "3   b 2017-05-20 00:00:00   35.0\n",
       "4   b 2017-05-20 00:05:00  110.0\n",
       "5   b 2017-05-20 00:10:00  185.0\n",
       "6   c 2017-05-20 00:00:00   40.0\n",
       "7   c 2017-05-20 00:05:00  115.0\n",
       "8   c 2017-05-20 00:10:00  190.0"
      ]
     },
     "execution_count": 56,
     "metadata": {},
     "output_type": "execute_result"
    }
   ],
   "source": [
    "resampled.reset_index()"
   ]
  },
  {
   "cell_type": "markdown",
   "id": "8d45a6aa",
   "metadata": {},
   "source": [
    "One constraint with using TimeGrouper is that the time must be the index of the Ser‐\n",
    "ies or DataFrame"
   ]
  },
  {
   "cell_type": "markdown",
   "id": "3bf61745",
   "metadata": {},
   "source": [
    "## 12.3 Techniques for Method Chaining"
   ]
  },
  {
   "cell_type": "markdown",
   "id": "62f6aa71",
   "metadata": {},
   "source": [
    "When applying a sequence of transformations to a dataset, you may find yourself cre‐\n",
    "ating numerous temporary variables that are never used in your analysis. Consider\n",
    "this example, for instance:"
   ]
  },
  {
   "cell_type": "code",
   "execution_count": 59,
   "id": "6694795d",
   "metadata": {},
   "outputs": [],
   "source": [
    "# df = load_data()\n",
    "# df2 = df[df['col2'] < 0]\n",
    "# df2['col1_demeaned'] = df2['col1'] - df2['col1'].mean()\n",
    "# result = df2.groupby('key').col1_demeaned.std()"
   ]
  },
  {
   "cell_type": "markdown",
   "id": "5cd8ddbb",
   "metadata": {},
   "source": [
    "While we’re not using any real data here, this example highlights some new methods.\n",
    "First, the DataFrame.assign method is a functional alternative to column assign‐\n",
    "ments of the form df[k] = v. Rather than modifying the object in-place, it returns a\n",
    "new DataFrame with the indicated modifications. So these statements are equivalent:"
   ]
  },
  {
   "cell_type": "code",
   "execution_count": 60,
   "id": "57c65c29",
   "metadata": {},
   "outputs": [],
   "source": [
    "# # Usual non-functional way\n",
    "# df2 = df.copy()\n",
    "# df2['k'] = v\n",
    "# # Functional assign way\n",
    "# df2 = df.assign(k=v)"
   ]
  },
  {
   "cell_type": "markdown",
   "id": "85915d77",
   "metadata": {},
   "source": [
    "Assigning in-place may execute faster than using assign, but assign enables easier\n",
    "method chaining:\n"
   ]
  },
  {
   "cell_type": "code",
   "execution_count": 61,
   "id": "806ae097",
   "metadata": {},
   "outputs": [],
   "source": [
    "# result = (df2.assign(col1_demeaned=df2.col1 - df2.col2.mean())\n",
    "#  .groupby('key')\n",
    "#  .col1_demeaned.std())\n"
   ]
  },
  {
   "cell_type": "markdown",
   "id": "01211f6c",
   "metadata": {},
   "source": [
    "I used the outer parentheses to make it more convenient to add line breaks.\n",
    "   \n",
    "One thing to keep in mind when doing method chaining is that you may need to\n",
    "refer to temporary objects. In the preceding example, we cannot refer to the result of\n",
    "load_data until it has been assigned to the temporary variable df. To help with this,\n",
    "assign and many other pandas functions accept function-like arguments, also known\n",
    "as callables.\n",
    " \n",
    "      \n",
    "To show callables in action, consider a fragment of the example from before:\n"
   ]
  },
  {
   "cell_type": "code",
   "execution_count": 62,
   "id": "61874f2d",
   "metadata": {},
   "outputs": [],
   "source": [
    "# df = load_data()\n",
    "# df2 = df[df['col2'] < 0]"
   ]
  },
  {
   "cell_type": "markdown",
   "id": "f0056f1a",
   "metadata": {},
   "source": [
    "This can be rewritten as:"
   ]
  },
  {
   "cell_type": "code",
   "execution_count": 63,
   "id": "bc0fedea",
   "metadata": {},
   "outputs": [],
   "source": [
    "# df = (load_data()\n",
    "#  [lambda x: x['col2'] < 0])"
   ]
  },
  {
   "cell_type": "markdown",
   "id": "42117912",
   "metadata": {},
   "source": [
    "Here, the result of load_data is not assigned to a variable, so the function passed into\n",
    "[] is then bound to the object at that stage of the method chain.\n",
    " \n",
    "      \n",
    "We can continue, then, and write the entire sequence as a single chained expression:"
   ]
  },
  {
   "cell_type": "code",
   "execution_count": 64,
   "id": "d51da8b6",
   "metadata": {},
   "outputs": [],
   "source": [
    "# result = (load_data()\n",
    "#  [lambda x: x.col2 < 0]\n",
    "#  .assign(col1_demeaned=lambda x: x.col1 - x.col1.mean())\n",
    "#  .groupby('key')\n",
    "#  .col1_demeaned.std())"
   ]
  },
  {
   "cell_type": "markdown",
   "id": "9453c693",
   "metadata": {},
   "source": [
    "Whether you prefer to write code in this style is a matter of taste, and splitting up the\n",
    "expression into multiple steps may make your code more readable."
   ]
  },
  {
   "cell_type": "markdown",
   "id": "29efc723",
   "metadata": {},
   "source": [
    "## The pipe Method\n"
   ]
  },
  {
   "cell_type": "markdown",
   "id": "85aba4dd",
   "metadata": {},
   "source": [
    "You can accomplish a lot with built-in pandas functions and the approaches to\n",
    "method chaining with callables that we just looked at. However, sometimes you need\n",
    "to use your own functions or functions from third-party libraries. This is where the\n",
    "pipe method comes in.\n",
    "  \n",
    "     \n",
    "Consider a sequence of function calls:"
   ]
  },
  {
   "cell_type": "code",
   "execution_count": 66,
   "id": "bf2c1003",
   "metadata": {},
   "outputs": [],
   "source": [
    "# a = f(df, arg1=v1)\n",
    "# b = g(a, v2, arg3=v3)\n",
    "# c = h(b, arg4=v4)\n"
   ]
  },
  {
   "cell_type": "markdown",
   "id": "aeace31a",
   "metadata": {},
   "source": [
    "When using functions that accept and return Series or DataFrame objects, you can\n",
    "rewrite this using calls to pipe:"
   ]
  },
  {
   "cell_type": "code",
   "execution_count": 67,
   "id": "c830ee02",
   "metadata": {},
   "outputs": [],
   "source": [
    "# result = (df.pipe(f, arg1=v1)\n",
    "#  .pipe(g, v2, arg3=v3)\n",
    "#  .pipe(h, arg4=v4))\n"
   ]
  },
  {
   "cell_type": "markdown",
   "id": "438f94f2",
   "metadata": {},
   "source": [
    "The statement f(df) and df.pipe(f) are equivalent, but pipe makes chained invoca‐\n",
    "tion easier."
   ]
  },
  {
   "cell_type": "markdown",
   "id": "b1e2aa8e",
   "metadata": {},
   "source": [
    "A potentially useful pattern for pipe is to generalize sequences of operations into\n",
    "reusable functions. As an example, let’s consider substracting group means from a\n",
    "column:"
   ]
  },
  {
   "cell_type": "code",
   "execution_count": 68,
   "id": "ccec00ab",
   "metadata": {},
   "outputs": [],
   "source": [
    "# g = df.groupby(['key1', 'key2'])\n",
    "# df['col1'] = df['col1'] - g.transform('mean')\n"
   ]
  },
  {
   "cell_type": "markdown",
   "id": "42db2c10",
   "metadata": {},
   "source": [
    "Suppose that you wanted to be able to demean more than one column and easily\n",
    "change the group keys. Additionally, you might want to perform this transformation\n",
    "in a method chain. Here is an example implementation:"
   ]
  },
  {
   "cell_type": "code",
   "execution_count": 69,
   "id": "45abb99f",
   "metadata": {},
   "outputs": [],
   "source": [
    "# def group_demean(df, by, cols):\n",
    "#  result = df.copy()\n",
    "#  g = df.groupby(by)\n",
    "#  for c in cols:\n",
    "#  result[c] = df[c] - g[c].transform('mean')\n",
    "#  return result\n"
   ]
  },
  {
   "cell_type": "markdown",
   "id": "1759b67c",
   "metadata": {},
   "source": [
    "Then it is possible to write:\n"
   ]
  },
  {
   "cell_type": "code",
   "execution_count": 70,
   "id": "aaf85f79",
   "metadata": {},
   "outputs": [],
   "source": [
    "# result = (df[df.col1 < 0].pipe(group_demean, ['key1', 'key2'], ['col1']))"
   ]
  },
  {
   "cell_type": "code",
   "execution_count": null,
   "id": "bce4bca4",
   "metadata": {},
   "outputs": [],
   "source": []
  }
 ],
 "metadata": {
  "kernelspec": {
   "display_name": "Python 3 (ipykernel)",
   "language": "python",
   "name": "python3"
  },
  "language_info": {
   "codemirror_mode": {
    "name": "ipython",
    "version": 3
   },
   "file_extension": ".py",
   "mimetype": "text/x-python",
   "name": "python",
   "nbconvert_exporter": "python",
   "pygments_lexer": "ipython3",
   "version": "3.9.18"
  }
 },
 "nbformat": 4,
 "nbformat_minor": 5
}
