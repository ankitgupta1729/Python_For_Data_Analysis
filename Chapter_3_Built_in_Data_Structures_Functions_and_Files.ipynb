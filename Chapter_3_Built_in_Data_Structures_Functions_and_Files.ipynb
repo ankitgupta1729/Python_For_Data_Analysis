{
 "cells": [
  {
   "cell_type": "markdown",
   "id": "b24b1841",
   "metadata": {},
   "source": [
    "## 3.1 Data Structures and Sequences"
   ]
  },
  {
   "cell_type": "markdown",
   "id": "f4586847",
   "metadata": {},
   "source": [
    "### Tuple"
   ]
  },
  {
   "cell_type": "markdown",
   "id": "eb21f982",
   "metadata": {},
   "source": [
    "A tuple is a fixed-length, immutable sequence of Python objects. The easiest way to\n",
    "create one is with a comma-separated sequence of values:"
   ]
  },
  {
   "cell_type": "code",
   "execution_count": 1,
   "id": "e079281a",
   "metadata": {},
   "outputs": [],
   "source": [
    " tup = 4, 5, 6"
   ]
  },
  {
   "cell_type": "code",
   "execution_count": 2,
   "id": "04653ea1",
   "metadata": {},
   "outputs": [
    {
     "data": {
      "text/plain": [
       "(4, 5, 6)"
      ]
     },
     "execution_count": 2,
     "metadata": {},
     "output_type": "execute_result"
    }
   ],
   "source": [
    "tup"
   ]
  },
  {
   "cell_type": "code",
   "execution_count": 3,
   "id": "a758a8be",
   "metadata": {},
   "outputs": [],
   "source": [
    "nested_tup = (4, 5, 6), (7, 8)"
   ]
  },
  {
   "cell_type": "code",
   "execution_count": 4,
   "id": "8e928b12",
   "metadata": {},
   "outputs": [
    {
     "data": {
      "text/plain": [
       "((4, 5, 6), (7, 8))"
      ]
     },
     "execution_count": 4,
     "metadata": {},
     "output_type": "execute_result"
    }
   ],
   "source": [
    "nested_tup"
   ]
  },
  {
   "cell_type": "markdown",
   "id": "a7b2d7b7",
   "metadata": {},
   "source": [
    "You can convert any sequence or iterator to a tuple by invoking tuple:"
   ]
  },
  {
   "cell_type": "code",
   "execution_count": 9,
   "id": "eda9ba7f",
   "metadata": {},
   "outputs": [
    {
     "data": {
      "text/plain": [
       "(4, 0, 2)"
      ]
     },
     "execution_count": 9,
     "metadata": {},
     "output_type": "execute_result"
    }
   ],
   "source": [
    "tuple([4, 0, 2])"
   ]
  },
  {
   "cell_type": "code",
   "execution_count": 10,
   "id": "00fdbc65",
   "metadata": {},
   "outputs": [],
   "source": [
    "tup=tuple('string')"
   ]
  },
  {
   "cell_type": "code",
   "execution_count": 11,
   "id": "03394ca2",
   "metadata": {},
   "outputs": [
    {
     "data": {
      "text/plain": [
       "('s', 't', 'r', 'i', 'n', 'g')"
      ]
     },
     "execution_count": 11,
     "metadata": {},
     "output_type": "execute_result"
    }
   ],
   "source": [
    "tup"
   ]
  },
  {
   "cell_type": "markdown",
   "id": "4767dc27",
   "metadata": {},
   "source": [
    "Elements can be accessed with square brackets [] as with most other sequence types."
   ]
  },
  {
   "cell_type": "code",
   "execution_count": 12,
   "id": "8685e3c5",
   "metadata": {},
   "outputs": [
    {
     "data": {
      "text/plain": [
       "'s'"
      ]
     },
     "execution_count": 12,
     "metadata": {},
     "output_type": "execute_result"
    }
   ],
   "source": [
    "tup[0]"
   ]
  },
  {
   "cell_type": "markdown",
   "id": "b5f53917",
   "metadata": {},
   "source": [
    "While the objects stored in a tuple may be mutable themselves, once the tuple is created it’s not possible to modify which object is stored in each slot:"
   ]
  },
  {
   "cell_type": "code",
   "execution_count": 13,
   "id": "d0343acb",
   "metadata": {},
   "outputs": [],
   "source": [
    "tup = tuple(['foo', [1, 2], True])"
   ]
  },
  {
   "cell_type": "code",
   "execution_count": 14,
   "id": "d4cdc23e",
   "metadata": {},
   "outputs": [
    {
     "ename": "TypeError",
     "evalue": "'tuple' object does not support item assignment",
     "output_type": "error",
     "traceback": [
      "\u001b[1;31m---------------------------------------------------------------------------\u001b[0m",
      "\u001b[1;31mTypeError\u001b[0m                                 Traceback (most recent call last)",
      "\u001b[1;32m<ipython-input-14-b89d0c4ae599>\u001b[0m in \u001b[0;36m<module>\u001b[1;34m\u001b[0m\n\u001b[1;32m----> 1\u001b[1;33m \u001b[0mtup\u001b[0m\u001b[1;33m[\u001b[0m\u001b[1;36m2\u001b[0m\u001b[1;33m]\u001b[0m \u001b[1;33m=\u001b[0m \u001b[1;32mFalse\u001b[0m\u001b[1;33m\u001b[0m\u001b[1;33m\u001b[0m\u001b[0m\n\u001b[0m",
      "\u001b[1;31mTypeError\u001b[0m: 'tuple' object does not support item assignment"
     ]
    }
   ],
   "source": [
    "tup[2] = False"
   ]
  },
  {
   "cell_type": "markdown",
   "id": "928b9e31",
   "metadata": {},
   "source": [
    "If an object inside a tuple is mutable, such as a list, you can modify it in-place:"
   ]
  },
  {
   "cell_type": "code",
   "execution_count": 15,
   "id": "dc9e43b4",
   "metadata": {},
   "outputs": [],
   "source": [
    "tup[1].append(3)"
   ]
  },
  {
   "cell_type": "code",
   "execution_count": 16,
   "id": "8c779193",
   "metadata": {},
   "outputs": [
    {
     "data": {
      "text/plain": [
       "('foo', [1, 2, 3], True)"
      ]
     },
     "execution_count": 16,
     "metadata": {},
     "output_type": "execute_result"
    }
   ],
   "source": [
    "tup"
   ]
  },
  {
   "cell_type": "markdown",
   "id": "1bd1f140",
   "metadata": {},
   "source": [
    "You can concatenate tuples using the + operator to produce longer tuples:"
   ]
  },
  {
   "cell_type": "code",
   "execution_count": 21,
   "id": "38127f84",
   "metadata": {},
   "outputs": [
    {
     "data": {
      "text/plain": [
       "(4, None, 'foo', 6, 0, 'bar')"
      ]
     },
     "execution_count": 21,
     "metadata": {},
     "output_type": "execute_result"
    }
   ],
   "source": [
    "(4, None, 'foo') + (6, 0) + ('bar',)"
   ]
  },
  {
   "cell_type": "markdown",
   "id": "7c2f94bf",
   "metadata": {},
   "source": [
    "Multiplying a tuple by an integer, as with lists, has the effect of concatenating together\n",
    "that many copies of the tuple:"
   ]
  },
  {
   "cell_type": "code",
   "execution_count": 22,
   "id": "96974a70",
   "metadata": {},
   "outputs": [
    {
     "data": {
      "text/plain": [
       "('foo', 'bar', 'foo', 'bar', 'foo', 'bar', 'foo', 'bar')"
      ]
     },
     "execution_count": 22,
     "metadata": {},
     "output_type": "execute_result"
    }
   ],
   "source": [
    "('foo', 'bar') * 4"
   ]
  },
  {
   "cell_type": "markdown",
   "id": "68980a08",
   "metadata": {},
   "source": [
    "Note that the objects themselves are not copied, only the references to them."
   ]
  },
  {
   "cell_type": "markdown",
   "id": "ceeddd6e",
   "metadata": {},
   "source": [
    "### Unpacking tuples"
   ]
  },
  {
   "cell_type": "markdown",
   "id": "6dc24eea",
   "metadata": {},
   "source": [
    "If you try to assign to a tuple-like expression of variables, Python will attempt to\n",
    "unpack the value on the righthand side of the equals sign:"
   ]
  },
  {
   "cell_type": "code",
   "execution_count": 23,
   "id": "bfbedb20",
   "metadata": {},
   "outputs": [
    {
     "data": {
      "text/plain": [
       "5"
      ]
     },
     "execution_count": 23,
     "metadata": {},
     "output_type": "execute_result"
    }
   ],
   "source": [
    "tup = (4, 5, 6)\n",
    "a, b, c = tup\n",
    "b"
   ]
  },
  {
   "cell_type": "markdown",
   "id": "9d5e4df0",
   "metadata": {},
   "source": [
    "Even sequences with nested tuples can be unpacked:"
   ]
  },
  {
   "cell_type": "code",
   "execution_count": 24,
   "id": "ce4a15d0",
   "metadata": {},
   "outputs": [
    {
     "data": {
      "text/plain": [
       "7"
      ]
     },
     "execution_count": 24,
     "metadata": {},
     "output_type": "execute_result"
    }
   ],
   "source": [
    "tup = 4, 5, (6, 7)\n",
    "a, b, (c, d) = tup\n",
    "d"
   ]
  },
  {
   "cell_type": "markdown",
   "id": "d3d2d3cd",
   "metadata": {},
   "source": [
    "Using this functionality you can easily swap variable names, a task which in many\n",
    "languages might look like"
   ]
  },
  {
   "cell_type": "code",
   "execution_count": 25,
   "id": "3cb1325a",
   "metadata": {},
   "outputs": [],
   "source": [
    "tmp = a\n",
    "a = b\n",
    "b = tmp"
   ]
  },
  {
   "cell_type": "markdown",
   "id": "e897446d",
   "metadata": {},
   "source": [
    "But, in Python, the swap can be done like this:"
   ]
  },
  {
   "cell_type": "code",
   "execution_count": 26,
   "id": "03604f4d",
   "metadata": {},
   "outputs": [],
   "source": [
    "a, b = 1, 2"
   ]
  },
  {
   "cell_type": "code",
   "execution_count": 27,
   "id": "7aa7ec9a",
   "metadata": {},
   "outputs": [
    {
     "name": "stdout",
     "output_type": "stream",
     "text": [
      "1 2\n"
     ]
    }
   ],
   "source": [
    "b, a = a, b\n",
    "print(b,a)"
   ]
  },
  {
   "cell_type": "markdown",
   "id": "a16c2624",
   "metadata": {},
   "source": [
    "A common use of variable unpacking is iterating over sequences of tuples or lists:"
   ]
  },
  {
   "cell_type": "code",
   "execution_count": 28,
   "id": "91ac1f67",
   "metadata": {},
   "outputs": [],
   "source": [
    " seq = [(1, 2, 3), (4, 5, 6), (7, 8, 9)]"
   ]
  },
  {
   "cell_type": "code",
   "execution_count": 29,
   "id": "4b29cc7a",
   "metadata": {},
   "outputs": [
    {
     "name": "stdout",
     "output_type": "stream",
     "text": [
      "a=1, b=2, c=3\n",
      "a=4, b=5, c=6\n",
      "a=7, b=8, c=9\n"
     ]
    }
   ],
   "source": [
    "for a, b, c in seq:\n",
    "    print('a={0}, b={1}, c={2}'.format(a, b, c))\n"
   ]
  },
  {
   "cell_type": "markdown",
   "id": "f36d84a4",
   "metadata": {},
   "source": [
    "The Python language recently acquired some more advanced tuple unpacking to help\n",
    "with situations where you may want to “pluck” a few elements from the beginning of\n",
    "a tuple. This uses the special syntax *rest, which is also used in function signatures\n",
    "to capture an arbitrarily long list of positional arguments:\n"
   ]
  },
  {
   "cell_type": "code",
   "execution_count": 30,
   "id": "81d43066",
   "metadata": {},
   "outputs": [],
   "source": [
    "values = 1, 2, 3, 4, 5\n",
    "a, b, *rest = values"
   ]
  },
  {
   "cell_type": "code",
   "execution_count": 31,
   "id": "eaaa69d2",
   "metadata": {},
   "outputs": [
    {
     "data": {
      "text/plain": [
       "(1, 2)"
      ]
     },
     "execution_count": 31,
     "metadata": {},
     "output_type": "execute_result"
    }
   ],
   "source": [
    "a,b"
   ]
  },
  {
   "cell_type": "code",
   "execution_count": 32,
   "id": "1d8880a2",
   "metadata": {},
   "outputs": [
    {
     "data": {
      "text/plain": [
       "[3, 4, 5]"
      ]
     },
     "execution_count": 32,
     "metadata": {},
     "output_type": "execute_result"
    }
   ],
   "source": [
    "rest"
   ]
  },
  {
   "cell_type": "markdown",
   "id": "9ac43ca7",
   "metadata": {},
   "source": [
    "many Python programmers will use\n",
    "the underscore (_) for unwanted variables:"
   ]
  },
  {
   "cell_type": "code",
   "execution_count": 33,
   "id": "91f4bd75",
   "metadata": {},
   "outputs": [],
   "source": [
    "a, b, *_ = values\n"
   ]
  },
  {
   "cell_type": "code",
   "execution_count": 34,
   "id": "34a956a4",
   "metadata": {},
   "outputs": [
    {
     "data": {
      "text/plain": [
       "(1, 2)"
      ]
     },
     "execution_count": 34,
     "metadata": {},
     "output_type": "execute_result"
    }
   ],
   "source": [
    "a,b"
   ]
  },
  {
   "cell_type": "code",
   "execution_count": 35,
   "id": "4f90a260",
   "metadata": {},
   "outputs": [
    {
     "data": {
      "text/plain": [
       "[3, 4, 5]"
      ]
     },
     "execution_count": 35,
     "metadata": {},
     "output_type": "execute_result"
    }
   ],
   "source": [
    "_"
   ]
  },
  {
   "cell_type": "markdown",
   "id": "a7f30cfd",
   "metadata": {},
   "source": [
    "### Tuple methods"
   ]
  },
  {
   "cell_type": "markdown",
   "id": "0badad62",
   "metadata": {},
   "source": [
    "Since the size and contents of a tuple cannot be modified, it is very light on instance\n",
    "methods. A particularly useful one (also available on lists) is count, which counts the\n",
    "number of occurrences of a value:"
   ]
  },
  {
   "cell_type": "code",
   "execution_count": 36,
   "id": "9cbda1a8",
   "metadata": {},
   "outputs": [
    {
     "data": {
      "text/plain": [
       "4"
      ]
     },
     "execution_count": 36,
     "metadata": {},
     "output_type": "execute_result"
    }
   ],
   "source": [
    "a = (1, 2, 2, 2, 3, 4, 2)\n",
    "a.count(2)"
   ]
  },
  {
   "cell_type": "markdown",
   "id": "8723b753",
   "metadata": {},
   "source": [
    "## List"
   ]
  },
  {
   "cell_type": "markdown",
   "id": "ff0b0634",
   "metadata": {},
   "source": [
    "In contrast with tuples, lists are variable-length and their contents can be modified\n",
    "in-place. You can define them using square brackets [] or using the list type function:"
   ]
  },
  {
   "cell_type": "code",
   "execution_count": 37,
   "id": "044cf685",
   "metadata": {},
   "outputs": [
    {
     "data": {
      "text/plain": [
       "[2, 3, 7, None]"
      ]
     },
     "execution_count": 37,
     "metadata": {},
     "output_type": "execute_result"
    }
   ],
   "source": [
    "a_list = [2, 3, 7, None]\n",
    "a_list"
   ]
  },
  {
   "cell_type": "code",
   "execution_count": 2,
   "id": "7207b744",
   "metadata": {},
   "outputs": [],
   "source": [
    "tup = ('foo', 'bar', 'baz')\n",
    "b_list = list(tup)"
   ]
  },
  {
   "cell_type": "code",
   "execution_count": 3,
   "id": "63213c4d",
   "metadata": {},
   "outputs": [
    {
     "data": {
      "text/plain": [
       "['foo', 'bar', 'baz']"
      ]
     },
     "execution_count": 3,
     "metadata": {},
     "output_type": "execute_result"
    }
   ],
   "source": [
    "b_list"
   ]
  },
  {
   "cell_type": "code",
   "execution_count": 4,
   "id": "c0c4d1a7",
   "metadata": {},
   "outputs": [],
   "source": [
    "b_list[1] = 'peekaboo'"
   ]
  },
  {
   "cell_type": "code",
   "execution_count": 5,
   "id": "6e8eadad",
   "metadata": {},
   "outputs": [
    {
     "data": {
      "text/plain": [
       "['foo', 'peekaboo', 'baz']"
      ]
     },
     "execution_count": 5,
     "metadata": {},
     "output_type": "execute_result"
    }
   ],
   "source": [
    "b_list"
   ]
  },
  {
   "cell_type": "markdown",
   "id": "1f297b01",
   "metadata": {},
   "source": [
    "Lists and tuples are semantically similar (though tuples cannot be modified) and can\n",
    "be used interchangeably in many functions."
   ]
  },
  {
   "cell_type": "markdown",
   "id": "a677b7da",
   "metadata": {},
   "source": [
    "The list function is frequently used in data processing as a way to materialize an\n",
    "iterator or generator expression:"
   ]
  },
  {
   "cell_type": "code",
   "execution_count": 7,
   "id": "4df3a743",
   "metadata": {},
   "outputs": [
    {
     "data": {
      "text/plain": [
       "range(0, 10)"
      ]
     },
     "execution_count": 7,
     "metadata": {},
     "output_type": "execute_result"
    }
   ],
   "source": [
    "gen = range(10)\n",
    "gen"
   ]
  },
  {
   "cell_type": "code",
   "execution_count": 8,
   "id": "4e8ec963",
   "metadata": {},
   "outputs": [
    {
     "data": {
      "text/plain": [
       "[0, 1, 2, 3, 4, 5, 6, 7, 8, 9]"
      ]
     },
     "execution_count": 8,
     "metadata": {},
     "output_type": "execute_result"
    }
   ],
   "source": [
    "list(gen)\n"
   ]
  },
  {
   "cell_type": "markdown",
   "id": "ae052995",
   "metadata": {},
   "source": [
    "### Adding and removing elements"
   ]
  },
  {
   "cell_type": "markdown",
   "id": "4885fedc",
   "metadata": {},
   "source": [
    "Elements can be appended to the end of the list with the append method"
   ]
  },
  {
   "cell_type": "code",
   "execution_count": 9,
   "id": "1daeff37",
   "metadata": {},
   "outputs": [
    {
     "data": {
      "text/plain": [
       "['foo', 'peekaboo', 'baz', 'dwarf']"
      ]
     },
     "execution_count": 9,
     "metadata": {},
     "output_type": "execute_result"
    }
   ],
   "source": [
    "b_list.append('dwarf')\n",
    "b_list"
   ]
  },
  {
   "cell_type": "markdown",
   "id": "b3c51900",
   "metadata": {},
   "source": [
    "Using insert you can insert an element at a specific location in the list:"
   ]
  },
  {
   "cell_type": "code",
   "execution_count": 10,
   "id": "25a4e447",
   "metadata": {},
   "outputs": [
    {
     "data": {
      "text/plain": [
       "['foo', 'red', 'peekaboo', 'baz', 'dwarf']"
      ]
     },
     "execution_count": 10,
     "metadata": {},
     "output_type": "execute_result"
    }
   ],
   "source": [
    " b_list.insert(1, 'red')\n",
    "b_list"
   ]
  },
  {
   "cell_type": "markdown",
   "id": "97601a24",
   "metadata": {},
   "source": [
    "The insertion index must be between 0 and the length of the list, inclusive."
   ]
  },
  {
   "cell_type": "markdown",
   "id": "00ecb3d2",
   "metadata": {},
   "source": [
    "insert is computationally expensive compared with append,\n",
    "because references to subsequent elements have to be shifted internally to make room for the new element. If you need to insert elements at both the beginning and end of a sequence, you may wish\n",
    "to explore collections.deque, a double-ended queue, for this purpose"
   ]
  },
  {
   "cell_type": "markdown",
   "id": "683f95f1",
   "metadata": {},
   "source": [
    "The inverse operation to insert is pop, which removes and returns an element at a\n",
    "particular index:"
   ]
  },
  {
   "cell_type": "code",
   "execution_count": 11,
   "id": "304b30a9",
   "metadata": {},
   "outputs": [
    {
     "data": {
      "text/plain": [
       "'peekaboo'"
      ]
     },
     "execution_count": 11,
     "metadata": {},
     "output_type": "execute_result"
    }
   ],
   "source": [
    "b_list.pop(2)"
   ]
  },
  {
   "cell_type": "code",
   "execution_count": 12,
   "id": "1f869005",
   "metadata": {},
   "outputs": [
    {
     "data": {
      "text/plain": [
       "['foo', 'red', 'baz', 'dwarf']"
      ]
     },
     "execution_count": 12,
     "metadata": {},
     "output_type": "execute_result"
    }
   ],
   "source": [
    "b_list"
   ]
  },
  {
   "cell_type": "markdown",
   "id": "d12a216a",
   "metadata": {},
   "source": [
    "Elements can be removed by value with remove, which locates the first such value and\n",
    "removes it from the last"
   ]
  },
  {
   "cell_type": "code",
   "execution_count": 13,
   "id": "3438ed2a",
   "metadata": {},
   "outputs": [],
   "source": [
    "b_list.append('foo')"
   ]
  },
  {
   "cell_type": "code",
   "execution_count": 14,
   "id": "bef785d0",
   "metadata": {},
   "outputs": [
    {
     "data": {
      "text/plain": [
       "['foo', 'red', 'baz', 'dwarf', 'foo']"
      ]
     },
     "execution_count": 14,
     "metadata": {},
     "output_type": "execute_result"
    }
   ],
   "source": [
    "b_list"
   ]
  },
  {
   "cell_type": "code",
   "execution_count": 15,
   "id": "4783119a",
   "metadata": {},
   "outputs": [
    {
     "data": {
      "text/plain": [
       "['red', 'baz', 'dwarf', 'foo']"
      ]
     },
     "execution_count": 15,
     "metadata": {},
     "output_type": "execute_result"
    }
   ],
   "source": [
    "b_list.remove('foo')\n",
    "b_list"
   ]
  },
  {
   "cell_type": "markdown",
   "id": "8918fb6c",
   "metadata": {},
   "source": [
    "If performance is not a concern, by using append and remove, you can use a Python\n",
    "list as a perfectly suitable “multiset” data structure"
   ]
  },
  {
   "cell_type": "markdown",
   "id": "a251665e",
   "metadata": {},
   "source": [
    "Check if a list contains a value using the in keyword:"
   ]
  },
  {
   "cell_type": "code",
   "execution_count": 16,
   "id": "b2a91190",
   "metadata": {},
   "outputs": [
    {
     "data": {
      "text/plain": [
       "True"
      ]
     },
     "execution_count": 16,
     "metadata": {},
     "output_type": "execute_result"
    }
   ],
   "source": [
    "'dwarf' in b_list"
   ]
  },
  {
   "cell_type": "code",
   "execution_count": 17,
   "id": "6fe5923f",
   "metadata": {},
   "outputs": [
    {
     "data": {
      "text/plain": [
       "False"
      ]
     },
     "execution_count": 17,
     "metadata": {},
     "output_type": "execute_result"
    }
   ],
   "source": [
    "'dwarf' not in b_list\n"
   ]
  },
  {
   "cell_type": "markdown",
   "id": "935d5cd6",
   "metadata": {},
   "source": [
    "Checking whether a list contains a value is a lot slower than doing so with dicts and\n",
    "sets (to be introduced shortly), as Python makes a linear scan across the values of the\n",
    "list, whereas it can check the others (based on hash tables) in constant time."
   ]
  },
  {
   "cell_type": "markdown",
   "id": "0ec3b81e",
   "metadata": {},
   "source": [
    "### Concatenating and combining lists"
   ]
  },
  {
   "cell_type": "markdown",
   "id": "35f06782",
   "metadata": {},
   "source": [
    "Similar to tuples, adding two lists together with + concatenates them:"
   ]
  },
  {
   "cell_type": "code",
   "execution_count": 18,
   "id": "fa4bbd6c",
   "metadata": {},
   "outputs": [
    {
     "data": {
      "text/plain": [
       "[4, None, 'foo', 7, 8, (2, 3)]"
      ]
     },
     "execution_count": 18,
     "metadata": {},
     "output_type": "execute_result"
    }
   ],
   "source": [
    "[4, None, 'foo'] + [7, 8, (2, 3)]"
   ]
  },
  {
   "cell_type": "markdown",
   "id": "b0bef1ab",
   "metadata": {},
   "source": [
    "If you have a list already defined, you can append multiple elements to it using the\n",
    "extend method:"
   ]
  },
  {
   "cell_type": "code",
   "execution_count": 20,
   "id": "95a7b8eb",
   "metadata": {},
   "outputs": [],
   "source": [
    "x = [4, None, 'foo']"
   ]
  },
  {
   "cell_type": "code",
   "execution_count": 21,
   "id": "3939f23e",
   "metadata": {},
   "outputs": [
    {
     "data": {
      "text/plain": [
       "[4, None, 'foo', 7, 8, (2, 3)]"
      ]
     },
     "execution_count": 21,
     "metadata": {},
     "output_type": "execute_result"
    }
   ],
   "source": [
    "x.extend([7, 8, (2, 3)])\n",
    "x"
   ]
  },
  {
   "cell_type": "markdown",
   "id": "c4e16ba3",
   "metadata": {},
   "source": [
    "Note that list concatenation by addition is a comparatively expensive operation since\n",
    "a new list must be created and the objects copied over. Using extend to append elements to an existing list, especially if you are building up a large list, is usually preferable.      \n",
    "      \n",
    "everything = []     \n",
    "for chunk in list_of_lists:    \n",
    " everything.extend(chunk)    \n",
    "       \n",
    "is faster than the concatenative alternative:    \n",
    "     \n",
    "everything = []     \n",
    "for chunk in list_of_lists:      \n",
    " everything = everything + chunk    \n",
    " "
   ]
  },
  {
   "cell_type": "markdown",
   "id": "3c28a4d3",
   "metadata": {},
   "source": [
    "### Sorting"
   ]
  },
  {
   "cell_type": "markdown",
   "id": "ccd31279",
   "metadata": {},
   "source": [
    "You can sort a list in-place (without creating a new object) by calling its sort\n",
    "function:"
   ]
  },
  {
   "cell_type": "code",
   "execution_count": 22,
   "id": "58f98537",
   "metadata": {},
   "outputs": [
    {
     "data": {
      "text/plain": [
       "[1, 2, 3, 5, 7]"
      ]
     },
     "execution_count": 22,
     "metadata": {},
     "output_type": "execute_result"
    }
   ],
   "source": [
    "a = [7, 2, 5, 1, 3]\n",
    "a.sort()\n",
    "a"
   ]
  },
  {
   "cell_type": "markdown",
   "id": "f8df3e8f",
   "metadata": {},
   "source": [
    "sort has a few options that will occasionally come in handy. One is the ability to pass\n",
    "a secondary sort key—that is, a function that produces a value to use to sort the\n",
    "objects. For example, we could sort a collection of strings by their lengths:"
   ]
  },
  {
   "cell_type": "code",
   "execution_count": 23,
   "id": "c0a5d5da",
   "metadata": {},
   "outputs": [
    {
     "data": {
      "text/plain": [
       "['He', 'saw', 'six', 'small', 'foxes']"
      ]
     },
     "execution_count": 23,
     "metadata": {},
     "output_type": "execute_result"
    }
   ],
   "source": [
    "b = ['saw', 'small', 'He', 'foxes', 'six']\n",
    "b.sort(key=len)\n",
    "b"
   ]
  },
  {
   "cell_type": "markdown",
   "id": "ab993248",
   "metadata": {},
   "source": [
    "Soon, we’ll look at the sorted function, which can produce a sorted copy of a general\n",
    "sequence."
   ]
  },
  {
   "cell_type": "markdown",
   "id": "230c7871",
   "metadata": {},
   "source": [
    "### Binary search and maintaining a sorted list"
   ]
  },
  {
   "cell_type": "markdown",
   "id": "8674632b",
   "metadata": {},
   "source": [
    "The built-in bisect module implements binary search and insertion into a sorted list.\n",
    "bisect.bisect finds the location where an element should be inserted to keep it sorted, while bisect.insort actually inserts the element into that location:"
   ]
  },
  {
   "cell_type": "code",
   "execution_count": 24,
   "id": "53fa63ce",
   "metadata": {},
   "outputs": [
    {
     "data": {
      "text/plain": [
       "4"
      ]
     },
     "execution_count": 24,
     "metadata": {},
     "output_type": "execute_result"
    }
   ],
   "source": [
    "import bisect\n",
    "c = [1, 2, 2, 2, 3, 4, 7]\n",
    "bisect.bisect(c, 2)\n"
   ]
  },
  {
   "cell_type": "code",
   "execution_count": 25,
   "id": "d8ce6453",
   "metadata": {},
   "outputs": [
    {
     "data": {
      "text/plain": [
       "6"
      ]
     },
     "execution_count": 25,
     "metadata": {},
     "output_type": "execute_result"
    }
   ],
   "source": [
    "bisect.bisect(c, 5)"
   ]
  },
  {
   "cell_type": "code",
   "execution_count": 26,
   "id": "5cb29f74",
   "metadata": {},
   "outputs": [],
   "source": [
    "bisect.insort(c, 6)"
   ]
  },
  {
   "cell_type": "code",
   "execution_count": 27,
   "id": "8134955c",
   "metadata": {},
   "outputs": [
    {
     "data": {
      "text/plain": [
       "[1, 2, 2, 2, 3, 4, 6, 7]"
      ]
     },
     "execution_count": 27,
     "metadata": {},
     "output_type": "execute_result"
    }
   ],
   "source": [
    "c"
   ]
  },
  {
   "cell_type": "markdown",
   "id": "6a8caf93",
   "metadata": {},
   "source": [
    "The bisect module functions do not check whether the list is sorted, as doing so would be computationally expensive. Thus, using\n",
    "them with an unsorted list will succeed without error but may lead\n",
    "to incorrect results."
   ]
  },
  {
   "cell_type": "markdown",
   "id": "bde2e33d",
   "metadata": {},
   "source": [
    "### Slicing"
   ]
  },
  {
   "cell_type": "markdown",
   "id": "bcdef922",
   "metadata": {},
   "source": [
    "You can select sections of most sequence types by using slice notation, which in its\n",
    "basic form consists of start:stop passed to the indexing operator []:"
   ]
  },
  {
   "cell_type": "code",
   "execution_count": 30,
   "id": "ec1c5675",
   "metadata": {},
   "outputs": [
    {
     "data": {
      "text/plain": [
       "[2, 3, 7, 5]"
      ]
     },
     "execution_count": 30,
     "metadata": {},
     "output_type": "execute_result"
    }
   ],
   "source": [
    "seq = [7, 2, 3, 7, 5, 6, 0, 1]\n",
    "seq[1:5]\n"
   ]
  },
  {
   "cell_type": "markdown",
   "id": "189913a3",
   "metadata": {},
   "source": [
    "Slices can also be assigned to with a sequence:"
   ]
  },
  {
   "cell_type": "code",
   "execution_count": 31,
   "id": "9225f8ee",
   "metadata": {},
   "outputs": [
    {
     "data": {
      "text/plain": [
       "[7, 2, 3, 6, 3, 5, 6, 0, 1]"
      ]
     },
     "execution_count": 31,
     "metadata": {},
     "output_type": "execute_result"
    }
   ],
   "source": [
    "seq[3:4] = [6, 3]\n",
    "seq"
   ]
  },
  {
   "cell_type": "markdown",
   "id": "458f08c7",
   "metadata": {},
   "source": [
    "While the element at the start index is included, the stop index is not included, so\n",
    "that the number of elements in the result is stop - start.\n"
   ]
  },
  {
   "cell_type": "markdown",
   "id": "c63e2788",
   "metadata": {},
   "source": [
    "Either the start or stop can be omitted, in which case they default to the start of the\n",
    "sequence and the end of the sequence, respectively:"
   ]
  },
  {
   "cell_type": "code",
   "execution_count": 32,
   "id": "cdb785d5",
   "metadata": {},
   "outputs": [
    {
     "data": {
      "text/plain": [
       "[7, 2, 3, 6, 3]"
      ]
     },
     "execution_count": 32,
     "metadata": {},
     "output_type": "execute_result"
    }
   ],
   "source": [
    "seq[:5]"
   ]
  },
  {
   "cell_type": "code",
   "execution_count": 33,
   "id": "7d1a3e3b",
   "metadata": {},
   "outputs": [
    {
     "data": {
      "text/plain": [
       "[6, 3, 5, 6, 0, 1]"
      ]
     },
     "execution_count": 33,
     "metadata": {},
     "output_type": "execute_result"
    }
   ],
   "source": [
    "seq[3:]"
   ]
  },
  {
   "cell_type": "markdown",
   "id": "a39a61f0",
   "metadata": {},
   "source": [
    "Negative indices slice the sequence relative to the end:"
   ]
  },
  {
   "cell_type": "code",
   "execution_count": 34,
   "id": "6e33416d",
   "metadata": {},
   "outputs": [
    {
     "data": {
      "text/plain": [
       "[5, 6, 0, 1]"
      ]
     },
     "execution_count": 34,
     "metadata": {},
     "output_type": "execute_result"
    }
   ],
   "source": [
    " seq[-4:]\n"
   ]
  },
  {
   "cell_type": "code",
   "execution_count": 35,
   "id": "8acfb67a",
   "metadata": {},
   "outputs": [
    {
     "data": {
      "text/plain": [
       "[6, 3, 5, 6]"
      ]
     },
     "execution_count": 35,
     "metadata": {},
     "output_type": "execute_result"
    }
   ],
   "source": [
    "seq[-6:-2]"
   ]
  },
  {
   "cell_type": "markdown",
   "id": "91511550",
   "metadata": {},
   "source": [
    "Slicing semantics takes a bit of getting used to, especially if you’re coming from R or\n",
    "MATLAB."
   ]
  },
  {
   "cell_type": "markdown",
   "id": "f8fd6cd5",
   "metadata": {},
   "source": [
    "A step can also be used after a second colon to, say, take every other element"
   ]
  },
  {
   "cell_type": "code",
   "execution_count": 36,
   "id": "bda4363d",
   "metadata": {},
   "outputs": [
    {
     "data": {
      "text/plain": [
       "[7, 3, 3, 6, 1]"
      ]
     },
     "execution_count": 36,
     "metadata": {},
     "output_type": "execute_result"
    }
   ],
   "source": [
    "seq[::2]\n"
   ]
  },
  {
   "cell_type": "markdown",
   "id": "f4dd5ac0",
   "metadata": {},
   "source": [
    "A clever use of this is to pass -1, which has the useful effect of reversing a list or tuple:"
   ]
  },
  {
   "cell_type": "code",
   "execution_count": 37,
   "id": "e93492aa",
   "metadata": {},
   "outputs": [
    {
     "data": {
      "text/plain": [
       "[1, 0, 6, 5, 3, 6, 3, 2, 7]"
      ]
     },
     "execution_count": 37,
     "metadata": {},
     "output_type": "execute_result"
    }
   ],
   "source": [
    "seq[::-1]"
   ]
  },
  {
   "cell_type": "markdown",
   "id": "3004c154",
   "metadata": {},
   "source": [
    "### Built-in Sequence Functions\n"
   ]
  },
  {
   "cell_type": "markdown",
   "id": "57e44666",
   "metadata": {},
   "source": [
    "#### enumerate"
   ]
  },
  {
   "cell_type": "markdown",
   "id": "bb560d1c",
   "metadata": {},
   "source": [
    "It’s common when iterating over a sequence to want to keep track of the index of the\n",
    "current item. A do-it-yourself approach would look like:"
   ]
  },
  {
   "cell_type": "code",
   "execution_count": 39,
   "id": "5e73e318",
   "metadata": {},
   "outputs": [],
   "source": [
    "# i = 0\n",
    "# for value in collection:\n",
    "#  # do something with value\n",
    "#  i += 1"
   ]
  },
  {
   "cell_type": "markdown",
   "id": "55449f90",
   "metadata": {},
   "source": [
    "Since this is so common, Python has a built-in function, enumerate, which returns a\n",
    "sequence of (i, value) tuples:"
   ]
  },
  {
   "cell_type": "code",
   "execution_count": 40,
   "id": "53e05b89",
   "metadata": {},
   "outputs": [],
   "source": [
    "# for i, value in enumerate(collection):\n",
    "#  # do something with value"
   ]
  },
  {
   "cell_type": "markdown",
   "id": "e1b313ea",
   "metadata": {},
   "source": [
    "When you are indexing data, a helpful pattern that uses enumerate is computing a\n",
    "dict mapping the values of a sequence (which are assumed to be unique) to their\n",
    "locations in the sequence:"
   ]
  },
  {
   "cell_type": "code",
   "execution_count": 41,
   "id": "34707974",
   "metadata": {},
   "outputs": [
    {
     "data": {
      "text/plain": [
       "{'foo': 0, 'bar': 1, 'baz': 2}"
      ]
     },
     "execution_count": 41,
     "metadata": {},
     "output_type": "execute_result"
    }
   ],
   "source": [
    "some_list = ['foo', 'bar', 'baz']\n",
    "mapping = {}\n",
    "for i, v in enumerate(some_list):\n",
    "    mapping[v] = i\n",
    "mapping"
   ]
  },
  {
   "cell_type": "markdown",
   "id": "54e1d5c5",
   "metadata": {},
   "source": [
    "#### sorted"
   ]
  },
  {
   "cell_type": "markdown",
   "id": "4c1b4024",
   "metadata": {},
   "source": [
    "The sorted function returns a new sorted list from the elements of any sequence:"
   ]
  },
  {
   "cell_type": "code",
   "execution_count": 42,
   "id": "2b1b61eb",
   "metadata": {},
   "outputs": [
    {
     "data": {
      "text/plain": [
       "[0, 1, 2, 2, 3, 6, 7]"
      ]
     },
     "execution_count": 42,
     "metadata": {},
     "output_type": "execute_result"
    }
   ],
   "source": [
    "sorted([7, 1, 2, 6, 0, 3, 2])"
   ]
  },
  {
   "cell_type": "code",
   "execution_count": 43,
   "id": "6eaf9f18",
   "metadata": {},
   "outputs": [
    {
     "data": {
      "text/plain": [
       "[' ', 'a', 'c', 'e', 'e', 'h', 'o', 'r', 'r', 's']"
      ]
     },
     "execution_count": 43,
     "metadata": {},
     "output_type": "execute_result"
    }
   ],
   "source": [
    "sorted('horse race')"
   ]
  },
  {
   "cell_type": "markdown",
   "id": "6e22d397",
   "metadata": {},
   "source": [
    "#### zip"
   ]
  },
  {
   "cell_type": "markdown",
   "id": "d97c1287",
   "metadata": {},
   "source": [
    "zip “pairs” up the elements of a number of lists, tuples, or other sequences to create a\n",
    "list of tuples:"
   ]
  },
  {
   "cell_type": "code",
   "execution_count": 44,
   "id": "6e871541",
   "metadata": {},
   "outputs": [
    {
     "data": {
      "text/plain": [
       "<zip at 0x22ab9269408>"
      ]
     },
     "execution_count": 44,
     "metadata": {},
     "output_type": "execute_result"
    }
   ],
   "source": [
    "seq1 = ['foo', 'bar', 'baz']\n",
    "seq2 = ['one', 'two', 'three']\n",
    "zipped = zip(seq1, seq2)\n",
    "zipped"
   ]
  },
  {
   "cell_type": "code",
   "execution_count": 45,
   "id": "053e6c80",
   "metadata": {},
   "outputs": [
    {
     "data": {
      "text/plain": [
       "[('foo', 'one'), ('bar', 'two'), ('baz', 'three')]"
      ]
     },
     "execution_count": 45,
     "metadata": {},
     "output_type": "execute_result"
    }
   ],
   "source": [
    "list(zipped)"
   ]
  },
  {
   "cell_type": "markdown",
   "id": "8c375532",
   "metadata": {},
   "source": [
    "zip can take an arbitrary number of sequences, and the number of elements it produces is determined by the shortest sequence:"
   ]
  },
  {
   "cell_type": "code",
   "execution_count": 46,
   "id": "12af6527",
   "metadata": {},
   "outputs": [
    {
     "data": {
      "text/plain": [
       "[('foo', 'one', False), ('bar', 'two', True)]"
      ]
     },
     "execution_count": 46,
     "metadata": {},
     "output_type": "execute_result"
    }
   ],
   "source": [
    "seq3 = [False, True]\n",
    "list(zip(seq1, seq2, seq3))\n"
   ]
  },
  {
   "cell_type": "markdown",
   "id": "9d6a186b",
   "metadata": {},
   "source": [
    "A very common use of zip is simultaneously iterating over multiple sequences, possibly also combined with enumerate:"
   ]
  },
  {
   "cell_type": "code",
   "execution_count": 47,
   "id": "f209c212",
   "metadata": {},
   "outputs": [
    {
     "name": "stdout",
     "output_type": "stream",
     "text": [
      "0: foo, one\n",
      "1: bar, two\n",
      "2: baz, three\n"
     ]
    }
   ],
   "source": [
    "for i, (a, b) in enumerate(zip(seq1, seq2)):\n",
    "    print('{0}: {1}, {2}'.format(i, a, b))"
   ]
  },
  {
   "cell_type": "markdown",
   "id": "c87ac940",
   "metadata": {},
   "source": [
    "Given a “zipped” sequence, zip can be applied in a clever way to “unzip” the\n",
    "sequence. Another way to think about this is converting a list of rows into a list of\n",
    "columns. The syntax, which looks a bit magical, is:"
   ]
  },
  {
   "cell_type": "code",
   "execution_count": 48,
   "id": "07d60af5",
   "metadata": {},
   "outputs": [],
   "source": [
    "pitchers = [('Nolan', 'Ryan'), ('Roger', 'Clemens'),('Schilling', 'Curt')]\n",
    "first_names, last_names = zip(*pitchers)"
   ]
  },
  {
   "cell_type": "code",
   "execution_count": 49,
   "id": "24e6d947",
   "metadata": {},
   "outputs": [
    {
     "data": {
      "text/plain": [
       "('Nolan', 'Roger', 'Schilling')"
      ]
     },
     "execution_count": 49,
     "metadata": {},
     "output_type": "execute_result"
    }
   ],
   "source": [
    "first_names"
   ]
  },
  {
   "cell_type": "code",
   "execution_count": 50,
   "id": "1f782da6",
   "metadata": {},
   "outputs": [
    {
     "data": {
      "text/plain": [
       "('Ryan', 'Clemens', 'Curt')"
      ]
     },
     "execution_count": 50,
     "metadata": {},
     "output_type": "execute_result"
    }
   ],
   "source": [
    "last_names"
   ]
  },
  {
   "cell_type": "markdown",
   "id": "10907d4f",
   "metadata": {},
   "source": [
    "#### reversed\n"
   ]
  },
  {
   "cell_type": "markdown",
   "id": "c3e14799",
   "metadata": {},
   "source": [
    "reversed iterates over the elements of a sequence in reverse order:"
   ]
  },
  {
   "cell_type": "code",
   "execution_count": 51,
   "id": "bc29d0e4",
   "metadata": {},
   "outputs": [
    {
     "data": {
      "text/plain": [
       "[9, 8, 7, 6, 5, 4, 3, 2, 1, 0]"
      ]
     },
     "execution_count": 51,
     "metadata": {},
     "output_type": "execute_result"
    }
   ],
   "source": [
    "list(reversed(range(10)))"
   ]
  },
  {
   "cell_type": "markdown",
   "id": "28694124",
   "metadata": {},
   "source": [
    "Keep in mind that reversed is a generator (to be discussed in some more detail later),\n",
    "so it does not create the reversed sequence until materialized (e.g., with list or a for\n",
    "loop)."
   ]
  },
  {
   "cell_type": "markdown",
   "id": "c44dccdc",
   "metadata": {},
   "source": [
    "## dict"
   ]
  },
  {
   "cell_type": "markdown",
   "id": "c02d9251",
   "metadata": {},
   "source": [
    "dict is likely the most important built-in Python data structure. A more common\n",
    "name for it is hash map or associative array. It is a flexibly sized collection of key-value\n",
    "pairs, where key and value are Python objects. One approach for creating one is to use\n",
    "curly braces {} and colons to separate keys and values:"
   ]
  },
  {
   "cell_type": "code",
   "execution_count": 52,
   "id": "76650b7c",
   "metadata": {},
   "outputs": [],
   "source": [
    "empty_dict = {}"
   ]
  },
  {
   "cell_type": "code",
   "execution_count": 53,
   "id": "96b193a5",
   "metadata": {},
   "outputs": [
    {
     "data": {
      "text/plain": [
       "{}"
      ]
     },
     "execution_count": 53,
     "metadata": {},
     "output_type": "execute_result"
    }
   ],
   "source": [
    "empty_dict"
   ]
  },
  {
   "cell_type": "code",
   "execution_count": 54,
   "id": "afea93bf",
   "metadata": {},
   "outputs": [],
   "source": [
    "d1 = {'a' : 'some value', 'b' : [1, 2, 3, 4]}"
   ]
  },
  {
   "cell_type": "code",
   "execution_count": 55,
   "id": "4f1164ac",
   "metadata": {},
   "outputs": [
    {
     "data": {
      "text/plain": [
       "{'a': 'some value', 'b': [1, 2, 3, 4]}"
      ]
     },
     "execution_count": 55,
     "metadata": {},
     "output_type": "execute_result"
    }
   ],
   "source": [
    "d1"
   ]
  },
  {
   "cell_type": "markdown",
   "id": "b52ba2b7",
   "metadata": {},
   "source": [
    "You can access, insert, or set elements using the same syntax as for accessing elements\n",
    "of a list or tuple:\n"
   ]
  },
  {
   "cell_type": "code",
   "execution_count": 56,
   "id": "e1663fe2",
   "metadata": {},
   "outputs": [],
   "source": [
    "d1[7] = 'an integer'"
   ]
  },
  {
   "cell_type": "code",
   "execution_count": 57,
   "id": "ffb2560a",
   "metadata": {},
   "outputs": [
    {
     "data": {
      "text/plain": [
       "{'a': 'some value', 'b': [1, 2, 3, 4], 7: 'an integer'}"
      ]
     },
     "execution_count": 57,
     "metadata": {},
     "output_type": "execute_result"
    }
   ],
   "source": [
    "d1"
   ]
  },
  {
   "cell_type": "code",
   "execution_count": 58,
   "id": "11872a7d",
   "metadata": {},
   "outputs": [
    {
     "data": {
      "text/plain": [
       "[1, 2, 3, 4]"
      ]
     },
     "execution_count": 58,
     "metadata": {},
     "output_type": "execute_result"
    }
   ],
   "source": [
    "d1['b']\n"
   ]
  },
  {
   "cell_type": "markdown",
   "id": "419ece65",
   "metadata": {},
   "source": [
    "You can check if a dict contains a key using the same syntax used for checking\n",
    "whether a list or tuple contains a value:"
   ]
  },
  {
   "cell_type": "code",
   "execution_count": 59,
   "id": "cd252ddb",
   "metadata": {},
   "outputs": [
    {
     "data": {
      "text/plain": [
       "True"
      ]
     },
     "execution_count": 59,
     "metadata": {},
     "output_type": "execute_result"
    }
   ],
   "source": [
    "'b' in d1"
   ]
  },
  {
   "cell_type": "markdown",
   "id": "d9537493",
   "metadata": {},
   "source": [
    "You can delete values either using the del keyword or the pop method (which simultaneously returns the value and deletes the key):"
   ]
  },
  {
   "cell_type": "code",
   "execution_count": 60,
   "id": "6d9aa89b",
   "metadata": {},
   "outputs": [],
   "source": [
    "d1[5] = 'some value'\n"
   ]
  },
  {
   "cell_type": "code",
   "execution_count": 61,
   "id": "0b5eef72",
   "metadata": {},
   "outputs": [
    {
     "data": {
      "text/plain": [
       "{'a': 'some value', 'b': [1, 2, 3, 4], 7: 'an integer', 5: 'some value'}"
      ]
     },
     "execution_count": 61,
     "metadata": {},
     "output_type": "execute_result"
    }
   ],
   "source": [
    "d1"
   ]
  },
  {
   "cell_type": "code",
   "execution_count": 62,
   "id": "f90ffe05",
   "metadata": {},
   "outputs": [],
   "source": [
    "d1['dummy'] = 'another value'"
   ]
  },
  {
   "cell_type": "code",
   "execution_count": 63,
   "id": "20c22246",
   "metadata": {},
   "outputs": [
    {
     "data": {
      "text/plain": [
       "{'a': 'some value',\n",
       " 'b': [1, 2, 3, 4],\n",
       " 7: 'an integer',\n",
       " 5: 'some value',\n",
       " 'dummy': 'another value'}"
      ]
     },
     "execution_count": 63,
     "metadata": {},
     "output_type": "execute_result"
    }
   ],
   "source": [
    "d1"
   ]
  },
  {
   "cell_type": "code",
   "execution_count": 64,
   "id": "98d3f331",
   "metadata": {},
   "outputs": [],
   "source": [
    "del d1[5]\n"
   ]
  },
  {
   "cell_type": "code",
   "execution_count": 65,
   "id": "c85c7c7b",
   "metadata": {},
   "outputs": [
    {
     "data": {
      "text/plain": [
       "{'a': 'some value',\n",
       " 'b': [1, 2, 3, 4],\n",
       " 7: 'an integer',\n",
       " 'dummy': 'another value'}"
      ]
     },
     "execution_count": 65,
     "metadata": {},
     "output_type": "execute_result"
    }
   ],
   "source": [
    "d1"
   ]
  },
  {
   "cell_type": "code",
   "execution_count": 66,
   "id": "03e83dd1",
   "metadata": {},
   "outputs": [
    {
     "data": {
      "text/plain": [
       "'another value'"
      ]
     },
     "execution_count": 66,
     "metadata": {},
     "output_type": "execute_result"
    }
   ],
   "source": [
    "ret = d1.pop('dummy')\n",
    "ret"
   ]
  },
  {
   "cell_type": "code",
   "execution_count": 67,
   "id": "1318a21e",
   "metadata": {},
   "outputs": [
    {
     "data": {
      "text/plain": [
       "{'a': 'some value', 'b': [1, 2, 3, 4], 7: 'an integer'}"
      ]
     },
     "execution_count": 67,
     "metadata": {},
     "output_type": "execute_result"
    }
   ],
   "source": [
    "d1"
   ]
  },
  {
   "cell_type": "markdown",
   "id": "e5ace7b0",
   "metadata": {},
   "source": [
    "The keys and values method give you iterators of the dict’s keys and values, respectively. While the key-value pairs are not in any particular order, these functions output the keys and values in the same order:"
   ]
  },
  {
   "cell_type": "code",
   "execution_count": 68,
   "id": "08d70cda",
   "metadata": {},
   "outputs": [
    {
     "data": {
      "text/plain": [
       "['a', 'b', 7]"
      ]
     },
     "execution_count": 68,
     "metadata": {},
     "output_type": "execute_result"
    }
   ],
   "source": [
    " list(d1.keys())"
   ]
  },
  {
   "cell_type": "code",
   "execution_count": 69,
   "id": "07fa6992",
   "metadata": {},
   "outputs": [
    {
     "data": {
      "text/plain": [
       "['some value', [1, 2, 3, 4], 'an integer']"
      ]
     },
     "execution_count": 69,
     "metadata": {},
     "output_type": "execute_result"
    }
   ],
   "source": [
    "list(d1.values())"
   ]
  },
  {
   "cell_type": "markdown",
   "id": "fdb11ec2",
   "metadata": {},
   "source": [
    "You can merge one dict into another using the update method:"
   ]
  },
  {
   "cell_type": "code",
   "execution_count": 70,
   "id": "943a2daf",
   "metadata": {},
   "outputs": [
    {
     "data": {
      "text/plain": [
       "{'a': 'some value', 'b': 'foo', 7: 'an integer', 'c': 12}"
      ]
     },
     "execution_count": 70,
     "metadata": {},
     "output_type": "execute_result"
    }
   ],
   "source": [
    "d1.update({'b' : 'foo', 'c' : 12})\n",
    "d1"
   ]
  },
  {
   "cell_type": "markdown",
   "id": "969eae8a",
   "metadata": {},
   "source": [
    "The update method changes dicts in-place, so any existing keys in the data passed to\n",
    "update will have their old values discarded"
   ]
  },
  {
   "cell_type": "markdown",
   "id": "bee2ac94",
   "metadata": {},
   "source": [
    "## Creating dicts from sequences"
   ]
  },
  {
   "cell_type": "markdown",
   "id": "44303b2a",
   "metadata": {},
   "source": [
    "It’s common to occasionally end up with two sequences that you want to pair up\n",
    "element-wise in a dict. As a first cut, you might write code like this"
   ]
  },
  {
   "cell_type": "code",
   "execution_count": 72,
   "id": "8de5dd96",
   "metadata": {},
   "outputs": [],
   "source": [
    "# mapping = {}\n",
    "# for key, value in zip(key_list, value_list):\n",
    "#     mapping[key] = value"
   ]
  },
  {
   "cell_type": "markdown",
   "id": "aab1c896",
   "metadata": {},
   "source": [
    "Since a dict is essentially a collection of 2-tuples, the dict function accepts a list of\n",
    "2-tuples:"
   ]
  },
  {
   "cell_type": "code",
   "execution_count": 73,
   "id": "11661295",
   "metadata": {},
   "outputs": [
    {
     "data": {
      "text/plain": [
       "{0: 4, 1: 3, 2: 2, 3: 1, 4: 0}"
      ]
     },
     "execution_count": 73,
     "metadata": {},
     "output_type": "execute_result"
    }
   ],
   "source": [
    "mapping = dict(zip(range(5), reversed(range(5))))\n",
    "mapping"
   ]
  },
  {
   "cell_type": "markdown",
   "id": "2f7b5ad9",
   "metadata": {},
   "source": [
    "### Default values\n"
   ]
  },
  {
   "cell_type": "code",
   "execution_count": 74,
   "id": "e5bd3856",
   "metadata": {},
   "outputs": [],
   "source": [
    "# if key in some_dict:\n",
    "#  value = some_dict[key]\n",
    "# else:\n",
    "#  value = default_value"
   ]
  },
  {
   "cell_type": "markdown",
   "id": "be3cda4e",
   "metadata": {},
   "source": [
    "Thus, the dict methods get and pop can take a default value to be returned, so that\n",
    "the above if-else block can be written simply as:"
   ]
  },
  {
   "cell_type": "code",
   "execution_count": 75,
   "id": "4b14708e",
   "metadata": {},
   "outputs": [],
   "source": [
    "# value = some_dict.get(key, default_value)"
   ]
  },
  {
   "cell_type": "markdown",
   "id": "435f3765",
   "metadata": {},
   "source": [
    "get by default will return None if the key is not present, while pop will raise an excep‐\n",
    "tion"
   ]
  },
  {
   "cell_type": "code",
   "execution_count": 77,
   "id": "97c88223",
   "metadata": {},
   "outputs": [
    {
     "data": {
      "text/plain": [
       "{'a': ['apple', 'atom'], 'b': ['bat', 'bar', 'book']}"
      ]
     },
     "execution_count": 77,
     "metadata": {},
     "output_type": "execute_result"
    }
   ],
   "source": [
    "words = ['apple', 'bat', 'bar', 'atom', 'book']\n",
    "by_letter = {}\n",
    "for word in words:\n",
    "    letter = word[0]\n",
    "    if letter not in by_letter:\n",
    "        by_letter[letter] = [word]\n",
    "    else:\n",
    "        by_letter[letter].append(word)\n",
    "by_letter"
   ]
  },
  {
   "cell_type": "markdown",
   "id": "25b3c8fe",
   "metadata": {},
   "source": [
    "The setdefault dict method is for precisely this purpose. The preceding for loop\n",
    "can be rewritten as:"
   ]
  },
  {
   "cell_type": "code",
   "execution_count": 79,
   "id": "1532be2b",
   "metadata": {},
   "outputs": [
    {
     "data": {
      "text/plain": [
       "{'a': ['apple', 'atom'], 'b': ['bat', 'bar', 'book']}"
      ]
     },
     "execution_count": 79,
     "metadata": {},
     "output_type": "execute_result"
    }
   ],
   "source": [
    "by_letter = {}\n",
    "for word in words:\n",
    "    letter = word[0]\n",
    "    by_letter.setdefault(letter, []).append(word)\n",
    "by_letter"
   ]
  },
  {
   "cell_type": "markdown",
   "id": "b4ed9004",
   "metadata": {},
   "source": [
    "The built-in collections module has a useful class, defaultdict, which makes this\n",
    "even easier. To create one, you pass a type or function for generating the default value\n",
    "for each slot in the dict:"
   ]
  },
  {
   "cell_type": "code",
   "execution_count": 80,
   "id": "84d7bfd6",
   "metadata": {},
   "outputs": [
    {
     "data": {
      "text/plain": [
       "defaultdict(list, {'a': ['apple', 'atom'], 'b': ['bat', 'bar', 'book']})"
      ]
     },
     "execution_count": 80,
     "metadata": {},
     "output_type": "execute_result"
    }
   ],
   "source": [
    "from collections import defaultdict\n",
    "by_letter = defaultdict(list)\n",
    "for word in words:\n",
    "    by_letter[word[0]].append(word)\n",
    "by_letter"
   ]
  },
  {
   "cell_type": "markdown",
   "id": "9863e10e",
   "metadata": {},
   "source": [
    "### Valid dict key types"
   ]
  },
  {
   "cell_type": "markdown",
   "id": "809423a8",
   "metadata": {},
   "source": [
    "While the values of a dict can be any Python object, the keys generally have to be\n",
    "immutable objects like scalar types (int, float, string) or tuples (all the objects in the\n",
    "tuple need to be immutable, too). The technical term here is hashability. You can\n",
    "check whether an object is hashable (can be used as a key in a dict) with the hash\n",
    "function"
   ]
  },
  {
   "cell_type": "code",
   "execution_count": 85,
   "id": "e1d3e3e1",
   "metadata": {},
   "outputs": [
    {
     "data": {
      "text/plain": [
       "6526927556070756424"
      ]
     },
     "execution_count": 85,
     "metadata": {},
     "output_type": "execute_result"
    }
   ],
   "source": [
    "hash('string')"
   ]
  },
  {
   "cell_type": "code",
   "execution_count": 83,
   "id": "7fd46826",
   "metadata": {},
   "outputs": [
    {
     "data": {
      "text/plain": [
       "1097636502276347782"
      ]
     },
     "execution_count": 83,
     "metadata": {},
     "output_type": "execute_result"
    }
   ],
   "source": [
    "hash((1, 2, (2, 3)))"
   ]
  },
  {
   "cell_type": "code",
   "execution_count": 86,
   "id": "24008c9d",
   "metadata": {},
   "outputs": [
    {
     "ename": "TypeError",
     "evalue": "unhashable type: 'list'",
     "output_type": "error",
     "traceback": [
      "\u001b[1;31m---------------------------------------------------------------------------\u001b[0m",
      "\u001b[1;31mTypeError\u001b[0m                                 Traceback (most recent call last)",
      "\u001b[1;32m<ipython-input-86-473c35a62c0b>\u001b[0m in \u001b[0;36m<module>\u001b[1;34m\u001b[0m\n\u001b[1;32m----> 1\u001b[1;33m \u001b[0mhash\u001b[0m\u001b[1;33m(\u001b[0m\u001b[1;33m(\u001b[0m\u001b[1;36m1\u001b[0m\u001b[1;33m,\u001b[0m \u001b[1;36m2\u001b[0m\u001b[1;33m,\u001b[0m \u001b[1;33m[\u001b[0m\u001b[1;36m2\u001b[0m\u001b[1;33m,\u001b[0m \u001b[1;36m3\u001b[0m\u001b[1;33m]\u001b[0m\u001b[1;33m)\u001b[0m\u001b[1;33m)\u001b[0m \u001b[1;31m# fails because lists are mutable\u001b[0m\u001b[1;33m\u001b[0m\u001b[1;33m\u001b[0m\u001b[0m\n\u001b[0m",
      "\u001b[1;31mTypeError\u001b[0m: unhashable type: 'list'"
     ]
    }
   ],
   "source": [
    "hash((1, 2, [2, 3])) # fails because lists are mutable"
   ]
  },
  {
   "cell_type": "markdown",
   "id": "1065966d",
   "metadata": {},
   "source": [
    "To use a list as a key, one option is to convert it to a tuple, which can be hashed as\n",
    "long as its elements also can:"
   ]
  },
  {
   "cell_type": "code",
   "execution_count": 87,
   "id": "5b1d9368",
   "metadata": {},
   "outputs": [
    {
     "data": {
      "text/plain": [
       "{(1, 2, 3): 5}"
      ]
     },
     "execution_count": 87,
     "metadata": {},
     "output_type": "execute_result"
    }
   ],
   "source": [
    "d = {}\n",
    "d[tuple([1, 2, 3])] = 5\n",
    "d"
   ]
  },
  {
   "cell_type": "markdown",
   "id": "4156c7da",
   "metadata": {},
   "source": [
    "## Set"
   ]
  },
  {
   "cell_type": "markdown",
   "id": "14073c43",
   "metadata": {},
   "source": [
    "A set is an unordered collection of unique elements. You can think of them like dicts,\n",
    "but keys only, no values. A set can be created in two ways: via the set function or via\n",
    "a set literal with curly braces:"
   ]
  },
  {
   "cell_type": "code",
   "execution_count": 88,
   "id": "3654d5c6",
   "metadata": {},
   "outputs": [
    {
     "data": {
      "text/plain": [
       "{1, 2, 3}"
      ]
     },
     "execution_count": 88,
     "metadata": {},
     "output_type": "execute_result"
    }
   ],
   "source": [
    "set([2, 2, 2, 1, 3, 3])"
   ]
  },
  {
   "cell_type": "code",
   "execution_count": 89,
   "id": "b1f36d79",
   "metadata": {},
   "outputs": [
    {
     "data": {
      "text/plain": [
       "{1, 2, 3}"
      ]
     },
     "execution_count": 89,
     "metadata": {},
     "output_type": "execute_result"
    }
   ],
   "source": [
    "{2, 2, 2, 1, 3, 3}"
   ]
  },
  {
   "cell_type": "markdown",
   "id": "11b6f515",
   "metadata": {},
   "source": [
    "Sets support mathematical set operations like union, intersection, difference, and\n",
    "symmetric difference"
   ]
  },
  {
   "cell_type": "code",
   "execution_count": 90,
   "id": "f21b7448",
   "metadata": {},
   "outputs": [],
   "source": [
    "a = {1, 2, 3, 4, 5}\n",
    "b = {3, 4, 5, 6, 7, 8}"
   ]
  },
  {
   "cell_type": "markdown",
   "id": "a9c4e822",
   "metadata": {},
   "source": [
    "The union of these two sets is the set of distinct elements occurring in either set. This\n",
    "can be computed with either the union method or the | binary operator:"
   ]
  },
  {
   "cell_type": "code",
   "execution_count": 91,
   "id": "a762a3e7",
   "metadata": {},
   "outputs": [
    {
     "data": {
      "text/plain": [
       "{1, 2, 3, 4, 5, 6, 7, 8}"
      ]
     },
     "execution_count": 91,
     "metadata": {},
     "output_type": "execute_result"
    }
   ],
   "source": [
    "a.union(b)"
   ]
  },
  {
   "cell_type": "code",
   "execution_count": 92,
   "id": "b2e66e85",
   "metadata": {},
   "outputs": [
    {
     "data": {
      "text/plain": [
       "{1, 2, 3, 4, 5, 6, 7, 8}"
      ]
     },
     "execution_count": 92,
     "metadata": {},
     "output_type": "execute_result"
    }
   ],
   "source": [
    "a | b"
   ]
  },
  {
   "cell_type": "markdown",
   "id": "9a32a7b5",
   "metadata": {},
   "source": [
    "The intersection contains the elements occurring in both sets. The & operator or the\n",
    "intersection method can be used:"
   ]
  },
  {
   "cell_type": "code",
   "execution_count": 93,
   "id": "9681c026",
   "metadata": {},
   "outputs": [
    {
     "data": {
      "text/plain": [
       "{3, 4, 5}"
      ]
     },
     "execution_count": 93,
     "metadata": {},
     "output_type": "execute_result"
    }
   ],
   "source": [
    "a.intersection(b)"
   ]
  },
  {
   "cell_type": "code",
   "execution_count": 94,
   "id": "ce91f422",
   "metadata": {},
   "outputs": [
    {
     "data": {
      "text/plain": [
       "{3, 4, 5}"
      ]
     },
     "execution_count": 94,
     "metadata": {},
     "output_type": "execute_result"
    }
   ],
   "source": [
    "a & b"
   ]
  },
  {
   "cell_type": "code",
   "execution_count": null,
   "id": "76d030be",
   "metadata": {},
   "outputs": [],
   "source": [
    "# Function --> Alternative --> syntax Description\n",
    "\n",
    "# a.add(x) --> N/A --> Add element x to the set a\n",
    "# a.clear() --> N/A --> Reset the set a to an empty state, discarding all of its elements\n",
    "# a.remove(x) --> N/A --> Remove element x from the set a\n",
    "# a.pop() --> N/A --> Remove an arbitrary element from the set a, raising KeyError if the set is empty\n",
    "# a.union(b) --> a | b --> All of the unique elements in a and b\n",
    "# a.update(b) --> a |= b --> Set the contents of a to be the union of the elements in a and b\n",
    "# a.intersection(b) --> a & b --> All of the elements in both a and b\n",
    "# a.intersection_update(b) --> a &= b --> Set the contents of a to be the intersection of the elements in a and b\n",
    "# a.difference(b) --> a - b --> The elements in a that are not in b\n",
    "# a.difference_update(b) --> a -= b --> Set a to the elements in a that are not in b\n",
    "# a.symmetric_difference(b) --> a ^ b --> All of the elements in either a or b but not both\n",
    "# a.symmetric_difference_update(b) --> a ^= b --> Set a to contain the elements in either a or b but not both\n",
    "# a.issubset(b) --> N/A --> True if the elements of a are all contained in b\n",
    "# a.issuperset(b) --> N/A --> True if the elements of b are all contained in a\n",
    "# a.isdisjoint(b) --> N/A --> True if a and b have no elements in common"
   ]
  },
  {
   "cell_type": "markdown",
   "id": "b8d3741e",
   "metadata": {},
   "source": [
    "All of the logical set operations have in-place counterparts, which enable you to\n",
    "replace the contents of the set on the left side of the operation with the result. For\n",
    "very large sets, this may be more efficient:"
   ]
  },
  {
   "cell_type": "code",
   "execution_count": 95,
   "id": "6a08070d",
   "metadata": {},
   "outputs": [
    {
     "data": {
      "text/plain": [
       "{1, 2, 3, 4, 5, 6, 7, 8}"
      ]
     },
     "execution_count": 95,
     "metadata": {},
     "output_type": "execute_result"
    }
   ],
   "source": [
    "c = a.copy()\n",
    "c |= b\n",
    "c"
   ]
  },
  {
   "cell_type": "code",
   "execution_count": 96,
   "id": "afb53168",
   "metadata": {},
   "outputs": [
    {
     "data": {
      "text/plain": [
       "{3, 4, 5}"
      ]
     },
     "execution_count": 96,
     "metadata": {},
     "output_type": "execute_result"
    }
   ],
   "source": [
    "d = a.copy()\n",
    "d &= b\n",
    "d"
   ]
  },
  {
   "cell_type": "markdown",
   "id": "cfb12e19",
   "metadata": {},
   "source": [
    "Like dicts, set elements generally must be immutable. To have list-like elements, you\n",
    "must convert it to a tuple:"
   ]
  },
  {
   "cell_type": "code",
   "execution_count": 97,
   "id": "8d9f5e22",
   "metadata": {},
   "outputs": [
    {
     "data": {
      "text/plain": [
       "{(1, 2, 3, 4)}"
      ]
     },
     "execution_count": 97,
     "metadata": {},
     "output_type": "execute_result"
    }
   ],
   "source": [
    "my_data = [1, 2, 3, 4]\n",
    "my_set = {tuple(my_data)}\n",
    "my_set"
   ]
  },
  {
   "cell_type": "markdown",
   "id": "5385dcd6",
   "metadata": {},
   "source": [
    "You can also check if a set is a subset of (is contained in) or a superset of (contains all\n",
    "elements of) another set:"
   ]
  },
  {
   "cell_type": "code",
   "execution_count": 98,
   "id": "b6496f34",
   "metadata": {},
   "outputs": [
    {
     "data": {
      "text/plain": [
       "True"
      ]
     },
     "execution_count": 98,
     "metadata": {},
     "output_type": "execute_result"
    }
   ],
   "source": [
    "a_set = {1, 2, 3, 4, 5}\n",
    "{1, 2, 3}.issubset(a_set)"
   ]
  },
  {
   "cell_type": "code",
   "execution_count": 99,
   "id": "38741587",
   "metadata": {},
   "outputs": [
    {
     "data": {
      "text/plain": [
       "True"
      ]
     },
     "execution_count": 99,
     "metadata": {},
     "output_type": "execute_result"
    }
   ],
   "source": [
    "a_set.issuperset({1, 2, 3})"
   ]
  },
  {
   "cell_type": "markdown",
   "id": "2df676f2",
   "metadata": {},
   "source": [
    "Sets are equal if and only if their contents are equal:"
   ]
  },
  {
   "cell_type": "code",
   "execution_count": 100,
   "id": "fcff49c2",
   "metadata": {},
   "outputs": [
    {
     "data": {
      "text/plain": [
       "True"
      ]
     },
     "execution_count": 100,
     "metadata": {},
     "output_type": "execute_result"
    }
   ],
   "source": [
    "{1, 2, 3} == {3, 2, 1}"
   ]
  },
  {
   "cell_type": "markdown",
   "id": "82960bd4",
   "metadata": {},
   "source": [
    "## List, Set, and Dict Comprehensions"
   ]
  },
  {
   "cell_type": "markdown",
   "id": "b1ce682a",
   "metadata": {},
   "source": [
    "List comprehensions are one of the most-loved Python language features. They allow\n",
    "you to concisely form a new list by filtering the elements of a collection, transforming\n",
    "the elements passing the filter in one concise expression. They take the basic form:"
   ]
  },
  {
   "cell_type": "markdown",
   "id": "ec7d9609",
   "metadata": {},
   "source": [
    "[expr for val in collection if condition]"
   ]
  },
  {
   "cell_type": "markdown",
   "id": "d4739744",
   "metadata": {},
   "source": [
    "This is equivalent to the following for loop:      \n",
    "      \n",
    "result = []     \n",
    "      \n",
    "for val in collection:     \n",
    " if condition:     \n",
    " result.append(expr)    "
   ]
  },
  {
   "cell_type": "code",
   "execution_count": 101,
   "id": "0fddd15a",
   "metadata": {},
   "outputs": [
    {
     "data": {
      "text/plain": [
       "['BAT', 'CAR', 'DOVE', 'PYTHON']"
      ]
     },
     "execution_count": 101,
     "metadata": {},
     "output_type": "execute_result"
    }
   ],
   "source": [
    "strings = ['a', 'as', 'bat', 'car', 'dove', 'python']\n",
    "[x.upper() for x in strings if len(x) > 2]"
   ]
  },
  {
   "cell_type": "markdown",
   "id": "44beed10",
   "metadata": {},
   "source": [
    "Set and dict comprehensions are a natural extension, producing sets and dicts in an\n",
    "idiomatically similar way instead of lists. A dict comprehension looks like this:"
   ]
  },
  {
   "cell_type": "code",
   "execution_count": 102,
   "id": "a1f0e3b0",
   "metadata": {},
   "outputs": [],
   "source": [
    "# dict_comp = {key-expr : value-expr for value in collection if condition}"
   ]
  },
  {
   "cell_type": "markdown",
   "id": "48e65ae0",
   "metadata": {},
   "source": [
    "A set comprehension looks like the equivalent list comprehension except with curly\n",
    "braces instead of square brackets:"
   ]
  },
  {
   "cell_type": "code",
   "execution_count": 103,
   "id": "0881922f",
   "metadata": {},
   "outputs": [],
   "source": [
    "# set_comp = {expr for value in collection if condition}"
   ]
  },
  {
   "cell_type": "code",
   "execution_count": 104,
   "id": "54cc6e7c",
   "metadata": {},
   "outputs": [
    {
     "data": {
      "text/plain": [
       "{1, 2, 3, 4, 6}"
      ]
     },
     "execution_count": 104,
     "metadata": {},
     "output_type": "execute_result"
    }
   ],
   "source": [
    "unique_lengths = {len(x) for x in strings}\n",
    "unique_lengths"
   ]
  },
  {
   "cell_type": "markdown",
   "id": "15222728",
   "metadata": {},
   "source": [
    "We could also express this more functionally using the map function, introduced\n",
    "shortly:"
   ]
  },
  {
   "cell_type": "code",
   "execution_count": 105,
   "id": "19c254b5",
   "metadata": {},
   "outputs": [
    {
     "data": {
      "text/plain": [
       "{1, 2, 3, 4, 6}"
      ]
     },
     "execution_count": 105,
     "metadata": {},
     "output_type": "execute_result"
    }
   ],
   "source": [
    "set(map(len, strings))"
   ]
  },
  {
   "cell_type": "markdown",
   "id": "a2fc5c72",
   "metadata": {},
   "source": [
    "As a simple dict comprehension example, we could create a lookup map of these\n",
    "strings to their locations in the list:"
   ]
  },
  {
   "cell_type": "code",
   "execution_count": 106,
   "id": "bf2f3bc8",
   "metadata": {},
   "outputs": [
    {
     "data": {
      "text/plain": [
       "{'a': 0, 'as': 1, 'bat': 2, 'car': 3, 'dove': 4, 'python': 5}"
      ]
     },
     "execution_count": 106,
     "metadata": {},
     "output_type": "execute_result"
    }
   ],
   "source": [
    "loc_mapping = {val : index for index, val in enumerate(strings)}\n",
    "loc_mapping"
   ]
  },
  {
   "cell_type": "markdown",
   "id": "749e4ba2",
   "metadata": {},
   "source": [
    "### Nested list comprehensions"
   ]
  },
  {
   "cell_type": "code",
   "execution_count": 107,
   "id": "947de912",
   "metadata": {},
   "outputs": [],
   "source": [
    "all_data = [['John', 'Emily', 'Michael', 'Mary', 'Steven'],['Maria', 'Juan', 'Javier', 'Natalia', 'Pilar']]"
   ]
  },
  {
   "cell_type": "code",
   "execution_count": 108,
   "id": "1e42521e",
   "metadata": {},
   "outputs": [],
   "source": [
    "names_of_interest = []\n",
    "for names in all_data:\n",
    " enough_es = [name for name in names if name.count('e') >= 2]\n",
    " names_of_interest.extend(enough_es)"
   ]
  },
  {
   "cell_type": "code",
   "execution_count": 109,
   "id": "4d8eb702",
   "metadata": {},
   "outputs": [
    {
     "data": {
      "text/plain": [
       "['Steven']"
      ]
     },
     "execution_count": 109,
     "metadata": {},
     "output_type": "execute_result"
    }
   ],
   "source": [
    "names_of_interest"
   ]
  },
  {
   "cell_type": "code",
   "execution_count": 110,
   "id": "af8d1570",
   "metadata": {},
   "outputs": [
    {
     "data": {
      "text/plain": [
       "['Steven']"
      ]
     },
     "execution_count": 110,
     "metadata": {},
     "output_type": "execute_result"
    }
   ],
   "source": [
    "result = [name for names in all_data for name in names if name.count('e') >= 2]\n",
    "result"
   ]
  },
  {
   "cell_type": "code",
   "execution_count": 112,
   "id": "eca6a34d",
   "metadata": {},
   "outputs": [
    {
     "data": {
      "text/plain": [
       "[1, 2, 3, 4, 5, 6, 7, 8, 9]"
      ]
     },
     "execution_count": 112,
     "metadata": {},
     "output_type": "execute_result"
    }
   ],
   "source": [
    "some_tuples = [(1, 2, 3), (4, 5, 6), (7, 8, 9)]\n",
    "flattened = [x for tup in some_tuples for x in tup]\n",
    "flattened"
   ]
  },
  {
   "cell_type": "code",
   "execution_count": 113,
   "id": "6bf3f017",
   "metadata": {},
   "outputs": [
    {
     "data": {
      "text/plain": [
       "[[1, 2, 3], [4, 5, 6], [7, 8, 9]]"
      ]
     },
     "execution_count": 113,
     "metadata": {},
     "output_type": "execute_result"
    }
   ],
   "source": [
    "[[x for x in tup] for tup in some_tuples]"
   ]
  },
  {
   "cell_type": "markdown",
   "id": "ed0a34a1",
   "metadata": {},
   "source": [
    "## 3.2 Functions"
   ]
  },
  {
   "cell_type": "code",
   "execution_count": 114,
   "id": "6aa01049",
   "metadata": {},
   "outputs": [],
   "source": [
    "def my_function(x, y, z=1.5):\n",
    " if z > 1:\n",
    "     return z * (x + y)\n",
    " else:\n",
    "     return z / (x + y)"
   ]
  },
  {
   "cell_type": "markdown",
   "id": "843c3038",
   "metadata": {},
   "source": [
    "Each function can have positional arguments and keyword arguments. Keyword arguments are most commonly used to specify default values or optional arguments. In\n",
    "the preceding function, x and y are positional arguments while z is a keyword argument. This means that the function can be called in any of these ways:"
   ]
  },
  {
   "cell_type": "code",
   "execution_count": 115,
   "id": "e73d01a4",
   "metadata": {},
   "outputs": [
    {
     "data": {
      "text/plain": [
       "0.06363636363636363"
      ]
     },
     "execution_count": 115,
     "metadata": {},
     "output_type": "execute_result"
    }
   ],
   "source": [
    "my_function(5, 6, z=0.7)"
   ]
  },
  {
   "cell_type": "code",
   "execution_count": 116,
   "id": "e04895ec",
   "metadata": {},
   "outputs": [
    {
     "data": {
      "text/plain": [
       "35.49"
      ]
     },
     "execution_count": 116,
     "metadata": {},
     "output_type": "execute_result"
    }
   ],
   "source": [
    "my_function(3.14, 7, 3.5)"
   ]
  },
  {
   "cell_type": "code",
   "execution_count": 117,
   "id": "162cfaa6",
   "metadata": {},
   "outputs": [
    {
     "data": {
      "text/plain": [
       "45.0"
      ]
     },
     "execution_count": 117,
     "metadata": {},
     "output_type": "execute_result"
    }
   ],
   "source": [
    "my_function(10, 20)"
   ]
  },
  {
   "cell_type": "markdown",
   "id": "7adde2f7",
   "metadata": {},
   "source": [
    "The main restriction on function arguments is that the keyword arguments must follow the positional arguments (if any). You can specify keyword arguments in any\n",
    "order; this frees you from having to remember which order the function arguments\n",
    "were specified in and only what their names are."
   ]
  },
  {
   "cell_type": "markdown",
   "id": "f60bb266",
   "metadata": {},
   "source": [
    "It is possible to use keywords for passing positional arguments as\n",
    "well. In the preceding example, we could also have written:"
   ]
  },
  {
   "cell_type": "code",
   "execution_count": 119,
   "id": "e59a1e6e",
   "metadata": {},
   "outputs": [
    {
     "data": {
      "text/plain": [
       "77"
      ]
     },
     "execution_count": 119,
     "metadata": {},
     "output_type": "execute_result"
    }
   ],
   "source": [
    "my_function(x=5, y=6, z=7)\n"
   ]
  },
  {
   "cell_type": "code",
   "execution_count": 120,
   "id": "0da5ab23",
   "metadata": {},
   "outputs": [
    {
     "data": {
      "text/plain": [
       "77"
      ]
     },
     "execution_count": 120,
     "metadata": {},
     "output_type": "execute_result"
    }
   ],
   "source": [
    "my_function(y=6, x=5, z=7)"
   ]
  },
  {
   "cell_type": "markdown",
   "id": "8ef767f5",
   "metadata": {},
   "source": [
    "### Namespaces, Scope, and Local Functions"
   ]
  },
  {
   "cell_type": "markdown",
   "id": "441a675b",
   "metadata": {},
   "source": [
    "Functions can access variables in two different scopes: global and local. An alternative\n",
    "and more descriptive name describing a variable scope in Python is a namespace."
   ]
  },
  {
   "cell_type": "markdown",
   "id": "b5e039cc",
   "metadata": {},
   "source": [
    "Any variables that are assigned within a function by default are assigned to the local\n",
    "namespace. The local namespace is created when the function is called and immediately populated by the function’s arguments. After the function is finished, the local\n",
    "namespace is destroyed"
   ]
  },
  {
   "cell_type": "code",
   "execution_count": 123,
   "id": "8fa8a46d",
   "metadata": {},
   "outputs": [],
   "source": [
    "def func():\n",
    " a_z = []\n",
    " for i in range(5):\n",
    "     a_z.append(i)"
   ]
  },
  {
   "cell_type": "code",
   "execution_count": 124,
   "id": "9d43ff3c",
   "metadata": {},
   "outputs": [
    {
     "ename": "NameError",
     "evalue": "name 'a_z' is not defined",
     "output_type": "error",
     "traceback": [
      "\u001b[1;31m---------------------------------------------------------------------------\u001b[0m",
      "\u001b[1;31mNameError\u001b[0m                                 Traceback (most recent call last)",
      "\u001b[1;32m<ipython-input-124-7ac8f618dc62>\u001b[0m in \u001b[0;36m<module>\u001b[1;34m\u001b[0m\n\u001b[1;32m----> 1\u001b[1;33m \u001b[0ma_z\u001b[0m\u001b[1;33m\u001b[0m\u001b[1;33m\u001b[0m\u001b[0m\n\u001b[0m",
      "\u001b[1;31mNameError\u001b[0m: name 'a_z' is not defined"
     ]
    }
   ],
   "source": [
    "a_z"
   ]
  },
  {
   "cell_type": "code",
   "execution_count": 125,
   "id": "ab871825",
   "metadata": {},
   "outputs": [],
   "source": [
    "a_z = []\n",
    "def func():\n",
    " for i in range(5):\n",
    "     a_z.append(i)"
   ]
  },
  {
   "cell_type": "code",
   "execution_count": 126,
   "id": "9b6f9522",
   "metadata": {},
   "outputs": [
    {
     "data": {
      "text/plain": [
       "[]"
      ]
     },
     "execution_count": 126,
     "metadata": {},
     "output_type": "execute_result"
    }
   ],
   "source": [
    "a_z"
   ]
  },
  {
   "cell_type": "markdown",
   "id": "6a7044fe",
   "metadata": {},
   "source": [
    "Assigning variables outside of the function’s scope is possible, but those variables\n",
    "must be declared as global via the global keyword:"
   ]
  },
  {
   "cell_type": "code",
   "execution_count": 127,
   "id": "ab02c13c",
   "metadata": {},
   "outputs": [
    {
     "name": "stdout",
     "output_type": "stream",
     "text": [
      "[]\n"
     ]
    }
   ],
   "source": [
    "a = None\n",
    "def bind_a_variable():\n",
    "    global a\n",
    "    a = []\n",
    "bind_a_variable()\n",
    "print(a)"
   ]
  },
  {
   "cell_type": "code",
   "execution_count": 131,
   "id": "77f494e3",
   "metadata": {},
   "outputs": [
    {
     "name": "stdout",
     "output_type": "stream",
     "text": [
      "[0, 1, 2, 3, 4]\n"
     ]
    }
   ],
   "source": [
    "a_z = []\n",
    "def func():\n",
    "    global a_z\n",
    "    for i in range(5):\n",
    "        a_z.append(i)\n",
    "func()\n",
    "print(a_z)"
   ]
  },
  {
   "cell_type": "code",
   "execution_count": 132,
   "id": "32b0b2f2",
   "metadata": {},
   "outputs": [
    {
     "name": "stdout",
     "output_type": "stream",
     "text": [
      "[0, 1, 2, 3, 4]\n"
     ]
    }
   ],
   "source": [
    "global a_z\n",
    "a_z = []\n",
    "def func():\n",
    "    for i in range(5):\n",
    "        a_z.append(i)\n",
    "func()\n",
    "print(a_z)"
   ]
  },
  {
   "cell_type": "markdown",
   "id": "f741fbd0",
   "metadata": {},
   "source": [
    "I generally discourage use of the global keyword. Typically global\n",
    "variables are used to store some kind of state in a system. If you\n",
    "find yourself using a lot of them, it may indicate a need for objectoriented programming (using classes)."
   ]
  },
  {
   "cell_type": "markdown",
   "id": "f22055c3",
   "metadata": {},
   "source": [
    "### Returning Multiple Values"
   ]
  },
  {
   "cell_type": "code",
   "execution_count": 133,
   "id": "ce7b5b18",
   "metadata": {},
   "outputs": [],
   "source": [
    "def f():\n",
    " a = 5\n",
    " b = 6\n",
    " c = 7\n",
    " return a, b, c\n",
    "a, b, c = f()"
   ]
  },
  {
   "cell_type": "code",
   "execution_count": 134,
   "id": "49a2a1d0",
   "metadata": {},
   "outputs": [
    {
     "name": "stdout",
     "output_type": "stream",
     "text": [
      "5 6 7\n"
     ]
    }
   ],
   "source": [
    "print(a,b,c)"
   ]
  },
  {
   "cell_type": "markdown",
   "id": "2232c758",
   "metadata": {},
   "source": [
    "What’s happening here is that the function is actually just returning one object,\n",
    "namely a tuple, which is then being unpacked into the result variables. In the preceding example, we could have done this instead:"
   ]
  },
  {
   "cell_type": "code",
   "execution_count": 135,
   "id": "fe151104",
   "metadata": {},
   "outputs": [
    {
     "name": "stdout",
     "output_type": "stream",
     "text": [
      "(5, 6, 7)\n"
     ]
    }
   ],
   "source": [
    "returned_value = f()\n",
    "print(returned_value)"
   ]
  },
  {
   "cell_type": "code",
   "execution_count": 136,
   "id": "073ed242",
   "metadata": {},
   "outputs": [],
   "source": [
    "def f():\n",
    " a = 5\n",
    " b = 6\n",
    " c = 7\n",
    " return {'a' : a, 'b' : b, 'c' : c}"
   ]
  },
  {
   "cell_type": "code",
   "execution_count": 137,
   "id": "a9e57dcf",
   "metadata": {},
   "outputs": [
    {
     "name": "stdout",
     "output_type": "stream",
     "text": [
      "{'a': 5, 'b': 6, 'c': 7}\n"
     ]
    }
   ],
   "source": [
    "returned_value = f()\n",
    "print(returned_value)"
   ]
  },
  {
   "cell_type": "code",
   "execution_count": 138,
   "id": "0f57f180",
   "metadata": {},
   "outputs": [],
   "source": [
    "a, b, c = f()"
   ]
  },
  {
   "cell_type": "code",
   "execution_count": 139,
   "id": "788faebc",
   "metadata": {},
   "outputs": [
    {
     "name": "stdout",
     "output_type": "stream",
     "text": [
      "a b c\n"
     ]
    }
   ],
   "source": [
    "print(a,b,c)"
   ]
  },
  {
   "cell_type": "markdown",
   "id": "c71dbbfe",
   "metadata": {},
   "source": [
    "### Functions Are Objects"
   ]
  },
  {
   "cell_type": "markdown",
   "id": "1942a0e2",
   "metadata": {},
   "source": [
    "Since Python functions are objects, many constructs can be easily expressed that are\n",
    "difficult to do in other languages. Suppose we were doing some data cleaning and\n",
    "needed to apply a bunch of transformations to the following list of strings:\n"
   ]
  },
  {
   "cell_type": "code",
   "execution_count": 140,
   "id": "d5cced49",
   "metadata": {},
   "outputs": [],
   "source": [
    " states = [' Alabama ', 'Georgia!', 'Georgia', 'georgia', 'FlOrIda','south carolina##', 'West virginia?']"
   ]
  },
  {
   "cell_type": "markdown",
   "id": "3c1c78b4",
   "metadata": {},
   "source": [
    "Anyone who has ever worked with user-submitted survey data has seen messy results\n",
    "like these. Lots of things need to happen to make this list of strings uniform and\n",
    "ready for analysis: stripping whitespace, removing punctuation symbols, and standardizing on proper capitalization. One way to do this is to use built-in string methods\n",
    "along with the re standard library module for regular expressions:\n"
   ]
  },
  {
   "cell_type": "code",
   "execution_count": 141,
   "id": "0d51c0fb",
   "metadata": {},
   "outputs": [],
   "source": [
    "import re\n",
    "def clean_strings(strings):\n",
    " result = []\n",
    " for value in strings:\n",
    "     value = value.strip()\n",
    "     value = re.sub('[!#?]', '', value)\n",
    "     value = value.title()\n",
    "     result.append(value)\n",
    " return result"
   ]
  },
  {
   "cell_type": "code",
   "execution_count": 142,
   "id": "647d2038",
   "metadata": {},
   "outputs": [
    {
     "data": {
      "text/plain": [
       "['Alabama',\n",
       " 'Georgia',\n",
       " 'Georgia',\n",
       " 'Georgia',\n",
       " 'Florida',\n",
       " 'South Carolina',\n",
       " 'West Virginia']"
      ]
     },
     "execution_count": 142,
     "metadata": {},
     "output_type": "execute_result"
    }
   ],
   "source": [
    "clean_strings(states)"
   ]
  },
  {
   "cell_type": "code",
   "execution_count": 143,
   "id": "bb75ec46",
   "metadata": {},
   "outputs": [],
   "source": [
    "def remove_punctuation(value):\n",
    " return re.sub('[!#?]', '', value)\n",
    "clean_ops = [str.strip, remove_punctuation, str.title]\n",
    "def clean_strings(strings, ops):\n",
    " result = []\n",
    " for value in strings:\n",
    "     for function in ops:\n",
    "         value = function(value)\n",
    "     result.append(value)\n",
    " return result"
   ]
  },
  {
   "cell_type": "code",
   "execution_count": 144,
   "id": "547f88ad",
   "metadata": {},
   "outputs": [
    {
     "data": {
      "text/plain": [
       "['Alabama',\n",
       " 'Georgia',\n",
       " 'Georgia',\n",
       " 'Georgia',\n",
       " 'Florida',\n",
       " 'South Carolina',\n",
       " 'West Virginia']"
      ]
     },
     "execution_count": 144,
     "metadata": {},
     "output_type": "execute_result"
    }
   ],
   "source": [
    "clean_strings(states, clean_ops)"
   ]
  },
  {
   "cell_type": "markdown",
   "id": "52810f69",
   "metadata": {},
   "source": [
    "A more functional pattern like this enables you to easily modify how the strings are\n",
    "transformed at a very high level. The clean_strings function is also now more reusable and generic."
   ]
  },
  {
   "cell_type": "markdown",
   "id": "8c77c28c",
   "metadata": {},
   "source": [
    "You can use functions as arguments to other functions like the built-in map function,\n",
    "which applies a function to a sequence of some kind:"
   ]
  },
  {
   "cell_type": "code",
   "execution_count": 145,
   "id": "099a267e",
   "metadata": {},
   "outputs": [
    {
     "name": "stdout",
     "output_type": "stream",
     "text": [
      " Alabama \n",
      "Georgia\n",
      "Georgia\n",
      "georgia\n",
      "FlOrIda\n",
      "south carolina\n",
      "West virginia\n"
     ]
    }
   ],
   "source": [
    "for x in map(remove_punctuation, states):\n",
    "    print(x)"
   ]
  },
  {
   "cell_type": "markdown",
   "id": "8a9b1eee",
   "metadata": {},
   "source": [
    "### Anonymous (Lambda) Functions"
   ]
  },
  {
   "cell_type": "markdown",
   "id": "df4f7d65",
   "metadata": {},
   "source": [
    "Python has support for so-called anonymous or lambda functions, which are a way of\n",
    "writing functions consisting of a single statement, the result of which is the return\n",
    "value. They are defined with the lambda keyword, which has no meaning other than\n",
    "“we are declaring an anonymous function”:"
   ]
  },
  {
   "cell_type": "code",
   "execution_count": 146,
   "id": "d61a6507",
   "metadata": {},
   "outputs": [],
   "source": [
    "def short_function(x):\n",
    " return x * 2"
   ]
  },
  {
   "cell_type": "code",
   "execution_count": 157,
   "id": "41fb1354",
   "metadata": {},
   "outputs": [],
   "source": [
    "equiv_anon = lambda x: x * 2"
   ]
  },
  {
   "cell_type": "code",
   "execution_count": 160,
   "id": "cca8c440",
   "metadata": {},
   "outputs": [
    {
     "data": {
      "text/plain": [
       "6"
      ]
     },
     "execution_count": 160,
     "metadata": {},
     "output_type": "execute_result"
    }
   ],
   "source": [
    "equiv_anon(3)"
   ]
  },
  {
   "cell_type": "code",
   "execution_count": 154,
   "id": "8d9ea11d",
   "metadata": {},
   "outputs": [
    {
     "data": {
      "text/plain": [
       "[8, 0, 2, 10, 12]"
      ]
     },
     "execution_count": 154,
     "metadata": {},
     "output_type": "execute_result"
    }
   ],
   "source": [
    "def apply_to_list(some_list, f):\n",
    " return [f(x) for x in some_list]\n",
    "ints = [4, 0, 1, 5, 6]\n",
    "apply_to_list(ints, lambda x: x * 2)"
   ]
  },
  {
   "cell_type": "code",
   "execution_count": 155,
   "id": "7ff1b733",
   "metadata": {},
   "outputs": [],
   "source": [
    "strings = ['foo', 'card', 'bar', 'aaaa', 'abab']\n",
    "strings.sort(key=lambda x: len(set(list(x))))"
   ]
  },
  {
   "cell_type": "code",
   "execution_count": 156,
   "id": "e20fbe6c",
   "metadata": {},
   "outputs": [
    {
     "data": {
      "text/plain": [
       "['aaaa', 'foo', 'abab', 'bar', 'card']"
      ]
     },
     "execution_count": 156,
     "metadata": {},
     "output_type": "execute_result"
    }
   ],
   "source": [
    "strings"
   ]
  },
  {
   "cell_type": "markdown",
   "id": "32a0f2cf",
   "metadata": {},
   "source": [
    "One reason lambda functions are called anonymous functions is\n",
    "that , unlike functions declared with the def keyword, the function\n",
    "object itself is never given an explicit $\\text{__name__}$ attribute"
   ]
  },
  {
   "cell_type": "markdown",
   "id": "2252e437",
   "metadata": {},
   "source": [
    "### Currying: Partial Argument Application"
   ]
  },
  {
   "cell_type": "markdown",
   "id": "7b49e302",
   "metadata": {},
   "source": [
    "Currying is computer science jargon (named after the mathematician Haskell Curry)\n",
    "that means deriving new functions from existing ones by partial argument application. For example, suppose we had a trivial function that adds two numbers together:"
   ]
  },
  {
   "cell_type": "code",
   "execution_count": 161,
   "id": "99584fb3",
   "metadata": {},
   "outputs": [],
   "source": [
    "def add_numbers(x, y):\n",
    " return x + y"
   ]
  },
  {
   "cell_type": "markdown",
   "id": "8e5999ec",
   "metadata": {},
   "source": [
    "Using this function, we could derive a new function of one variable, add_five, that\n",
    "adds 5 to its argument:"
   ]
  },
  {
   "cell_type": "code",
   "execution_count": 162,
   "id": "52b91949",
   "metadata": {},
   "outputs": [],
   "source": [
    "add_five = lambda y: add_numbers(5, y)"
   ]
  },
  {
   "cell_type": "code",
   "execution_count": 163,
   "id": "95055231",
   "metadata": {},
   "outputs": [
    {
     "data": {
      "text/plain": [
       "15"
      ]
     },
     "execution_count": 163,
     "metadata": {},
     "output_type": "execute_result"
    }
   ],
   "source": [
    "add_five(10)"
   ]
  },
  {
   "cell_type": "markdown",
   "id": "ac21c639",
   "metadata": {},
   "source": [
    "The second argument to add_numbers is said to be curried. There’s nothing very fancy\n",
    "here, as all we’ve really done is define a new function that calls an existing function.\n",
    "The built-in functools module can simplify this process using the partial function:"
   ]
  },
  {
   "cell_type": "code",
   "execution_count": 164,
   "id": "ef29b26e",
   "metadata": {},
   "outputs": [],
   "source": [
    "from functools import partial\n",
    "add_five = partial(add_numbers, 5)"
   ]
  },
  {
   "cell_type": "code",
   "execution_count": 165,
   "id": "0af480f1",
   "metadata": {},
   "outputs": [
    {
     "data": {
      "text/plain": [
       "106"
      ]
     },
     "execution_count": 165,
     "metadata": {},
     "output_type": "execute_result"
    }
   ],
   "source": [
    "add_five(101)"
   ]
  },
  {
   "cell_type": "markdown",
   "id": "e6d82bec",
   "metadata": {},
   "source": [
    "### Generators"
   ]
  },
  {
   "cell_type": "markdown",
   "id": "c729de64",
   "metadata": {},
   "source": [
    "Having a consistent way to iterate over sequences, like objects in a list or lines in a\n",
    "file, is an important Python feature. This is accomplished by means of the iterator\n",
    "protocol, a generic way to make objects iterable. For example, iterating over a dict\n",
    "yields the dict keys:"
   ]
  },
  {
   "cell_type": "code",
   "execution_count": 166,
   "id": "014605aa",
   "metadata": {},
   "outputs": [
    {
     "name": "stdout",
     "output_type": "stream",
     "text": [
      "a\n",
      "b\n",
      "c\n"
     ]
    }
   ],
   "source": [
    "some_dict = {'a': 1, 'b': 2, 'c': 3}\n",
    "for key in some_dict:\n",
    "    print(key)"
   ]
  },
  {
   "cell_type": "markdown",
   "id": "502dddd6",
   "metadata": {},
   "source": [
    "When you write for key in some_dict, the Python interpreter first attempts to create an iterator out of some_dict:"
   ]
  },
  {
   "cell_type": "code",
   "execution_count": 167,
   "id": "c871e4b1",
   "metadata": {},
   "outputs": [
    {
     "data": {
      "text/plain": [
       "<dict_keyiterator at 0x22ab9319f48>"
      ]
     },
     "execution_count": 167,
     "metadata": {},
     "output_type": "execute_result"
    }
   ],
   "source": [
    "dict_iterator = iter(some_dict)\n",
    "dict_iterator"
   ]
  },
  {
   "cell_type": "markdown",
   "id": "f8033a4a",
   "metadata": {},
   "source": [
    "An iterator is any object that will yield objects to the Python interpreter when used in\n",
    "a context like a for loop. Most methods expecting a list or list-like object will also\n",
    "accept any iterable object. This includes built-in methods such as min, max, and sum,\n",
    "and type constructors like list and tuple:"
   ]
  },
  {
   "cell_type": "code",
   "execution_count": 168,
   "id": "547f12d2",
   "metadata": {},
   "outputs": [
    {
     "data": {
      "text/plain": [
       "['a', 'b', 'c']"
      ]
     },
     "execution_count": 168,
     "metadata": {},
     "output_type": "execute_result"
    }
   ],
   "source": [
    "list(dict_iterator)"
   ]
  },
  {
   "cell_type": "markdown",
   "id": "84585c12",
   "metadata": {},
   "source": [
    "A generator is a concise way to construct a new iterable object. Whereas normal functions execute and return a single result at a time, generators return a sequence of\n",
    "multiple results lazily, pausing after each one until the next one is requested. To create\n",
    "a generator, use the yield keyword instead of return in a function:"
   ]
  },
  {
   "cell_type": "code",
   "execution_count": 169,
   "id": "29200bb8",
   "metadata": {},
   "outputs": [],
   "source": [
    "def squares(n=10):\n",
    " print('Generating squares from 1 to {0}'.format(n ** 2))\n",
    " for i in range(1, n + 1):\n",
    "     yield i ** 2"
   ]
  },
  {
   "cell_type": "markdown",
   "id": "f2c1c4d9",
   "metadata": {},
   "source": [
    "When you actually call the generator, no code is immediately executed:"
   ]
  },
  {
   "cell_type": "code",
   "execution_count": 170,
   "id": "c02bd469",
   "metadata": {},
   "outputs": [],
   "source": [
    "gen = squares()"
   ]
  },
  {
   "cell_type": "code",
   "execution_count": 171,
   "id": "c91d1063",
   "metadata": {},
   "outputs": [
    {
     "data": {
      "text/plain": [
       "<generator object squares at 0x0000022AB8C020F8>"
      ]
     },
     "execution_count": 171,
     "metadata": {},
     "output_type": "execute_result"
    }
   ],
   "source": [
    "gen"
   ]
  },
  {
   "cell_type": "markdown",
   "id": "293fd3af",
   "metadata": {},
   "source": [
    "It is not until you request elements from the generator that it begins executing its\n",
    "code:"
   ]
  },
  {
   "cell_type": "code",
   "execution_count": 172,
   "id": "1cbb2183",
   "metadata": {},
   "outputs": [
    {
     "name": "stdout",
     "output_type": "stream",
     "text": [
      "Generating squares from 1 to 100\n",
      "1 4 9 16 25 36 49 64 81 100 "
     ]
    }
   ],
   "source": [
    "for x in gen:\n",
    "    print(x, end=' ')\n"
   ]
  },
  {
   "cell_type": "markdown",
   "id": "d9b9ddf0",
   "metadata": {},
   "source": [
    "### Generator expresssions"
   ]
  },
  {
   "cell_type": "markdown",
   "id": "5c12642f",
   "metadata": {},
   "source": [
    "Another even more concise way to make a generator is by using a generator expression. This is a generator analogue to list, dict, and set comprehensions; to create one,\n",
    "enclose what would otherwise be a list comprehension within parentheses instead of\n",
    "brackets:"
   ]
  },
  {
   "cell_type": "code",
   "execution_count": 173,
   "id": "dc14332f",
   "metadata": {},
   "outputs": [
    {
     "data": {
      "text/plain": [
       "<generator object <genexpr> at 0x0000022AB8C02150>"
      ]
     },
     "execution_count": 173,
     "metadata": {},
     "output_type": "execute_result"
    }
   ],
   "source": [
    "gen = (x ** 2 for x in range(100))\n",
    "gen"
   ]
  },
  {
   "cell_type": "markdown",
   "id": "24622717",
   "metadata": {},
   "source": [
    "This is completely equivalent to the following more verbose generator:"
   ]
  },
  {
   "cell_type": "code",
   "execution_count": 174,
   "id": "c5776986",
   "metadata": {},
   "outputs": [],
   "source": [
    "def _make_gen():\n",
    " for x in range(100):\n",
    "     yield x ** 2\n",
    "gen = _make_gen()"
   ]
  },
  {
   "cell_type": "code",
   "execution_count": 175,
   "id": "2dc6c368",
   "metadata": {},
   "outputs": [
    {
     "data": {
      "text/plain": [
       "328350"
      ]
     },
     "execution_count": 175,
     "metadata": {},
     "output_type": "execute_result"
    }
   ],
   "source": [
    "sum(x ** 2 for x in range(100))"
   ]
  },
  {
   "cell_type": "code",
   "execution_count": 176,
   "id": "abcb3c79",
   "metadata": {},
   "outputs": [
    {
     "data": {
      "text/plain": [
       "{0: 0, 1: 1, 2: 4, 3: 9, 4: 16}"
      ]
     },
     "execution_count": 176,
     "metadata": {},
     "output_type": "execute_result"
    }
   ],
   "source": [
    "dict((i, i **2) for i in range(5))"
   ]
  },
  {
   "cell_type": "markdown",
   "id": "7373cff1",
   "metadata": {},
   "source": [
    "The standard library itertools module has a collection of generators for many common data algorithms. For example, groupby takes any sequence and a function,\n",
    "grouping consecutive elements in the sequence by return value of the function. Here’s\n",
    "an example:"
   ]
  },
  {
   "cell_type": "code",
   "execution_count": 177,
   "id": "0f9681f5",
   "metadata": {},
   "outputs": [
    {
     "name": "stdout",
     "output_type": "stream",
     "text": [
      "A ['Alan', 'Adam']\n",
      "W ['Wes', 'Will']\n",
      "A ['Albert']\n",
      "S ['Steven']\n"
     ]
    }
   ],
   "source": [
    "import itertools\n",
    "first_letter = lambda x: x[0]\n",
    "names = ['Alan', 'Adam', 'Wes', 'Will', 'Albert', 'Steven']\n",
    "for letter, names in itertools.groupby(names, first_letter):\n",
    "    print(letter, list(names)) # names is a generator"
   ]
  },
  {
   "cell_type": "code",
   "execution_count": 178,
   "id": "ad0b509e",
   "metadata": {},
   "outputs": [],
   "source": [
    "# Function --> Description\n",
    "\n",
    "# combinations(iterable, k) --> Generates a sequence of all possible k-tuples of elements in the iterable, ignoring order and without replacement (see also the companion functioncombinations_with_replacement)\n",
    "# permutations(iterable, k) --> Generates a sequence of all possible k-tuples of elements in the iterable,respecting order\n",
    "# groupby(iterable[, keyfunc]) --> Generates (key, sub-iterator) for each unique key\n",
    "# product(*iterables, repeat=1) --> Generates the Cartesian product of the input iterables as tuples, similar to a nested for loop\n"
   ]
  },
  {
   "cell_type": "markdown",
   "id": "0c57dbb8",
   "metadata": {},
   "source": [
    "### Errors and Exception Handling"
   ]
  },
  {
   "cell_type": "markdown",
   "id": "814b718f",
   "metadata": {},
   "source": [
    "Handling Python errors or exceptions gracefully is an important part of building\n",
    "robust programs. In data analysis applications, many functions only work on certain\n",
    "kinds of input. As an example, Python’s float function is capable of casting a string\n",
    "to a floating-point number, but fails with ValueError on improper inputs:"
   ]
  },
  {
   "cell_type": "code",
   "execution_count": 180,
   "id": "53eae153",
   "metadata": {},
   "outputs": [
    {
     "data": {
      "text/plain": [
       "1.2345"
      ]
     },
     "execution_count": 180,
     "metadata": {},
     "output_type": "execute_result"
    }
   ],
   "source": [
    "float('1.2345')"
   ]
  },
  {
   "cell_type": "code",
   "execution_count": 181,
   "id": "275b554c",
   "metadata": {},
   "outputs": [
    {
     "ename": "ValueError",
     "evalue": "could not convert string to float: 'something'",
     "output_type": "error",
     "traceback": [
      "\u001b[1;31m---------------------------------------------------------------------------\u001b[0m",
      "\u001b[1;31mValueError\u001b[0m                                Traceback (most recent call last)",
      "\u001b[1;32m<ipython-input-181-2649e4ade0e6>\u001b[0m in \u001b[0;36m<module>\u001b[1;34m\u001b[0m\n\u001b[1;32m----> 1\u001b[1;33m \u001b[0mfloat\u001b[0m\u001b[1;33m(\u001b[0m\u001b[1;34m'something'\u001b[0m\u001b[1;33m)\u001b[0m\u001b[1;33m\u001b[0m\u001b[1;33m\u001b[0m\u001b[0m\n\u001b[0m",
      "\u001b[1;31mValueError\u001b[0m: could not convert string to float: 'something'"
     ]
    }
   ],
   "source": [
    "float('something')"
   ]
  },
  {
   "cell_type": "markdown",
   "id": "e70b4e66",
   "metadata": {},
   "source": [
    "Suppose we wanted a version of float that fails gracefully, returning the input argument. We can do this by writing a function that encloses the call to float in a try/\n",
    "except block:"
   ]
  },
  {
   "cell_type": "code",
   "execution_count": 182,
   "id": "9430a961",
   "metadata": {},
   "outputs": [],
   "source": [
    "def attempt_float(x):\n",
    " try:\n",
    "     return float(x)\n",
    " except:\n",
    "     return x\n"
   ]
  },
  {
   "cell_type": "markdown",
   "id": "b431076f",
   "metadata": {},
   "source": [
    "The code in the except part of the block will only be executed if float(x) raises an\n",
    "exception:"
   ]
  },
  {
   "cell_type": "code",
   "execution_count": 183,
   "id": "04979dec",
   "metadata": {},
   "outputs": [
    {
     "data": {
      "text/plain": [
       "1.2345"
      ]
     },
     "execution_count": 183,
     "metadata": {},
     "output_type": "execute_result"
    }
   ],
   "source": [
    "attempt_float('1.2345')"
   ]
  },
  {
   "cell_type": "code",
   "execution_count": 184,
   "id": "71d85a19",
   "metadata": {},
   "outputs": [
    {
     "data": {
      "text/plain": [
       "'something'"
      ]
     },
     "execution_count": 184,
     "metadata": {},
     "output_type": "execute_result"
    }
   ],
   "source": [
    "attempt_float('something')\n"
   ]
  },
  {
   "cell_type": "markdown",
   "id": "c25020aa",
   "metadata": {},
   "source": [
    "You might notice that float can raise exceptions other than ValueError:"
   ]
  },
  {
   "cell_type": "code",
   "execution_count": 185,
   "id": "de425f9a",
   "metadata": {},
   "outputs": [
    {
     "ename": "TypeError",
     "evalue": "float() argument must be a string or a number, not 'tuple'",
     "output_type": "error",
     "traceback": [
      "\u001b[1;31m---------------------------------------------------------------------------\u001b[0m",
      "\u001b[1;31mTypeError\u001b[0m                                 Traceback (most recent call last)",
      "\u001b[1;32m<ipython-input-185-82f777b0e564>\u001b[0m in \u001b[0;36m<module>\u001b[1;34m\u001b[0m\n\u001b[1;32m----> 1\u001b[1;33m \u001b[0mfloat\u001b[0m\u001b[1;33m(\u001b[0m\u001b[1;33m(\u001b[0m\u001b[1;36m1\u001b[0m\u001b[1;33m,\u001b[0m \u001b[1;36m2\u001b[0m\u001b[1;33m)\u001b[0m\u001b[1;33m)\u001b[0m\u001b[1;33m\u001b[0m\u001b[1;33m\u001b[0m\u001b[0m\n\u001b[0m",
      "\u001b[1;31mTypeError\u001b[0m: float() argument must be a string or a number, not 'tuple'"
     ]
    }
   ],
   "source": [
    "float((1, 2))"
   ]
  },
  {
   "cell_type": "markdown",
   "id": "be8f8293",
   "metadata": {},
   "source": [
    "You might want to only suppress ValueError, since a TypeError (the input was not a\n",
    "string or numeric value) might indicate a legitimate bug in your program. To do that,\n",
    "write the exception type after except:"
   ]
  },
  {
   "cell_type": "code",
   "execution_count": 186,
   "id": "6d608569",
   "metadata": {},
   "outputs": [],
   "source": [
    "def attempt_float(x):\n",
    " try:\n",
    "     return float(x)\n",
    " except ValueError:\n",
    "     return x"
   ]
  },
  {
   "cell_type": "code",
   "execution_count": 187,
   "id": "6a1763f5",
   "metadata": {},
   "outputs": [
    {
     "data": {
      "text/plain": [
       "'something'"
      ]
     },
     "execution_count": 187,
     "metadata": {},
     "output_type": "execute_result"
    }
   ],
   "source": [
    "attempt_float('something')"
   ]
  },
  {
   "cell_type": "markdown",
   "id": "2bf78b99",
   "metadata": {},
   "source": [
    "You can catch multiple exception types by writing a tuple of exception types instead\n",
    "(the parentheses are required):"
   ]
  },
  {
   "cell_type": "code",
   "execution_count": 188,
   "id": "0f6b356a",
   "metadata": {},
   "outputs": [],
   "source": [
    "def attempt_float(x):\n",
    " try:\n",
    "     return float(x)\n",
    " except (TypeError, ValueError):\n",
    "     return x"
   ]
  },
  {
   "cell_type": "code",
   "execution_count": 190,
   "id": "58dbf321",
   "metadata": {},
   "outputs": [
    {
     "data": {
      "text/plain": [
       "(1, 2)"
      ]
     },
     "execution_count": 190,
     "metadata": {},
     "output_type": "execute_result"
    }
   ],
   "source": [
    "attempt_float((1, 2))"
   ]
  },
  {
   "cell_type": "markdown",
   "id": "e5bf29b3",
   "metadata": {},
   "source": [
    "In some cases, you may not want to suppress an exception, but you want some code\n",
    "to be executed regardless of whether the code in the try block succeeds or not. To do\n",
    "this, use finally:"
   ]
  },
  {
   "cell_type": "code",
   "execution_count": 191,
   "id": "ecc5c626",
   "metadata": {},
   "outputs": [],
   "source": [
    "# f = open(path, 'w')\n",
    "# try:\n",
    "#      write_to_file(f)\n",
    "# finally:\n",
    "#      f.close()"
   ]
  },
  {
   "cell_type": "markdown",
   "id": "334be077",
   "metadata": {},
   "source": [
    "Here, the file handle f will always get closed. Similarly, you can have code that executes only if the try: block succeeds using else:\n"
   ]
  },
  {
   "cell_type": "markdown",
   "id": "39cfe3c1",
   "metadata": {},
   "source": [
    "Similarly, you can have code that executes only if the try: block succeeds using else:"
   ]
  },
  {
   "cell_type": "code",
   "execution_count": 192,
   "id": "00b369bd",
   "metadata": {},
   "outputs": [],
   "source": [
    "# f = open(path, 'w')\n",
    "# try:\n",
    "#  write_to_file(f)\n",
    "# except:\n",
    "#  print('Failed')\n",
    "# else:\n",
    "#  print('Succeeded')\n",
    "# finally:\n",
    "#  f.close()"
   ]
  },
  {
   "cell_type": "markdown",
   "id": "80e5275f",
   "metadata": {},
   "source": [
    "### Exceptions in IPython\n"
   ]
  },
  {
   "cell_type": "markdown",
   "id": "cb06d43e",
   "metadata": {},
   "source": [
    "If an exception is raised while you are %run-ing a script or executing any statement,\n",
    "IPython will by default print a full call stack trace (traceback) with a few lines of context around the position at each point in the stack:"
   ]
  },
  {
   "cell_type": "code",
   "execution_count": 194,
   "id": "038f5522",
   "metadata": {},
   "outputs": [],
   "source": [
    "# %run examples/ipython_bug.py"
   ]
  },
  {
   "cell_type": "markdown",
   "id": "9c8370ab",
   "metadata": {},
   "source": [
    "As you will see later in the chapter, you can step into the stack (using the\n",
    "%debug or %pdb magics) after an error has occurred for interactive post-mortem\n",
    "debugging"
   ]
  },
  {
   "cell_type": "markdown",
   "id": "a6f8d530",
   "metadata": {},
   "source": [
    "## 3.3 Files and the Operating System"
   ]
  },
  {
   "cell_type": "markdown",
   "id": "0bca6172",
   "metadata": {},
   "source": [
    "To open a file for reading or writing, use the built-in open function with either a relative or absolute file path:"
   ]
  },
  {
   "cell_type": "code",
   "execution_count": 196,
   "id": "ba565674",
   "metadata": {},
   "outputs": [],
   "source": [
    "# path = 'examples/segismundo.txt'\n",
    "# f = open(path)"
   ]
  },
  {
   "cell_type": "markdown",
   "id": "b6b97527",
   "metadata": {},
   "source": [
    "By default, the file is opened in read-only mode 'r'. We can then treat the file handle\n",
    "f like a list and iterate over the lines like so:\n"
   ]
  },
  {
   "cell_type": "code",
   "execution_count": 197,
   "id": "91ac989b",
   "metadata": {},
   "outputs": [],
   "source": [
    "# for line in f:\n",
    "#  pass"
   ]
  },
  {
   "cell_type": "markdown",
   "id": "27e885fb",
   "metadata": {},
   "source": [
    "The lines come out of the file with the end-of-line (EOL) markers intact, so you’ll\n",
    "often see code to get an EOL-free list of lines in a file like:"
   ]
  },
  {
   "cell_type": "code",
   "execution_count": 198,
   "id": "ab2b3c1d",
   "metadata": {},
   "outputs": [],
   "source": [
    "# lines = [x.rstrip() for x in open(path)]\n",
    "# lines\n"
   ]
  },
  {
   "cell_type": "markdown",
   "id": "dadecac4",
   "metadata": {},
   "source": [
    "When you use open to create file objects, it is important to explicitly close the file\n",
    "when you are finished with it. Closing the file releases its resources back to the oper‐\n",
    "ating system"
   ]
  },
  {
   "cell_type": "code",
   "execution_count": 199,
   "id": "fde644e2",
   "metadata": {},
   "outputs": [],
   "source": [
    "# f.close()\n"
   ]
  },
  {
   "cell_type": "markdown",
   "id": "d731f460",
   "metadata": {},
   "source": [
    "One of the ways to make it easier to clean up open files is to use the with statement:\n"
   ]
  },
  {
   "cell_type": "code",
   "execution_count": 200,
   "id": "b52f9b85",
   "metadata": {},
   "outputs": [],
   "source": [
    "# with open(path) as f:\n",
    "#     lines = [x.rstrip() for x in f]\n"
   ]
  },
  {
   "cell_type": "markdown",
   "id": "fce2fa40",
   "metadata": {},
   "source": [
    "This will automatically close the file f when exiting the with block."
   ]
  },
  {
   "cell_type": "markdown",
   "id": "442528fb",
   "metadata": {},
   "source": [
    "If we had typed f = open(path, 'w'), a new file at examples/segismundo.txt would\n",
    "have been created (be careful!), overwriting any one in its place. There is also the 'x'\n",
    "file mode, which creates a writable file but fails if the file path already exists. See\n",
    "Table 3-3 for a list of all valid file read/write modes."
   ]
  },
  {
   "cell_type": "markdown",
   "id": "af8ecbb4",
   "metadata": {},
   "source": [
    "For readable files, some of the most commonly used methods are read, seek, and\n",
    "tell. read returns a certain number of characters from the file. What constitutes a\n",
    "“character” is determined by the file’s encoding (e.g., UTF-8) or simply raw bytes if\n",
    "the file is opened in binary mode:\n"
   ]
  },
  {
   "cell_type": "code",
   "execution_count": 201,
   "id": "e937b084",
   "metadata": {},
   "outputs": [],
   "source": [
    "# f = open(path)\n",
    "# f.read(10)\n",
    "# f2 = open(path, 'rb') # Binary mode\n",
    "# f2.read(10)"
   ]
  },
  {
   "cell_type": "markdown",
   "id": "1eaa93ae",
   "metadata": {},
   "source": [
    "tell gives you the current position:"
   ]
  },
  {
   "cell_type": "code",
   "execution_count": 202,
   "id": "7f87250b",
   "metadata": {},
   "outputs": [],
   "source": [
    "# f.tell()"
   ]
  },
  {
   "cell_type": "markdown",
   "id": "5beca241",
   "metadata": {},
   "source": [
    "Even though we read 10 characters from the file, the position is 11 because it took\n",
    "that many bytes to decode 10 characters using the default encoding. You can check\n",
    "the default encoding in the sys module:"
   ]
  },
  {
   "cell_type": "code",
   "execution_count": 203,
   "id": "4037a6b3",
   "metadata": {},
   "outputs": [
    {
     "data": {
      "text/plain": [
       "'utf-8'"
      ]
     },
     "execution_count": 203,
     "metadata": {},
     "output_type": "execute_result"
    }
   ],
   "source": [
    "import sys\n",
    "sys.getdefaultencoding()"
   ]
  },
  {
   "cell_type": "markdown",
   "id": "c1284281",
   "metadata": {},
   "source": [
    "seek changes the file position to the indicated byte in the file:"
   ]
  },
  {
   "cell_type": "code",
   "execution_count": 205,
   "id": "b1dee0b8",
   "metadata": {},
   "outputs": [],
   "source": [
    "# f.seek(3)"
   ]
  },
  {
   "cell_type": "code",
   "execution_count": 206,
   "id": "9c6d8391",
   "metadata": {},
   "outputs": [],
   "source": [
    "# f.read(1)\n"
   ]
  },
  {
   "cell_type": "code",
   "execution_count": 207,
   "id": "3a0109e6",
   "metadata": {},
   "outputs": [],
   "source": [
    "# Table 3-3. Python file modes\n",
    "\n",
    "# Mode --> Description\n",
    "# r --> Read-only mode\n",
    "# w --> Write-only mode; creates a new file (erasing the data for any file with the same name)\n",
    "# x --> Write-only mode; creates a new file, but fails if the file path already exists\n",
    "# a --> Append to existing file (create the file if it does not already exist)\n",
    "# r+ --> Read and write b Add to mode for binary files (i.e., 'rb' or 'wb')\n",
    "# t -->Text mode for files (automatically decoding bytes to Unicode). This is the default if not specified. Add t to other\n",
    "# modes to use this (i.e., 'rt' or 'xt')"
   ]
  },
  {
   "cell_type": "markdown",
   "id": "d7427f85",
   "metadata": {},
   "source": [
    "To write text to a file, you can use the file’s write or writelines methods. For example, we could create a version of prof_mod.py with no blank lines like so:"
   ]
  },
  {
   "cell_type": "code",
   "execution_count": 208,
   "id": "53d16625",
   "metadata": {},
   "outputs": [],
   "source": [
    "# with open('tmp.txt', 'w') as handle:\n",
    "#     handle.writelines(x for x in open(path) if len(x) > 1)\n",
    "# with open('tmp.txt') as f:\n",
    "#     lines = f.readlines()\n",
    "# lines"
   ]
  },
  {
   "cell_type": "code",
   "execution_count": 209,
   "id": "eaa19acd",
   "metadata": {},
   "outputs": [],
   "source": [
    "# read([size]) --> Return data from file as a string, with optional size argument indicating the number of bytes to read\n",
    "# readlines([size]) --> Return list of lines in the file, with optional size argument \n",
    "# write(str) --> Write passed string to file\n",
    "# writelines(strings) --> Write passed sequence of strings to the file\n",
    "# close() --> Close the handle\n",
    "# flush() --> Flush the internal I/O buffer to disk\n",
    "# seek(pos) --> Move to indicated file position (integer)\n",
    "# tell() --> Return current file position as integer\n",
    "# closed --> True if the file is closed"
   ]
  },
  {
   "cell_type": "markdown",
   "id": "79341723",
   "metadata": {},
   "source": [
    "The default behavior for Python files (whether readable or writable) is text mode,\n",
    "which means that you intend to work with Python strings (i.e., Unicode). This contrasts with binary mode, which you can obtain by appending b onto the file mode.\n",
    "Let’s look at the file (which contains non-ASCII characters with UTF-8 encoding)\n",
    "from the previous section:"
   ]
  },
  {
   "cell_type": "code",
   "execution_count": 210,
   "id": "08f42719",
   "metadata": {},
   "outputs": [],
   "source": [
    "# with open(path) as f:\n",
    "#     chars = f.read(10)\n",
    "# chars"
   ]
  },
  {
   "cell_type": "markdown",
   "id": "ce3a596e",
   "metadata": {},
   "source": [
    "UTF-8 is a variable-length Unicode encoding, so when I requested some number of\n",
    "characters from the file, Python reads enough bytes (which could be as few as 10 or as\n",
    "many as 40 bytes) from the file to decode that many characters. If I open the file in\n",
    "'rb' mode instead, read requests exact numbers of bytes:\n"
   ]
  },
  {
   "cell_type": "code",
   "execution_count": 211,
   "id": "18b5da76",
   "metadata": {},
   "outputs": [],
   "source": [
    "# with open(path, 'rb') as f:\n",
    "#     data = f.read(10)\n",
    "# data"
   ]
  },
  {
   "cell_type": "markdown",
   "id": "58ea29fb",
   "metadata": {},
   "source": [
    "Depending on the text encoding, you may be able to decode the bytes to a str object\n",
    "yourself, but only if each of the encoded Unicode characters is fully formed:"
   ]
  },
  {
   "cell_type": "code",
   "execution_count": 212,
   "id": "f3e1ebb5",
   "metadata": {},
   "outputs": [],
   "source": [
    "# data.decode('utf8')"
   ]
  },
  {
   "cell_type": "code",
   "execution_count": 213,
   "id": "d246e482",
   "metadata": {},
   "outputs": [],
   "source": [
    "# : data[:4].decode('utf8')\n",
    "# ---------------------------------------------------------------------------\n",
    "# UnicodeDecodeError Traceback (most recent call last)\n",
    "# <ipython-input-235-300e0af10bb7> in <module>()\n",
    "# ----> 1 data[:4].decode('utf8')\n",
    "# UnicodeDecodeError: 'utf-8' codec can't decode byte 0xc3 in position 3: unexpecte\n",
    "# d end of data\n"
   ]
  },
  {
   "cell_type": "markdown",
   "id": "0e86d2fa",
   "metadata": {},
   "source": [
    "Text mode, combined with the encoding option of open, provides a convenient way\n",
    "to convert from one Unicode encoding to another:"
   ]
  },
  {
   "cell_type": "code",
   "execution_count": 215,
   "id": "62e1af01",
   "metadata": {},
   "outputs": [],
   "source": [
    "# \\sink_path = 'sink.txt'\n",
    "# with open(path) as source:\n",
    "#     with open(sink_path, 'xt', encoding='iso-8859-1') as sink:\n",
    "#         sink.write(source.read())\n",
    "# with open(sink_path, encoding='iso-8859-1') as f:\n",
    "#     print(f.read(10))\n"
   ]
  },
  {
   "cell_type": "markdown",
   "id": "f77957e0",
   "metadata": {},
   "source": [
    "Beware using seek when opening files in any mode other than binary. If the file position falls in the middle of the bytes defining a Unicode character, then subsequent\n",
    "reads will result in an error:"
   ]
  },
  {
   "cell_type": "code",
   "execution_count": 217,
   "id": "d4e009b2",
   "metadata": {},
   "outputs": [],
   "source": [
    "# f = open(path)\n",
    "# f.read(5)\n",
    "# Out[241]: 'Sueña'\n",
    "# In [242]: f.seek(4)\n",
    "# Out[242]: 4\n",
    "# In [243]: f.read(1)\n",
    "# ------------------------\n",
    "\n",
    "# UnicodeDecodeError Traceback (most recent call last)\n",
    "# <ipython-input-243-7841103e33f5> in <module>()\n",
    "# ----> 1 f.read(1)\n",
    "# /miniconda/envs/book-env/lib/python3.6/codecs.py in decode(self, input, final)\n",
    "#  319 # decode input (taking the buffer into account)\n",
    "#  320 data = self.buffer + input\n",
    "# --> 321 (result, consumed) = self._buffer_decode(data, self.errors, final\n",
    "# )\n",
    "#  322 # keep undecoded input until the next call\n",
    "#  323 self.buffer = data[consumed:]\n",
    "# UnicodeDecodeError: 'utf-8' codec can't decode byte 0xb1 in position 0: invalid s\n",
    "# tart byte\n"
   ]
  },
  {
   "cell_type": "code",
   "execution_count": null,
   "id": "8b9ad395",
   "metadata": {},
   "outputs": [],
   "source": []
  }
 ],
 "metadata": {
  "kernelspec": {
   "display_name": "Python 3 (ipykernel)",
   "language": "python",
   "name": "python3"
  },
  "language_info": {
   "codemirror_mode": {
    "name": "ipython",
    "version": 3
   },
   "file_extension": ".py",
   "mimetype": "text/x-python",
   "name": "python",
   "nbconvert_exporter": "python",
   "pygments_lexer": "ipython3",
   "version": "3.9.18"
  }
 },
 "nbformat": 4,
 "nbformat_minor": 5
}
