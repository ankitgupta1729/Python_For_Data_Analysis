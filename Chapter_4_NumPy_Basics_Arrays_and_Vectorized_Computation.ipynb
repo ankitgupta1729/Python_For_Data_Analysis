{
 "cells": [
  {
   "cell_type": "markdown",
   "id": "d61a6c58",
   "metadata": {},
   "source": [
    "NumPy, short for Numerical Python, is one of the most important foundational packages\n",
    "for numerical computing in Python. Most computational packages providing\n",
    "scientific functionality use NumPy’s array objects as the lingua franca for data\n",
    "exchange.      \n",
    "              \n",
    "Here are some of the things you’ll find in NumPy:"
   ]
  },
  {
   "cell_type": "markdown",
   "id": "bd3761f4",
   "metadata": {},
   "source": [
    "• ndarray, an efficient multidimensional array providing fast array-oriented arithmetic\n",
    "operations and flexible broadcasting capabilities.        \n",
    "• Mathematical functions for fast operations on entire arrays of data without having\n",
    "to write loops.       \n",
    "• Tools for reading/writing array data to disk and working with memory-mapped\n",
    "files.         \n",
    "• Linear algebra, random number generation, and Fourier transform capabilities.        \n",
    "• A C API for connecting NumPy with libraries written in C, C++, or FORTRAN."
   ]
  },
  {
   "cell_type": "markdown",
   "id": "9f7ef695",
   "metadata": {},
   "source": [
    "Because NumPy provides an easy-to-use C API, it is straightforward to pass data to\n",
    "external libraries written in a low-level language and also for external libraries to\n",
    "return data to Python as NumPy arrays. This feature has made Python a language of\n",
    "choice for wrapping legacy C/C++/Fortran codebases and giving them a dynamic and\n",
    "easy-to-use interface."
   ]
  },
  {
   "cell_type": "markdown",
   "id": "12987ee7",
   "metadata": {},
   "source": [
    "For most data analysis applications, the main areas of functionality I’ll focus on are:      \n",
    "         \n",
    "• Fast vectorized array operations for data munging and cleaning, subsetting and\n",
    "filtering, transformation, and any other kinds of computations      \n",
    "     \n",
    "• Common array algorithms like sorting, unique, and set operations     \n",
    "    \n",
    "• Efficient descriptive statistics and aggregating/summarizing data       \n",
    "• Data alignment and relational data manipulations for merging and joining\n",
    "together heterogeneous datasets      \n",
    "• Expressing conditional logic as array expressions instead of loops with if-elif-else\n",
    "branches               \n",
    "• Group-wise data manipulations (aggregation, transformation, function application)           "
   ]
  },
  {
   "cell_type": "markdown",
   "id": "c9e79f1a",
   "metadata": {},
   "source": [
    "While NumPy provides a computational foundation for general numerical data processing,\n",
    "many readers will want to use pandas as the basis for most kinds of statistics\n",
    "or analytics, especially on tabular data. pandas also provides some more domain specific\n",
    "functionality like time series manipulation, which is not present in NumPy."
   ]
  },
  {
   "cell_type": "markdown",
   "id": "398f7540",
   "metadata": {},
   "source": [
    "One of the reasons NumPy is so important for numerical computations in Python is\n",
    "because it is designed for efficiency on large arrays of data. There are a number of\n",
    "reasons for this:      \n",
    "          \n",
    "• NumPy internally stores data in a contiguous block of memory, independent of\n",
    "other built-in Python objects. NumPy’s library of algorithms written in the C language\n",
    "can operate on this memory without any type checking or other overhead.\n",
    "NumPy arrays also use much less memory than built-in Python sequences.       \n",
    "   \n",
    "• NumPy operations perform complex computations on entire arrays without the\n",
    "need for Python for loops.        \n",
    "       \n",
    "       \n",
    "To give you an idea of the performance difference, consider a NumPy array of one\n",
    "million integers, and the equivalent Python list:       "
   ]
  },
  {
   "cell_type": "code",
   "execution_count": 1,
   "id": "99577ac3",
   "metadata": {},
   "outputs": [],
   "source": [
    "import numpy as np"
   ]
  },
  {
   "cell_type": "code",
   "execution_count": 2,
   "id": "ede54e9f",
   "metadata": {},
   "outputs": [],
   "source": [
    "my_arr = np.arange(1000000)"
   ]
  },
  {
   "cell_type": "code",
   "execution_count": 3,
   "id": "f67bb786",
   "metadata": {},
   "outputs": [],
   "source": [
    "my_list = list(range(1000000))"
   ]
  },
  {
   "cell_type": "code",
   "execution_count": 4,
   "id": "e07aab9f",
   "metadata": {},
   "outputs": [
    {
     "data": {
      "text/plain": [
       "array([     0,      1,      2, ..., 999997, 999998, 999999])"
      ]
     },
     "execution_count": 4,
     "metadata": {},
     "output_type": "execute_result"
    }
   ],
   "source": [
    "my_arr"
   ]
  },
  {
   "cell_type": "markdown",
   "id": "2bdd6392",
   "metadata": {},
   "source": [
    "Now let’s multiply each sequence by 2:"
   ]
  },
  {
   "cell_type": "code",
   "execution_count": 6,
   "id": "4830c2b7",
   "metadata": {},
   "outputs": [
    {
     "name": "stdout",
     "output_type": "stream",
     "text": [
      "Wall time: 31.3 ms\n"
     ]
    }
   ],
   "source": [
    "%time for _ in range(10): my_arr2 = my_arr * 2"
   ]
  },
  {
   "cell_type": "code",
   "execution_count": 7,
   "id": "99a3adcb",
   "metadata": {},
   "outputs": [
    {
     "name": "stdout",
     "output_type": "stream",
     "text": [
      "Wall time: 736 ms\n"
     ]
    }
   ],
   "source": [
    "%time for _ in range(10): my_list2 = [x * 2 for x in my_list]"
   ]
  },
  {
   "cell_type": "markdown",
   "id": "f02a2582",
   "metadata": {},
   "source": [
    "NumPy-based algorithms are generally 10 to 100 times faster (or more) than their\n",
    "pure Python counterparts and use significantly less memory."
   ]
  },
  {
   "cell_type": "markdown",
   "id": "7f87dec1",
   "metadata": {},
   "source": [
    "## 4.1 The NumPy ndarray: A Multidimensional Array Object"
   ]
  },
  {
   "cell_type": "markdown",
   "id": "2dace64c",
   "metadata": {},
   "source": [
    "One of the key features of NumPy is its N-dimensional array object, or ndarray,\n",
    "which is a fast, flexible container for large datasets in Python. Arrays enable you to\n",
    "perform mathematical operations on whole blocks of data using similar syntax to the\n",
    "equivalent operations between scalar elements.       \n",
    "        \n",
    "To give you a flavor of how NumPy enables batch computations with similar syntax\n",
    "to scalar values on built-in Python objects, I first import NumPy and generate a small\n",
    "array of random data:"
   ]
  },
  {
   "cell_type": "code",
   "execution_count": 8,
   "id": "ac3c82f8",
   "metadata": {},
   "outputs": [],
   "source": [
    "import numpy as np"
   ]
  },
  {
   "cell_type": "code",
   "execution_count": 9,
   "id": "31f98b1c",
   "metadata": {},
   "outputs": [],
   "source": [
    "# Generate some random data\n",
    "data = np.random.randn(2, 3)"
   ]
  },
  {
   "cell_type": "code",
   "execution_count": 10,
   "id": "c497c94b",
   "metadata": {},
   "outputs": [
    {
     "data": {
      "text/plain": [
       "array([[ 0.26310286,  0.11471669, -1.76153525],\n",
       "       [ 0.51692286, -1.13179296,  0.73616062]])"
      ]
     },
     "execution_count": 10,
     "metadata": {},
     "output_type": "execute_result"
    }
   ],
   "source": [
    "data"
   ]
  },
  {
   "cell_type": "code",
   "execution_count": 11,
   "id": "5d9cd7dc",
   "metadata": {},
   "outputs": [
    {
     "data": {
      "text/plain": [
       "array([[  2.63102856,   1.14716693, -17.61535252],\n",
       "       [  5.16922855, -11.31792962,   7.36160615]])"
      ]
     },
     "execution_count": 11,
     "metadata": {},
     "output_type": "execute_result"
    }
   ],
   "source": [
    "data * 10"
   ]
  },
  {
   "cell_type": "code",
   "execution_count": 12,
   "id": "cc046ac1",
   "metadata": {},
   "outputs": [
    {
     "data": {
      "text/plain": [
       "array([[ 0.52620571,  0.22943339, -3.5230705 ],\n",
       "       [ 1.03384571, -2.26358592,  1.47232123]])"
      ]
     },
     "execution_count": 12,
     "metadata": {},
     "output_type": "execute_result"
    }
   ],
   "source": [
    "data + data"
   ]
  },
  {
   "cell_type": "markdown",
   "id": "4585f793",
   "metadata": {},
   "source": [
    "In this chapter and throughout the book, I use the standard\n",
    "NumPy convention of always using import numpy as np. You are,\n",
    "of course, welcome to put from numpy import * in your code to\n",
    "avoid having to write np., but I advise against making a habit of\n",
    "this. The numpy namespace is large and contains a number of functions\n",
    "whose names conflict with built-in Python functions (like min\n",
    "and max)."
   ]
  },
  {
   "cell_type": "markdown",
   "id": "934efccc",
   "metadata": {},
   "source": [
    "An ndarray is a generic multidimensional container for homogeneous data; that is, all\n",
    "of the elements must be the same type. Every array has a shape, a tuple indicating the\n",
    "size of each dimension, and a dtype, an object describing the data type of the array:"
   ]
  },
  {
   "cell_type": "code",
   "execution_count": 13,
   "id": "064d437b",
   "metadata": {},
   "outputs": [
    {
     "data": {
      "text/plain": [
       "(2, 3)"
      ]
     },
     "execution_count": 13,
     "metadata": {},
     "output_type": "execute_result"
    }
   ],
   "source": [
    "data.shape"
   ]
  },
  {
   "cell_type": "code",
   "execution_count": 14,
   "id": "cd21e4cd",
   "metadata": {},
   "outputs": [
    {
     "data": {
      "text/plain": [
       "dtype('float64')"
      ]
     },
     "execution_count": 14,
     "metadata": {},
     "output_type": "execute_result"
    }
   ],
   "source": [
    "data.dtype"
   ]
  },
  {
   "cell_type": "markdown",
   "id": "d1bc4eda",
   "metadata": {},
   "source": [
    "### Creating ndarrays"
   ]
  },
  {
   "cell_type": "markdown",
   "id": "d11f2cb0",
   "metadata": {},
   "source": [
    "The easiest way to create an array is to use the array function. This accepts any\n",
    "sequence-like object (including other arrays) and produces a new NumPy array containing\n",
    "the passed data. For example, a list is a good candidate for conversion:"
   ]
  },
  {
   "cell_type": "code",
   "execution_count": 15,
   "id": "af75af46",
   "metadata": {},
   "outputs": [],
   "source": [
    "data1 = [6, 7.5, 8, 0, 1]"
   ]
  },
  {
   "cell_type": "code",
   "execution_count": 16,
   "id": "0ecdb1f6",
   "metadata": {},
   "outputs": [],
   "source": [
    "arr1 = np.array(data1)"
   ]
  },
  {
   "cell_type": "code",
   "execution_count": 17,
   "id": "e6b95f3d",
   "metadata": {},
   "outputs": [
    {
     "data": {
      "text/plain": [
       "array([6. , 7.5, 8. , 0. , 1. ])"
      ]
     },
     "execution_count": 17,
     "metadata": {},
     "output_type": "execute_result"
    }
   ],
   "source": [
    "arr1"
   ]
  },
  {
   "cell_type": "markdown",
   "id": "34764f63",
   "metadata": {},
   "source": [
    "Nested sequences, like a list of equal-length lists, will be converted into a multidimensional\n",
    "array:"
   ]
  },
  {
   "cell_type": "code",
   "execution_count": 18,
   "id": "e7f145b1",
   "metadata": {},
   "outputs": [
    {
     "data": {
      "text/plain": [
       "array([[1, 2, 3, 4],\n",
       "       [5, 6, 7, 8]])"
      ]
     },
     "execution_count": 18,
     "metadata": {},
     "output_type": "execute_result"
    }
   ],
   "source": [
    "data2 = [[1, 2, 3, 4], [5, 6, 7, 8]]\n",
    "arr2 = np.array(data2)\n",
    "arr2"
   ]
  },
  {
   "cell_type": "code",
   "execution_count": 19,
   "id": "b62c1a2b",
   "metadata": {},
   "outputs": [
    {
     "data": {
      "text/plain": [
       "2"
      ]
     },
     "execution_count": 19,
     "metadata": {},
     "output_type": "execute_result"
    }
   ],
   "source": [
    "arr2.ndim"
   ]
  },
  {
   "cell_type": "code",
   "execution_count": 20,
   "id": "ac4f6ce0",
   "metadata": {},
   "outputs": [
    {
     "data": {
      "text/plain": [
       "(2, 4)"
      ]
     },
     "execution_count": 20,
     "metadata": {},
     "output_type": "execute_result"
    }
   ],
   "source": [
    "arr2.shape"
   ]
  },
  {
   "cell_type": "markdown",
   "id": "f167b20c",
   "metadata": {},
   "source": [
    "The data type is stored in a special dtype metadata\n",
    "object;"
   ]
  },
  {
   "cell_type": "code",
   "execution_count": 21,
   "id": "0faa633a",
   "metadata": {},
   "outputs": [
    {
     "data": {
      "text/plain": [
       "dtype('int32')"
      ]
     },
     "execution_count": 21,
     "metadata": {},
     "output_type": "execute_result"
    }
   ],
   "source": [
    "arr2.dtype"
   ]
  },
  {
   "cell_type": "markdown",
   "id": "c800bec6",
   "metadata": {},
   "source": [
    "In addition to np.array, there are a number of other functions for creating new\n",
    "arrays. As examples, zeros and ones create arrays of 0s or 1s, respectively, with a\n",
    "given length or shape. empty creates an array without initializing its values to any particular\n",
    "value. To create a higher dimensional array with these methods, pass a tuple\n",
    "for the shape:"
   ]
  },
  {
   "cell_type": "code",
   "execution_count": 22,
   "id": "983f7be8",
   "metadata": {},
   "outputs": [
    {
     "data": {
      "text/plain": [
       "array([0., 0., 0., 0., 0., 0., 0., 0., 0., 0.])"
      ]
     },
     "execution_count": 22,
     "metadata": {},
     "output_type": "execute_result"
    }
   ],
   "source": [
    "np.zeros(10)"
   ]
  },
  {
   "cell_type": "code",
   "execution_count": 23,
   "id": "d0cb0a2b",
   "metadata": {},
   "outputs": [
    {
     "data": {
      "text/plain": [
       "array([[0., 0., 0., 0., 0., 0.],\n",
       "       [0., 0., 0., 0., 0., 0.],\n",
       "       [0., 0., 0., 0., 0., 0.]])"
      ]
     },
     "execution_count": 23,
     "metadata": {},
     "output_type": "execute_result"
    }
   ],
   "source": [
    "np.zeros((3, 6))"
   ]
  },
  {
   "cell_type": "code",
   "execution_count": 24,
   "id": "24132ed6",
   "metadata": {},
   "outputs": [
    {
     "data": {
      "text/plain": [
       "array([[[1.12851866e-311, 3.16202013e-322],\n",
       "        [0.00000000e+000, 0.00000000e+000],\n",
       "        [0.00000000e+000, 1.12969110e-042]],\n",
       "\n",
       "       [[1.22198695e+161, 1.10596430e-046],\n",
       "        [2.17536833e-076, 9.15688378e-071],\n",
       "        [1.08628353e-071, 7.87220490e-067]]])"
      ]
     },
     "execution_count": 24,
     "metadata": {},
     "output_type": "execute_result"
    }
   ],
   "source": [
    "np.empty((2, 3, 2))"
   ]
  },
  {
   "cell_type": "markdown",
   "id": "329668df",
   "metadata": {},
   "source": [
    "It’s not safe to assume that np.empty will return an array of all\n",
    "zeros. In some cases, it may return uninitialized “garbage” values."
   ]
  },
  {
   "cell_type": "markdown",
   "id": "f875afd8",
   "metadata": {},
   "source": [
    "arange is an array-valued version of the built-in Python range function:"
   ]
  },
  {
   "cell_type": "code",
   "execution_count": 25,
   "id": "f07a8ffe",
   "metadata": {},
   "outputs": [
    {
     "data": {
      "text/plain": [
       "array([ 0,  1,  2,  3,  4,  5,  6,  7,  8,  9, 10, 11, 12, 13, 14])"
      ]
     },
     "execution_count": 25,
     "metadata": {},
     "output_type": "execute_result"
    }
   ],
   "source": [
    "np.arange(15)"
   ]
  },
  {
   "cell_type": "markdown",
   "id": "7fe0636a",
   "metadata": {},
   "source": [
    "See Table 4-1 for a short list of standard array creation functions. Since NumPy is\n",
    "focused on numerical computing, the data type, if not specified, will in many cases be\n",
    "float64 (floating point)."
   ]
  },
  {
   "cell_type": "markdown",
   "id": "fa3207e9",
   "metadata": {},
   "source": [
    "array ==> Convert input data (list, tuple, array, or other sequence type) to an ndarray either by inferring a dtype\n",
    "or explicitly specifying a dtype; copies the input data by default     \n",
    "     \n",
    "asarray ==> Convert input to ndarray, but do not copy if the input is already an ndarray     \n",
    "     \n",
    "arange ==> Like the built-in range but returns an ndarray instead of a list     \n",
    "     \n",
    "ones,ones_like ==> Produce an array of all 1s with the given shape and dtype; ones_like takes another array and\n",
    "produces a ones array of the same shape and dtype      \n",
    "    \n",
    "zeros, zeros_like ==> Like ones and ones_like but producing arrays of 0s instead      \n",
    "      \n",
    "empty,empty_like ==> Create new arrays by allocating new memory, but do not populate with any values like ones and\n",
    "zeros      \n",
    "        \n",
    "full, full_like ==> Produce an array of the given shape and dtype with all values set to the indicated “fill value”\n",
    "full_like takes another array and produces a filled array of the same shape and dtype\n",
    "eye,   \n",
    "   \n",
    "identity Create a square N × N identity matrix (1s on the diagonal and 0s elsewhere)"
   ]
  },
  {
   "cell_type": "markdown",
   "id": "c92aa2ad",
   "metadata": {},
   "source": [
    "### Data Types for ndarrays"
   ]
  },
  {
   "cell_type": "markdown",
   "id": "a3b4a2f1",
   "metadata": {},
   "source": [
    "The data type or dtype is a special object containing the information (or metadata,\n",
    "data about data) the ndarray needs to interpret a chunk of memory as a particular\n",
    "type of data:"
   ]
  },
  {
   "cell_type": "code",
   "execution_count": 26,
   "id": "d688e485",
   "metadata": {},
   "outputs": [
    {
     "data": {
      "text/plain": [
       "dtype('int32')"
      ]
     },
     "execution_count": 26,
     "metadata": {},
     "output_type": "execute_result"
    }
   ],
   "source": [
    "arr1 = np.array([1, 2, 3], dtype=np.float64)\n",
    "arr2 = np.array([1, 2, 3], dtype=np.int32)\n",
    "arr2.dtype"
   ]
  },
  {
   "cell_type": "markdown",
   "id": "9b857b44",
   "metadata": {},
   "source": [
    "A standard doubleprecision\n",
    "floating-point value (what’s used under the hood in Python’s float object)\n",
    "takes up 8 bytes or 64 bits. Thus, this type is known in NumPy as float64."
   ]
  },
  {
   "cell_type": "code",
   "execution_count": 27,
   "id": "d9d883ef",
   "metadata": {},
   "outputs": [],
   "source": [
    "# int8, uint8 ==> i1, u1 ==> Signed and unsigned 8-bit (1 byte) integer types\n",
    "# int16, uint16 ==> i2, u2 ==> Signed and unsigned 16-bit integer types\n",
    "# int32, uint32 ==> i4, u4 ==> Signed and unsigned 32-bit integer types\n",
    "# int64, uint64 ==> i8, u8 ==> Signed and unsigned 64-bit integer types\n",
    "# float16 ==> f2 ==> Half-precision floating point\n",
    "# float32 ==> f4 or f ==> Standard single-precision floating point; compatible with C float\n",
    "# float64 ==> f8 or d ==> Standard double-precision floating point; compatible with C double and\n",
    "# Python float object\n",
    "# float128 ==> f16 or g ==> Extended-precision floating point\n",
    "# bool ==> ? ==> Boolean type storing True and False values\n",
    "# complex64,complex128,complex25 ==> c8, c16,c32 ==> Complex numbers represented by two 32, 64, or 128 floats, respectively\n",
    "# object ==> O ==> Python object type; a value can be any Python object\n",
    "# string_ ==> S ==> Fixed-length ASCII string type (1 byte per character); for example, to create a\n",
    "# string dtype with length 10, use 'S10'\n",
    "# unicode_ ==> U ==> Fixed-length Unicode type (number of bytes platform specific); same\n",
    "# specification semantics as string_ (e.g., 'U10')"
   ]
  },
  {
   "cell_type": "markdown",
   "id": "6407a9fb",
   "metadata": {},
   "source": [
    "You can explicitly convert or cast an array from one dtype to another using ndarray’s\n",
    "astype method:"
   ]
  },
  {
   "cell_type": "code",
   "execution_count": 28,
   "id": "0b23b44f",
   "metadata": {},
   "outputs": [],
   "source": [
    "arr = np.array([1, 2, 3, 4, 5])"
   ]
  },
  {
   "cell_type": "code",
   "execution_count": 32,
   "id": "75f894dc",
   "metadata": {},
   "outputs": [
    {
     "data": {
      "text/plain": [
       "array([1, 2, 3, 4, 5])"
      ]
     },
     "execution_count": 32,
     "metadata": {},
     "output_type": "execute_result"
    }
   ],
   "source": [
    "arr"
   ]
  },
  {
   "cell_type": "code",
   "execution_count": 29,
   "id": "ddb32aec",
   "metadata": {},
   "outputs": [
    {
     "data": {
      "text/plain": [
       "dtype('int32')"
      ]
     },
     "execution_count": 29,
     "metadata": {},
     "output_type": "execute_result"
    }
   ],
   "source": [
    "arr.dtype"
   ]
  },
  {
   "cell_type": "code",
   "execution_count": 30,
   "id": "ec84ba36",
   "metadata": {},
   "outputs": [],
   "source": [
    "float_arr = arr.astype(np.float64)"
   ]
  },
  {
   "cell_type": "code",
   "execution_count": 31,
   "id": "56bc417f",
   "metadata": {},
   "outputs": [
    {
     "data": {
      "text/plain": [
       "array([1., 2., 3., 4., 5.])"
      ]
     },
     "execution_count": 31,
     "metadata": {},
     "output_type": "execute_result"
    }
   ],
   "source": [
    "float_arr"
   ]
  },
  {
   "cell_type": "markdown",
   "id": "27fd0de1",
   "metadata": {},
   "source": [
    "In this example, integers were cast to floating point. If I cast some floating-point\n",
    "numbers to be of integer dtype, the decimal part will be truncated:"
   ]
  },
  {
   "cell_type": "code",
   "execution_count": 33,
   "id": "5e2e4659",
   "metadata": {},
   "outputs": [],
   "source": [
    "arr = np.array([3.7, -1.2, -2.6, 0.5, 12.9, 10.1])"
   ]
  },
  {
   "cell_type": "code",
   "execution_count": 34,
   "id": "87bed4de",
   "metadata": {},
   "outputs": [
    {
     "data": {
      "text/plain": [
       "array([ 3, -1, -2,  0, 12, 10])"
      ]
     },
     "execution_count": 34,
     "metadata": {},
     "output_type": "execute_result"
    }
   ],
   "source": [
    "arr.astype(np.int32)"
   ]
  },
  {
   "cell_type": "markdown",
   "id": "95f358b9",
   "metadata": {},
   "source": [
    "If you have an array of strings representing numbers, you can use astype to convert\n",
    "them to numeric form:"
   ]
  },
  {
   "cell_type": "code",
   "execution_count": 35,
   "id": "0ff400d2",
   "metadata": {},
   "outputs": [],
   "source": [
    " numeric_strings = np.array(['1.25', '-9.6', '42'], dtype=np.string_)"
   ]
  },
  {
   "cell_type": "code",
   "execution_count": 36,
   "id": "adcfc350",
   "metadata": {},
   "outputs": [
    {
     "data": {
      "text/plain": [
       "array([ 1.25, -9.6 , 42.  ])"
      ]
     },
     "execution_count": 36,
     "metadata": {},
     "output_type": "execute_result"
    }
   ],
   "source": [
    "numeric_strings.astype(float)"
   ]
  },
  {
   "cell_type": "markdown",
   "id": "1744a699",
   "metadata": {},
   "source": [
    "It’s important to be cautious when using the numpy.string_ type,\n",
    "as string data in NumPy is fixed size and may truncate input\n",
    "without warning. pandas has more intuitive out-of-the-box behavior on non-numeric data"
   ]
  },
  {
   "cell_type": "markdown",
   "id": "e0fa65ca",
   "metadata": {},
   "source": [
    "If casting were to fail for some reason (like a string that cannot be converted to\n",
    "float64), a ValueError will be raised. Here I was a bit lazy and wrote float instead\n",
    "of np.float64; NumPy aliases the Python types to its own equivalent data dtypes.      \n",
    "      \n",
    "You can also use another array’s dtype attribute:\n"
   ]
  },
  {
   "cell_type": "code",
   "execution_count": 37,
   "id": "749b40ab",
   "metadata": {},
   "outputs": [],
   "source": [
    "int_array = np.arange(10)\n",
    "calibers = np.array([.22, .270, .357, .380, .44, .50], dtype=np.float64)"
   ]
  },
  {
   "cell_type": "code",
   "execution_count": 38,
   "id": "6a505bfa",
   "metadata": {},
   "outputs": [
    {
     "data": {
      "text/plain": [
       "array([0., 1., 2., 3., 4., 5., 6., 7., 8., 9.])"
      ]
     },
     "execution_count": 38,
     "metadata": {},
     "output_type": "execute_result"
    }
   ],
   "source": [
    " int_array.astype(calibers.dtype)"
   ]
  },
  {
   "cell_type": "markdown",
   "id": "d3773690",
   "metadata": {},
   "source": [
    "There are shorthand type code strings you can also use to refer to a dtype:"
   ]
  },
  {
   "cell_type": "code",
   "execution_count": 39,
   "id": "9dcde076",
   "metadata": {},
   "outputs": [
    {
     "data": {
      "text/plain": [
       "array([         0, 1075314688,          0, 1075707904,          0,\n",
       "       1075838976,          0, 1072693248], dtype=uint32)"
      ]
     },
     "execution_count": 39,
     "metadata": {},
     "output_type": "execute_result"
    }
   ],
   "source": [
    "empty_uint32 = np.empty(8, dtype='u4')\n",
    "empty_uint32"
   ]
  },
  {
   "cell_type": "markdown",
   "id": "26b705fe",
   "metadata": {},
   "source": [
    "Calling astype always creates a new array (a copy of the data), even\n",
    "if the new dtype is the same as the old dtype."
   ]
  },
  {
   "cell_type": "markdown",
   "id": "e096aff5",
   "metadata": {},
   "source": [
    "## Arithmetic with NumPy Arrays"
   ]
  },
  {
   "cell_type": "markdown",
   "id": "a2f0c880",
   "metadata": {},
   "source": [
    "Arrays are important because they enable you to express batch operations on data\n",
    "without writing any for loops. NumPy users call this vectorization. Any arithmetic\n",
    "operations between equal-size arrays applies the operation element-wise:"
   ]
  },
  {
   "cell_type": "code",
   "execution_count": 40,
   "id": "7a1fd661",
   "metadata": {},
   "outputs": [
    {
     "data": {
      "text/plain": [
       "array([[1., 2., 3.],\n",
       "       [4., 5., 6.]])"
      ]
     },
     "execution_count": 40,
     "metadata": {},
     "output_type": "execute_result"
    }
   ],
   "source": [
    "arr = np.array([[1., 2., 3.], [4., 5., 6.]])\n",
    "arr"
   ]
  },
  {
   "cell_type": "code",
   "execution_count": 41,
   "id": "dcdfd4d0",
   "metadata": {},
   "outputs": [
    {
     "data": {
      "text/plain": [
       "array([[ 1.,  4.,  9.],\n",
       "       [16., 25., 36.]])"
      ]
     },
     "execution_count": 41,
     "metadata": {},
     "output_type": "execute_result"
    }
   ],
   "source": [
    "arr * arr"
   ]
  },
  {
   "cell_type": "code",
   "execution_count": 42,
   "id": "3b54ba4f",
   "metadata": {},
   "outputs": [
    {
     "data": {
      "text/plain": [
       "array([[0., 0., 0.],\n",
       "       [0., 0., 0.]])"
      ]
     },
     "execution_count": 42,
     "metadata": {},
     "output_type": "execute_result"
    }
   ],
   "source": [
    "arr - arr"
   ]
  },
  {
   "cell_type": "markdown",
   "id": "b62209ec",
   "metadata": {},
   "source": [
    "Arithmetic operations with scalars propagate the scalar argument to each element in\n",
    "the array:"
   ]
  },
  {
   "cell_type": "code",
   "execution_count": 43,
   "id": "0b334c38",
   "metadata": {},
   "outputs": [
    {
     "data": {
      "text/plain": [
       "array([[1.        , 0.5       , 0.33333333],\n",
       "       [0.25      , 0.2       , 0.16666667]])"
      ]
     },
     "execution_count": 43,
     "metadata": {},
     "output_type": "execute_result"
    }
   ],
   "source": [
    " 1 / arr"
   ]
  },
  {
   "cell_type": "code",
   "execution_count": 44,
   "id": "4edcd227",
   "metadata": {},
   "outputs": [
    {
     "data": {
      "text/plain": [
       "array([[1.        , 1.41421356, 1.73205081],\n",
       "       [2.        , 2.23606798, 2.44948974]])"
      ]
     },
     "execution_count": 44,
     "metadata": {},
     "output_type": "execute_result"
    }
   ],
   "source": [
    "arr ** 0.5"
   ]
  },
  {
   "cell_type": "markdown",
   "id": "13d78c04",
   "metadata": {},
   "source": [
    "Comparisons between arrays of the same size yield boolean arrays:"
   ]
  },
  {
   "cell_type": "code",
   "execution_count": 45,
   "id": "cc9be7e8",
   "metadata": {},
   "outputs": [
    {
     "data": {
      "text/plain": [
       "array([[ 0.,  4.,  1.],\n",
       "       [ 7.,  2., 12.]])"
      ]
     },
     "execution_count": 45,
     "metadata": {},
     "output_type": "execute_result"
    }
   ],
   "source": [
    "arr2 = np.array([[0., 4., 1.], [7., 2., 12.]])\n",
    "arr2"
   ]
  },
  {
   "cell_type": "code",
   "execution_count": 46,
   "id": "5fcfd409",
   "metadata": {},
   "outputs": [
    {
     "data": {
      "text/plain": [
       "array([[False,  True, False],\n",
       "       [ True, False,  True]])"
      ]
     },
     "execution_count": 46,
     "metadata": {},
     "output_type": "execute_result"
    }
   ],
   "source": [
    "arr2 > arr"
   ]
  },
  {
   "cell_type": "markdown",
   "id": "c3586925",
   "metadata": {},
   "source": [
    "Operations between differently sized arrays is called broadcasting"
   ]
  },
  {
   "cell_type": "markdown",
   "id": "ced270a2",
   "metadata": {},
   "source": [
    "## Basic Indexing and Slicing"
   ]
  },
  {
   "cell_type": "markdown",
   "id": "602fb7a5",
   "metadata": {},
   "source": [
    "NumPy array indexing is a rich topic, as there are many ways you may want to select\n",
    "a subset of your data or individual elements. One-dimensional arrays are simple; on\n",
    "the surface they act similarly to Python lists:"
   ]
  },
  {
   "cell_type": "code",
   "execution_count": 47,
   "id": "4e4fabca",
   "metadata": {},
   "outputs": [
    {
     "data": {
      "text/plain": [
       "array([0, 1, 2, 3, 4, 5, 6, 7, 8, 9])"
      ]
     },
     "execution_count": 47,
     "metadata": {},
     "output_type": "execute_result"
    }
   ],
   "source": [
    "arr = np.arange(10)\n",
    "arr"
   ]
  },
  {
   "cell_type": "code",
   "execution_count": 48,
   "id": "e55c1803",
   "metadata": {},
   "outputs": [
    {
     "data": {
      "text/plain": [
       "5"
      ]
     },
     "execution_count": 48,
     "metadata": {},
     "output_type": "execute_result"
    }
   ],
   "source": [
    "arr[5]"
   ]
  },
  {
   "cell_type": "code",
   "execution_count": 49,
   "id": "53dadcaa",
   "metadata": {},
   "outputs": [
    {
     "data": {
      "text/plain": [
       "array([5, 6, 7])"
      ]
     },
     "execution_count": 49,
     "metadata": {},
     "output_type": "execute_result"
    }
   ],
   "source": [
    "arr[5:8]"
   ]
  },
  {
   "cell_type": "code",
   "execution_count": 50,
   "id": "954627b1",
   "metadata": {},
   "outputs": [],
   "source": [
    "arr[5:8] = 12"
   ]
  },
  {
   "cell_type": "code",
   "execution_count": 51,
   "id": "968150db",
   "metadata": {},
   "outputs": [
    {
     "data": {
      "text/plain": [
       "array([ 0,  1,  2,  3,  4, 12, 12, 12,  8,  9])"
      ]
     },
     "execution_count": 51,
     "metadata": {},
     "output_type": "execute_result"
    }
   ],
   "source": [
    "arr"
   ]
  },
  {
   "cell_type": "markdown",
   "id": "1bd3ee66",
   "metadata": {},
   "source": [
    "As you can see, if you assign a scalar value to a slice, as in arr[5:8] = 12, the value is\n",
    "propagated (or broadcasted henceforth) to the entire selection. An important first distinction from Python’s built-in lists is that array slices are views on the original array.\n",
    "This means that the data is not copied, and any modifications to the view will be\n",
    "reflected in the source array"
   ]
  },
  {
   "cell_type": "code",
   "execution_count": 52,
   "id": "21164ac5",
   "metadata": {},
   "outputs": [
    {
     "data": {
      "text/plain": [
       "array([12, 12, 12])"
      ]
     },
     "execution_count": 52,
     "metadata": {},
     "output_type": "execute_result"
    }
   ],
   "source": [
    "arr_slice = arr[5:8]\n",
    "arr_slice"
   ]
  },
  {
   "cell_type": "markdown",
   "id": "7eea7ade",
   "metadata": {},
   "source": [
    "Now, when I change values in arr_slice, the mutations are reflected in the original\n",
    "array arr:"
   ]
  },
  {
   "cell_type": "code",
   "execution_count": 53,
   "id": "e9f2bcc3",
   "metadata": {},
   "outputs": [],
   "source": [
    "arr_slice[1] = 12345"
   ]
  },
  {
   "cell_type": "code",
   "execution_count": 54,
   "id": "95dce160",
   "metadata": {},
   "outputs": [
    {
     "data": {
      "text/plain": [
       "array([    0,     1,     2,     3,     4,    12, 12345,    12,     8,\n",
       "           9])"
      ]
     },
     "execution_count": 54,
     "metadata": {},
     "output_type": "execute_result"
    }
   ],
   "source": [
    "arr"
   ]
  },
  {
   "cell_type": "markdown",
   "id": "54d09e51",
   "metadata": {},
   "source": [
    "The “bare” slice [:] will assign to all values in an array:\n"
   ]
  },
  {
   "cell_type": "code",
   "execution_count": 56,
   "id": "bf066d43",
   "metadata": {},
   "outputs": [
    {
     "data": {
      "text/plain": [
       "array([ 0,  1,  2,  3,  4, 64, 64, 64,  8,  9])"
      ]
     },
     "execution_count": 56,
     "metadata": {},
     "output_type": "execute_result"
    }
   ],
   "source": [
    "arr_slice[:] = 64\n",
    "arr"
   ]
  },
  {
   "cell_type": "markdown",
   "id": "6e884623",
   "metadata": {},
   "source": [
    "If you want a copy of a slice of an ndarray instead of a view, you\n",
    "will need to explicitly copy the array—for example,\n",
    "arr[5:8].copy()."
   ]
  },
  {
   "cell_type": "code",
   "execution_count": 57,
   "id": "0a6a1bdb",
   "metadata": {},
   "outputs": [
    {
     "data": {
      "text/plain": [
       "array([7, 8, 9])"
      ]
     },
     "execution_count": 57,
     "metadata": {},
     "output_type": "execute_result"
    }
   ],
   "source": [
    "arr2d = np.array([[1, 2, 3], [4, 5, 6], [7, 8, 9]])\n",
    "arr2d[2]"
   ]
  },
  {
   "cell_type": "code",
   "execution_count": 58,
   "id": "88c4c7a9",
   "metadata": {},
   "outputs": [
    {
     "data": {
      "text/plain": [
       "3"
      ]
     },
     "execution_count": 58,
     "metadata": {},
     "output_type": "execute_result"
    }
   ],
   "source": [
    "arr2d[0][2]"
   ]
  },
  {
   "cell_type": "code",
   "execution_count": 59,
   "id": "bfd6e0ad",
   "metadata": {},
   "outputs": [
    {
     "data": {
      "text/plain": [
       "3"
      ]
     },
     "execution_count": 59,
     "metadata": {},
     "output_type": "execute_result"
    }
   ],
   "source": [
    "arr2d[0,2]\n"
   ]
  },
  {
   "cell_type": "code",
   "execution_count": 60,
   "id": "b10c6308",
   "metadata": {},
   "outputs": [
    {
     "data": {
      "text/plain": [
       "array([[[ 1,  2,  3],\n",
       "        [ 4,  5,  6]],\n",
       "\n",
       "       [[ 7,  8,  9],\n",
       "        [10, 11, 12]]])"
      ]
     },
     "execution_count": 60,
     "metadata": {},
     "output_type": "execute_result"
    }
   ],
   "source": [
    "arr3d = np.array([[[1, 2, 3], [4, 5, 6]], [[7, 8, 9], [10, 11, 12]]])\n",
    "arr3d"
   ]
  },
  {
   "cell_type": "code",
   "execution_count": 61,
   "id": "5c47638c",
   "metadata": {},
   "outputs": [
    {
     "data": {
      "text/plain": [
       "array([[1, 2, 3],\n",
       "       [4, 5, 6]])"
      ]
     },
     "execution_count": 61,
     "metadata": {},
     "output_type": "execute_result"
    }
   ],
   "source": [
    "arr3d[0]\n"
   ]
  },
  {
   "cell_type": "code",
   "execution_count": 62,
   "id": "5d9bde89",
   "metadata": {},
   "outputs": [
    {
     "data": {
      "text/plain": [
       "array([[[42, 42, 42],\n",
       "        [42, 42, 42]],\n",
       "\n",
       "       [[ 7,  8,  9],\n",
       "        [10, 11, 12]]])"
      ]
     },
     "execution_count": 62,
     "metadata": {},
     "output_type": "execute_result"
    }
   ],
   "source": [
    "old_values = arr3d[0].copy()\n",
    "arr3d[0] = 42\n",
    "arr3d"
   ]
  },
  {
   "cell_type": "code",
   "execution_count": 63,
   "id": "f02e50fd",
   "metadata": {},
   "outputs": [
    {
     "data": {
      "text/plain": [
       "array([[[ 1,  2,  3],\n",
       "        [ 4,  5,  6]],\n",
       "\n",
       "       [[ 7,  8,  9],\n",
       "        [10, 11, 12]]])"
      ]
     },
     "execution_count": 63,
     "metadata": {},
     "output_type": "execute_result"
    }
   ],
   "source": [
    "arr3d[0] = old_values\n",
    "arr3d"
   ]
  },
  {
   "cell_type": "markdown",
   "id": "9df9aeb1",
   "metadata": {},
   "source": [
    "Note that in all of these cases where subsections of the array have been selected, the\n",
    "returned arrays are views."
   ]
  },
  {
   "cell_type": "code",
   "execution_count": 64,
   "id": "17d50242",
   "metadata": {},
   "outputs": [
    {
     "data": {
      "text/plain": [
       "array([[1, 2, 3],\n",
       "       [4, 5, 6]])"
      ]
     },
     "execution_count": 64,
     "metadata": {},
     "output_type": "execute_result"
    }
   ],
   "source": [
    "arr2d[:2]"
   ]
  },
  {
   "cell_type": "code",
   "execution_count": 65,
   "id": "65d7f0c8",
   "metadata": {},
   "outputs": [
    {
     "data": {
      "text/plain": [
       "array([[2, 3],\n",
       "       [5, 6]])"
      ]
     },
     "execution_count": 65,
     "metadata": {},
     "output_type": "execute_result"
    }
   ],
   "source": [
    "arr2d[:2, 1:]\n"
   ]
  },
  {
   "cell_type": "code",
   "execution_count": 66,
   "id": "09e9ab9d",
   "metadata": {},
   "outputs": [
    {
     "data": {
      "text/plain": [
       "array([[1, 0, 0],\n",
       "       [4, 0, 0],\n",
       "       [7, 8, 9]])"
      ]
     },
     "execution_count": 66,
     "metadata": {},
     "output_type": "execute_result"
    }
   ],
   "source": [
    "arr2d[:2, 1:] = 0\n",
    "arr2d"
   ]
  },
  {
   "cell_type": "markdown",
   "id": "044e0ffc",
   "metadata": {},
   "source": [
    "## Boolean Indexing"
   ]
  },
  {
   "cell_type": "markdown",
   "id": "409c418e",
   "metadata": {},
   "source": [
    "Let’s consider an example where we have some data in an array and an array of names\n",
    "with duplicates. I’m going to use here the randn function in numpy.random to generate\n",
    "some random normally distributed data:"
   ]
  },
  {
   "cell_type": "code",
   "execution_count": 68,
   "id": "c3c77597",
   "metadata": {},
   "outputs": [
    {
     "data": {
      "text/plain": [
       "array(['Bob', 'Joe', 'Will', 'Bob', 'Will', 'Joe', 'Joe'], dtype='<U4')"
      ]
     },
     "execution_count": 68,
     "metadata": {},
     "output_type": "execute_result"
    }
   ],
   "source": [
    "names = np.array(['Bob', 'Joe', 'Will', 'Bob', 'Will', 'Joe', 'Joe'])\n",
    "data = np.random.randn(7, 4)\n",
    "names"
   ]
  },
  {
   "cell_type": "code",
   "execution_count": 69,
   "id": "0938897a",
   "metadata": {},
   "outputs": [
    {
     "data": {
      "text/plain": [
       "array([[-0.03429302, -0.25768757,  0.7152421 , -0.99811289],\n",
       "       [ 1.53933954, -1.68849138, -1.54846274, -0.76063237],\n",
       "       [-0.43242335,  0.71709167,  1.06644154,  1.81579865],\n",
       "       [-1.52844523, -1.59648161,  2.07271293,  0.27646538],\n",
       "       [ 0.32920756, -1.05778058, -0.23706229, -1.89677823],\n",
       "       [-0.61022077, -0.71065247,  0.42052345,  0.87824531],\n",
       "       [-0.98154639,  0.59471574,  0.28198425, -0.16838457]])"
      ]
     },
     "execution_count": 69,
     "metadata": {},
     "output_type": "execute_result"
    }
   ],
   "source": [
    "data"
   ]
  },
  {
   "cell_type": "markdown",
   "id": "55f14f0e",
   "metadata": {},
   "source": [
    "Like arithmetic operations, comparisons (such as ==) with arrays are also vectorized. Thus, comparing names with the\n",
    "string 'Bob' yields a boolean array:"
   ]
  },
  {
   "cell_type": "code",
   "execution_count": 70,
   "id": "d8bcd8ee",
   "metadata": {},
   "outputs": [
    {
     "data": {
      "text/plain": [
       "array([ True, False, False,  True, False, False, False])"
      ]
     },
     "execution_count": 70,
     "metadata": {},
     "output_type": "execute_result"
    }
   ],
   "source": [
    "names == 'Bob'"
   ]
  },
  {
   "cell_type": "code",
   "execution_count": 71,
   "id": "07670f24",
   "metadata": {},
   "outputs": [
    {
     "data": {
      "text/plain": [
       "array([[-0.03429302, -0.25768757,  0.7152421 , -0.99811289],\n",
       "       [-1.52844523, -1.59648161,  2.07271293,  0.27646538]])"
      ]
     },
     "execution_count": 71,
     "metadata": {},
     "output_type": "execute_result"
    }
   ],
   "source": [
    "data[names == 'Bob']"
   ]
  },
  {
   "cell_type": "code",
   "execution_count": 75,
   "id": "bcf5f399",
   "metadata": {},
   "outputs": [
    {
     "data": {
      "text/plain": [
       "array([[-0.03429302, -0.25768757,  0.7152421 , -0.99811289],\n",
       "       [-1.52844523, -1.59648161,  2.07271293,  0.27646538]])"
      ]
     },
     "execution_count": 75,
     "metadata": {},
     "output_type": "execute_result"
    }
   ],
   "source": [
    "data[[ True, False, False,  True, False, False, False]]"
   ]
  },
  {
   "cell_type": "code",
   "execution_count": 76,
   "id": "2a87a4d8",
   "metadata": {},
   "outputs": [
    {
     "data": {
      "text/plain": [
       "array([[ 0.7152421 , -0.99811289],\n",
       "       [ 2.07271293,  0.27646538]])"
      ]
     },
     "execution_count": 76,
     "metadata": {},
     "output_type": "execute_result"
    }
   ],
   "source": [
    "data[names == 'Bob', 2:]"
   ]
  },
  {
   "cell_type": "markdown",
   "id": "1ce0d65c",
   "metadata": {},
   "source": [
    "To select everything but 'Bob', you can either use != or negate the condition using ~:"
   ]
  },
  {
   "cell_type": "code",
   "execution_count": 77,
   "id": "36af660d",
   "metadata": {},
   "outputs": [
    {
     "data": {
      "text/plain": [
       "array([False,  True,  True, False,  True,  True,  True])"
      ]
     },
     "execution_count": 77,
     "metadata": {},
     "output_type": "execute_result"
    }
   ],
   "source": [
    "names != 'Bob'"
   ]
  },
  {
   "cell_type": "code",
   "execution_count": 78,
   "id": "b48aa906",
   "metadata": {},
   "outputs": [
    {
     "data": {
      "text/plain": [
       "array([[ 1.53933954, -1.68849138, -1.54846274, -0.76063237],\n",
       "       [-0.43242335,  0.71709167,  1.06644154,  1.81579865],\n",
       "       [ 0.32920756, -1.05778058, -0.23706229, -1.89677823],\n",
       "       [-0.61022077, -0.71065247,  0.42052345,  0.87824531],\n",
       "       [-0.98154639,  0.59471574,  0.28198425, -0.16838457]])"
      ]
     },
     "execution_count": 78,
     "metadata": {},
     "output_type": "execute_result"
    }
   ],
   "source": [
    "data[~(names == 'Bob')]"
   ]
  },
  {
   "cell_type": "markdown",
   "id": "e2d64e30",
   "metadata": {},
   "source": [
    "The ~ operator can be useful when you want to invert a general condition:"
   ]
  },
  {
   "cell_type": "code",
   "execution_count": 79,
   "id": "b753a940",
   "metadata": {},
   "outputs": [],
   "source": [
    "cond = names == 'Bob'"
   ]
  },
  {
   "cell_type": "code",
   "execution_count": 80,
   "id": "ca981607",
   "metadata": {},
   "outputs": [
    {
     "data": {
      "text/plain": [
       "array([[ 1.53933954, -1.68849138, -1.54846274, -0.76063237],\n",
       "       [-0.43242335,  0.71709167,  1.06644154,  1.81579865],\n",
       "       [ 0.32920756, -1.05778058, -0.23706229, -1.89677823],\n",
       "       [-0.61022077, -0.71065247,  0.42052345,  0.87824531],\n",
       "       [-0.98154639,  0.59471574,  0.28198425, -0.16838457]])"
      ]
     },
     "execution_count": 80,
     "metadata": {},
     "output_type": "execute_result"
    }
   ],
   "source": [
    "data[~cond]\n"
   ]
  },
  {
   "cell_type": "markdown",
   "id": "f5eb0be8",
   "metadata": {},
   "source": [
    "Selecting two of the three names to combine multiple boolean conditions, use\n",
    "boolean arithmetic operators like & (and) and | (or):"
   ]
  },
  {
   "cell_type": "code",
   "execution_count": 81,
   "id": "84d803e8",
   "metadata": {},
   "outputs": [],
   "source": [
    "mask = (names == 'Bob') | (names == 'Will')"
   ]
  },
  {
   "cell_type": "code",
   "execution_count": 82,
   "id": "97cca4e8",
   "metadata": {},
   "outputs": [
    {
     "data": {
      "text/plain": [
       "array([ True, False,  True,  True,  True, False, False])"
      ]
     },
     "execution_count": 82,
     "metadata": {},
     "output_type": "execute_result"
    }
   ],
   "source": [
    "mask"
   ]
  },
  {
   "cell_type": "code",
   "execution_count": 83,
   "id": "dc732b34",
   "metadata": {},
   "outputs": [
    {
     "data": {
      "text/plain": [
       "array([[-0.03429302, -0.25768757,  0.7152421 , -0.99811289],\n",
       "       [-0.43242335,  0.71709167,  1.06644154,  1.81579865],\n",
       "       [-1.52844523, -1.59648161,  2.07271293,  0.27646538],\n",
       "       [ 0.32920756, -1.05778058, -0.23706229, -1.89677823]])"
      ]
     },
     "execution_count": 83,
     "metadata": {},
     "output_type": "execute_result"
    }
   ],
   "source": [
    "data[mask]"
   ]
  },
  {
   "cell_type": "markdown",
   "id": "e2527de3",
   "metadata": {},
   "source": [
    "Selecting data from an array by boolean indexing always creates a copy of the data,\n",
    "even if the returned array is unchanged."
   ]
  },
  {
   "cell_type": "markdown",
   "id": "893ecd56",
   "metadata": {},
   "source": [
    "The Python keywords and and or do not work with boolean arrays.\n",
    "Use & (and) and | (or) instead."
   ]
  },
  {
   "cell_type": "markdown",
   "id": "8aa2f2bd",
   "metadata": {},
   "source": [
    "Setting values with boolean arrays works in a common-sense way. To set all of the\n",
    "negative values in data to 0 we need only do:"
   ]
  },
  {
   "cell_type": "code",
   "execution_count": 84,
   "id": "4053b9cf",
   "metadata": {},
   "outputs": [
    {
     "data": {
      "text/plain": [
       "array([[0.        , 0.        , 0.7152421 , 0.        ],\n",
       "       [1.53933954, 0.        , 0.        , 0.        ],\n",
       "       [0.        , 0.71709167, 1.06644154, 1.81579865],\n",
       "       [0.        , 0.        , 2.07271293, 0.27646538],\n",
       "       [0.32920756, 0.        , 0.        , 0.        ],\n",
       "       [0.        , 0.        , 0.42052345, 0.87824531],\n",
       "       [0.        , 0.59471574, 0.28198425, 0.        ]])"
      ]
     },
     "execution_count": 84,
     "metadata": {},
     "output_type": "execute_result"
    }
   ],
   "source": [
    "data[data < 0] = 0\n",
    "data"
   ]
  },
  {
   "cell_type": "code",
   "execution_count": 85,
   "id": "608269c1",
   "metadata": {},
   "outputs": [
    {
     "data": {
      "text/plain": [
       "array([[7.        , 7.        , 7.        , 7.        ],\n",
       "       [1.53933954, 0.        , 0.        , 0.        ],\n",
       "       [7.        , 7.        , 7.        , 7.        ],\n",
       "       [7.        , 7.        , 7.        , 7.        ],\n",
       "       [7.        , 7.        , 7.        , 7.        ],\n",
       "       [0.        , 0.        , 0.42052345, 0.87824531],\n",
       "       [0.        , 0.59471574, 0.28198425, 0.        ]])"
      ]
     },
     "execution_count": 85,
     "metadata": {},
     "output_type": "execute_result"
    }
   ],
   "source": [
    "data[names != 'Joe'] = 7\n",
    "data"
   ]
  },
  {
   "cell_type": "markdown",
   "id": "7eafb339",
   "metadata": {},
   "source": [
    "As we will see later, these types of operations on two-dimensional data are convenient\n",
    "to do with pandas."
   ]
  },
  {
   "cell_type": "markdown",
   "id": "9902f2ed",
   "metadata": {},
   "source": [
    "## Fancy Indexing"
   ]
  },
  {
   "cell_type": "markdown",
   "id": "7882fbf0",
   "metadata": {},
   "source": [
    "Fancy indexing is a term adopted by NumPy to describe indexing using integer arrays.\n",
    "Suppose we had an 8 × 4 array:"
   ]
  },
  {
   "cell_type": "code",
   "execution_count": 86,
   "id": "05a1c97e",
   "metadata": {},
   "outputs": [
    {
     "data": {
      "text/plain": [
       "array([[1.12851766e-311, 1.06718180e-321, 0.00000000e+000,\n",
       "        0.00000000e+000],\n",
       "       [0.00000000e+000, 4.82337433e+228, 3.67152456e-062,\n",
       "        5.28555805e+180],\n",
       "       [4.42132230e-062, 6.98205646e-076, 4.66578103e-086,\n",
       "        3.35959943e-143],\n",
       "       [9.30537467e+199, 2.93923548e+179, 5.41689278e-067,\n",
       "        2.23137967e+180],\n",
       "       [1.91931835e-076, 5.17477557e-143, 1.06396443e+224,\n",
       "        1.70100503e+256],\n",
       "       [5.49109388e-143, 3.59751658e+252, 3.42032083e+169,\n",
       "        3.51147619e+151],\n",
       "       [1.04918960e-153, 5.23081515e-143, 9.90299846e+164,\n",
       "        2.82883140e-056],\n",
       "       [3.14191156e-032, 1.24636052e-047, 3.53552686e-057,\n",
       "        5.81188706e+294]])"
      ]
     },
     "execution_count": 86,
     "metadata": {},
     "output_type": "execute_result"
    }
   ],
   "source": [
    "arr = np.empty((8, 4))\n",
    "arr"
   ]
  },
  {
   "cell_type": "code",
   "execution_count": 87,
   "id": "9ebb19af",
   "metadata": {},
   "outputs": [],
   "source": [
    "for i in range(8):\n",
    "    arr[i] = i"
   ]
  },
  {
   "cell_type": "code",
   "execution_count": null,
   "id": "997e0e50",
   "metadata": {},
   "outputs": [],
   "source": [
    "arr"
   ]
  },
  {
   "cell_type": "markdown",
   "id": "5bbf1f91",
   "metadata": {},
   "source": [
    "To select out a subset of the rows in a particular order, you can simply pass a list or\n",
    "ndarray of integers specifying the desired order:"
   ]
  },
  {
   "cell_type": "code",
   "execution_count": 89,
   "id": "a500bf31",
   "metadata": {},
   "outputs": [
    {
     "data": {
      "text/plain": [
       "array([[4., 4., 4., 4.],\n",
       "       [3., 3., 3., 3.],\n",
       "       [0., 0., 0., 0.],\n",
       "       [6., 6., 6., 6.]])"
      ]
     },
     "execution_count": 89,
     "metadata": {},
     "output_type": "execute_result"
    }
   ],
   "source": [
    "arr[[4, 3, 0, 6]]"
   ]
  },
  {
   "cell_type": "code",
   "execution_count": 90,
   "id": "5c9ad03d",
   "metadata": {},
   "outputs": [
    {
     "data": {
      "text/plain": [
       "array([[0., 0., 0., 0.],\n",
       "       [1., 1., 1., 1.],\n",
       "       [2., 2., 2., 2.],\n",
       "       [3., 3., 3., 3.],\n",
       "       [4., 4., 4., 4.],\n",
       "       [5., 5., 5., 5.],\n",
       "       [6., 6., 6., 6.],\n",
       "       [7., 7., 7., 7.]])"
      ]
     },
     "execution_count": 90,
     "metadata": {},
     "output_type": "execute_result"
    }
   ],
   "source": [
    "arr"
   ]
  },
  {
   "cell_type": "markdown",
   "id": "bd8e5581",
   "metadata": {},
   "source": [
    "Hopefully this code did what you expected! Using negative indices selects rows from\n",
    "the end:"
   ]
  },
  {
   "cell_type": "code",
   "execution_count": 91,
   "id": "2c9521d6",
   "metadata": {},
   "outputs": [
    {
     "data": {
      "text/plain": [
       "array([[5., 5., 5., 5.],\n",
       "       [3., 3., 3., 3.],\n",
       "       [1., 1., 1., 1.]])"
      ]
     },
     "execution_count": 91,
     "metadata": {},
     "output_type": "execute_result"
    }
   ],
   "source": [
    "arr[[-3, -5, -7]]"
   ]
  },
  {
   "cell_type": "markdown",
   "id": "16f9a3a2",
   "metadata": {},
   "source": [
    "Passing multiple index arrays does something slightly different; it selects a onedimensional array of elements corresponding to each tuple of indices:"
   ]
  },
  {
   "cell_type": "code",
   "execution_count": 92,
   "id": "64b43f95",
   "metadata": {},
   "outputs": [],
   "source": [
    "arr = np.arange(32).reshape((8, 4))"
   ]
  },
  {
   "cell_type": "code",
   "execution_count": 93,
   "id": "fd3bbc8c",
   "metadata": {},
   "outputs": [
    {
     "data": {
      "text/plain": [
       "array([ 4, 23, 29, 10])"
      ]
     },
     "execution_count": 93,
     "metadata": {},
     "output_type": "execute_result"
    }
   ],
   "source": [
    "arr[[1, 5, 7, 2], [0, 3, 1, 2]]"
   ]
  },
  {
   "cell_type": "markdown",
   "id": "fe954c0a",
   "metadata": {},
   "source": [
    "Here the elements (1, 0), (5, 3), (7, 1), and (2, 2) were selected. Regardless of\n",
    "how many dimensions the array has (here, only 2), the result of fancy indexing is\n",
    "always one-dimensional.        \n",
    "       \n",
    "The behavior of fancy indexing in this case is a bit different from what some users\n",
    "might have expected (myself included), which is the rectangular region formed by\n",
    "selecting a subset of the matrix’s rows and columns. Here is one way to get that:\n"
   ]
  },
  {
   "cell_type": "code",
   "execution_count": 95,
   "id": "bde4f2ae",
   "metadata": {},
   "outputs": [
    {
     "data": {
      "text/plain": [
       "array([[ 4,  7,  5,  6],\n",
       "       [20, 23, 21, 22],\n",
       "       [28, 31, 29, 30],\n",
       "       [ 8, 11,  9, 10]])"
      ]
     },
     "execution_count": 95,
     "metadata": {},
     "output_type": "execute_result"
    }
   ],
   "source": [
    "arr[[1, 5, 7, 2]][:, [0, 3, 1, 2]]"
   ]
  },
  {
   "cell_type": "markdown",
   "id": "5193b13f",
   "metadata": {},
   "source": [
    "Keep in mind that fancy indexing, unlike slicing, always copies the data into a new\n",
    "array."
   ]
  },
  {
   "cell_type": "markdown",
   "id": "77b76010",
   "metadata": {},
   "source": [
    "## Transposing Arrays and Swapping Axes\n"
   ]
  },
  {
   "cell_type": "markdown",
   "id": "e1bf8c68",
   "metadata": {},
   "source": [
    "Transposing is a special form of reshaping that similarly returns a view on the underlying data without copying anything. Arrays have the transpose method and also the\n",
    "special T attribute:"
   ]
  },
  {
   "cell_type": "code",
   "execution_count": 97,
   "id": "21106749",
   "metadata": {},
   "outputs": [],
   "source": [
    "arr = np.arange(15).reshape((3, 5))"
   ]
  },
  {
   "cell_type": "code",
   "execution_count": 98,
   "id": "369a7719",
   "metadata": {},
   "outputs": [
    {
     "data": {
      "text/plain": [
       "array([[ 0,  1,  2,  3,  4],\n",
       "       [ 5,  6,  7,  8,  9],\n",
       "       [10, 11, 12, 13, 14]])"
      ]
     },
     "execution_count": 98,
     "metadata": {},
     "output_type": "execute_result"
    }
   ],
   "source": [
    "arr"
   ]
  },
  {
   "cell_type": "code",
   "execution_count": 99,
   "id": "9a2dede0",
   "metadata": {},
   "outputs": [
    {
     "data": {
      "text/plain": [
       "array([[ 0,  5, 10],\n",
       "       [ 1,  6, 11],\n",
       "       [ 2,  7, 12],\n",
       "       [ 3,  8, 13],\n",
       "       [ 4,  9, 14]])"
      ]
     },
     "execution_count": 99,
     "metadata": {},
     "output_type": "execute_result"
    }
   ],
   "source": [
    "arr.T"
   ]
  },
  {
   "cell_type": "markdown",
   "id": "d72f22f1",
   "metadata": {},
   "source": [
    "When doing matrix computations, you may do this very often—for example, when\n",
    "computing the inner matrix product using np.dot:"
   ]
  },
  {
   "cell_type": "code",
   "execution_count": 100,
   "id": "8ad30d14",
   "metadata": {},
   "outputs": [
    {
     "data": {
      "text/plain": [
       "array([[ 0.69249001, -2.53725481,  0.28732119],\n",
       "       [ 1.3688064 ,  0.93787041, -0.82663273],\n",
       "       [-1.31631872, -0.26597746, -0.69665493],\n",
       "       [-0.62316804,  2.03327968,  0.26402305],\n",
       "       [ 2.24404197,  0.00648305,  0.19510998],\n",
       "       [-1.52986018,  1.07507787,  0.41872715]])"
      ]
     },
     "execution_count": 100,
     "metadata": {},
     "output_type": "execute_result"
    }
   ],
   "source": [
    "arr = np.random.randn(6, 3)\n",
    "arr"
   ]
  },
  {
   "cell_type": "code",
   "execution_count": 101,
   "id": "ebdca3bf",
   "metadata": {},
   "outputs": [
    {
     "data": {
      "text/plain": [
       "array([[11.85040328, -3.02039499, -0.38280292],\n",
       "       [-3.02039499, 12.67806758, -0.33072503],\n",
       "       [-0.38280292, -0.33072503,  1.53431174]])"
      ]
     },
     "execution_count": 101,
     "metadata": {},
     "output_type": "execute_result"
    }
   ],
   "source": [
    "np.dot(arr.T, arr)"
   ]
  },
  {
   "cell_type": "markdown",
   "id": "79da65a6",
   "metadata": {},
   "source": [
    "For higher dimensional arrays, transpose will accept a tuple of axis numbers to permute the axes (for extra mind bending):"
   ]
  },
  {
   "cell_type": "code",
   "execution_count": 102,
   "id": "14822ffe",
   "metadata": {},
   "outputs": [
    {
     "data": {
      "text/plain": [
       "array([[[ 0,  1,  2,  3],\n",
       "        [ 4,  5,  6,  7]],\n",
       "\n",
       "       [[ 8,  9, 10, 11],\n",
       "        [12, 13, 14, 15]]])"
      ]
     },
     "execution_count": 102,
     "metadata": {},
     "output_type": "execute_result"
    }
   ],
   "source": [
    "arr = np.arange(16).reshape((2, 2, 4))\n",
    "arr    "
   ]
  },
  {
   "cell_type": "code",
   "execution_count": 103,
   "id": "d6108fbb",
   "metadata": {},
   "outputs": [
    {
     "data": {
      "text/plain": [
       "array([[[ 0,  1,  2,  3],\n",
       "        [ 8,  9, 10, 11]],\n",
       "\n",
       "       [[ 4,  5,  6,  7],\n",
       "        [12, 13, 14, 15]]])"
      ]
     },
     "execution_count": 103,
     "metadata": {},
     "output_type": "execute_result"
    }
   ],
   "source": [
    "arr.transpose((1, 0, 2))"
   ]
  },
  {
   "cell_type": "markdown",
   "id": "35383856",
   "metadata": {},
   "source": [
    "Here, the axes have been reordered with the second axis first, the first axis second,\n",
    "and the last axis unchanged.      \n",
    "     \n",
    "Simple transposing with .T is a special case of swapping axes. ndarray has the method\n",
    "swapaxes, which takes a pair of axis numbers and switches the indicated axes to rear‐\n",
    "range the data:    "
   ]
  },
  {
   "cell_type": "markdown",
   "id": "f43503f7",
   "metadata": {},
   "source": [
    "To transpose an array, NumPy just swaps the shape and stride information for each axis. Here are the strides:"
   ]
  },
  {
   "cell_type": "code",
   "execution_count": 104,
   "id": "97247942",
   "metadata": {},
   "outputs": [
    {
     "data": {
      "text/plain": [
       "(32, 16, 4)"
      ]
     },
     "execution_count": 104,
     "metadata": {},
     "output_type": "execute_result"
    }
   ],
   "source": [
    "arr.strides"
   ]
  },
  {
   "cell_type": "code",
   "execution_count": 105,
   "id": "ceef3570",
   "metadata": {},
   "outputs": [
    {
     "data": {
      "text/plain": [
       "(16, 32, 4)"
      ]
     },
     "execution_count": 105,
     "metadata": {},
     "output_type": "execute_result"
    }
   ],
   "source": [
    "arr.transpose(1, 0, 2).strides"
   ]
  },
  {
   "cell_type": "markdown",
   "id": "746bfdc5",
   "metadata": {},
   "source": [
    "The stride value represents the number of bytes that must be travelled in memory in order to reach the next value of an axis of an array."
   ]
  },
  {
   "cell_type": "markdown",
   "id": "bbdad1d7",
   "metadata": {},
   "source": [
    "https://stackoverflow.com/questions/32034237/how-does-numpys-transpose-method-permute-the-axes-of-an-array"
   ]
  },
  {
   "cell_type": "code",
   "execution_count": 106,
   "id": "2326b611",
   "metadata": {},
   "outputs": [
    {
     "data": {
      "text/plain": [
       "array([[[ 0,  1,  2,  3],\n",
       "        [ 4,  5,  6,  7]],\n",
       "\n",
       "       [[ 8,  9, 10, 11],\n",
       "        [12, 13, 14, 15]]])"
      ]
     },
     "execution_count": 106,
     "metadata": {},
     "output_type": "execute_result"
    }
   ],
   "source": [
    "arr"
   ]
  },
  {
   "cell_type": "code",
   "execution_count": 107,
   "id": "694415f0",
   "metadata": {},
   "outputs": [
    {
     "data": {
      "text/plain": [
       "array([[[ 0,  4],\n",
       "        [ 1,  5],\n",
       "        [ 2,  6],\n",
       "        [ 3,  7]],\n",
       "\n",
       "       [[ 8, 12],\n",
       "        [ 9, 13],\n",
       "        [10, 14],\n",
       "        [11, 15]]])"
      ]
     },
     "execution_count": 107,
     "metadata": {},
     "output_type": "execute_result"
    }
   ],
   "source": [
    "arr.swapaxes(1, 2)"
   ]
  },
  {
   "cell_type": "markdown",
   "id": "0b84540b",
   "metadata": {},
   "source": [
    "swapaxes similarly returns a view on the data without making a copy."
   ]
  },
  {
   "cell_type": "markdown",
   "id": "d669c4f2",
   "metadata": {},
   "source": [
    "## 4.2 Universal Functions: Fast Element-Wise Array Functions"
   ]
  },
  {
   "cell_type": "markdown",
   "id": "b80f9542",
   "metadata": {},
   "source": [
    "A universal function, or ufunc, is a function that performs element-wise operations\n",
    "on data in ndarrays. You can think of them as fast vectorized wrappers for simple\n",
    "functions that take one or more scalar values and produce one or more scalar results.\n",
    "Many ufuncs are simple element-wise transformations, like sqrt or exp:"
   ]
  },
  {
   "cell_type": "code",
   "execution_count": 108,
   "id": "f31385cd",
   "metadata": {},
   "outputs": [],
   "source": [
    "arr = np.arange(10)"
   ]
  },
  {
   "cell_type": "code",
   "execution_count": 109,
   "id": "6cfddd5f",
   "metadata": {},
   "outputs": [
    {
     "data": {
      "text/plain": [
       "array([0, 1, 2, 3, 4, 5, 6, 7, 8, 9])"
      ]
     },
     "execution_count": 109,
     "metadata": {},
     "output_type": "execute_result"
    }
   ],
   "source": [
    "arr"
   ]
  },
  {
   "cell_type": "code",
   "execution_count": 110,
   "id": "564f6f0b",
   "metadata": {},
   "outputs": [
    {
     "data": {
      "text/plain": [
       "array([0.        , 1.        , 1.41421356, 1.73205081, 2.        ,\n",
       "       2.23606798, 2.44948974, 2.64575131, 2.82842712, 3.        ])"
      ]
     },
     "execution_count": 110,
     "metadata": {},
     "output_type": "execute_result"
    }
   ],
   "source": [
    "np.sqrt(arr)\n"
   ]
  },
  {
   "cell_type": "code",
   "execution_count": 111,
   "id": "66427889",
   "metadata": {},
   "outputs": [
    {
     "data": {
      "text/plain": [
       "array([1.00000000e+00, 2.71828183e+00, 7.38905610e+00, 2.00855369e+01,\n",
       "       5.45981500e+01, 1.48413159e+02, 4.03428793e+02, 1.09663316e+03,\n",
       "       2.98095799e+03, 8.10308393e+03])"
      ]
     },
     "execution_count": 111,
     "metadata": {},
     "output_type": "execute_result"
    }
   ],
   "source": [
    "np.exp(arr)"
   ]
  },
  {
   "cell_type": "markdown",
   "id": "b9d28735",
   "metadata": {},
   "source": [
    "These are referred to as unary ufuncs. Others, such as add or maximum, take two arrays\n",
    "(thus, binary ufuncs) and return a single array as the result:"
   ]
  },
  {
   "cell_type": "code",
   "execution_count": 112,
   "id": "c3467dcd",
   "metadata": {},
   "outputs": [],
   "source": [
    "x = np.random.randn(8)"
   ]
  },
  {
   "cell_type": "code",
   "execution_count": 113,
   "id": "6aa6d960",
   "metadata": {},
   "outputs": [],
   "source": [
    "y = np.random.randn(8)\n"
   ]
  },
  {
   "cell_type": "code",
   "execution_count": 114,
   "id": "1be76791",
   "metadata": {},
   "outputs": [
    {
     "data": {
      "text/plain": [
       "array([-1.41381436, -0.06768107, -0.13367658, -1.46856884,  0.23536346,\n",
       "        0.12478472, -0.75593878,  0.60639463])"
      ]
     },
     "execution_count": 114,
     "metadata": {},
     "output_type": "execute_result"
    }
   ],
   "source": [
    "x"
   ]
  },
  {
   "cell_type": "code",
   "execution_count": 115,
   "id": "ee81d58c",
   "metadata": {},
   "outputs": [
    {
     "data": {
      "text/plain": [
       "array([ 0.23850405,  0.81184267, -1.64104995, -1.54349508,  3.50668133,\n",
       "        1.10024432, -0.73051404,  1.89083422])"
      ]
     },
     "execution_count": 115,
     "metadata": {},
     "output_type": "execute_result"
    }
   ],
   "source": [
    "y"
   ]
  },
  {
   "cell_type": "code",
   "execution_count": 116,
   "id": "a48c9671",
   "metadata": {},
   "outputs": [
    {
     "data": {
      "text/plain": [
       "array([ 0.23850405,  0.81184267, -0.13367658, -1.46856884,  3.50668133,\n",
       "        1.10024432, -0.73051404,  1.89083422])"
      ]
     },
     "execution_count": 116,
     "metadata": {},
     "output_type": "execute_result"
    }
   ],
   "source": [
    "np.maximum(x, y)"
   ]
  },
  {
   "cell_type": "markdown",
   "id": "beda9ac1",
   "metadata": {},
   "source": [
    "While not common, a ufunc can return multiple arrays. modf is one example, a vectorized version of the built-in Python divmod; it returns the fractional and integral\n",
    "parts of a floating-point array:"
   ]
  },
  {
   "cell_type": "code",
   "execution_count": 117,
   "id": "d0a700f1",
   "metadata": {},
   "outputs": [],
   "source": [
    "arr = np.random.randn(7) * 5"
   ]
  },
  {
   "cell_type": "code",
   "execution_count": 118,
   "id": "b1e97e8f",
   "metadata": {},
   "outputs": [
    {
     "data": {
      "text/plain": [
       "array([-4.40983862,  2.20611567, -3.84575117,  4.98121534,  0.89323686,\n",
       "       -7.50214336,  0.05808596])"
      ]
     },
     "execution_count": 118,
     "metadata": {},
     "output_type": "execute_result"
    }
   ],
   "source": [
    "arr\n"
   ]
  },
  {
   "cell_type": "code",
   "execution_count": 119,
   "id": "59ca698c",
   "metadata": {},
   "outputs": [],
   "source": [
    "remainder, whole_part = np.modf(arr)"
   ]
  },
  {
   "cell_type": "code",
   "execution_count": 120,
   "id": "c8983a6e",
   "metadata": {},
   "outputs": [
    {
     "data": {
      "text/plain": [
       "array([-0.40983862,  0.20611567, -0.84575117,  0.98121534,  0.89323686,\n",
       "       -0.50214336,  0.05808596])"
      ]
     },
     "execution_count": 120,
     "metadata": {},
     "output_type": "execute_result"
    }
   ],
   "source": [
    "remainder"
   ]
  },
  {
   "cell_type": "code",
   "execution_count": 121,
   "id": "0c4987cc",
   "metadata": {},
   "outputs": [
    {
     "data": {
      "text/plain": [
       "array([-4.,  2., -3.,  4.,  0., -7.,  0.])"
      ]
     },
     "execution_count": 121,
     "metadata": {},
     "output_type": "execute_result"
    }
   ],
   "source": [
    "whole_part"
   ]
  },
  {
   "cell_type": "markdown",
   "id": "96b004b6",
   "metadata": {},
   "source": [
    "Ufuncs accept an optional out argument that allows them to operate in-place on\n",
    "arrays:"
   ]
  },
  {
   "cell_type": "code",
   "execution_count": 122,
   "id": "87ca39d7",
   "metadata": {},
   "outputs": [
    {
     "data": {
      "text/plain": [
       "array([-4.40983862,  2.20611567, -3.84575117,  4.98121534,  0.89323686,\n",
       "       -7.50214336,  0.05808596])"
      ]
     },
     "execution_count": 122,
     "metadata": {},
     "output_type": "execute_result"
    }
   ],
   "source": [
    "arr"
   ]
  },
  {
   "cell_type": "code",
   "execution_count": 123,
   "id": "cbfd729b",
   "metadata": {},
   "outputs": [
    {
     "name": "stderr",
     "output_type": "stream",
     "text": [
      "C:\\Users\\ankit19.gupta\\OneDrive - Reliance Corporate IT Park Limited\\Desktop\\Practice_Code\\Python_Practice\\Python_For_Data_Analysis\\myenv\\lib\\site-packages\\ipykernel_launcher.py:1: RuntimeWarning: invalid value encountered in sqrt\n",
      "  \"\"\"Entry point for launching an IPython kernel.\n"
     ]
    },
    {
     "data": {
      "text/plain": [
       "array([       nan, 1.48529986,        nan, 2.23186365, 0.94511209,\n",
       "              nan, 0.24101028])"
      ]
     },
     "execution_count": 123,
     "metadata": {},
     "output_type": "execute_result"
    }
   ],
   "source": [
    "np.sqrt(arr)"
   ]
  },
  {
   "cell_type": "code",
   "execution_count": 124,
   "id": "d271f682",
   "metadata": {},
   "outputs": [
    {
     "name": "stderr",
     "output_type": "stream",
     "text": [
      "C:\\Users\\ankit19.gupta\\OneDrive - Reliance Corporate IT Park Limited\\Desktop\\Practice_Code\\Python_Practice\\Python_For_Data_Analysis\\myenv\\lib\\site-packages\\ipykernel_launcher.py:1: RuntimeWarning: invalid value encountered in sqrt\n",
      "  \"\"\"Entry point for launching an IPython kernel.\n"
     ]
    },
    {
     "data": {
      "text/plain": [
       "array([       nan, 1.48529986,        nan, 2.23186365, 0.94511209,\n",
       "              nan, 0.24101028])"
      ]
     },
     "execution_count": 124,
     "metadata": {},
     "output_type": "execute_result"
    }
   ],
   "source": [
    "np.sqrt(arr, arr)"
   ]
  },
  {
   "cell_type": "code",
   "execution_count": 125,
   "id": "3d1544a6",
   "metadata": {},
   "outputs": [
    {
     "data": {
      "text/plain": [
       "array([       nan, 1.48529986,        nan, 2.23186365, 0.94511209,\n",
       "              nan, 0.24101028])"
      ]
     },
     "execution_count": 125,
     "metadata": {},
     "output_type": "execute_result"
    }
   ],
   "source": [
    "arr"
   ]
  },
  {
   "cell_type": "code",
   "execution_count": 3,
   "id": "68504636",
   "metadata": {},
   "outputs": [],
   "source": [
    "# Table 4-3. Unary ufuncs\n",
    "# ---------------------------\n",
    "# Function --> Description\n",
    "# ---------------------------\n",
    "# abs, fabs --> Compute the absolute value element-wise for integer, foating-point, or complex values\n",
    "# sqrt --> Compute the square root of each element (equivalent to arr ** 0.5)\n",
    "# square --> Compute the square of each element (equivalent to arr ** 2)\n",
    "# exp --> Compute the exponent ex of each element\n",
    "# log, log10,log2, log1p --> Natural logarithm (base e), log base 10, log base 2, and log(1 + x), respectively\n",
    "# sign --> Compute the sign of each element: 1 (positive), 0 (zero), or –1 (negative)\n",
    "# ceil --> Compute the ceiling of each element (i.e., the smallest integer greater than or equal to that number)\n",
    "# floor --> Compute the foor of each element (i.e., the largest integer less than or equal to each element)\n",
    "# rint --> Round elements to the nearest integer, preserving the dtype\n",
    "# modf --> Return fractional and integral parts of array as a separate array\n",
    "# isnan --> Return boolean array indicating whether each value is NaN (Not a Number)\n",
    "# isfinite, isinf --> Return boolean array indicating whether each element is finite (non-inf, non-NaN) or infinite,respectively\n",
    "# cos, cosh, sin,sinh, tan, tanh --> Regular and hyperbolic trigonometric functions\n",
    "# arccos, arccosh,arcsin, arcsinh,arctan, arctanh --> Inverse trigonometric functions\n",
    "# logical_not --> Compute truth value of not x element-wise (equivalent to ~arr)."
   ]
  },
  {
   "cell_type": "code",
   "execution_count": 4,
   "id": "3c52cae1",
   "metadata": {},
   "outputs": [],
   "source": [
    "# Table 4-4. Binary universal functions  \n",
    "# ------------------------------------------\n",
    "# Function --> Description\n",
    "# ------------------------------------------\n",
    "# add --> Add corresponding elements in arrays\n",
    "# subtract --> Subtract elements in second array from first array\n",
    "# multiply --> Multiply array elements\n",
    "# divide, floor_divide --> Divide or foor divide (truncating the remainder)\n",
    "# power --> Raise elements in first array to powers indicated in second array\n",
    "# maximum, fmax --> Element-wise maximum; fmax ignores NaN\n",
    "# minimum, fmin --> Element-wise minimum; fmin ignores NaN\n",
    "# mod --> Element-wise modulus (remainder of division)\n",
    "# copysign --> Copy sign of values in second argument to values in first argument\n",
    "# greater, greater_equal,less, less_equal,equal, not_equal --> Perform element-wise comparison, yielding boolean array (equivalent to infix operators >, >=, <, <=, ==, !=)\n",
    "# logical_and, logical_or, logical_xor --> Compute element-wise truth value of logical operation (equivalent to infix operators & |, ^)\n"
   ]
  },
  {
   "cell_type": "markdown",
   "id": "bcf2a352",
   "metadata": {},
   "source": [
    "## 4.3 Array-Oriented Programming with Arrays"
   ]
  },
  {
   "cell_type": "markdown",
   "id": "7066396d",
   "metadata": {},
   "source": [
    "This practice of\n",
    "replacing explicit loops with array expressions is commonly referred to as vectorization"
   ]
  },
  {
   "cell_type": "markdown",
   "id": "3c124180",
   "metadata": {},
   "source": [
    " In general, vectorized array operations will often be one or two (or more) orders\n",
    "of magnitude faster than their pure Python equivalents, with the biggest impact in\n",
    "any kind of numerical computations"
   ]
  },
  {
   "cell_type": "markdown",
   "id": "6e181a34",
   "metadata": {},
   "source": [
    "As a simple example, suppose we wished to evaluate the function sqrt(x^2 + y^2)\n",
    "across a regular grid of values. The np.meshgrid function takes two 1D arrays and\n",
    "produces two 2D matrices corresponding to all pairs of (x, y) in the two arrays:"
   ]
  },
  {
   "cell_type": "code",
   "execution_count": 128,
   "id": "2b2422cf",
   "metadata": {},
   "outputs": [],
   "source": [
    "points = np.arange(-5, 5, 0.01) # 1000 equally spaced points\n",
    "xs, ys = np.meshgrid(points, points)"
   ]
  },
  {
   "cell_type": "code",
   "execution_count": 131,
   "id": "6499eb60",
   "metadata": {},
   "outputs": [
    {
     "data": {
      "text/plain": [
       "array([[-5.  , -4.99, -4.98, ...,  4.97,  4.98,  4.99],\n",
       "       [-5.  , -4.99, -4.98, ...,  4.97,  4.98,  4.99],\n",
       "       [-5.  , -4.99, -4.98, ...,  4.97,  4.98,  4.99],\n",
       "       ...,\n",
       "       [-5.  , -4.99, -4.98, ...,  4.97,  4.98,  4.99],\n",
       "       [-5.  , -4.99, -4.98, ...,  4.97,  4.98,  4.99],\n",
       "       [-5.  , -4.99, -4.98, ...,  4.97,  4.98,  4.99]])"
      ]
     },
     "execution_count": 131,
     "metadata": {},
     "output_type": "execute_result"
    }
   ],
   "source": [
    "xs"
   ]
  },
  {
   "cell_type": "code",
   "execution_count": 130,
   "id": "df4206dd",
   "metadata": {},
   "outputs": [
    {
     "data": {
      "text/plain": [
       "array([[-5.  , -5.  , -5.  , ..., -5.  , -5.  , -5.  ],\n",
       "       [-4.99, -4.99, -4.99, ..., -4.99, -4.99, -4.99],\n",
       "       [-4.98, -4.98, -4.98, ..., -4.98, -4.98, -4.98],\n",
       "       ...,\n",
       "       [ 4.97,  4.97,  4.97, ...,  4.97,  4.97,  4.97],\n",
       "       [ 4.98,  4.98,  4.98, ...,  4.98,  4.98,  4.98],\n",
       "       [ 4.99,  4.99,  4.99, ...,  4.99,  4.99,  4.99]])"
      ]
     },
     "execution_count": 130,
     "metadata": {},
     "output_type": "execute_result"
    }
   ],
   "source": [
    "ys"
   ]
  },
  {
   "cell_type": "markdown",
   "id": "8ba119b0",
   "metadata": {},
   "source": [
    "Now, evaluating the function is a matter of writing the same expression you would\n",
    "write with two points:"
   ]
  },
  {
   "cell_type": "code",
   "execution_count": 132,
   "id": "3612c39e",
   "metadata": {},
   "outputs": [
    {
     "data": {
      "text/plain": [
       "array([[7.07106781, 7.06400028, 7.05693985, ..., 7.04988652, 7.05693985,\n",
       "        7.06400028],\n",
       "       [7.06400028, 7.05692568, 7.04985815, ..., 7.04279774, 7.04985815,\n",
       "        7.05692568],\n",
       "       [7.05693985, 7.04985815, 7.04278354, ..., 7.03571603, 7.04278354,\n",
       "        7.04985815],\n",
       "       ...,\n",
       "       [7.04988652, 7.04279774, 7.03571603, ..., 7.0286414 , 7.03571603,\n",
       "        7.04279774],\n",
       "       [7.05693985, 7.04985815, 7.04278354, ..., 7.03571603, 7.04278354,\n",
       "        7.04985815],\n",
       "       [7.06400028, 7.05692568, 7.04985815, ..., 7.04279774, 7.04985815,\n",
       "        7.05692568]])"
      ]
     },
     "execution_count": 132,
     "metadata": {},
     "output_type": "execute_result"
    }
   ],
   "source": [
    "z = np.sqrt(xs ** 2 + ys ** 2)\n",
    "z"
   ]
  },
  {
   "cell_type": "markdown",
   "id": "803285f0",
   "metadata": {},
   "source": [
    "I use matplotlib to create visualizations of this two dimensional array:"
   ]
  },
  {
   "cell_type": "code",
   "execution_count": 134,
   "id": "beb4bd26",
   "metadata": {},
   "outputs": [],
   "source": [
    "import matplotlib.pyplot as plt"
   ]
  },
  {
   "cell_type": "code",
   "execution_count": 137,
   "id": "e5574100",
   "metadata": {},
   "outputs": [
    {
     "data": {
      "text/plain": [
       "<matplotlib.colorbar.Colorbar at 0x2138f78a5f8>"
      ]
     },
     "execution_count": 137,
     "metadata": {},
     "output_type": "execute_result"
    },
    {
     "data": {
      "image/png": "[encoded data removed]",
      "text/plain": [
       "<Figure size 432x288 with 2 Axes>"
      ]
     },
     "metadata": {
      "needs_background": "light"
     },
     "output_type": "display_data"
    }
   ],
   "source": [
    "plt.title(\"Image plot of $\\sqrt{x^2 + y^2}$ for a grid of values\")\n",
    "plt.imshow(z, cmap=plt.cm.gray); plt.colorbar()"
   ]
  },
  {
   "cell_type": "markdown",
   "id": "cb59a285",
   "metadata": {},
   "source": [
    "### Expressing Conditional Logic as Array Operations"
   ]
  },
  {
   "cell_type": "code",
   "execution_count": 138,
   "id": "d4f1e02b",
   "metadata": {},
   "outputs": [],
   "source": [
    "xarr = np.array([1.1, 1.2, 1.3, 1.4, 1.5])\n",
    "yarr = np.array([2.1, 2.2, 2.3, 2.4, 2.5])\n",
    "cond = np.array([True, False, True, True, False])"
   ]
  },
  {
   "cell_type": "markdown",
   "id": "4e56bb61",
   "metadata": {},
   "source": [
    "Suppose we wanted to take a value from xarr whenever the corresponding value in\n",
    "cond is True, and otherwise take the value from yarr. A list comprehension doing\n",
    "this might look like:"
   ]
  },
  {
   "cell_type": "code",
   "execution_count": 139,
   "id": "21d2d429",
   "metadata": {},
   "outputs": [
    {
     "data": {
      "text/plain": [
       "[1.1, 2.2, 1.3, 1.4, 2.5]"
      ]
     },
     "execution_count": 139,
     "metadata": {},
     "output_type": "execute_result"
    }
   ],
   "source": [
    "result = [(x if c else y) for x, y, c in zip(xarr, yarr, cond)]\n",
    "result"
   ]
  },
  {
   "cell_type": "markdown",
   "id": "db61ea37",
   "metadata": {},
   "source": [
    "This has multiple problems. First, it will not be very fast for large arrays (because all\n",
    "the work is being done in interpreted Python code). Second, it will not work with\n",
    "multidimensional arrays. With np.where you can write this very concisely:"
   ]
  },
  {
   "cell_type": "code",
   "execution_count": 140,
   "id": "71b25bc6",
   "metadata": {},
   "outputs": [
    {
     "data": {
      "text/plain": [
       "array([1.1, 2.2, 1.3, 1.4, 2.5])"
      ]
     },
     "execution_count": 140,
     "metadata": {},
     "output_type": "execute_result"
    }
   ],
   "source": [
    "result = np.where(cond, xarr, yarr)\n",
    "result"
   ]
  },
  {
   "cell_type": "markdown",
   "id": "4b1d6810",
   "metadata": {},
   "source": [
    "The second and third arguments to np.where don’t need to be arrays; one or both of\n",
    "them can be scalars. A typical use of where in data analysis is to produce a new array\n",
    "of values based on another array. Suppose you had a matrix of randomly generated\n",
    "data and you wanted to replace all positive values with 2 and all negative values with\n",
    "–2. This is very easy to do with np.where:\n"
   ]
  },
  {
   "cell_type": "code",
   "execution_count": 141,
   "id": "4f471e33",
   "metadata": {},
   "outputs": [
    {
     "data": {
      "text/plain": [
       "array([[-1.31880712, -0.36921441, -0.05077476,  1.10603421],\n",
       "       [-0.3976812 ,  0.8663533 , -0.71805913,  1.0924815 ],\n",
       "       [-0.09713652,  0.45718402, -0.47217444,  0.35524073],\n",
       "       [-0.09453515,  1.67529429,  1.27244883, -0.73547484]])"
      ]
     },
     "execution_count": 141,
     "metadata": {},
     "output_type": "execute_result"
    }
   ],
   "source": [
    "arr = np.random.randn(4, 4)\n",
    "arr"
   ]
  },
  {
   "cell_type": "code",
   "execution_count": 142,
   "id": "1210e28e",
   "metadata": {},
   "outputs": [
    {
     "data": {
      "text/plain": [
       "array([[-2, -2, -2,  2],\n",
       "       [-2,  2, -2,  2],\n",
       "       [-2,  2, -2,  2],\n",
       "       [-2,  2,  2, -2]])"
      ]
     },
     "execution_count": 142,
     "metadata": {},
     "output_type": "execute_result"
    }
   ],
   "source": [
    "np.where(arr > 0, 2, -2)"
   ]
  },
  {
   "cell_type": "code",
   "execution_count": 143,
   "id": "593b063e",
   "metadata": {},
   "outputs": [
    {
     "data": {
      "text/plain": [
       "array([[-1.31880712, -0.36921441, -0.05077476,  2.        ],\n",
       "       [-0.3976812 ,  2.        , -0.71805913,  2.        ],\n",
       "       [-0.09713652,  2.        , -0.47217444,  2.        ],\n",
       "       [-0.09453515,  2.        ,  2.        , -0.73547484]])"
      ]
     },
     "execution_count": 143,
     "metadata": {},
     "output_type": "execute_result"
    }
   ],
   "source": [
    "np.where(arr > 0, 2, arr) # set only positive values to 2"
   ]
  },
  {
   "cell_type": "markdown",
   "id": "c24bcfdb",
   "metadata": {},
   "source": [
    "The arrays passed to np.where can be more than just equal-sized arrays or scalars."
   ]
  },
  {
   "cell_type": "markdown",
   "id": "8bf456bf",
   "metadata": {},
   "source": [
    "## Mathematical and Statistical Methods"
   ]
  },
  {
   "cell_type": "markdown",
   "id": "27f3754b",
   "metadata": {},
   "source": [
    "A set of mathematical functions that compute statistics about an entire array or about\n",
    "the data along an axis are accessible as methods of the array class. You can use aggregations (often called reductions) like sum, mean, and std (standard deviation) either by\n",
    "calling the array instance method or using the top-level NumPy function."
   ]
  },
  {
   "cell_type": "code",
   "execution_count": 144,
   "id": "87c15a7b",
   "metadata": {},
   "outputs": [],
   "source": [
    " arr = np.random.randn(5, 4)"
   ]
  },
  {
   "cell_type": "code",
   "execution_count": 145,
   "id": "2b03494c",
   "metadata": {},
   "outputs": [
    {
     "data": {
      "text/plain": [
       "0.043740029951084204"
      ]
     },
     "execution_count": 145,
     "metadata": {},
     "output_type": "execute_result"
    }
   ],
   "source": [
    "arr.mean()\n"
   ]
  },
  {
   "cell_type": "code",
   "execution_count": 146,
   "id": "2c98731a",
   "metadata": {},
   "outputs": [
    {
     "data": {
      "text/plain": [
       "0.043740029951084204"
      ]
     },
     "execution_count": 146,
     "metadata": {},
     "output_type": "execute_result"
    }
   ],
   "source": [
    "np.mean(arr)"
   ]
  },
  {
   "cell_type": "code",
   "execution_count": 147,
   "id": "e7d88070",
   "metadata": {},
   "outputs": [
    {
     "data": {
      "text/plain": [
       "0.874800599021684"
      ]
     },
     "execution_count": 147,
     "metadata": {},
     "output_type": "execute_result"
    }
   ],
   "source": [
    "arr.sum()"
   ]
  },
  {
   "cell_type": "markdown",
   "id": "3acc3a1f",
   "metadata": {},
   "source": [
    "Functions like mean and sum take an optional axis argument that computes the statistic over the given axis, resulting in an array with one fewer dimension:"
   ]
  },
  {
   "cell_type": "code",
   "execution_count": 148,
   "id": "02f7fda1",
   "metadata": {},
   "outputs": [
    {
     "data": {
      "text/plain": [
       "array([ 1.00924708,  0.03519826,  0.28520603, -0.64824481, -0.4627064 ])"
      ]
     },
     "execution_count": 148,
     "metadata": {},
     "output_type": "execute_result"
    }
   ],
   "source": [
    "arr.mean(axis=1)"
   ]
  },
  {
   "cell_type": "code",
   "execution_count": 149,
   "id": "862fcb76",
   "metadata": {},
   "outputs": [
    {
     "data": {
      "text/plain": [
       "array([ 1.39692033, -0.47274936,  0.74012725, -0.78949761])"
      ]
     },
     "execution_count": 149,
     "metadata": {},
     "output_type": "execute_result"
    }
   ],
   "source": [
    "arr.sum(axis=0)"
   ]
  },
  {
   "cell_type": "markdown",
   "id": "6275c3fd",
   "metadata": {},
   "source": [
    "Here, arr.mean(1) means “compute mean across the columns” where arr.sum(0)\n",
    "means “compute sum down the rows.”"
   ]
  },
  {
   "cell_type": "markdown",
   "id": "9b36483d",
   "metadata": {},
   "source": [
    "Other methods like cumsum and cumprod do not aggregate, instead producing an array\n",
    "of the intermediate results:"
   ]
  },
  {
   "cell_type": "code",
   "execution_count": 150,
   "id": "7766012b",
   "metadata": {},
   "outputs": [
    {
     "data": {
      "text/plain": [
       "array([ 0,  1,  3,  6, 10, 15, 21, 28], dtype=int32)"
      ]
     },
     "execution_count": 150,
     "metadata": {},
     "output_type": "execute_result"
    }
   ],
   "source": [
    "arr = np.array([0, 1, 2, 3, 4, 5, 6, 7])\n",
    "arr.cumsum()"
   ]
  },
  {
   "cell_type": "code",
   "execution_count": 2,
   "id": "e2a96b33",
   "metadata": {},
   "outputs": [],
   "source": [
    "import numpy as np\n",
    "arr = np.array([[0, 1, 2], [3, 4, 5], [6, 7, 8]])"
   ]
  },
  {
   "cell_type": "code",
   "execution_count": 3,
   "id": "5fb12f7f",
   "metadata": {},
   "outputs": [
    {
     "data": {
      "text/plain": [
       "array([[ 0,  1,  2],\n",
       "       [ 3,  5,  7],\n",
       "       [ 9, 12, 15]])"
      ]
     },
     "execution_count": 3,
     "metadata": {},
     "output_type": "execute_result"
    }
   ],
   "source": [
    "arr.cumsum(axis=0)\n"
   ]
  },
  {
   "cell_type": "code",
   "execution_count": 153,
   "id": "315e6d91",
   "metadata": {},
   "outputs": [
    {
     "data": {
      "text/plain": [
       "array([[  0,   0,   0],\n",
       "       [  3,  12,  60],\n",
       "       [  6,  42, 336]], dtype=int32)"
      ]
     },
     "execution_count": 153,
     "metadata": {},
     "output_type": "execute_result"
    }
   ],
   "source": [
    "arr.cumprod(axis=1)"
   ]
  },
  {
   "cell_type": "code",
   "execution_count": 154,
   "id": "0f3a1658",
   "metadata": {},
   "outputs": [],
   "source": [
    "# Method --> Description\n",
    "# sum --> Sum of all the elements in the array or along an axis; zero-length arrays have sum 0\n",
    "# mean --> Arithmetic mean; zero-length arrays have NaN mean\n",
    "# std, var --> Standard deviation and variance, respectively, with optional degrees of freedom adjustment (default denominator n)\n",
    "# min, max --> Minimum and maximum\n",
    "# argmin, argmax --> Indices of minimum and maximum elements, respectively\n",
    "# cumsum --> Cumulative sum of elements starting from 0\n",
    "# cumprod --> Cumulative product of elements starting from 1"
   ]
  },
  {
   "cell_type": "markdown",
   "id": "906b40af",
   "metadata": {},
   "source": [
    "### Methods for Boolean Arrays"
   ]
  },
  {
   "cell_type": "code",
   "execution_count": 155,
   "id": "7b6793e9",
   "metadata": {},
   "outputs": [],
   "source": [
    "arr = np.random.randn(100)"
   ]
  },
  {
   "cell_type": "code",
   "execution_count": 156,
   "id": "d45254ba",
   "metadata": {},
   "outputs": [
    {
     "data": {
      "text/plain": [
       "51"
      ]
     },
     "execution_count": 156,
     "metadata": {},
     "output_type": "execute_result"
    }
   ],
   "source": [
    "(arr > 0).sum() # Number of positive values"
   ]
  },
  {
   "cell_type": "markdown",
   "id": "92167b3d",
   "metadata": {},
   "source": [
    "There are two additional methods, any and all, useful especially for boolean arrays.\n",
    "any tests whether one or more values in an array is True, while all checks if every\n",
    "value is True:\n"
   ]
  },
  {
   "cell_type": "code",
   "execution_count": 157,
   "id": "d3b5ff62",
   "metadata": {},
   "outputs": [],
   "source": [
    "bools = np.array([False, False, True, False])"
   ]
  },
  {
   "cell_type": "code",
   "execution_count": 158,
   "id": "81fbef22",
   "metadata": {},
   "outputs": [
    {
     "data": {
      "text/plain": [
       "True"
      ]
     },
     "execution_count": 158,
     "metadata": {},
     "output_type": "execute_result"
    }
   ],
   "source": [
    "bools.any()"
   ]
  },
  {
   "cell_type": "code",
   "execution_count": 159,
   "id": "f04695f6",
   "metadata": {},
   "outputs": [
    {
     "data": {
      "text/plain": [
       "False"
      ]
     },
     "execution_count": 159,
     "metadata": {},
     "output_type": "execute_result"
    }
   ],
   "source": [
    "bools.all()\n"
   ]
  },
  {
   "cell_type": "markdown",
   "id": "7c80eb18",
   "metadata": {},
   "source": [
    "These methods also work with non-boolean arrays, where non-zero elements evaluate to True.\n"
   ]
  },
  {
   "cell_type": "markdown",
   "id": "58d7202d",
   "metadata": {},
   "source": [
    "## Sorting"
   ]
  },
  {
   "cell_type": "markdown",
   "id": "dddae20b",
   "metadata": {},
   "source": [
    "Like Python’s built-in list type, NumPy arrays can be sorted in-place with the sort\n",
    "method:"
   ]
  },
  {
   "cell_type": "code",
   "execution_count": 160,
   "id": "240c7487",
   "metadata": {},
   "outputs": [],
   "source": [
    "arr = np.random.randn(6)"
   ]
  },
  {
   "cell_type": "code",
   "execution_count": 161,
   "id": "fa709379",
   "metadata": {},
   "outputs": [
    {
     "data": {
      "text/plain": [
       "array([-1.25740119,  0.2507437 ,  0.33802963, -1.20470483,  0.03849978,\n",
       "        1.29035062])"
      ]
     },
     "execution_count": 161,
     "metadata": {},
     "output_type": "execute_result"
    }
   ],
   "source": [
    "arr\n"
   ]
  },
  {
   "cell_type": "code",
   "execution_count": 162,
   "id": "5381d572",
   "metadata": {},
   "outputs": [],
   "source": [
    "arr.sort()"
   ]
  },
  {
   "cell_type": "code",
   "execution_count": 163,
   "id": "b2b06fdb",
   "metadata": {},
   "outputs": [
    {
     "data": {
      "text/plain": [
       "array([-1.25740119, -1.20470483,  0.03849978,  0.2507437 ,  0.33802963,\n",
       "        1.29035062])"
      ]
     },
     "execution_count": 163,
     "metadata": {},
     "output_type": "execute_result"
    }
   ],
   "source": [
    "arr"
   ]
  },
  {
   "cell_type": "markdown",
   "id": "3f7add37",
   "metadata": {},
   "source": [
    "You can sort each one-dimensional section of values in a multidimensional array inplace along an axis by passing the axis number to sort:"
   ]
  },
  {
   "cell_type": "code",
   "execution_count": 164,
   "id": "5972c5a0",
   "metadata": {},
   "outputs": [
    {
     "data": {
      "text/plain": [
       "array([[-0.71689332,  2.11460371,  0.59174918],\n",
       "       [-0.39111725, -0.3243144 , -1.45814263],\n",
       "       [ 0.40193498,  0.19483244,  2.35286637],\n",
       "       [-0.99189503, -1.99256189,  0.02456943],\n",
       "       [ 0.2806713 , -0.89730573, -0.12910139]])"
      ]
     },
     "execution_count": 164,
     "metadata": {},
     "output_type": "execute_result"
    }
   ],
   "source": [
    "arr = np.random.randn(5, 3)\n",
    "arr"
   ]
  },
  {
   "cell_type": "code",
   "execution_count": 165,
   "id": "cacd7629",
   "metadata": {},
   "outputs": [],
   "source": [
    " arr.sort(1)"
   ]
  },
  {
   "cell_type": "code",
   "execution_count": 167,
   "id": "5354ca7d",
   "metadata": {},
   "outputs": [
    {
     "data": {
      "text/plain": [
       "array([[-0.71689332,  0.59174918,  2.11460371],\n",
       "       [-1.45814263, -0.39111725, -0.3243144 ],\n",
       "       [ 0.19483244,  0.40193498,  2.35286637],\n",
       "       [-1.99256189, -0.99189503,  0.02456943],\n",
       "       [-0.89730573, -0.12910139,  0.2806713 ]])"
      ]
     },
     "execution_count": 167,
     "metadata": {},
     "output_type": "execute_result"
    }
   ],
   "source": [
    "arr"
   ]
  },
  {
   "cell_type": "markdown",
   "id": "47223bb1",
   "metadata": {},
   "source": [
    "The top-level method np.sort returns a sorted copy of an array instead of modifying\n",
    "the array in-place. A quick-and-dirty way to compute the quantiles of an array is to\n",
    "sort it and select the value at a particular rank:\n"
   ]
  },
  {
   "cell_type": "code",
   "execution_count": 168,
   "id": "1eb7d481",
   "metadata": {},
   "outputs": [],
   "source": [
    "large_arr = np.random.randn(1000)"
   ]
  },
  {
   "cell_type": "code",
   "execution_count": 169,
   "id": "a260582e",
   "metadata": {},
   "outputs": [],
   "source": [
    "large_arr.sort()"
   ]
  },
  {
   "cell_type": "code",
   "execution_count": 170,
   "id": "615848ac",
   "metadata": {},
   "outputs": [
    {
     "data": {
      "text/plain": [
       "-1.6639933384518968"
      ]
     },
     "execution_count": 170,
     "metadata": {},
     "output_type": "execute_result"
    }
   ],
   "source": [
    "large_arr[int(0.05 * len(large_arr))] # 5% quantile"
   ]
  },
  {
   "cell_type": "markdown",
   "id": "97c2cf4a",
   "metadata": {},
   "source": [
    "### Unique and Other Set Logic"
   ]
  },
  {
   "cell_type": "markdown",
   "id": "6ba9b62b",
   "metadata": {},
   "source": [
    "NumPy has some basic set operations for one-dimensional ndarrays. A commonly\n",
    "used one is np.unique, which returns the sorted unique values in an array:"
   ]
  },
  {
   "cell_type": "code",
   "execution_count": 171,
   "id": "663bae92",
   "metadata": {},
   "outputs": [
    {
     "data": {
      "text/plain": [
       "array(['Bob', 'Joe', 'Will'], dtype='<U4')"
      ]
     },
     "execution_count": 171,
     "metadata": {},
     "output_type": "execute_result"
    }
   ],
   "source": [
    "names = np.array(['Bob', 'Joe', 'Will', 'Bob', 'Will', 'Joe', 'Joe'])\n",
    "np.unique(names)"
   ]
  },
  {
   "cell_type": "code",
   "execution_count": 172,
   "id": "e53fbe68",
   "metadata": {},
   "outputs": [
    {
     "data": {
      "text/plain": [
       "array([1, 2, 3, 4])"
      ]
     },
     "execution_count": 172,
     "metadata": {},
     "output_type": "execute_result"
    }
   ],
   "source": [
    "ints = np.array([3, 3, 3, 2, 2, 1, 1, 4, 4])\n",
    "np.unique(ints)"
   ]
  },
  {
   "cell_type": "markdown",
   "id": "35e06004",
   "metadata": {},
   "source": [
    "Contrast np.unique with the pure Python alternative:"
   ]
  },
  {
   "cell_type": "code",
   "execution_count": 173,
   "id": "17c3105d",
   "metadata": {},
   "outputs": [
    {
     "data": {
      "text/plain": [
       "['Bob', 'Joe', 'Will']"
      ]
     },
     "execution_count": 173,
     "metadata": {},
     "output_type": "execute_result"
    }
   ],
   "source": [
    "sorted(set(names))"
   ]
  },
  {
   "cell_type": "markdown",
   "id": "6fa8e6b2",
   "metadata": {},
   "source": [
    "Another function, np.in1d, tests membership of the values in one array in another,\n",
    "returning a boolean array:"
   ]
  },
  {
   "cell_type": "code",
   "execution_count": 174,
   "id": "93018592",
   "metadata": {},
   "outputs": [
    {
     "data": {
      "text/plain": [
       "array([ True, False, False,  True,  True, False,  True])"
      ]
     },
     "execution_count": 174,
     "metadata": {},
     "output_type": "execute_result"
    }
   ],
   "source": [
    "values = np.array([6, 0, 0, 3, 2, 5, 6])\n",
    "np.in1d(values, [2, 3, 6]) # check values 2,3 and 6 in values array and returns true if any of the 2,3,6 found"
   ]
  },
  {
   "cell_type": "code",
   "execution_count": 175,
   "id": "aec416bf",
   "metadata": {},
   "outputs": [],
   "source": [
    "# Method --> Description\n",
    "# unique(x) --> Compute the sorted, unique elements in x\n",
    "# intersect1d(x, y) --> Compute the sorted, common elements in x and y\n",
    "# union1d(x, y) --> Compute the sorted union of elements\n",
    "# in1d(x, y) --> Compute a boolean array indicating whether each element of x is contained in y\n",
    "# setdiff1d(x, y) --> Set difference, elements in x that are not in y\n",
    "# setxor1d(x, y) --> Set symmetric differences; elements that are in either of the arrays, but not both"
   ]
  },
  {
   "cell_type": "markdown",
   "id": "1df3103a",
   "metadata": {},
   "source": [
    "## 4.4 File Input and Output with Arrays"
   ]
  },
  {
   "cell_type": "markdown",
   "id": "6d526e1c",
   "metadata": {},
   "source": [
    "NumPy is able to save and load data to and from disk either in text or binary format.\n",
    "In this section I only discuss NumPy’s built-in binary format, since most users will\n",
    "prefer pandas and other tools for loading text or tabular data (see Chapter 6 for much\n",
    "more)."
   ]
  },
  {
   "cell_type": "markdown",
   "id": "7b91a31d",
   "metadata": {},
   "source": [
    "np.save and np.load are the two workhorse functions for efficiently saving and loading array data on disk. Arrays are saved by default in an uncompressed raw binary\n",
    "format with file extension .npy:"
   ]
  },
  {
   "cell_type": "code",
   "execution_count": 176,
   "id": "4389f420",
   "metadata": {},
   "outputs": [],
   "source": [
    "arr = np.arange(10)\n",
    "np.save('some_array', arr)"
   ]
  },
  {
   "cell_type": "markdown",
   "id": "b248ab95",
   "metadata": {},
   "source": [
    "If the file path does not already end in .npy, the extension will be appended. The array\n",
    "on disk can then be loaded with np.load:"
   ]
  },
  {
   "cell_type": "code",
   "execution_count": 177,
   "id": "55611361",
   "metadata": {},
   "outputs": [
    {
     "data": {
      "text/plain": [
       "array([0, 1, 2, 3, 4, 5, 6, 7, 8, 9])"
      ]
     },
     "execution_count": 177,
     "metadata": {},
     "output_type": "execute_result"
    }
   ],
   "source": [
    "np.load('some_array.npy')"
   ]
  },
  {
   "cell_type": "markdown",
   "id": "60c02ec4",
   "metadata": {},
   "source": [
    "You save multiple arrays in an uncompressed archive using np.savez and passing the\n",
    "arrays as keyword arguments:\n"
   ]
  },
  {
   "cell_type": "code",
   "execution_count": 178,
   "id": "79418e35",
   "metadata": {},
   "outputs": [],
   "source": [
    "np.savez('array_archive.npz', a=arr, b=arr)"
   ]
  },
  {
   "cell_type": "markdown",
   "id": "0af0f3b0",
   "metadata": {},
   "source": [
    "When loading an .npz file, you get back a dict-like object that loads the individual\n",
    "arrays lazily:"
   ]
  },
  {
   "cell_type": "code",
   "execution_count": 179,
   "id": "47021c54",
   "metadata": {},
   "outputs": [],
   "source": [
    "arch = np.load('array_archive.npz')"
   ]
  },
  {
   "cell_type": "code",
   "execution_count": 180,
   "id": "e4b8df15",
   "metadata": {},
   "outputs": [
    {
     "data": {
      "text/plain": [
       "array([0, 1, 2, 3, 4, 5, 6, 7, 8, 9])"
      ]
     },
     "execution_count": 180,
     "metadata": {},
     "output_type": "execute_result"
    }
   ],
   "source": [
    "arch['b']"
   ]
  },
  {
   "cell_type": "markdown",
   "id": "709b4f00",
   "metadata": {},
   "source": [
    "If your data compresses well, you may wish to use numpy.savez_compressed instead:"
   ]
  },
  {
   "cell_type": "code",
   "execution_count": 181,
   "id": "26bb32c6",
   "metadata": {},
   "outputs": [],
   "source": [
    "np.savez_compressed('arrays_compressed.npz', a=arr, b=arr)"
   ]
  },
  {
   "cell_type": "markdown",
   "id": "750ad12d",
   "metadata": {},
   "source": [
    "## 4.5 Linear Algebra"
   ]
  },
  {
   "cell_type": "markdown",
   "id": "c68f31c3",
   "metadata": {},
   "source": [
    "Linear algebra, like matrix multiplication, decompositions, determinants, and other\n",
    "square matrix math, is an important part of any array library. Unlike some languages\n",
    "like MATLAB, multiplying two two-dimensional arrays with * is an element-wise\n",
    "product instead of a matrix dot product. Thus, there is a function dot, both an array\n",
    "method and a function in the numpy namespace, for matrix multiplication:"
   ]
  },
  {
   "cell_type": "code",
   "execution_count": 182,
   "id": "883eebf5",
   "metadata": {},
   "outputs": [],
   "source": [
    "x = np.array([[1., 2., 3.], [4., 5., 6.]])"
   ]
  },
  {
   "cell_type": "code",
   "execution_count": 183,
   "id": "9bc227e5",
   "metadata": {},
   "outputs": [
    {
     "data": {
      "text/plain": [
       "array([[1., 2., 3.],\n",
       "       [4., 5., 6.]])"
      ]
     },
     "execution_count": 183,
     "metadata": {},
     "output_type": "execute_result"
    }
   ],
   "source": [
    "x"
   ]
  },
  {
   "cell_type": "code",
   "execution_count": 184,
   "id": "fae5e134",
   "metadata": {},
   "outputs": [
    {
     "data": {
      "text/plain": [
       "array([[ 6., 23.],\n",
       "       [-1.,  7.],\n",
       "       [ 8.,  9.]])"
      ]
     },
     "execution_count": 184,
     "metadata": {},
     "output_type": "execute_result"
    }
   ],
   "source": [
    "y = np.array([[6., 23.], [-1, 7], [8, 9]])\n",
    "y"
   ]
  },
  {
   "cell_type": "code",
   "execution_count": 185,
   "id": "2d3c6a81",
   "metadata": {},
   "outputs": [
    {
     "data": {
      "text/plain": [
       "array([[ 28.,  64.],\n",
       "       [ 67., 181.]])"
      ]
     },
     "execution_count": 185,
     "metadata": {},
     "output_type": "execute_result"
    }
   ],
   "source": [
    " x.dot(y)"
   ]
  },
  {
   "cell_type": "markdown",
   "id": "8bddcad5",
   "metadata": {},
   "source": [
    "x.dot(y) is equivalent to np.dot(x, y):"
   ]
  },
  {
   "cell_type": "code",
   "execution_count": 186,
   "id": "6c05a0f6",
   "metadata": {},
   "outputs": [
    {
     "data": {
      "text/plain": [
       "array([[ 28.,  64.],\n",
       "       [ 67., 181.]])"
      ]
     },
     "execution_count": 186,
     "metadata": {},
     "output_type": "execute_result"
    }
   ],
   "source": [
    "np.dot(x, y)"
   ]
  },
  {
   "cell_type": "markdown",
   "id": "197e74be",
   "metadata": {},
   "source": [
    "A matrix product between a two-dimensional array and a suitably sized onedimensional array results in a one-dimensional array:\n"
   ]
  },
  {
   "cell_type": "code",
   "execution_count": 187,
   "id": "0e7d74d0",
   "metadata": {},
   "outputs": [
    {
     "data": {
      "text/plain": [
       "array([ 6., 15.])"
      ]
     },
     "execution_count": 187,
     "metadata": {},
     "output_type": "execute_result"
    }
   ],
   "source": [
    "np.dot(x, np.ones(3))"
   ]
  },
  {
   "cell_type": "markdown",
   "id": "f3154059",
   "metadata": {},
   "source": [
    "The @ symbol (as of Python 3.5) also works as an infix operator that performs matrix\n",
    "multiplication:"
   ]
  },
  {
   "cell_type": "code",
   "execution_count": 188,
   "id": "8bce6c7a",
   "metadata": {},
   "outputs": [
    {
     "data": {
      "text/plain": [
       "array([ 6., 15.])"
      ]
     },
     "execution_count": 188,
     "metadata": {},
     "output_type": "execute_result"
    }
   ],
   "source": [
    "x @ np.ones(3)"
   ]
  },
  {
   "cell_type": "markdown",
   "id": "a654abca",
   "metadata": {},
   "source": [
    "numpy.linalg has a standard set of matrix decompositions and things like inverse\n",
    "and determinant. These are implemented under the hood via the same industry standard linear algebra libraries used in other languages like MATLAB and R, such as\n",
    "BLAS, LAPACK, or possibly (depending on your NumPy build) the proprietary Intel\n",
    "MKL (Math Kernel Library):"
   ]
  },
  {
   "cell_type": "code",
   "execution_count": 189,
   "id": "4deaa8fe",
   "metadata": {},
   "outputs": [],
   "source": [
    "from numpy.linalg import inv, qr"
   ]
  },
  {
   "cell_type": "code",
   "execution_count": 190,
   "id": "6fb8ad08",
   "metadata": {},
   "outputs": [],
   "source": [
    "X = np.random.randn(5, 5)"
   ]
  },
  {
   "cell_type": "code",
   "execution_count": 191,
   "id": "95f84bf2",
   "metadata": {},
   "outputs": [],
   "source": [
    "mat = X.T.dot(X)"
   ]
  },
  {
   "cell_type": "code",
   "execution_count": 192,
   "id": "8d06a449",
   "metadata": {},
   "outputs": [
    {
     "data": {
      "text/plain": [
       "array([[ 7.61907511e+00, -4.21947543e+00,  2.39057588e+00,\n",
       "        -3.78434662e-03, -3.74547793e+00],\n",
       "       [-4.21947543e+00,  9.82462829e+00,  8.97143911e-01,\n",
       "         1.08193036e+00,  3.57990478e+00],\n",
       "       [ 2.39057588e+00,  8.97143911e-01,  2.20969122e+00,\n",
       "         3.21222970e-01, -9.45160462e-01],\n",
       "       [-3.78434662e-03,  1.08193036e+00,  3.21222970e-01,\n",
       "         2.90385590e-01,  1.58485456e-01],\n",
       "       [-3.74547793e+00,  3.57990478e+00, -9.45160462e-01,\n",
       "         1.58485456e-01,  2.28229671e+00]])"
      ]
     },
     "execution_count": 192,
     "metadata": {},
     "output_type": "execute_result"
    }
   ],
   "source": [
    "inv(mat)"
   ]
  },
  {
   "cell_type": "code",
   "execution_count": 193,
   "id": "0536ba7d",
   "metadata": {},
   "outputs": [
    {
     "data": {
      "text/plain": [
       "array([[ 1.00000000e+00,  3.73661635e-15, -1.41958121e-15,\n",
       "        -8.64865673e-17,  3.70444385e-15],\n",
       "       [-6.79932646e-16,  1.00000000e+00,  1.84683740e-16,\n",
       "         1.37753326e-16, -8.84036038e-16],\n",
       "       [-1.13598117e-15,  7.71103594e-16,  1.00000000e+00,\n",
       "        -5.80847899e-16,  1.39605144e-15],\n",
       "       [-1.11954085e-15, -4.25241890e-15, -1.01455147e-15,\n",
       "         1.00000000e+00,  9.89088501e-16],\n",
       "       [-6.94922548e-16,  3.94807787e-15, -9.53904279e-16,\n",
       "        -9.08657885e-17,  1.00000000e+00]])"
      ]
     },
     "execution_count": 193,
     "metadata": {},
     "output_type": "execute_result"
    }
   ],
   "source": [
    "mat.dot(inv(mat))"
   ]
  },
  {
   "cell_type": "code",
   "execution_count": 194,
   "id": "37309c83",
   "metadata": {},
   "outputs": [],
   "source": [
    " q, r = qr(mat)"
   ]
  },
  {
   "cell_type": "code",
   "execution_count": 195,
   "id": "4ee07b72",
   "metadata": {},
   "outputs": [
    {
     "data": {
      "text/plain": [
       "array([[ -4.63118459,   7.9426046 ,  -5.98794414, -11.88602069,\n",
       "        -22.09859517],\n",
       "       [  0.        ,  -2.7493226 ,   2.19003285,   7.61387585,\n",
       "          4.6137142 ],\n",
       "       [  0.        ,   0.        ,  -1.31100566,   4.10463887,\n",
       "         -0.89200966],\n",
       "       [  0.        ,   0.        ,   0.        ,  -1.05408889,\n",
       "          0.12760671],\n",
       "       [  0.        ,   0.        ,   0.        ,   0.        ,\n",
       "          0.17415249]])"
      ]
     },
     "execution_count": 195,
     "metadata": {},
     "output_type": "execute_result"
    }
   ],
   "source": [
    "r"
   ]
  },
  {
   "cell_type": "code",
   "execution_count": 196,
   "id": "3735ca8b",
   "metadata": {},
   "outputs": [],
   "source": [
    "# diag --> Return the diagonal (or off-diagonal) elements of a square matrix as a 1D array, or convert a 1D array into a square matrix with zeros on the off-diagonal\n",
    "# dot --> Matrix multiplication\n",
    "# trace --> Compute the sum of the diagonal elements\n",
    "# det --> Compute the matrix determinant\n",
    "# eig  --> Compute the eigenvalues and eigenvectors of a square matrix\n",
    "# inv --> Compute the inverse of a square matrix\n",
    "# pinv --> Compute the Moore-Penrose pseudo-inverse of a matrix\n",
    "# qr --> Compute the QR decomposition\n",
    "# svd --> Compute the singular value decomposition (SVD)\n",
    "# solve --> Solve the linear system Ax = b for x, where A is a square matrix\n",
    "# lstsq --> Compute the least-squares solution to Ax = b"
   ]
  },
  {
   "cell_type": "markdown",
   "id": "09b5913f",
   "metadata": {},
   "source": [
    "## 4.6 Pseudorandom Number Generation"
   ]
  },
  {
   "cell_type": "markdown",
   "id": "cf379518",
   "metadata": {},
   "source": [
    "The numpy.random module supplements the built-in Python random with functions\n",
    "for efficiently generating whole arrays of sample values from many kinds of probability distributions. For example, you can get a 4 × 4 array of samples from the standard\n",
    "normal distribution using normal:"
   ]
  },
  {
   "cell_type": "code",
   "execution_count": 197,
   "id": "df2a967e",
   "metadata": {},
   "outputs": [],
   "source": [
    "samples = np.random.normal(size=(4, 4))"
   ]
  },
  {
   "cell_type": "code",
   "execution_count": 198,
   "id": "80010c3d",
   "metadata": {},
   "outputs": [
    {
     "data": {
      "text/plain": [
       "array([[-2.52763097, -0.37411708, -0.27874646,  0.50925662],\n",
       "       [-1.66057591, -0.76806299,  0.03594135, -0.79818635],\n",
       "       [-1.1415831 , -0.33461433,  0.19302047,  0.37072906],\n",
       "       [ 0.46073499, -0.51677521, -0.71010223, -0.13327747]])"
      ]
     },
     "execution_count": 198,
     "metadata": {},
     "output_type": "execute_result"
    }
   ],
   "source": [
    "samples"
   ]
  },
  {
   "cell_type": "markdown",
   "id": "d381781d",
   "metadata": {},
   "source": [
    "Python’s built-in random module, by contrast, only samples one value at a time. As\n",
    "you can see from this benchmark, numpy.random is well over an order of magnitude\n",
    "faster for generating very large samples:"
   ]
  },
  {
   "cell_type": "code",
   "execution_count": 199,
   "id": "7101a638",
   "metadata": {},
   "outputs": [
    {
     "name": "stdout",
     "output_type": "stream",
     "text": [
      "752 ms ± 16.6 ms per loop (mean ± std. dev. of 7 runs, 1 loop each)\n"
     ]
    }
   ],
   "source": [
    "from random import normalvariate\n",
    "N = 1000000\n",
    "%timeit samples = [normalvariate(0, 1) for _ in range(N)]"
   ]
  },
  {
   "cell_type": "code",
   "execution_count": 201,
   "id": "2be966a4",
   "metadata": {},
   "outputs": [
    {
     "name": "stdout",
     "output_type": "stream",
     "text": [
      "23.6 ms ± 227 µs per loop (mean ± std. dev. of 7 runs, 10 loops each)\n"
     ]
    }
   ],
   "source": [
    "%timeit np.random.normal(size=N)"
   ]
  },
  {
   "cell_type": "markdown",
   "id": "f129fa40",
   "metadata": {},
   "source": [
    "We say that these are pseudorandom numbers because they are generated by an algorithm with deterministic behavior based on the seed of the random number generator. You can change NumPy’s random number generation seed using\n",
    "np.random.seed:"
   ]
  },
  {
   "cell_type": "code",
   "execution_count": 202,
   "id": "a31119b2",
   "metadata": {},
   "outputs": [],
   "source": [
    "np.random.seed(1234)"
   ]
  },
  {
   "cell_type": "markdown",
   "id": "f88d1565",
   "metadata": {},
   "source": [
    "The data generation functions in numpy.random use a global random seed. To avoid\n",
    "global state, you can use numpy.random.RandomState to create a random number\n",
    "generator isolated from others:"
   ]
  },
  {
   "cell_type": "code",
   "execution_count": 203,
   "id": "be02d42b",
   "metadata": {},
   "outputs": [
    {
     "data": {
      "text/plain": [
       "array([ 0.47143516, -1.19097569,  1.43270697, -0.3126519 , -0.72058873,\n",
       "        0.88716294,  0.85958841, -0.6365235 ,  0.01569637, -2.24268495])"
      ]
     },
     "execution_count": 203,
     "metadata": {},
     "output_type": "execute_result"
    }
   ],
   "source": [
    "rng = np.random.RandomState(1234)\n",
    "rng.randn(10)"
   ]
  },
  {
   "cell_type": "code",
   "execution_count": 204,
   "id": "09ff4f1c",
   "metadata": {},
   "outputs": [],
   "source": [
    "# seed --> Seed the random number generator\n",
    "# permutation --> Return a random permutation of a sequence, or return a permuted range\n",
    "# shuffle --> Randomly permute a sequence in-place\n",
    "# rand --> Draw samples from a uniform distribution\n",
    "# randint --> Draw random integers from a given low-to-high range\n",
    "# randn --> Draw samples from a normal distribution with mean 0 and standard deviation 1 (MATLAB-like interface)\n",
    "# binomial --> Draw samples from a binomial distribution\n",
    "# normal --> Draw samples from a normal (Gaussian) distribution\n",
    "# beta --> Draw samples from a beta distribution\n",
    "# chisquare --> Draw samples from a chi-square distribution\n",
    "# gamma --> Draw samples from a gamma distribution\n",
    "# uniform --> Draw samples from a uniform [0, 1) distribution"
   ]
  },
  {
   "cell_type": "markdown",
   "id": "dc9261e2",
   "metadata": {},
   "source": [
    "## 4.7 Example: Random Walks"
   ]
  },
  {
   "cell_type": "markdown",
   "id": "99ba8e15",
   "metadata": {},
   "source": [
    "The simulation of random walks provides an illustrative application of utilizing array\n",
    "operations. Let’s first consider a simple random walk starting at 0 with steps of 1 and\n",
    "–1 occurring with equal probability"
   ]
  },
  {
   "cell_type": "markdown",
   "id": "6d5f198b",
   "metadata": {},
   "source": [
    "Here is a pure Python way to implement a single random walk with 1,000 steps using\n",
    "the built-in random module:"
   ]
  },
  {
   "cell_type": "code",
   "execution_count": 206,
   "id": "52f361c9",
   "metadata": {},
   "outputs": [],
   "source": [
    "import random\n",
    "position = 0\n",
    "walk = [position]\n",
    "steps = 1000\n",
    "for i in range(steps):\n",
    "    step = 1 if random.randint(0, 1) else -1\n",
    "    position += step\n",
    "    walk.append(position)"
   ]
  },
  {
   "cell_type": "markdown",
   "id": "19a1931a",
   "metadata": {},
   "source": [
    "plot of the first 100 values on one of these random walks:"
   ]
  },
  {
   "cell_type": "code",
   "execution_count": 207,
   "id": "66584573",
   "metadata": {},
   "outputs": [
    {
     "data": {
      "text/plain": [
       "[<matplotlib.lines.Line2D at 0x2138fac8588>]"
      ]
     },
     "execution_count": 207,
     "metadata": {},
     "output_type": "execute_result"
    },
    {
     "data": {
      "image/png": "[encoded data removed]",
      "text/plain": [
       "<Figure size 432x288 with 1 Axes>"
      ]
     },
     "metadata": {
      "needs_background": "light"
     },
     "output_type": "display_data"
    }
   ],
   "source": [
    "plt.plot(walk[:100])"
   ]
  },
  {
   "cell_type": "markdown",
   "id": "ea8bbaab",
   "metadata": {},
   "source": [
    "You might make the observation that walk is simply the cumulative sum of the random steps and could be evaluated as an array expression. Thus, I use the np.random\n",
    "module to draw 1,000 coin flips at once, set these to 1 and –1, and compute the\n",
    "cumulative sum:"
   ]
  },
  {
   "cell_type": "code",
   "execution_count": 208,
   "id": "cb717a10",
   "metadata": {},
   "outputs": [],
   "source": [
    "nsteps = 1000\n",
    "draws = np.random.randint(0, 2, size=nsteps)\n",
    "steps = np.where(draws > 0, 1, -1)\n",
    "walk = steps.cumsum()"
   ]
  },
  {
   "cell_type": "markdown",
   "id": "9b4df71f",
   "metadata": {},
   "source": [
    "From this we can begin to extract statistics like the minimum and maximum value\n",
    "along the walk’s trajectory"
   ]
  },
  {
   "cell_type": "code",
   "execution_count": 209,
   "id": "43189442",
   "metadata": {},
   "outputs": [
    {
     "data": {
      "text/plain": [
       "-9"
      ]
     },
     "execution_count": 209,
     "metadata": {},
     "output_type": "execute_result"
    }
   ],
   "source": [
    "walk.min()"
   ]
  },
  {
   "cell_type": "code",
   "execution_count": 210,
   "id": "10d543fa",
   "metadata": {},
   "outputs": [
    {
     "data": {
      "text/plain": [
       "60"
      ]
     },
     "execution_count": 210,
     "metadata": {},
     "output_type": "execute_result"
    }
   ],
   "source": [
    "walk.max()"
   ]
  },
  {
   "cell_type": "markdown",
   "id": "e56e7965",
   "metadata": {},
   "source": [
    "A more complicated statistic is the first crossing time, the step at which the random\n",
    "walk reaches a particular value. Here we might want to know how long it took the\n",
    "random walk to get at least 10 steps away from the origin 0 in either direction.\n",
    "np.abs(walk) >= 10 gives us a boolean array indicating where the walk has reached\n",
    "or exceeded 10, but we want the index of the first 10 or –10. Turns out, we can com‐\n",
    "pute this using argmax, which returns the first index of the maximum value in the\n",
    "boolean array (True is the maximum value):"
   ]
  },
  {
   "cell_type": "code",
   "execution_count": 211,
   "id": "48b564bc",
   "metadata": {},
   "outputs": [
    {
     "data": {
      "text/plain": [
       "297"
      ]
     },
     "execution_count": 211,
     "metadata": {},
     "output_type": "execute_result"
    }
   ],
   "source": [
    "(np.abs(walk) >= 10).argmax()"
   ]
  },
  {
   "cell_type": "markdown",
   "id": "d602bba6",
   "metadata": {},
   "source": [
    "Note that using argmax here is not always efficient because it always makes a full scan\n",
    "of the array. In this special case, once a True is observed we know it to be the maximum value"
   ]
  },
  {
   "cell_type": "markdown",
   "id": "618a18fc",
   "metadata": {},
   "source": [
    "### Simulating Many Random Walks at Once"
   ]
  },
  {
   "cell_type": "markdown",
   "id": "b60df08c",
   "metadata": {},
   "source": [
    "If your goal was to simulate many random walks, say 5,000 of them, you can generate\n",
    "all of the random walks with minor modifications to the preceding code. If passed a\n",
    "2-tuple, the numpy.random functions will generate a two-dimensional array of draws,\n",
    "and we can compute the cumulative sum across the rows to compute all 5,000 random walks in one shot:"
   ]
  },
  {
   "cell_type": "code",
   "execution_count": 212,
   "id": "55323e25",
   "metadata": {},
   "outputs": [
    {
     "data": {
      "text/plain": [
       "array([[  1,   2,   3, ...,  46,  47,  46],\n",
       "       [  1,   0,   1, ...,  40,  41,  42],\n",
       "       [  1,   2,   3, ..., -26, -27, -28],\n",
       "       ...,\n",
       "       [  1,   0,   1, ...,  64,  65,  66],\n",
       "       [  1,   2,   1, ...,   2,   1,   0],\n",
       "       [ -1,  -2,  -3, ...,  32,  33,  34]], dtype=int32)"
      ]
     },
     "execution_count": 212,
     "metadata": {},
     "output_type": "execute_result"
    }
   ],
   "source": [
    "nwalks = 5000\n",
    "nsteps = 1000\n",
    "draws = np.random.randint(0, 2, size=(nwalks, nsteps)) # 0 or 1\n",
    "steps = np.where(draws > 0, 1, -1)\n",
    "walks = steps.cumsum(1)\n",
    "walks"
   ]
  },
  {
   "cell_type": "markdown",
   "id": "cf8b9d0a",
   "metadata": {},
   "source": [
    "Now, we can compute the maximum and minimum values obtained over all of the\n",
    "walks:"
   ]
  },
  {
   "cell_type": "code",
   "execution_count": 213,
   "id": "c9b1e5dd",
   "metadata": {},
   "outputs": [
    {
     "data": {
      "text/plain": [
       "122"
      ]
     },
     "execution_count": 213,
     "metadata": {},
     "output_type": "execute_result"
    }
   ],
   "source": [
    "walks.max()"
   ]
  },
  {
   "cell_type": "code",
   "execution_count": 214,
   "id": "8132d600",
   "metadata": {},
   "outputs": [
    {
     "data": {
      "text/plain": [
       "-128"
      ]
     },
     "execution_count": 214,
     "metadata": {},
     "output_type": "execute_result"
    }
   ],
   "source": [
    "walks.min()\n"
   ]
  },
  {
   "cell_type": "markdown",
   "id": "7c705418",
   "metadata": {},
   "source": [
    "Out of these walks, let’s compute the minimum crossing time to 30 or –30. This is\n",
    "slightly tricky because not all 5,000 of them reach 30. We can check this using the any\n",
    "method:"
   ]
  },
  {
   "cell_type": "code",
   "execution_count": 215,
   "id": "03f342d2",
   "metadata": {},
   "outputs": [
    {
     "data": {
      "text/plain": [
       "array([ True,  True,  True, ...,  True, False,  True])"
      ]
     },
     "execution_count": 215,
     "metadata": {},
     "output_type": "execute_result"
    }
   ],
   "source": [
    "hits30 = (np.abs(walks) >= 30).any(1)\n",
    "hits30"
   ]
  },
  {
   "cell_type": "code",
   "execution_count": 216,
   "id": "b187f26a",
   "metadata": {},
   "outputs": [
    {
     "data": {
      "text/plain": [
       "3368"
      ]
     },
     "execution_count": 216,
     "metadata": {},
     "output_type": "execute_result"
    }
   ],
   "source": [
    "hits30.sum() # Number that hit 30 or -30"
   ]
  },
  {
   "cell_type": "markdown",
   "id": "fdd9836a",
   "metadata": {},
   "source": [
    "We can use this boolean array to select out the rows of walks that actually cross the\n",
    "absolute 30 level and call argmax across axis 1 to get the crossing times:"
   ]
  },
  {
   "cell_type": "code",
   "execution_count": 217,
   "id": "95b640f3",
   "metadata": {},
   "outputs": [
    {
     "data": {
      "text/plain": [
       "509.99762470308787"
      ]
     },
     "execution_count": 217,
     "metadata": {},
     "output_type": "execute_result"
    }
   ],
   "source": [
    "crossing_times = (np.abs(walks[hits30]) >= 30).argmax(1)\n",
    "crossing_times.mean()"
   ]
  },
  {
   "cell_type": "markdown",
   "id": "a86acd7d",
   "metadata": {},
   "source": [
    "Feel free to experiment with other distributions for the steps other than equal-sized\n",
    "coin flips. You need only use a different random number generation function, like\n",
    "normal to generate normally distributed steps with some mean and standard\n",
    "deviation:"
   ]
  },
  {
   "cell_type": "code",
   "execution_count": 218,
   "id": "7e181727",
   "metadata": {},
   "outputs": [],
   "source": [
    "steps = np.random.normal(loc=0, scale=0.25,size=(nwalks, nsteps))"
   ]
  },
  {
   "cell_type": "code",
   "execution_count": null,
   "id": "1a21d840",
   "metadata": {},
   "outputs": [],
   "source": []
  }
 ],
 "metadata": {
  "kernelspec": {
   "display_name": "Python 3 (ipykernel)",
   "language": "python",
   "name": "python3"
  },
  "language_info": {
   "codemirror_mode": {
    "name": "ipython",
    "version": 3
   },
   "file_extension": ".py",
   "mimetype": "text/x-python",
   "name": "python",
   "nbconvert_exporter": "python",
   "pygments_lexer": "ipython3",
   "version": "3.9.18"
  }
 },
 "nbformat": 4,
 "nbformat_minor": 5
}
