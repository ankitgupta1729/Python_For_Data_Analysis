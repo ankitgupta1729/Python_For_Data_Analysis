{
 "cells": [
  {
   "cell_type": "markdown",
   "id": "dc2e5d98",
   "metadata": {},
   "source": [
    "In Chapter 2 we looked at the basics of using the IPython shell and Jupyter notebook.\n",
    "In this chapter, we explore some deeper functionality in the IPython system that can\n",
    "either be used from the console or within Jupyter."
   ]
  },
  {
   "cell_type": "markdown",
   "id": "f569ed31",
   "metadata": {},
   "source": [
    "## B.1 Using the Command History\n"
   ]
  },
  {
   "cell_type": "markdown",
   "id": "133b2df3",
   "metadata": {},
   "source": [
    "IPython maintains a small on-disk database containing the text of each command\n",
    "that you execute. This serves various purposes:\n",
    "   \n",
    "     \n",
    "• Searching, completing, and executing previously executed commands with mini‐\n",
    "mal typing\n",
    "  \n",
    "   \n",
    "• Persisting the command history between sessions\n",
    "  \n",
    "    \n",
    "• Logging the input/output history to a file\n",
    "These features are more useful in the shell than in the notebook, since the notebook\n",
    "by design keeps a log of the input and output in each code cell."
   ]
  },
  {
   "cell_type": "markdown",
   "id": "edcd690e",
   "metadata": {},
   "source": [
    "## Searching and Reusing the Command History"
   ]
  },
  {
   "cell_type": "markdown",
   "id": "efd17656",
   "metadata": {},
   "source": [
    "The IPython shell lets you search and execute previous code or other commands.\n",
    "This is useful, as you may often find yourself repeating the same commands, such as a\n",
    "%run command or some other code snippet. Suppose you had run:"
   ]
  },
  {
   "cell_type": "code",
   "execution_count": 1,
   "id": "a6916267",
   "metadata": {},
   "outputs": [],
   "source": [
    "#  %run first/second/third/data_script.py"
   ]
  },
  {
   "cell_type": "markdown",
   "id": "78af3d77",
   "metadata": {},
   "source": [
    "and then explored the results of the script (assuming it ran successfully) only to find\n",
    "that you made an incorrect calculation. After figuring out the problem and modifying\n",
    "data_script.py, you can start typing a few letters of the %run command and then press\n",
    "either the Ctrl-P key combination or the up arrow key. This will search the command history for the first prior command matching the letters you typed. Pressing either\n",
    "Ctrl-P or the up arrow key multiple times will continue to search through the history.\n",
    "If you pass over the command you wish to execute, fear not. You can move forward\n",
    "through the command history by pressing either Ctrl-N or the down arrow key. After\n",
    "doing this a few times, you may start pressing these keys without thinking!\n"
   ]
  },
  {
   "cell_type": "markdown",
   "id": "0ee90f97",
   "metadata": {},
   "source": [
    "Using Ctrl-R gives you the same partial incremental searching capability provided by\n",
    "the readline used in Unix-style shells, such as the bash shell. On Windows, readline\n",
    "functionality is emulated by IPython. To use this, press Ctrl-R and then type a few\n",
    "characters contained in the input line you want to search for:\n"
   ]
  },
  {
   "cell_type": "code",
   "execution_count": 2,
   "id": "fb5e8542",
   "metadata": {},
   "outputs": [],
   "source": [
    "#  a_command = foo(x, y, z)"
   ]
  },
  {
   "cell_type": "markdown",
   "id": "e8048e10",
   "metadata": {},
   "source": [
    "Pressing Ctrl-R will cycle through the history for each line matching the characters\n",
    "you’ve typed."
   ]
  },
  {
   "cell_type": "markdown",
   "id": "138be2ac",
   "metadata": {},
   "source": [
    "## Input and Output Variables"
   ]
  },
  {
   "cell_type": "markdown",
   "id": "9fc8fc0f",
   "metadata": {},
   "source": [
    "Forgetting to assign the result of a function call to a variable can be very annoying.\n",
    "An IPython session stores references to both the input commands and output Python\n",
    "objects in special variables. The previous two outputs are stored in the _ (one under‐\n",
    "score) and __ (two underscores) variables, respectively:"
   ]
  },
  {
   "cell_type": "code",
   "execution_count": 3,
   "id": "2daf3338",
   "metadata": {},
   "outputs": [
    {
     "data": {
      "text/plain": [
       "134217728"
      ]
     },
     "execution_count": 3,
     "metadata": {},
     "output_type": "execute_result"
    }
   ],
   "source": [
    "2 ** 27"
   ]
  },
  {
   "cell_type": "code",
   "execution_count": 4,
   "id": "62e17d62",
   "metadata": {},
   "outputs": [
    {
     "data": {
      "text/plain": [
       "134217728"
      ]
     },
     "execution_count": 4,
     "metadata": {},
     "output_type": "execute_result"
    }
   ],
   "source": [
    "_"
   ]
  },
  {
   "cell_type": "code",
   "execution_count": 5,
   "id": "dab687f6",
   "metadata": {},
   "outputs": [
    {
     "data": {
      "text/plain": [
       "134217728"
      ]
     },
     "execution_count": 5,
     "metadata": {},
     "output_type": "execute_result"
    }
   ],
   "source": [
    "__"
   ]
  },
  {
   "cell_type": "markdown",
   "id": "ea046aa5",
   "metadata": {},
   "source": [
    "Input variables are stored in variables named like _iX, where X is the input line num‐\n",
    "ber. For each input variable there is a corresponding output variable _X. So after input\n",
    "line 27, say, there will be two new variables _27 (for the output) and _i27 for the\n",
    "input:\n"
   ]
  },
  {
   "cell_type": "code",
   "execution_count": 6,
   "id": "12731f6b",
   "metadata": {},
   "outputs": [
    {
     "data": {
      "text/plain": [
       "134217728"
      ]
     },
     "execution_count": 6,
     "metadata": {},
     "output_type": "execute_result"
    }
   ],
   "source": [
    "_3"
   ]
  },
  {
   "cell_type": "code",
   "execution_count": 7,
   "id": "7d6652f4",
   "metadata": {},
   "outputs": [
    {
     "data": {
      "text/plain": [
       "'2 ** 27'"
      ]
     },
     "execution_count": 7,
     "metadata": {},
     "output_type": "execute_result"
    }
   ],
   "source": [
    "_i3"
   ]
  },
  {
   "cell_type": "code",
   "execution_count": 8,
   "id": "1e7c7140",
   "metadata": {},
   "outputs": [],
   "source": [
    "foo = 'bar'\n"
   ]
  },
  {
   "cell_type": "code",
   "execution_count": 9,
   "id": "7acff73a",
   "metadata": {},
   "outputs": [
    {
     "data": {
      "text/plain": [
       "'bar'"
      ]
     },
     "execution_count": 9,
     "metadata": {},
     "output_type": "execute_result"
    }
   ],
   "source": [
    "foo"
   ]
  },
  {
   "cell_type": "code",
   "execution_count": 10,
   "id": "936f9f01",
   "metadata": {},
   "outputs": [
    {
     "data": {
      "text/plain": [
       "\"foo = 'bar'\""
      ]
     },
     "execution_count": 10,
     "metadata": {},
     "output_type": "execute_result"
    }
   ],
   "source": [
    "_i8"
   ]
  },
  {
   "cell_type": "code",
   "execution_count": 11,
   "id": "66b9eb95",
   "metadata": {},
   "outputs": [
    {
     "data": {
      "text/plain": [
       "'foo'"
      ]
     },
     "execution_count": 11,
     "metadata": {},
     "output_type": "execute_result"
    }
   ],
   "source": [
    "_i9"
   ]
  },
  {
   "cell_type": "code",
   "execution_count": 12,
   "id": "65583223",
   "metadata": {},
   "outputs": [
    {
     "data": {
      "text/plain": [
       "'bar'"
      ]
     },
     "execution_count": 12,
     "metadata": {},
     "output_type": "execute_result"
    }
   ],
   "source": [
    "_9"
   ]
  },
  {
   "cell_type": "markdown",
   "id": "098e5540",
   "metadata": {},
   "source": [
    "Since the input variables are strings they can be executed again with the Python exec\n",
    "keyword:\n"
   ]
  },
  {
   "cell_type": "code",
   "execution_count": 13,
   "id": "f8bcc251",
   "metadata": {},
   "outputs": [],
   "source": [
    "exec(_i9)"
   ]
  },
  {
   "cell_type": "markdown",
   "id": "b1aa9140",
   "metadata": {},
   "source": [
    "Several magic functions allow you to work with the input and output history. %hist is\n",
    "capable of printing all or part of the input history, with or without line numbers.\n",
    "%reset is for clearing the interactive namespace and optionally the input and output\n",
    "caches. The %xdel magic function is intended for removing all references to a particu‐\n",
    "lar object from the IPython machinery. See the documentation for both of these mag‐\n",
    "ics for more details."
   ]
  },
  {
   "cell_type": "code",
   "execution_count": 14,
   "id": "9ec5caa8",
   "metadata": {},
   "outputs": [
    {
     "name": "stdout",
     "output_type": "stream",
     "text": [
      "#  %run first/second/third/data_script.py\n",
      "#  a_command = foo(x, y, z)\n",
      "2 ** 27\n",
      "_\n",
      "__\n",
      "_3\n",
      "_i3\n",
      "foo = 'bar'\n",
      "foo\n",
      "_i8\n",
      "_i9\n",
      "_9\n",
      "exec(_i9)\n",
      "%hist\n"
     ]
    }
   ],
   "source": [
    "%hist"
   ]
  },
  {
   "cell_type": "markdown",
   "id": "acc9d940",
   "metadata": {},
   "source": [
    "When working with very large datasets, keep in mind that IPy‐\n",
    "thon’s input and output history causes any object referenced there\n",
    "to not be garbage-collected (freeing up the memory), even if you\n",
    "delete the variables from the interactive namespace using the del\n",
    "keyword. In such cases, careful usage of %xdel and %reset can help\n",
    "you avoid running into memory problems."
   ]
  },
  {
   "cell_type": "markdown",
   "id": "249a69d6",
   "metadata": {},
   "source": [
    "## B.2 Interacting with the Operating System"
   ]
  },
  {
   "cell_type": "markdown",
   "id": "192fd70b",
   "metadata": {},
   "source": [
    "Another feature of IPython is that it allows you to seamlessly access the filesystem\n",
    "and operating system shell. This means, among other things, that you can perform\n",
    "most standard command-line actions as you would in the Windows or Unix (Linux,\n",
    "macOS) shell without having to exit IPython. This includes shell commands, chang‐\n",
    "ing directories, and storing the results of a command in a Python object (list or\n",
    "string). There are also simple command aliasing and directory bookmarking features.\n",
    "  \n",
    "     \n",
    "         \n",
    "See Table B-1 for a summary of magic functions and syntax for calling shell com‐\n",
    "mands. I’ll briefly visit these features in the next few sections"
   ]
  },
  {
   "cell_type": "markdown",
   "id": "d616872e",
   "metadata": {},
   "source": [
    "Table B-1. IPython system-related commands\n",
    "-----------------------------------------------------------------\n",
    "\n",
    "Command --> Description\n",
    "  \n",
    "   \n",
    "!cmd --> Execute cmd in the system shell\n",
    "  \n",
    "    \n",
    "output = !cmd args --> Run cmd and store the stdout in output\n",
    "    \n",
    "    \n",
    "%alias --> alias_name cmd Define an alias for a system (shell) command\n",
    "  \n",
    "   \n",
    "%bookmark --> Utilize IPython’s directory bookmarking system\n",
    "  \n",
    "    \n",
    "%cd --> directory Change system working directory to passed directory\n",
    "  \n",
    "    \n",
    "%pwd --> Return the current system working directory\n",
    "  \n",
    "    \n",
    "%pushd --> directory Place current directory on stack and change to target directory\n",
    "  \n",
    "    \n",
    "%popd --> Change to directory popped off the top of the stack\n",
    "  \n",
    "    \n",
    "%dirs --> Return a list containing the current directory stack\n",
    " \n",
    "   \n",
    "%dhist --> Print the history of visited directories\n",
    "  \n",
    "    \n",
    "%env --> Return the system environment variables as a dict\n",
    "\n",
    "    \n",
    "     \n",
    "%matplotlib --> Configure matplotlib integration options"
   ]
  },
  {
   "cell_type": "markdown",
   "id": "8971c9bd",
   "metadata": {},
   "source": [
    "## Shell Commands and Aliases"
   ]
  },
  {
   "cell_type": "markdown",
   "id": "daff364e",
   "metadata": {},
   "source": [
    "Starting a line in IPython with an exclamation point !, or bang, tells IPython to exe‐\n",
    "cute everything after the bang in the system shell. This means that you can delete files\n",
    "(using rm or del, depending on your OS), change directories, or execute any other\n",
    "process."
   ]
  },
  {
   "cell_type": "markdown",
   "id": "23729d79",
   "metadata": {},
   "source": [
    "You can store the console output of a shell command in a variable by assigning the\n",
    "expression escaped with ! to a variable. For example, on my Linux-based machine\n",
    "connected to the internet via ethernet, I can get my IP address as a Python variable:"
   ]
  },
  {
   "cell_type": "code",
   "execution_count": 23,
   "id": "4f008628",
   "metadata": {},
   "outputs": [],
   "source": [
    "ip_info = !ipconfig"
   ]
  },
  {
   "cell_type": "code",
   "execution_count": 34,
   "id": "131bcae0",
   "metadata": {},
   "outputs": [
    {
     "data": {
      "text/plain": [
       "'Link-local IPv6 Address . . . . . : fe80::de68:b8cf:e26f:b43c%42'"
      ]
     },
     "execution_count": 34,
     "metadata": {},
     "output_type": "execute_result"
    }
   ],
   "source": [
    "ip_info[12].strip()"
   ]
  },
  {
   "cell_type": "code",
   "execution_count": 35,
   "id": "ebdbdbe0",
   "metadata": {},
   "outputs": [],
   "source": [
    "# ip_info = !ifconfig wlan0 | grep \"inet \"\n",
    "# In [2]: ip_info[0].strip()"
   ]
  },
  {
   "cell_type": "markdown",
   "id": "669d3e0d",
   "metadata": {},
   "source": [
    "The returned Python object ip_info is actually a custom list type containing various\n",
    "versions of the console output."
   ]
  },
  {
   "cell_type": "markdown",
   "id": "4a6f9af4",
   "metadata": {},
   "source": [
    "IPython can also substitute in Python values defined in the current environment\n",
    "when using !. To do this, preface the variable name by the dollar sign $:\n"
   ]
  },
  {
   "cell_type": "code",
   "execution_count": 38,
   "id": "ec1d86ec",
   "metadata": {},
   "outputs": [
    {
     "name": "stderr",
     "output_type": "stream",
     "text": [
      "'ls' is not recognized as an internal or external command,\n",
      "operable program or batch file.\n"
     ]
    }
   ],
   "source": [
    "foo = 'test*'\n",
    "!ls $foo"
   ]
  },
  {
   "cell_type": "markdown",
   "id": "32c49c5e",
   "metadata": {},
   "source": [
    "The %alias magic function can define custom shortcuts for shell commands. As a\n",
    "simple example:\n"
   ]
  },
  {
   "cell_type": "code",
   "execution_count": 39,
   "id": "73ff62af",
   "metadata": {},
   "outputs": [
    {
     "ename": "NameError",
     "evalue": "name 'll' is not defined",
     "output_type": "error",
     "traceback": [
      "\u001b[1;31m---------------------------------------------------------------------------\u001b[0m",
      "\u001b[1;31mNameError\u001b[0m                                 Traceback (most recent call last)",
      "\u001b[1;32m<ipython-input-39-2f1c784977b9>\u001b[0m in \u001b[0;36m<module>\u001b[1;34m\u001b[0m\n\u001b[0;32m      1\u001b[0m \u001b[0mget_ipython\u001b[0m\u001b[1;33m(\u001b[0m\u001b[1;33m)\u001b[0m\u001b[1;33m.\u001b[0m\u001b[0mrun_line_magic\u001b[0m\u001b[1;33m(\u001b[0m\u001b[1;34m'alias'\u001b[0m\u001b[1;33m,\u001b[0m \u001b[1;34m'll ls -l'\u001b[0m\u001b[1;33m)\u001b[0m\u001b[1;33m\u001b[0m\u001b[1;33m\u001b[0m\u001b[0m\n\u001b[1;32m----> 2\u001b[1;33m \u001b[0mll\u001b[0m \u001b[1;33m/\u001b[0m\u001b[0musr\u001b[0m\u001b[1;33m\u001b[0m\u001b[1;33m\u001b[0m\u001b[0m\n\u001b[0m",
      "\u001b[1;31mNameError\u001b[0m: name 'll' is not defined"
     ]
    }
   ],
   "source": [
    "%alias ll ls -l\n",
    "ll /usr"
   ]
  },
  {
   "cell_type": "markdown",
   "id": "633b03e6",
   "metadata": {},
   "source": [
    "You can execute multiple commands just as on the command line by separating them\n",
    "with semicolons:"
   ]
  },
  {
   "cell_type": "code",
   "execution_count": 40,
   "id": "a516a4fe",
   "metadata": {},
   "outputs": [],
   "source": [
    "%alias test_alias (cd examples; ls; cd ..)"
   ]
  },
  {
   "cell_type": "code",
   "execution_count": 41,
   "id": "939c1118",
   "metadata": {},
   "outputs": [
    {
     "name": "stderr",
     "output_type": "stream",
     "text": [
      "The system cannot find the path specified.\n"
     ]
    }
   ],
   "source": [
    "test_alias"
   ]
  },
  {
   "cell_type": "markdown",
   "id": "9c6b1ad5",
   "metadata": {},
   "source": [
    "You’ll notice that IPython “forgets” any aliases you define interactively as soon as the\n",
    "session is closed. To create permanent aliases, you will need to use the configuration\n",
    "system."
   ]
  },
  {
   "cell_type": "markdown",
   "id": "342dd8e5",
   "metadata": {},
   "source": [
    "## Directory Bookmark System\n"
   ]
  },
  {
   "cell_type": "markdown",
   "id": "e221d97b",
   "metadata": {},
   "source": [
    "IPython has a simple directory bookmarking system to enable you to save aliases for\n",
    "common directories so that you can jump around very easily. For example, suppose\n",
    "you wanted to create a bookmark that points to the supplementary materials for this\n",
    "book:"
   ]
  },
  {
   "cell_type": "code",
   "execution_count": 42,
   "id": "4515e4b4",
   "metadata": {},
   "outputs": [],
   "source": [
    "%bookmark py4da /home/wesm/code/pydata-book"
   ]
  },
  {
   "cell_type": "markdown",
   "id": "c2bbe2d9",
   "metadata": {},
   "source": [
    "Once you’ve done this, when we use the %cd magic, we can use any bookmarks we’ve\n",
    "defined:"
   ]
  },
  {
   "cell_type": "code",
   "execution_count": 43,
   "id": "b2ada286",
   "metadata": {},
   "outputs": [
    {
     "name": "stdout",
     "output_type": "stream",
     "text": [
      "(bookmark:py4da) -> /home/wesm/code/pydata-book\n",
      "[WinError 3] The system cannot find the path specified: '/home/wesm/code/pydata-book'\n",
      "C:\\Users\\ankit19.gupta\\OneDrive - Reliance Corporate IT Park Limited\\Desktop\\Practice_Code\\Python_Practice\\Python_For_Data_Analysis\n"
     ]
    }
   ],
   "source": [
    "cd py4da"
   ]
  },
  {
   "cell_type": "markdown",
   "id": "afa0fd25",
   "metadata": {},
   "source": [
    "If a bookmark name conflicts with a directory name in your current working direc‐\n",
    "tory, you can use the -b flag to override and use the bookmark location. Using the -l\n",
    "option with %bookmark lists all of your bookmarks:\n"
   ]
  },
  {
   "cell_type": "code",
   "execution_count": 44,
   "id": "b492a00b",
   "metadata": {},
   "outputs": [
    {
     "name": "stdout",
     "output_type": "stream",
     "text": [
      "Current bookmarks:\n",
      "py4da -> /home/wesm/code/pydata-book\n"
     ]
    }
   ],
   "source": [
    "%bookmark -l"
   ]
  },
  {
   "cell_type": "markdown",
   "id": "a6d72856",
   "metadata": {},
   "source": [
    "Bookmarks, unlike aliases, are automatically persisted between IPython sessions."
   ]
  },
  {
   "cell_type": "markdown",
   "id": "863c0300",
   "metadata": {},
   "source": [
    "## B.3 Software Development Tools"
   ]
  },
  {
   "cell_type": "markdown",
   "id": "415a89ee",
   "metadata": {},
   "source": [
    "In addition to being a comfortable environment for interactive computing and data\n",
    "exploration, IPython can also be a useful companion for general Python software\n",
    "development. In data analysis applications, it’s important first to have correct code.\n",
    "Fortunately, IPython has closely integrated and enhanced the built-in Python pdb\n",
    "debugger. Secondly you want your code to be fast. For this IPython has easy-to-use\n",
    "code timing and profiling tools. I will give an overview of these tools in detail here."
   ]
  },
  {
   "cell_type": "markdown",
   "id": "4bcfa740",
   "metadata": {},
   "source": [
    "## Interactive Debugger"
   ]
  },
  {
   "cell_type": "markdown",
   "id": "2c621e04",
   "metadata": {},
   "source": [
    "IPython’s debugger enhances pdb with tab completion, syntax highlighting, and con‐\n",
    "text for each line in exception tracebacks. One of the best times to debug code is right\n",
    "after an error has occurred. The %debug command, when entered immediately after\n",
    "an exception, invokes the “post-mortem” debugger and drops you into the stack\n",
    "frame where the exception was raised:"
   ]
  },
  {
   "cell_type": "code",
   "execution_count": 45,
   "id": "5417221c",
   "metadata": {},
   "outputs": [
    {
     "ename": "Exception",
     "evalue": "File `'examples/ipython_bug.py'` not found.",
     "output_type": "error",
     "traceback": [
      "\u001b[1;31m---------------------------------------------------------------------------\u001b[0m",
      "\u001b[1;31mOSError\u001b[0m                                   Traceback (most recent call last)",
      "\u001b[1;32m~\\OneDrive - Reliance Corporate IT Park Limited\\Desktop\\Practice_Code\\Python_Practice\\Python_For_Data_Analysis\\myenv\\lib\\site-packages\\IPython\\core\\magics\\execution.py\u001b[0m in \u001b[0;36mrun\u001b[1;34m(self, parameter_s, runner, file_finder)\u001b[0m\n\u001b[0;32m    696\u001b[0m             \u001b[0mfpath\u001b[0m \u001b[1;33m=\u001b[0m \u001b[0marg_lst\u001b[0m\u001b[1;33m[\u001b[0m\u001b[1;36m0\u001b[0m\u001b[1;33m]\u001b[0m\u001b[1;33m\u001b[0m\u001b[1;33m\u001b[0m\u001b[0m\n\u001b[1;32m--> 697\u001b[1;33m             \u001b[0mfilename\u001b[0m \u001b[1;33m=\u001b[0m \u001b[0mfile_finder\u001b[0m\u001b[1;33m(\u001b[0m\u001b[0mfpath\u001b[0m\u001b[1;33m)\u001b[0m\u001b[1;33m\u001b[0m\u001b[1;33m\u001b[0m\u001b[0m\n\u001b[0m\u001b[0;32m    698\u001b[0m         \u001b[1;32mexcept\u001b[0m \u001b[0mIndexError\u001b[0m\u001b[1;33m:\u001b[0m\u001b[1;33m\u001b[0m\u001b[1;33m\u001b[0m\u001b[0m\n",
      "\u001b[1;32m~\\OneDrive - Reliance Corporate IT Park Limited\\Desktop\\Practice_Code\\Python_Practice\\Python_For_Data_Analysis\\myenv\\lib\\site-packages\\IPython\\utils\\path.py\u001b[0m in \u001b[0;36mget_py_filename\u001b[1;34m(name, force_win32)\u001b[0m\n\u001b[0;32m    108\u001b[0m     \u001b[1;32melse\u001b[0m\u001b[1;33m:\u001b[0m\u001b[1;33m\u001b[0m\u001b[1;33m\u001b[0m\u001b[0m\n\u001b[1;32m--> 109\u001b[1;33m         \u001b[1;32mraise\u001b[0m \u001b[0mIOError\u001b[0m\u001b[1;33m(\u001b[0m\u001b[1;34m'File `%r` not found.'\u001b[0m \u001b[1;33m%\u001b[0m \u001b[0mname\u001b[0m\u001b[1;33m)\u001b[0m\u001b[1;33m\u001b[0m\u001b[1;33m\u001b[0m\u001b[0m\n\u001b[0m\u001b[0;32m    110\u001b[0m \u001b[1;33m\u001b[0m\u001b[0m\n",
      "\u001b[1;31mOSError\u001b[0m: File `'examples/ipython_bug.py'` not found.",
      "\nDuring handling of the above exception, another exception occurred:\n",
      "\u001b[1;31mException\u001b[0m                                 Traceback (most recent call last)",
      "\u001b[1;32m<ipython-input-45-ac2d87c3d5c0>\u001b[0m in \u001b[0;36m<module>\u001b[1;34m\u001b[0m\n\u001b[1;32m----> 1\u001b[1;33m \u001b[0mget_ipython\u001b[0m\u001b[1;33m(\u001b[0m\u001b[1;33m)\u001b[0m\u001b[1;33m.\u001b[0m\u001b[0mrun_line_magic\u001b[0m\u001b[1;33m(\u001b[0m\u001b[1;34m'run'\u001b[0m\u001b[1;33m,\u001b[0m \u001b[1;34m'examples/ipython_bug.py'\u001b[0m\u001b[1;33m)\u001b[0m\u001b[1;33m\u001b[0m\u001b[1;33m\u001b[0m\u001b[0m\n\u001b[0m",
      "\u001b[1;32m~\\OneDrive - Reliance Corporate IT Park Limited\\Desktop\\Practice_Code\\Python_Practice\\Python_For_Data_Analysis\\myenv\\lib\\site-packages\\IPython\\core\\interactiveshell.py\u001b[0m in \u001b[0;36mrun_line_magic\u001b[1;34m(self, magic_name, line, _stack_depth)\u001b[0m\n\u001b[0;32m   2324\u001b[0m                 \u001b[0mkwargs\u001b[0m\u001b[1;33m[\u001b[0m\u001b[1;34m'local_ns'\u001b[0m\u001b[1;33m]\u001b[0m \u001b[1;33m=\u001b[0m \u001b[0msys\u001b[0m\u001b[1;33m.\u001b[0m\u001b[0m_getframe\u001b[0m\u001b[1;33m(\u001b[0m\u001b[0mstack_depth\u001b[0m\u001b[1;33m)\u001b[0m\u001b[1;33m.\u001b[0m\u001b[0mf_locals\u001b[0m\u001b[1;33m\u001b[0m\u001b[1;33m\u001b[0m\u001b[0m\n\u001b[0;32m   2325\u001b[0m             \u001b[1;32mwith\u001b[0m \u001b[0mself\u001b[0m\u001b[1;33m.\u001b[0m\u001b[0mbuiltin_trap\u001b[0m\u001b[1;33m:\u001b[0m\u001b[1;33m\u001b[0m\u001b[1;33m\u001b[0m\u001b[0m\n\u001b[1;32m-> 2326\u001b[1;33m                 \u001b[0mresult\u001b[0m \u001b[1;33m=\u001b[0m \u001b[0mfn\u001b[0m\u001b[1;33m(\u001b[0m\u001b[1;33m*\u001b[0m\u001b[0margs\u001b[0m\u001b[1;33m,\u001b[0m \u001b[1;33m**\u001b[0m\u001b[0mkwargs\u001b[0m\u001b[1;33m)\u001b[0m\u001b[1;33m\u001b[0m\u001b[1;33m\u001b[0m\u001b[0m\n\u001b[0m\u001b[0;32m   2327\u001b[0m             \u001b[1;32mreturn\u001b[0m \u001b[0mresult\u001b[0m\u001b[1;33m\u001b[0m\u001b[1;33m\u001b[0m\u001b[0m\n\u001b[0;32m   2328\u001b[0m \u001b[1;33m\u001b[0m\u001b[0m\n",
      "\u001b[1;32m~\\OneDrive - Reliance Corporate IT Park Limited\\Desktop\\Practice_Code\\Python_Practice\\Python_For_Data_Analysis\\myenv\\lib\\site-packages\\decorator.py\u001b[0m in \u001b[0;36mfun\u001b[1;34m(*args, **kw)\u001b[0m\n\u001b[0;32m    230\u001b[0m             \u001b[1;32mif\u001b[0m \u001b[1;32mnot\u001b[0m \u001b[0mkwsyntax\u001b[0m\u001b[1;33m:\u001b[0m\u001b[1;33m\u001b[0m\u001b[1;33m\u001b[0m\u001b[0m\n\u001b[0;32m    231\u001b[0m                 \u001b[0margs\u001b[0m\u001b[1;33m,\u001b[0m \u001b[0mkw\u001b[0m \u001b[1;33m=\u001b[0m \u001b[0mfix\u001b[0m\u001b[1;33m(\u001b[0m\u001b[0margs\u001b[0m\u001b[1;33m,\u001b[0m \u001b[0mkw\u001b[0m\u001b[1;33m,\u001b[0m \u001b[0msig\u001b[0m\u001b[1;33m)\u001b[0m\u001b[1;33m\u001b[0m\u001b[1;33m\u001b[0m\u001b[0m\n\u001b[1;32m--> 232\u001b[1;33m             \u001b[1;32mreturn\u001b[0m \u001b[0mcaller\u001b[0m\u001b[1;33m(\u001b[0m\u001b[0mfunc\u001b[0m\u001b[1;33m,\u001b[0m \u001b[1;33m*\u001b[0m\u001b[1;33m(\u001b[0m\u001b[0mextras\u001b[0m \u001b[1;33m+\u001b[0m \u001b[0margs\u001b[0m\u001b[1;33m)\u001b[0m\u001b[1;33m,\u001b[0m \u001b[1;33m**\u001b[0m\u001b[0mkw\u001b[0m\u001b[1;33m)\u001b[0m\u001b[1;33m\u001b[0m\u001b[1;33m\u001b[0m\u001b[0m\n\u001b[0m\u001b[0;32m    233\u001b[0m     \u001b[0mfun\u001b[0m\u001b[1;33m.\u001b[0m\u001b[0m__name__\u001b[0m \u001b[1;33m=\u001b[0m \u001b[0mfunc\u001b[0m\u001b[1;33m.\u001b[0m\u001b[0m__name__\u001b[0m\u001b[1;33m\u001b[0m\u001b[1;33m\u001b[0m\u001b[0m\n\u001b[0;32m    234\u001b[0m     \u001b[0mfun\u001b[0m\u001b[1;33m.\u001b[0m\u001b[0m__doc__\u001b[0m \u001b[1;33m=\u001b[0m \u001b[0mfunc\u001b[0m\u001b[1;33m.\u001b[0m\u001b[0m__doc__\u001b[0m\u001b[1;33m\u001b[0m\u001b[1;33m\u001b[0m\u001b[0m\n",
      "\u001b[1;32m~\\OneDrive - Reliance Corporate IT Park Limited\\Desktop\\Practice_Code\\Python_Practice\\Python_For_Data_Analysis\\myenv\\lib\\site-packages\\IPython\\core\\magic.py\u001b[0m in \u001b[0;36m<lambda>\u001b[1;34m(f, *a, **k)\u001b[0m\n\u001b[0;32m    185\u001b[0m     \u001b[1;31m# but it's overkill for just that one bit of state.\u001b[0m\u001b[1;33m\u001b[0m\u001b[1;33m\u001b[0m\u001b[1;33m\u001b[0m\u001b[0m\n\u001b[0;32m    186\u001b[0m     \u001b[1;32mdef\u001b[0m \u001b[0mmagic_deco\u001b[0m\u001b[1;33m(\u001b[0m\u001b[0marg\u001b[0m\u001b[1;33m)\u001b[0m\u001b[1;33m:\u001b[0m\u001b[1;33m\u001b[0m\u001b[1;33m\u001b[0m\u001b[0m\n\u001b[1;32m--> 187\u001b[1;33m         \u001b[0mcall\u001b[0m \u001b[1;33m=\u001b[0m \u001b[1;32mlambda\u001b[0m \u001b[0mf\u001b[0m\u001b[1;33m,\u001b[0m \u001b[1;33m*\u001b[0m\u001b[0ma\u001b[0m\u001b[1;33m,\u001b[0m \u001b[1;33m**\u001b[0m\u001b[0mk\u001b[0m\u001b[1;33m:\u001b[0m \u001b[0mf\u001b[0m\u001b[1;33m(\u001b[0m\u001b[1;33m*\u001b[0m\u001b[0ma\u001b[0m\u001b[1;33m,\u001b[0m \u001b[1;33m**\u001b[0m\u001b[0mk\u001b[0m\u001b[1;33m)\u001b[0m\u001b[1;33m\u001b[0m\u001b[1;33m\u001b[0m\u001b[0m\n\u001b[0m\u001b[0;32m    188\u001b[0m \u001b[1;33m\u001b[0m\u001b[0m\n\u001b[0;32m    189\u001b[0m         \u001b[1;32mif\u001b[0m \u001b[0mcallable\u001b[0m\u001b[1;33m(\u001b[0m\u001b[0marg\u001b[0m\u001b[1;33m)\u001b[0m\u001b[1;33m:\u001b[0m\u001b[1;33m\u001b[0m\u001b[1;33m\u001b[0m\u001b[0m\n",
      "\u001b[1;32m~\\OneDrive - Reliance Corporate IT Park Limited\\Desktop\\Practice_Code\\Python_Practice\\Python_For_Data_Analysis\\myenv\\lib\\site-packages\\IPython\\core\\magics\\execution.py\u001b[0m in \u001b[0;36mrun\u001b[1;34m(self, parameter_s, runner, file_finder)\u001b[0m\n\u001b[0;32m    706\u001b[0m             \u001b[1;32mif\u001b[0m \u001b[0mos\u001b[0m\u001b[1;33m.\u001b[0m\u001b[0mname\u001b[0m \u001b[1;33m==\u001b[0m \u001b[1;34m'nt'\u001b[0m \u001b[1;32mand\u001b[0m \u001b[0mre\u001b[0m\u001b[1;33m.\u001b[0m\u001b[0mmatch\u001b[0m\u001b[1;33m(\u001b[0m\u001b[1;34mr\"^'.*'$\"\u001b[0m\u001b[1;33m,\u001b[0m\u001b[0mfpath\u001b[0m\u001b[1;33m)\u001b[0m\u001b[1;33m:\u001b[0m\u001b[1;33m\u001b[0m\u001b[1;33m\u001b[0m\u001b[0m\n\u001b[0;32m    707\u001b[0m                 \u001b[0mwarn\u001b[0m\u001b[1;33m(\u001b[0m\u001b[1;34m'For Windows, use double quotes to wrap a filename: %run \"mypath\\\\myfile.py\"'\u001b[0m\u001b[1;33m)\u001b[0m\u001b[1;33m\u001b[0m\u001b[1;33m\u001b[0m\u001b[0m\n\u001b[1;32m--> 708\u001b[1;33m             \u001b[1;32mraise\u001b[0m \u001b[0mException\u001b[0m\u001b[1;33m(\u001b[0m\u001b[0mmsg\u001b[0m\u001b[1;33m)\u001b[0m\u001b[1;33m\u001b[0m\u001b[1;33m\u001b[0m\u001b[0m\n\u001b[0m\u001b[0;32m    709\u001b[0m         \u001b[1;32mexcept\u001b[0m \u001b[0mTypeError\u001b[0m\u001b[1;33m:\u001b[0m\u001b[1;33m\u001b[0m\u001b[1;33m\u001b[0m\u001b[0m\n\u001b[0;32m    710\u001b[0m             \u001b[1;32mif\u001b[0m \u001b[0mfpath\u001b[0m \u001b[1;32min\u001b[0m \u001b[0msys\u001b[0m\u001b[1;33m.\u001b[0m\u001b[0mmeta_path\u001b[0m\u001b[1;33m:\u001b[0m\u001b[1;33m\u001b[0m\u001b[1;33m\u001b[0m\u001b[0m\n",
      "\u001b[1;31mException\u001b[0m: File `'examples/ipython_bug.py'` not found."
     ]
    }
   ],
   "source": [
    "run examples/ipython_bug.py"
   ]
  },
  {
   "cell_type": "code",
   "execution_count": 46,
   "id": "6ff2a40d",
   "metadata": {},
   "outputs": [
    {
     "name": "stdout",
     "output_type": "stream",
     "text": [
      "> \u001b[1;32mc:\\users\\ankit19.gupta\\onedrive - reliance corporate it park limited\\desktop\\practice_code\\python_practice\\python_for_data_analysis\\myenv\\lib\\site-packages\\ipython\\core\\magics\\execution.py\u001b[0m(708)\u001b[0;36mrun\u001b[1;34m()\u001b[0m\n",
      "\u001b[1;32m    706 \u001b[1;33m            \u001b[1;32mif\u001b[0m \u001b[0mos\u001b[0m\u001b[1;33m.\u001b[0m\u001b[0mname\u001b[0m \u001b[1;33m==\u001b[0m \u001b[1;34m'nt'\u001b[0m \u001b[1;32mand\u001b[0m \u001b[0mre\u001b[0m\u001b[1;33m.\u001b[0m\u001b[0mmatch\u001b[0m\u001b[1;33m(\u001b[0m\u001b[1;34mr\"^'.*'$\"\u001b[0m\u001b[1;33m,\u001b[0m\u001b[0mfpath\u001b[0m\u001b[1;33m)\u001b[0m\u001b[1;33m:\u001b[0m\u001b[1;33m\u001b[0m\u001b[1;33m\u001b[0m\u001b[0m\n",
      "\u001b[0m\u001b[1;32m    707 \u001b[1;33m                \u001b[0mwarn\u001b[0m\u001b[1;33m(\u001b[0m\u001b[1;34m'For Windows, use double quotes to wrap a filename: %run \"mypath\\\\myfile.py\"'\u001b[0m\u001b[1;33m)\u001b[0m\u001b[1;33m\u001b[0m\u001b[1;33m\u001b[0m\u001b[0m\n",
      "\u001b[0m\u001b[1;32m--> 708 \u001b[1;33m            \u001b[1;32mraise\u001b[0m \u001b[0mException\u001b[0m\u001b[1;33m(\u001b[0m\u001b[0mmsg\u001b[0m\u001b[1;33m)\u001b[0m\u001b[1;33m\u001b[0m\u001b[1;33m\u001b[0m\u001b[0m\n",
      "\u001b[0m\u001b[1;32m    709 \u001b[1;33m        \u001b[1;32mexcept\u001b[0m \u001b[0mTypeError\u001b[0m\u001b[1;33m:\u001b[0m\u001b[1;33m\u001b[0m\u001b[1;33m\u001b[0m\u001b[0m\n",
      "\u001b[0m\u001b[1;32m    710 \u001b[1;33m            \u001b[1;32mif\u001b[0m \u001b[0mfpath\u001b[0m \u001b[1;32min\u001b[0m \u001b[0msys\u001b[0m\u001b[1;33m.\u001b[0m\u001b[0mmeta_path\u001b[0m\u001b[1;33m:\u001b[0m\u001b[1;33m\u001b[0m\u001b[1;33m\u001b[0m\u001b[0m\n",
      "\u001b[0m\n",
      "ipdb> 1\n",
      "1\n",
      "ipdb> 2\n",
      "2\n",
      "ipdb> 3\n",
      "3\n",
      "ipdb> 4\n",
      "4\n",
      "ipdb> 5\n",
      "5\n",
      "ipdb> 6\n",
      "6\n",
      "ipdb> 7\n",
      "7\n",
      "ipdb> 8\n",
      "8\n",
      "ipdb> \n",
      "8\n",
      "--KeyboardInterrupt--\n",
      "--KeyboardInterrupt--\n",
      "ipdb> u\n",
      "> \u001b[1;32mc:\\users\\ankit19.gupta\\onedrive - reliance corporate it park limited\\desktop\\practice_code\\python_practice\\python_for_data_analysis\\myenv\\lib\\site-packages\\ipython\\core\\magic.py\u001b[0m(187)\u001b[0;36m<lambda>\u001b[1;34m()\u001b[0m\n",
      "\u001b[1;32m    185 \u001b[1;33m    \u001b[1;31m# but it's overkill for just that one bit of state.\u001b[0m\u001b[1;33m\u001b[0m\u001b[1;33m\u001b[0m\u001b[1;33m\u001b[0m\u001b[0m\n",
      "\u001b[0m\u001b[1;32m    186 \u001b[1;33m    \u001b[1;32mdef\u001b[0m \u001b[0mmagic_deco\u001b[0m\u001b[1;33m(\u001b[0m\u001b[0marg\u001b[0m\u001b[1;33m)\u001b[0m\u001b[1;33m:\u001b[0m\u001b[1;33m\u001b[0m\u001b[1;33m\u001b[0m\u001b[0m\n",
      "\u001b[0m\u001b[1;32m--> 187 \u001b[1;33m        \u001b[0mcall\u001b[0m \u001b[1;33m=\u001b[0m \u001b[1;32mlambda\u001b[0m \u001b[0mf\u001b[0m\u001b[1;33m,\u001b[0m \u001b[1;33m*\u001b[0m\u001b[0ma\u001b[0m\u001b[1;33m,\u001b[0m \u001b[1;33m**\u001b[0m\u001b[0mk\u001b[0m\u001b[1;33m:\u001b[0m \u001b[0mf\u001b[0m\u001b[1;33m(\u001b[0m\u001b[1;33m*\u001b[0m\u001b[0ma\u001b[0m\u001b[1;33m,\u001b[0m \u001b[1;33m**\u001b[0m\u001b[0mk\u001b[0m\u001b[1;33m)\u001b[0m\u001b[1;33m\u001b[0m\u001b[1;33m\u001b[0m\u001b[0m\n",
      "\u001b[0m\u001b[1;32m    188 \u001b[1;33m\u001b[1;33m\u001b[0m\u001b[0m\n",
      "\u001b[0m\u001b[1;32m    189 \u001b[1;33m        \u001b[1;32mif\u001b[0m \u001b[0mcallable\u001b[0m\u001b[1;33m(\u001b[0m\u001b[0marg\u001b[0m\u001b[1;33m)\u001b[0m\u001b[1;33m:\u001b[0m\u001b[1;33m\u001b[0m\u001b[1;33m\u001b[0m\u001b[0m\n",
      "\u001b[0m\n",
      "ipdb> u\n",
      "> \u001b[1;32mc:\\users\\ankit19.gupta\\onedrive - reliance corporate it park limited\\desktop\\practice_code\\python_practice\\python_for_data_analysis\\myenv\\lib\\site-packages\\decorator.py\u001b[0m(232)\u001b[0;36mfun\u001b[1;34m()\u001b[0m\n",
      "\u001b[1;32m    230 \u001b[1;33m            \u001b[1;32mif\u001b[0m \u001b[1;32mnot\u001b[0m \u001b[0mkwsyntax\u001b[0m\u001b[1;33m:\u001b[0m\u001b[1;33m\u001b[0m\u001b[1;33m\u001b[0m\u001b[0m\n",
      "\u001b[0m\u001b[1;32m    231 \u001b[1;33m                \u001b[0margs\u001b[0m\u001b[1;33m,\u001b[0m \u001b[0mkw\u001b[0m \u001b[1;33m=\u001b[0m \u001b[0mfix\u001b[0m\u001b[1;33m(\u001b[0m\u001b[0margs\u001b[0m\u001b[1;33m,\u001b[0m \u001b[0mkw\u001b[0m\u001b[1;33m,\u001b[0m \u001b[0msig\u001b[0m\u001b[1;33m)\u001b[0m\u001b[1;33m\u001b[0m\u001b[1;33m\u001b[0m\u001b[0m\n",
      "\u001b[0m\u001b[1;32m--> 232 \u001b[1;33m            \u001b[1;32mreturn\u001b[0m \u001b[0mcaller\u001b[0m\u001b[1;33m(\u001b[0m\u001b[0mfunc\u001b[0m\u001b[1;33m,\u001b[0m \u001b[1;33m*\u001b[0m\u001b[1;33m(\u001b[0m\u001b[0mextras\u001b[0m \u001b[1;33m+\u001b[0m \u001b[0margs\u001b[0m\u001b[1;33m)\u001b[0m\u001b[1;33m,\u001b[0m \u001b[1;33m**\u001b[0m\u001b[0mkw\u001b[0m\u001b[1;33m)\u001b[0m\u001b[1;33m\u001b[0m\u001b[1;33m\u001b[0m\u001b[0m\n",
      "\u001b[0m\u001b[1;32m    233 \u001b[1;33m    \u001b[0mfun\u001b[0m\u001b[1;33m.\u001b[0m\u001b[0m__name__\u001b[0m \u001b[1;33m=\u001b[0m \u001b[0mfunc\u001b[0m\u001b[1;33m.\u001b[0m\u001b[0m__name__\u001b[0m\u001b[1;33m\u001b[0m\u001b[1;33m\u001b[0m\u001b[0m\n",
      "\u001b[0m\u001b[1;32m    234 \u001b[1;33m    \u001b[0mfun\u001b[0m\u001b[1;33m.\u001b[0m\u001b[0m__doc__\u001b[0m \u001b[1;33m=\u001b[0m \u001b[0mfunc\u001b[0m\u001b[1;33m.\u001b[0m\u001b[0m__doc__\u001b[0m\u001b[1;33m\u001b[0m\u001b[1;33m\u001b[0m\u001b[0m\n",
      "\u001b[0m\n",
      "ipdb> u\n",
      "> \u001b[1;32mc:\\users\\ankit19.gupta\\onedrive - reliance corporate it park limited\\desktop\\practice_code\\python_practice\\python_for_data_analysis\\myenv\\lib\\site-packages\\ipython\\core\\interactiveshell.py\u001b[0m(2326)\u001b[0;36mrun_line_magic\u001b[1;34m()\u001b[0m\n",
      "\u001b[1;32m   2324 \u001b[1;33m                \u001b[0mkwargs\u001b[0m\u001b[1;33m[\u001b[0m\u001b[1;34m'local_ns'\u001b[0m\u001b[1;33m]\u001b[0m \u001b[1;33m=\u001b[0m \u001b[0msys\u001b[0m\u001b[1;33m.\u001b[0m\u001b[0m_getframe\u001b[0m\u001b[1;33m(\u001b[0m\u001b[0mstack_depth\u001b[0m\u001b[1;33m)\u001b[0m\u001b[1;33m.\u001b[0m\u001b[0mf_locals\u001b[0m\u001b[1;33m\u001b[0m\u001b[1;33m\u001b[0m\u001b[0m\n",
      "\u001b[0m\u001b[1;32m   2325 \u001b[1;33m            \u001b[1;32mwith\u001b[0m \u001b[0mself\u001b[0m\u001b[1;33m.\u001b[0m\u001b[0mbuiltin_trap\u001b[0m\u001b[1;33m:\u001b[0m\u001b[1;33m\u001b[0m\u001b[1;33m\u001b[0m\u001b[0m\n",
      "\u001b[0m\u001b[1;32m-> 2326 \u001b[1;33m                \u001b[0mresult\u001b[0m \u001b[1;33m=\u001b[0m \u001b[0mfn\u001b[0m\u001b[1;33m(\u001b[0m\u001b[1;33m*\u001b[0m\u001b[0margs\u001b[0m\u001b[1;33m,\u001b[0m \u001b[1;33m**\u001b[0m\u001b[0mkwargs\u001b[0m\u001b[1;33m)\u001b[0m\u001b[1;33m\u001b[0m\u001b[1;33m\u001b[0m\u001b[0m\n",
      "\u001b[0m\u001b[1;32m   2327 \u001b[1;33m            \u001b[1;32mreturn\u001b[0m \u001b[0mresult\u001b[0m\u001b[1;33m\u001b[0m\u001b[1;33m\u001b[0m\u001b[0m\n",
      "\u001b[0m\u001b[1;32m   2328 \u001b[1;33m\u001b[1;33m\u001b[0m\u001b[0m\n",
      "\u001b[0m\n",
      "ipdb> u\n",
      "> \u001b[1;32m<ipython-input-45-ac2d87c3d5c0>\u001b[0m(1)\u001b[0;36m<module>\u001b[1;34m()\u001b[0m\n",
      "\u001b[1;32m----> 1 \u001b[1;33m\u001b[0mget_ipython\u001b[0m\u001b[1;33m(\u001b[0m\u001b[1;33m)\u001b[0m\u001b[1;33m.\u001b[0m\u001b[0mrun_line_magic\u001b[0m\u001b[1;33m(\u001b[0m\u001b[1;34m'run'\u001b[0m\u001b[1;33m,\u001b[0m \u001b[1;34m'examples/ipython_bug.py'\u001b[0m\u001b[1;33m)\u001b[0m\u001b[1;33m\u001b[0m\u001b[1;33m\u001b[0m\u001b[0m\n",
      "\u001b[0m\n",
      "ipdb> u\n",
      "*** Oldest frame\n",
      "ipdb> u\n",
      "*** Oldest frame\n",
      "ipdb> u\n",
      "*** Oldest frame\n",
      "ipdb> d\n",
      "> \u001b[1;32mc:\\users\\ankit19.gupta\\onedrive - reliance corporate it park limited\\desktop\\practice_code\\python_practice\\python_for_data_analysis\\myenv\\lib\\site-packages\\ipython\\core\\interactiveshell.py\u001b[0m(2326)\u001b[0;36mrun_line_magic\u001b[1;34m()\u001b[0m\n",
      "\u001b[1;32m   2324 \u001b[1;33m                \u001b[0mkwargs\u001b[0m\u001b[1;33m[\u001b[0m\u001b[1;34m'local_ns'\u001b[0m\u001b[1;33m]\u001b[0m \u001b[1;33m=\u001b[0m \u001b[0msys\u001b[0m\u001b[1;33m.\u001b[0m\u001b[0m_getframe\u001b[0m\u001b[1;33m(\u001b[0m\u001b[0mstack_depth\u001b[0m\u001b[1;33m)\u001b[0m\u001b[1;33m.\u001b[0m\u001b[0mf_locals\u001b[0m\u001b[1;33m\u001b[0m\u001b[1;33m\u001b[0m\u001b[0m\n",
      "\u001b[0m\u001b[1;32m   2325 \u001b[1;33m            \u001b[1;32mwith\u001b[0m \u001b[0mself\u001b[0m\u001b[1;33m.\u001b[0m\u001b[0mbuiltin_trap\u001b[0m\u001b[1;33m:\u001b[0m\u001b[1;33m\u001b[0m\u001b[1;33m\u001b[0m\u001b[0m\n",
      "\u001b[0m\u001b[1;32m-> 2326 \u001b[1;33m                \u001b[0mresult\u001b[0m \u001b[1;33m=\u001b[0m \u001b[0mfn\u001b[0m\u001b[1;33m(\u001b[0m\u001b[1;33m*\u001b[0m\u001b[0margs\u001b[0m\u001b[1;33m,\u001b[0m \u001b[1;33m**\u001b[0m\u001b[0mkwargs\u001b[0m\u001b[1;33m)\u001b[0m\u001b[1;33m\u001b[0m\u001b[1;33m\u001b[0m\u001b[0m\n",
      "\u001b[0m\u001b[1;32m   2327 \u001b[1;33m            \u001b[1;32mreturn\u001b[0m \u001b[0mresult\u001b[0m\u001b[1;33m\u001b[0m\u001b[1;33m\u001b[0m\u001b[0m\n",
      "\u001b[0m\u001b[1;32m   2328 \u001b[1;33m\u001b[1;33m\u001b[0m\u001b[0m\n",
      "\u001b[0m\n",
      "ipdb> run -d examples/ipython_bug.py\n"
     ]
    },
    {
     "ename": "Restart",
     "evalue": "",
     "output_type": "error",
     "traceback": [
      "\u001b[1;31m---------------------------------------------------------------------------\u001b[0m",
      "\u001b[1;31mRestart\u001b[0m                                   Traceback (most recent call last)",
      "\u001b[1;32m<ipython-input-46-bc99e4ec804d>\u001b[0m in \u001b[0;36m<module>\u001b[1;34m\u001b[0m\n\u001b[1;32m----> 1\u001b[1;33m \u001b[0mget_ipython\u001b[0m\u001b[1;33m(\u001b[0m\u001b[1;33m)\u001b[0m\u001b[1;33m.\u001b[0m\u001b[0mrun_line_magic\u001b[0m\u001b[1;33m(\u001b[0m\u001b[1;34m'debug'\u001b[0m\u001b[1;33m,\u001b[0m \u001b[1;34m''\u001b[0m\u001b[1;33m)\u001b[0m\u001b[1;33m\u001b[0m\u001b[1;33m\u001b[0m\u001b[0m\n\u001b[0m",
      "\u001b[1;32m~\\OneDrive - Reliance Corporate IT Park Limited\\Desktop\\Practice_Code\\Python_Practice\\Python_For_Data_Analysis\\myenv\\lib\\site-packages\\IPython\\core\\interactiveshell.py\u001b[0m in \u001b[0;36mrun_line_magic\u001b[1;34m(self, magic_name, line, _stack_depth)\u001b[0m\n\u001b[0;32m   2324\u001b[0m                 \u001b[0mkwargs\u001b[0m\u001b[1;33m[\u001b[0m\u001b[1;34m'local_ns'\u001b[0m\u001b[1;33m]\u001b[0m \u001b[1;33m=\u001b[0m \u001b[0msys\u001b[0m\u001b[1;33m.\u001b[0m\u001b[0m_getframe\u001b[0m\u001b[1;33m(\u001b[0m\u001b[0mstack_depth\u001b[0m\u001b[1;33m)\u001b[0m\u001b[1;33m.\u001b[0m\u001b[0mf_locals\u001b[0m\u001b[1;33m\u001b[0m\u001b[1;33m\u001b[0m\u001b[0m\n\u001b[0;32m   2325\u001b[0m             \u001b[1;32mwith\u001b[0m \u001b[0mself\u001b[0m\u001b[1;33m.\u001b[0m\u001b[0mbuiltin_trap\u001b[0m\u001b[1;33m:\u001b[0m\u001b[1;33m\u001b[0m\u001b[1;33m\u001b[0m\u001b[0m\n\u001b[1;32m-> 2326\u001b[1;33m                 \u001b[0mresult\u001b[0m \u001b[1;33m=\u001b[0m \u001b[0mfn\u001b[0m\u001b[1;33m(\u001b[0m\u001b[1;33m*\u001b[0m\u001b[0margs\u001b[0m\u001b[1;33m,\u001b[0m \u001b[1;33m**\u001b[0m\u001b[0mkwargs\u001b[0m\u001b[1;33m)\u001b[0m\u001b[1;33m\u001b[0m\u001b[1;33m\u001b[0m\u001b[0m\n\u001b[0m\u001b[0;32m   2327\u001b[0m             \u001b[1;32mreturn\u001b[0m \u001b[0mresult\u001b[0m\u001b[1;33m\u001b[0m\u001b[1;33m\u001b[0m\u001b[0m\n\u001b[0;32m   2328\u001b[0m \u001b[1;33m\u001b[0m\u001b[0m\n",
      "\u001b[1;32m~\\OneDrive - Reliance Corporate IT Park Limited\\Desktop\\Practice_Code\\Python_Practice\\Python_For_Data_Analysis\\myenv\\lib\\site-packages\\decorator.py\u001b[0m in \u001b[0;36mfun\u001b[1;34m(*args, **kw)\u001b[0m\n\u001b[0;32m    230\u001b[0m             \u001b[1;32mif\u001b[0m \u001b[1;32mnot\u001b[0m \u001b[0mkwsyntax\u001b[0m\u001b[1;33m:\u001b[0m\u001b[1;33m\u001b[0m\u001b[1;33m\u001b[0m\u001b[0m\n\u001b[0;32m    231\u001b[0m                 \u001b[0margs\u001b[0m\u001b[1;33m,\u001b[0m \u001b[0mkw\u001b[0m \u001b[1;33m=\u001b[0m \u001b[0mfix\u001b[0m\u001b[1;33m(\u001b[0m\u001b[0margs\u001b[0m\u001b[1;33m,\u001b[0m \u001b[0mkw\u001b[0m\u001b[1;33m,\u001b[0m \u001b[0msig\u001b[0m\u001b[1;33m)\u001b[0m\u001b[1;33m\u001b[0m\u001b[1;33m\u001b[0m\u001b[0m\n\u001b[1;32m--> 232\u001b[1;33m             \u001b[1;32mreturn\u001b[0m \u001b[0mcaller\u001b[0m\u001b[1;33m(\u001b[0m\u001b[0mfunc\u001b[0m\u001b[1;33m,\u001b[0m \u001b[1;33m*\u001b[0m\u001b[1;33m(\u001b[0m\u001b[0mextras\u001b[0m \u001b[1;33m+\u001b[0m \u001b[0margs\u001b[0m\u001b[1;33m)\u001b[0m\u001b[1;33m,\u001b[0m \u001b[1;33m**\u001b[0m\u001b[0mkw\u001b[0m\u001b[1;33m)\u001b[0m\u001b[1;33m\u001b[0m\u001b[1;33m\u001b[0m\u001b[0m\n\u001b[0m\u001b[0;32m    233\u001b[0m     \u001b[0mfun\u001b[0m\u001b[1;33m.\u001b[0m\u001b[0m__name__\u001b[0m \u001b[1;33m=\u001b[0m \u001b[0mfunc\u001b[0m\u001b[1;33m.\u001b[0m\u001b[0m__name__\u001b[0m\u001b[1;33m\u001b[0m\u001b[1;33m\u001b[0m\u001b[0m\n\u001b[0;32m    234\u001b[0m     \u001b[0mfun\u001b[0m\u001b[1;33m.\u001b[0m\u001b[0m__doc__\u001b[0m \u001b[1;33m=\u001b[0m \u001b[0mfunc\u001b[0m\u001b[1;33m.\u001b[0m\u001b[0m__doc__\u001b[0m\u001b[1;33m\u001b[0m\u001b[1;33m\u001b[0m\u001b[0m\n",
      "\u001b[1;32m~\\OneDrive - Reliance Corporate IT Park Limited\\Desktop\\Practice_Code\\Python_Practice\\Python_For_Data_Analysis\\myenv\\lib\\site-packages\\IPython\\core\\magic.py\u001b[0m in \u001b[0;36m<lambda>\u001b[1;34m(f, *a, **k)\u001b[0m\n\u001b[0;32m    185\u001b[0m     \u001b[1;31m# but it's overkill for just that one bit of state.\u001b[0m\u001b[1;33m\u001b[0m\u001b[1;33m\u001b[0m\u001b[1;33m\u001b[0m\u001b[0m\n\u001b[0;32m    186\u001b[0m     \u001b[1;32mdef\u001b[0m \u001b[0mmagic_deco\u001b[0m\u001b[1;33m(\u001b[0m\u001b[0marg\u001b[0m\u001b[1;33m)\u001b[0m\u001b[1;33m:\u001b[0m\u001b[1;33m\u001b[0m\u001b[1;33m\u001b[0m\u001b[0m\n\u001b[1;32m--> 187\u001b[1;33m         \u001b[0mcall\u001b[0m \u001b[1;33m=\u001b[0m \u001b[1;32mlambda\u001b[0m \u001b[0mf\u001b[0m\u001b[1;33m,\u001b[0m \u001b[1;33m*\u001b[0m\u001b[0ma\u001b[0m\u001b[1;33m,\u001b[0m \u001b[1;33m**\u001b[0m\u001b[0mk\u001b[0m\u001b[1;33m:\u001b[0m \u001b[0mf\u001b[0m\u001b[1;33m(\u001b[0m\u001b[1;33m*\u001b[0m\u001b[0ma\u001b[0m\u001b[1;33m,\u001b[0m \u001b[1;33m**\u001b[0m\u001b[0mk\u001b[0m\u001b[1;33m)\u001b[0m\u001b[1;33m\u001b[0m\u001b[1;33m\u001b[0m\u001b[0m\n\u001b[0m\u001b[0;32m    188\u001b[0m \u001b[1;33m\u001b[0m\u001b[0m\n\u001b[0;32m    189\u001b[0m         \u001b[1;32mif\u001b[0m \u001b[0mcallable\u001b[0m\u001b[1;33m(\u001b[0m\u001b[0marg\u001b[0m\u001b[1;33m)\u001b[0m\u001b[1;33m:\u001b[0m\u001b[1;33m\u001b[0m\u001b[1;33m\u001b[0m\u001b[0m\n",
      "\u001b[1;32m~\\OneDrive - Reliance Corporate IT Park Limited\\Desktop\\Practice_Code\\Python_Practice\\Python_For_Data_Analysis\\myenv\\lib\\site-packages\\IPython\\core\\magics\\execution.py\u001b[0m in \u001b[0;36mdebug\u001b[1;34m(self, line, cell)\u001b[0m\n\u001b[0;32m    467\u001b[0m \u001b[1;33m\u001b[0m\u001b[0m\n\u001b[0;32m    468\u001b[0m         \u001b[1;32mif\u001b[0m \u001b[1;32mnot\u001b[0m \u001b[1;33m(\u001b[0m\u001b[0margs\u001b[0m\u001b[1;33m.\u001b[0m\u001b[0mbreakpoint\u001b[0m \u001b[1;32mor\u001b[0m \u001b[0margs\u001b[0m\u001b[1;33m.\u001b[0m\u001b[0mstatement\u001b[0m \u001b[1;32mor\u001b[0m \u001b[0mcell\u001b[0m\u001b[1;33m)\u001b[0m\u001b[1;33m:\u001b[0m\u001b[1;33m\u001b[0m\u001b[1;33m\u001b[0m\u001b[0m\n\u001b[1;32m--> 469\u001b[1;33m             \u001b[0mself\u001b[0m\u001b[1;33m.\u001b[0m\u001b[0m_debug_post_mortem\u001b[0m\u001b[1;33m(\u001b[0m\u001b[1;33m)\u001b[0m\u001b[1;33m\u001b[0m\u001b[1;33m\u001b[0m\u001b[0m\n\u001b[0m\u001b[0;32m    470\u001b[0m         \u001b[1;32melse\u001b[0m\u001b[1;33m:\u001b[0m\u001b[1;33m\u001b[0m\u001b[1;33m\u001b[0m\u001b[0m\n\u001b[0;32m    471\u001b[0m             \u001b[0mcode\u001b[0m \u001b[1;33m=\u001b[0m \u001b[1;34m\"\\n\"\u001b[0m\u001b[1;33m.\u001b[0m\u001b[0mjoin\u001b[0m\u001b[1;33m(\u001b[0m\u001b[0margs\u001b[0m\u001b[1;33m.\u001b[0m\u001b[0mstatement\u001b[0m\u001b[1;33m)\u001b[0m\u001b[1;33m\u001b[0m\u001b[1;33m\u001b[0m\u001b[0m\n",
      "\u001b[1;32m~\\OneDrive - Reliance Corporate IT Park Limited\\Desktop\\Practice_Code\\Python_Practice\\Python_For_Data_Analysis\\myenv\\lib\\site-packages\\IPython\\core\\magics\\execution.py\u001b[0m in \u001b[0;36m_debug_post_mortem\u001b[1;34m(self)\u001b[0m\n\u001b[0;32m    475\u001b[0m \u001b[1;33m\u001b[0m\u001b[0m\n\u001b[0;32m    476\u001b[0m     \u001b[1;32mdef\u001b[0m \u001b[0m_debug_post_mortem\u001b[0m\u001b[1;33m(\u001b[0m\u001b[0mself\u001b[0m\u001b[1;33m)\u001b[0m\u001b[1;33m:\u001b[0m\u001b[1;33m\u001b[0m\u001b[1;33m\u001b[0m\u001b[0m\n\u001b[1;32m--> 477\u001b[1;33m         \u001b[0mself\u001b[0m\u001b[1;33m.\u001b[0m\u001b[0mshell\u001b[0m\u001b[1;33m.\u001b[0m\u001b[0mdebugger\u001b[0m\u001b[1;33m(\u001b[0m\u001b[0mforce\u001b[0m\u001b[1;33m=\u001b[0m\u001b[1;32mTrue\u001b[0m\u001b[1;33m)\u001b[0m\u001b[1;33m\u001b[0m\u001b[1;33m\u001b[0m\u001b[0m\n\u001b[0m\u001b[0;32m    478\u001b[0m \u001b[1;33m\u001b[0m\u001b[0m\n\u001b[0;32m    479\u001b[0m     \u001b[1;32mdef\u001b[0m \u001b[0m_debug_exec\u001b[0m\u001b[1;33m(\u001b[0m\u001b[0mself\u001b[0m\u001b[1;33m,\u001b[0m \u001b[0mcode\u001b[0m\u001b[1;33m,\u001b[0m \u001b[0mbreakpoint\u001b[0m\u001b[1;33m)\u001b[0m\u001b[1;33m:\u001b[0m\u001b[1;33m\u001b[0m\u001b[1;33m\u001b[0m\u001b[0m\n",
      "\u001b[1;32m~\\OneDrive - Reliance Corporate IT Park Limited\\Desktop\\Practice_Code\\Python_Practice\\Python_For_Data_Analysis\\myenv\\lib\\site-packages\\IPython\\core\\interactiveshell.py\u001b[0m in \u001b[0;36mdebugger\u001b[1;34m(self, force)\u001b[0m\n\u001b[0;32m   1189\u001b[0m             \u001b[1;32mreturn\u001b[0m\u001b[1;33m\u001b[0m\u001b[1;33m\u001b[0m\u001b[0m\n\u001b[0;32m   1190\u001b[0m \u001b[1;33m\u001b[0m\u001b[0m\n\u001b[1;32m-> 1191\u001b[1;33m         \u001b[0mself\u001b[0m\u001b[1;33m.\u001b[0m\u001b[0mInteractiveTB\u001b[0m\u001b[1;33m.\u001b[0m\u001b[0mdebugger\u001b[0m\u001b[1;33m(\u001b[0m\u001b[0mforce\u001b[0m\u001b[1;33m=\u001b[0m\u001b[1;32mTrue\u001b[0m\u001b[1;33m)\u001b[0m\u001b[1;33m\u001b[0m\u001b[1;33m\u001b[0m\u001b[0m\n\u001b[0m\u001b[0;32m   1192\u001b[0m \u001b[1;33m\u001b[0m\u001b[0m\n\u001b[0;32m   1193\u001b[0m     \u001b[1;31m#-------------------------------------------------------------------------\u001b[0m\u001b[1;33m\u001b[0m\u001b[1;33m\u001b[0m\u001b[1;33m\u001b[0m\u001b[0m\n",
      "\u001b[1;32m~\\OneDrive - Reliance Corporate IT Park Limited\\Desktop\\Practice_Code\\Python_Practice\\Python_For_Data_Analysis\\myenv\\lib\\site-packages\\IPython\\core\\ultratb.py\u001b[0m in \u001b[0;36mdebugger\u001b[1;34m(self, force)\u001b[0m\n\u001b[0;32m   1264\u001b[0m                     \u001b[0metb\u001b[0m \u001b[1;33m=\u001b[0m \u001b[0metb\u001b[0m\u001b[1;33m.\u001b[0m\u001b[0mtb_next\u001b[0m\u001b[1;33m\u001b[0m\u001b[1;33m\u001b[0m\u001b[0m\n\u001b[0;32m   1265\u001b[0m                 \u001b[0mself\u001b[0m\u001b[1;33m.\u001b[0m\u001b[0mpdb\u001b[0m\u001b[1;33m.\u001b[0m\u001b[0mbotframe\u001b[0m \u001b[1;33m=\u001b[0m \u001b[0metb\u001b[0m\u001b[1;33m.\u001b[0m\u001b[0mtb_frame\u001b[0m\u001b[1;33m\u001b[0m\u001b[1;33m\u001b[0m\u001b[0m\n\u001b[1;32m-> 1266\u001b[1;33m                 \u001b[0mself\u001b[0m\u001b[1;33m.\u001b[0m\u001b[0mpdb\u001b[0m\u001b[1;33m.\u001b[0m\u001b[0minteraction\u001b[0m\u001b[1;33m(\u001b[0m\u001b[1;32mNone\u001b[0m\u001b[1;33m,\u001b[0m \u001b[0metb\u001b[0m\u001b[1;33m)\u001b[0m\u001b[1;33m\u001b[0m\u001b[1;33m\u001b[0m\u001b[0m\n\u001b[0m\u001b[0;32m   1267\u001b[0m \u001b[1;33m\u001b[0m\u001b[0m\n\u001b[0;32m   1268\u001b[0m         \u001b[1;32mif\u001b[0m \u001b[0mhasattr\u001b[0m\u001b[1;33m(\u001b[0m\u001b[0mself\u001b[0m\u001b[1;33m,\u001b[0m \u001b[1;34m'tb'\u001b[0m\u001b[1;33m)\u001b[0m\u001b[1;33m:\u001b[0m\u001b[1;33m\u001b[0m\u001b[1;33m\u001b[0m\u001b[0m\n",
      "\u001b[1;32m~\\OneDrive - Reliance Corporate IT Park Limited\\Desktop\\Practice_Code\\Python_Practice\\Python_For_Data_Analysis\\myenv\\lib\\site-packages\\IPython\\core\\debugger.py\u001b[0m in \u001b[0;36minteraction\u001b[1;34m(self, frame, traceback)\u001b[0m\n\u001b[0;32m    303\u001b[0m     \u001b[1;32mdef\u001b[0m \u001b[0minteraction\u001b[0m\u001b[1;33m(\u001b[0m\u001b[0mself\u001b[0m\u001b[1;33m,\u001b[0m \u001b[0mframe\u001b[0m\u001b[1;33m,\u001b[0m \u001b[0mtraceback\u001b[0m\u001b[1;33m)\u001b[0m\u001b[1;33m:\u001b[0m\u001b[1;33m\u001b[0m\u001b[1;33m\u001b[0m\u001b[0m\n\u001b[0;32m    304\u001b[0m         \u001b[1;32mtry\u001b[0m\u001b[1;33m:\u001b[0m\u001b[1;33m\u001b[0m\u001b[1;33m\u001b[0m\u001b[0m\n\u001b[1;32m--> 305\u001b[1;33m             \u001b[0mOldPdb\u001b[0m\u001b[1;33m.\u001b[0m\u001b[0minteraction\u001b[0m\u001b[1;33m(\u001b[0m\u001b[0mself\u001b[0m\u001b[1;33m,\u001b[0m \u001b[0mframe\u001b[0m\u001b[1;33m,\u001b[0m \u001b[0mtraceback\u001b[0m\u001b[1;33m)\u001b[0m\u001b[1;33m\u001b[0m\u001b[1;33m\u001b[0m\u001b[0m\n\u001b[0m\u001b[0;32m    306\u001b[0m         \u001b[1;32mexcept\u001b[0m \u001b[0mKeyboardInterrupt\u001b[0m\u001b[1;33m:\u001b[0m\u001b[1;33m\u001b[0m\u001b[1;33m\u001b[0m\u001b[0m\n\u001b[0;32m    307\u001b[0m             \u001b[0mself\u001b[0m\u001b[1;33m.\u001b[0m\u001b[0mstdout\u001b[0m\u001b[1;33m.\u001b[0m\u001b[0mwrite\u001b[0m\u001b[1;33m(\u001b[0m\u001b[1;34m\"\\n\"\u001b[0m \u001b[1;33m+\u001b[0m \u001b[0mself\u001b[0m\u001b[1;33m.\u001b[0m\u001b[0mshell\u001b[0m\u001b[1;33m.\u001b[0m\u001b[0mget_exception_only\u001b[0m\u001b[1;33m(\u001b[0m\u001b[1;33m)\u001b[0m\u001b[1;33m)\u001b[0m\u001b[1;33m\u001b[0m\u001b[1;33m\u001b[0m\u001b[0m\n",
      "\u001b[1;32m~\\OneDrive - Reliance Corporate IT Park Limited\\Desktop\\Practice_Code\\Python_Practice\\Python_For_Data_Analysis\\myenv\\lib\\pdb.py\u001b[0m in \u001b[0;36minteraction\u001b[1;34m(self, frame, traceback)\u001b[0m\n\u001b[0;32m    350\u001b[0m             \u001b[1;32mreturn\u001b[0m\u001b[1;33m\u001b[0m\u001b[1;33m\u001b[0m\u001b[0m\n\u001b[0;32m    351\u001b[0m         \u001b[0mself\u001b[0m\u001b[1;33m.\u001b[0m\u001b[0mprint_stack_entry\u001b[0m\u001b[1;33m(\u001b[0m\u001b[0mself\u001b[0m\u001b[1;33m.\u001b[0m\u001b[0mstack\u001b[0m\u001b[1;33m[\u001b[0m\u001b[0mself\u001b[0m\u001b[1;33m.\u001b[0m\u001b[0mcurindex\u001b[0m\u001b[1;33m]\u001b[0m\u001b[1;33m)\u001b[0m\u001b[1;33m\u001b[0m\u001b[1;33m\u001b[0m\u001b[0m\n\u001b[1;32m--> 352\u001b[1;33m         \u001b[0mself\u001b[0m\u001b[1;33m.\u001b[0m\u001b[0m_cmdloop\u001b[0m\u001b[1;33m(\u001b[0m\u001b[1;33m)\u001b[0m\u001b[1;33m\u001b[0m\u001b[1;33m\u001b[0m\u001b[0m\n\u001b[0m\u001b[0;32m    353\u001b[0m         \u001b[0mself\u001b[0m\u001b[1;33m.\u001b[0m\u001b[0mforget\u001b[0m\u001b[1;33m(\u001b[0m\u001b[1;33m)\u001b[0m\u001b[1;33m\u001b[0m\u001b[1;33m\u001b[0m\u001b[0m\n\u001b[0;32m    354\u001b[0m \u001b[1;33m\u001b[0m\u001b[0m\n",
      "\u001b[1;32m~\\OneDrive - Reliance Corporate IT Park Limited\\Desktop\\Practice_Code\\Python_Practice\\Python_For_Data_Analysis\\myenv\\lib\\pdb.py\u001b[0m in \u001b[0;36m_cmdloop\u001b[1;34m(self)\u001b[0m\n\u001b[0;32m    319\u001b[0m                 \u001b[1;31m# the current command, so allow them during interactive input\u001b[0m\u001b[1;33m\u001b[0m\u001b[1;33m\u001b[0m\u001b[1;33m\u001b[0m\u001b[0m\n\u001b[0;32m    320\u001b[0m                 \u001b[0mself\u001b[0m\u001b[1;33m.\u001b[0m\u001b[0mallow_kbdint\u001b[0m \u001b[1;33m=\u001b[0m \u001b[1;32mTrue\u001b[0m\u001b[1;33m\u001b[0m\u001b[1;33m\u001b[0m\u001b[0m\n\u001b[1;32m--> 321\u001b[1;33m                 \u001b[0mself\u001b[0m\u001b[1;33m.\u001b[0m\u001b[0mcmdloop\u001b[0m\u001b[1;33m(\u001b[0m\u001b[1;33m)\u001b[0m\u001b[1;33m\u001b[0m\u001b[1;33m\u001b[0m\u001b[0m\n\u001b[0m\u001b[0;32m    322\u001b[0m                 \u001b[0mself\u001b[0m\u001b[1;33m.\u001b[0m\u001b[0mallow_kbdint\u001b[0m \u001b[1;33m=\u001b[0m \u001b[1;32mFalse\u001b[0m\u001b[1;33m\u001b[0m\u001b[1;33m\u001b[0m\u001b[0m\n\u001b[0;32m    323\u001b[0m                 \u001b[1;32mbreak\u001b[0m\u001b[1;33m\u001b[0m\u001b[1;33m\u001b[0m\u001b[0m\n",
      "\u001b[1;32m~\\OneDrive - Reliance Corporate IT Park Limited\\Desktop\\Practice_Code\\Python_Practice\\Python_For_Data_Analysis\\myenv\\lib\\cmd.py\u001b[0m in \u001b[0;36mcmdloop\u001b[1;34m(self, intro)\u001b[0m\n\u001b[0;32m    136\u001b[0m                             \u001b[0mline\u001b[0m \u001b[1;33m=\u001b[0m \u001b[0mline\u001b[0m\u001b[1;33m.\u001b[0m\u001b[0mrstrip\u001b[0m\u001b[1;33m(\u001b[0m\u001b[1;34m'\\r\\n'\u001b[0m\u001b[1;33m)\u001b[0m\u001b[1;33m\u001b[0m\u001b[1;33m\u001b[0m\u001b[0m\n\u001b[0;32m    137\u001b[0m                 \u001b[0mline\u001b[0m \u001b[1;33m=\u001b[0m \u001b[0mself\u001b[0m\u001b[1;33m.\u001b[0m\u001b[0mprecmd\u001b[0m\u001b[1;33m(\u001b[0m\u001b[0mline\u001b[0m\u001b[1;33m)\u001b[0m\u001b[1;33m\u001b[0m\u001b[1;33m\u001b[0m\u001b[0m\n\u001b[1;32m--> 138\u001b[1;33m                 \u001b[0mstop\u001b[0m \u001b[1;33m=\u001b[0m \u001b[0mself\u001b[0m\u001b[1;33m.\u001b[0m\u001b[0monecmd\u001b[0m\u001b[1;33m(\u001b[0m\u001b[0mline\u001b[0m\u001b[1;33m)\u001b[0m\u001b[1;33m\u001b[0m\u001b[1;33m\u001b[0m\u001b[0m\n\u001b[0m\u001b[0;32m    139\u001b[0m                 \u001b[0mstop\u001b[0m \u001b[1;33m=\u001b[0m \u001b[0mself\u001b[0m\u001b[1;33m.\u001b[0m\u001b[0mpostcmd\u001b[0m\u001b[1;33m(\u001b[0m\u001b[0mstop\u001b[0m\u001b[1;33m,\u001b[0m \u001b[0mline\u001b[0m\u001b[1;33m)\u001b[0m\u001b[1;33m\u001b[0m\u001b[1;33m\u001b[0m\u001b[0m\n\u001b[0;32m    140\u001b[0m             \u001b[0mself\u001b[0m\u001b[1;33m.\u001b[0m\u001b[0mpostloop\u001b[0m\u001b[1;33m(\u001b[0m\u001b[1;33m)\u001b[0m\u001b[1;33m\u001b[0m\u001b[1;33m\u001b[0m\u001b[0m\n",
      "\u001b[1;32m~\\OneDrive - Reliance Corporate IT Park Limited\\Desktop\\Practice_Code\\Python_Practice\\Python_For_Data_Analysis\\myenv\\lib\\pdb.py\u001b[0m in \u001b[0;36monecmd\u001b[1;34m(self, line)\u001b[0m\n\u001b[0;32m    416\u001b[0m         \"\"\"\n\u001b[0;32m    417\u001b[0m         \u001b[1;32mif\u001b[0m \u001b[1;32mnot\u001b[0m \u001b[0mself\u001b[0m\u001b[1;33m.\u001b[0m\u001b[0mcommands_defining\u001b[0m\u001b[1;33m:\u001b[0m\u001b[1;33m\u001b[0m\u001b[1;33m\u001b[0m\u001b[0m\n\u001b[1;32m--> 418\u001b[1;33m             \u001b[1;32mreturn\u001b[0m \u001b[0mcmd\u001b[0m\u001b[1;33m.\u001b[0m\u001b[0mCmd\u001b[0m\u001b[1;33m.\u001b[0m\u001b[0monecmd\u001b[0m\u001b[1;33m(\u001b[0m\u001b[0mself\u001b[0m\u001b[1;33m,\u001b[0m \u001b[0mline\u001b[0m\u001b[1;33m)\u001b[0m\u001b[1;33m\u001b[0m\u001b[1;33m\u001b[0m\u001b[0m\n\u001b[0m\u001b[0;32m    419\u001b[0m         \u001b[1;32melse\u001b[0m\u001b[1;33m:\u001b[0m\u001b[1;33m\u001b[0m\u001b[1;33m\u001b[0m\u001b[0m\n\u001b[0;32m    420\u001b[0m             \u001b[1;32mreturn\u001b[0m \u001b[0mself\u001b[0m\u001b[1;33m.\u001b[0m\u001b[0mhandle_command_def\u001b[0m\u001b[1;33m(\u001b[0m\u001b[0mline\u001b[0m\u001b[1;33m)\u001b[0m\u001b[1;33m\u001b[0m\u001b[1;33m\u001b[0m\u001b[0m\n",
      "\u001b[1;32m~\\OneDrive - Reliance Corporate IT Park Limited\\Desktop\\Practice_Code\\Python_Practice\\Python_For_Data_Analysis\\myenv\\lib\\cmd.py\u001b[0m in \u001b[0;36monecmd\u001b[1;34m(self, line)\u001b[0m\n\u001b[0;32m    215\u001b[0m             \u001b[1;32mexcept\u001b[0m \u001b[0mAttributeError\u001b[0m\u001b[1;33m:\u001b[0m\u001b[1;33m\u001b[0m\u001b[1;33m\u001b[0m\u001b[0m\n\u001b[0;32m    216\u001b[0m                 \u001b[1;32mreturn\u001b[0m \u001b[0mself\u001b[0m\u001b[1;33m.\u001b[0m\u001b[0mdefault\u001b[0m\u001b[1;33m(\u001b[0m\u001b[0mline\u001b[0m\u001b[1;33m)\u001b[0m\u001b[1;33m\u001b[0m\u001b[1;33m\u001b[0m\u001b[0m\n\u001b[1;32m--> 217\u001b[1;33m             \u001b[1;32mreturn\u001b[0m \u001b[0mfunc\u001b[0m\u001b[1;33m(\u001b[0m\u001b[0marg\u001b[0m\u001b[1;33m)\u001b[0m\u001b[1;33m\u001b[0m\u001b[1;33m\u001b[0m\u001b[0m\n\u001b[0m\u001b[0;32m    218\u001b[0m \u001b[1;33m\u001b[0m\u001b[0m\n\u001b[0;32m    219\u001b[0m     \u001b[1;32mdef\u001b[0m \u001b[0memptyline\u001b[0m\u001b[1;33m(\u001b[0m\u001b[0mself\u001b[0m\u001b[1;33m)\u001b[0m\u001b[1;33m:\u001b[0m\u001b[1;33m\u001b[0m\u001b[1;33m\u001b[0m\u001b[0m\n",
      "\u001b[1;32m~\\OneDrive - Reliance Corporate IT Park Limited\\Desktop\\Practice_Code\\Python_Practice\\Python_For_Data_Analysis\\myenv\\lib\\pdb.py\u001b[0m in \u001b[0;36mdo_run\u001b[1;34m(self, arg)\u001b[0m\n\u001b[0;32m   1026\u001b[0m             \u001b[0msys\u001b[0m\u001b[1;33m.\u001b[0m\u001b[0margv\u001b[0m\u001b[1;33m[\u001b[0m\u001b[1;33m:\u001b[0m\u001b[1;36m0\u001b[0m\u001b[1;33m]\u001b[0m \u001b[1;33m=\u001b[0m \u001b[0margv0\u001b[0m\u001b[1;33m\u001b[0m\u001b[1;33m\u001b[0m\u001b[0m\n\u001b[0;32m   1027\u001b[0m         \u001b[1;31m# this is caught in the main debugger loop\u001b[0m\u001b[1;33m\u001b[0m\u001b[1;33m\u001b[0m\u001b[1;33m\u001b[0m\u001b[0m\n\u001b[1;32m-> 1028\u001b[1;33m         \u001b[1;32mraise\u001b[0m \u001b[0mRestart\u001b[0m\u001b[1;33m\u001b[0m\u001b[1;33m\u001b[0m\u001b[0m\n\u001b[0m\u001b[0;32m   1029\u001b[0m \u001b[1;33m\u001b[0m\u001b[0m\n\u001b[0;32m   1030\u001b[0m     \u001b[0mdo_restart\u001b[0m \u001b[1;33m=\u001b[0m \u001b[0mdo_run\u001b[0m\u001b[1;33m\u001b[0m\u001b[1;33m\u001b[0m\u001b[0m\n",
      "\u001b[1;31mRestart\u001b[0m: "
     ]
    }
   ],
   "source": [
    "%debug"
   ]
  },
  {
   "cell_type": "markdown",
   "id": "c7991580",
   "metadata": {},
   "source": [
    "Once inside the debugger, you can execute arbitrary Python code and explore all of\n",
    "the objects and data (which have been “kept alive” by the interpreter) inside each\n",
    "stack frame. By default you start in the lowest level, where the error occurred. By\n",
    "pressing u (up) and d (down), you can switch between the levels of the stack trace:"
   ]
  },
  {
   "cell_type": "markdown",
   "id": "892a0769",
   "metadata": {},
   "source": [
    "Executing the %pdb command makes it so that IPython automatically invokes the\n",
    "debugger after any exception, a mode that many users will find especially useful."
   ]
  },
  {
   "cell_type": "markdown",
   "id": "eacf3d57",
   "metadata": {},
   "source": [
    "It’s also easy to use the debugger to help develop code, especially when you wish to set\n",
    "breakpoints or step through the execution of a function or script to examine the state\n",
    "at each stage. There are several ways to accomplish this. The first is by using %run\n",
    "with the -d flag, which invokes the debugger before executing any code in the passed\n",
    "script. You must immediately press s (step) to enter the script:\n"
   ]
  },
  {
   "cell_type": "code",
   "execution_count": null,
   "id": "6d8870e5",
   "metadata": {},
   "outputs": [],
   "source": [
    "# In [5]: run -d examples/ipython_bug.py\n",
    "# Breakpoint 1 at /home/wesm/code/pydata-book/examples/ipython_bug.py:1\n",
    "# NOTE: Enter 'c' at the ipdb> prompt to start your script.\n",
    "# > <string>(1)<module>()\n",
    "# ipdb> s\n",
    "# --Call--\n",
    "# > /home/wesm/code/pydata-book/examples/ipython_bug.py(1)<module>()\n",
    "# 1---> 1 def works_fine():\n",
    "#  2 a = 5\n",
    "#  3 b = 6\n"
   ]
  },
  {
   "cell_type": "markdown",
   "id": "d71d86fd",
   "metadata": {},
   "source": [
    "After this point, it’s up to you how you want to work your way through the file. For\n",
    "example, in the preceding exception, we could set a breakpoint right before calling\n",
    "the works_fine method and run the script until we reach the breakpoint by pressing\n",
    "c (continue):\n"
   ]
  },
  {
   "cell_type": "code",
   "execution_count": 47,
   "id": "612371c6",
   "metadata": {},
   "outputs": [],
   "source": [
    "# ipdb> b 12\n",
    "# ipdb> c\n",
    "# > /home/wesm/code/pydata-book/examples/ipython_bug.py(12)calling_things()\n",
    "#  11 def calling_things():\n",
    "# 2--> 12 works_fine()\n",
    "#  13 throws_an_exception()"
   ]
  },
  {
   "cell_type": "markdown",
   "id": "dfde68fc",
   "metadata": {},
   "source": [
    "At this point, you can step into works_fine() or execute works_fine() by pressing n\n",
    "(next) to advance to the next line:\n"
   ]
  },
  {
   "cell_type": "code",
   "execution_count": 48,
   "id": "c2784e07",
   "metadata": {},
   "outputs": [],
   "source": [
    "# ipdb> n\n",
    "# > /home/wesm/code/pydata-book/examples/ipython_bug.py(13)calling_things()\n",
    "# 2 12 works_fine()\n",
    "# ---> 13 throws_an_exception()\n",
    "#  14"
   ]
  },
  {
   "cell_type": "markdown",
   "id": "f32e4df6",
   "metadata": {},
   "source": [
    "Then, we could step into throws_an_exception and advance to the line where the\n",
    "error occurs and look at the variables in the scope. Note that debugger commands\n",
    "take precedence over variable names; in such cases, preface the variables with ! to\n",
    "examine their contents:\n"
   ]
  },
  {
   "cell_type": "code",
   "execution_count": 50,
   "id": "5addd219",
   "metadata": {},
   "outputs": [],
   "source": [
    "# ipdb> s\n",
    "# --Call--\n",
    "# > /home/wesm/code/pydata-book/examples/ipython_bug.py(6)throws_an_exception()\n",
    "#  5\n",
    "# 6 def throws_an_exception():\n",
    "#  7 a = 5\n",
    "# ipdb> n\n",
    "# > /home/wesm/code/pydata-book/examples/ipython_bug.py(7)throws_an_exception()\n",
    "#  6 def throws_an_exception():\n",
    "# ----> 7 a = 5\n",
    "#  8 b = 6\n",
    "# ipdb> n\n",
    "# > /home/wesm/code/pydata-book/examples/ipython_bug.py(8)throws_an_exception()\n",
    "#  7 a = 5\n",
    "# ----> 8 b = 6\n",
    "#  9 assert(a + b == 10)\n",
    "# ipdb> n\n",
    "# > /home/wesm/code/pydata-book/examples/ipython_bug.py(9)throws_an_exception()\n",
    "#  8 b = 6\n",
    "# ----> 9 assert(a + b == 10)\n",
    "#  10\n",
    "# ipdb> !a\n",
    "# 5\n",
    "# ipdb> !b\n",
    "# 6\n"
   ]
  },
  {
   "cell_type": "markdown",
   "id": "173014ad",
   "metadata": {},
   "source": [
    "Developing proficiency with the interactive debugger is largely a matter of practice\n",
    "and experience. See Table B-2 for a full catalog of the debugger commands. If you are\n",
    "accustomed to using an IDE, you might find the terminal-driven debugger to be a bit\n",
    "unforgiving at first, but that will improve in time. Some of the Python IDEs have\n",
    "excellent GUI debuggers, so most users can find something that works for them."
   ]
  },
  {
   "cell_type": "markdown",
   "id": "fcfc00a7",
   "metadata": {},
   "source": [
    "Table B-2. (I)Python debugger commands\n",
    "-----------------------------------------------------------\n",
    "   \n",
    "Command --> Action\n",
    "  \n",
    "   \n",
    "h(elp) --> Display command list\n",
    "   \n",
    "     \n",
    "help --> command Show documentation for command\n",
    "  \n",
    "    \n",
    "c(ontinue) --> Resume program execution\n",
    "  \n",
    "    \n",
    "q(uit) --> Exit debugger without executing any more code\n",
    "   \n",
    "    \n",
    "b(reak) --> number Set breakpoint at number in current file\n",
    "  \n",
    "    \n",
    "b --> path/to/file.py:number Set breakpoint at line number in specified file\n",
    "  \n",
    "    \n",
    "s(tep) --> Step into function call\n",
    "  \n",
    "    \n",
    "n(ext) --> Execute current line and advance to next line at current level\n",
    "  \n",
    "    \n",
    "u(p)/d(own) --> Move up/down in function call stack\n",
    "  \n",
    "    \n",
    "a(rgs) --> Show arguments for current function\n",
    "   \n",
    "    \n",
    "debug --> statement Invoke statement statement in new (recursive) debugger\n",
    "  \n",
    "    \n",
    "l(ist) --> statement Show current position and context at current level of stack\n",
    "  \n",
    "    \n",
    "w(here) --> Print full stack trace with context at current position"
   ]
  },
  {
   "cell_type": "markdown",
   "id": "6f5a1d0e",
   "metadata": {},
   "source": [
    "## Other ways to make use of the debugger"
   ]
  },
  {
   "cell_type": "markdown",
   "id": "08fcfb93",
   "metadata": {},
   "source": [
    "There are a couple of other useful ways to invoke the debugger. The first is by using a\n",
    "special set_trace function (named after pdb.set_trace), which is basically a “poor\n",
    "man’s breakpoint.” Here are two small recipes you might want to put somewhere for\n",
    "your general use (potentially adding them to your IPython profile as I do):\n"
   ]
  },
  {
   "cell_type": "code",
   "execution_count": 51,
   "id": "ad466650",
   "metadata": {},
   "outputs": [],
   "source": [
    "from IPython.core.debugger import Pdb\n",
    "def set_trace():\n",
    "    Pdb(color_scheme='Linux').set_trace(sys._getframe().f_back)\n",
    "def debug(f, *args, **kwargs):\n",
    "    pdb = Pdb(color_scheme='Linux')\n",
    "    return pdb.runcall(f, *args, **kwargs)"
   ]
  },
  {
   "cell_type": "markdown",
   "id": "5deaf178",
   "metadata": {},
   "source": [
    "The first function, set_trace, is very simple. You can use a set_trace in any part of\n",
    "your code that you want to temporarily stop in order to more closely examine it (e.g.,\n",
    "right before an exception occurs):\n"
   ]
  },
  {
   "cell_type": "code",
   "execution_count": 52,
   "id": "d4dea6ec",
   "metadata": {},
   "outputs": [],
   "source": [
    "# run examples/ipython_bug.py\n",
    "# > /home/wesm/code/pydata-book/examples/ipython_bug.py(16)calling_things()\n",
    "#  15 set_trace()\n",
    "# ---> 16 throws_an_exception()\n",
    "#  17\n"
   ]
  },
  {
   "cell_type": "markdown",
   "id": "2771007b",
   "metadata": {},
   "source": [
    "Pressing c (continue) will cause the code to resume normally with no harm done."
   ]
  },
  {
   "cell_type": "markdown",
   "id": "698601fd",
   "metadata": {},
   "source": [
    "The debug function we just looked at enables you to invoke the interactive debugger\n",
    "easily on an arbitrary function call. Suppose we had written a function like the fol‐\n",
    "lowing and we wished to step through its logic:"
   ]
  },
  {
   "cell_type": "code",
   "execution_count": 53,
   "id": "e810aaa1",
   "metadata": {},
   "outputs": [],
   "source": [
    "def f(x, y, z=1):\n",
    "    tmp = x + y\n",
    "    return tmp / z"
   ]
  },
  {
   "cell_type": "markdown",
   "id": "b1d6b556",
   "metadata": {},
   "source": [
    "Ordinarily using f would look like f(1, 2, z=3). To instead step into f, pass f as the\n",
    "first argument to debug followed by the positional and keyword arguments to be\n",
    "passed to f"
   ]
  },
  {
   "cell_type": "code",
   "execution_count": 54,
   "id": "dda86a40",
   "metadata": {},
   "outputs": [
    {
     "name": "stderr",
     "output_type": "stream",
     "text": [
      "C:\\Users\\ankit19.gupta\\OneDrive - Reliance Corporate IT Park Limited\\Desktop\\Practice_Code\\Python_Practice\\Python_For_Data_Analysis\\myenv\\lib\\site-packages\\ipykernel_launcher.py:5: DeprecationWarning: The `color_scheme` argument is deprecated since version 5.1\n",
      "  \"\"\"\n"
     ]
    },
    {
     "name": "stdout",
     "output_type": "stream",
     "text": [
      "> \u001b[1;32m<ipython-input-53-359ec13d6433>\u001b[0m(2)\u001b[0;36mf\u001b[1;34m()\u001b[0m\n",
      "\u001b[1;32m      1 \u001b[1;33m\u001b[1;32mdef\u001b[0m \u001b[0mf\u001b[0m\u001b[1;33m(\u001b[0m\u001b[0mx\u001b[0m\u001b[1;33m,\u001b[0m \u001b[0my\u001b[0m\u001b[1;33m,\u001b[0m \u001b[0mz\u001b[0m\u001b[1;33m=\u001b[0m\u001b[1;36m1\u001b[0m\u001b[1;33m)\u001b[0m\u001b[1;33m:\u001b[0m\u001b[1;33m\u001b[0m\u001b[1;33m\u001b[0m\u001b[0m\n",
      "\u001b[0m\u001b[1;32m----> 2 \u001b[1;33m    \u001b[0mtmp\u001b[0m \u001b[1;33m=\u001b[0m \u001b[0mx\u001b[0m \u001b[1;33m+\u001b[0m \u001b[0my\u001b[0m\u001b[1;33m\u001b[0m\u001b[1;33m\u001b[0m\u001b[0m\n",
      "\u001b[0m\u001b[1;32m      3 \u001b[1;33m    \u001b[1;32mreturn\u001b[0m \u001b[0mtmp\u001b[0m \u001b[1;33m/\u001b[0m \u001b[0mz\u001b[0m\u001b[1;33m\u001b[0m\u001b[1;33m\u001b[0m\u001b[0m\n",
      "\u001b[0m\n",
      "ipdb> c\n"
     ]
    },
    {
     "data": {
      "text/plain": [
       "1.0"
      ]
     },
     "execution_count": 54,
     "metadata": {},
     "output_type": "execute_result"
    }
   ],
   "source": [
    "debug(f, 1, 2, z=3)"
   ]
  },
  {
   "cell_type": "code",
   "execution_count": 55,
   "id": "a6877a35",
   "metadata": {},
   "outputs": [],
   "source": [
    "# I find that these two simple recipes save me a lot of time on a day-to-day basis.\n"
   ]
  },
  {
   "cell_type": "markdown",
   "id": "408c910b",
   "metadata": {},
   "source": [
    "Lastly, the debugger can be used in conjunction with %run. By running a script with\n",
    "%run -d, you will be dropped directly into the debugger, ready to set any breakpoints\n",
    "and start the script:"
   ]
  },
  {
   "cell_type": "code",
   "execution_count": 56,
   "id": "1b52b1cc",
   "metadata": {},
   "outputs": [],
   "source": [
    "# In [1]: %run -d examples/ipython_bug.py\n",
    "# Breakpoint 1 at /home/wesm/code/pydata-book/examples/ipython_bug.py:1\n",
    "# NOTE: Enter 'c' at the ipdb> prompt to start your script.\n",
    "# > <string>(1)<module>()\n",
    "# ipdb>"
   ]
  },
  {
   "cell_type": "code",
   "execution_count": 57,
   "id": "b9093d92",
   "metadata": {},
   "outputs": [],
   "source": [
    "# Adding -b with a line number starts the debugger with a breakpoint set already:"
   ]
  },
  {
   "cell_type": "code",
   "execution_count": 58,
   "id": "9d677086",
   "metadata": {},
   "outputs": [],
   "source": [
    "# In [2]: %run -d -b2 examples/ipython_bug.py\n",
    "# Breakpoint 1 at /home/wesm/code/pydata-book/examples/ipython_bug.py:2\n",
    "# NOTE: Enter 'c' at the ipdb> prompt to start your script.\n",
    "# > <string>(1)<module>()\n",
    "# ipdb> c\n",
    "# > /home/wesm/code/pydata-book/examples/ipython_bug.py(2)works_fine()\n",
    "#  1 def works_fine():\n",
    "# 1---> 2 a = 5\n",
    "#  3 b = 6\n",
    "# ipdb>"
   ]
  },
  {
   "cell_type": "markdown",
   "id": "ec9b097e",
   "metadata": {},
   "source": [
    "## Timing Code: %time and %timeit\n"
   ]
  },
  {
   "cell_type": "markdown",
   "id": "6b3ca2eb",
   "metadata": {},
   "source": [
    "For larger-scale or longer-running data analysis applications, you may wish to meas‐\n",
    "ure the execution time of various components or of individual statements or function\n",
    "calls. You may want a report of which functions are taking up the most time in a com‐\n",
    "plex process. Fortunately, IPython enables you to get this information very easily\n",
    "while you are developing and testing your code.\n"
   ]
  },
  {
   "cell_type": "markdown",
   "id": "352cfd27",
   "metadata": {},
   "source": [
    "Timing code by hand using the built-in time module and its functions time.clock\n",
    "and time.time is often tedious and repetitive, as you must write the same uninterest‐\n",
    "ing boilerplate code:"
   ]
  },
  {
   "cell_type": "code",
   "execution_count": 63,
   "id": "932baa02",
   "metadata": {},
   "outputs": [],
   "source": [
    "import time\n",
    "start = time.time()\n",
    "for i in range(5):\n",
    "    x=1\n",
    "    # some code to run here\n",
    "elapsed_per = (time.time() - start) # iterations"
   ]
  },
  {
   "cell_type": "markdown",
   "id": "3a9c6834",
   "metadata": {},
   "source": [
    "Since this is such a common operation, IPython has two magic functions, %time and\n",
    "%timeit, to automate this process for you.\n"
   ]
  },
  {
   "cell_type": "markdown",
   "id": "cde1ae7b",
   "metadata": {},
   "source": [
    "%time runs a statement once, reporting the total execution time. Suppose we had a\n",
    "large list of strings and we wanted to compare different methods of selecting all strings starting with a particular prefix. Here is a simple list of 600,000 strings and\n",
    "two identical methods of selecting only the ones that start with 'foo':"
   ]
  },
  {
   "cell_type": "code",
   "execution_count": 64,
   "id": "cea6a7ae",
   "metadata": {},
   "outputs": [],
   "source": [
    "# a very large list of strings\n",
    "strings = ['foo', 'foobar', 'baz', 'qux',\n",
    " 'python', 'Guido Van Rossum'] * 100000\n",
    "method1 = [x for x in strings if x.startswith('foo')]\n",
    "method2 = [x for x in strings if x[:3] == 'foo']"
   ]
  },
  {
   "cell_type": "markdown",
   "id": "6d3c9710",
   "metadata": {},
   "source": [
    "It looks like they should be about the same performance-wise, right? We can check\n",
    "for sure using %time:\n"
   ]
  },
  {
   "cell_type": "code",
   "execution_count": 65,
   "id": "b71e6210",
   "metadata": {},
   "outputs": [
    {
     "name": "stdout",
     "output_type": "stream",
     "text": [
      "Wall time: 129 ms\n"
     ]
    }
   ],
   "source": [
    "%time method1 = [x for x in strings if x.startswith('foo')]"
   ]
  },
  {
   "cell_type": "code",
   "execution_count": 66,
   "id": "1f6bd258",
   "metadata": {},
   "outputs": [
    {
     "name": "stdout",
     "output_type": "stream",
     "text": [
      "Wall time: 72 ms\n"
     ]
    }
   ],
   "source": [
    "%time method2 = [x for x in strings if x[:3] == 'foo']"
   ]
  },
  {
   "cell_type": "markdown",
   "id": "a1f9e00e",
   "metadata": {},
   "source": [
    "The Wall time (short for “wall-clock time”) is the main number of interest. So, it\n",
    "looks like the first method takes more than twice as long, but it’s not a very precise\n",
    "measurement. If you try %time-ing those statements multiple times yourself, you’ll\n",
    "find that the results are somewhat variable. To get a more precise measurement, use\n",
    "the %timeit magic function. Given an arbitrary statement, it has a heuristic to run a\n",
    "statement multiple times to produce a more accurate average runtime:"
   ]
  },
  {
   "cell_type": "code",
   "execution_count": 67,
   "id": "868276e9",
   "metadata": {},
   "outputs": [
    {
     "name": "stdout",
     "output_type": "stream",
     "text": [
      "121 ms ± 25.2 ms per loop (mean ± std. dev. of 7 runs, 10 loops each)\n"
     ]
    }
   ],
   "source": [
    "%timeit [x for x in strings if x.startswith('foo')]"
   ]
  },
  {
   "cell_type": "code",
   "execution_count": 68,
   "id": "05be4cf7",
   "metadata": {},
   "outputs": [
    {
     "name": "stdout",
     "output_type": "stream",
     "text": [
      "37 ms ± 613 µs per loop (mean ± std. dev. of 7 runs, 10 loops each)\n"
     ]
    }
   ],
   "source": [
    "%timeit [x for x in strings if x[:3] == 'foo']"
   ]
  },
  {
   "cell_type": "markdown",
   "id": "515eaa43",
   "metadata": {},
   "source": [
    "This seemingly innocuous example illustrates that it is worth understanding the per‐\n",
    "formance characteristics of the Python standard library, NumPy, pandas, and other\n",
    "libraries used in this book. In larger-scale data analysis applications, those milli‐\n",
    "seconds will start to add up!\n"
   ]
  },
  {
   "cell_type": "markdown",
   "id": "f32c3e99",
   "metadata": {},
   "source": [
    "%timeit is especially useful for analyzing statements and functions with very short\n",
    "execution times, even at the level of microseconds (millionths of a second) or nano‐\n",
    "seconds (billionths of a second). These may seem like insignificant amounts of time,\n",
    "but of course a 20 microsecond function invoked 1 million times takes 15 seconds\n",
    "longer than a 5 microsecond function. In the preceding example, we could very\n",
    "directly compare the two string operations to understand their performance\n",
    "characteristics:\n"
   ]
  },
  {
   "cell_type": "code",
   "execution_count": 69,
   "id": "c8456ee8",
   "metadata": {},
   "outputs": [],
   "source": [
    "x = 'foobar'\n",
    "y = 'foo'\n"
   ]
  },
  {
   "cell_type": "code",
   "execution_count": 70,
   "id": "72072792",
   "metadata": {},
   "outputs": [
    {
     "name": "stdout",
     "output_type": "stream",
     "text": [
      "283 ns ± 45.7 ns per loop (mean ± std. dev. of 7 runs, 1000000 loops each)\n"
     ]
    }
   ],
   "source": [
    "%timeit x.startswith(y)"
   ]
  },
  {
   "cell_type": "code",
   "execution_count": 71,
   "id": "0c499052",
   "metadata": {},
   "outputs": [
    {
     "name": "stdout",
     "output_type": "stream",
     "text": [
      "130 ns ± 29.4 ns per loop (mean ± std. dev. of 7 runs, 10000000 loops each)\n"
     ]
    }
   ],
   "source": [
    "%timeit x[:3] == y"
   ]
  },
  {
   "cell_type": "markdown",
   "id": "af2d3b91",
   "metadata": {},
   "source": [
    "## Basic Profiling: %prun and %run -p\n"
   ]
  },
  {
   "cell_type": "markdown",
   "id": "eba99b3b",
   "metadata": {},
   "source": [
    "Profiling code is closely related to timing code, except it is concerned with determin‐\n",
    "ing where time is spent. The main Python profiling tool is the cProfile module,\n",
    "which is not specific to IPython at all. cProfile executes a program or any arbitrary\n",
    "block of code while keeping track of how much time is spent in each function.\n",
    "  \n",
    "      \n",
    "A common way to use cProfile is on the command line, running an entire program\n",
    "and outputting the aggregated time per function. Suppose we had a simple script that\n",
    "does some linear algebra in a loop (computing the maximum absolute eigenvalues of\n",
    "a series of 100 × 100 matrices):"
   ]
  },
  {
   "cell_type": "markdown",
   "id": "966019d4",
   "metadata": {},
   "source": [
    "You can run this script through cProfile using the following in the command line:"
   ]
  },
  {
   "cell_type": "code",
   "execution_count": null,
   "id": "3c66c61f",
   "metadata": {},
   "outputs": [],
   "source": [
    "# python -m cProfile cprof_example.py"
   ]
  },
  {
   "cell_type": "markdown",
   "id": "2437b7b3",
   "metadata": {},
   "source": [
    "If you try that, you’ll find that the output is sorted by function name. This makes it a\n",
    "bit hard to get an idea of where the most time is spent, so it’s very common to specify\n",
    "a sort order using the -s flag:\n"
   ]
  },
  {
   "cell_type": "code",
   "execution_count": 72,
   "id": "33584888",
   "metadata": {},
   "outputs": [],
   "source": [
    "# $ python -m cProfile -s cumulativcprof_example.pypy"
   ]
  },
  {
   "cell_type": "markdown",
   "id": "bdd882e1",
   "metadata": {},
   "source": [
    "Only the first 15 rows of the output are shown. It’s easiest to read by scanning down\n",
    "the cumtime column to see how much total time was spent inside each function. Note\n",
    "that if a function calls some other function, the clock does not stop running. cProfile\n",
    "records the start and end time of each function call and uses that to produce the\n",
    "timing"
   ]
  },
  {
   "cell_type": "markdown",
   "id": "0e4ea403",
   "metadata": {},
   "source": [
    "In addition to the command-line usage, cProfile can also be used programmatically\n",
    "to profile arbitrary blocks of code without having to run a new process. IPython has a\n",
    "convenient interface to this capability using the %prun command and the -p option to\n",
    "%run. %prun takes the same “command-line options” as cProfile but will profile an\n",
    "arbitrary Python statement instead of a whole .py file:"
   ]
  },
  {
   "cell_type": "code",
   "execution_count": 74,
   "id": "0a3d1003",
   "metadata": {},
   "outputs": [],
   "source": [
    "# %prun -l 7 -s cumulative run_experiment()"
   ]
  },
  {
   "cell_type": "markdown",
   "id": "044d85b6",
   "metadata": {},
   "source": [
    "Similarly, calling %run -p -s cumulative cprof_example.py has the same effect as\n",
    "the command-line approach, except you never have to leave IPython.\n",
    "  \n",
    "     \n",
    "In the Jupyter notebook, you can use the %%prun magic (two % signs) to profile an\n",
    "entire code block. This pops up a separate window with the profile output. This can\n",
    "be useful in getting possibly quick answers to questions like, “Why did that code\n",
    "block take so long to run?”"
   ]
  },
  {
   "cell_type": "code",
   "execution_count": 77,
   "id": "571f9f4e",
   "metadata": {},
   "outputs": [],
   "source": [
    "# %run -p -s cumulative cprof_example.py"
   ]
  },
  {
   "cell_type": "markdown",
   "id": "8addba0e",
   "metadata": {},
   "source": [
    "There are other tools available that help make profiles easier to understand when you\n",
    "are using IPython or Jupyter. One of these is SnakeViz, which produces an interactive\n",
    "visualization of the profile results using d3.js."
   ]
  },
  {
   "cell_type": "markdown",
   "id": "affb9af1",
   "metadata": {},
   "source": [
    "## Profiling a Function Line by Line"
   ]
  },
  {
   "cell_type": "markdown",
   "id": "66be5952",
   "metadata": {},
   "source": [
    "In some cases the information you obtain from %prun (or another cProfile-based\n",
    "profile method) may not tell the whole story about a function’s execution time, or it\n",
    "may be so complex that the results, aggregated by function name, are hard to inter‐\n",
    "pret. For this case, there is a small library called line_profiler (obtainable via PyPI\n",
    "or one of the package management tools). It contains an IPython extension enabling\n",
    "a new magic function %lprun that computes a line-by-line-profiling of one or more\n",
    "functions. You can enable this extension by modifying your IPython configuration\n",
    "(see the IPython documentation or the section on configuration later in this chapter)\n",
    "to include the following line:"
   ]
  },
  {
   "cell_type": "code",
   "execution_count": 79,
   "id": "578792f9",
   "metadata": {},
   "outputs": [],
   "source": [
    "# # A list of dotted module names of IPython extensions to load.\n",
    "# c.TerminalIPythonApp.extensions = ['line_profiler']"
   ]
  },
  {
   "cell_type": "markdown",
   "id": "14e48ced",
   "metadata": {},
   "source": [
    "You can also run the command:"
   ]
  },
  {
   "cell_type": "code",
   "execution_count": 81,
   "id": "67922441",
   "metadata": {},
   "outputs": [
    {
     "name": "stdout",
     "output_type": "stream",
     "text": [
      "Collecting line_profiler\n",
      "  Downloading line_profiler-4.1.2-cp36-cp36m-win_amd64.whl (129 kB)\n",
      "Installing collected packages: line-profiler\n",
      "Successfully installed line-profiler-4.1.2\n"
     ]
    }
   ],
   "source": [
    "! pip install line_profiler"
   ]
  },
  {
   "cell_type": "code",
   "execution_count": 84,
   "id": "caf8311d",
   "metadata": {},
   "outputs": [],
   "source": [
    "%load_ext line_profiler"
   ]
  },
  {
   "cell_type": "markdown",
   "id": "37e75b83",
   "metadata": {},
   "source": [
    "line_profiler can be used programmatically (see the full documentation), but it is\n",
    "perhaps most powerful when used interactively in IPython. Suppose you had a mod‐\n",
    "ule prof_mod with the following code doing some NumPy array operations:"
   ]
  },
  {
   "cell_type": "code",
   "execution_count": 85,
   "id": "f707919b",
   "metadata": {},
   "outputs": [],
   "source": [
    "from numpy.random import randn\n",
    "def add_and_sum(x, y):\n",
    "    added = x + y\n",
    "    summed = added.sum(axis=1)\n",
    "    return summed\n",
    "def call_function():\n",
    "    x = randn(1000, 1000)\n",
    "    y = randn(1000, 1000)\n",
    "    return add_and_sum(x, y)"
   ]
  },
  {
   "cell_type": "markdown",
   "id": "0496c511",
   "metadata": {},
   "source": [
    "If we wanted to understand the performance of the add_and_sum function, %prun\n",
    "gives us the following:\n"
   ]
  },
  {
   "cell_type": "code",
   "execution_count": 86,
   "id": "6cd2b291",
   "metadata": {},
   "outputs": [
    {
     "ename": "Exception",
     "evalue": "File `'prof_mod.py'` not found.",
     "output_type": "error",
     "traceback": [
      "\u001b[1;31m---------------------------------------------------------------------------\u001b[0m",
      "\u001b[1;31mOSError\u001b[0m                                   Traceback (most recent call last)",
      "\u001b[1;32m~\\OneDrive - Reliance Corporate IT Park Limited\\Desktop\\Practice_Code\\Python_Practice\\Python_For_Data_Analysis\\myenv\\lib\\site-packages\\IPython\\core\\magics\\execution.py\u001b[0m in \u001b[0;36mrun\u001b[1;34m(self, parameter_s, runner, file_finder)\u001b[0m\n\u001b[0;32m    696\u001b[0m             \u001b[0mfpath\u001b[0m \u001b[1;33m=\u001b[0m \u001b[0marg_lst\u001b[0m\u001b[1;33m[\u001b[0m\u001b[1;36m0\u001b[0m\u001b[1;33m]\u001b[0m\u001b[1;33m\u001b[0m\u001b[1;33m\u001b[0m\u001b[0m\n\u001b[1;32m--> 697\u001b[1;33m             \u001b[0mfilename\u001b[0m \u001b[1;33m=\u001b[0m \u001b[0mfile_finder\u001b[0m\u001b[1;33m(\u001b[0m\u001b[0mfpath\u001b[0m\u001b[1;33m)\u001b[0m\u001b[1;33m\u001b[0m\u001b[1;33m\u001b[0m\u001b[0m\n\u001b[0m\u001b[0;32m    698\u001b[0m         \u001b[1;32mexcept\u001b[0m \u001b[0mIndexError\u001b[0m\u001b[1;33m:\u001b[0m\u001b[1;33m\u001b[0m\u001b[1;33m\u001b[0m\u001b[0m\n",
      "\u001b[1;32m~\\OneDrive - Reliance Corporate IT Park Limited\\Desktop\\Practice_Code\\Python_Practice\\Python_For_Data_Analysis\\myenv\\lib\\site-packages\\IPython\\utils\\path.py\u001b[0m in \u001b[0;36mget_py_filename\u001b[1;34m(name, force_win32)\u001b[0m\n\u001b[0;32m    108\u001b[0m     \u001b[1;32melse\u001b[0m\u001b[1;33m:\u001b[0m\u001b[1;33m\u001b[0m\u001b[1;33m\u001b[0m\u001b[0m\n\u001b[1;32m--> 109\u001b[1;33m         \u001b[1;32mraise\u001b[0m \u001b[0mIOError\u001b[0m\u001b[1;33m(\u001b[0m\u001b[1;34m'File `%r` not found.'\u001b[0m \u001b[1;33m%\u001b[0m \u001b[0mname\u001b[0m\u001b[1;33m)\u001b[0m\u001b[1;33m\u001b[0m\u001b[1;33m\u001b[0m\u001b[0m\n\u001b[0m\u001b[0;32m    110\u001b[0m \u001b[1;33m\u001b[0m\u001b[0m\n",
      "\u001b[1;31mOSError\u001b[0m: File `'prof_mod.py'` not found.",
      "\nDuring handling of the above exception, another exception occurred:\n",
      "\u001b[1;31mException\u001b[0m                                 Traceback (most recent call last)",
      "\u001b[1;32m<ipython-input-86-1fc711dc3fdf>\u001b[0m in \u001b[0;36m<module>\u001b[1;34m\u001b[0m\n\u001b[1;32m----> 1\u001b[1;33m \u001b[0mget_ipython\u001b[0m\u001b[1;33m(\u001b[0m\u001b[1;33m)\u001b[0m\u001b[1;33m.\u001b[0m\u001b[0mrun_line_magic\u001b[0m\u001b[1;33m(\u001b[0m\u001b[1;34m'run'\u001b[0m\u001b[1;33m,\u001b[0m \u001b[1;34m'prof_mod'\u001b[0m\u001b[1;33m)\u001b[0m\u001b[1;33m\u001b[0m\u001b[1;33m\u001b[0m\u001b[0m\n\u001b[0m\u001b[0;32m      2\u001b[0m \u001b[0mx\u001b[0m \u001b[1;33m=\u001b[0m \u001b[0mrandn\u001b[0m\u001b[1;33m(\u001b[0m\u001b[1;36m3000\u001b[0m\u001b[1;33m,\u001b[0m \u001b[1;36m3000\u001b[0m\u001b[1;33m)\u001b[0m\u001b[1;33m\u001b[0m\u001b[1;33m\u001b[0m\u001b[0m\n\u001b[0;32m      3\u001b[0m \u001b[0my\u001b[0m \u001b[1;33m=\u001b[0m \u001b[0mrandn\u001b[0m\u001b[1;33m(\u001b[0m\u001b[1;36m3000\u001b[0m\u001b[1;33m,\u001b[0m \u001b[1;36m3000\u001b[0m\u001b[1;33m)\u001b[0m\u001b[1;33m\u001b[0m\u001b[1;33m\u001b[0m\u001b[0m\n\u001b[0;32m      4\u001b[0m \u001b[0mget_ipython\u001b[0m\u001b[1;33m(\u001b[0m\u001b[1;33m)\u001b[0m\u001b[1;33m.\u001b[0m\u001b[0mrun_line_magic\u001b[0m\u001b[1;33m(\u001b[0m\u001b[1;34m'prun'\u001b[0m\u001b[1;33m,\u001b[0m \u001b[1;34m'add_and_sum(x, y)'\u001b[0m\u001b[1;33m)\u001b[0m\u001b[1;33m\u001b[0m\u001b[1;33m\u001b[0m\u001b[0m\n",
      "\u001b[1;32m~\\OneDrive - Reliance Corporate IT Park Limited\\Desktop\\Practice_Code\\Python_Practice\\Python_For_Data_Analysis\\myenv\\lib\\site-packages\\IPython\\core\\interactiveshell.py\u001b[0m in \u001b[0;36mrun_line_magic\u001b[1;34m(self, magic_name, line, _stack_depth)\u001b[0m\n\u001b[0;32m   2324\u001b[0m                 \u001b[0mkwargs\u001b[0m\u001b[1;33m[\u001b[0m\u001b[1;34m'local_ns'\u001b[0m\u001b[1;33m]\u001b[0m \u001b[1;33m=\u001b[0m \u001b[0msys\u001b[0m\u001b[1;33m.\u001b[0m\u001b[0m_getframe\u001b[0m\u001b[1;33m(\u001b[0m\u001b[0mstack_depth\u001b[0m\u001b[1;33m)\u001b[0m\u001b[1;33m.\u001b[0m\u001b[0mf_locals\u001b[0m\u001b[1;33m\u001b[0m\u001b[1;33m\u001b[0m\u001b[0m\n\u001b[0;32m   2325\u001b[0m             \u001b[1;32mwith\u001b[0m \u001b[0mself\u001b[0m\u001b[1;33m.\u001b[0m\u001b[0mbuiltin_trap\u001b[0m\u001b[1;33m:\u001b[0m\u001b[1;33m\u001b[0m\u001b[1;33m\u001b[0m\u001b[0m\n\u001b[1;32m-> 2326\u001b[1;33m                 \u001b[0mresult\u001b[0m \u001b[1;33m=\u001b[0m \u001b[0mfn\u001b[0m\u001b[1;33m(\u001b[0m\u001b[1;33m*\u001b[0m\u001b[0margs\u001b[0m\u001b[1;33m,\u001b[0m \u001b[1;33m**\u001b[0m\u001b[0mkwargs\u001b[0m\u001b[1;33m)\u001b[0m\u001b[1;33m\u001b[0m\u001b[1;33m\u001b[0m\u001b[0m\n\u001b[0m\u001b[0;32m   2327\u001b[0m             \u001b[1;32mreturn\u001b[0m \u001b[0mresult\u001b[0m\u001b[1;33m\u001b[0m\u001b[1;33m\u001b[0m\u001b[0m\n\u001b[0;32m   2328\u001b[0m \u001b[1;33m\u001b[0m\u001b[0m\n",
      "\u001b[1;32m~\\OneDrive - Reliance Corporate IT Park Limited\\Desktop\\Practice_Code\\Python_Practice\\Python_For_Data_Analysis\\myenv\\lib\\site-packages\\decorator.py\u001b[0m in \u001b[0;36mfun\u001b[1;34m(*args, **kw)\u001b[0m\n\u001b[0;32m    230\u001b[0m             \u001b[1;32mif\u001b[0m \u001b[1;32mnot\u001b[0m \u001b[0mkwsyntax\u001b[0m\u001b[1;33m:\u001b[0m\u001b[1;33m\u001b[0m\u001b[1;33m\u001b[0m\u001b[0m\n\u001b[0;32m    231\u001b[0m                 \u001b[0margs\u001b[0m\u001b[1;33m,\u001b[0m \u001b[0mkw\u001b[0m \u001b[1;33m=\u001b[0m \u001b[0mfix\u001b[0m\u001b[1;33m(\u001b[0m\u001b[0margs\u001b[0m\u001b[1;33m,\u001b[0m \u001b[0mkw\u001b[0m\u001b[1;33m,\u001b[0m \u001b[0msig\u001b[0m\u001b[1;33m)\u001b[0m\u001b[1;33m\u001b[0m\u001b[1;33m\u001b[0m\u001b[0m\n\u001b[1;32m--> 232\u001b[1;33m             \u001b[1;32mreturn\u001b[0m \u001b[0mcaller\u001b[0m\u001b[1;33m(\u001b[0m\u001b[0mfunc\u001b[0m\u001b[1;33m,\u001b[0m \u001b[1;33m*\u001b[0m\u001b[1;33m(\u001b[0m\u001b[0mextras\u001b[0m \u001b[1;33m+\u001b[0m \u001b[0margs\u001b[0m\u001b[1;33m)\u001b[0m\u001b[1;33m,\u001b[0m \u001b[1;33m**\u001b[0m\u001b[0mkw\u001b[0m\u001b[1;33m)\u001b[0m\u001b[1;33m\u001b[0m\u001b[1;33m\u001b[0m\u001b[0m\n\u001b[0m\u001b[0;32m    233\u001b[0m     \u001b[0mfun\u001b[0m\u001b[1;33m.\u001b[0m\u001b[0m__name__\u001b[0m \u001b[1;33m=\u001b[0m \u001b[0mfunc\u001b[0m\u001b[1;33m.\u001b[0m\u001b[0m__name__\u001b[0m\u001b[1;33m\u001b[0m\u001b[1;33m\u001b[0m\u001b[0m\n\u001b[0;32m    234\u001b[0m     \u001b[0mfun\u001b[0m\u001b[1;33m.\u001b[0m\u001b[0m__doc__\u001b[0m \u001b[1;33m=\u001b[0m \u001b[0mfunc\u001b[0m\u001b[1;33m.\u001b[0m\u001b[0m__doc__\u001b[0m\u001b[1;33m\u001b[0m\u001b[1;33m\u001b[0m\u001b[0m\n",
      "\u001b[1;32m~\\OneDrive - Reliance Corporate IT Park Limited\\Desktop\\Practice_Code\\Python_Practice\\Python_For_Data_Analysis\\myenv\\lib\\site-packages\\IPython\\core\\magic.py\u001b[0m in \u001b[0;36m<lambda>\u001b[1;34m(f, *a, **k)\u001b[0m\n\u001b[0;32m    185\u001b[0m     \u001b[1;31m# but it's overkill for just that one bit of state.\u001b[0m\u001b[1;33m\u001b[0m\u001b[1;33m\u001b[0m\u001b[1;33m\u001b[0m\u001b[0m\n\u001b[0;32m    186\u001b[0m     \u001b[1;32mdef\u001b[0m \u001b[0mmagic_deco\u001b[0m\u001b[1;33m(\u001b[0m\u001b[0marg\u001b[0m\u001b[1;33m)\u001b[0m\u001b[1;33m:\u001b[0m\u001b[1;33m\u001b[0m\u001b[1;33m\u001b[0m\u001b[0m\n\u001b[1;32m--> 187\u001b[1;33m         \u001b[0mcall\u001b[0m \u001b[1;33m=\u001b[0m \u001b[1;32mlambda\u001b[0m \u001b[0mf\u001b[0m\u001b[1;33m,\u001b[0m \u001b[1;33m*\u001b[0m\u001b[0ma\u001b[0m\u001b[1;33m,\u001b[0m \u001b[1;33m**\u001b[0m\u001b[0mk\u001b[0m\u001b[1;33m:\u001b[0m \u001b[0mf\u001b[0m\u001b[1;33m(\u001b[0m\u001b[1;33m*\u001b[0m\u001b[0ma\u001b[0m\u001b[1;33m,\u001b[0m \u001b[1;33m**\u001b[0m\u001b[0mk\u001b[0m\u001b[1;33m)\u001b[0m\u001b[1;33m\u001b[0m\u001b[1;33m\u001b[0m\u001b[0m\n\u001b[0m\u001b[0;32m    188\u001b[0m \u001b[1;33m\u001b[0m\u001b[0m\n\u001b[0;32m    189\u001b[0m         \u001b[1;32mif\u001b[0m \u001b[0mcallable\u001b[0m\u001b[1;33m(\u001b[0m\u001b[0marg\u001b[0m\u001b[1;33m)\u001b[0m\u001b[1;33m:\u001b[0m\u001b[1;33m\u001b[0m\u001b[1;33m\u001b[0m\u001b[0m\n",
      "\u001b[1;32m~\\OneDrive - Reliance Corporate IT Park Limited\\Desktop\\Practice_Code\\Python_Practice\\Python_For_Data_Analysis\\myenv\\lib\\site-packages\\IPython\\core\\magics\\execution.py\u001b[0m in \u001b[0;36mrun\u001b[1;34m(self, parameter_s, runner, file_finder)\u001b[0m\n\u001b[0;32m    706\u001b[0m             \u001b[1;32mif\u001b[0m \u001b[0mos\u001b[0m\u001b[1;33m.\u001b[0m\u001b[0mname\u001b[0m \u001b[1;33m==\u001b[0m \u001b[1;34m'nt'\u001b[0m \u001b[1;32mand\u001b[0m \u001b[0mre\u001b[0m\u001b[1;33m.\u001b[0m\u001b[0mmatch\u001b[0m\u001b[1;33m(\u001b[0m\u001b[1;34mr\"^'.*'$\"\u001b[0m\u001b[1;33m,\u001b[0m\u001b[0mfpath\u001b[0m\u001b[1;33m)\u001b[0m\u001b[1;33m:\u001b[0m\u001b[1;33m\u001b[0m\u001b[1;33m\u001b[0m\u001b[0m\n\u001b[0;32m    707\u001b[0m                 \u001b[0mwarn\u001b[0m\u001b[1;33m(\u001b[0m\u001b[1;34m'For Windows, use double quotes to wrap a filename: %run \"mypath\\\\myfile.py\"'\u001b[0m\u001b[1;33m)\u001b[0m\u001b[1;33m\u001b[0m\u001b[1;33m\u001b[0m\u001b[0m\n\u001b[1;32m--> 708\u001b[1;33m             \u001b[1;32mraise\u001b[0m \u001b[0mException\u001b[0m\u001b[1;33m(\u001b[0m\u001b[0mmsg\u001b[0m\u001b[1;33m)\u001b[0m\u001b[1;33m\u001b[0m\u001b[1;33m\u001b[0m\u001b[0m\n\u001b[0m\u001b[0;32m    709\u001b[0m         \u001b[1;32mexcept\u001b[0m \u001b[0mTypeError\u001b[0m\u001b[1;33m:\u001b[0m\u001b[1;33m\u001b[0m\u001b[1;33m\u001b[0m\u001b[0m\n\u001b[0;32m    710\u001b[0m             \u001b[1;32mif\u001b[0m \u001b[0mfpath\u001b[0m \u001b[1;32min\u001b[0m \u001b[0msys\u001b[0m\u001b[1;33m.\u001b[0m\u001b[0mmeta_path\u001b[0m\u001b[1;33m:\u001b[0m\u001b[1;33m\u001b[0m\u001b[1;33m\u001b[0m\u001b[0m\n",
      "\u001b[1;31mException\u001b[0m: File `'prof_mod.py'` not found."
     ]
    }
   ],
   "source": [
    "%run prof_mod\n",
    "x = randn(3000, 3000)\n",
    "y = randn(3000, 3000)\n",
    "%prun add_and_sum(x, y)"
   ]
  },
  {
   "cell_type": "markdown",
   "id": "7ed5ffb2",
   "metadata": {},
   "source": [
    "This is not especially enlightening. With the line_profiler IPython extension acti‐\n",
    "vated, a new command %lprun is available. The only difference in usage is that we\n",
    "must instruct %lprun which function or functions we wish to profile. The general\n",
    "syntax is:"
   ]
  },
  {
   "cell_type": "code",
   "execution_count": 88,
   "id": "9e9bf499",
   "metadata": {},
   "outputs": [],
   "source": [
    "# %lprun -f func1 -f func2 statement_to_profile"
   ]
  },
  {
   "cell_type": "markdown",
   "id": "63830554",
   "metadata": {},
   "source": [
    "In this case, we want to profile add_and_sum, so we run:"
   ]
  },
  {
   "cell_type": "code",
   "execution_count": 89,
   "id": "923c84a6",
   "metadata": {},
   "outputs": [
    {
     "ename": "AttributeError",
     "evalue": "'str' object has no attribute 'sum'",
     "output_type": "error",
     "traceback": [
      "\u001b[1;31m---------------------------------------------------------------------------\u001b[0m",
      "\u001b[1;31mAttributeError\u001b[0m                            Traceback (most recent call last)",
      "\u001b[1;32m<ipython-input-89-c740a2825365>\u001b[0m in \u001b[0;36m<module>\u001b[1;34m\u001b[0m\n\u001b[1;32m----> 1\u001b[1;33m \u001b[0mget_ipython\u001b[0m\u001b[1;33m(\u001b[0m\u001b[1;33m)\u001b[0m\u001b[1;33m.\u001b[0m\u001b[0mrun_line_magic\u001b[0m\u001b[1;33m(\u001b[0m\u001b[1;34m'lprun'\u001b[0m\u001b[1;33m,\u001b[0m \u001b[1;34m'-f add_and_sum add_and_sum(x, y)'\u001b[0m\u001b[1;33m)\u001b[0m\u001b[1;33m\u001b[0m\u001b[1;33m\u001b[0m\u001b[0m\n\u001b[0m",
      "\u001b[1;32m~\\OneDrive - Reliance Corporate IT Park Limited\\Desktop\\Practice_Code\\Python_Practice\\Python_For_Data_Analysis\\myenv\\lib\\site-packages\\IPython\\core\\interactiveshell.py\u001b[0m in \u001b[0;36mrun_line_magic\u001b[1;34m(self, magic_name, line, _stack_depth)\u001b[0m\n\u001b[0;32m   2324\u001b[0m                 \u001b[0mkwargs\u001b[0m\u001b[1;33m[\u001b[0m\u001b[1;34m'local_ns'\u001b[0m\u001b[1;33m]\u001b[0m \u001b[1;33m=\u001b[0m \u001b[0msys\u001b[0m\u001b[1;33m.\u001b[0m\u001b[0m_getframe\u001b[0m\u001b[1;33m(\u001b[0m\u001b[0mstack_depth\u001b[0m\u001b[1;33m)\u001b[0m\u001b[1;33m.\u001b[0m\u001b[0mf_locals\u001b[0m\u001b[1;33m\u001b[0m\u001b[1;33m\u001b[0m\u001b[0m\n\u001b[0;32m   2325\u001b[0m             \u001b[1;32mwith\u001b[0m \u001b[0mself\u001b[0m\u001b[1;33m.\u001b[0m\u001b[0mbuiltin_trap\u001b[0m\u001b[1;33m:\u001b[0m\u001b[1;33m\u001b[0m\u001b[1;33m\u001b[0m\u001b[0m\n\u001b[1;32m-> 2326\u001b[1;33m                 \u001b[0mresult\u001b[0m \u001b[1;33m=\u001b[0m \u001b[0mfn\u001b[0m\u001b[1;33m(\u001b[0m\u001b[1;33m*\u001b[0m\u001b[0margs\u001b[0m\u001b[1;33m,\u001b[0m \u001b[1;33m**\u001b[0m\u001b[0mkwargs\u001b[0m\u001b[1;33m)\u001b[0m\u001b[1;33m\u001b[0m\u001b[1;33m\u001b[0m\u001b[0m\n\u001b[0m\u001b[0;32m   2327\u001b[0m             \u001b[1;32mreturn\u001b[0m \u001b[0mresult\u001b[0m\u001b[1;33m\u001b[0m\u001b[1;33m\u001b[0m\u001b[0m\n\u001b[0;32m   2328\u001b[0m \u001b[1;33m\u001b[0m\u001b[0m\n",
      "\u001b[1;32m~\\OneDrive - Reliance Corporate IT Park Limited\\Desktop\\Practice_Code\\Python_Practice\\Python_For_Data_Analysis\\myenv\\lib\\site-packages\\decorator.py\u001b[0m in \u001b[0;36mfun\u001b[1;34m(*args, **kw)\u001b[0m\n\u001b[0;32m    230\u001b[0m             \u001b[1;32mif\u001b[0m \u001b[1;32mnot\u001b[0m \u001b[0mkwsyntax\u001b[0m\u001b[1;33m:\u001b[0m\u001b[1;33m\u001b[0m\u001b[1;33m\u001b[0m\u001b[0m\n\u001b[0;32m    231\u001b[0m                 \u001b[0margs\u001b[0m\u001b[1;33m,\u001b[0m \u001b[0mkw\u001b[0m \u001b[1;33m=\u001b[0m \u001b[0mfix\u001b[0m\u001b[1;33m(\u001b[0m\u001b[0margs\u001b[0m\u001b[1;33m,\u001b[0m \u001b[0mkw\u001b[0m\u001b[1;33m,\u001b[0m \u001b[0msig\u001b[0m\u001b[1;33m)\u001b[0m\u001b[1;33m\u001b[0m\u001b[1;33m\u001b[0m\u001b[0m\n\u001b[1;32m--> 232\u001b[1;33m             \u001b[1;32mreturn\u001b[0m \u001b[0mcaller\u001b[0m\u001b[1;33m(\u001b[0m\u001b[0mfunc\u001b[0m\u001b[1;33m,\u001b[0m \u001b[1;33m*\u001b[0m\u001b[1;33m(\u001b[0m\u001b[0mextras\u001b[0m \u001b[1;33m+\u001b[0m \u001b[0margs\u001b[0m\u001b[1;33m)\u001b[0m\u001b[1;33m,\u001b[0m \u001b[1;33m**\u001b[0m\u001b[0mkw\u001b[0m\u001b[1;33m)\u001b[0m\u001b[1;33m\u001b[0m\u001b[1;33m\u001b[0m\u001b[0m\n\u001b[0m\u001b[0;32m    233\u001b[0m     \u001b[0mfun\u001b[0m\u001b[1;33m.\u001b[0m\u001b[0m__name__\u001b[0m \u001b[1;33m=\u001b[0m \u001b[0mfunc\u001b[0m\u001b[1;33m.\u001b[0m\u001b[0m__name__\u001b[0m\u001b[1;33m\u001b[0m\u001b[1;33m\u001b[0m\u001b[0m\n\u001b[0;32m    234\u001b[0m     \u001b[0mfun\u001b[0m\u001b[1;33m.\u001b[0m\u001b[0m__doc__\u001b[0m \u001b[1;33m=\u001b[0m \u001b[0mfunc\u001b[0m\u001b[1;33m.\u001b[0m\u001b[0m__doc__\u001b[0m\u001b[1;33m\u001b[0m\u001b[1;33m\u001b[0m\u001b[0m\n",
      "\u001b[1;32m~\\OneDrive - Reliance Corporate IT Park Limited\\Desktop\\Practice_Code\\Python_Practice\\Python_For_Data_Analysis\\myenv\\lib\\site-packages\\IPython\\core\\magic.py\u001b[0m in \u001b[0;36m<lambda>\u001b[1;34m(f, *a, **k)\u001b[0m\n\u001b[0;32m    185\u001b[0m     \u001b[1;31m# but it's overkill for just that one bit of state.\u001b[0m\u001b[1;33m\u001b[0m\u001b[1;33m\u001b[0m\u001b[1;33m\u001b[0m\u001b[0m\n\u001b[0;32m    186\u001b[0m     \u001b[1;32mdef\u001b[0m \u001b[0mmagic_deco\u001b[0m\u001b[1;33m(\u001b[0m\u001b[0marg\u001b[0m\u001b[1;33m)\u001b[0m\u001b[1;33m:\u001b[0m\u001b[1;33m\u001b[0m\u001b[1;33m\u001b[0m\u001b[0m\n\u001b[1;32m--> 187\u001b[1;33m         \u001b[0mcall\u001b[0m \u001b[1;33m=\u001b[0m \u001b[1;32mlambda\u001b[0m \u001b[0mf\u001b[0m\u001b[1;33m,\u001b[0m \u001b[1;33m*\u001b[0m\u001b[0ma\u001b[0m\u001b[1;33m,\u001b[0m \u001b[1;33m**\u001b[0m\u001b[0mk\u001b[0m\u001b[1;33m:\u001b[0m \u001b[0mf\u001b[0m\u001b[1;33m(\u001b[0m\u001b[1;33m*\u001b[0m\u001b[0ma\u001b[0m\u001b[1;33m,\u001b[0m \u001b[1;33m**\u001b[0m\u001b[0mk\u001b[0m\u001b[1;33m)\u001b[0m\u001b[1;33m\u001b[0m\u001b[1;33m\u001b[0m\u001b[0m\n\u001b[0m\u001b[0;32m    188\u001b[0m \u001b[1;33m\u001b[0m\u001b[0m\n\u001b[0;32m    189\u001b[0m         \u001b[1;32mif\u001b[0m \u001b[0mcallable\u001b[0m\u001b[1;33m(\u001b[0m\u001b[0marg\u001b[0m\u001b[1;33m)\u001b[0m\u001b[1;33m:\u001b[0m\u001b[1;33m\u001b[0m\u001b[1;33m\u001b[0m\u001b[0m\n",
      "\u001b[1;32m~\\OneDrive - Reliance Corporate IT Park Limited\\Desktop\\Practice_Code\\Python_Practice\\Python_For_Data_Analysis\\myenv\\lib\\site-packages\\line_profiler\\ipython_extension.py\u001b[0m in \u001b[0;36mlprun\u001b[1;34m(self, parameter_s)\u001b[0m\n\u001b[0;32m    128\u001b[0m         \u001b[1;32mtry\u001b[0m\u001b[1;33m:\u001b[0m\u001b[1;33m\u001b[0m\u001b[1;33m\u001b[0m\u001b[0m\n\u001b[0;32m    129\u001b[0m             \u001b[1;32mtry\u001b[0m\u001b[1;33m:\u001b[0m\u001b[1;33m\u001b[0m\u001b[1;33m\u001b[0m\u001b[0m\n\u001b[1;32m--> 130\u001b[1;33m                 \u001b[0mprofile\u001b[0m\u001b[1;33m.\u001b[0m\u001b[0mrunctx\u001b[0m\u001b[1;33m(\u001b[0m\u001b[0marg_str\u001b[0m\u001b[1;33m,\u001b[0m \u001b[0mglobal_ns\u001b[0m\u001b[1;33m,\u001b[0m \u001b[0mlocal_ns\u001b[0m\u001b[1;33m)\u001b[0m\u001b[1;33m\u001b[0m\u001b[1;33m\u001b[0m\u001b[0m\n\u001b[0m\u001b[0;32m    131\u001b[0m                 \u001b[0mmessage\u001b[0m \u001b[1;33m=\u001b[0m \u001b[1;34m\"\"\u001b[0m\u001b[1;33m\u001b[0m\u001b[1;33m\u001b[0m\u001b[0m\n\u001b[0;32m    132\u001b[0m             \u001b[1;32mexcept\u001b[0m \u001b[0mSystemExit\u001b[0m\u001b[1;33m:\u001b[0m\u001b[1;33m\u001b[0m\u001b[1;33m\u001b[0m\u001b[0m\n",
      "\u001b[1;32m~\\OneDrive - Reliance Corporate IT Park Limited\\Desktop\\Practice_Code\\Python_Practice\\Python_For_Data_Analysis\\myenv\\lib\\site-packages\\line_profiler\\line_profiler.py\u001b[0m in \u001b[0;36mrunctx\u001b[1;34m(self, cmd, globals, locals)\u001b[0m\n\u001b[0;32m    183\u001b[0m         \u001b[0mself\u001b[0m\u001b[1;33m.\u001b[0m\u001b[0menable_by_count\u001b[0m\u001b[1;33m(\u001b[0m\u001b[1;33m)\u001b[0m\u001b[1;33m\u001b[0m\u001b[1;33m\u001b[0m\u001b[0m\n\u001b[0;32m    184\u001b[0m         \u001b[1;32mtry\u001b[0m\u001b[1;33m:\u001b[0m\u001b[1;33m\u001b[0m\u001b[1;33m\u001b[0m\u001b[0m\n\u001b[1;32m--> 185\u001b[1;33m             \u001b[0mexec\u001b[0m\u001b[1;33m(\u001b[0m\u001b[0mcmd\u001b[0m\u001b[1;33m,\u001b[0m \u001b[0mglobals\u001b[0m\u001b[1;33m,\u001b[0m \u001b[0mlocals\u001b[0m\u001b[1;33m)\u001b[0m\u001b[1;33m\u001b[0m\u001b[1;33m\u001b[0m\u001b[0m\n\u001b[0m\u001b[0;32m    186\u001b[0m         \u001b[1;32mfinally\u001b[0m\u001b[1;33m:\u001b[0m\u001b[1;33m\u001b[0m\u001b[1;33m\u001b[0m\u001b[0m\n\u001b[0;32m    187\u001b[0m             \u001b[0mself\u001b[0m\u001b[1;33m.\u001b[0m\u001b[0mdisable_by_count\u001b[0m\u001b[1;33m(\u001b[0m\u001b[1;33m)\u001b[0m\u001b[1;33m\u001b[0m\u001b[1;33m\u001b[0m\u001b[0m\n",
      "\u001b[1;32m<string>\u001b[0m in \u001b[0;36m<module>\u001b[1;34m\u001b[0m\n",
      "\u001b[1;32m<ipython-input-85-0355268a1452>\u001b[0m in \u001b[0;36madd_and_sum\u001b[1;34m(x, y)\u001b[0m\n\u001b[0;32m      2\u001b[0m \u001b[1;32mdef\u001b[0m \u001b[0madd_and_sum\u001b[0m\u001b[1;33m(\u001b[0m\u001b[0mx\u001b[0m\u001b[1;33m,\u001b[0m \u001b[0my\u001b[0m\u001b[1;33m)\u001b[0m\u001b[1;33m:\u001b[0m\u001b[1;33m\u001b[0m\u001b[1;33m\u001b[0m\u001b[0m\n\u001b[0;32m      3\u001b[0m     \u001b[0madded\u001b[0m \u001b[1;33m=\u001b[0m \u001b[0mx\u001b[0m \u001b[1;33m+\u001b[0m \u001b[0my\u001b[0m\u001b[1;33m\u001b[0m\u001b[1;33m\u001b[0m\u001b[0m\n\u001b[1;32m----> 4\u001b[1;33m     \u001b[0msummed\u001b[0m \u001b[1;33m=\u001b[0m \u001b[0madded\u001b[0m\u001b[1;33m.\u001b[0m\u001b[0msum\u001b[0m\u001b[1;33m(\u001b[0m\u001b[0maxis\u001b[0m\u001b[1;33m=\u001b[0m\u001b[1;36m1\u001b[0m\u001b[1;33m)\u001b[0m\u001b[1;33m\u001b[0m\u001b[1;33m\u001b[0m\u001b[0m\n\u001b[0m\u001b[0;32m      5\u001b[0m     \u001b[1;32mreturn\u001b[0m \u001b[0msummed\u001b[0m\u001b[1;33m\u001b[0m\u001b[1;33m\u001b[0m\u001b[0m\n\u001b[0;32m      6\u001b[0m \u001b[1;32mdef\u001b[0m \u001b[0mcall_function\u001b[0m\u001b[1;33m(\u001b[0m\u001b[1;33m)\u001b[0m\u001b[1;33m:\u001b[0m\u001b[1;33m\u001b[0m\u001b[1;33m\u001b[0m\u001b[0m\n",
      "\u001b[1;31mAttributeError\u001b[0m: 'str' object has no attribute 'sum'"
     ]
    }
   ],
   "source": [
    "%lprun -f add_and_sum add_and_sum(x, y)"
   ]
  },
  {
   "cell_type": "markdown",
   "id": "6217d8fd",
   "metadata": {},
   "source": [
    "This can be much easier to interpret. In this case we profiled the same function we\n",
    "used in the statement. Looking at the preceding module code, we could call\n",
    "call_function and profile that as well as add_and_sum, thus getting a full picture of\n",
    "the performance of the code:"
   ]
  },
  {
   "cell_type": "code",
   "execution_count": 90,
   "id": "581f84e5",
   "metadata": {},
   "outputs": [],
   "source": [
    "# %lprun -f add_and_sum -f call_function call_function()"
   ]
  },
  {
   "cell_type": "markdown",
   "id": "f2893120",
   "metadata": {},
   "source": [
    "As a general rule of thumb, I tend to prefer %prun (cProfile) for “macro” profiling\n",
    "and %lprun (line_profiler) for “micro” profiling. It’s worthwhile to have a good\n",
    "understanding of both tools."
   ]
  },
  {
   "cell_type": "markdown",
   "id": "aa78a8b8",
   "metadata": {},
   "source": [
    "The reason that you must explicitly specify the names of the func‐\n",
    "tions you want to profile with %lprun is that the overhead of “trac‐\n",
    "ing” the execution time of each line is substantial. Tracing\n",
    "functions that are not of interest has the potential to significantly\n",
    "alter the profile results."
   ]
  },
  {
   "cell_type": "markdown",
   "id": "09e41587",
   "metadata": {},
   "source": [
    "## B.4 Tips for Productive Code Development Using IPython"
   ]
  },
  {
   "cell_type": "markdown",
   "id": "62e8a419",
   "metadata": {},
   "source": [
    "Writing code in a way that makes it easy to develop, debug, and ultimately use inter‐\n",
    "actively may be a paradigm shift for many users. There are procedural details like\n",
    "code reloading that may require some adjustment as well as coding style concerns.\n"
   ]
  },
  {
   "cell_type": "markdown",
   "id": "7700350b",
   "metadata": {},
   "source": [
    "Therefore, implementing most of the strategies described in this section is more of an\n",
    "art than a science and will require some experimentation on your part to determine a\n",
    "way to write your Python code that is effective for you. Ultimately you want to struc‐\n",
    "ture your code in a way that makes it easy to use iteratively and to be able to explore\n",
    "the results of running a program or function as effortlessly as possible. I have found\n",
    "software designed with IPython in mind to be easier to work with than code intended\n",
    "only to be run as as standalone command-line application. This becomes especially\n",
    "important when something goes wrong and you have to diagnose an error in code\n",
    "that you or someone else might have written months or years beforehand."
   ]
  },
  {
   "cell_type": "markdown",
   "id": "fdcd29c3",
   "metadata": {},
   "source": [
    "## Reloading Module Dependencies"
   ]
  },
  {
   "cell_type": "markdown",
   "id": "70d7e191",
   "metadata": {},
   "source": [
    "In Python, when you type import some_lib, the code in some_lib is executed and all\n",
    "the variables, functions, and imports defined within are stored in the newly created\n",
    "some_lib module namespace. The next time you type import some_lib, you will get\n",
    "a reference to the existing module namespace. The potential difficulty in interactive\n",
    "IPython code development comes when you, say, %run a script that depends on some\n",
    "other module where you may have made changes. Suppose I had the following code\n",
    "in test_script.py"
   ]
  },
  {
   "cell_type": "code",
   "execution_count": 92,
   "id": "d6db93ab",
   "metadata": {},
   "outputs": [],
   "source": [
    "# import some_lib\n",
    "# x = 5\n",
    "# y = [1, 2, 3, 4]\n",
    "# result = some_lib.get_answer(x, y)"
   ]
  },
  {
   "cell_type": "markdown",
   "id": "c9ad64e5",
   "metadata": {},
   "source": [
    "If you were to execute %run test_script.py then modify some_lib.py, the next time\n",
    "you execute %run test_script.py you will still get the old version of some_lib.py\n",
    "because of Python’s “load-once” module system. This behavior differs from some other data analysis environments, like MATLAB, which automatically propagate code\n",
    "changes.1\n",
    " To cope with this, you have a couple of options. The first way is to use the\n",
    "reload function in the importlib module in the standard library:"
   ]
  },
  {
   "cell_type": "code",
   "execution_count": 93,
   "id": "00a2707b",
   "metadata": {},
   "outputs": [],
   "source": [
    "# import some_lib\n",
    "# import importlib\n",
    "# importlib.reload(some_lib)"
   ]
  },
  {
   "cell_type": "markdown",
   "id": "04a5203e",
   "metadata": {},
   "source": [
    "This guarantees that you will get a fresh copy of some_lib.py every time you run\n",
    "test_script.py. Obviously, if the dependencies go deeper, it might be a bit tricky to be\n",
    "inserting usages of reload all over the place. For this problem, IPython has a special\n",
    "dreload function (not a magic function) for “deep” (recursive) reloading of modules.\n",
    "If I were to run some_lib.py then type dreload(some_lib), it will attempt to reload\n",
    "some_lib as well as all of its dependencies. This will not work in all cases, unfortu‐\n",
    "nately, but when it does it beats having to restart IPython."
   ]
  },
  {
   "cell_type": "markdown",
   "id": "bc7b5b77",
   "metadata": {},
   "source": [
    "## Code Design Tips"
   ]
  },
  {
   "cell_type": "markdown",
   "id": "7305d649",
   "metadata": {},
   "source": [
    "There’s no simple recipe for this, but here are some high-level principles I have found\n",
    "effective in my own work.\n"
   ]
  },
  {
   "cell_type": "markdown",
   "id": "5c2519f6",
   "metadata": {},
   "source": [
    "## Keep relevant objects and data alive"
   ]
  },
  {
   "cell_type": "markdown",
   "id": "db658eb0",
   "metadata": {},
   "source": [
    "It’s not unusual to see a program written for the command line with a structure some‐\n",
    "what like the following trivial example:\n"
   ]
  },
  {
   "cell_type": "code",
   "execution_count": 95,
   "id": "1ca4725b",
   "metadata": {},
   "outputs": [],
   "source": [
    "# from my_functions import g\n",
    "# def f(x, y):\n",
    "#     return g(x + y)\n",
    "# def main():\n",
    "#     x = 6\n",
    "#     y = 7.5\n",
    "#     result = x + y\n",
    "# if __name__ == '__main__':\n",
    "#     main()"
   ]
  },
  {
   "cell_type": "markdown",
   "id": "42e30117",
   "metadata": {},
   "source": [
    "Do you see what might go wrong if we were to run this program in IPython? After it’s\n",
    "done, none of the results or objects defined in the main function will be accessible in\n",
    "the IPython shell. A better way is to have whatever code is in main execute directly in\n",
    "the module’s global namespace (or in the if __name__ == '__main__': block, if you want the module to also be importable). That way, when you %run the code, you’ll be\n",
    "able to look at all of the variables defined in main. This is equivalent to defining toplevel variables in cells in the Jupyter notebook."
   ]
  },
  {
   "cell_type": "markdown",
   "id": "b6825a40",
   "metadata": {},
   "source": [
    "### Flat is better than nested\n"
   ]
  },
  {
   "cell_type": "markdown",
   "id": "06cef0fd",
   "metadata": {},
   "source": [
    "Deeply nested code makes me think about the many layers of an onion. When testing\n",
    "or debugging a function, how many layers of the onion must you peel back in order\n",
    "to reach the code of interest? The idea that “flat is better than nested” is a part of the\n",
    "Zen of Python, and it applies generally to developing code for interactive use as well.\n",
    "Making functions and classes as decoupled and modular as possible makes them eas‐\n",
    "ier to test (if you are writing unit tests), debug, and use interactively"
   ]
  },
  {
   "cell_type": "markdown",
   "id": "f5495cfa",
   "metadata": {},
   "source": [
    "### Overcome a fear of longer files"
   ]
  },
  {
   "cell_type": "markdown",
   "id": "22fa9da8",
   "metadata": {},
   "source": [
    "If you come from a Java (or another such language) background, you may have been\n",
    "told to keep files short. In many languages, this is sound advice; long length is usually\n",
    "a bad “code smell,” indicating refactoring or reorganization may be necessary. How‐\n",
    "ever, while developing code using IPython, working with 10 small but interconnected\n",
    "files (under, say, 100 lines each) is likely to cause you more headaches in general than\n",
    "two or three longer files. Fewer files means fewer modules to reload and less jumping\n",
    "between files while editing, too. I have found maintaining larger modules, each with\n",
    "high internal cohesion, to be much more useful and Pythonic. After iterating toward\n",
    "a solution, it sometimes will make sense to refactor larger files into smaller ones."
   ]
  },
  {
   "cell_type": "markdown",
   "id": "ed7e767c",
   "metadata": {},
   "source": [
    "Obviously, I don’t support taking this argument to the extreme, which would to be to\n",
    "put all of your code in a single monstrous file. Finding a sensible and intuitive mod‐\n",
    "ule and package structure for a large codebase often takes a bit of work, but it is espe‐\n",
    "cially important to get right in teams. Each module should be internally cohesive, and\n",
    "it should be as obvious as possible where to find functions and classes responsible for\n",
    "each area of functionality"
   ]
  },
  {
   "cell_type": "markdown",
   "id": "922dc0e2",
   "metadata": {},
   "source": [
    "## B.5 Advanced IPython Features"
   ]
  },
  {
   "cell_type": "markdown",
   "id": "cf9e2e7b",
   "metadata": {},
   "source": [
    "Making full use of the IPython system may lead you to write your code in a slightly\n",
    "different way, or to dig into the configuration.\n"
   ]
  },
  {
   "cell_type": "markdown",
   "id": "4af49546",
   "metadata": {},
   "source": [
    "### Making Your Own Classes IPython-Friendly"
   ]
  },
  {
   "cell_type": "markdown",
   "id": "bf315aaf",
   "metadata": {},
   "source": [
    "IPython makes every effort to display a console-friendly string representation of any\n",
    "object that you inspect. For many objects, like dicts, lists, and tuples, the built-in\n",
    "pprint module is used to do the nice formatting. In user-defined classes, however,\n",
    "you have to generate the desired string output yourself. Suppose we had the following\n",
    "simple class:\n"
   ]
  },
  {
   "cell_type": "code",
   "execution_count": 96,
   "id": "54ee4625",
   "metadata": {},
   "outputs": [],
   "source": [
    "class Message:\n",
    "    def __init__(self, msg):\n",
    "        self.msg = msg"
   ]
  },
  {
   "cell_type": "markdown",
   "id": "492b5197",
   "metadata": {},
   "source": [
    "If you wrote this, you would be disappointed to discover that the default output for\n",
    "your class isn’t very nice:"
   ]
  },
  {
   "cell_type": "code",
   "execution_count": 97,
   "id": "179b3020",
   "metadata": {},
   "outputs": [
    {
     "data": {
      "text/plain": [
       "<__main__.Message at 0x26421f7e6a0>"
      ]
     },
     "execution_count": 97,
     "metadata": {},
     "output_type": "execute_result"
    }
   ],
   "source": [
    "x = Message('I have a secret')\n",
    "x"
   ]
  },
  {
   "cell_type": "markdown",
   "id": "25bbf7c3",
   "metadata": {},
   "source": [
    "IPython takes the string returned by the __repr__ magic method (by doing output =\n",
    "repr(obj)) and prints that to the console. Thus, we can add a simple __repr__\n",
    "method to the preceding class to get a more helpful output:"
   ]
  },
  {
   "cell_type": "code",
   "execution_count": 98,
   "id": "cd9e05d5",
   "metadata": {},
   "outputs": [],
   "source": [
    "class Message:\n",
    "    def __init__(self, msg):\n",
    "        self.msg = msg\n",
    "    def __repr__(self):\n",
    "        return 'Message: %s' % self.msg"
   ]
  },
  {
   "cell_type": "code",
   "execution_count": 99,
   "id": "a1a32602",
   "metadata": {},
   "outputs": [
    {
     "data": {
      "text/plain": [
       "Message: I have a secret"
      ]
     },
     "execution_count": 99,
     "metadata": {},
     "output_type": "execute_result"
    }
   ],
   "source": [
    "x = Message('I have a secret')\n",
    "x"
   ]
  },
  {
   "cell_type": "markdown",
   "id": "06ba7e70",
   "metadata": {},
   "source": [
    "## Profiles and Configuration"
   ]
  },
  {
   "cell_type": "markdown",
   "id": "f63d870c",
   "metadata": {},
   "source": [
    "Most aspects of the appearance (colors, prompt, spacing between lines, etc.) and\n",
    "behavior of the IPython and Jupyter environments are configurable through an\n",
    "extensive configuration system. Here are some things you can do via configuration:\n"
   ]
  },
  {
   "cell_type": "markdown",
   "id": "0a62e538",
   "metadata": {},
   "source": [
    "• Change the color scheme\n",
    "  \n",
    "   \n",
    "• Change how the input and output prompts look, or remove the blank line after\n",
    "Out and before the next In prompt\n",
    "  \n",
    "   \n",
    "• Execute an arbitrary list of Python statements (e.g., imports that you use all the\n",
    "time or anything else you want to happen each time you launch IPython)\n",
    "  \n",
    "   \n",
    "• Enable always-on IPython extensions, like the %lprun magic in line_profiler\n",
    "   \n",
    "   \n",
    "• Enabling Jupyter extensions\n",
    "  \n",
    "   \n",
    "• Define your own magics or system aliases"
   ]
  },
  {
   "cell_type": "markdown",
   "id": "8621ce21",
   "metadata": {},
   "source": [
    "Configurations for the IPython shell are specified in special ipython_config.py files,\n",
    "which are usually found in the .ipython/ directory in your user home directory. Con‐\n",
    "figuration is performed based on a particular profile. When you start IPython nor‐\n",
    "mally, you load up, by default, the default profile, stored in the profile_default directory. Thus, on my Linux OS the full path to my default IPython configuration\n",
    "file is:"
   ]
  },
  {
   "cell_type": "code",
   "execution_count": 100,
   "id": "c7d7851e",
   "metadata": {},
   "outputs": [],
   "source": [
    "# /home/wesm/.ipython/profile_default/ipython_config.py"
   ]
  },
  {
   "cell_type": "markdown",
   "id": "51b171b8",
   "metadata": {},
   "source": [
    "To initialize this file on your system, run in the terminal:\n"
   ]
  },
  {
   "cell_type": "code",
   "execution_count": 101,
   "id": "06aaefb8",
   "metadata": {},
   "outputs": [],
   "source": [
    "# ipython profile create"
   ]
  },
  {
   "cell_type": "markdown",
   "id": "35b29e70",
   "metadata": {},
   "source": [
    "I’ll spare you the gory details of what’s in this file. Fortunately it has comments\n",
    "describing what each configuration option is for, so I will leave it to the reader to\n",
    "tinker and customize. One additional useful feature is that it’s possible to have multi‐\n",
    "ple profiles. Suppose you wanted to have an alternative IPython configuration tailored\n",
    "for a particular application or project. Creating a new profile is as simple as typing\n",
    "something like the following:"
   ]
  },
  {
   "cell_type": "code",
   "execution_count": 102,
   "id": "5d1cad85",
   "metadata": {},
   "outputs": [],
   "source": [
    "# ipython profile create secret_project"
   ]
  },
  {
   "cell_type": "markdown",
   "id": "335b7656",
   "metadata": {},
   "source": [
    "Once you’ve done this, edit the config files in the newly created profile_secret_project\n",
    "directory and then launch IPython like so:"
   ]
  },
  {
   "cell_type": "code",
   "execution_count": 103,
   "id": "64d05b61",
   "metadata": {},
   "outputs": [],
   "source": [
    "# $ ipython --profile=secret_project\n",
    "# Python 3.5.1 | packaged by conda-forge | (default, May 20 2016, 05:22:56)\n",
    "# Type \"copyright\", \"credits\" or \"license\" for more information.\n",
    "# IPython 5.1.0 -- An enhanced Interactive Python.\n",
    "# ? -> Introduction and overview of IPython's features.\n",
    "# %quickref -> Quick reference.\n",
    "# help -> Python's own help system.\n",
    "# object? -> Details about 'object', use 'object??' for extra details.\n",
    "# IPython profile: secret_project\n"
   ]
  },
  {
   "cell_type": "markdown",
   "id": "6dec7462",
   "metadata": {},
   "source": [
    "As always, the online IPython documentation is an excellent resource for more on\n",
    "profiles and configuration"
   ]
  },
  {
   "cell_type": "markdown",
   "id": "5fff63b6",
   "metadata": {},
   "source": [
    "Configuration for Jupyter works a little differently because you can use its notebooks\n",
    "with languages other than Python. To create an analogous Jupyter config file, run:\n"
   ]
  },
  {
   "cell_type": "code",
   "execution_count": 104,
   "id": "cf7afbdd",
   "metadata": {},
   "outputs": [],
   "source": [
    "# jupyter notebook --generate-config"
   ]
  },
  {
   "cell_type": "markdown",
   "id": "2cc942b9",
   "metadata": {},
   "source": [
    "This writes a default config file to the .jupyter/jupyter_notebook_config.py directory in\n",
    "your home directory. After editing this to suit your needs, you may rename it to a\n",
    "different file, like:"
   ]
  },
  {
   "cell_type": "code",
   "execution_count": 105,
   "id": "58474ddf",
   "metadata": {},
   "outputs": [],
   "source": [
    "# $ mv ~/.jupyter/jupyter_notebook_config.py ~/.jupyter/my_custom_config.py"
   ]
  },
  {
   "cell_type": "markdown",
   "id": "49d2e985",
   "metadata": {},
   "source": [
    "When launching Jupyter, you can then add the --config argument:"
   ]
  },
  {
   "cell_type": "code",
   "execution_count": 106,
   "id": "eb8cfabf",
   "metadata": {},
   "outputs": [],
   "source": [
    "# jupyter notebook --config=~/.jupyter/my_custom_config.py\n"
   ]
  },
  {
   "cell_type": "code",
   "execution_count": 107,
   "id": "34fd874b",
   "metadata": {},
   "outputs": [],
   "source": [
    "# https://nbviewer.org/"
   ]
  },
  {
   "cell_type": "code",
   "execution_count": null,
   "id": "bdb3c1af",
   "metadata": {},
   "outputs": [],
   "source": []
  }
 ],
 "metadata": {
  "kernelspec": {
   "display_name": "Python 3 (ipykernel)",
   "language": "python",
   "name": "python3"
  },
  "language_info": {
   "codemirror_mode": {
    "name": "ipython",
    "version": 3
   },
   "file_extension": ".py",
   "mimetype": "text/x-python",
   "name": "python",
   "nbconvert_exporter": "python",
   "pygments_lexer": "ipython3",
   "version": "3.9.18"
  }
 },
 "nbformat": 4,
 "nbformat_minor": 5
}
