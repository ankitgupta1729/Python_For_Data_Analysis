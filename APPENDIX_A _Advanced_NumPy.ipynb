{
 "cells": [
  {
   "cell_type": "markdown",
   "id": "9253b558",
   "metadata": {},
   "source": [
    "In this appendix, I will go deeper into the NumPy library for array computing. This\n",
    "will include more internal detail about the ndarray type and more advanced array\n",
    "manipulations and algorithms.\n",
    "  \n",
    "     \n",
    "This appendix contains miscellaneous topics and does not necessarily need to be read\n",
    "linearly.\n"
   ]
  },
  {
   "cell_type": "markdown",
   "id": "cd20e774",
   "metadata": {},
   "source": [
    "## A.1 ndarray Object Internals"
   ]
  },
  {
   "cell_type": "markdown",
   "id": "1f34a982",
   "metadata": {},
   "source": [
    "The NumPy ndarray provides a means to interpret a block of homogeneous data\n",
    "(either contiguous or strided) as a multidimensional array object. The data type, or\n",
    "dtype, determines how the data is interpreted as being floating point, integer, boolean,\n",
    "or any of the other types we’ve been looking at."
   ]
  },
  {
   "cell_type": "markdown",
   "id": "a3c91e68",
   "metadata": {},
   "source": [
    "Part of what makes ndarray flexible is that every array object is a strided view on a\n",
    "block of data. You might wonder, for example, how the array view arr[::2, ::-1]\n",
    "does not copy any data. The reason is that the ndarray is more than just a chunk of\n",
    "memory and a dtype; it also has “striding” information that enables the array to move\n",
    "through memory with varying step sizes. More precisely, the ndarray internally con‐\n",
    "sists of the following:\n"
   ]
  },
  {
   "cell_type": "markdown",
   "id": "8f9d1aef",
   "metadata": {},
   "source": [
    "• A pointer to data—that is, a block of data in RAM or in a memory-mapped file\n",
    "  \n",
    "    \n",
    "• The data type or dtype, describing fixed-size value cells in the array\n",
    "   \n",
    "    \n",
    "• A tuple indicating the array’s shape\n",
    "   \n",
    "    \n",
    "• A tuple of strides, integers indicating the number of bytes to “step” in order to\n",
    "advance one element along a dimension\n"
   ]
  },
  {
   "cell_type": "markdown",
   "id": "e75b9da4",
   "metadata": {},
   "source": [
    "For example, a 10 × 5 array would have shape (10, 5):"
   ]
  },
  {
   "cell_type": "code",
   "execution_count": 1,
   "id": "6ee00c72",
   "metadata": {},
   "outputs": [
    {
     "data": {
      "text/plain": [
       "(10, 5)"
      ]
     },
     "execution_count": 1,
     "metadata": {},
     "output_type": "execute_result"
    }
   ],
   "source": [
    "import numpy as np\n",
    "np.ones((10, 5)).shape"
   ]
  },
  {
   "cell_type": "markdown",
   "id": "9474e133",
   "metadata": {},
   "source": [
    "A typical (C order) 3 × 4 × 5 array of float64 (8-byte) values has strides (160, 40,\n",
    "8) (knowing about the strides can be useful because, in general, the larger the strides\n",
    "on a particular axis, the more costly it is to perform computation along that axis):"
   ]
  },
  {
   "cell_type": "code",
   "execution_count": 2,
   "id": "85608c80",
   "metadata": {},
   "outputs": [
    {
     "data": {
      "text/plain": [
       "(160, 40, 8)"
      ]
     },
     "execution_count": 2,
     "metadata": {},
     "output_type": "execute_result"
    }
   ],
   "source": [
    "np.ones((3, 4, 5), dtype=np.float64).strides"
   ]
  },
  {
   "cell_type": "markdown",
   "id": "56d3dc92",
   "metadata": {},
   "source": [
    "While it is rare that a typical NumPy user would be interested in the array strides,\n",
    "they are the critical ingredient in constructing “zero-copy” array views. Strides can\n",
    "even be negative, which enables an array to move “backward” through memory (this\n",
    "would be the case, for example, in a slice like obj[::-1] or obj[:, ::-1])"
   ]
  },
  {
   "cell_type": "markdown",
   "id": "df921573",
   "metadata": {},
   "source": [
    "## NumPy dtype Hierarchy"
   ]
  },
  {
   "cell_type": "markdown",
   "id": "3c39398d",
   "metadata": {},
   "source": [
    "You may occasionally have code that needs to check whether an array contains inte‐\n",
    "gers, floating-point numbers, strings, or Python objects. Because there are multiple\n",
    "types of floating-point numbers (float16 through float128), checking that the dtype\n",
    "is among a list of types would be very verbose. Fortunately, the dtypes have super‐\n",
    "classes such as np.integer and np.floating, which can be used in conjunction with\n",
    "the np.issubdtype function:\n"
   ]
  },
  {
   "cell_type": "code",
   "execution_count": 3,
   "id": "42c7a1ab",
   "metadata": {},
   "outputs": [],
   "source": [
    "ints = np.ones(10, dtype=np.uint16)\n",
    "floats = np.ones(10, dtype=np.float32)"
   ]
  },
  {
   "cell_type": "code",
   "execution_count": 4,
   "id": "6f06d423",
   "metadata": {},
   "outputs": [
    {
     "data": {
      "text/plain": [
       "True"
      ]
     },
     "execution_count": 4,
     "metadata": {},
     "output_type": "execute_result"
    }
   ],
   "source": [
    "np.issubdtype(ints.dtype, np.integer)"
   ]
  },
  {
   "cell_type": "code",
   "execution_count": 5,
   "id": "3c36dfdb",
   "metadata": {},
   "outputs": [
    {
     "data": {
      "text/plain": [
       "True"
      ]
     },
     "execution_count": 5,
     "metadata": {},
     "output_type": "execute_result"
    }
   ],
   "source": [
    "np.issubdtype(floats.dtype, np.floating)"
   ]
  },
  {
   "cell_type": "markdown",
   "id": "a91788a8",
   "metadata": {},
   "source": [
    "You can see all of the parent classes of a specific dtype by calling the type’s mro\n",
    "method:"
   ]
  },
  {
   "cell_type": "code",
   "execution_count": 6,
   "id": "45b599e5",
   "metadata": {},
   "outputs": [
    {
     "data": {
      "text/plain": [
       "[numpy.float64,\n",
       " numpy.floating,\n",
       " numpy.inexact,\n",
       " numpy.number,\n",
       " numpy.generic,\n",
       " float,\n",
       " object]"
      ]
     },
     "execution_count": 6,
     "metadata": {},
     "output_type": "execute_result"
    }
   ],
   "source": [
    "np.float64.mro()"
   ]
  },
  {
   "cell_type": "markdown",
   "id": "3edfdee8",
   "metadata": {},
   "source": [
    "Therefore, we also have:"
   ]
  },
  {
   "cell_type": "code",
   "execution_count": 7,
   "id": "d0702bb1",
   "metadata": {},
   "outputs": [
    {
     "data": {
      "text/plain": [
       "True"
      ]
     },
     "execution_count": 7,
     "metadata": {},
     "output_type": "execute_result"
    }
   ],
   "source": [
    "np.issubdtype(ints.dtype, np.number)"
   ]
  },
  {
   "cell_type": "markdown",
   "id": "eef79aef",
   "metadata": {},
   "source": [
    "Most NumPy users will never have to know about this, but it occasionally comes in\n",
    "handy. See Figure A-2 for a graph of the dtype hierarchy and parent–subclass\n",
    "relationships"
   ]
  },
  {
   "cell_type": "markdown",
   "id": "f008cbfd",
   "metadata": {},
   "source": [
    "Some of the dtypes have trailing underscores in their names. These are there to avoid variable name conflicts\n",
    "between the NumPy-specific types and the Python built-in ones."
   ]
  },
  {
   "cell_type": "markdown",
   "id": "3e61408a",
   "metadata": {},
   "source": [
    "## A.2 Advanced Array Manipulation"
   ]
  },
  {
   "cell_type": "markdown",
   "id": "47d11d81",
   "metadata": {},
   "source": [
    "There are many ways to work with arrays beyond fancy indexing, slicing, and boolean\n",
    "subsetting. While much of the heavy lifting for data analysis applications is handled\n",
    "by higher-level functions in pandas, you may at some point need to write a data algo‐\n",
    "rithm that is not found in one of the existing libraries."
   ]
  },
  {
   "cell_type": "markdown",
   "id": "4bda7aaa",
   "metadata": {},
   "source": [
    "### Reshaping Arrays"
   ]
  },
  {
   "cell_type": "markdown",
   "id": "c2788a0d",
   "metadata": {},
   "source": [
    "In many cases, you can convert an array from one shape to another without copying\n",
    "any data. To do this, pass a tuple indicating the new shape to the reshape array\n",
    "instance method. For example, suppose we had a one-dimensional array of values\n",
    "that we wished to rearrange into a matrix (the result is shown in Figure A-3):\n"
   ]
  },
  {
   "cell_type": "code",
   "execution_count": 8,
   "id": "4850e664",
   "metadata": {},
   "outputs": [
    {
     "data": {
      "text/plain": [
       "array([0, 1, 2, 3, 4, 5, 6, 7])"
      ]
     },
     "execution_count": 8,
     "metadata": {},
     "output_type": "execute_result"
    }
   ],
   "source": [
    "arr = np.arange(8)\n",
    "arr"
   ]
  },
  {
   "cell_type": "code",
   "execution_count": 9,
   "id": "261c7841",
   "metadata": {},
   "outputs": [
    {
     "data": {
      "text/plain": [
       "array([[0, 1],\n",
       "       [2, 3],\n",
       "       [4, 5],\n",
       "       [6, 7]])"
      ]
     },
     "execution_count": 9,
     "metadata": {},
     "output_type": "execute_result"
    }
   ],
   "source": [
    "arr.reshape((4, 2))"
   ]
  },
  {
   "cell_type": "markdown",
   "id": "9a0b1a30",
   "metadata": {},
   "source": [
    "A multidimensional array can also be reshaped:"
   ]
  },
  {
   "cell_type": "code",
   "execution_count": 10,
   "id": "809f52b3",
   "metadata": {},
   "outputs": [
    {
     "data": {
      "text/plain": [
       "array([[0, 1, 2, 3],\n",
       "       [4, 5, 6, 7]])"
      ]
     },
     "execution_count": 10,
     "metadata": {},
     "output_type": "execute_result"
    }
   ],
   "source": [
    "arr.reshape((4, 2)).reshape((2, 4))"
   ]
  },
  {
   "cell_type": "markdown",
   "id": "994320a3",
   "metadata": {},
   "source": [
    "One of the passed shape dimensions can be –1, in which case the value used for that\n",
    "dimension will be inferred from the data:"
   ]
  },
  {
   "cell_type": "code",
   "execution_count": 11,
   "id": "d9ca7bfe",
   "metadata": {},
   "outputs": [
    {
     "data": {
      "text/plain": [
       "array([[ 0,  1,  2],\n",
       "       [ 3,  4,  5],\n",
       "       [ 6,  7,  8],\n",
       "       [ 9, 10, 11],\n",
       "       [12, 13, 14]])"
      ]
     },
     "execution_count": 11,
     "metadata": {},
     "output_type": "execute_result"
    }
   ],
   "source": [
    "arr = np.arange(15)\n",
    "arr.reshape((5, -1))"
   ]
  },
  {
   "cell_type": "markdown",
   "id": "67b53450",
   "metadata": {},
   "source": [
    "Since an array’s shape attribute is a tuple, it can be passed to reshape, too:"
   ]
  },
  {
   "cell_type": "code",
   "execution_count": 12,
   "id": "d2278a48",
   "metadata": {},
   "outputs": [
    {
     "data": {
      "text/plain": [
       "(3, 5)"
      ]
     },
     "execution_count": 12,
     "metadata": {},
     "output_type": "execute_result"
    }
   ],
   "source": [
    "other_arr = np.ones((3, 5))\n",
    "other_arr.shape"
   ]
  },
  {
   "cell_type": "code",
   "execution_count": 13,
   "id": "30116c21",
   "metadata": {},
   "outputs": [
    {
     "data": {
      "text/plain": [
       "array([[ 0,  1,  2,  3,  4],\n",
       "       [ 5,  6,  7,  8,  9],\n",
       "       [10, 11, 12, 13, 14]])"
      ]
     },
     "execution_count": 13,
     "metadata": {},
     "output_type": "execute_result"
    }
   ],
   "source": [
    "arr.reshape(other_arr.shape)"
   ]
  },
  {
   "cell_type": "markdown",
   "id": "615a5077",
   "metadata": {},
   "source": [
    "The opposite operation of reshape from one-dimensional to a higher dimension is\n",
    "typically known as flattening or raveling:"
   ]
  },
  {
   "cell_type": "code",
   "execution_count": 14,
   "id": "da9be67e",
   "metadata": {},
   "outputs": [
    {
     "data": {
      "text/plain": [
       "array([[ 0,  1,  2],\n",
       "       [ 3,  4,  5],\n",
       "       [ 6,  7,  8],\n",
       "       [ 9, 10, 11],\n",
       "       [12, 13, 14]])"
      ]
     },
     "execution_count": 14,
     "metadata": {},
     "output_type": "execute_result"
    }
   ],
   "source": [
    "arr = np.arange(15).reshape((5, 3))\n",
    "arr"
   ]
  },
  {
   "cell_type": "code",
   "execution_count": 15,
   "id": "fceb301d",
   "metadata": {},
   "outputs": [
    {
     "data": {
      "text/plain": [
       "array([ 0,  1,  2,  3,  4,  5,  6,  7,  8,  9, 10, 11, 12, 13, 14])"
      ]
     },
     "execution_count": 15,
     "metadata": {},
     "output_type": "execute_result"
    }
   ],
   "source": [
    "arr.ravel()"
   ]
  },
  {
   "cell_type": "markdown",
   "id": "a85808e2",
   "metadata": {},
   "source": [
    "ravel does not produce a copy of the underlying values if the values in the result\n",
    "were contiguous in the original array. The flatten method behaves like ravel except\n",
    "it always returns a copy of the data:"
   ]
  },
  {
   "cell_type": "code",
   "execution_count": 16,
   "id": "85bb7188",
   "metadata": {},
   "outputs": [
    {
     "data": {
      "text/plain": [
       "array([ 0,  1,  2,  3,  4,  5,  6,  7,  8,  9, 10, 11, 12, 13, 14])"
      ]
     },
     "execution_count": 16,
     "metadata": {},
     "output_type": "execute_result"
    }
   ],
   "source": [
    "arr.flatten()"
   ]
  },
  {
   "cell_type": "markdown",
   "id": "ab6d2729",
   "metadata": {},
   "source": [
    "The data can be reshaped or raveled in different orders. This is a slightly nuanced\n",
    "topic for new NumPy users and is therefore the next subtopic.\n"
   ]
  },
  {
   "cell_type": "markdown",
   "id": "34263d52",
   "metadata": {},
   "source": [
    "## C Versus Fortran Order"
   ]
  },
  {
   "cell_type": "markdown",
   "id": "44397477",
   "metadata": {},
   "source": [
    "NumPy gives you control and flexibility over the layout of your data in memory. By\n",
    "default, NumPy arrays are created in row major order. Spatially this means that if you\n",
    "have a two-dimensional array of data, the items in each row of the array are stored in\n",
    "adjacent memory locations. The alternative to row major ordering is column major\n",
    "order, which means that values within each column of data are stored in adjacent\n",
    "memory locations.\n",
    "   \n",
    "     \n",
    "For historical reasons, row and column major order are also know as C and Fortran\n",
    "order, respectively. In the FORTRAN 77 language, matrices are all column major.\n",
    "   \n",
    "    \n",
    "Functions like reshape and ravel accept an order argument indicating the order to\n",
    "use the data in the array. This is usually set to 'C' or 'F' in most cases (there are also\n",
    "less commonly used options 'A' and 'K'; see the NumPy documentation, and refer\n",
    "back to Figure A-3 for an illustration of these options):"
   ]
  },
  {
   "cell_type": "code",
   "execution_count": 17,
   "id": "315487c2",
   "metadata": {},
   "outputs": [
    {
     "data": {
      "text/plain": [
       "array([[ 0,  1,  2,  3],\n",
       "       [ 4,  5,  6,  7],\n",
       "       [ 8,  9, 10, 11]])"
      ]
     },
     "execution_count": 17,
     "metadata": {},
     "output_type": "execute_result"
    }
   ],
   "source": [
    "arr = np.arange(12).reshape((3, 4))\n",
    "arr"
   ]
  },
  {
   "cell_type": "code",
   "execution_count": 18,
   "id": "eb8ac3f4",
   "metadata": {},
   "outputs": [
    {
     "data": {
      "text/plain": [
       "array([ 0,  1,  2,  3,  4,  5,  6,  7,  8,  9, 10, 11])"
      ]
     },
     "execution_count": 18,
     "metadata": {},
     "output_type": "execute_result"
    }
   ],
   "source": [
    "arr.ravel()"
   ]
  },
  {
   "cell_type": "code",
   "execution_count": 19,
   "id": "c812fd32",
   "metadata": {},
   "outputs": [
    {
     "data": {
      "text/plain": [
       "array([ 0,  4,  8,  1,  5,  9,  2,  6, 10,  3,  7, 11])"
      ]
     },
     "execution_count": 19,
     "metadata": {},
     "output_type": "execute_result"
    }
   ],
   "source": [
    "arr.ravel('F')"
   ]
  },
  {
   "cell_type": "markdown",
   "id": "a04c14bc",
   "metadata": {},
   "source": [
    "Reshaping arrays with more than two dimensions can be a bit mind-bending (see\n",
    "Figure A-3). The key difference between C and Fortran order is the way in which the\n",
    "dimensions are walked:\n",
    "   \n",
    "    \n",
    "C/row major order\n",
    "   \n",
    "    \n",
    "Traverse higher dimensions first (e.g., axis 1 before advancing on axis 0).\n",
    "    \n",
    "     \n",
    "Fortran/column major order   \n",
    "    \n",
    "    \n",
    "Traverse higher dimensions last (e.g., axis 0 before advancing on axis 1)."
   ]
  },
  {
   "cell_type": "markdown",
   "id": "c6555fc1",
   "metadata": {},
   "source": [
    "## Concatenating and Splitting Arrays"
   ]
  },
  {
   "cell_type": "markdown",
   "id": "e9218d56",
   "metadata": {},
   "source": [
    "numpy.concatenate takes a sequence (tuple, list, etc.) of arrays and joins them\n",
    "together in order along the input axis:\n"
   ]
  },
  {
   "cell_type": "code",
   "execution_count": 20,
   "id": "ec472c9d",
   "metadata": {},
   "outputs": [],
   "source": [
    "arr1 = np.array([[1, 2, 3], [4, 5, 6]])\n",
    "arr2 = np.array([[7, 8, 9], [10, 11, 12]])"
   ]
  },
  {
   "cell_type": "code",
   "execution_count": 21,
   "id": "265b10ed",
   "metadata": {},
   "outputs": [
    {
     "data": {
      "text/plain": [
       "array([[ 1,  2,  3],\n",
       "       [ 4,  5,  6],\n",
       "       [ 7,  8,  9],\n",
       "       [10, 11, 12]])"
      ]
     },
     "execution_count": 21,
     "metadata": {},
     "output_type": "execute_result"
    }
   ],
   "source": [
    "np.concatenate([arr1, arr2], axis=0)"
   ]
  },
  {
   "cell_type": "code",
   "execution_count": 22,
   "id": "29ccb604",
   "metadata": {},
   "outputs": [
    {
     "data": {
      "text/plain": [
       "array([[ 1,  2,  3,  7,  8,  9],\n",
       "       [ 4,  5,  6, 10, 11, 12]])"
      ]
     },
     "execution_count": 22,
     "metadata": {},
     "output_type": "execute_result"
    }
   ],
   "source": [
    "np.concatenate([arr1, arr2], axis=1)"
   ]
  },
  {
   "cell_type": "markdown",
   "id": "1b0136be",
   "metadata": {},
   "source": [
    "There are some convenience functions, like vstack and hstack, for common kinds of\n",
    "concatenation. The preceding operations could have been expressed as:"
   ]
  },
  {
   "cell_type": "code",
   "execution_count": 23,
   "id": "8ad4ad19",
   "metadata": {},
   "outputs": [
    {
     "data": {
      "text/plain": [
       "array([[ 1,  2,  3],\n",
       "       [ 4,  5,  6],\n",
       "       [ 7,  8,  9],\n",
       "       [10, 11, 12]])"
      ]
     },
     "execution_count": 23,
     "metadata": {},
     "output_type": "execute_result"
    }
   ],
   "source": [
    "np.vstack((arr1, arr2))"
   ]
  },
  {
   "cell_type": "code",
   "execution_count": 24,
   "id": "ee003bb8",
   "metadata": {},
   "outputs": [
    {
     "data": {
      "text/plain": [
       "array([[ 1,  2,  3,  7,  8,  9],\n",
       "       [ 4,  5,  6, 10, 11, 12]])"
      ]
     },
     "execution_count": 24,
     "metadata": {},
     "output_type": "execute_result"
    }
   ],
   "source": [
    "np.hstack((arr1, arr2))"
   ]
  },
  {
   "cell_type": "markdown",
   "id": "3ac33642",
   "metadata": {},
   "source": [
    "split, on the other hand, slices apart an array into multiple arrays along an axis:"
   ]
  },
  {
   "cell_type": "code",
   "execution_count": 25,
   "id": "e7515505",
   "metadata": {},
   "outputs": [
    {
     "data": {
      "text/plain": [
       "array([[-1.87470225, -2.88284561],\n",
       "       [ 1.46335885, -1.42197139],\n",
       "       [-1.67574206, -0.70737276],\n",
       "       [ 0.14334176, -0.79872908],\n",
       "       [ 0.41594851,  0.80290547]])"
      ]
     },
     "execution_count": 25,
     "metadata": {},
     "output_type": "execute_result"
    }
   ],
   "source": [
    "arr = np.random.randn(5, 2)\n",
    "arr"
   ]
  },
  {
   "cell_type": "code",
   "execution_count": 26,
   "id": "1199fe61",
   "metadata": {},
   "outputs": [
    {
     "data": {
      "text/plain": [
       "array([[-1.87470225, -2.88284561]])"
      ]
     },
     "execution_count": 26,
     "metadata": {},
     "output_type": "execute_result"
    }
   ],
   "source": [
    "first, second, third = np.split(arr, [1, 3])\n",
    "first"
   ]
  },
  {
   "cell_type": "code",
   "execution_count": 27,
   "id": "188346b9",
   "metadata": {},
   "outputs": [
    {
     "data": {
      "text/plain": [
       "array([[ 1.46335885, -1.42197139],\n",
       "       [-1.67574206, -0.70737276]])"
      ]
     },
     "execution_count": 27,
     "metadata": {},
     "output_type": "execute_result"
    }
   ],
   "source": [
    "second"
   ]
  },
  {
   "cell_type": "code",
   "execution_count": 28,
   "id": "b7f8ef2b",
   "metadata": {},
   "outputs": [
    {
     "data": {
      "text/plain": [
       "array([[ 0.14334176, -0.79872908],\n",
       "       [ 0.41594851,  0.80290547]])"
      ]
     },
     "execution_count": 28,
     "metadata": {},
     "output_type": "execute_result"
    }
   ],
   "source": [
    "third"
   ]
  },
  {
   "cell_type": "markdown",
   "id": "d1f31e7b",
   "metadata": {},
   "source": [
    "The value [1, 3] passed to np.split indicate the indices at which to split the array\n",
    "into pieces."
   ]
  },
  {
   "cell_type": "markdown",
   "id": "9b9bd4c0",
   "metadata": {},
   "source": [
    "Table A-1. Array concatenation functions\n",
    "----------------------------------------------------------\n",
    "    \n",
    "Function --> Description\n",
    "  \n",
    "   \n",
    "concatenate --> Most general function, concatenates collection of arrays along one axis\n",
    "  \n",
    "    \n",
    "vstack, row_stack --> Stack arrays row-wise (along axis 0)\n",
    "   \n",
    "    \n",
    "hstack --> Stack arrays column-wise (along axis 1)\n",
    "  \n",
    "    \n",
    "column_stack --> Like hstack, but converts 1D arrays to 2D column vectors first\n",
    "  \n",
    "    \n",
    "dstack --> Stack arrays “depth”-wise (along axis 2)\n",
    "   \n",
    "    \n",
    "split --> Split array at passed locations along a particular axis\n",
    "  \n",
    "    \n",
    "hsplit/vsplit --> Convenience functions for splitting on axis 0 and 1, respectively"
   ]
  },
  {
   "cell_type": "markdown",
   "id": "b08bd727",
   "metadata": {},
   "source": [
    "### Stacking helpers: r_ and c_\n"
   ]
  },
  {
   "cell_type": "markdown",
   "id": "2db71ee6",
   "metadata": {},
   "source": [
    "There are two special objects in the NumPy namespace, r_ and c_, that make stacking\n",
    "arrays more concise:\n"
   ]
  },
  {
   "cell_type": "code",
   "execution_count": 29,
   "id": "e308ed21",
   "metadata": {},
   "outputs": [
    {
     "data": {
      "text/plain": [
       "array([[ 0.        ,  1.        ],\n",
       "       [ 2.        ,  3.        ],\n",
       "       [ 4.        ,  5.        ],\n",
       "       [-0.00928597,  0.47962154],\n",
       "       [-1.58326604,  1.10585653],\n",
       "       [-1.50165706, -0.74198821]])"
      ]
     },
     "execution_count": 29,
     "metadata": {},
     "output_type": "execute_result"
    }
   ],
   "source": [
    "arr = np.arange(6)\n",
    "arr1 = arr.reshape((3, 2))\n",
    "arr2 = np.random.randn(3, 2)\n",
    "np.r_[arr1, arr2]"
   ]
  },
  {
   "cell_type": "code",
   "execution_count": 30,
   "id": "c6d715b6",
   "metadata": {},
   "outputs": [
    {
     "data": {
      "text/plain": [
       "array([[ 0.        ,  1.        ,  0.        ],\n",
       "       [ 2.        ,  3.        ,  1.        ],\n",
       "       [ 4.        ,  5.        ,  2.        ],\n",
       "       [-0.00928597,  0.47962154,  3.        ],\n",
       "       [-1.58326604,  1.10585653,  4.        ],\n",
       "       [-1.50165706, -0.74198821,  5.        ]])"
      ]
     },
     "execution_count": 30,
     "metadata": {},
     "output_type": "execute_result"
    }
   ],
   "source": [
    "np.c_[np.r_[arr1, arr2], arr]"
   ]
  },
  {
   "cell_type": "markdown",
   "id": "4d8b223a",
   "metadata": {},
   "source": [
    "These additionally can translate slices to arrays:"
   ]
  },
  {
   "cell_type": "code",
   "execution_count": 31,
   "id": "35d4d546",
   "metadata": {},
   "outputs": [
    {
     "data": {
      "text/plain": [
       "array([[  1, -10],\n",
       "       [  2,  -9],\n",
       "       [  3,  -8],\n",
       "       [  4,  -7],\n",
       "       [  5,  -6]])"
      ]
     },
     "execution_count": 31,
     "metadata": {},
     "output_type": "execute_result"
    }
   ],
   "source": [
    "np.c_[1:6, -10:-5]\n"
   ]
  },
  {
   "cell_type": "markdown",
   "id": "6d1fbd3f",
   "metadata": {},
   "source": [
    "see the docstring for more on what you can do with c_ and r_."
   ]
  },
  {
   "cell_type": "markdown",
   "id": "8e13c867",
   "metadata": {},
   "source": [
    "## Repeating Elements: tile and repeat"
   ]
  },
  {
   "cell_type": "markdown",
   "id": "148a58a1",
   "metadata": {},
   "source": [
    "Two useful tools for repeating or replicating arrays to produce larger arrays are the\n",
    "repeat and tile functions. repeat replicates each element in an array some number\n",
    "of times, producing a larger array:"
   ]
  },
  {
   "cell_type": "code",
   "execution_count": 32,
   "id": "4c97c80c",
   "metadata": {},
   "outputs": [
    {
     "data": {
      "text/plain": [
       "array([0, 1, 2])"
      ]
     },
     "execution_count": 32,
     "metadata": {},
     "output_type": "execute_result"
    }
   ],
   "source": [
    "arr = np.arange(3)\n",
    "arr"
   ]
  },
  {
   "cell_type": "code",
   "execution_count": 33,
   "id": "35852e98",
   "metadata": {},
   "outputs": [
    {
     "data": {
      "text/plain": [
       "array([0, 0, 0, 1, 1, 1, 2, 2, 2])"
      ]
     },
     "execution_count": 33,
     "metadata": {},
     "output_type": "execute_result"
    }
   ],
   "source": [
    "arr.repeat(3)"
   ]
  },
  {
   "cell_type": "markdown",
   "id": "d39fa2ee",
   "metadata": {},
   "source": [
    "The need to replicate or repeat arrays can be less common with\n",
    "NumPy than it is with other array programming frameworks like\n",
    "MATLAB. One reason for this is that broadcasting often fills this\n",
    "need better, which is the subject of the next section."
   ]
  },
  {
   "cell_type": "markdown",
   "id": "e8fef54b",
   "metadata": {},
   "source": [
    "By default, if you pass an integer, each element will be repeated that number of times.\n",
    "If you pass an array of integers, each element can be repeated a different number of\n",
    "times:"
   ]
  },
  {
   "cell_type": "code",
   "execution_count": 34,
   "id": "44ff6620",
   "metadata": {},
   "outputs": [
    {
     "data": {
      "text/plain": [
       "array([0, 0, 1, 1, 1, 2, 2, 2, 2])"
      ]
     },
     "execution_count": 34,
     "metadata": {},
     "output_type": "execute_result"
    }
   ],
   "source": [
    "arr.repeat([2, 3, 4])"
   ]
  },
  {
   "cell_type": "markdown",
   "id": "8be0020d",
   "metadata": {},
   "source": [
    "Multidimensional arrays can have their elements repeated along a particular axis."
   ]
  },
  {
   "cell_type": "code",
   "execution_count": 35,
   "id": "bd09fae6",
   "metadata": {},
   "outputs": [
    {
     "data": {
      "text/plain": [
       "array([[-0.29978315, -0.35428312],\n",
       "       [-1.09718178, -1.04212578]])"
      ]
     },
     "execution_count": 35,
     "metadata": {},
     "output_type": "execute_result"
    }
   ],
   "source": [
    "arr = np.random.randn(2, 2)\n",
    "arr"
   ]
  },
  {
   "cell_type": "code",
   "execution_count": 36,
   "id": "50b95ba9",
   "metadata": {},
   "outputs": [
    {
     "data": {
      "text/plain": [
       "array([[-0.29978315, -0.35428312],\n",
       "       [-0.29978315, -0.35428312],\n",
       "       [-1.09718178, -1.04212578],\n",
       "       [-1.09718178, -1.04212578]])"
      ]
     },
     "execution_count": 36,
     "metadata": {},
     "output_type": "execute_result"
    }
   ],
   "source": [
    "arr.repeat(2, axis=0)"
   ]
  },
  {
   "cell_type": "markdown",
   "id": "dd58bc53",
   "metadata": {},
   "source": [
    "Note that if no axis is passed, the array will be flattened first, which is likely not what\n",
    "you want. Similarly, you can pass an array of integers when repeating a multidimen‐\n",
    "sional array to repeat a given slice a different number of times:\n"
   ]
  },
  {
   "cell_type": "code",
   "execution_count": 37,
   "id": "92bb1be8",
   "metadata": {},
   "outputs": [
    {
     "data": {
      "text/plain": [
       "array([[-0.29978315, -0.35428312],\n",
       "       [-0.29978315, -0.35428312],\n",
       "       [-1.09718178, -1.04212578],\n",
       "       [-1.09718178, -1.04212578],\n",
       "       [-1.09718178, -1.04212578]])"
      ]
     },
     "execution_count": 37,
     "metadata": {},
     "output_type": "execute_result"
    }
   ],
   "source": [
    "arr.repeat([2, 3], axis=0)"
   ]
  },
  {
   "cell_type": "code",
   "execution_count": 38,
   "id": "063ed22f",
   "metadata": {},
   "outputs": [
    {
     "data": {
      "text/plain": [
       "array([[-0.29978315, -0.29978315, -0.35428312, -0.35428312, -0.35428312],\n",
       "       [-1.09718178, -1.09718178, -1.04212578, -1.04212578, -1.04212578]])"
      ]
     },
     "execution_count": 38,
     "metadata": {},
     "output_type": "execute_result"
    }
   ],
   "source": [
    "arr.repeat([2, 3], axis=1)"
   ]
  },
  {
   "cell_type": "markdown",
   "id": "5a2e328d",
   "metadata": {},
   "source": [
    "tile, on the other hand, is a shortcut for stacking copies of an array along an axis.\n",
    "Visually you can think of it as being akin to “laying down tiles”:\n"
   ]
  },
  {
   "cell_type": "code",
   "execution_count": 39,
   "id": "00111369",
   "metadata": {},
   "outputs": [
    {
     "data": {
      "text/plain": [
       "array([[-0.29978315, -0.35428312],\n",
       "       [-1.09718178, -1.04212578]])"
      ]
     },
     "execution_count": 39,
     "metadata": {},
     "output_type": "execute_result"
    }
   ],
   "source": [
    "arr"
   ]
  },
  {
   "cell_type": "code",
   "execution_count": 40,
   "id": "887b2073",
   "metadata": {},
   "outputs": [
    {
     "data": {
      "text/plain": [
       "array([[-0.29978315, -0.35428312, -0.29978315, -0.35428312],\n",
       "       [-1.09718178, -1.04212578, -1.09718178, -1.04212578]])"
      ]
     },
     "execution_count": 40,
     "metadata": {},
     "output_type": "execute_result"
    }
   ],
   "source": [
    "np.tile(arr, 2)"
   ]
  },
  {
   "cell_type": "markdown",
   "id": "0ab306a5",
   "metadata": {},
   "source": [
    "The second argument is the number of tiles; with a scalar, the tiling is made row by\n",
    "row, rather than column by column. The second argument to tile can be a tuple\n",
    "indicating the layout of the “tiling”:\n"
   ]
  },
  {
   "cell_type": "code",
   "execution_count": 41,
   "id": "0455843b",
   "metadata": {},
   "outputs": [
    {
     "data": {
      "text/plain": [
       "array([[-0.29978315, -0.35428312],\n",
       "       [-1.09718178, -1.04212578]])"
      ]
     },
     "execution_count": 41,
     "metadata": {},
     "output_type": "execute_result"
    }
   ],
   "source": [
    "arr"
   ]
  },
  {
   "cell_type": "code",
   "execution_count": 42,
   "id": "a8d04a40",
   "metadata": {},
   "outputs": [
    {
     "data": {
      "text/plain": [
       "array([[-0.29978315, -0.35428312],\n",
       "       [-1.09718178, -1.04212578],\n",
       "       [-0.29978315, -0.35428312],\n",
       "       [-1.09718178, -1.04212578]])"
      ]
     },
     "execution_count": 42,
     "metadata": {},
     "output_type": "execute_result"
    }
   ],
   "source": [
    "np.tile(arr, (2, 1))"
   ]
  },
  {
   "cell_type": "code",
   "execution_count": 43,
   "id": "ea2b3a26",
   "metadata": {},
   "outputs": [
    {
     "data": {
      "text/plain": [
       "array([[-0.29978315, -0.35428312, -0.29978315, -0.35428312],\n",
       "       [-1.09718178, -1.04212578, -1.09718178, -1.04212578],\n",
       "       [-0.29978315, -0.35428312, -0.29978315, -0.35428312],\n",
       "       [-1.09718178, -1.04212578, -1.09718178, -1.04212578],\n",
       "       [-0.29978315, -0.35428312, -0.29978315, -0.35428312],\n",
       "       [-1.09718178, -1.04212578, -1.09718178, -1.04212578]])"
      ]
     },
     "execution_count": 43,
     "metadata": {},
     "output_type": "execute_result"
    }
   ],
   "source": [
    "np.tile(arr, (3, 2))"
   ]
  },
  {
   "cell_type": "markdown",
   "id": "d9fa55ac",
   "metadata": {},
   "source": [
    "## Fancy Indexing Equivalents: take and put"
   ]
  },
  {
   "cell_type": "markdown",
   "id": "f2b6c9a8",
   "metadata": {},
   "source": [
    "As you may recall from Chapter 4, one way to get and set subsets of arrays is by fancy\n",
    "indexing using integer arrays"
   ]
  },
  {
   "cell_type": "code",
   "execution_count": 44,
   "id": "c43fd2af",
   "metadata": {},
   "outputs": [
    {
     "data": {
      "text/plain": [
       "array([700, 100, 200, 600])"
      ]
     },
     "execution_count": 44,
     "metadata": {},
     "output_type": "execute_result"
    }
   ],
   "source": [
    "arr = np.arange(10) * 100\n",
    "inds = [7, 1, 2, 6]\n",
    "arr[inds]"
   ]
  },
  {
   "cell_type": "markdown",
   "id": "e9a79a2d",
   "metadata": {},
   "source": [
    "There are alternative ndarray methods that are useful in the special case of only mak‐\n",
    "ing a selection on a single axis:\n"
   ]
  },
  {
   "cell_type": "code",
   "execution_count": 45,
   "id": "2886bb74",
   "metadata": {},
   "outputs": [
    {
     "data": {
      "text/plain": [
       "array([700, 100, 200, 600])"
      ]
     },
     "execution_count": 45,
     "metadata": {},
     "output_type": "execute_result"
    }
   ],
   "source": [
    "arr.take(inds)"
   ]
  },
  {
   "cell_type": "code",
   "execution_count": 46,
   "id": "702fffd1",
   "metadata": {},
   "outputs": [],
   "source": [
    "arr.put(inds, 42)"
   ]
  },
  {
   "cell_type": "code",
   "execution_count": 47,
   "id": "d7bebd69",
   "metadata": {},
   "outputs": [
    {
     "data": {
      "text/plain": [
       "array([  0,  42,  42, 300, 400, 500,  42,  42, 800, 900])"
      ]
     },
     "execution_count": 47,
     "metadata": {},
     "output_type": "execute_result"
    }
   ],
   "source": [
    "arr"
   ]
  },
  {
   "cell_type": "code",
   "execution_count": 48,
   "id": "6dd8a491",
   "metadata": {},
   "outputs": [],
   "source": [
    "arr.put(inds, [40, 41, 42, 43])"
   ]
  },
  {
   "cell_type": "code",
   "execution_count": 49,
   "id": "341ff2a9",
   "metadata": {},
   "outputs": [
    {
     "data": {
      "text/plain": [
       "array([  0,  41,  42, 300, 400, 500,  43,  40, 800, 900])"
      ]
     },
     "execution_count": 49,
     "metadata": {},
     "output_type": "execute_result"
    }
   ],
   "source": [
    "arr\n"
   ]
  },
  {
   "cell_type": "markdown",
   "id": "c4b085d6",
   "metadata": {},
   "source": [
    "To use take along other axes, you can pass the axis keyword:\n"
   ]
  },
  {
   "cell_type": "code",
   "execution_count": 50,
   "id": "40b06dc7",
   "metadata": {},
   "outputs": [
    {
     "data": {
      "text/plain": [
       "array([[-0.24988627, -1.46969707,  0.43291802,  0.32978433],\n",
       "       [ 0.25974421,  0.33712148,  0.56181722,  0.19406534]])"
      ]
     },
     "execution_count": 50,
     "metadata": {},
     "output_type": "execute_result"
    }
   ],
   "source": [
    "inds = [2, 0, 2, 1]\n",
    "arr = np.random.randn(2, 4)\n",
    "arr"
   ]
  },
  {
   "cell_type": "code",
   "execution_count": 51,
   "id": "3dc2340b",
   "metadata": {},
   "outputs": [
    {
     "data": {
      "text/plain": [
       "array([[ 0.43291802, -0.24988627,  0.43291802, -1.46969707],\n",
       "       [ 0.56181722,  0.25974421,  0.56181722,  0.33712148]])"
      ]
     },
     "execution_count": 51,
     "metadata": {},
     "output_type": "execute_result"
    }
   ],
   "source": [
    "arr.take(inds, axis=1)"
   ]
  },
  {
   "cell_type": "markdown",
   "id": "8cf133b2",
   "metadata": {},
   "source": [
    "put does not accept an axis argument but rather indexes into the flattened (onedimensional, C order) version of the array. Thus, when you need to set elements\n",
    "using an index array on other axes, it is often easiest to use fancy indexing."
   ]
  },
  {
   "cell_type": "markdown",
   "id": "fb182a04",
   "metadata": {},
   "source": [
    "## A.3 Broadcasting"
   ]
  },
  {
   "cell_type": "markdown",
   "id": "e67541b3",
   "metadata": {},
   "source": [
    "Broadcasting describes how arithmetic works between arrays of different shapes. It\n",
    "can be a powerful feature, but one that can cause confusion, even for experienced\n",
    "users. The simplest example of broadcasting occurs when combining a scalar value\n",
    "with an array"
   ]
  },
  {
   "cell_type": "code",
   "execution_count": 52,
   "id": "1869631e",
   "metadata": {},
   "outputs": [
    {
     "data": {
      "text/plain": [
       "array([0, 1, 2, 3, 4])"
      ]
     },
     "execution_count": 52,
     "metadata": {},
     "output_type": "execute_result"
    }
   ],
   "source": [
    "arr = np.arange(5)\n",
    "arr"
   ]
  },
  {
   "cell_type": "code",
   "execution_count": 53,
   "id": "48c20921",
   "metadata": {},
   "outputs": [
    {
     "data": {
      "text/plain": [
       "array([ 0,  4,  8, 12, 16])"
      ]
     },
     "execution_count": 53,
     "metadata": {},
     "output_type": "execute_result"
    }
   ],
   "source": [
    "arr * 4"
   ]
  },
  {
   "cell_type": "markdown",
   "id": "6b176fd6",
   "metadata": {},
   "source": [
    "Here we say that the scalar value 4 has been broadcast to all of the other elements in\n",
    "the multiplication operation.  \n",
    "    \n",
    "For example, we can demean each column of an array by subtracting the column\n",
    "means. In this case, it is very simple:"
   ]
  },
  {
   "cell_type": "code",
   "execution_count": 54,
   "id": "caa57b5b",
   "metadata": {},
   "outputs": [
    {
     "data": {
      "text/plain": [
       "array([-0.09645966, -0.97708809, -1.20681838])"
      ]
     },
     "execution_count": 54,
     "metadata": {},
     "output_type": "execute_result"
    }
   ],
   "source": [
    "arr = np.random.randn(4, 3)\n",
    "arr.mean(0)"
   ]
  },
  {
   "cell_type": "code",
   "execution_count": 55,
   "id": "b6ad965b",
   "metadata": {},
   "outputs": [
    {
     "data": {
      "text/plain": [
       "array([[ 0.75186523, -0.33558519, -0.55125226],\n",
       "       [-0.99273085,  0.32784655, -0.25875524],\n",
       "       [ 0.52781434,  0.25545625,  1.41378975],\n",
       "       [-0.28694872, -0.24771761, -0.60378225]])"
      ]
     },
     "execution_count": 55,
     "metadata": {},
     "output_type": "execute_result"
    }
   ],
   "source": [
    "demeaned = arr - arr.mean(0)\n",
    "demeaned"
   ]
  },
  {
   "cell_type": "code",
   "execution_count": 56,
   "id": "bdf4d33e",
   "metadata": {},
   "outputs": [
    {
     "data": {
      "text/plain": [
       "array([ 0.00000000e+00,  0.00000000e+00, -1.11022302e-16])"
      ]
     },
     "execution_count": 56,
     "metadata": {},
     "output_type": "execute_result"
    }
   ],
   "source": [
    "demeaned.mean(0)"
   ]
  },
  {
   "cell_type": "markdown",
   "id": "491c7f8b",
   "metadata": {},
   "source": [
    "See Figure A-4 for an illustration of this operation. Demeaning the rows as a broad‐\n",
    "cast operation requires a bit more care. Fortunately, broadcasting potentially lower\n",
    "dimensional values across any dimension of an array (like subtracting the row means\n",
    "from each column of a two-dimensional array) is possible as long as you follow the\n",
    "rules.\n"
   ]
  },
  {
   "cell_type": "markdown",
   "id": "6fb8deac",
   "metadata": {},
   "source": [
    "The Broadcasting Rule\n",
    "   \n",
    "      \n",
    "Two arrays are compatible for broadcasting if for each trailing dimension (i.e., starting\n",
    "from the end) the axis lengths match or if either of the lengths is 1. Broadcasting is\n",
    "then performed over the missing or length 1 dimensions.\n"
   ]
  },
  {
   "cell_type": "markdown",
   "id": "69815b1d",
   "metadata": {},
   "source": [
    "Even as an experienced NumPy user, I often find myself having to pause and draw a\n",
    "diagram as I think about the broadcasting rule. Consider the last example and sup‐\n",
    "pose we wished instead to subtract the mean value from each row. Since arr.mean(0)\n",
    "has length 3, it is compatible for broadcasting across axis 0 because the trailing\n",
    "dimension in arr is 3 and therefore matches. According to the rules, to subtract over\n",
    "axis 1 (i.e., subtract the row mean from each row), the smaller array must have shape\n",
    "(4, 1):"
   ]
  },
  {
   "cell_type": "code",
   "execution_count": 57,
   "id": "d2575645",
   "metadata": {},
   "outputs": [
    {
     "data": {
      "text/plain": [
       "array([[ 0.65540558, -1.31267328, -1.75807064],\n",
       "       [-1.08919051, -0.64924154, -1.46557362],\n",
       "       [ 0.43135468, -0.72163184,  0.20697137],\n",
       "       [-0.38340837, -1.22480571, -1.81060063]])"
      ]
     },
     "execution_count": 57,
     "metadata": {},
     "output_type": "execute_result"
    }
   ],
   "source": [
    "arr\n"
   ]
  },
  {
   "cell_type": "code",
   "execution_count": 58,
   "id": "fd044c09",
   "metadata": {},
   "outputs": [
    {
     "data": {
      "text/plain": [
       "(4,)"
      ]
     },
     "execution_count": 58,
     "metadata": {},
     "output_type": "execute_result"
    }
   ],
   "source": [
    "row_means = arr.mean(1)\n",
    "row_means.shape"
   ]
  },
  {
   "cell_type": "code",
   "execution_count": 59,
   "id": "1cfb30d3",
   "metadata": {},
   "outputs": [
    {
     "data": {
      "text/plain": [
       "array([[-0.80511278],\n",
       "       [-1.06800189],\n",
       "       [-0.0277686 ],\n",
       "       [-1.1396049 ]])"
      ]
     },
     "execution_count": 59,
     "metadata": {},
     "output_type": "execute_result"
    }
   ],
   "source": [
    "row_means.reshape((4, 1))"
   ]
  },
  {
   "cell_type": "code",
   "execution_count": 60,
   "id": "2d897dde",
   "metadata": {},
   "outputs": [
    {
     "data": {
      "text/plain": [
       "array([-7.40148683e-17,  3.70074342e-17,  9.25185854e-18,  0.00000000e+00])"
      ]
     },
     "execution_count": 60,
     "metadata": {},
     "output_type": "execute_result"
    }
   ],
   "source": [
    "demeaned = arr - row_means.reshape((4, 1))\n",
    "demeaned.mean(1)"
   ]
  },
  {
   "cell_type": "markdown",
   "id": "0dae855d",
   "metadata": {},
   "source": [
    "### Broadcasting Over Other Axes\n",
    "  \n",
    "Broadcasting with higher dimensional arrays can seem even more mind-bending, but\n",
    "it is really a matter of following the rules. If you don’t, you’ll get an error like this:     "
   ]
  },
  {
   "cell_type": "code",
   "execution_count": 61,
   "id": "b41696cf",
   "metadata": {},
   "outputs": [
    {
     "ename": "ValueError",
     "evalue": "operands could not be broadcast together with shapes (4,3) (4,) ",
     "output_type": "error",
     "traceback": [
      "\u001b[1;31m---------------------------------------------------------------------------\u001b[0m",
      "\u001b[1;31mValueError\u001b[0m                                Traceback (most recent call last)",
      "\u001b[1;32m<ipython-input-61-8b8ada26fac0>\u001b[0m in \u001b[0;36m<module>\u001b[1;34m\u001b[0m\n\u001b[1;32m----> 1\u001b[1;33m \u001b[0marr\u001b[0m \u001b[1;33m-\u001b[0m \u001b[0marr\u001b[0m\u001b[1;33m.\u001b[0m\u001b[0mmean\u001b[0m\u001b[1;33m(\u001b[0m\u001b[1;36m1\u001b[0m\u001b[1;33m)\u001b[0m\u001b[1;33m\u001b[0m\u001b[1;33m\u001b[0m\u001b[0m\n\u001b[0m",
      "\u001b[1;31mValueError\u001b[0m: operands could not be broadcast together with shapes (4,3) (4,) "
     ]
    }
   ],
   "source": [
    "arr - arr.mean(1)"
   ]
  },
  {
   "cell_type": "markdown",
   "id": "da944f07",
   "metadata": {},
   "source": [
    "It’s quite common to want to perform an arithmetic operation with a lower dimen‐\n",
    "sional array across axes other than axis 0. According to the broadcasting rule, the\n",
    "“broadcast dimensions” must be 1 in the smaller array. In the example of row\n",
    "demeaning shown here, this meant reshaping the row means to be shape (4, 1)\n",
    "instead of (4,)"
   ]
  },
  {
   "cell_type": "code",
   "execution_count": null,
   "id": "d06528d5",
   "metadata": {},
   "outputs": [],
   "source": [
    "arr - arr.mean(1).reshape((4, 1))"
   ]
  },
  {
   "cell_type": "markdown",
   "id": "93b02a1c",
   "metadata": {},
   "source": [
    "In the three-dimensional case, broadcasting over any of the three dimensions is only\n",
    "a matter of reshaping the data to be shape-compatible. Figure A-7 nicely visualizes the\n",
    "shapes required to broadcast over each axis of a three-dimensional array"
   ]
  },
  {
   "cell_type": "markdown",
   "id": "f555c536",
   "metadata": {},
   "source": [
    "A common problem, therefore, is needing to add a new axis with length 1 specifically\n",
    "for broadcasting purposes. Using reshape is one option, but inserting an axis\n",
    "requires constructing a tuple indicating the new shape. This can often be a tedious\n",
    "exercise. Thus, NumPy arrays offer a special syntax for inserting new axes by index‐\n",
    "ing. We use the special np.newaxis attribute along with “full” slices to insert the new\n",
    "axis:"
   ]
  },
  {
   "cell_type": "code",
   "execution_count": null,
   "id": "f3208e21",
   "metadata": {},
   "outputs": [],
   "source": [
    "arr = np.zeros((4, 4))\n",
    "arr_3d = arr[:, np.newaxis, :]\n",
    "arr_3d.shape"
   ]
  },
  {
   "cell_type": "code",
   "execution_count": null,
   "id": "e2d21083",
   "metadata": {},
   "outputs": [],
   "source": [
    "arr_1d = np.random.normal(size=3)\n",
    "arr_1d[:, np.newaxis]"
   ]
  },
  {
   "cell_type": "code",
   "execution_count": null,
   "id": "8187d438",
   "metadata": {},
   "outputs": [],
   "source": [
    "arr_1d[np.newaxis, :]"
   ]
  },
  {
   "cell_type": "markdown",
   "id": "82b165e1",
   "metadata": {},
   "source": [
    "Thus, if we had a three-dimensional array and wanted to demean axis 2, say, we\n",
    "would need to write:\n"
   ]
  },
  {
   "cell_type": "code",
   "execution_count": null,
   "id": "eb95a51e",
   "metadata": {},
   "outputs": [],
   "source": [
    "arr = np.random.randn(3, 4, 5)\n",
    "depth_means = arr.mean(2)\n",
    "depth_means"
   ]
  },
  {
   "cell_type": "code",
   "execution_count": null,
   "id": "c92889c5",
   "metadata": {},
   "outputs": [],
   "source": [
    "depth_means.shape\n"
   ]
  },
  {
   "cell_type": "code",
   "execution_count": null,
   "id": "dba0efa1",
   "metadata": {},
   "outputs": [],
   "source": [
    "demeaned = arr - depth_means[:, :, np.newaxis]\n",
    "demeaned.mean(2)"
   ]
  },
  {
   "cell_type": "markdown",
   "id": "18655934",
   "metadata": {},
   "source": [
    "You might be wondering if there’s a way to generalize demeaning over an axis without\n",
    "sacrificing performance. There is, but it requires some indexing gymnastics:\n"
   ]
  },
  {
   "cell_type": "code",
   "execution_count": null,
   "id": "f00f2dfd",
   "metadata": {},
   "outputs": [],
   "source": [
    "def demean_axis(arr, axis=0):\n",
    "    means = arr.mean(axis)\n",
    "    # This generalizes things like [:, :, np.newaxis] to N dimensions\n",
    "    indexer = [slice(None)] * arr.ndim\n",
    "    indexer[axis] = np.newaxis\n",
    "    return arr - means[indexer]"
   ]
  },
  {
   "cell_type": "markdown",
   "id": "0f02800d",
   "metadata": {},
   "source": [
    "## Setting Array Values by Broadcasting"
   ]
  },
  {
   "cell_type": "markdown",
   "id": "98338fe5",
   "metadata": {},
   "source": [
    "The same broadcasting rule governing arithmetic operations also applies to setting\n",
    "values via array indexing. In a simple case, we can do things like:"
   ]
  },
  {
   "cell_type": "code",
   "execution_count": null,
   "id": "f71db0ed",
   "metadata": {},
   "outputs": [],
   "source": [
    "arr = np.zeros((4, 3))\n",
    "arr[:] = 5\n",
    "arr"
   ]
  },
  {
   "cell_type": "markdown",
   "id": "d33e960e",
   "metadata": {},
   "source": [
    "However, if we had a one-dimensional array of values we wanted to set into the col‐\n",
    "umns of the array, we can do that as long as the shape is compatible:"
   ]
  },
  {
   "cell_type": "code",
   "execution_count": null,
   "id": "9bbdde8f",
   "metadata": {},
   "outputs": [],
   "source": [
    "col = np.array([1.28, -0.42, 0.44, 1.6])\n",
    "arr[:] = col[:, np.newaxis]\n",
    "arr"
   ]
  },
  {
   "cell_type": "code",
   "execution_count": null,
   "id": "ce0d8114",
   "metadata": {},
   "outputs": [],
   "source": [
    "arr[:2] = [[-1.37], [0.509]]\n",
    "arr"
   ]
  },
  {
   "cell_type": "markdown",
   "id": "209f6396",
   "metadata": {},
   "source": [
    "## A.4 Advanced ufunc Usage"
   ]
  },
  {
   "cell_type": "markdown",
   "id": "2c6d9da8",
   "metadata": {},
   "source": [
    "While many NumPy users will only make use of the fast element-wise operations pro‐\n",
    "vided by the universal functions, there are a number of additional features that occa‐\n",
    "sionally can help you write more concise code without loops."
   ]
  },
  {
   "cell_type": "markdown",
   "id": "5bf5652f",
   "metadata": {},
   "source": [
    "### ufunc Instance Methods"
   ]
  },
  {
   "cell_type": "markdown",
   "id": "733c386e",
   "metadata": {},
   "source": [
    "Each of NumPy’s binary ufuncs has special methods for performing certain kinds of\n",
    "special vectorized operations. These are summarized in Table A-2, but I’ll give a few\n",
    "concrete examples to illustrate how they work."
   ]
  },
  {
   "cell_type": "markdown",
   "id": "c9187c2c",
   "metadata": {},
   "source": [
    "reduce takes a single array and aggregates its values, optionally along an axis, by per‐\n",
    "forming a sequence of binary operations. For example, an alternative way to sum ele‐\n",
    "ments in an array is to use np.add.reduce:\n"
   ]
  },
  {
   "cell_type": "code",
   "execution_count": null,
   "id": "c12939ac",
   "metadata": {},
   "outputs": [],
   "source": [
    "arr = np.arange(10)\n",
    "np.add.reduce(arr)"
   ]
  },
  {
   "cell_type": "code",
   "execution_count": null,
   "id": "bc12adee",
   "metadata": {},
   "outputs": [],
   "source": [
    "arr.sum()"
   ]
  },
  {
   "cell_type": "markdown",
   "id": "cd842020",
   "metadata": {},
   "source": [
    "The starting value (0 for add) depends on the ufunc. If an axis is passed, the reduction\n",
    "is performed along that axis. This allows you to answer certain kinds of questions in a\n",
    "concise way. As a less trivial example, we can use np.logical_and to check whether\n",
    "the values in each row of an array are sorted:\n"
   ]
  },
  {
   "cell_type": "code",
   "execution_count": null,
   "id": "349c7f92",
   "metadata": {},
   "outputs": [],
   "source": [
    "np.random.seed(12346) # for reproducibility\n",
    "arr = np.random.randn(5, 5)\n",
    "arr[::2].sort(1) # sort a few rows\n",
    "arr[:, :-1] < arr[:, 1:]"
   ]
  },
  {
   "cell_type": "code",
   "execution_count": null,
   "id": "f6e75f45",
   "metadata": {},
   "outputs": [],
   "source": [
    "np.logical_and.reduce(arr[:, :-1] < arr[:, 1:], axis=1)"
   ]
  },
  {
   "cell_type": "markdown",
   "id": "9958ac5f",
   "metadata": {},
   "source": [
    "Note that logical_and.reduce is equivalent to the all method.\n"
   ]
  },
  {
   "cell_type": "markdown",
   "id": "2cbb3a9a",
   "metadata": {},
   "source": [
    "accumulate is related to reduce like cumsum is related to sum. It produces an array of\n",
    "the same size with the intermediate “accumulated” values:"
   ]
  },
  {
   "cell_type": "code",
   "execution_count": null,
   "id": "99775c62",
   "metadata": {},
   "outputs": [],
   "source": [
    "arr = np.arange(15).reshape((3, 5))\n",
    "np.add.accumulate(arr, axis=1)"
   ]
  },
  {
   "cell_type": "markdown",
   "id": "a098697a",
   "metadata": {},
   "source": [
    "outer performs a pairwise cross-product between two arrays:"
   ]
  },
  {
   "cell_type": "code",
   "execution_count": null,
   "id": "cae45aba",
   "metadata": {},
   "outputs": [],
   "source": [
    "arr = np.arange(3).repeat([1, 2, 2])\n",
    "arr"
   ]
  },
  {
   "cell_type": "code",
   "execution_count": null,
   "id": "aabd5b8a",
   "metadata": {},
   "outputs": [],
   "source": [
    "np.multiply.outer(arr, np.arange(5))"
   ]
  },
  {
   "cell_type": "markdown",
   "id": "1e6f62cf",
   "metadata": {},
   "source": [
    "The output of outer will have a dimension that is the sum of the dimensions of the\n",
    "inputs:\n"
   ]
  },
  {
   "cell_type": "code",
   "execution_count": null,
   "id": "996cceca",
   "metadata": {},
   "outputs": [],
   "source": [
    "x, y = np.random.randn(3, 4), np.random.randn(5)\n",
    "result = np.subtract.outer(x, y)"
   ]
  },
  {
   "cell_type": "code",
   "execution_count": null,
   "id": "b517e123",
   "metadata": {},
   "outputs": [],
   "source": [
    " result.shape"
   ]
  },
  {
   "cell_type": "markdown",
   "id": "ae7b262b",
   "metadata": {},
   "source": [
    "The last method, reduceat, performs a “local reduce,” in essence an array groupby\n",
    "operation in which slices of the array are aggregated together. It accepts a sequence of\n",
    "“bin edges” that indicate how to split and aggregate the values:\n"
   ]
  },
  {
   "cell_type": "code",
   "execution_count": null,
   "id": "9fcda7ab",
   "metadata": {},
   "outputs": [],
   "source": [
    "arr = np.arange(10)\n",
    "np.add.reduceat(arr, [0, 5, 8])"
   ]
  },
  {
   "cell_type": "markdown",
   "id": "c59e299d",
   "metadata": {},
   "source": [
    "The results are the reductions (here, sums) performed over arr[0:5], arr[5:8], and\n",
    "arr[8:]. As with the other methods, you can pass an axis argument:"
   ]
  },
  {
   "cell_type": "code",
   "execution_count": null,
   "id": "b0a44df4",
   "metadata": {},
   "outputs": [],
   "source": [
    "arr = np.multiply.outer(np.arange(4), np.arange(5))\n",
    "arr"
   ]
  },
  {
   "cell_type": "code",
   "execution_count": null,
   "id": "945ed2b2",
   "metadata": {},
   "outputs": [],
   "source": [
    "np.add.reduceat(arr, [0, 2, 4], axis=1)"
   ]
  },
  {
   "cell_type": "markdown",
   "id": "55ce59bc",
   "metadata": {},
   "source": [
    "Table A-2. ufunc methods\n",
    "-------------------------------------\n",
    "   \n",
    "   \n",
    "Method --> Description\n",
    "   \n",
    "    \n",
    "reduce(x) --> Aggregate values by successive applications of the operation\n",
    "   \n",
    "    \n",
    "accumulate(x) --> Aggregate values, preserving all partial aggregates\n",
    "    \n",
    "     \n",
    "reduceat(x, bins) --> “Local” reduce or “group by”; reduce contiguous slices of data to produce aggregated array\n",
    "   \n",
    "     \n",
    "outer(x, y) --> Apply operation to all pairs of elements in x and y; the resulting array has shape x.shape +\n",
    "y.shape"
   ]
  },
  {
   "cell_type": "markdown",
   "id": "950c9051",
   "metadata": {},
   "source": [
    "## Writing New ufuncs in Python"
   ]
  },
  {
   "cell_type": "markdown",
   "id": "107984d4",
   "metadata": {},
   "source": [
    "There are a number of facilities for creating your own NumPy ufuncs. The most gen‐\n",
    "eral is to use the NumPy C API, but that is beyond the scope of this book. In this\n",
    "section, we will look at pure Python ufuncs.\n",
    "   \n",
    "     \n",
    "numpy.frompyfunc accepts a Python function along with a specification for the num‐\n",
    "ber of inputs and outputs. For example, a simple function that adds element-wise\n",
    "would be specified as:"
   ]
  },
  {
   "cell_type": "code",
   "execution_count": null,
   "id": "839f2914",
   "metadata": {},
   "outputs": [],
   "source": [
    "def add_elements(x, y):\n",
    "    return x + y\n",
    "add_them = np.frompyfunc(add_elements, 2, 1)\n",
    "add_them(np.arange(8), np.arange(8))"
   ]
  },
  {
   "cell_type": "markdown",
   "id": "60bedd35",
   "metadata": {},
   "source": [
    "Functions created using frompyfunc always return arrays of Python objects, which\n",
    "can be inconvenient. Fortunately, there is an alternative (but slightly less featureful)\n",
    "function, numpy.vectorize, that allows you to specify the output type:\n"
   ]
  },
  {
   "cell_type": "code",
   "execution_count": null,
   "id": "1656d7ba",
   "metadata": {},
   "outputs": [],
   "source": [
    "add_them = np.vectorize(add_elements, otypes=[np.float64])\n",
    "add_them(np.arange(8), np.arange(8))"
   ]
  },
  {
   "cell_type": "markdown",
   "id": "53e5d7b7",
   "metadata": {},
   "source": [
    "These functions provide a way to create ufunc-like functions, but they are very slow\n",
    "because they require a Python function call to compute each element, which is a lot\n",
    "slower than NumPy’s C-based ufunc loops:\n"
   ]
  },
  {
   "cell_type": "code",
   "execution_count": null,
   "id": "82485ab7",
   "metadata": {},
   "outputs": [],
   "source": [
    "arr = np.random.randn(10000)\n",
    "%timeit add_them(arr, arr)"
   ]
  },
  {
   "cell_type": "code",
   "execution_count": null,
   "id": "42fb80a2",
   "metadata": {},
   "outputs": [],
   "source": [
    "%timeit np.add(arr, arr)\n"
   ]
  },
  {
   "cell_type": "markdown",
   "id": "375216fb",
   "metadata": {},
   "source": [
    "Later in this chapter we’ll show how to create fast ufuncs in Python using the Numba\n",
    "project."
   ]
  },
  {
   "cell_type": "markdown",
   "id": "9da92d2e",
   "metadata": {},
   "source": [
    "## A.5 Structured and Record Arrays"
   ]
  },
  {
   "cell_type": "markdown",
   "id": "c67a582d",
   "metadata": {},
   "source": [
    "You may have noticed up until now that ndarray is a homogeneous data container;\n",
    "that is, it represents a block of memory in which each element takes up the same\n",
    "number of bytes, determined by the dtype. On the surface, this would appear to not\n",
    "allow you to represent heterogeneous or tabular-like data. A structured array is an\n",
    "ndarray in which each element can be thought of as representing a struct in C (hence\n",
    "the “structured” name) or a row in a SQL table with multiple named fields:"
   ]
  },
  {
   "cell_type": "code",
   "execution_count": null,
   "id": "06220bc2",
   "metadata": {},
   "outputs": [],
   "source": [
    "dtype = [('x', np.float64), ('y', np.int32)]\n",
    "sarr = np.array([(1.5, 6), (np.pi, -2)], dtype=dtype)\n",
    "sarr"
   ]
  },
  {
   "cell_type": "markdown",
   "id": "17a5fe41",
   "metadata": {},
   "source": [
    "There are several ways to specify a structured dtype (see the online NumPy documen‐\n",
    "tation). One typical way is as a list of tuples with (field_name, field_data_type).\n",
    "Now, the elements of the array are tuple-like objects whose elements can be accessed\n",
    "like a dictionary:"
   ]
  },
  {
   "cell_type": "code",
   "execution_count": null,
   "id": "490dc7cb",
   "metadata": {},
   "outputs": [],
   "source": [
    "sarr[0]"
   ]
  },
  {
   "cell_type": "code",
   "execution_count": null,
   "id": "a3e9db47",
   "metadata": {},
   "outputs": [],
   "source": [
    "sarr[0]['y']\n"
   ]
  },
  {
   "cell_type": "markdown",
   "id": "7f93e1b8",
   "metadata": {},
   "source": [
    "The field names are stored in the dtype.names attribute. When you access a field on\n",
    "the structured array, a strided view on the data is returned, thus copying nothing:\n"
   ]
  },
  {
   "cell_type": "code",
   "execution_count": null,
   "id": "0cd9a5dc",
   "metadata": {},
   "outputs": [],
   "source": [
    "sarr['x']"
   ]
  },
  {
   "cell_type": "markdown",
   "id": "b1a5abd4",
   "metadata": {},
   "source": [
    "## Nested dtypes and Multidimensional Fields"
   ]
  },
  {
   "cell_type": "markdown",
   "id": "56e0d78a",
   "metadata": {},
   "source": [
    "When specifying a structured dtype, you can additionally pass a shape (as an int or\n",
    "tuple):\n"
   ]
  },
  {
   "cell_type": "code",
   "execution_count": null,
   "id": "c96e98d6",
   "metadata": {},
   "outputs": [],
   "source": [
    "dtype = [('x', np.int64, 3), ('y', np.int32)]\n",
    "arr = np.zeros(4, dtype=dtype)\n",
    "arr"
   ]
  },
  {
   "cell_type": "markdown",
   "id": "02a38674",
   "metadata": {},
   "source": [
    "In this case, the x field now refers to an array of length 3 for each record:"
   ]
  },
  {
   "cell_type": "code",
   "execution_count": null,
   "id": "c42ee367",
   "metadata": {},
   "outputs": [],
   "source": [
    "arr[0]['x']"
   ]
  },
  {
   "cell_type": "markdown",
   "id": "817aa832",
   "metadata": {},
   "source": [
    "Conveniently, accessing arr['x'] then returns a two-dimensional array instead of a\n",
    "one-dimensional array as in prior examples:"
   ]
  },
  {
   "cell_type": "code",
   "execution_count": null,
   "id": "14383b80",
   "metadata": {},
   "outputs": [],
   "source": [
    "arr['x']"
   ]
  },
  {
   "cell_type": "markdown",
   "id": "104fcc44",
   "metadata": {},
   "source": [
    "This enables you to express more complicated, nested structures as a single block of\n",
    "memory in an array. You can also nest dtypes to make more complex structures. Here\n",
    "is an example:"
   ]
  },
  {
   "cell_type": "code",
   "execution_count": null,
   "id": "82e13f98",
   "metadata": {},
   "outputs": [],
   "source": [
    "dtype = [('x', [('a', 'f8'), ('b', 'f4')]), ('y', np.int32)]\n",
    "data = np.array([((1, 2), 5), ((3, 4), 6)], dtype=dtype)\n",
    "data['x']"
   ]
  },
  {
   "cell_type": "code",
   "execution_count": null,
   "id": "1df77ea3",
   "metadata": {},
   "outputs": [],
   "source": [
    "data['y']"
   ]
  },
  {
   "cell_type": "code",
   "execution_count": null,
   "id": "632ecee3",
   "metadata": {},
   "outputs": [],
   "source": [
    "data['x']['a']"
   ]
  },
  {
   "cell_type": "markdown",
   "id": "f4fd8458",
   "metadata": {},
   "source": [
    "pandas DataFrame does not support this feature directly, though it is similar to hier‐\n",
    "archical indexing"
   ]
  },
  {
   "cell_type": "markdown",
   "id": "ad222b51",
   "metadata": {},
   "source": [
    "## Why Use Structured Arrays?"
   ]
  },
  {
   "cell_type": "markdown",
   "id": "0c14ef6e",
   "metadata": {},
   "source": [
    "Compared with, say, a pandas DataFrame, NumPy structured arrays are a compara‐\n",
    "tively low-level tool. They provide a means to interpreting a block of memory as a\n",
    "tabular structure with arbitrarily complex nested columns. Since each element in the\n",
    "array is represented in memory as a fixed number of bytes, structured arrays provide a very fast and efficient way of writing data to and from disk (including memory\n",
    "maps), transporting it over the network, and other such uses.\n",
    "   \n",
    "     \n",
    "As another common use for structured arrays, writing data files as fixed-length\n",
    "record byte streams is a common way to serialize data in C and C++ code, which is\n",
    "commonly found in legacy systems in industry. As long as the format of the file is\n",
    "known (the size of each record and the order, byte size, and data type of each ele‐\n",
    "ment), the data can be read into memory with np.fromfile. Specialized uses like this\n",
    "are beyond the scope of this book, but it’s worth knowing that such things are\n",
    "possible.\n"
   ]
  },
  {
   "cell_type": "markdown",
   "id": "facc030b",
   "metadata": {},
   "source": [
    "## A.6 More About Sorting\n"
   ]
  },
  {
   "cell_type": "markdown",
   "id": "9278d5ca",
   "metadata": {},
   "source": [
    "Like Python’s built-in list, the ndarray sort instance method is an in-place sort,\n",
    "meaning that the array contents are rearranged without producing a new array:"
   ]
  },
  {
   "cell_type": "code",
   "execution_count": 62,
   "id": "9fca3393",
   "metadata": {},
   "outputs": [
    {
     "data": {
      "text/plain": [
       "array([-1.40479231, -1.00598515, -0.06112872,  0.43083776,  0.89805025,\n",
       "        1.53620797])"
      ]
     },
     "execution_count": 62,
     "metadata": {},
     "output_type": "execute_result"
    }
   ],
   "source": [
    "arr = np.random.randn(6)\n",
    "arr.sort()\n",
    "arr"
   ]
  },
  {
   "cell_type": "markdown",
   "id": "45ff1bb7",
   "metadata": {},
   "source": [
    "When sorting arrays in-place, remember that if the array is a view on a different\n",
    "ndarray, the original array will be modified:"
   ]
  },
  {
   "cell_type": "code",
   "execution_count": 63,
   "id": "7e4c9862",
   "metadata": {},
   "outputs": [
    {
     "data": {
      "text/plain": [
       "array([[-0.48280318, -1.29146901, -1.36939171,  0.28323385,  0.01749174],\n",
       "       [-1.02062275, -1.61938026,  2.03126714,  0.27259195,  0.8055873 ],\n",
       "       [-0.53258276,  1.24332626,  0.66350596,  1.50702249,  0.26298008]])"
      ]
     },
     "execution_count": 63,
     "metadata": {},
     "output_type": "execute_result"
    }
   ],
   "source": [
    "arr = np.random.randn(3, 5)\n",
    "arr"
   ]
  },
  {
   "cell_type": "code",
   "execution_count": 64,
   "id": "653223e2",
   "metadata": {},
   "outputs": [
    {
     "data": {
      "text/plain": [
       "array([[-1.02062275, -1.29146901, -1.36939171,  0.28323385,  0.01749174],\n",
       "       [-0.53258276, -1.61938026,  2.03126714,  0.27259195,  0.8055873 ],\n",
       "       [-0.48280318,  1.24332626,  0.66350596,  1.50702249,  0.26298008]])"
      ]
     },
     "execution_count": 64,
     "metadata": {},
     "output_type": "execute_result"
    }
   ],
   "source": [
    "arr[:, 0].sort() # Sort first column values in-place\n",
    "arr"
   ]
  },
  {
   "cell_type": "markdown",
   "id": "2f8f0c13",
   "metadata": {},
   "source": [
    "On the other hand, numpy.sort creates a new, sorted copy of an array. Otherwise, it\n",
    "accepts the same arguments (such as kind) as ndarray.sort:"
   ]
  },
  {
   "cell_type": "code",
   "execution_count": 65,
   "id": "c66efb12",
   "metadata": {},
   "outputs": [
    {
     "data": {
      "text/plain": [
       "array([-0.07658012,  0.7605264 ,  0.75664765, -0.72502629,  1.31647686])"
      ]
     },
     "execution_count": 65,
     "metadata": {},
     "output_type": "execute_result"
    }
   ],
   "source": [
    "arr = np.random.randn(5)\n",
    "arr"
   ]
  },
  {
   "cell_type": "code",
   "execution_count": 66,
   "id": "13bd0bbc",
   "metadata": {},
   "outputs": [
    {
     "data": {
      "text/plain": [
       "array([-0.72502629, -0.07658012,  0.75664765,  0.7605264 ,  1.31647686])"
      ]
     },
     "execution_count": 66,
     "metadata": {},
     "output_type": "execute_result"
    }
   ],
   "source": [
    "np.sort(arr)"
   ]
  },
  {
   "cell_type": "code",
   "execution_count": 67,
   "id": "e3e39bb3",
   "metadata": {},
   "outputs": [
    {
     "data": {
      "text/plain": [
       "array([-0.07658012,  0.7605264 ,  0.75664765, -0.72502629,  1.31647686])"
      ]
     },
     "execution_count": 67,
     "metadata": {},
     "output_type": "execute_result"
    }
   ],
   "source": [
    "arr"
   ]
  },
  {
   "cell_type": "markdown",
   "id": "d8e851d3",
   "metadata": {},
   "source": [
    "All of these sort methods take an axis argument for sorting the sections of data along\n",
    "the passed axis independently:\n"
   ]
  },
  {
   "cell_type": "code",
   "execution_count": 68,
   "id": "bdff421e",
   "metadata": {},
   "outputs": [
    {
     "data": {
      "text/plain": [
       "array([[ 1.46070377, -2.18987953, -1.06358666, -2.11025476, -0.50154829],\n",
       "       [ 0.29493964,  1.31047285, -1.79364174, -1.57961459, -0.27850366],\n",
       "       [ 1.43159359, -1.2303962 , -1.80271999,  0.1255935 ,  0.33716273]])"
      ]
     },
     "execution_count": 68,
     "metadata": {},
     "output_type": "execute_result"
    }
   ],
   "source": [
    "arr = np.random.randn(3, 5)\n",
    "arr"
   ]
  },
  {
   "cell_type": "code",
   "execution_count": 69,
   "id": "51bab736",
   "metadata": {},
   "outputs": [
    {
     "data": {
      "text/plain": [
       "array([[-2.18987953, -2.11025476, -1.06358666, -0.50154829,  1.46070377],\n",
       "       [-1.79364174, -1.57961459, -0.27850366,  0.29493964,  1.31047285],\n",
       "       [-1.80271999, -1.2303962 ,  0.1255935 ,  0.33716273,  1.43159359]])"
      ]
     },
     "execution_count": 69,
     "metadata": {},
     "output_type": "execute_result"
    }
   ],
   "source": [
    "arr.sort(axis=1)\n",
    "arr"
   ]
  },
  {
   "cell_type": "markdown",
   "id": "89d5564c",
   "metadata": {},
   "source": [
    "You may notice that none of the sort methods have an option to sort in descending\n",
    "order. This is a problem in practice because array slicing produces views, thus not\n",
    "producing a copy or requiring any computational work. Many Python users are\n",
    "familiar with the “trick” that for a list values, values[::-1] returns a list in reverse\n",
    "order. The same is true for ndarrays:"
   ]
  },
  {
   "cell_type": "code",
   "execution_count": 70,
   "id": "e00fe05b",
   "metadata": {},
   "outputs": [
    {
     "data": {
      "text/plain": [
       "array([[ 1.46070377, -0.50154829, -1.06358666, -2.11025476, -2.18987953],\n",
       "       [ 1.31047285,  0.29493964, -0.27850366, -1.57961459, -1.79364174],\n",
       "       [ 1.43159359,  0.33716273,  0.1255935 , -1.2303962 , -1.80271999]])"
      ]
     },
     "execution_count": 70,
     "metadata": {},
     "output_type": "execute_result"
    }
   ],
   "source": [
    "arr[:, ::-1]"
   ]
  },
  {
   "cell_type": "markdown",
   "id": "aa678ff5",
   "metadata": {},
   "source": [
    "## Indirect Sorts: argsort and lexsort\n"
   ]
  },
  {
   "cell_type": "markdown",
   "id": "ea180eb7",
   "metadata": {},
   "source": [
    "In data analysis you may need to reorder datasets by one or more keys. For example, a\n",
    "table of data about some students might need to be sorted by last name, then by first\n",
    "name. This is an example of an indirect sort, and if you’ve read the pandas-related\n",
    "chapters you have already seen many higher-level examples. Given a key or keys (an\n",
    "array of values or multiple arrays of values), you wish to obtain an array of integer\n",
    "indices (I refer to them colloquially as indexers) that tells you how to reorder the data\n",
    "to be in sorted order. Two methods for this are argsort and numpy.lexsort. As an\n",
    "example:\n"
   ]
  },
  {
   "cell_type": "code",
   "execution_count": 71,
   "id": "7b49d1a5",
   "metadata": {},
   "outputs": [],
   "source": [
    "values = np.array([5, 0, 1, 3, 2])\n",
    "indexer = values.argsort()"
   ]
  },
  {
   "cell_type": "code",
   "execution_count": 72,
   "id": "797bc808",
   "metadata": {},
   "outputs": [
    {
     "data": {
      "text/plain": [
       "array([1, 2, 4, 3, 0], dtype=int64)"
      ]
     },
     "execution_count": 72,
     "metadata": {},
     "output_type": "execute_result"
    }
   ],
   "source": [
    "indexer"
   ]
  },
  {
   "cell_type": "code",
   "execution_count": 73,
   "id": "f07defa0",
   "metadata": {},
   "outputs": [
    {
     "data": {
      "text/plain": [
       "array([0, 1, 2, 3, 5])"
      ]
     },
     "execution_count": 73,
     "metadata": {},
     "output_type": "execute_result"
    }
   ],
   "source": [
    "values[indexer]"
   ]
  },
  {
   "cell_type": "markdown",
   "id": "bccda484",
   "metadata": {},
   "source": [
    "As a more complicated example, this code reorders a two-dimensional array by its\n",
    "first row"
   ]
  },
  {
   "cell_type": "code",
   "execution_count": 74,
   "id": "6124ef88",
   "metadata": {},
   "outputs": [
    {
     "data": {
      "text/plain": [
       "array([[ 5.        ,  0.        ,  1.        ,  3.        ,  2.        ],\n",
       "       [ 0.87170034, -1.26754422,  0.57788205,  2.18826431,  0.06390339],\n",
       "       [ 1.30788948,  0.61541111,  0.39766697,  1.19030574, -0.56683756]])"
      ]
     },
     "execution_count": 74,
     "metadata": {},
     "output_type": "execute_result"
    }
   ],
   "source": [
    "arr = np.random.randn(3, 5)\n",
    "arr[0] = values\n",
    "arr"
   ]
  },
  {
   "cell_type": "code",
   "execution_count": 75,
   "id": "b593e77a",
   "metadata": {},
   "outputs": [
    {
     "data": {
      "text/plain": [
       "array([[ 0.        ,  1.        ,  2.        ,  3.        ,  5.        ],\n",
       "       [-1.26754422,  0.57788205,  0.06390339,  2.18826431,  0.87170034],\n",
       "       [ 0.61541111,  0.39766697, -0.56683756,  1.19030574,  1.30788948]])"
      ]
     },
     "execution_count": 75,
     "metadata": {},
     "output_type": "execute_result"
    }
   ],
   "source": [
    "arr[:, arr[0].argsort()]"
   ]
  },
  {
   "cell_type": "markdown",
   "id": "a950758f",
   "metadata": {},
   "source": [
    "lexsort is similar to argsort, but it performs an indirect lexicographical sort on multi‐\n",
    "ple key arrays. Suppose we wanted to sort some data identified by first and last\n",
    "names:"
   ]
  },
  {
   "cell_type": "code",
   "execution_count": 76,
   "id": "831a806b",
   "metadata": {},
   "outputs": [
    {
     "data": {
      "text/plain": [
       "array([1, 2, 3, 0, 4], dtype=int64)"
      ]
     },
     "execution_count": 76,
     "metadata": {},
     "output_type": "execute_result"
    }
   ],
   "source": [
    "first_name = np.array(['Bob', 'Jane', 'Steve', 'Bill', 'Barbara'])\n",
    "last_name = np.array(['Jones', 'Arnold', 'Arnold', 'Jones', 'Walters'])\n",
    "sorter = np.lexsort((first_name, last_name))\n",
    "sorter"
   ]
  },
  {
   "cell_type": "code",
   "execution_count": 77,
   "id": "1624f8b6",
   "metadata": {},
   "outputs": [
    {
     "data": {
      "text/plain": [
       "<zip at 0x1a97eea0308>"
      ]
     },
     "execution_count": 77,
     "metadata": {},
     "output_type": "execute_result"
    }
   ],
   "source": [
    "zip(last_name[sorter], first_name[sorter])"
   ]
  },
  {
   "cell_type": "markdown",
   "id": "ceb2cde7",
   "metadata": {},
   "source": [
    "lexsort can be a bit confusing the first time you use it because the order in which the\n",
    "keys are used to order the data starts with the last array passed. Here, last_name was\n",
    "used before first_name."
   ]
  },
  {
   "cell_type": "markdown",
   "id": "518e39fb",
   "metadata": {},
   "source": [
    "pandas methods like Series’s and DataFrame’s sort_values method\n",
    "are implemented with variants of these functions (which also must\n",
    "take into account missing values)."
   ]
  },
  {
   "cell_type": "markdown",
   "id": "2165a05d",
   "metadata": {},
   "source": [
    "## Alternative Sort Algorithms"
   ]
  },
  {
   "cell_type": "markdown",
   "id": "6c58b3f0",
   "metadata": {},
   "source": [
    "A stable sorting algorithm preserves the relative position of equal elements. This can\n",
    "be especially important in indirect sorts where the relative ordering is meaningful:"
   ]
  },
  {
   "cell_type": "code",
   "execution_count": 78,
   "id": "6fabd704",
   "metadata": {},
   "outputs": [
    {
     "data": {
      "text/plain": [
       "array([2, 3, 4, 0, 1], dtype=int64)"
      ]
     },
     "execution_count": 78,
     "metadata": {},
     "output_type": "execute_result"
    }
   ],
   "source": [
    "values = np.array(['2:first', '2:second', '1:first', '1:second','1:third'])\n",
    "key = np.array([2, 2, 1, 1, 1])\n",
    "indexer = key.argsort(kind='mergesort')\n",
    "indexer"
   ]
  },
  {
   "cell_type": "code",
   "execution_count": 79,
   "id": "a0519579",
   "metadata": {},
   "outputs": [
    {
     "data": {
      "text/plain": [
       "array(['1:first', '1:second', '1:third', '2:first', '2:second'],\n",
       "      dtype='<U8')"
      ]
     },
     "execution_count": 79,
     "metadata": {},
     "output_type": "execute_result"
    }
   ],
   "source": [
    "values.take(indexer)"
   ]
  },
  {
   "cell_type": "markdown",
   "id": "f5eaffaa",
   "metadata": {},
   "source": [
    "The only stable sort available is mergesort, which has guaranteed O(n log n) perfor‐\n",
    "mance (for complexity buffs), but its performance is on average worse than the\n",
    "default quicksort method. See Table A-3 for a summary of available methods and\n",
    "their relative performance (and performance guarantees). This is not something that\n",
    "most users will ever have to think about, but it’s useful to know that it’s there.\n"
   ]
  },
  {
   "cell_type": "markdown",
   "id": "3c023ed8",
   "metadata": {},
   "source": [
    "Table A-3. Array sorting methods\n",
    "------------------------------------------------\n",
    "\n",
    "Kind --> Speed --> Stable --> Work space --> Worst case\n",
    "  \n",
    "    \n",
    "'quicksort' --> 1 --> No --> 0 --> O(n^2)\n",
    "  \n",
    "    \n",
    "'mergesort' --> 2 --> Yes --> n / 2 --> O(n log n)\n",
    "    \n",
    "    \n",
    "'heapsort' --> 3 --> No --> 0 --> O(n log n)"
   ]
  },
  {
   "cell_type": "markdown",
   "id": "6c64d66d",
   "metadata": {},
   "source": [
    "## Partially Sorting Arrays"
   ]
  },
  {
   "cell_type": "markdown",
   "id": "a5c31b55",
   "metadata": {},
   "source": [
    "One of the goals of sorting can be to determine the largest or smallest elements in an\n",
    "array. NumPy has optimized methods, numpy.partition and np.argpartition, for\n",
    "partitioning an array around the k-th smallest element:"
   ]
  },
  {
   "cell_type": "code",
   "execution_count": 80,
   "id": "cec73df3",
   "metadata": {},
   "outputs": [
    {
     "data": {
      "text/plain": [
       "array([-0.20470766,  0.47894334, -0.51943872, -0.5557303 ,  1.96578057,\n",
       "        1.39340583,  0.09290788,  0.28174615,  0.76902257,  1.24643474,\n",
       "        1.00718936, -1.29622111,  0.27499163,  0.22891288,  1.35291684,\n",
       "        0.88642934, -2.00163731, -0.37184254,  1.66902531, -0.43856974])"
      ]
     },
     "execution_count": 80,
     "metadata": {},
     "output_type": "execute_result"
    }
   ],
   "source": [
    "np.random.seed(12345)\n",
    "arr = np.random.randn(20)\n",
    "arr"
   ]
  },
  {
   "cell_type": "code",
   "execution_count": 81,
   "id": "810c1607",
   "metadata": {},
   "outputs": [
    {
     "data": {
      "text/plain": [
       "array([-2.00163731, -1.29622111, -0.5557303 , -0.51943872, -0.37184254,\n",
       "       -0.43856974, -0.20470766,  0.28174615,  0.76902257,  0.47894334,\n",
       "        1.00718936,  0.09290788,  0.27499163,  0.22891288,  1.35291684,\n",
       "        0.88642934,  1.39340583,  1.96578057,  1.66902531,  1.24643474])"
      ]
     },
     "execution_count": 81,
     "metadata": {},
     "output_type": "execute_result"
    }
   ],
   "source": [
    "np.partition(arr, 3)"
   ]
  },
  {
   "cell_type": "markdown",
   "id": "d0d4182b",
   "metadata": {},
   "source": [
    "After you call partition(arr, 3), the first three elements in the result are the small‐\n",
    "est three values in no particular order. numpy.argpartition, similar to numpy.arg\n",
    "sort, returns the indices that rearrange the data into the equivalent order:"
   ]
  },
  {
   "cell_type": "code",
   "execution_count": 82,
   "id": "19c9a67b",
   "metadata": {},
   "outputs": [
    {
     "data": {
      "text/plain": [
       "array([16, 11,  3,  2, 17, 19,  0,  7,  8,  1, 10,  6, 12, 13, 14, 15,  5,\n",
       "        4, 18,  9], dtype=int64)"
      ]
     },
     "execution_count": 82,
     "metadata": {},
     "output_type": "execute_result"
    }
   ],
   "source": [
    "indices = np.argpartition(arr, 3)\n",
    "indices"
   ]
  },
  {
   "cell_type": "code",
   "execution_count": 83,
   "id": "782e7084",
   "metadata": {},
   "outputs": [
    {
     "data": {
      "text/plain": [
       "array([-2.00163731, -1.29622111, -0.5557303 , -0.51943872, -0.37184254,\n",
       "       -0.43856974, -0.20470766,  0.28174615,  0.76902257,  0.47894334,\n",
       "        1.00718936,  0.09290788,  0.27499163,  0.22891288,  1.35291684,\n",
       "        0.88642934,  1.39340583,  1.96578057,  1.66902531,  1.24643474])"
      ]
     },
     "execution_count": 83,
     "metadata": {},
     "output_type": "execute_result"
    }
   ],
   "source": [
    "arr.take(indices)"
   ]
  },
  {
   "cell_type": "markdown",
   "id": "29183ba4",
   "metadata": {},
   "source": [
    "## numpy.searchsorted: Finding Elements in a Sorted Array"
   ]
  },
  {
   "cell_type": "markdown",
   "id": "b3837b4d",
   "metadata": {},
   "source": [
    "searchsorted is an array method that performs a binary search on a sorted array,\n",
    "returning the location in the array where the value would need to be inserted to\n",
    "maintain sortedness:\n"
   ]
  },
  {
   "cell_type": "code",
   "execution_count": 84,
   "id": "6a721c9f",
   "metadata": {},
   "outputs": [
    {
     "data": {
      "text/plain": [
       "3"
      ]
     },
     "execution_count": 84,
     "metadata": {},
     "output_type": "execute_result"
    }
   ],
   "source": [
    "arr = np.array([0, 1, 7, 12, 15])\n",
    "arr.searchsorted(9)"
   ]
  },
  {
   "cell_type": "markdown",
   "id": "b0804260",
   "metadata": {},
   "source": [
    "You can also pass an array of values to get an array of indices back:"
   ]
  },
  {
   "cell_type": "code",
   "execution_count": 85,
   "id": "b95f15fb",
   "metadata": {},
   "outputs": [
    {
     "data": {
      "text/plain": [
       "array([0, 3, 3, 5], dtype=int64)"
      ]
     },
     "execution_count": 85,
     "metadata": {},
     "output_type": "execute_result"
    }
   ],
   "source": [
    "arr.searchsorted([0, 8, 11, 16])"
   ]
  },
  {
   "cell_type": "markdown",
   "id": "e1f665e2",
   "metadata": {},
   "source": [
    "You might have noticed that searchsorted returned 0 for the 0 element. This is\n",
    "because the default behavior is to return the index at the left side of a group of equal\n",
    "values:"
   ]
  },
  {
   "cell_type": "code",
   "execution_count": 86,
   "id": "dd6a2258",
   "metadata": {},
   "outputs": [
    {
     "data": {
      "text/plain": [
       "array([0, 3], dtype=int64)"
      ]
     },
     "execution_count": 86,
     "metadata": {},
     "output_type": "execute_result"
    }
   ],
   "source": [
    "arr = np.array([0, 0, 0, 1, 1, 1, 1])\n",
    "arr.searchsorted([0, 1])"
   ]
  },
  {
   "cell_type": "code",
   "execution_count": 87,
   "id": "7769df32",
   "metadata": {},
   "outputs": [
    {
     "data": {
      "text/plain": [
       "array([3, 7], dtype=int64)"
      ]
     },
     "execution_count": 87,
     "metadata": {},
     "output_type": "execute_result"
    }
   ],
   "source": [
    "arr.searchsorted([0, 1], side='right')"
   ]
  },
  {
   "cell_type": "markdown",
   "id": "b5f81051",
   "metadata": {},
   "source": [
    "As another application of searchsorted, suppose we had an array of values between\n",
    "0 and 10,000, and a separate array of “bucket edges” that we wanted to use to bin the\n",
    "data:"
   ]
  },
  {
   "cell_type": "code",
   "execution_count": 88,
   "id": "b3f97cbe",
   "metadata": {},
   "outputs": [
    {
     "data": {
      "text/plain": [
       "array([9940., 6768., 7908., 1709.,  268., 8003., 9037.,  246., 4917.,\n",
       "       5262., 5963.,  519., 8950., 7282., 8183., 5002., 8101.,  959.,\n",
       "       2189., 2587., 4681., 4593., 7095., 1780., 5314., 1677., 7688.,\n",
       "       9281., 6094., 1501., 4896., 3773., 8486., 9110., 3838., 3154.,\n",
       "       5683., 1878., 1258., 6875., 7996., 5735., 9732., 6340., 8884.,\n",
       "       4954., 3516., 7142., 5039., 2256.])"
      ]
     },
     "execution_count": 88,
     "metadata": {},
     "output_type": "execute_result"
    }
   ],
   "source": [
    "data = np.floor(np.random.uniform(0, 10000, size=50))\n",
    "bins = np.array([0, 100, 1000, 5000, 10000])\n",
    "data"
   ]
  },
  {
   "cell_type": "markdown",
   "id": "8e970cc9",
   "metadata": {},
   "source": [
    "To then get a labeling of which interval each data point belongs to (where 1 would\n",
    "mean the bucket [0, 100)), we can simply use searchsorted:"
   ]
  },
  {
   "cell_type": "code",
   "execution_count": 89,
   "id": "dd65f42c",
   "metadata": {},
   "outputs": [
    {
     "data": {
      "text/plain": [
       "array([4, 4, 4, 3, 2, 4, 4, 2, 3, 4, 4, 2, 4, 4, 4, 4, 4, 2, 3, 3, 3, 3,\n",
       "       4, 3, 4, 3, 4, 4, 4, 3, 3, 3, 4, 4, 3, 3, 4, 3, 3, 4, 4, 4, 4, 4,\n",
       "       4, 3, 3, 4, 4, 3], dtype=int64)"
      ]
     },
     "execution_count": 89,
     "metadata": {},
     "output_type": "execute_result"
    }
   ],
   "source": [
    "labels = bins.searchsorted(data)\n",
    "labels"
   ]
  },
  {
   "cell_type": "markdown",
   "id": "163dd60b",
   "metadata": {},
   "source": [
    "This, combined with pandas’s groupby, can be used to bin data:"
   ]
  },
  {
   "cell_type": "code",
   "execution_count": 91,
   "id": "1a46f34d",
   "metadata": {},
   "outputs": [
    {
     "data": {
      "text/plain": [
       "2     498.000000\n",
       "3    3064.277778\n",
       "4    7389.035714\n",
       "dtype: float64"
      ]
     },
     "execution_count": 91,
     "metadata": {},
     "output_type": "execute_result"
    }
   ],
   "source": [
    "import pandas as pd\n",
    "pd.Series(data).groupby(labels).mean()"
   ]
  },
  {
   "cell_type": "markdown",
   "id": "3fbc9c77",
   "metadata": {},
   "source": [
    "## A.7 Writing Fast NumPy Functions with Numba"
   ]
  },
  {
   "cell_type": "markdown",
   "id": "717dd542",
   "metadata": {},
   "source": [
    "Numba is an open source project that creates fast functions for NumPy-like data\n",
    "using CPUs, GPUs, or other hardware. It uses the LLVM Project to translate Python\n",
    "code into compiled machine code.\n"
   ]
  },
  {
   "cell_type": "markdown",
   "id": "7619538e",
   "metadata": {},
   "source": [
    "To introduce Numba, let’s consider a pure Python function that computes the expres‐\n",
    "sion (x - y).mean() using a for loop:"
   ]
  },
  {
   "cell_type": "code",
   "execution_count": 92,
   "id": "da1bb7dd",
   "metadata": {},
   "outputs": [],
   "source": [
    "import numpy as np\n",
    "def mean_distance(x, y):\n",
    "    nx = len(x)\n",
    "    result = 0.0\n",
    "    count = 0\n",
    "    for i in range(nx):\n",
    "        result += x[i] - y[i]\n",
    "        count += 1\n",
    "    return result / count"
   ]
  },
  {
   "cell_type": "markdown",
   "id": "b490cf9c",
   "metadata": {},
   "source": [
    "This function is very slow:\n"
   ]
  },
  {
   "cell_type": "code",
   "execution_count": 93,
   "id": "e12a45fc",
   "metadata": {},
   "outputs": [
    {
     "name": "stdout",
     "output_type": "stream",
     "text": [
      "5.34 s ± 80.9 ms per loop (mean ± std. dev. of 7 runs, 1 loop each)\n"
     ]
    }
   ],
   "source": [
    "x = np.random.randn(10000000)\n",
    "y = np.random.randn(10000000)\n",
    "%timeit mean_distance(x, y)"
   ]
  },
  {
   "cell_type": "code",
   "execution_count": 94,
   "id": "c63d8d3f",
   "metadata": {},
   "outputs": [
    {
     "name": "stdout",
     "output_type": "stream",
     "text": [
      "5.18 s ± 191 ms per loop (mean ± std. dev. of 7 runs, 1 loop each)\n"
     ]
    }
   ],
   "source": [
    "x = np.random.randn(10000000)\n",
    "In [210]: y = np.random.randn(10000000)\n",
    "In [211]: %timeit mean_distance(x, y)"
   ]
  },
  {
   "cell_type": "markdown",
   "id": "3b55ffd4",
   "metadata": {},
   "source": [
    "The NumPy version is over 100 times faster. We can turn this function into a com‐\n",
    "piled Numba function using the numba.jit function:\n"
   ]
  },
  {
   "cell_type": "code",
   "execution_count": 98,
   "id": "b9fe8811",
   "metadata": {},
   "outputs": [
    {
     "ename": "ModuleNotFoundError",
     "evalue": "No module named 'numba'",
     "output_type": "error",
     "traceback": [
      "\u001b[1;31m---------------------------------------------------------------------------\u001b[0m",
      "\u001b[1;31mModuleNotFoundError\u001b[0m                       Traceback (most recent call last)",
      "\u001b[1;32m<ipython-input-98-ec40cc9a2b4e>\u001b[0m in \u001b[0;36m<module>\u001b[1;34m\u001b[0m\n\u001b[1;32m----> 1\u001b[1;33m \u001b[1;32mimport\u001b[0m \u001b[0mnumba\u001b[0m \u001b[1;32mas\u001b[0m \u001b[0mnb\u001b[0m\u001b[1;33m\u001b[0m\u001b[1;33m\u001b[0m\u001b[0m\n\u001b[0m\u001b[0;32m      2\u001b[0m \u001b[0mnumba_mean_distance\u001b[0m \u001b[1;33m=\u001b[0m \u001b[0mnb\u001b[0m\u001b[1;33m.\u001b[0m\u001b[0mjit\u001b[0m\u001b[1;33m(\u001b[0m\u001b[0mmean_distance\u001b[0m\u001b[1;33m)\u001b[0m\u001b[1;33m\u001b[0m\u001b[1;33m\u001b[0m\u001b[0m\n",
      "\u001b[1;31mModuleNotFoundError\u001b[0m: No module named 'numba'"
     ]
    }
   ],
   "source": [
    "import numba as nb\n",
    "numba_mean_distance = nb.jit(mean_distance)"
   ]
  },
  {
   "cell_type": "code",
   "execution_count": 96,
   "id": "aeda6273",
   "metadata": {},
   "outputs": [
    {
     "name": "stdout",
     "output_type": "stream",
     "text": [
      "Collecting numba"
     ]
    },
    {
     "name": "stderr",
     "output_type": "stream",
     "text": [
      "ERROR: Exception:\n",
      "Traceback (most recent call last):\n",
      "  File \"C:\\Users\\ankit19.gupta\\OneDrive - Reliance Corporate IT Park Limited\\Desktop\\Practice_Code\\Python_Practice\\Python_For_Data_Analysis\\myenv\\lib\\site-packages\\pip\\_vendor\\urllib3\\response.py\", line 438, in _error_catcher\n",
      "    yield\n",
      "  File \"C:\\Users\\ankit19.gupta\\OneDrive - Reliance Corporate IT Park Limited\\Desktop\\Practice_Code\\Python_Practice\\Python_For_Data_Analysis\\myenv\\lib\\site-packages\\pip\\_vendor\\urllib3\\response.py\", line 519, in read\n",
      "    data = self._fp.read(amt) if not fp_closed else b\"\"\n",
      "  File \"C:\\Users\\ankit19.gupta\\OneDrive - Reliance Corporate IT Park Limited\\Desktop\\Practice_Code\\Python_Practice\\Python_For_Data_Analysis\\myenv\\lib\\site-packages\\pip\\_vendor\\cachecontrol\\filewrapper.py\", line 62, in read\n",
      "    data = self.__fp.read(amt)\n",
      "  File \"C:\\Users\\ankit19.gupta\\OneDrive - Reliance Corporate IT Park Limited\\Desktop\\Practice_Code\\Python_Practice\\Python_For_Data_Analysis\\myenv\\lib\\http\\client.py\", line 463, in read\n",
      "    n = self.readinto(b)\n",
      "  File \"C:\\Users\\ankit19.gupta\\OneDrive - Reliance Corporate IT Park Limited\\Desktop\\Practice_Code\\Python_Practice\\Python_For_Data_Analysis\\myenv\\lib\\http\\client.py\", line 507, in readinto\n",
      "    n = self.fp.readinto(b)\n",
      "  File \"C:\\Users\\ankit19.gupta\\OneDrive - Reliance Corporate IT Park Limited\\Desktop\\Practice_Code\\Python_Practice\\Python_For_Data_Analysis\\myenv\\lib\\socket.py\", line 586, in readinto\n",
      "    return self._sock.recv_into(b)\n",
      "  File \"C:\\Users\\ankit19.gupta\\OneDrive - Reliance Corporate IT Park Limited\\Desktop\\Practice_Code\\Python_Practice\\Python_For_Data_Analysis\\myenv\\lib\\ssl.py\", line 1012, in recv_into\n",
      "    return self.read(nbytes, buffer)\n",
      "  File \"C:\\Users\\ankit19.gupta\\OneDrive - Reliance Corporate IT Park Limited\\Desktop\\Practice_Code\\Python_Practice\\Python_For_Data_Analysis\\myenv\\lib\\ssl.py\", line 874, in read\n",
      "    return self._sslobj.read(len, buffer)\n",
      "  File \"C:\\Users\\ankit19.gupta\\OneDrive - Reliance Corporate IT Park Limited\\Desktop\\Practice_Code\\Python_Practice\\Python_For_Data_Analysis\\myenv\\lib\\ssl.py\", line 631, in read\n",
      "    v = self._sslobj.read(len, buffer)\n",
      "socket.timeout: The read operation timed out"
     ]
    },
    {
     "name": "stdout",
     "output_type": "stream",
     "text": [
      "\n",
      "  Downloading numba-0.53.1-cp36-cp36m-win_amd64.whl (2.3 MB)\n"
     ]
    },
    {
     "name": "stderr",
     "output_type": "stream",
     "text": [
      "\n",
      "\n",
      "During handling of the above exception, another exception occurred:\n",
      "\n",
      "Traceback (most recent call last):\n",
      "  File \"C:\\Users\\ankit19.gupta\\OneDrive - Reliance Corporate IT Park Limited\\Desktop\\Practice_Code\\Python_Practice\\Python_For_Data_Analysis\\myenv\\lib\\site-packages\\pip\\_internal\\cli\\base_command.py\", line 173, in _main\n",
      "    status = self.run(options, args)\n",
      "  File \"C:\\Users\\ankit19.gupta\\OneDrive - Reliance Corporate IT Park Limited\\Desktop\\Practice_Code\\Python_Practice\\Python_For_Data_Analysis\\myenv\\lib\\site-packages\\pip\\_internal\\cli\\req_command.py\", line 203, in wrapper\n",
      "    return func(self, options, args)\n",
      "  File \"C:\\Users\\ankit19.gupta\\OneDrive - Reliance Corporate IT Park Limited\\Desktop\\Practice_Code\\Python_Practice\\Python_For_Data_Analysis\\myenv\\lib\\site-packages\\pip\\_internal\\commands\\install.py\", line 316, in run\n",
      "    reqs, check_supported_wheels=not options.target_dir\n",
      "  File \"C:\\Users\\ankit19.gupta\\OneDrive - Reliance Corporate IT Park Limited\\Desktop\\Practice_Code\\Python_Practice\\Python_For_Data_Analysis\\myenv\\lib\\site-packages\\pip\\_internal\\resolution\\resolvelib\\resolver.py\", line 95, in resolve\n",
      "    collected.requirements, max_rounds=try_to_avoid_resolution_too_deep\n",
      "  File \"C:\\Users\\ankit19.gupta\\OneDrive - Reliance Corporate IT Park Limited\\Desktop\\Practice_Code\\Python_Practice\\Python_For_Data_Analysis\\myenv\\lib\\site-packages\\pip\\_vendor\\resolvelib\\resolvers.py\", line 472, in resolve\n",
      "    state = resolution.resolve(requirements, max_rounds=max_rounds)\n",
      "  File \"C:\\Users\\ankit19.gupta\\OneDrive - Reliance Corporate IT Park Limited\\Desktop\\Practice_Code\\Python_Practice\\Python_For_Data_Analysis\\myenv\\lib\\site-packages\\pip\\_vendor\\resolvelib\\resolvers.py\", line 341, in resolve\n",
      "    self._add_to_criteria(self.state.criteria, r, parent=None)\n",
      "  File \"C:\\Users\\ankit19.gupta\\OneDrive - Reliance Corporate IT Park Limited\\Desktop\\Practice_Code\\Python_Practice\\Python_For_Data_Analysis\\myenv\\lib\\site-packages\\pip\\_vendor\\resolvelib\\resolvers.py\", line 172, in _add_to_criteria\n",
      "    if not criterion.candidates:\n",
      "  File \"C:\\Users\\ankit19.gupta\\OneDrive - Reliance Corporate IT Park Limited\\Desktop\\Practice_Code\\Python_Practice\\Python_For_Data_Analysis\\myenv\\lib\\site-packages\\pip\\_vendor\\resolvelib\\structs.py\", line 151, in __bool__\n",
      "    return bool(self._sequence)\n",
      "  File \"C:\\Users\\ankit19.gupta\\OneDrive - Reliance Corporate IT Park Limited\\Desktop\\Practice_Code\\Python_Practice\\Python_For_Data_Analysis\\myenv\\lib\\site-packages\\pip\\_internal\\resolution\\resolvelib\\found_candidates.py\", line 140, in __bool__\n",
      "    return any(self)\n",
      "  File \"C:\\Users\\ankit19.gupta\\OneDrive - Reliance Corporate IT Park Limited\\Desktop\\Practice_Code\\Python_Practice\\Python_For_Data_Analysis\\myenv\\lib\\site-packages\\pip\\_internal\\resolution\\resolvelib\\found_candidates.py\", line 128, in <genexpr>\n",
      "    return (c for c in iterator if id(c) not in self._incompatible_ids)\n",
      "  File \"C:\\Users\\ankit19.gupta\\OneDrive - Reliance Corporate IT Park Limited\\Desktop\\Practice_Code\\Python_Practice\\Python_For_Data_Analysis\\myenv\\lib\\site-packages\\pip\\_internal\\resolution\\resolvelib\\found_candidates.py\", line 32, in _iter_built\n",
      "    candidate = func()\n",
      "  File \"C:\\Users\\ankit19.gupta\\OneDrive - Reliance Corporate IT Park Limited\\Desktop\\Practice_Code\\Python_Practice\\Python_For_Data_Analysis\\myenv\\lib\\site-packages\\pip\\_internal\\resolution\\resolvelib\\factory.py\", line 209, in _make_candidate_from_link\n",
      "    version=version,\n",
      "  File \"C:\\Users\\ankit19.gupta\\OneDrive - Reliance Corporate IT Park Limited\\Desktop\\Practice_Code\\Python_Practice\\Python_For_Data_Analysis\\myenv\\lib\\site-packages\\pip\\_internal\\resolution\\resolvelib\\candidates.py\", line 301, in __init__\n",
      "    version=version,\n"
     ]
    }
   ],
   "source": [
    "! pip install numba"
   ]
  },
  {
   "cell_type": "markdown",
   "id": "2f35687f",
   "metadata": {},
   "source": [
    "We could also have written this as a decorator:\n"
   ]
  },
  {
   "cell_type": "code",
   "execution_count": 97,
   "id": "42833193",
   "metadata": {},
   "outputs": [
    {
     "ename": "NameError",
     "evalue": "name 'nb' is not defined",
     "output_type": "error",
     "traceback": [
      "\u001b[1;31m---------------------------------------------------------------------------\u001b[0m",
      "\u001b[1;31mNameError\u001b[0m                                 Traceback (most recent call last)",
      "\u001b[1;32m<ipython-input-97-e983f14ace01>\u001b[0m in \u001b[0;36m<module>\u001b[1;34m\u001b[0m\n\u001b[1;32m----> 1\u001b[1;33m \u001b[1;33m@\u001b[0m\u001b[0mnb\u001b[0m\u001b[1;33m.\u001b[0m\u001b[0mjit\u001b[0m\u001b[1;33m\u001b[0m\u001b[1;33m\u001b[0m\u001b[0m\n\u001b[0m\u001b[0;32m      2\u001b[0m \u001b[1;32mdef\u001b[0m \u001b[0mmean_distance\u001b[0m\u001b[1;33m(\u001b[0m\u001b[0mx\u001b[0m\u001b[1;33m,\u001b[0m \u001b[0my\u001b[0m\u001b[1;33m)\u001b[0m\u001b[1;33m:\u001b[0m\u001b[1;33m\u001b[0m\u001b[1;33m\u001b[0m\u001b[0m\n\u001b[0;32m      3\u001b[0m     \u001b[0mnx\u001b[0m \u001b[1;33m=\u001b[0m \u001b[0mlen\u001b[0m\u001b[1;33m(\u001b[0m\u001b[0mx\u001b[0m\u001b[1;33m)\u001b[0m\u001b[1;33m\u001b[0m\u001b[1;33m\u001b[0m\u001b[0m\n\u001b[0;32m      4\u001b[0m     \u001b[0mresult\u001b[0m \u001b[1;33m=\u001b[0m \u001b[1;36m0.0\u001b[0m\u001b[1;33m\u001b[0m\u001b[1;33m\u001b[0m\u001b[0m\n\u001b[0;32m      5\u001b[0m     \u001b[0mcount\u001b[0m \u001b[1;33m=\u001b[0m \u001b[1;36m0\u001b[0m\u001b[1;33m\u001b[0m\u001b[1;33m\u001b[0m\u001b[0m\n",
      "\u001b[1;31mNameError\u001b[0m: name 'nb' is not defined"
     ]
    }
   ],
   "source": [
    "@nb.jit\n",
    "def mean_distance(x, y):\n",
    "    nx = len(x)\n",
    "    result = 0.0\n",
    "    count = 0\n",
    "    for i in range(nx):\n",
    "        result += x[i] - y[i]\n",
    "        count += 1\n",
    "    return result / count"
   ]
  },
  {
   "cell_type": "markdown",
   "id": "abc50c39",
   "metadata": {},
   "source": [
    "The resulting function is actually faster than the vectorized NumPy version:"
   ]
  },
  {
   "cell_type": "code",
   "execution_count": null,
   "id": "943059af",
   "metadata": {},
   "outputs": [],
   "source": [
    "%timeit numba_mean_distance(x, y)"
   ]
  },
  {
   "cell_type": "markdown",
   "id": "0396ab5d",
   "metadata": {},
   "source": [
    "Numba cannot compile arbitrary Python code, but it supports a significant subset of\n",
    "pure Python that is most useful for writing numerical algorithms.\n"
   ]
  },
  {
   "cell_type": "markdown",
   "id": "cc6a1757",
   "metadata": {},
   "source": [
    "Numba is a deep library, supporting different kinds of hardware, modes of compila‐\n",
    "tion, and user extensions. It is also able to compile a substantial subset of the NumPy\n",
    "Python API without explicit for loops. Numba is able to recognize constructs that\n",
    "can be compiled to machine code, while substituting calls to the CPython API for\n",
    "functions that it does not know how to compile. Numba’s jit function has an option,\n",
    "nopython=True, which restricts allowed code to Python code that can be compiled to\n",
    "LLVM without any Python C API calls. jit(nopython=True) has a shorter alias\n",
    "numba.njit."
   ]
  },
  {
   "cell_type": "markdown",
   "id": "f9e6ace8",
   "metadata": {},
   "source": [
    "In the previous example, we could have written:"
   ]
  },
  {
   "cell_type": "code",
   "execution_count": 99,
   "id": "6cb600a6",
   "metadata": {},
   "outputs": [
    {
     "ename": "ModuleNotFoundError",
     "evalue": "No module named 'numba'",
     "output_type": "error",
     "traceback": [
      "\u001b[1;31m---------------------------------------------------------------------------\u001b[0m",
      "\u001b[1;31mModuleNotFoundError\u001b[0m                       Traceback (most recent call last)",
      "\u001b[1;32m<ipython-input-99-24bbb4c50adb>\u001b[0m in \u001b[0;36m<module>\u001b[1;34m\u001b[0m\n\u001b[1;32m----> 1\u001b[1;33m \u001b[1;32mfrom\u001b[0m \u001b[0mnumba\u001b[0m \u001b[1;32mimport\u001b[0m \u001b[0mfloat64\u001b[0m\u001b[1;33m,\u001b[0m \u001b[0mnjit\u001b[0m\u001b[1;33m\u001b[0m\u001b[1;33m\u001b[0m\u001b[0m\n\u001b[0m\u001b[0;32m      2\u001b[0m \u001b[1;33m@\u001b[0m\u001b[0mnjit\u001b[0m\u001b[1;33m(\u001b[0m\u001b[0mfloat64\u001b[0m\u001b[1;33m(\u001b[0m\u001b[0mfloat64\u001b[0m\u001b[1;33m[\u001b[0m\u001b[1;33m:\u001b[0m\u001b[1;33m]\u001b[0m\u001b[1;33m,\u001b[0m \u001b[0mfloat64\u001b[0m\u001b[1;33m[\u001b[0m\u001b[1;33m:\u001b[0m\u001b[1;33m]\u001b[0m\u001b[1;33m)\u001b[0m\u001b[1;33m)\u001b[0m\u001b[1;33m\u001b[0m\u001b[1;33m\u001b[0m\u001b[0m\n\u001b[0;32m      3\u001b[0m \u001b[1;32mdef\u001b[0m \u001b[0mmean_distance\u001b[0m\u001b[1;33m(\u001b[0m\u001b[0mx\u001b[0m\u001b[1;33m,\u001b[0m \u001b[0my\u001b[0m\u001b[1;33m)\u001b[0m\u001b[1;33m:\u001b[0m\u001b[1;33m\u001b[0m\u001b[1;33m\u001b[0m\u001b[0m\n\u001b[0;32m      4\u001b[0m     \u001b[1;32mreturn\u001b[0m \u001b[1;33m(\u001b[0m\u001b[0mx\u001b[0m \u001b[1;33m-\u001b[0m \u001b[0my\u001b[0m\u001b[1;33m)\u001b[0m\u001b[1;33m.\u001b[0m\u001b[0mmean\u001b[0m\u001b[1;33m(\u001b[0m\u001b[1;33m)\u001b[0m\u001b[1;33m\u001b[0m\u001b[1;33m\u001b[0m\u001b[0m\n",
      "\u001b[1;31mModuleNotFoundError\u001b[0m: No module named 'numba'"
     ]
    }
   ],
   "source": [
    "from numba import float64, njit\n",
    "@njit(float64(float64[:], float64[:]))\n",
    "def mean_distance(x, y):\n",
    "    return (x - y).mean()"
   ]
  },
  {
   "cell_type": "markdown",
   "id": "bddbb9f0",
   "metadata": {},
   "source": [
    "I encourage you to learn more by reading the online documentation for Numba. The\n",
    "next section shows an example of creating custom NumPy ufunc objects.\n"
   ]
  },
  {
   "cell_type": "markdown",
   "id": "b64675c0",
   "metadata": {},
   "source": [
    "## Creating Custom numpy.ufunc Objects with Numba"
   ]
  },
  {
   "cell_type": "markdown",
   "id": "7bc16b37",
   "metadata": {},
   "source": [
    "The numba.vectorize function creates compiled NumPy ufuncs, which behave like\n",
    "built-in ufuncs. Let’s consider a Python implementation of numpy.add:\n"
   ]
  },
  {
   "cell_type": "code",
   "execution_count": 100,
   "id": "18c9ffd0",
   "metadata": {},
   "outputs": [
    {
     "ename": "ModuleNotFoundError",
     "evalue": "No module named 'numba'",
     "output_type": "error",
     "traceback": [
      "\u001b[1;31m---------------------------------------------------------------------------\u001b[0m",
      "\u001b[1;31mModuleNotFoundError\u001b[0m                       Traceback (most recent call last)",
      "\u001b[1;32m<ipython-input-100-3e075166d125>\u001b[0m in \u001b[0;36m<module>\u001b[1;34m\u001b[0m\n\u001b[1;32m----> 1\u001b[1;33m \u001b[1;32mfrom\u001b[0m \u001b[0mnumba\u001b[0m \u001b[1;32mimport\u001b[0m \u001b[0mvectorize\u001b[0m\u001b[1;33m\u001b[0m\u001b[1;33m\u001b[0m\u001b[0m\n\u001b[0m\u001b[0;32m      2\u001b[0m \u001b[1;33m@\u001b[0m\u001b[0mvectorize\u001b[0m\u001b[1;33m\u001b[0m\u001b[1;33m\u001b[0m\u001b[0m\n\u001b[0;32m      3\u001b[0m \u001b[1;32mdef\u001b[0m \u001b[0mnb_add\u001b[0m\u001b[1;33m(\u001b[0m\u001b[0mx\u001b[0m\u001b[1;33m,\u001b[0m \u001b[0my\u001b[0m\u001b[1;33m)\u001b[0m\u001b[1;33m:\u001b[0m\u001b[1;33m\u001b[0m\u001b[1;33m\u001b[0m\u001b[0m\n\u001b[0;32m      4\u001b[0m     \u001b[1;32mreturn\u001b[0m \u001b[0mx\u001b[0m \u001b[1;33m+\u001b[0m \u001b[0my\u001b[0m\u001b[1;33m\u001b[0m\u001b[1;33m\u001b[0m\u001b[0m\n",
      "\u001b[1;31mModuleNotFoundError\u001b[0m: No module named 'numba'"
     ]
    }
   ],
   "source": [
    "from numba import vectorize\n",
    "@vectorize\n",
    "def nb_add(x, y):\n",
    "    return x + y"
   ]
  },
  {
   "cell_type": "markdown",
   "id": "590c9880",
   "metadata": {},
   "source": [
    "Now we have:\n"
   ]
  },
  {
   "cell_type": "code",
   "execution_count": 101,
   "id": "2e2570a8",
   "metadata": {},
   "outputs": [
    {
     "ename": "NameError",
     "evalue": "name 'nb_add' is not defined",
     "output_type": "error",
     "traceback": [
      "\u001b[1;31m---------------------------------------------------------------------------\u001b[0m",
      "\u001b[1;31mNameError\u001b[0m                                 Traceback (most recent call last)",
      "\u001b[1;32m<ipython-input-101-217c89ceaf1b>\u001b[0m in \u001b[0;36m<module>\u001b[1;34m\u001b[0m\n\u001b[0;32m      1\u001b[0m \u001b[0mx\u001b[0m \u001b[1;33m=\u001b[0m \u001b[0mnp\u001b[0m\u001b[1;33m.\u001b[0m\u001b[0marange\u001b[0m\u001b[1;33m(\u001b[0m\u001b[1;36m10\u001b[0m\u001b[1;33m)\u001b[0m\u001b[1;33m\u001b[0m\u001b[1;33m\u001b[0m\u001b[0m\n\u001b[1;32m----> 2\u001b[1;33m \u001b[0mnb_add\u001b[0m\u001b[1;33m(\u001b[0m\u001b[0mx\u001b[0m\u001b[1;33m,\u001b[0m \u001b[0mx\u001b[0m\u001b[1;33m)\u001b[0m\u001b[1;33m\u001b[0m\u001b[1;33m\u001b[0m\u001b[0m\n\u001b[0m",
      "\u001b[1;31mNameError\u001b[0m: name 'nb_add' is not defined"
     ]
    }
   ],
   "source": [
    "x = np.arange(10)\n",
    "nb_add(x, x)"
   ]
  },
  {
   "cell_type": "code",
   "execution_count": 102,
   "id": "c070202f",
   "metadata": {},
   "outputs": [
    {
     "ename": "NameError",
     "evalue": "name 'nb_add' is not defined",
     "output_type": "error",
     "traceback": [
      "\u001b[1;31m---------------------------------------------------------------------------\u001b[0m",
      "\u001b[1;31mNameError\u001b[0m                                 Traceback (most recent call last)",
      "\u001b[1;32m<ipython-input-102-e53ce9bd412f>\u001b[0m in \u001b[0;36m<module>\u001b[1;34m\u001b[0m\n\u001b[1;32m----> 1\u001b[1;33m \u001b[0mnb_add\u001b[0m\u001b[1;33m.\u001b[0m\u001b[0maccumulate\u001b[0m\u001b[1;33m(\u001b[0m\u001b[0mx\u001b[0m\u001b[1;33m,\u001b[0m \u001b[1;36m0\u001b[0m\u001b[1;33m)\u001b[0m\u001b[1;33m\u001b[0m\u001b[1;33m\u001b[0m\u001b[0m\n\u001b[0m",
      "\u001b[1;31mNameError\u001b[0m: name 'nb_add' is not defined"
     ]
    }
   ],
   "source": [
    "nb_add.accumulate(x, 0)"
   ]
  },
  {
   "cell_type": "markdown",
   "id": "a19a0e48",
   "metadata": {},
   "source": [
    "## A.8 Advanced Array Input and Output"
   ]
  },
  {
   "cell_type": "markdown",
   "id": "2d82b5d1",
   "metadata": {},
   "source": [
    "In Chapter 4, we became acquainted with np.save and np.load for storing arrays in\n",
    "binary format on disk. There are a number of additional options to consider for more\n",
    "sophisticated use. In particular, memory maps have the additional benefit of enabling\n",
    "you to work with datasets that do not fit into RAM."
   ]
  },
  {
   "cell_type": "markdown",
   "id": "bdcf91b9",
   "metadata": {},
   "source": [
    "## Memory-Mapped Files"
   ]
  },
  {
   "cell_type": "markdown",
   "id": "605f488f",
   "metadata": {},
   "source": [
    "A memory-mapped file is a method for interacting with binary data on disk as though\n",
    "it is stored in an in-memory array. NumPy implements a memmap object that is\n",
    "ndarray-like, enabling small segments of a large file to be read and written without\n",
    "reading the whole array into memory. Additionally, a memmap has the same methods\n",
    "as an in-memory array and thus can be substituted into many algorithms where an\n",
    "ndarray would be expected."
   ]
  },
  {
   "cell_type": "markdown",
   "id": "2f505f3a",
   "metadata": {},
   "source": [
    "To create a new memory map, use the function np.memmap and pass a file path, dtype,\n",
    "shape, and file mode:"
   ]
  },
  {
   "cell_type": "code",
   "execution_count": 103,
   "id": "976aeaa8",
   "metadata": {},
   "outputs": [
    {
     "data": {
      "text/plain": [
       "memmap([[0., 0., 0., ..., 0., 0., 0.],\n",
       "        [0., 0., 0., ..., 0., 0., 0.],\n",
       "        [0., 0., 0., ..., 0., 0., 0.],\n",
       "        ...,\n",
       "        [0., 0., 0., ..., 0., 0., 0.],\n",
       "        [0., 0., 0., ..., 0., 0., 0.],\n",
       "        [0., 0., 0., ..., 0., 0., 0.]])"
      ]
     },
     "execution_count": 103,
     "metadata": {},
     "output_type": "execute_result"
    }
   ],
   "source": [
    "mmap = np.memmap('mymmap', dtype='float64', mode='w+',shape=(10000, 10000))\n",
    "mmap"
   ]
  },
  {
   "cell_type": "markdown",
   "id": "b096e47d",
   "metadata": {},
   "source": [
    "Slicing a memmap returns views on the data on disk:"
   ]
  },
  {
   "cell_type": "code",
   "execution_count": 104,
   "id": "43ce3b1c",
   "metadata": {},
   "outputs": [],
   "source": [
    "section = mmap[:5]"
   ]
  },
  {
   "cell_type": "markdown",
   "id": "db9663c8",
   "metadata": {},
   "source": [
    "If you assign data to these, it will be buffered in memory (like a Python file object),\n",
    "but you can write it to disk by calling flush:\n"
   ]
  },
  {
   "cell_type": "code",
   "execution_count": 105,
   "id": "b09c670a",
   "metadata": {},
   "outputs": [
    {
     "data": {
      "text/plain": [
       "memmap([[-0.18245763, -0.98387605, -0.03924531, ..., -2.1232373 ,\n",
       "          0.4699011 ,  1.23045698],\n",
       "        [ 0.27941134,  0.30688684, -0.62014901, ..., -1.99251109,\n",
       "          0.03710872,  0.02795918],\n",
       "        [ 1.27323018,  0.25729472,  1.17426959, ..., -0.57735952,\n",
       "          0.89564726, -1.02518372],\n",
       "        ...,\n",
       "        [ 0.        ,  0.        ,  0.        , ...,  0.        ,\n",
       "          0.        ,  0.        ],\n",
       "        [ 0.        ,  0.        ,  0.        , ...,  0.        ,\n",
       "          0.        ,  0.        ],\n",
       "        [ 0.        ,  0.        ,  0.        , ...,  0.        ,\n",
       "          0.        ,  0.        ]])"
      ]
     },
     "execution_count": 105,
     "metadata": {},
     "output_type": "execute_result"
    }
   ],
   "source": [
    "section[:] = np.random.randn(5, 10000)\n",
    "mmap.flush()\n",
    "mmap"
   ]
  },
  {
   "cell_type": "markdown",
   "id": "c6c60b9b",
   "metadata": {},
   "source": [
    "Whenever a memory map falls out of scope and is garbage-collected, any changes will\n",
    "be flushed to disk also. When opening an existing memory map, you still have to spec‐\n",
    "ify the dtype and shape, as the file is only a block of binary data with no metadata on\n",
    "disk:"
   ]
  },
  {
   "cell_type": "code",
   "execution_count": 106,
   "id": "f5e236e4",
   "metadata": {},
   "outputs": [
    {
     "data": {
      "text/plain": [
       "memmap([[-0.18245763, -0.98387605, -0.03924531, ..., -2.1232373 ,\n",
       "          0.4699011 ,  1.23045698],\n",
       "        [ 0.27941134,  0.30688684, -0.62014901, ..., -1.99251109,\n",
       "          0.03710872,  0.02795918],\n",
       "        [ 1.27323018,  0.25729472,  1.17426959, ..., -0.57735952,\n",
       "          0.89564726, -1.02518372],\n",
       "        ...,\n",
       "        [ 0.        ,  0.        ,  0.        , ...,  0.        ,\n",
       "          0.        ,  0.        ],\n",
       "        [ 0.        ,  0.        ,  0.        , ...,  0.        ,\n",
       "          0.        ,  0.        ],\n",
       "        [ 0.        ,  0.        ,  0.        , ...,  0.        ,\n",
       "          0.        ,  0.        ]])"
      ]
     },
     "execution_count": 106,
     "metadata": {},
     "output_type": "execute_result"
    }
   ],
   "source": [
    "mmap = np.memmap('mymmap', dtype='float64', shape=(10000, 10000))\n",
    "mmap"
   ]
  },
  {
   "cell_type": "markdown",
   "id": "00b0dc69",
   "metadata": {},
   "source": [
    "Memory maps also work with structured or nested dtypes as described in a previous\n",
    "section."
   ]
  },
  {
   "cell_type": "markdown",
   "id": "9d4a5301",
   "metadata": {},
   "source": [
    "## HDF5 and Other Array Storage Options\n"
   ]
  },
  {
   "cell_type": "markdown",
   "id": "71ad7ef7",
   "metadata": {},
   "source": [
    "PyTables and h5py are two Python projects providing NumPy-friendly interfaces for\n",
    "storing array data in the efficient and compressible HDF5 format (HDF stands for\n",
    "hierarchical data format). You can safely store hundreds of gigabytes or even terabytes\n",
    "of data in HDF5 format. To learn more about using HDF5 with Python, I recommend\n",
    "reading the pandas online documentation.\n"
   ]
  },
  {
   "cell_type": "markdown",
   "id": "0105179c",
   "metadata": {},
   "source": [
    "## A.9 Performance Tips"
   ]
  },
  {
   "cell_type": "markdown",
   "id": "8767ed0e",
   "metadata": {},
   "source": [
    "Getting good performance out of code utilizing NumPy is often straightforward, as\n",
    "array operations typically replace otherwise comparatively extremely slow pure\n",
    "Python loops. The following list briefly summarizes some things to keep in mind:\n",
    " \n",
    "    \n",
    "• Convert Python loops and conditional logic to array operations and boolean\n",
    "array operations\n",
    "  \n",
    "    \n",
    "• Use broadcasting whenever possible\n",
    "  \n",
    "   \n",
    "• Use arrays views (slicing) to avoid copying data\n",
    "   \n",
    "    \n",
    "• Utilize ufuncs and ufunc methods\n"
   ]
  },
  {
   "cell_type": "markdown",
   "id": "2a069c85",
   "metadata": {},
   "source": [
    "If you can’t get the performance you require after exhausting the capabilities provided\n",
    "by NumPy alone, consider writing code in C, Fortran, or Cython. I use Cython fre‐\n",
    "quently in my own work as an easy way to get C-like performance with minimal\n",
    "development.\n"
   ]
  },
  {
   "cell_type": "markdown",
   "id": "a3db53b3",
   "metadata": {},
   "source": [
    "## The Importance of Contiguous Memory"
   ]
  },
  {
   "cell_type": "markdown",
   "id": "ba0c0410",
   "metadata": {},
   "source": [
    "While the full extent of this topic is a bit outside the scope of this book, in some\n",
    "applications the memory layout of an array can significantly affect the speed of com‐\n",
    "putations. This is based partly on performance differences having to do with the\n",
    "cache hierarchy of the CPU; operations accessing contiguous blocks of memory (e.g.,\n",
    "summing the rows of a C order array) will generally be the fastest because the mem‐\n",
    "ory subsystem will buffer the appropriate blocks of memory into the ultrafast L1 or\n",
    "L2 CPU cache. Also, certain code paths inside NumPy’s C codebase have been opti‐\n",
    "mized for the contiguous case in which generic strided memory access can be\n",
    "avoided.\n"
   ]
  },
  {
   "cell_type": "markdown",
   "id": "ec639ea0",
   "metadata": {},
   "source": [
    "To say that an array’s memory layout is contiguous means that the elements are stored\n",
    "in memory in the order that they appear in the array with respect to Fortran (column\n",
    "major) or C (row major) ordering. By default, NumPy arrays are created as Ccontiguous or just simply contiguous. A column major array, such as the transpose of\n",
    "a C-contiguous array, is thus said to be Fortran-contiguous. These properties can be\n",
    "explicitly checked via the flags attribute on the ndarray:\n"
   ]
  },
  {
   "cell_type": "code",
   "execution_count": 107,
   "id": "fc995898",
   "metadata": {},
   "outputs": [
    {
     "data": {
      "text/plain": [
       "  C_CONTIGUOUS : True\n",
       "  F_CONTIGUOUS : False\n",
       "  OWNDATA : True\n",
       "  WRITEABLE : True\n",
       "  ALIGNED : True\n",
       "  WRITEBACKIFCOPY : False\n",
       "  UPDATEIFCOPY : False"
      ]
     },
     "execution_count": 107,
     "metadata": {},
     "output_type": "execute_result"
    }
   ],
   "source": [
    "arr_c = np.ones((1000, 1000), order='C')\n",
    "arr_f = np.ones((1000, 1000), order='F')\n",
    "arr_c.flags"
   ]
  },
  {
   "cell_type": "code",
   "execution_count": 108,
   "id": "e0b43eab",
   "metadata": {},
   "outputs": [
    {
     "data": {
      "text/plain": [
       "  C_CONTIGUOUS : False\n",
       "  F_CONTIGUOUS : True\n",
       "  OWNDATA : True\n",
       "  WRITEABLE : True\n",
       "  ALIGNED : True\n",
       "  WRITEBACKIFCOPY : False\n",
       "  UPDATEIFCOPY : False"
      ]
     },
     "execution_count": 108,
     "metadata": {},
     "output_type": "execute_result"
    }
   ],
   "source": [
    "arr_f.flags"
   ]
  },
  {
   "cell_type": "code",
   "execution_count": 109,
   "id": "47c27a1c",
   "metadata": {},
   "outputs": [
    {
     "data": {
      "text/plain": [
       "True"
      ]
     },
     "execution_count": 109,
     "metadata": {},
     "output_type": "execute_result"
    }
   ],
   "source": [
    "arr_f.flags.f_contiguous"
   ]
  },
  {
   "cell_type": "markdown",
   "id": "7d3ead23",
   "metadata": {},
   "source": [
    "In this example, summing the rows of these arrays should, in theory, be faster for\n",
    "arr_c than arr_f since the rows are contiguous in memory. Here I check for sure\n",
    "using %timeit in IPython:"
   ]
  },
  {
   "cell_type": "code",
   "execution_count": 110,
   "id": "9e4a3847",
   "metadata": {},
   "outputs": [
    {
     "name": "stdout",
     "output_type": "stream",
     "text": [
      "2.43 ms ± 126 µs per loop (mean ± std. dev. of 7 runs, 100 loops each)\n"
     ]
    }
   ],
   "source": [
    "%timeit arr_c.sum(1)"
   ]
  },
  {
   "cell_type": "code",
   "execution_count": 111,
   "id": "8136b83e",
   "metadata": {},
   "outputs": [
    {
     "name": "stdout",
     "output_type": "stream",
     "text": [
      "885 µs ± 141 µs per loop (mean ± std. dev. of 7 runs, 1000 loops each)\n"
     ]
    }
   ],
   "source": [
    "%timeit arr_f.sum(1)"
   ]
  },
  {
   "cell_type": "markdown",
   "id": "cd7c48b6",
   "metadata": {},
   "source": [
    "When you’re looking to squeeze more performance out of NumPy, this is often a\n",
    "place to invest some effort. If you have an array that does not have the desired mem‐\n",
    "ory order, you can use copy and pass either 'C' or 'F':"
   ]
  },
  {
   "cell_type": "code",
   "execution_count": 112,
   "id": "c2a8fbd0",
   "metadata": {},
   "outputs": [
    {
     "data": {
      "text/plain": [
       "  C_CONTIGUOUS : True\n",
       "  F_CONTIGUOUS : False\n",
       "  OWNDATA : True\n",
       "  WRITEABLE : True\n",
       "  ALIGNED : True\n",
       "  WRITEBACKIFCOPY : False\n",
       "  UPDATEIFCOPY : False"
      ]
     },
     "execution_count": 112,
     "metadata": {},
     "output_type": "execute_result"
    }
   ],
   "source": [
    "arr_f.copy('C').flags"
   ]
  },
  {
   "cell_type": "markdown",
   "id": "1fb15505",
   "metadata": {},
   "source": [
    "When constructing a view on an array, keep in mind that the result is not guaranteed\n",
    "to be contiguous:"
   ]
  },
  {
   "cell_type": "code",
   "execution_count": 113,
   "id": "ade00c98",
   "metadata": {},
   "outputs": [
    {
     "data": {
      "text/plain": [
       "True"
      ]
     },
     "execution_count": 113,
     "metadata": {},
     "output_type": "execute_result"
    }
   ],
   "source": [
    "arr_c[:50].flags.contiguous"
   ]
  },
  {
   "cell_type": "code",
   "execution_count": 114,
   "id": "76a78ef4",
   "metadata": {},
   "outputs": [
    {
     "data": {
      "text/plain": [
       "  C_CONTIGUOUS : False\n",
       "  F_CONTIGUOUS : False\n",
       "  OWNDATA : False\n",
       "  WRITEABLE : True\n",
       "  ALIGNED : True\n",
       "  WRITEBACKIFCOPY : False\n",
       "  UPDATEIFCOPY : False"
      ]
     },
     "execution_count": 114,
     "metadata": {},
     "output_type": "execute_result"
    }
   ],
   "source": [
    "arr_c[:, :50].flags"
   ]
  },
  {
   "cell_type": "code",
   "execution_count": null,
   "id": "db10fb5d",
   "metadata": {},
   "outputs": [],
   "source": []
  }
 ],
 "metadata": {
  "kernelspec": {
   "display_name": "Python 3 (ipykernel)",
   "language": "python",
   "name": "python3"
  },
  "language_info": {
   "codemirror_mode": {
    "name": "ipython",
    "version": 3
   },
   "file_extension": ".py",
   "mimetype": "text/x-python",
   "name": "python",
   "nbconvert_exporter": "python",
   "pygments_lexer": "ipython3",
   "version": "3.9.18"
  }
 },
 "nbformat": 4,
 "nbformat_minor": 5
}
