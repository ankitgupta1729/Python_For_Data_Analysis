{
 "cells": [
  {
   "cell_type": "code",
   "execution_count": 8,
   "metadata": {},
   "outputs": [
    {
     "ename": "SyntaxError",
     "evalue": "cannot assign to operator (<ipython-input-8-17f8ac8313c3>, line 3)",
     "output_type": "error",
     "traceback": [
      "\u001b[1;36m  File \u001b[1;32m\"<ipython-input-8-17f8ac8313c3>\"\u001b[1;36m, line \u001b[1;32m3\u001b[0m\n\u001b[1;33m    A.union(B) - A.intersection(B)={}\u001b[0m\n\u001b[1;37m    ^\u001b[0m\n\u001b[1;31mSyntaxError\u001b[0m\u001b[1;31m:\u001b[0m cannot assign to operator\n"
     ]
    }
   ],
   "source": [
    "A={1,2,3}\n",
    "B={1,2,5}\n",
    "A.union(B) - A.intersection(B)={}"
   ]
  },
  {
   "cell_type": "code",
   "execution_count": null,
   "metadata": {},
   "outputs": [],
   "source": [
    "# Python program to draw overlapped square\n",
    "# using Turtle Programming\n",
    "\n",
    "import turtle # Importing the required library\n",
    "\n",
    "turtle.shape(\"turtle\") # Initializing the shape of turtle as given in the problem\n",
    "my_turtle= turtle.Turtle() # creating the object of turtle\n",
    "\n",
    "my_turtle.backward(50) #moving turtle backward by 50 units in pixels\n",
    "my_turtle.left(90)     #rotating turtle anticlockwise by 90 degrees \n",
    "my_turtle.forward(50)  #moving turtle forward by 50 units in pixels \n",
    "my_turtle.right(90)    #rotating turtle clockwise by 90 degrees\n",
    "my_turtle.forward(100) #moving turtle forward by 100 units in pixels \n",
    "my_turtle.right(90)    #rotating turtle clockwise by 90 degrees\n",
    "my_turtle.forward(100) #moving turtle forward by 100 units in pixels\n",
    "my_turtle.right(90)    #rotating turtle clockwise by 90 degrees\n",
    "my_turtle.forward(100) #moving turtle forward by 100 units in pixels\n",
    "my_turtle.right(90)    #rotating turtle clockwise by 90 degrees\n",
    "my_turtle.forward(100) #moving turtle forward by 100 units in pixels\n",
    "my_turtle.right(90)    #rotating turtle clockwise by 90 degrees and \n",
    "                            #set it in the inititial position and iterate the\n",
    "                            #same procedure for another 3 squares   \n",
    "turtle.done() #closing the screen/drawing window \n",
    "\n",
    "#drawSquare() #calling the function \n"
   ]
  },
  {
   "cell_type": "code",
   "execution_count": 1,
   "metadata": {},
   "outputs": [],
   "source": [
    "# Your Name\n",
    "# Your Section Number\n",
    "# Date\n",
    "# Your Email Address\n",
    "# Lab Number and purpose of this lab\n",
    "\n",
    "# Python program to draw overlapped square\n",
    "# using Turtle Programming\n",
    "\n",
    "import turtle # Importing the required library\n",
    "turtle.Screen().bgcolor(\"light green\")\n",
    "turtle.shape() # Initializing the shape of turtle as given in the problem\n",
    "spiderman= turtle.Turtle() # creating the first object of turtle with the superhero name as \"spiderman\"\n",
    "superman= turtle.Turtle() # creating the second object of turtle with the superhero name as \"superman\"\n",
    "spiderman.color(\"red\") # Assigning red color to the first turtle\n",
    "superman.color(\"green\") # Assigning green color to the first turtle\n",
    "\n",
    "# Set the new position of superman in x-axis direction turtle\n",
    "# without drawing line by combining penup() and pendown() methods with setposition() method\n",
    "superman.penup()\n",
    "superman.setposition(35,0)\n",
    "superman.pendown()\n",
    "\n",
    "spiderman.forward(5)  #moving spiderman forward by 5 units in pixels \n",
    "spiderman.right(60)    #rotating superman clockwise by 60 degrees\n",
    "superman.forward(5)  #moving superman forward by 5 units in pixels \n",
    "superman.right(60)    #rotating superman clockwise by 60 degrees\n",
    "spiderman.forward(10)  #moving spiderman forward by 10 units in pixels \n",
    "spiderman.right(60)    #rotating spiderman clockwise by 60 degrees\n",
    "superman.forward(10)  #moving superman forward by 10 units in pixels \n",
    "superman.right(60)    #rotating superman clockwise by 60 degrees\n",
    "spiderman.forward(15)  #moving spiderman forward by 15 units in pixels \n",
    "spiderman.right(60)    #rotating spiderman clockwise by 60 degrees\n",
    "superman.forward(15)  #moving superman forward by 15 units in pixels \n",
    "superman.right(60)    #rotating superman clockwise by 60 degrees\n",
    "spiderman.forward(20)  #moving spiderman forward by 20 units in pixels \n",
    "spiderman.right(60)    #rotating spiderman clockwise by 60 degrees\n",
    "superman.forward(20)  #moving superman forward by 20 units in pixels \n",
    "superman.right(60)    #rotating superman clockwise by 60 degrees\n",
    "spiderman.forward(25)  #moving spiderman forward by 25 units in pixels \n",
    "spiderman.right(60)    #rotating spiderman clockwise by 60 degrees\n",
    "superman.forward(25)  #moving superman forward by 25 units in pixels \n",
    "superman.right(60)    #rotating superman clockwise by 60 degrees\n",
    "spiderman.forward(30)  #moving spiderman forward by 30 units in pixels \n",
    "spiderman.right(60)    #rotating spiderman clockwise by 60 degrees\n",
    "superman.forward(30)  #moving superman forward by 30 units in pixels \n",
    "superman.right(60)    #rotating superman clockwise by 60 degrees\n",
    "spiderman.forward(35)  #moving spiderman forward by 35 units in pixels \n",
    "spiderman.right(60)    #rotating spiderman clockwise by 60 degrees\n",
    "superman.forward(35)  #moving superman forward by 35 units in pixels \n",
    "superman.right(60)    #rotating superman clockwise by 60 degrees\n",
    "spiderman.forward(40)  #moving spiderman forward by 40 units in pixels \n",
    "spiderman.right(60)    #rotating spiderman clockwise by 60 degrees\n",
    "superman.forward(40)  #moving superman forward by 40 units in pixels \n",
    "superman.right(60)    #rotating superman clockwise by 60 degrees\n",
    "spiderman.forward(45)  #moving spiderman forward by 45 units in pixels \n",
    "spiderman.right(60)    #rotating spiderman clockwise by 60 degrees\n",
    "superman.forward(45)  #moving superman forward by 45 units in pixels \n",
    "superman.right(60)    #rotating superman clockwise by 60 degrees\n",
    "spiderman.forward(55)  #moving spiderman forward by 55 units in pixels \n",
    "spiderman.right(60)    #rotating spiderman clockwise by 60 degrees\n",
    "superman.forward(55)  #moving superman forward by 55 units in pixels \n",
    "superman.right(60)    #rotating superman clockwise by 60 degrees\n",
    "spiderman.forward(60)  #moving spiderman forward by 60 units in pixels \n",
    "spiderman.right(60)    #rotating spiderman clockwise by 60 degrees\n",
    "superman.forward(60)  #moving superman forward by 60 units in pixels \n",
    "superman.right(60)    #rotating superman clockwise by 60 degrees\n",
    "spiderman.forward(65)  #moving spiderman forward by 65 units in pixels\n",
    "spiderman.right(60)    #rotating spiderman clockwise by 60 degrees\n",
    "superman.forward(65)  #moving superman forward by 65 units in pixels\n",
    "superman.right(60)    #rotating superman clockwise by 60 degrees\n",
    "spiderman.forward(80)  #moving spiderman forward by 80 units in pixels \n",
    "superman.forward(80)  #moving superman forward by 80 units in pixels  "
   ]
  },
  {
   "cell_type": "code",
   "execution_count": null,
   "metadata": {},
   "outputs": [],
   "source": [
    "turtle.shape(\"classic\")"
   ]
  },
  {
   "cell_type": "code",
   "execution_count": null,
   "metadata": {},
   "outputs": [],
   "source": []
  },
  {
   "cell_type": "code",
   "execution_count": null,
   "metadata": {},
   "outputs": [],
   "source": []
  },
  {
   "cell_type": "code",
   "execution_count": 3,
   "metadata": {},
   "outputs": [],
   "source": [
    "\n",
    "date='2023-09-10'\n",
    "date=datetime.datetime.strptime(date, \"%Y-%m-%d\")"
   ]
  },
  {
   "cell_type": "code",
   "execution_count": 5,
   "metadata": {},
   "outputs": [
    {
     "name": "stdout",
     "output_type": "stream",
     "text": [
      "2023-09-10 00:00:00\n"
     ]
    }
   ],
   "source": [
    "print(date)"
   ]
  },
  {
   "cell_type": "code",
   "execution_count": 6,
   "metadata": {},
   "outputs": [
    {
     "name": "stdout",
     "output_type": "stream",
     "text": [
      "<class 'datetime.datetime'>\n"
     ]
    }
   ],
   "source": [
    "print(type(date))"
   ]
  },
  {
   "cell_type": "code",
   "execution_count": 7,
   "metadata": {},
   "outputs": [],
   "source": [
    "formatted_date = date.strftime(\"%B %d\")"
   ]
  },
  {
   "cell_type": "code",
   "execution_count": 8,
   "metadata": {},
   "outputs": [
    {
     "name": "stdout",
     "output_type": "stream",
     "text": [
      "September 10\n"
     ]
    }
   ],
   "source": [
    "print(formatted_date)"
   ]
  },
  {
   "cell_type": "code",
   "execution_count": 4,
   "metadata": {},
   "outputs": [
    {
     "name": "stdout",
     "output_type": "stream",
     "text": [
      "Enter any date in YYYY-mm-dd format: 2023-10-09\n"
     ]
    },
    {
     "data": {
      "text/plain": [
       "'October 09'"
      ]
     },
     "execution_count": 4,
     "metadata": {},
     "output_type": "execute_result"
    }
   ],
   "source": [
    "import datetime # importing the required datetime library\n",
    "\n",
    "def date_string(date): #defining a date_string() function which takes the date parameter in datetime type\n",
    "    return date.strftime(\"%B %d\") # converting datetime object to a string object in the format \"Full_Month_Name Day_of_the_Date\"\n",
    "\n",
    "date=input(\"Enter any date in YYYY-mm-dd format: \") # taking date as input string in YYYY-mm-dd format\n",
    "date=datetime.datetime.strptime(date, \"%Y-%m-%d\") # converting string object to a datetime object\n",
    "#print(date)\n",
    "#print(type(date))\n",
    "date_string(date) #calling the function which converted the input date of dattime object into a string object "
   ]
  },
  {
   "cell_type": "code",
   "execution_count": 3,
   "metadata": {},
   "outputs": [
    {
     "data": {
      "text/plain": [
       "datetime.datetime(2023, 10, 9, 18, 12, 34, 591781)"
      ]
     },
     "execution_count": 3,
     "metadata": {},
     "output_type": "execute_result"
    }
   ],
   "source": [
    "datetime.datetime.now()"
   ]
  },
  {
   "cell_type": "code",
   "execution_count": null,
   "metadata": {},
   "outputs": [],
   "source": []
  }
 ],
 "metadata": {
  "kernelspec": {
   "display_name": "Python 3",
   "language": "python",
   "name": "python3"
  },
  "language_info": {
   "codemirror_mode": {
    "name": "ipython",
    "version": 3
   },
   "file_extension": ".py",
   "mimetype": "text/x-python",
   "name": "python",
   "nbconvert_exporter": "python",
   "pygments_lexer": "ipython3",
   "version": "3.8.5"
  }
 },
 "nbformat": 4,
 "nbformat_minor": 4
}
