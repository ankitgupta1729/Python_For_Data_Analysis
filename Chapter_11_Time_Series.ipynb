{
 "cells": [
  {
   "cell_type": "markdown",
   "id": "1d7084d2",
   "metadata": {},
   "source": [
    "Time series data is an important form of structured data in many different fields, such\n",
    "as finance, economics, ecology, neuroscience, and physics. Anything that is observed\n",
    "or measured at many points in time forms a time series. Many time series are fixed\n",
    "frequency, which is to say that data points occur at regular intervals according to some\n",
    "rule, such as every 15 seconds, every 5 minutes, or once per month. Time series can\n",
    "also be irregular without a fixed unit of time or offset between units. How you mark\n",
    "and refer to time series data depends on the application, and you may have one of the\n",
    "following:   \n",
    "   \n",
    "   \n",
    "• Timestamps, specific instants in time\n",
    "   \n",
    "     \n",
    "     \n",
    "• Fixed periods, such as the month January 2007 or the full year 2010\n",
    "   \n",
    "     \n",
    "• Intervals of time, indicated by a start and end timestamp. Periods can be thought\n",
    "of as special cases of intervals\n",
    "   \n",
    "     \n",
    "• Experiment or elapsed time; each timestamp is a measure of time relative to a\n",
    "particular start time (e.g., the diameter of a cookie baking each second since\n",
    "being placed in the oven)"
   ]
  },
  {
   "cell_type": "markdown",
   "id": "e5b954b4",
   "metadata": {},
   "source": [
    "In this chapter, I am mainly concerned with time series in the first three categories,\n",
    "though many of the techniques can be applied to experimental time series where the\n",
    "index may be an integer or floating-point number indicating elapsed time from the\n",
    "start of the experiment. The simplest and most widely used kind of time series are\n",
    "those indexed by timestamp."
   ]
  },
  {
   "cell_type": "markdown",
   "id": "0e78a015",
   "metadata": {},
   "source": [
    "pandas also supports indexes based on timedeltas, which can be a\n",
    "useful way of representing experiment or elapsed time. We do not\n",
    "explore timedelta indexes in this book, but you can learn more in\n",
    "the pandas documentation."
   ]
  },
  {
   "cell_type": "markdown",
   "id": "f10a888d",
   "metadata": {},
   "source": [
    "pandas provides many built-in time series tools and data algorithms. You can effi‐\n",
    "ciently work with very large time series and easily slice and dice, aggregate, and\n",
    "resample irregular- and fixed-frequency time series. Some of these tools are especially\n",
    "useful for financial and economics applications, but you could certainly use them to\n",
    "analyze server log data, too.\n"
   ]
  },
  {
   "cell_type": "markdown",
   "id": "f60ab7bf",
   "metadata": {},
   "source": [
    "## 11.1 Date and Time Data Types and Tools"
   ]
  },
  {
   "cell_type": "markdown",
   "id": "f3063f6f",
   "metadata": {},
   "source": [
    "The Python standard library includes data types for date and time data, as well as\n",
    "calendar-related functionality. The datetime, time, and calendar modules are the\n",
    "main places to start. The datetime.datetime type, or simply datetime, is widely\n",
    "used:\n"
   ]
  },
  {
   "cell_type": "code",
   "execution_count": 1,
   "id": "4e63b5c6",
   "metadata": {},
   "outputs": [
    {
     "data": {
      "text/plain": [
       "datetime.datetime(2024, 2, 1, 18, 49, 34, 161041)"
      ]
     },
     "execution_count": 1,
     "metadata": {},
     "output_type": "execute_result"
    }
   ],
   "source": [
    "from datetime import datetime\n",
    "now = datetime.now()\n",
    "now"
   ]
  },
  {
   "cell_type": "code",
   "execution_count": 2,
   "id": "7108799d",
   "metadata": {},
   "outputs": [
    {
     "data": {
      "text/plain": [
       "(2024, 2, 1)"
      ]
     },
     "execution_count": 2,
     "metadata": {},
     "output_type": "execute_result"
    }
   ],
   "source": [
    "now.year, now.month, now.day"
   ]
  },
  {
   "cell_type": "markdown",
   "id": "bbcdfca6",
   "metadata": {},
   "source": [
    "datetime stores both the date and time down to the microsecond. timedelta repre‐\n",
    "sents the temporal difference between two datetime objects:"
   ]
  },
  {
   "cell_type": "code",
   "execution_count": 3,
   "id": "6a0c80a5",
   "metadata": {},
   "outputs": [
    {
     "data": {
      "text/plain": [
       "datetime.timedelta(926, 56700)"
      ]
     },
     "execution_count": 3,
     "metadata": {},
     "output_type": "execute_result"
    }
   ],
   "source": [
    "delta = datetime(2011, 1, 7) - datetime(2008, 6, 24, 8, 15)\n",
    "delta"
   ]
  },
  {
   "cell_type": "code",
   "execution_count": 4,
   "id": "432b8ad9",
   "metadata": {},
   "outputs": [
    {
     "data": {
      "text/plain": [
       "926"
      ]
     },
     "execution_count": 4,
     "metadata": {},
     "output_type": "execute_result"
    }
   ],
   "source": [
    "delta.days"
   ]
  },
  {
   "cell_type": "code",
   "execution_count": 5,
   "id": "99f7213a",
   "metadata": {},
   "outputs": [
    {
     "data": {
      "text/plain": [
       "56700"
      ]
     },
     "execution_count": 5,
     "metadata": {},
     "output_type": "execute_result"
    }
   ],
   "source": [
    "delta.seconds"
   ]
  },
  {
   "cell_type": "markdown",
   "id": "0004f38d",
   "metadata": {},
   "source": [
    "You can add (or subtract) a timedelta or multiple thereof to a datetime object to\n",
    "yield a new shifted object:"
   ]
  },
  {
   "cell_type": "code",
   "execution_count": 6,
   "id": "dee5582d",
   "metadata": {},
   "outputs": [
    {
     "data": {
      "text/plain": [
       "datetime.datetime(2011, 1, 19, 0, 0)"
      ]
     },
     "execution_count": 6,
     "metadata": {},
     "output_type": "execute_result"
    }
   ],
   "source": [
    "from datetime import timedelta\n",
    "start = datetime(2011, 1, 7)\n",
    "start + timedelta(12)"
   ]
  },
  {
   "cell_type": "code",
   "execution_count": 7,
   "id": "39202cf6",
   "metadata": {},
   "outputs": [
    {
     "data": {
      "text/plain": [
       "datetime.datetime(2010, 12, 14, 0, 0)"
      ]
     },
     "execution_count": 7,
     "metadata": {},
     "output_type": "execute_result"
    }
   ],
   "source": [
    "start - 2 * timedelta(12)"
   ]
  },
  {
   "cell_type": "markdown",
   "id": "5bbceab1",
   "metadata": {},
   "source": [
    "Table 11-1. Types in datetime module\n",
    "------------------------------------------------------\n",
    "Type --> Description\n",
    "  \n",
    "    \n",
    "date --> Store calendar date (year, month, day) using the Gregorian calendar\n",
    "\n",
    "    \n",
    "    \n",
    "time -->  Store time of day as hours, minutes, seconds, and microseconds\n",
    "  \n",
    "    \n",
    "datetime --> Stores both date and time\n",
    "  \n",
    "     \n",
    "timedelta --> Represents the difference between two datetime values (as days, seconds, and microseconds)\n",
    "  \n",
    "     \n",
    "tzinfo --> Base type for storing time zone information"
   ]
  },
  {
   "cell_type": "markdown",
   "id": "13d5c774",
   "metadata": {},
   "source": [
    "## Converting Between String and Datetime\n"
   ]
  },
  {
   "cell_type": "markdown",
   "id": "436537d3",
   "metadata": {},
   "source": [
    "You can format datetime objects and pandas Timestamp objects, which I’ll introduce\n",
    "later, as strings using str or the strftime method, passing a format specification:"
   ]
  },
  {
   "cell_type": "code",
   "execution_count": 8,
   "id": "f01d5891",
   "metadata": {},
   "outputs": [],
   "source": [
    "stamp = datetime(2011, 1, 3)"
   ]
  },
  {
   "cell_type": "code",
   "execution_count": 9,
   "id": "f37f7c77",
   "metadata": {},
   "outputs": [
    {
     "data": {
      "text/plain": [
       "'2011-01-03 00:00:00'"
      ]
     },
     "execution_count": 9,
     "metadata": {},
     "output_type": "execute_result"
    }
   ],
   "source": [
    "str(stamp)"
   ]
  },
  {
   "cell_type": "code",
   "execution_count": 10,
   "id": "e8dbd203",
   "metadata": {},
   "outputs": [
    {
     "data": {
      "text/plain": [
       "'2011-01-03'"
      ]
     },
     "execution_count": 10,
     "metadata": {},
     "output_type": "execute_result"
    }
   ],
   "source": [
    "stamp.strftime('%Y-%m-%d')"
   ]
  },
  {
   "cell_type": "markdown",
   "id": "0900269c",
   "metadata": {},
   "source": [
    "Table 11-2. Datetime format specification (ISO C89 compatible)\n",
    "-----------------------------------------------------------------------------------------\n",
    "   \n",
    "   \n",
    "Type --> Description\n",
    "   \n",
    "   \n",
    "%Y --> Four-digit year\n",
    "  \n",
    "   \n",
    "%y --> Two-digit year\n",
    "  \n",
    "   \n",
    "%m --> Two-digit month [01, 12]\n",
    "  \n",
    "   \n",
    "%d--> Two-digit day [01, 31]\n",
    "   \n",
    "   \n",
    "%H --> Hour (24-hour clock) [00, 23]\n",
    "  \n",
    "   \n",
    "%I --> Hour (12-hour clock) [01, 12]\n",
    "  \n",
    "   \n",
    "%M --> Two-digit minute [00, 59]\n",
    "   \n",
    "    \n",
    "%S --> Second [00, 61] (seconds 60, 61 account for leap seconds)\n",
    "  \n",
    "   \n",
    "%w --> Weekday as integer [0 (Sunday), 6]\n",
    "  \n",
    "   \n",
    "%U --> Week number of the year [00, 53]; Sunday is considered the first day of the week, and days before the first Sunday of the year are “week 0”\n",
    "  \n",
    "   \n",
    "%W --> Week number of the year [00, 53]; Monday is considered the first day of the week, and days before the first Monday of the year are “week 0”  \n",
    "  \n",
    "%z --> UTC time zone offset as +HHMM or -HHMM; empty if time zone naive\n",
    "  \n",
    "    \n",
    "%F --> Shortcut for %Y-%m-%d (e.g., 2012-4-18)\n",
    "  \n",
    "    \n",
    "%D--> Shortcut for %m/%d/%y (e.g., 04/18/12)"
   ]
  },
  {
   "cell_type": "markdown",
   "id": "b7d1db1e",
   "metadata": {},
   "source": [
    "You can use these same format codes to convert strings to dates using date\n",
    "time.strptime:\n"
   ]
  },
  {
   "cell_type": "code",
   "execution_count": 11,
   "id": "0bd1506a",
   "metadata": {},
   "outputs": [
    {
     "data": {
      "text/plain": [
       "datetime.datetime(2011, 1, 3, 0, 0)"
      ]
     },
     "execution_count": 11,
     "metadata": {},
     "output_type": "execute_result"
    }
   ],
   "source": [
    "value = '2011-01-03'\n",
    "datetime.strptime(value, '%Y-%m-%d')"
   ]
  },
  {
   "cell_type": "code",
   "execution_count": 12,
   "id": "8f1882ef",
   "metadata": {},
   "outputs": [
    {
     "data": {
      "text/plain": [
       "[datetime.datetime(2011, 7, 6, 0, 0), datetime.datetime(2011, 8, 6, 0, 0)]"
      ]
     },
     "execution_count": 12,
     "metadata": {},
     "output_type": "execute_result"
    }
   ],
   "source": [
    "datestrs = ['7/6/2011', '8/6/2011']\n",
    "[datetime.strptime(x, '%m/%d/%Y') for x in datestrs]"
   ]
  },
  {
   "cell_type": "markdown",
   "id": "1082c63b",
   "metadata": {},
   "source": [
    "datetime.strptime is a good way to parse a date with a known format. However, it\n",
    "can be a bit annoying to have to write a format spec each time, especially for common\n",
    "date formats. In this case, you can use the parser.parse method in the third-party\n",
    "dateutil package (this is installed automatically when you install pandas):"
   ]
  },
  {
   "cell_type": "code",
   "execution_count": 13,
   "id": "fadb0ff1",
   "metadata": {},
   "outputs": [
    {
     "data": {
      "text/plain": [
       "datetime.datetime(2011, 1, 3, 0, 0)"
      ]
     },
     "execution_count": 13,
     "metadata": {},
     "output_type": "execute_result"
    }
   ],
   "source": [
    "from dateutil.parser import parse\n",
    "parse('2011-01-03')"
   ]
  },
  {
   "cell_type": "markdown",
   "id": "e0ba768c",
   "metadata": {},
   "source": [
    "dateutil is capable of parsing most human-intelligible date representations:"
   ]
  },
  {
   "cell_type": "code",
   "execution_count": 14,
   "id": "57ec3472",
   "metadata": {},
   "outputs": [
    {
     "data": {
      "text/plain": [
       "datetime.datetime(1997, 1, 31, 22, 45)"
      ]
     },
     "execution_count": 14,
     "metadata": {},
     "output_type": "execute_result"
    }
   ],
   "source": [
    "parse('Jan 31, 1997 10:45 PM')"
   ]
  },
  {
   "cell_type": "markdown",
   "id": "639b77e7",
   "metadata": {},
   "source": [
    "In international locales, day appearing before month is very common, so you can pass\n",
    "dayfirst=True to indicate this:\n"
   ]
  },
  {
   "cell_type": "code",
   "execution_count": 15,
   "id": "41c8ecad",
   "metadata": {},
   "outputs": [
    {
     "data": {
      "text/plain": [
       "datetime.datetime(2011, 12, 6, 0, 0)"
      ]
     },
     "execution_count": 15,
     "metadata": {},
     "output_type": "execute_result"
    }
   ],
   "source": [
    "parse('6/12/2011', dayfirst=True)"
   ]
  },
  {
   "cell_type": "markdown",
   "id": "8158e9e0",
   "metadata": {},
   "source": [
    "pandas is generally oriented toward working with arrays of dates, whether used as an\n",
    "axis index or a column in a DataFrame. The to_datetime method parses many dif‐\n",
    "ferent kinds of date representations. Standard date formats like ISO 8601 can be\n",
    "parsed very quickly:"
   ]
  },
  {
   "cell_type": "code",
   "execution_count": 16,
   "id": "1ad69099",
   "metadata": {},
   "outputs": [
    {
     "data": {
      "text/plain": [
       "DatetimeIndex(['2011-07-06 12:00:00', '2011-08-06 00:00:00'], dtype='datetime64[ns]', freq=None)"
      ]
     },
     "execution_count": 16,
     "metadata": {},
     "output_type": "execute_result"
    }
   ],
   "source": [
    "import pandas as pd\n",
    "datestrs = ['2011-07-06 12:00:00', '2011-08-06 00:00:00']\n",
    "pd.to_datetime(datestrs)"
   ]
  },
  {
   "cell_type": "markdown",
   "id": "a89fe077",
   "metadata": {},
   "source": [
    "It also handles values that should be considered missing (None, empty string, etc.):"
   ]
  },
  {
   "cell_type": "code",
   "execution_count": 17,
   "id": "4258c109",
   "metadata": {},
   "outputs": [
    {
     "data": {
      "text/plain": [
       "DatetimeIndex(['2011-07-06 12:00:00', '2011-08-06 00:00:00', 'NaT'], dtype='datetime64[ns]', freq=None)"
      ]
     },
     "execution_count": 17,
     "metadata": {},
     "output_type": "execute_result"
    }
   ],
   "source": [
    "idx = pd.to_datetime(datestrs + [None])\n",
    "idx"
   ]
  },
  {
   "cell_type": "code",
   "execution_count": 18,
   "id": "d98e7e77",
   "metadata": {},
   "outputs": [
    {
     "data": {
      "text/plain": [
       "array([False, False,  True])"
      ]
     },
     "execution_count": 18,
     "metadata": {},
     "output_type": "execute_result"
    }
   ],
   "source": [
    "pd.isnull(idx)"
   ]
  },
  {
   "cell_type": "markdown",
   "id": "073f9d7e",
   "metadata": {},
   "source": [
    "NaT (Not a Time) is pandas’s null value for timestamp data."
   ]
  },
  {
   "cell_type": "markdown",
   "id": "cdd34284",
   "metadata": {},
   "source": [
    "dateutil.parser is a useful but imperfect tool. Notably, it will rec‐\n",
    "ognize some strings as dates that you might prefer that it didn’t—\n",
    "for example, '42' will be parsed as the year 2042 with today’s cal‐\n",
    "endar date."
   ]
  },
  {
   "cell_type": "markdown",
   "id": "2881b97d",
   "metadata": {},
   "source": [
    "datetime objects also have a number of locale-specific formatting options for systems\n",
    "in other countries or languages. For example, the abbreviated month names will be\n",
    "different on German or French systems compared with English systems. See\n",
    "Table 11-3 for a listing."
   ]
  },
  {
   "cell_type": "markdown",
   "id": "89e7358f",
   "metadata": {},
   "source": [
    "Table 11-3. Locale-specific date formatting\n",
    "--------------------------------------------------------------\n",
    " \n",
    "  \n",
    "Type --> Description\n",
    "  \n",
    "    \n",
    "%a --> Abbreviated weekday name\n",
    "   \n",
    "    \n",
    "%A --> Full weekday name\n",
    "   \n",
    "    \n",
    "%b --> Abbreviated month name\n",
    "  \n",
    "    \n",
    "%B --> Full month name\n",
    "  \n",
    "    \n",
    "%c --> Full date and time (e.g., ‘Tue 01 May 2012 04:20:57 PM’)\n",
    "   \n",
    "    \n",
    "%p --> Locale equivalent of AM or PM\n",
    "   \n",
    "    \n",
    "%x --> Locale-appropriate formatted date (e.g., in the United States, May 1, 2012 yields ’05/01/2012’)\n",
    "  \n",
    "    \n",
    "%X --> Locale-appropriate time (e.g., ’04:24:12 PM’)"
   ]
  },
  {
   "cell_type": "markdown",
   "id": "4c41110d",
   "metadata": {},
   "source": [
    "## 11.2 Time Series Basics"
   ]
  },
  {
   "cell_type": "markdown",
   "id": "9aafdeb7",
   "metadata": {},
   "source": [
    "A basic kind of time series object in pandas is a Series indexed by timestamps, which\n",
    "is often represented external to pandas as Python strings or datetime objects:\n"
   ]
  },
  {
   "cell_type": "code",
   "execution_count": 19,
   "id": "5afc82f4",
   "metadata": {},
   "outputs": [
    {
     "data": {
      "text/plain": [
       "2011-01-02    1.360881\n",
       "2011-01-05    1.588839\n",
       "2011-01-07    1.263487\n",
       "2011-01-08    0.380473\n",
       "2011-01-10   -0.398274\n",
       "2011-01-12   -0.001841\n",
       "dtype: float64"
      ]
     },
     "execution_count": 19,
     "metadata": {},
     "output_type": "execute_result"
    }
   ],
   "source": [
    "from datetime import datetime\n",
    "import numpy as np\n",
    "dates = [datetime(2011, 1, 2), datetime(2011, 1, 5),datetime(2011, 1, 7), datetime(2011, 1, 8),datetime(2011, 1, 10), datetime(2011, 1, 12)]\n",
    "ts = pd.Series(np.random.randn(6), index=dates)\n",
    "ts"
   ]
  },
  {
   "cell_type": "markdown",
   "id": "5714c342",
   "metadata": {},
   "source": [
    "Under the hood, these datetime objects have been put in a DatetimeIndex:\n"
   ]
  },
  {
   "cell_type": "code",
   "execution_count": 20,
   "id": "4228624c",
   "metadata": {},
   "outputs": [
    {
     "data": {
      "text/plain": [
       "DatetimeIndex(['2011-01-02', '2011-01-05', '2011-01-07', '2011-01-08',\n",
       "               '2011-01-10', '2011-01-12'],\n",
       "              dtype='datetime64[ns]', freq=None)"
      ]
     },
     "execution_count": 20,
     "metadata": {},
     "output_type": "execute_result"
    }
   ],
   "source": [
    "ts.index"
   ]
  },
  {
   "cell_type": "markdown",
   "id": "c259e2a4",
   "metadata": {},
   "source": [
    "Like other Series, arithmetic operations between differently indexed time series auto‐\n",
    "matically align on the dates:"
   ]
  },
  {
   "cell_type": "code",
   "execution_count": 21,
   "id": "401a66c6",
   "metadata": {},
   "outputs": [
    {
     "data": {
      "text/plain": [
       "2011-01-02    2.721761\n",
       "2011-01-05         NaN\n",
       "2011-01-07    2.526974\n",
       "2011-01-08         NaN\n",
       "2011-01-10   -0.796548\n",
       "2011-01-12         NaN\n",
       "dtype: float64"
      ]
     },
     "execution_count": 21,
     "metadata": {},
     "output_type": "execute_result"
    }
   ],
   "source": [
    "ts + ts[::2]\n"
   ]
  },
  {
   "cell_type": "markdown",
   "id": "e986a68c",
   "metadata": {},
   "source": [
    "Recall that ts[::2] selects every second element in ts"
   ]
  },
  {
   "cell_type": "markdown",
   "id": "14aaa9e9",
   "metadata": {},
   "source": [
    "pandas stores timestamps using NumPy’s datetime64 data type at the nanosecond\n",
    "resolution:"
   ]
  },
  {
   "cell_type": "code",
   "execution_count": 22,
   "id": "95ddc947",
   "metadata": {},
   "outputs": [
    {
     "data": {
      "text/plain": [
       "dtype('<M8[ns]')"
      ]
     },
     "execution_count": 22,
     "metadata": {},
     "output_type": "execute_result"
    }
   ],
   "source": [
    "ts.index.dtype"
   ]
  },
  {
   "cell_type": "markdown",
   "id": "6657ea72",
   "metadata": {},
   "source": [
    "Scalar values from a DatetimeIndex are pandas Timestamp objects:"
   ]
  },
  {
   "cell_type": "code",
   "execution_count": 23,
   "id": "84443e42",
   "metadata": {},
   "outputs": [
    {
     "data": {
      "text/plain": [
       "Timestamp('2011-01-02 00:00:00')"
      ]
     },
     "execution_count": 23,
     "metadata": {},
     "output_type": "execute_result"
    }
   ],
   "source": [
    "stamp = ts.index[0]\n",
    "stamp"
   ]
  },
  {
   "cell_type": "markdown",
   "id": "5fc1aba9",
   "metadata": {},
   "source": [
    "A Timestamp can be substituted anywhere you would use a datetime object. Addi‐\n",
    "tionally, it can store frequency information (if any) and understands how to do time\n",
    "zone conversions and other kinds of manipulations. More on both of these things\n",
    "later."
   ]
  },
  {
   "cell_type": "markdown",
   "id": "ebd4010a",
   "metadata": {},
   "source": [
    "### Indexing, Selection, Subsetting"
   ]
  },
  {
   "cell_type": "markdown",
   "id": "9e3fd597",
   "metadata": {},
   "source": [
    "Time series behaves like any other pandas.Series when you are indexing and select‐\n",
    "ing data based on label:"
   ]
  },
  {
   "cell_type": "code",
   "execution_count": 24,
   "id": "19c8a809",
   "metadata": {},
   "outputs": [
    {
     "data": {
      "text/plain": [
       "1.2634867684171263"
      ]
     },
     "execution_count": 24,
     "metadata": {},
     "output_type": "execute_result"
    }
   ],
   "source": [
    "stamp = ts.index[2]\n",
    "ts[stamp]"
   ]
  },
  {
   "cell_type": "markdown",
   "id": "76fb2e33",
   "metadata": {},
   "source": [
    "As a convenience, you can also pass a string that is interpretable as a date:"
   ]
  },
  {
   "cell_type": "code",
   "execution_count": 25,
   "id": "b2986e5f",
   "metadata": {},
   "outputs": [
    {
     "data": {
      "text/plain": [
       "-0.3982740492989236"
      ]
     },
     "execution_count": 25,
     "metadata": {},
     "output_type": "execute_result"
    }
   ],
   "source": [
    "ts['1/10/2011']"
   ]
  },
  {
   "cell_type": "code",
   "execution_count": 26,
   "id": "82f2da3f",
   "metadata": {},
   "outputs": [
    {
     "data": {
      "text/plain": [
       "-0.3982740492989236"
      ]
     },
     "execution_count": 26,
     "metadata": {},
     "output_type": "execute_result"
    }
   ],
   "source": [
    "ts['20110110']"
   ]
  },
  {
   "cell_type": "markdown",
   "id": "547b3c0a",
   "metadata": {},
   "source": [
    "For longer time series, a year or only a year and month can be passed to easily select\n",
    "slices of data:\n"
   ]
  },
  {
   "cell_type": "code",
   "execution_count": 27,
   "id": "16ece4e2",
   "metadata": {},
   "outputs": [
    {
     "data": {
      "text/plain": [
       "2000-01-01   -1.491293\n",
       "2000-01-02   -0.715757\n",
       "2000-01-03    0.720026\n",
       "2000-01-04    0.180061\n",
       "2000-01-05   -0.847882\n",
       "                ...   \n",
       "2002-09-22   -0.904333\n",
       "2002-09-23   -0.085103\n",
       "2002-09-24    1.666455\n",
       "2002-09-25    1.434788\n",
       "2002-09-26   -0.814945\n",
       "Freq: D, Length: 1000, dtype: float64"
      ]
     },
     "execution_count": 27,
     "metadata": {},
     "output_type": "execute_result"
    }
   ],
   "source": [
    "longer_ts = pd.Series(np.random.randn(1000),index=pd.date_range('1/1/2000', periods=1000))\n",
    "longer_ts"
   ]
  },
  {
   "cell_type": "code",
   "execution_count": 28,
   "id": "4c00da53",
   "metadata": {},
   "outputs": [
    {
     "data": {
      "text/plain": [
       "2001-01-01    2.871712\n",
       "2001-01-02   -0.285574\n",
       "2001-01-03   -0.439809\n",
       "2001-01-04    0.276261\n",
       "2001-01-05   -0.111729\n",
       "                ...   \n",
       "2001-12-27    0.384475\n",
       "2001-12-28    1.054383\n",
       "2001-12-29    0.035259\n",
       "2001-12-30    0.023945\n",
       "2001-12-31   -1.593310\n",
       "Freq: D, Length: 365, dtype: float64"
      ]
     },
     "execution_count": 28,
     "metadata": {},
     "output_type": "execute_result"
    }
   ],
   "source": [
    "longer_ts['2001']"
   ]
  },
  {
   "cell_type": "markdown",
   "id": "7f828625",
   "metadata": {},
   "source": [
    "Here, the string '2001' is interpreted as a year and selects that time period. This also\n",
    "works if you specify the month:\n"
   ]
  },
  {
   "cell_type": "code",
   "execution_count": 29,
   "id": "edfb688b",
   "metadata": {},
   "outputs": [
    {
     "data": {
      "text/plain": [
       "2001-05-01    0.060366\n",
       "2001-05-02   -0.277113\n",
       "2001-05-03    0.941605\n",
       "2001-05-04   -1.014376\n",
       "2001-05-05    0.704992\n",
       "2001-05-06    0.330377\n",
       "2001-05-07   -0.045300\n",
       "2001-05-08    0.743415\n",
       "2001-05-09   -0.641960\n",
       "2001-05-10   -0.595122\n",
       "2001-05-11    0.614129\n",
       "2001-05-12    0.870157\n",
       "2001-05-13   -0.072094\n",
       "2001-05-14   -0.182173\n",
       "2001-05-15   -0.868522\n",
       "2001-05-16   -0.209398\n",
       "2001-05-17   -1.784163\n",
       "2001-05-18    0.034902\n",
       "2001-05-19    0.017078\n",
       "2001-05-20    0.282310\n",
       "2001-05-21    0.858742\n",
       "2001-05-22   -1.252718\n",
       "2001-05-23   -1.180368\n",
       "2001-05-24   -0.561969\n",
       "2001-05-25    0.311400\n",
       "2001-05-26    0.459353\n",
       "2001-05-27    0.229915\n",
       "2001-05-28   -1.678542\n",
       "2001-05-29    0.081242\n",
       "2001-05-30   -0.787674\n",
       "2001-05-31   -1.948675\n",
       "Freq: D, dtype: float64"
      ]
     },
     "execution_count": 29,
     "metadata": {},
     "output_type": "execute_result"
    }
   ],
   "source": [
    "longer_ts['2001-05']\n"
   ]
  },
  {
   "cell_type": "markdown",
   "id": "2bda9bca",
   "metadata": {},
   "source": [
    "Slicing with datetime objects works as well:"
   ]
  },
  {
   "cell_type": "code",
   "execution_count": 30,
   "id": "1463464b",
   "metadata": {},
   "outputs": [
    {
     "data": {
      "text/plain": [
       "2011-01-07    1.263487\n",
       "2011-01-08    0.380473\n",
       "2011-01-10   -0.398274\n",
       "2011-01-12   -0.001841\n",
       "dtype: float64"
      ]
     },
     "execution_count": 30,
     "metadata": {},
     "output_type": "execute_result"
    }
   ],
   "source": [
    "ts[datetime(2011, 1, 7):]"
   ]
  },
  {
   "cell_type": "markdown",
   "id": "d5511783",
   "metadata": {},
   "source": [
    "Because most time series data is ordered chronologically, you can slice with time‐\n",
    "stamps not contained in a time series to perform a range query:"
   ]
  },
  {
   "cell_type": "code",
   "execution_count": 31,
   "id": "2b24ed99",
   "metadata": {},
   "outputs": [
    {
     "data": {
      "text/plain": [
       "2011-01-02    1.360881\n",
       "2011-01-05    1.588839\n",
       "2011-01-07    1.263487\n",
       "2011-01-08    0.380473\n",
       "2011-01-10   -0.398274\n",
       "2011-01-12   -0.001841\n",
       "dtype: float64"
      ]
     },
     "execution_count": 31,
     "metadata": {},
     "output_type": "execute_result"
    }
   ],
   "source": [
    "ts"
   ]
  },
  {
   "cell_type": "code",
   "execution_count": 32,
   "id": "d0f460bc",
   "metadata": {},
   "outputs": [
    {
     "data": {
      "text/plain": [
       "2011-01-07    1.263487\n",
       "2011-01-08    0.380473\n",
       "2011-01-10   -0.398274\n",
       "dtype: float64"
      ]
     },
     "execution_count": 32,
     "metadata": {},
     "output_type": "execute_result"
    }
   ],
   "source": [
    "ts['1/6/2011':'1/11/2011']"
   ]
  },
  {
   "cell_type": "markdown",
   "id": "0db73cba",
   "metadata": {},
   "source": [
    "As before, you can pass either a string date, datetime, or timestamp. Remember that\n",
    "slicing in this manner produces views on the source time series like slicing NumPy\n",
    "arrays. This means that no data is copied and modifications on the slice will be reflec‐\n",
    "ted in the original data.\n",
    "  \n",
    "      \n",
    "There is an equivalent instance method, truncate, that slices a Series between two\n",
    "dates:"
   ]
  },
  {
   "cell_type": "code",
   "execution_count": 33,
   "id": "84ee5a42",
   "metadata": {},
   "outputs": [
    {
     "data": {
      "text/plain": [
       "2011-01-02    1.360881\n",
       "2011-01-05    1.588839\n",
       "2011-01-07    1.263487\n",
       "2011-01-08    0.380473\n",
       "dtype: float64"
      ]
     },
     "execution_count": 33,
     "metadata": {},
     "output_type": "execute_result"
    }
   ],
   "source": [
    "ts.truncate(after='1/9/2011')"
   ]
  },
  {
   "cell_type": "markdown",
   "id": "ea5b6776",
   "metadata": {},
   "source": [
    "All of this holds true for DataFrame as well, indexing on its rows:"
   ]
  },
  {
   "cell_type": "code",
   "execution_count": 34,
   "id": "8fc84478",
   "metadata": {},
   "outputs": [
    {
     "data": {
      "text/html": [
       "<div>\n",
       "<style scoped>\n",
       "    .dataframe tbody tr th:only-of-type {\n",
       "        vertical-align: middle;\n",
       "    }\n",
       "\n",
       "    .dataframe tbody tr th {\n",
       "        vertical-align: top;\n",
       "    }\n",
       "\n",
       "    .dataframe thead th {\n",
       "        text-align: right;\n",
       "    }\n",
       "</style>\n",
       "<table border=\"1\" class=\"dataframe\">\n",
       "  <thead>\n",
       "    <tr style=\"text-align: right;\">\n",
       "      <th></th>\n",
       "      <th>Colorado</th>\n",
       "      <th>Texas</th>\n",
       "      <th>New York</th>\n",
       "      <th>Ohio</th>\n",
       "    </tr>\n",
       "  </thead>\n",
       "  <tbody>\n",
       "    <tr>\n",
       "      <th>2001-05-02</th>\n",
       "      <td>1.188966</td>\n",
       "      <td>0.897446</td>\n",
       "      <td>2.342062</td>\n",
       "      <td>0.683220</td>\n",
       "    </tr>\n",
       "    <tr>\n",
       "      <th>2001-05-09</th>\n",
       "      <td>-0.802226</td>\n",
       "      <td>0.098641</td>\n",
       "      <td>-0.267358</td>\n",
       "      <td>-0.996585</td>\n",
       "    </tr>\n",
       "    <tr>\n",
       "      <th>2001-05-16</th>\n",
       "      <td>0.839240</td>\n",
       "      <td>0.453279</td>\n",
       "      <td>-0.031407</td>\n",
       "      <td>0.919401</td>\n",
       "    </tr>\n",
       "    <tr>\n",
       "      <th>2001-05-23</th>\n",
       "      <td>0.814848</td>\n",
       "      <td>-0.278357</td>\n",
       "      <td>1.560235</td>\n",
       "      <td>-0.372402</td>\n",
       "    </tr>\n",
       "    <tr>\n",
       "      <th>2001-05-30</th>\n",
       "      <td>-1.503719</td>\n",
       "      <td>0.450004</td>\n",
       "      <td>-1.250512</td>\n",
       "      <td>-0.823423</td>\n",
       "    </tr>\n",
       "  </tbody>\n",
       "</table>\n",
       "</div>"
      ],
      "text/plain": [
       "            Colorado     Texas  New York      Ohio\n",
       "2001-05-02  1.188966  0.897446  2.342062  0.683220\n",
       "2001-05-09 -0.802226  0.098641 -0.267358 -0.996585\n",
       "2001-05-16  0.839240  0.453279 -0.031407  0.919401\n",
       "2001-05-23  0.814848 -0.278357  1.560235 -0.372402\n",
       "2001-05-30 -1.503719  0.450004 -1.250512 -0.823423"
      ]
     },
     "execution_count": 34,
     "metadata": {},
     "output_type": "execute_result"
    }
   ],
   "source": [
    "dates = pd.date_range('1/1/2000', periods=100, freq='W-WED')\n",
    "long_df = pd.DataFrame(np.random.randn(100, 4),index=dates,columns=['Colorado', 'Texas','New York', 'Ohio'])\n",
    "long_df.loc['5-2001']"
   ]
  },
  {
   "cell_type": "markdown",
   "id": "ced60112",
   "metadata": {},
   "source": [
    "### Time Series with Duplicate Indices"
   ]
  },
  {
   "cell_type": "markdown",
   "id": "39ce9174",
   "metadata": {},
   "source": [
    "In some applications, there may be multiple data observations falling on a particular\n",
    "timestamp. Here is an example:\n"
   ]
  },
  {
   "cell_type": "code",
   "execution_count": 35,
   "id": "25533ce9",
   "metadata": {},
   "outputs": [
    {
     "data": {
      "text/plain": [
       "2000-01-01    0\n",
       "2000-01-02    1\n",
       "2000-01-02    2\n",
       "2000-01-02    3\n",
       "2000-01-03    4\n",
       "dtype: int32"
      ]
     },
     "execution_count": 35,
     "metadata": {},
     "output_type": "execute_result"
    }
   ],
   "source": [
    "dates = pd.DatetimeIndex(['1/1/2000', '1/2/2000', '1/2/2000','1/2/2000', '1/3/2000'])\n",
    "dup_ts = pd.Series(np.arange(5), index=dates)\n",
    "dup_ts"
   ]
  },
  {
   "cell_type": "markdown",
   "id": "9f474891",
   "metadata": {},
   "source": [
    "We can tell that the index is not unique by checking its is_unique property:"
   ]
  },
  {
   "cell_type": "code",
   "execution_count": 36,
   "id": "d9fb2dca",
   "metadata": {},
   "outputs": [
    {
     "data": {
      "text/plain": [
       "False"
      ]
     },
     "execution_count": 36,
     "metadata": {},
     "output_type": "execute_result"
    }
   ],
   "source": [
    "dup_ts.index.is_unique"
   ]
  },
  {
   "cell_type": "markdown",
   "id": "03584b39",
   "metadata": {},
   "source": [
    "Indexing into this time series will now either produce scalar values or slices depend‐\n",
    "ing on whether a timestamp is duplicated:"
   ]
  },
  {
   "cell_type": "code",
   "execution_count": 37,
   "id": "6e33f27b",
   "metadata": {},
   "outputs": [
    {
     "data": {
      "text/plain": [
       "4"
      ]
     },
     "execution_count": 37,
     "metadata": {},
     "output_type": "execute_result"
    }
   ],
   "source": [
    "dup_ts['1/3/2000'] # not duplicated"
   ]
  },
  {
   "cell_type": "code",
   "execution_count": 38,
   "id": "ff90abaf",
   "metadata": {},
   "outputs": [
    {
     "data": {
      "text/plain": [
       "2000-01-02    1\n",
       "2000-01-02    2\n",
       "2000-01-02    3\n",
       "dtype: int32"
      ]
     },
     "execution_count": 38,
     "metadata": {},
     "output_type": "execute_result"
    }
   ],
   "source": [
    "dup_ts['1/2/2000'] # duplicated"
   ]
  },
  {
   "cell_type": "markdown",
   "id": "137d8db3",
   "metadata": {},
   "source": [
    "Suppose you wanted to aggregate the data having non-unique timestamps. One way\n",
    "to do this is to use groupby and pass level=0:\n"
   ]
  },
  {
   "cell_type": "code",
   "execution_count": 39,
   "id": "56400574",
   "metadata": {},
   "outputs": [
    {
     "data": {
      "text/plain": [
       "2000-01-01    0\n",
       "2000-01-02    2\n",
       "2000-01-03    4\n",
       "dtype: int32"
      ]
     },
     "execution_count": 39,
     "metadata": {},
     "output_type": "execute_result"
    }
   ],
   "source": [
    "grouped = dup_ts.groupby(level=0)\n",
    "grouped.mean()\n"
   ]
  },
  {
   "cell_type": "code",
   "execution_count": 40,
   "id": "48ec5849",
   "metadata": {},
   "outputs": [
    {
     "data": {
      "text/plain": [
       "2000-01-01    1\n",
       "2000-01-02    3\n",
       "2000-01-03    1\n",
       "dtype: int64"
      ]
     },
     "execution_count": 40,
     "metadata": {},
     "output_type": "execute_result"
    }
   ],
   "source": [
    "grouped.count()"
   ]
  },
  {
   "cell_type": "markdown",
   "id": "088818b4",
   "metadata": {},
   "source": [
    "## 11.3 Date Ranges, Frequencies, and Shifting"
   ]
  },
  {
   "cell_type": "markdown",
   "id": "ee7c0c1a",
   "metadata": {},
   "source": [
    "Generic time series in pandas are assumed to be irregular; that is, they have no fixed\n",
    "frequency. For many applications this is sufficient. However, it’s often desirable to\n",
    "work relative to a fixed frequency, such as daily, monthly, or every 15 minutes, even if\n",
    "that means introducing missing values into a time series. Fortunately pandas has a\n",
    "full suite of standard time series frequencies and tools for resampling, inferring fre‐\n",
    "quencies, and generating fixed-frequency date ranges. For example, you can convert\n",
    "the sample time series to be fixed daily frequency by calling resample:\n"
   ]
  },
  {
   "cell_type": "code",
   "execution_count": 41,
   "id": "fc2f0818",
   "metadata": {},
   "outputs": [
    {
     "data": {
      "text/plain": [
       "2011-01-02    1.360881\n",
       "2011-01-05    1.588839\n",
       "2011-01-07    1.263487\n",
       "2011-01-08    0.380473\n",
       "2011-01-10   -0.398274\n",
       "2011-01-12   -0.001841\n",
       "dtype: float64"
      ]
     },
     "execution_count": 41,
     "metadata": {},
     "output_type": "execute_result"
    }
   ],
   "source": [
    "ts"
   ]
  },
  {
   "cell_type": "code",
   "execution_count": 42,
   "id": "38d959b7",
   "metadata": {},
   "outputs": [
    {
     "data": {
      "text/plain": [
       "<pandas.core.resample.DatetimeIndexResampler object at 0x000002AED1CA47F0>"
      ]
     },
     "execution_count": 42,
     "metadata": {},
     "output_type": "execute_result"
    }
   ],
   "source": [
    "resampler = ts.resample('D')\n",
    "resampler"
   ]
  },
  {
   "cell_type": "markdown",
   "id": "07ea0c43",
   "metadata": {},
   "source": [
    "The string 'D' is interpreted as daily frequency"
   ]
  },
  {
   "cell_type": "markdown",
   "id": "21289254",
   "metadata": {},
   "source": [
    "Conversion between frequencies or resampling is a big enough topic to have its own\n",
    "section later (Section 11.6, “Resampling and Frequency Conversion,” on page 348).\n",
    "Here I’ll show you how to use the base frequencies and multiples thereof."
   ]
  },
  {
   "cell_type": "markdown",
   "id": "e5ce61be",
   "metadata": {},
   "source": [
    "### Generating Date Ranges"
   ]
  },
  {
   "cell_type": "markdown",
   "id": "17b1589e",
   "metadata": {},
   "source": [
    "While I used it previously without explanation, pandas.date_range is responsible for\n",
    "generating a DatetimeIndex with an indicated length according to a particular\n",
    "frequency:"
   ]
  },
  {
   "cell_type": "code",
   "execution_count": 43,
   "id": "fe8254ec",
   "metadata": {},
   "outputs": [
    {
     "data": {
      "text/plain": [
       "DatetimeIndex(['2012-04-01', '2012-04-02', '2012-04-03', '2012-04-04',\n",
       "               '2012-04-05', '2012-04-06', '2012-04-07', '2012-04-08',\n",
       "               '2012-04-09', '2012-04-10', '2012-04-11', '2012-04-12',\n",
       "               '2012-04-13', '2012-04-14', '2012-04-15', '2012-04-16',\n",
       "               '2012-04-17', '2012-04-18', '2012-04-19', '2012-04-20',\n",
       "               '2012-04-21', '2012-04-22', '2012-04-23', '2012-04-24',\n",
       "               '2012-04-25', '2012-04-26', '2012-04-27', '2012-04-28',\n",
       "               '2012-04-29', '2012-04-30', '2012-05-01', '2012-05-02',\n",
       "               '2012-05-03', '2012-05-04', '2012-05-05', '2012-05-06',\n",
       "               '2012-05-07', '2012-05-08', '2012-05-09', '2012-05-10',\n",
       "               '2012-05-11', '2012-05-12', '2012-05-13', '2012-05-14',\n",
       "               '2012-05-15', '2012-05-16', '2012-05-17', '2012-05-18',\n",
       "               '2012-05-19', '2012-05-20', '2012-05-21', '2012-05-22',\n",
       "               '2012-05-23', '2012-05-24', '2012-05-25', '2012-05-26',\n",
       "               '2012-05-27', '2012-05-28', '2012-05-29', '2012-05-30',\n",
       "               '2012-05-31', '2012-06-01'],\n",
       "              dtype='datetime64[ns]', freq='D')"
      ]
     },
     "execution_count": 43,
     "metadata": {},
     "output_type": "execute_result"
    }
   ],
   "source": [
    "index = pd.date_range('2012-04-01', '2012-06-01')\n",
    "index"
   ]
  },
  {
   "cell_type": "markdown",
   "id": "f11d19e6",
   "metadata": {},
   "source": [
    "By default, date_range generates daily timestamps. If you pass only a start or end\n",
    "date, you must pass a number of periods to generate:\n"
   ]
  },
  {
   "cell_type": "code",
   "execution_count": 44,
   "id": "bfdc771e",
   "metadata": {},
   "outputs": [
    {
     "data": {
      "text/plain": [
       "DatetimeIndex(['2012-04-01', '2012-04-02', '2012-04-03', '2012-04-04',\n",
       "               '2012-04-05', '2012-04-06', '2012-04-07', '2012-04-08',\n",
       "               '2012-04-09', '2012-04-10', '2012-04-11', '2012-04-12',\n",
       "               '2012-04-13', '2012-04-14', '2012-04-15', '2012-04-16',\n",
       "               '2012-04-17', '2012-04-18', '2012-04-19', '2012-04-20'],\n",
       "              dtype='datetime64[ns]', freq='D')"
      ]
     },
     "execution_count": 44,
     "metadata": {},
     "output_type": "execute_result"
    }
   ],
   "source": [
    "pd.date_range(start='2012-04-01', periods=20)\n"
   ]
  },
  {
   "cell_type": "code",
   "execution_count": 45,
   "id": "89068a2a",
   "metadata": {},
   "outputs": [
    {
     "data": {
      "text/plain": [
       "DatetimeIndex(['2012-05-13', '2012-05-14', '2012-05-15', '2012-05-16',\n",
       "               '2012-05-17', '2012-05-18', '2012-05-19', '2012-05-20',\n",
       "               '2012-05-21', '2012-05-22', '2012-05-23', '2012-05-24',\n",
       "               '2012-05-25', '2012-05-26', '2012-05-27', '2012-05-28',\n",
       "               '2012-05-29', '2012-05-30', '2012-05-31', '2012-06-01'],\n",
       "              dtype='datetime64[ns]', freq='D')"
      ]
     },
     "execution_count": 45,
     "metadata": {},
     "output_type": "execute_result"
    }
   ],
   "source": [
    "pd.date_range(end='2012-06-01', periods=20)"
   ]
  },
  {
   "cell_type": "markdown",
   "id": "6067f842",
   "metadata": {},
   "source": [
    "The start and end dates define strict boundaries for the generated date index. For\n",
    "example, if you wanted a date index containing the last business day of each month,\n",
    "you would pass the 'BM' frequency (business end of month; see more complete listing\n",
    "of frequencies in Table 11-4) and only dates falling on or inside the date interval will\n",
    "be included:\n"
   ]
  },
  {
   "cell_type": "code",
   "execution_count": 46,
   "id": "ff9e051e",
   "metadata": {},
   "outputs": [
    {
     "data": {
      "text/plain": [
       "DatetimeIndex(['2000-01-31', '2000-02-29', '2000-03-31', '2000-04-28',\n",
       "               '2000-05-31', '2000-06-30', '2000-07-31', '2000-08-31',\n",
       "               '2000-09-29', '2000-10-31', '2000-11-30'],\n",
       "              dtype='datetime64[ns]', freq='BM')"
      ]
     },
     "execution_count": 46,
     "metadata": {},
     "output_type": "execute_result"
    }
   ],
   "source": [
    "pd.date_range('2000-01-01', '2000-12-01', freq='BM')"
   ]
  },
  {
   "cell_type": "markdown",
   "id": "1242dd1a",
   "metadata": {},
   "source": [
    "Table 11-4. Base time series frequencies (not comprehensive)\n",
    "---------------------------------------------------------------------------------------- \n",
    "  \n",
    "   \n",
    "Alias --> Offset type  --> Description\n",
    "  \n",
    "   \n",
    "D --> Day --> Calendar daily\n",
    "   \n",
    "   \n",
    "B --> BusinessDay --> Business daily\n",
    "  \n",
    "   \n",
    "H --> Hour --> Hourly\n",
    "    \n",
    "T or min --> Minute --> Minutely\n",
    "  \n",
    "    \n",
    "S --> Second --> Secondly\n",
    "   \n",
    "    \n",
    "L or ms--> Milli --> Millisecond (1/1,000 of 1 second)\n",
    "  \n",
    "   \n",
    "U --> Micro --> Microsecond (1/1,000,000 of 1 second)  \n",
    "   \n",
    "M --> MonthEnd --> Last calendar day of month\n",
    " \n",
    "  \n",
    "   \n",
    "BM --> BusinessMonthEnd --> Last business day (weekday) of month\n",
    "  \n",
    "   \n",
    "MS --> MonthBegin --> First calendar day of month\n",
    "   \n",
    "    \n",
    "BMS --> BusinessMonthBegin --> First weekday of month\n",
    "  \n",
    "    \n",
    "W-MON, W-TUE, ... --> Week --> Weekly on given day of week (MON, TUE, WED, THU,\n",
    "FRI, SAT, or SUN) \n",
    " \n",
    "    \n",
    "WOM-1MON, WOM-2MON, ... --> WeekOfMonth --> Generate weekly dates in the first, second, third, or\n",
    "fourth week of the month (e.g., WOM-3FRI for the\n",
    "third Friday of each month)\n",
    "  \n",
    "    \n",
    "Q-JAN, Q-FEB, ... --> QuarterEnd --> Quarterly dates anchored on last calendar day of each\n",
    "month, for year ending in indicated month (JAN, FEB,\n",
    "MAR, APR, MAY, JUN, JUL, AUG, SEP, OCT, NOV, or DEC)\n",
    " \n",
    "    \n",
    "BQ-JAN, BQ-FEB, ... --> BusinessQuarterEnd --> Quarterly dates anchored on last weekday day of each\n",
    "month, for year ending in indicated month\n",
    "  \n",
    "    \n",
    "    \n",
    "QS-JAN, QS-FEB, ... --> QuarterBegin --> Quarterly dates anchored on first calendar day of each\n",
    "month, for year ending in indicated month\n",
    "  \n",
    "    \n",
    "BQS-JAN, BQS-FEB, ... --> BusinessQuarterBegin --> Quarterly dates anchored on first weekday day of each\n",
    "month, for year ending in indicated month\n",
    " \n",
    "   \n",
    "A-JAN, A-FEB, ... --> YearEnd --> Annual dates anchored on last calendar day of given\n",
    "month (JAN, FEB, MAR, APR, MAY, JUN, JUL, AUG, SEP,\n",
    "OCT, NOV, or DEC)\n",
    " \n",
    "   \n",
    "BA-JAN, BA-FEB, ... --> BusinessYearEnd --> Annual dates anchored on last weekday of given\n",
    "month\n",
    "   \n",
    "    \n",
    "AS-JAN, AS-FEB, ... --> YearBegin --> Annual dates anchored on first day of given month\n",
    "   \n",
    "    \n",
    "BAS-JAN, BAS-FEB, ... --> BusinessYearBegin --> Annual dates anchored on first weekday of given\n",
    "month\n"
   ]
  },
  {
   "cell_type": "markdown",
   "id": "1d0063ca",
   "metadata": {},
   "source": [
    "date_range by default preserves the time (if any) of the start or end timestamp:"
   ]
  },
  {
   "cell_type": "code",
   "execution_count": 47,
   "id": "222d85b4",
   "metadata": {},
   "outputs": [
    {
     "data": {
      "text/plain": [
       "DatetimeIndex(['2012-05-02 12:56:31', '2012-05-03 12:56:31',\n",
       "               '2012-05-04 12:56:31', '2012-05-05 12:56:31',\n",
       "               '2012-05-06 12:56:31'],\n",
       "              dtype='datetime64[ns]', freq='D')"
      ]
     },
     "execution_count": 47,
     "metadata": {},
     "output_type": "execute_result"
    }
   ],
   "source": [
    "pd.date_range('2012-05-02 12:56:31', periods=5)"
   ]
  },
  {
   "cell_type": "markdown",
   "id": "024f5596",
   "metadata": {},
   "source": [
    "Sometimes you will have start or end dates with time information but want to gener‐\n",
    "ate a set of timestamps normalized to midnight as a convention. To do this, there is a\n",
    "normalize option:"
   ]
  },
  {
   "cell_type": "code",
   "execution_count": 48,
   "id": "142d211e",
   "metadata": {},
   "outputs": [
    {
     "data": {
      "text/plain": [
       "DatetimeIndex(['2012-05-02', '2012-05-03', '2012-05-04', '2012-05-05',\n",
       "               '2012-05-06'],\n",
       "              dtype='datetime64[ns]', freq='D')"
      ]
     },
     "execution_count": 48,
     "metadata": {},
     "output_type": "execute_result"
    }
   ],
   "source": [
    "pd.date_range('2012-05-02 12:56:31', periods=5, normalize=True)"
   ]
  },
  {
   "cell_type": "markdown",
   "id": "68e98473",
   "metadata": {},
   "source": [
    "## Frequencies and Date Offsets"
   ]
  },
  {
   "cell_type": "markdown",
   "id": "3ebf9092",
   "metadata": {},
   "source": [
    "Frequencies in pandas are composed of a base frequency and a multiplier. Base fre‐\n",
    "quencies are typically referred to by a string alias, like 'M' for monthly or 'H' for\n",
    "hourly. For each base frequency, there is an object defined generally referred to as a\n",
    "date offset. For example, hourly frequency can be represented with the Hour class:"
   ]
  },
  {
   "cell_type": "code",
   "execution_count": 49,
   "id": "b26860ce",
   "metadata": {},
   "outputs": [
    {
     "data": {
      "text/plain": [
       "<Hour>"
      ]
     },
     "execution_count": 49,
     "metadata": {},
     "output_type": "execute_result"
    }
   ],
   "source": [
    "from pandas.tseries.offsets import Hour, Minute\n",
    "hour = Hour()\n",
    "hour"
   ]
  },
  {
   "cell_type": "markdown",
   "id": "9a79535e",
   "metadata": {},
   "source": [
    "You can define a multiple of an offset by passing an integer:"
   ]
  },
  {
   "cell_type": "code",
   "execution_count": 50,
   "id": "2c7fe5fc",
   "metadata": {},
   "outputs": [
    {
     "data": {
      "text/plain": [
       "<4 * Hours>"
      ]
     },
     "execution_count": 50,
     "metadata": {},
     "output_type": "execute_result"
    }
   ],
   "source": [
    "four_hours = Hour(4)\n",
    "four_hours"
   ]
  },
  {
   "cell_type": "markdown",
   "id": "330ca36f",
   "metadata": {},
   "source": [
    "In most applications, you would never need to explicitly create one of these objects,\n",
    "instead using a string alias like 'H' or '4H'. Putting an integer before the base fre‐\n",
    "quency creates a multiple:"
   ]
  },
  {
   "cell_type": "code",
   "execution_count": 51,
   "id": "ef04b931",
   "metadata": {},
   "outputs": [
    {
     "data": {
      "text/plain": [
       "DatetimeIndex(['2000-01-01 00:00:00', '2000-01-01 04:00:00',\n",
       "               '2000-01-01 08:00:00', '2000-01-01 12:00:00',\n",
       "               '2000-01-01 16:00:00', '2000-01-01 20:00:00',\n",
       "               '2000-01-02 00:00:00', '2000-01-02 04:00:00',\n",
       "               '2000-01-02 08:00:00', '2000-01-02 12:00:00',\n",
       "               '2000-01-02 16:00:00', '2000-01-02 20:00:00',\n",
       "               '2000-01-03 00:00:00', '2000-01-03 04:00:00',\n",
       "               '2000-01-03 08:00:00', '2000-01-03 12:00:00',\n",
       "               '2000-01-03 16:00:00', '2000-01-03 20:00:00'],\n",
       "              dtype='datetime64[ns]', freq='4H')"
      ]
     },
     "execution_count": 51,
     "metadata": {},
     "output_type": "execute_result"
    }
   ],
   "source": [
    "pd.date_range('2000-01-01', '2000-01-03 23:59', freq='4h')"
   ]
  },
  {
   "cell_type": "markdown",
   "id": "866b066b",
   "metadata": {},
   "source": [
    "Many offsets can be combined together by addition:"
   ]
  },
  {
   "cell_type": "code",
   "execution_count": 52,
   "id": "a905b480",
   "metadata": {},
   "outputs": [
    {
     "data": {
      "text/plain": [
       "<150 * Minutes>"
      ]
     },
     "execution_count": 52,
     "metadata": {},
     "output_type": "execute_result"
    }
   ],
   "source": [
    "Hour(2) + Minute(30)"
   ]
  },
  {
   "cell_type": "markdown",
   "id": "f75f79c4",
   "metadata": {},
   "source": [
    "Similarly, you can pass frequency strings, like '1h30min', that will effectively be\n",
    "parsed to the same expression:"
   ]
  },
  {
   "cell_type": "code",
   "execution_count": 53,
   "id": "9faec930",
   "metadata": {},
   "outputs": [
    {
     "data": {
      "text/plain": [
       "DatetimeIndex(['2000-01-01 00:00:00', '2000-01-01 01:30:00',\n",
       "               '2000-01-01 03:00:00', '2000-01-01 04:30:00',\n",
       "               '2000-01-01 06:00:00', '2000-01-01 07:30:00',\n",
       "               '2000-01-01 09:00:00', '2000-01-01 10:30:00',\n",
       "               '2000-01-01 12:00:00', '2000-01-01 13:30:00'],\n",
       "              dtype='datetime64[ns]', freq='90T')"
      ]
     },
     "execution_count": 53,
     "metadata": {},
     "output_type": "execute_result"
    }
   ],
   "source": [
    "pd.date_range('2000-01-01', periods=10, freq='1h30min')"
   ]
  },
  {
   "cell_type": "markdown",
   "id": "13fcc0c5",
   "metadata": {},
   "source": [
    "Some frequencies describe points in time that are not evenly spaced. For example, 'M'\n",
    "(calendar month end) and 'BM' (last business/weekday of month) depend on the\n",
    "number of days in a month and, in the latter case, whether the month ends on a\n",
    "weekend or not. We refer to these as anchored offsets.\n",
    "  \n",
    "     \n",
    "Refer back to Table 11-4 for a listing of frequency codes and date offset classes avail‐\n",
    "able in pandas."
   ]
  },
  {
   "cell_type": "markdown",
   "id": "45226bb5",
   "metadata": {},
   "source": [
    "Users can define their own custom frequency classes to provide\n",
    "date logic not available in pandas, though the full details of that are\n",
    "outside the scope of this book."
   ]
  },
  {
   "cell_type": "markdown",
   "id": "0d321c4b",
   "metadata": {},
   "source": [
    "### Week of month dates\n"
   ]
  },
  {
   "cell_type": "markdown",
   "id": "fa9c78b2",
   "metadata": {},
   "source": [
    "One useful frequency class is “week of month,” starting with WOM. This enables you to\n",
    "get dates like the third Friday of each month:"
   ]
  },
  {
   "cell_type": "code",
   "execution_count": 54,
   "id": "add5d29f",
   "metadata": {},
   "outputs": [],
   "source": [
    "rng = pd.date_range('2012-01-01', '2012-09-01', freq='WOM-3FRI')"
   ]
  },
  {
   "cell_type": "code",
   "execution_count": 55,
   "id": "d06592c4",
   "metadata": {},
   "outputs": [
    {
     "data": {
      "text/plain": [
       "[Timestamp('2012-01-20 00:00:00', freq='WOM-3FRI'),\n",
       " Timestamp('2012-02-17 00:00:00', freq='WOM-3FRI'),\n",
       " Timestamp('2012-03-16 00:00:00', freq='WOM-3FRI'),\n",
       " Timestamp('2012-04-20 00:00:00', freq='WOM-3FRI'),\n",
       " Timestamp('2012-05-18 00:00:00', freq='WOM-3FRI'),\n",
       " Timestamp('2012-06-15 00:00:00', freq='WOM-3FRI'),\n",
       " Timestamp('2012-07-20 00:00:00', freq='WOM-3FRI'),\n",
       " Timestamp('2012-08-17 00:00:00', freq='WOM-3FRI')]"
      ]
     },
     "execution_count": 55,
     "metadata": {},
     "output_type": "execute_result"
    }
   ],
   "source": [
    "list(rng)\n"
   ]
  },
  {
   "cell_type": "markdown",
   "id": "c00d0301",
   "metadata": {},
   "source": [
    "## Shifting (Leading and Lagging) Data"
   ]
  },
  {
   "cell_type": "markdown",
   "id": "e6de1d3a",
   "metadata": {},
   "source": [
    "“Shifting” refers to moving data backward and forward through time. Both Series and\n",
    "DataFrame have a shift method for doing naive shifts forward or backward, leaving\n",
    "the index unmodified:"
   ]
  },
  {
   "cell_type": "code",
   "execution_count": 56,
   "id": "03b91051",
   "metadata": {},
   "outputs": [
    {
     "data": {
      "text/plain": [
       "2000-01-31   -0.144131\n",
       "2000-02-29    1.065507\n",
       "2000-03-31   -0.076249\n",
       "2000-04-30   -1.214067\n",
       "Freq: M, dtype: float64"
      ]
     },
     "execution_count": 56,
     "metadata": {},
     "output_type": "execute_result"
    }
   ],
   "source": [
    "ts = pd.Series(np.random.randn(4),index=pd.date_range('1/1/2000', periods=4, freq='M'))\n",
    "ts"
   ]
  },
  {
   "cell_type": "code",
   "execution_count": 57,
   "id": "178b7e5a",
   "metadata": {},
   "outputs": [
    {
     "data": {
      "text/plain": [
       "2000-01-31         NaN\n",
       "2000-02-29         NaN\n",
       "2000-03-31   -0.144131\n",
       "2000-04-30    1.065507\n",
       "Freq: M, dtype: float64"
      ]
     },
     "execution_count": 57,
     "metadata": {},
     "output_type": "execute_result"
    }
   ],
   "source": [
    "ts.shift(2)"
   ]
  },
  {
   "cell_type": "code",
   "execution_count": 58,
   "id": "3c167647",
   "metadata": {},
   "outputs": [
    {
     "data": {
      "text/plain": [
       "2000-01-31   -0.076249\n",
       "2000-02-29   -1.214067\n",
       "2000-03-31         NaN\n",
       "2000-04-30         NaN\n",
       "Freq: M, dtype: float64"
      ]
     },
     "execution_count": 58,
     "metadata": {},
     "output_type": "execute_result"
    }
   ],
   "source": [
    "ts.shift(-2)"
   ]
  },
  {
   "cell_type": "markdown",
   "id": "ffd7ee7e",
   "metadata": {},
   "source": [
    "When we shift like this, missing data is introduced either at the start or the end of the\n",
    "time series.\n"
   ]
  },
  {
   "cell_type": "markdown",
   "id": "779fe4a0",
   "metadata": {},
   "source": [
    "A common use of shift is computing percent changes in a time series or multiple\n",
    "time series as DataFrame columns. This is expressed as:"
   ]
  },
  {
   "cell_type": "code",
   "execution_count": 59,
   "id": "8978b51b",
   "metadata": {},
   "outputs": [
    {
     "data": {
      "text/plain": [
       "2000-01-31          NaN\n",
       "2000-02-29    -8.392648\n",
       "2000-03-31    -1.071561\n",
       "2000-04-30    14.922476\n",
       "Freq: M, dtype: float64"
      ]
     },
     "execution_count": 59,
     "metadata": {},
     "output_type": "execute_result"
    }
   ],
   "source": [
    "ts / ts.shift(1) - 1"
   ]
  },
  {
   "cell_type": "markdown",
   "id": "29e0fa6e",
   "metadata": {},
   "source": [
    "Because naive shifts leave the index unmodified, some data is discarded. Thus if the\n",
    "frequency is known, it can be passed to shift to advance the timestamps instead of\n",
    "simply the data:"
   ]
  },
  {
   "cell_type": "code",
   "execution_count": 60,
   "id": "027a6036",
   "metadata": {},
   "outputs": [
    {
     "data": {
      "text/plain": [
       "2000-03-31   -0.144131\n",
       "2000-04-30    1.065507\n",
       "2000-05-31   -0.076249\n",
       "2000-06-30   -1.214067\n",
       "Freq: M, dtype: float64"
      ]
     },
     "execution_count": 60,
     "metadata": {},
     "output_type": "execute_result"
    }
   ],
   "source": [
    "ts.shift(2, freq='M')\n"
   ]
  },
  {
   "cell_type": "markdown",
   "id": "1e560d19",
   "metadata": {},
   "source": [
    "Other frequencies can be passed, too, giving you some flexibility in how to lead and\n",
    "lag the data:\n"
   ]
  },
  {
   "cell_type": "code",
   "execution_count": 61,
   "id": "7c6afd18",
   "metadata": {},
   "outputs": [
    {
     "data": {
      "text/plain": [
       "2000-02-03   -0.144131\n",
       "2000-03-03    1.065507\n",
       "2000-04-03   -0.076249\n",
       "2000-05-03   -1.214067\n",
       "dtype: float64"
      ]
     },
     "execution_count": 61,
     "metadata": {},
     "output_type": "execute_result"
    }
   ],
   "source": [
    "ts.shift(3, freq='D')"
   ]
  },
  {
   "cell_type": "code",
   "execution_count": 62,
   "id": "bb2d3042",
   "metadata": {},
   "outputs": [
    {
     "data": {
      "text/plain": [
       "2000-01-31 01:30:00   -0.144131\n",
       "2000-02-29 01:30:00    1.065507\n",
       "2000-03-31 01:30:00   -0.076249\n",
       "2000-04-30 01:30:00   -1.214067\n",
       "dtype: float64"
      ]
     },
     "execution_count": 62,
     "metadata": {},
     "output_type": "execute_result"
    }
   ],
   "source": [
    "ts.shift(1, freq='90T')"
   ]
  },
  {
   "cell_type": "markdown",
   "id": "d13d8e17",
   "metadata": {},
   "source": [
    "The T here stands for minutes."
   ]
  },
  {
   "cell_type": "markdown",
   "id": "6495db08",
   "metadata": {},
   "source": [
    "### Shifting dates with offsets"
   ]
  },
  {
   "cell_type": "markdown",
   "id": "2efcd943",
   "metadata": {},
   "source": [
    "The pandas date offsets can also be used with datetime or Timestamp objects:"
   ]
  },
  {
   "cell_type": "code",
   "execution_count": 63,
   "id": "2334de75",
   "metadata": {},
   "outputs": [],
   "source": [
    "from pandas.tseries.offsets import Day, MonthEnd"
   ]
  },
  {
   "cell_type": "code",
   "execution_count": 64,
   "id": "73d8af2d",
   "metadata": {},
   "outputs": [
    {
     "data": {
      "text/plain": [
       "Timestamp('2011-11-20 00:00:00')"
      ]
     },
     "execution_count": 64,
     "metadata": {},
     "output_type": "execute_result"
    }
   ],
   "source": [
    "now = datetime(2011, 11, 17)\n",
    "now + 3 * Day()"
   ]
  },
  {
   "cell_type": "markdown",
   "id": "e2568a13",
   "metadata": {},
   "source": [
    "If you add an anchored offset like MonthEnd, the first increment will “roll forward” a\n",
    "date to the next date according to the frequency rule:"
   ]
  },
  {
   "cell_type": "code",
   "execution_count": 65,
   "id": "0968c5d6",
   "metadata": {},
   "outputs": [
    {
     "data": {
      "text/plain": [
       "Timestamp('2011-11-30 00:00:00')"
      ]
     },
     "execution_count": 65,
     "metadata": {},
     "output_type": "execute_result"
    }
   ],
   "source": [
    "now + MonthEnd()"
   ]
  },
  {
   "cell_type": "code",
   "execution_count": 66,
   "id": "829d7800",
   "metadata": {},
   "outputs": [
    {
     "data": {
      "text/plain": [
       "Timestamp('2011-12-31 00:00:00')"
      ]
     },
     "execution_count": 66,
     "metadata": {},
     "output_type": "execute_result"
    }
   ],
   "source": [
    "now + MonthEnd(2)"
   ]
  },
  {
   "cell_type": "markdown",
   "id": "36f03836",
   "metadata": {},
   "source": [
    "Anchored offsets can explicitly “roll” dates forward or backward by simply using their\n",
    "rollforward and rollback methods, respectively:"
   ]
  },
  {
   "cell_type": "code",
   "execution_count": 67,
   "id": "c101cfc1",
   "metadata": {},
   "outputs": [
    {
     "data": {
      "text/plain": [
       "Timestamp('2011-11-30 00:00:00')"
      ]
     },
     "execution_count": 67,
     "metadata": {},
     "output_type": "execute_result"
    }
   ],
   "source": [
    "offset = MonthEnd()\n",
    "offset.rollforward(now)"
   ]
  },
  {
   "cell_type": "code",
   "execution_count": 68,
   "id": "83df51e2",
   "metadata": {},
   "outputs": [
    {
     "data": {
      "text/plain": [
       "Timestamp('2011-10-31 00:00:00')"
      ]
     },
     "execution_count": 68,
     "metadata": {},
     "output_type": "execute_result"
    }
   ],
   "source": [
    "offset.rollback(now)"
   ]
  },
  {
   "cell_type": "markdown",
   "id": "ff79fe99",
   "metadata": {},
   "source": [
    "A creative use of date offsets is to use these methods with groupby:"
   ]
  },
  {
   "cell_type": "code",
   "execution_count": 69,
   "id": "a9d83caa",
   "metadata": {},
   "outputs": [
    {
     "data": {
      "text/plain": [
       "2000-01-15   -1.621660\n",
       "2000-01-19    1.291390\n",
       "2000-01-23    0.401178\n",
       "2000-01-27   -0.826151\n",
       "2000-01-31    1.839903\n",
       "2000-02-04    1.276785\n",
       "2000-02-08   -0.715711\n",
       "2000-02-12   -0.123694\n",
       "2000-02-16   -1.355660\n",
       "2000-02-20    1.400706\n",
       "2000-02-24   -0.043221\n",
       "2000-02-28   -0.866699\n",
       "2000-03-03   -0.972265\n",
       "2000-03-07   -0.258811\n",
       "2000-03-11   -1.537564\n",
       "2000-03-15   -2.932919\n",
       "2000-03-19    0.513791\n",
       "2000-03-23    0.565397\n",
       "2000-03-27    0.380420\n",
       "2000-03-31   -0.928308\n",
       "Freq: 4D, dtype: float64"
      ]
     },
     "execution_count": 69,
     "metadata": {},
     "output_type": "execute_result"
    }
   ],
   "source": [
    "ts = pd.Series(np.random.randn(20),index=pd.date_range('1/15/2000', periods=20, freq='4d'))\n",
    "ts"
   ]
  },
  {
   "cell_type": "code",
   "execution_count": 70,
   "id": "28798e0c",
   "metadata": {},
   "outputs": [
    {
     "data": {
      "text/plain": [
       "2000-01-31    0.216932\n",
       "2000-02-29   -0.061071\n",
       "2000-03-31   -0.646283\n",
       "dtype: float64"
      ]
     },
     "execution_count": 70,
     "metadata": {},
     "output_type": "execute_result"
    }
   ],
   "source": [
    "ts.groupby(offset.rollforward).mean()"
   ]
  },
  {
   "cell_type": "markdown",
   "id": "9aba483f",
   "metadata": {},
   "source": [
    "Of course, an easier and faster way to do this is using resample (we’ll discuss this in\n",
    "much more depth in Section 11.6, “Resampling and Frequency Conversion,” on page\n",
    "348):"
   ]
  },
  {
   "cell_type": "code",
   "execution_count": 71,
   "id": "cda9f2a1",
   "metadata": {},
   "outputs": [
    {
     "data": {
      "text/plain": [
       "2000-01-31    0.216932\n",
       "2000-02-29   -0.061071\n",
       "2000-03-31   -0.646283\n",
       "Freq: M, dtype: float64"
      ]
     },
     "execution_count": 71,
     "metadata": {},
     "output_type": "execute_result"
    }
   ],
   "source": [
    "ts.resample('M').mean()\n"
   ]
  },
  {
   "cell_type": "markdown",
   "id": "5d34ed35",
   "metadata": {},
   "source": [
    "## 11.4 Time Zone Handling"
   ]
  },
  {
   "cell_type": "markdown",
   "id": "a24e0433",
   "metadata": {},
   "source": [
    "Working with time zones is generally considered one of the most unpleasant parts of\n",
    "time series manipulation. As a result, many time series users choose to work with\n",
    "time series in coordinated universal time or UTC, which is the successor to Greenwich\n",
    "Mean Time and is the current international standard. Time zones are expressed as\n",
    "offsets from UTC; for example, New York is four hours behind UTC during daylight\n",
    "saving time and five hours behind the rest of the year"
   ]
  },
  {
   "cell_type": "markdown",
   "id": "622ae282",
   "metadata": {},
   "source": [
    "In Python, time zone information comes from the third-party pytz library (installa‐\n",
    "ble with pip or conda), which exposes the Olson database, a compilation of world\n",
    "time zone information. This is especially important for historical data because the\n",
    "daylight saving time (DST) transition dates (and even UTC offsets) have been\n",
    "changed numerous times depending on the whims of local governments. In the Uni‐\n",
    "ted States, the DST transition times have been changed many times since 1900!\n"
   ]
  },
  {
   "cell_type": "markdown",
   "id": "58b4bf19",
   "metadata": {},
   "source": [
    "For detailed information about the pytz library, you’ll need to look at that library’s\n",
    "documentation. As far as this book is concerned, pandas wraps pytz’s functionality so\n",
    "you can ignore its API outside of the time zone names. Time zone names can be\n",
    "found interactively and in the docs:"
   ]
  },
  {
   "cell_type": "code",
   "execution_count": 72,
   "id": "441fa1a3",
   "metadata": {},
   "outputs": [
    {
     "data": {
      "text/plain": [
       "['US/Eastern', 'US/Hawaii', 'US/Mountain', 'US/Pacific', 'UTC']"
      ]
     },
     "execution_count": 72,
     "metadata": {},
     "output_type": "execute_result"
    }
   ],
   "source": [
    "import pytz\n",
    "pytz.common_timezones[-5:]"
   ]
  },
  {
   "cell_type": "markdown",
   "id": "3b8a567a",
   "metadata": {},
   "source": [
    "To get a time zone object from pytz, use pytz.timezone:"
   ]
  },
  {
   "cell_type": "code",
   "execution_count": 73,
   "id": "7cc6fc0d",
   "metadata": {},
   "outputs": [
    {
     "data": {
      "text/plain": [
       "<DstTzInfo 'America/New_York' LMT-1 day, 19:04:00 STD>"
      ]
     },
     "execution_count": 73,
     "metadata": {},
     "output_type": "execute_result"
    }
   ],
   "source": [
    "tz = pytz.timezone('America/New_York')\n",
    "tz"
   ]
  },
  {
   "cell_type": "markdown",
   "id": "4482c55f",
   "metadata": {},
   "source": [
    "Methods in pandas will accept either time zone names or these objects."
   ]
  },
  {
   "cell_type": "markdown",
   "id": "034eb133",
   "metadata": {},
   "source": [
    "### Time Zone Localization and Conversion"
   ]
  },
  {
   "cell_type": "markdown",
   "id": "c0c058cb",
   "metadata": {},
   "source": [
    "By default, time series in pandas are time zone naive. For example, consider the fol‐\n",
    "lowing time series:"
   ]
  },
  {
   "cell_type": "code",
   "execution_count": 74,
   "id": "b01a92fb",
   "metadata": {},
   "outputs": [
    {
     "data": {
      "text/plain": [
       "2012-03-09 09:30:00   -1.154957\n",
       "2012-03-10 09:30:00   -0.186987\n",
       "2012-03-11 09:30:00    0.194808\n",
       "2012-03-12 09:30:00    0.727439\n",
       "2012-03-13 09:30:00   -1.349499\n",
       "2012-03-14 09:30:00   -1.287083\n",
       "Freq: D, dtype: float64"
      ]
     },
     "execution_count": 74,
     "metadata": {},
     "output_type": "execute_result"
    }
   ],
   "source": [
    "rng = pd.date_range('3/9/2012 9:30', periods=6, freq='D')\n",
    "ts = pd.Series(np.random.randn(len(rng)), index=rng)\n",
    "ts"
   ]
  },
  {
   "cell_type": "markdown",
   "id": "bb08a295",
   "metadata": {},
   "source": [
    "The index’s tz field is None:\n"
   ]
  },
  {
   "cell_type": "code",
   "execution_count": 75,
   "id": "e6a2fe01",
   "metadata": {},
   "outputs": [
    {
     "name": "stdout",
     "output_type": "stream",
     "text": [
      "None\n"
     ]
    }
   ],
   "source": [
    "print(ts.index.tz)"
   ]
  },
  {
   "cell_type": "markdown",
   "id": "3a0dbd03",
   "metadata": {},
   "source": [
    "Date ranges can be generated with a time zone set:"
   ]
  },
  {
   "cell_type": "code",
   "execution_count": 76,
   "id": "536e537f",
   "metadata": {},
   "outputs": [
    {
     "data": {
      "text/plain": [
       "DatetimeIndex(['2012-03-09 09:30:00+00:00', '2012-03-10 09:30:00+00:00',\n",
       "               '2012-03-11 09:30:00+00:00', '2012-03-12 09:30:00+00:00',\n",
       "               '2012-03-13 09:30:00+00:00', '2012-03-14 09:30:00+00:00',\n",
       "               '2012-03-15 09:30:00+00:00', '2012-03-16 09:30:00+00:00',\n",
       "               '2012-03-17 09:30:00+00:00', '2012-03-18 09:30:00+00:00'],\n",
       "              dtype='datetime64[ns, UTC]', freq='D')"
      ]
     },
     "execution_count": 76,
     "metadata": {},
     "output_type": "execute_result"
    }
   ],
   "source": [
    "pd.date_range('3/9/2012 9:30', periods=10, freq='D', tz='UTC')"
   ]
  },
  {
   "cell_type": "markdown",
   "id": "5777af9f",
   "metadata": {},
   "source": [
    "Conversion from naive to localized is handled by the tz_localize method:"
   ]
  },
  {
   "cell_type": "code",
   "execution_count": 77,
   "id": "ffeabdc1",
   "metadata": {},
   "outputs": [
    {
     "data": {
      "text/plain": [
       "2012-03-09 09:30:00   -1.154957\n",
       "2012-03-10 09:30:00   -0.186987\n",
       "2012-03-11 09:30:00    0.194808\n",
       "2012-03-12 09:30:00    0.727439\n",
       "2012-03-13 09:30:00   -1.349499\n",
       "2012-03-14 09:30:00   -1.287083\n",
       "Freq: D, dtype: float64"
      ]
     },
     "execution_count": 77,
     "metadata": {},
     "output_type": "execute_result"
    }
   ],
   "source": [
    "ts"
   ]
  },
  {
   "cell_type": "code",
   "execution_count": 78,
   "id": "ef87215a",
   "metadata": {},
   "outputs": [
    {
     "data": {
      "text/plain": [
       "2012-03-09 09:30:00+00:00   -1.154957\n",
       "2012-03-10 09:30:00+00:00   -0.186987\n",
       "2012-03-11 09:30:00+00:00    0.194808\n",
       "2012-03-12 09:30:00+00:00    0.727439\n",
       "2012-03-13 09:30:00+00:00   -1.349499\n",
       "2012-03-14 09:30:00+00:00   -1.287083\n",
       "Freq: D, dtype: float64"
      ]
     },
     "execution_count": 78,
     "metadata": {},
     "output_type": "execute_result"
    }
   ],
   "source": [
    "ts_utc = ts.tz_localize('UTC')\n",
    "ts_utc"
   ]
  },
  {
   "cell_type": "code",
   "execution_count": 79,
   "id": "f7c9f57c",
   "metadata": {},
   "outputs": [
    {
     "data": {
      "text/plain": [
       "DatetimeIndex(['2012-03-09 09:30:00+00:00', '2012-03-10 09:30:00+00:00',\n",
       "               '2012-03-11 09:30:00+00:00', '2012-03-12 09:30:00+00:00',\n",
       "               '2012-03-13 09:30:00+00:00', '2012-03-14 09:30:00+00:00'],\n",
       "              dtype='datetime64[ns, UTC]', freq='D')"
      ]
     },
     "execution_count": 79,
     "metadata": {},
     "output_type": "execute_result"
    }
   ],
   "source": [
    "ts_utc.index"
   ]
  },
  {
   "cell_type": "markdown",
   "id": "a2abea65",
   "metadata": {},
   "source": [
    "Once a time series has been localized to a particular time zone, it can be converted to\n",
    "another time zone with tz_convert:"
   ]
  },
  {
   "cell_type": "code",
   "execution_count": 80,
   "id": "317966be",
   "metadata": {},
   "outputs": [
    {
     "data": {
      "text/plain": [
       "2012-03-09 04:30:00-05:00   -1.154957\n",
       "2012-03-10 04:30:00-05:00   -0.186987\n",
       "2012-03-11 05:30:00-04:00    0.194808\n",
       "2012-03-12 05:30:00-04:00    0.727439\n",
       "2012-03-13 05:30:00-04:00   -1.349499\n",
       "2012-03-14 05:30:00-04:00   -1.287083\n",
       "Freq: D, dtype: float64"
      ]
     },
     "execution_count": 80,
     "metadata": {},
     "output_type": "execute_result"
    }
   ],
   "source": [
    "ts_utc.tz_convert('America/New_York')"
   ]
  },
  {
   "cell_type": "markdown",
   "id": "03ce5bf1",
   "metadata": {},
   "source": [
    "In the case of the preceding time series, which straddles a DST transition in the Amer\n",
    "ica/New_York time zone, we could localize to EST and convert to, say, UTC or Berlin\n",
    "time"
   ]
  },
  {
   "cell_type": "code",
   "execution_count": 81,
   "id": "267b2dc0",
   "metadata": {},
   "outputs": [
    {
     "data": {
      "text/plain": [
       "2012-03-09 14:30:00+00:00   -1.154957\n",
       "2012-03-10 14:30:00+00:00   -0.186987\n",
       "2012-03-11 13:30:00+00:00    0.194808\n",
       "2012-03-12 13:30:00+00:00    0.727439\n",
       "2012-03-13 13:30:00+00:00   -1.349499\n",
       "2012-03-14 13:30:00+00:00   -1.287083\n",
       "dtype: float64"
      ]
     },
     "execution_count": 81,
     "metadata": {},
     "output_type": "execute_result"
    }
   ],
   "source": [
    "ts_eastern = ts.tz_localize('America/New_York')\n",
    "ts_eastern.tz_convert('UTC')"
   ]
  },
  {
   "cell_type": "code",
   "execution_count": 82,
   "id": "84b23f1e",
   "metadata": {},
   "outputs": [
    {
     "data": {
      "text/plain": [
       "2012-03-09 15:30:00+01:00   -1.154957\n",
       "2012-03-10 15:30:00+01:00   -0.186987\n",
       "2012-03-11 14:30:00+01:00    0.194808\n",
       "2012-03-12 14:30:00+01:00    0.727439\n",
       "2012-03-13 14:30:00+01:00   -1.349499\n",
       "2012-03-14 14:30:00+01:00   -1.287083\n",
       "dtype: float64"
      ]
     },
     "execution_count": 82,
     "metadata": {},
     "output_type": "execute_result"
    }
   ],
   "source": [
    "ts_eastern.tz_convert('Europe/Berlin')"
   ]
  },
  {
   "cell_type": "markdown",
   "id": "1592c440",
   "metadata": {},
   "source": [
    "tz_localize and tz_convert are also instance methods on DatetimeIndex:\n"
   ]
  },
  {
   "cell_type": "code",
   "execution_count": 83,
   "id": "ec0f42f0",
   "metadata": {},
   "outputs": [
    {
     "data": {
      "text/plain": [
       "DatetimeIndex(['2012-03-09 09:30:00+08:00', '2012-03-10 09:30:00+08:00',\n",
       "               '2012-03-11 09:30:00+08:00', '2012-03-12 09:30:00+08:00',\n",
       "               '2012-03-13 09:30:00+08:00', '2012-03-14 09:30:00+08:00'],\n",
       "              dtype='datetime64[ns, Asia/Shanghai]', freq=None)"
      ]
     },
     "execution_count": 83,
     "metadata": {},
     "output_type": "execute_result"
    }
   ],
   "source": [
    "ts.index.tz_localize('Asia/Shanghai')"
   ]
  },
  {
   "cell_type": "markdown",
   "id": "9ea474ca",
   "metadata": {},
   "source": [
    "Localizing naive timestamps also checks for ambiguous or nonexistent times around daylight saving time transitions."
   ]
  },
  {
   "cell_type": "markdown",
   "id": "eafc9e44",
   "metadata": {},
   "source": [
    "## Operations with Time Zone−Aware Timestamp Objects"
   ]
  },
  {
   "cell_type": "markdown",
   "id": "f5581f8c",
   "metadata": {},
   "source": [
    "Similar to time series and date ranges, individual Timestamp objects similarly can be\n",
    "localized from naive to time zone–aware and converted from one time zone to\n",
    "another:"
   ]
  },
  {
   "cell_type": "code",
   "execution_count": 84,
   "id": "2a2939b1",
   "metadata": {},
   "outputs": [
    {
     "data": {
      "text/plain": [
       "Timestamp('2011-03-11 23:00:00-0500', tz='America/New_York')"
      ]
     },
     "execution_count": 84,
     "metadata": {},
     "output_type": "execute_result"
    }
   ],
   "source": [
    "stamp = pd.Timestamp('2011-03-12 04:00')\n",
    "stamp_utc = stamp.tz_localize('utc')\n",
    "stamp_utc.tz_convert('America/New_York')"
   ]
  },
  {
   "cell_type": "markdown",
   "id": "b387a30f",
   "metadata": {},
   "source": [
    "You can also pass a time zone when creating the Timestamp:"
   ]
  },
  {
   "cell_type": "code",
   "execution_count": 85,
   "id": "0a6e53fa",
   "metadata": {},
   "outputs": [
    {
     "data": {
      "text/plain": [
       "Timestamp('2011-03-12 04:00:00+0300', tz='Europe/Moscow')"
      ]
     },
     "execution_count": 85,
     "metadata": {},
     "output_type": "execute_result"
    }
   ],
   "source": [
    "stamp_moscow = pd.Timestamp('2011-03-12 04:00', tz='Europe/Moscow')\n",
    "stamp_moscow"
   ]
  },
  {
   "cell_type": "markdown",
   "id": "826f6e30",
   "metadata": {},
   "source": [
    "Time zone–aware Timestamp objects internally store a UTC timestamp value as nano‐\n",
    "seconds since the Unix epoch (January 1, 1970); this UTC value is invariant between\n",
    "time zone conversions:"
   ]
  },
  {
   "cell_type": "code",
   "execution_count": 86,
   "id": "ab815331",
   "metadata": {},
   "outputs": [
    {
     "data": {
      "text/plain": [
       "1299902400000000000"
      ]
     },
     "execution_count": 86,
     "metadata": {},
     "output_type": "execute_result"
    }
   ],
   "source": [
    " stamp_utc.value"
   ]
  },
  {
   "cell_type": "code",
   "execution_count": 87,
   "id": "64f4cc34",
   "metadata": {},
   "outputs": [
    {
     "data": {
      "text/plain": [
       "1299902400000000000"
      ]
     },
     "execution_count": 87,
     "metadata": {},
     "output_type": "execute_result"
    }
   ],
   "source": [
    "stamp_utc.tz_convert('America/New_York').value"
   ]
  },
  {
   "cell_type": "markdown",
   "id": "306122fc",
   "metadata": {},
   "source": [
    "When performing time arithmetic using pandas’s DateOffset objects, pandas\n",
    "respects daylight saving time transitions where possible. Here we construct time‐\n",
    "stamps that occur right before DST transitions (forward and backward). First, 30\n",
    "minutes before transitioning to DST:"
   ]
  },
  {
   "cell_type": "code",
   "execution_count": 88,
   "id": "4cdd4c60",
   "metadata": {},
   "outputs": [
    {
     "data": {
      "text/plain": [
       "Timestamp('2012-03-12 01:30:00-0400', tz='US/Eastern')"
      ]
     },
     "execution_count": 88,
     "metadata": {},
     "output_type": "execute_result"
    }
   ],
   "source": [
    "from pandas.tseries.offsets import Hour\n",
    "stamp = pd.Timestamp('2012-03-12 01:30', tz='US/Eastern')\n",
    "stamp"
   ]
  },
  {
   "cell_type": "code",
   "execution_count": 89,
   "id": "c8a66577",
   "metadata": {},
   "outputs": [
    {
     "data": {
      "text/plain": [
       "Timestamp('2012-03-12 02:30:00-0400', tz='US/Eastern')"
      ]
     },
     "execution_count": 89,
     "metadata": {},
     "output_type": "execute_result"
    }
   ],
   "source": [
    "stamp + Hour()"
   ]
  },
  {
   "cell_type": "markdown",
   "id": "81cf2d4b",
   "metadata": {},
   "source": [
    "Then, 90 minutes before transitioning out of DST:"
   ]
  },
  {
   "cell_type": "code",
   "execution_count": 90,
   "id": "be050b4c",
   "metadata": {},
   "outputs": [
    {
     "data": {
      "text/plain": [
       "Timestamp('2012-11-04 00:30:00-0400', tz='US/Eastern')"
      ]
     },
     "execution_count": 90,
     "metadata": {},
     "output_type": "execute_result"
    }
   ],
   "source": [
    "stamp = pd.Timestamp('2012-11-04 00:30', tz='US/Eastern')\n",
    "stamp"
   ]
  },
  {
   "cell_type": "code",
   "execution_count": 91,
   "id": "792cb559",
   "metadata": {},
   "outputs": [
    {
     "data": {
      "text/plain": [
       "Timestamp('2012-11-04 01:30:00-0500', tz='US/Eastern')"
      ]
     },
     "execution_count": 91,
     "metadata": {},
     "output_type": "execute_result"
    }
   ],
   "source": [
    "stamp + 2 * Hour()"
   ]
  },
  {
   "cell_type": "markdown",
   "id": "b79beaed",
   "metadata": {},
   "source": [
    "### Operations Between Different Time Zones"
   ]
  },
  {
   "cell_type": "markdown",
   "id": "1419f33a",
   "metadata": {},
   "source": [
    "If two time series with different time zones are combined, the result will be UTC.\n",
    "Since the timestamps are stored under the hood in UTC, this is a straightforward\n",
    "operation and requires no conversion to happen"
   ]
  },
  {
   "cell_type": "code",
   "execution_count": 92,
   "id": "e40c7171",
   "metadata": {},
   "outputs": [
    {
     "data": {
      "text/plain": [
       "2012-03-07 09:30:00    0.072059\n",
       "2012-03-08 09:30:00    0.598185\n",
       "2012-03-09 09:30:00    0.196023\n",
       "2012-03-12 09:30:00    0.149662\n",
       "2012-03-13 09:30:00    0.059188\n",
       "2012-03-14 09:30:00    0.382524\n",
       "2012-03-15 09:30:00   -0.570695\n",
       "2012-03-16 09:30:00    0.350340\n",
       "2012-03-19 09:30:00   -0.235916\n",
       "2012-03-20 09:30:00   -1.174515\n",
       "Freq: B, dtype: float64"
      ]
     },
     "execution_count": 92,
     "metadata": {},
     "output_type": "execute_result"
    }
   ],
   "source": [
    "rng = pd.date_range('3/7/2012 9:30', periods=10, freq='B')\n",
    "ts = pd.Series(np.random.randn(len(rng)), index=rng)\n",
    "ts"
   ]
  },
  {
   "cell_type": "code",
   "execution_count": 93,
   "id": "1557d209",
   "metadata": {},
   "outputs": [
    {
     "data": {
      "text/plain": [
       "DatetimeIndex(['2012-03-07 09:30:00+00:00', '2012-03-08 09:30:00+00:00',\n",
       "               '2012-03-09 09:30:00+00:00', '2012-03-12 09:30:00+00:00',\n",
       "               '2012-03-13 09:30:00+00:00', '2012-03-14 09:30:00+00:00',\n",
       "               '2012-03-15 09:30:00+00:00'],\n",
       "              dtype='datetime64[ns, UTC]', freq=None)"
      ]
     },
     "execution_count": 93,
     "metadata": {},
     "output_type": "execute_result"
    }
   ],
   "source": [
    "ts1 = ts[:7].tz_localize('Europe/London')\n",
    "ts2 = ts1[2:].tz_convert('Europe/Moscow')\n",
    "result = ts1 + ts2\n",
    "result.index"
   ]
  },
  {
   "cell_type": "markdown",
   "id": "ff2940c0",
   "metadata": {},
   "source": [
    "## 11.5 Periods and Period Arithmetic"
   ]
  },
  {
   "cell_type": "markdown",
   "id": "a284a155",
   "metadata": {},
   "source": [
    "Periods represent timespans, like days, months, quarters, or years. The Period class\n",
    "represents this data type, requiring a string or integer and a frequency from\n",
    "Table 11-4:"
   ]
  },
  {
   "cell_type": "code",
   "execution_count": 94,
   "id": "2746cb8d",
   "metadata": {},
   "outputs": [
    {
     "data": {
      "text/plain": [
       "Period('2007', 'A-DEC')"
      ]
     },
     "execution_count": 94,
     "metadata": {},
     "output_type": "execute_result"
    }
   ],
   "source": [
    "p = pd.Period(2007, freq='A-DEC')\n",
    "p"
   ]
  },
  {
   "cell_type": "markdown",
   "id": "af928a5e",
   "metadata": {},
   "source": [
    "In this case, the Period object represents the full timespan from January 1, 2007, to\n",
    "December 31, 2007, inclusive. Conveniently, adding and subtracting integers from\n",
    "periods has the effect of shifting by their frequency:"
   ]
  },
  {
   "cell_type": "code",
   "execution_count": 95,
   "id": "f67d5239",
   "metadata": {},
   "outputs": [
    {
     "data": {
      "text/plain": [
       "Period('2012', 'A-DEC')"
      ]
     },
     "execution_count": 95,
     "metadata": {},
     "output_type": "execute_result"
    }
   ],
   "source": [
    "p + 5"
   ]
  },
  {
   "cell_type": "code",
   "execution_count": 96,
   "id": "b0f5987f",
   "metadata": {},
   "outputs": [
    {
     "data": {
      "text/plain": [
       "Period('2005', 'A-DEC')"
      ]
     },
     "execution_count": 96,
     "metadata": {},
     "output_type": "execute_result"
    }
   ],
   "source": [
    "p-2"
   ]
  },
  {
   "cell_type": "markdown",
   "id": "4c08519d",
   "metadata": {},
   "source": [
    "If two periods have the same frequency, their difference is the number of units\n",
    "between them:"
   ]
  },
  {
   "cell_type": "code",
   "execution_count": 97,
   "id": "a745f2c8",
   "metadata": {},
   "outputs": [
    {
     "data": {
      "text/plain": [
       "<7 * YearEnds: month=12>"
      ]
     },
     "execution_count": 97,
     "metadata": {},
     "output_type": "execute_result"
    }
   ],
   "source": [
    "pd.Period('2014', freq='A-DEC') - p"
   ]
  },
  {
   "cell_type": "markdown",
   "id": "1627c2a7",
   "metadata": {},
   "source": [
    "Regular ranges of periods can be constructed with the period_range function:"
   ]
  },
  {
   "cell_type": "code",
   "execution_count": 98,
   "id": "2c0474bb",
   "metadata": {},
   "outputs": [
    {
     "data": {
      "text/plain": [
       "PeriodIndex(['2000-01', '2000-02', '2000-03', '2000-04', '2000-05', '2000-06'], dtype='period[M]', freq='M')"
      ]
     },
     "execution_count": 98,
     "metadata": {},
     "output_type": "execute_result"
    }
   ],
   "source": [
    "rng = pd.period_range('2000-01-01', '2000-06-30', freq='M')\n",
    "rng"
   ]
  },
  {
   "cell_type": "markdown",
   "id": "dbc50e62",
   "metadata": {},
   "source": [
    "The PeriodIndex class stores a sequence of periods and can serve as an axis index in\n",
    "any pandas data structure:"
   ]
  },
  {
   "cell_type": "code",
   "execution_count": 99,
   "id": "0400ef7f",
   "metadata": {},
   "outputs": [
    {
     "data": {
      "text/plain": [
       "2000-01   -1.319643\n",
       "2000-02    0.131387\n",
       "2000-03   -1.580386\n",
       "2000-04    0.757776\n",
       "2000-05    0.914582\n",
       "2000-06    1.310156\n",
       "Freq: M, dtype: float64"
      ]
     },
     "execution_count": 99,
     "metadata": {},
     "output_type": "execute_result"
    }
   ],
   "source": [
    "pd.Series(np.random.randn(6), index=rng)"
   ]
  },
  {
   "cell_type": "markdown",
   "id": "e129ff1a",
   "metadata": {},
   "source": [
    "If you have an array of strings, you can also use the PeriodIndex class:"
   ]
  },
  {
   "cell_type": "code",
   "execution_count": 100,
   "id": "846e03f3",
   "metadata": {},
   "outputs": [
    {
     "data": {
      "text/plain": [
       "PeriodIndex(['2001Q3', '2002Q2', '2003Q1'], dtype='period[Q-DEC]', freq='Q-DEC')"
      ]
     },
     "execution_count": 100,
     "metadata": {},
     "output_type": "execute_result"
    }
   ],
   "source": [
    "values = ['2001Q3', '2002Q2', '2003Q1']\n",
    "index = pd.PeriodIndex(values, freq='Q-DEC')\n",
    "index"
   ]
  },
  {
   "cell_type": "markdown",
   "id": "feaaf5c2",
   "metadata": {},
   "source": [
    "## Period Frequency Conversion"
   ]
  },
  {
   "cell_type": "markdown",
   "id": "a1c18df7",
   "metadata": {},
   "source": [
    "Periods and PeriodIndex objects can be converted to another frequency with their\n",
    "asfreq method. As an example, suppose we had an annual period and wanted to convert it into a monthly period either at the start or end of the year. This is fairly\n",
    "straightforward:"
   ]
  },
  {
   "cell_type": "code",
   "execution_count": 101,
   "id": "8fba1fac",
   "metadata": {},
   "outputs": [
    {
     "data": {
      "text/plain": [
       "Period('2007', 'A-DEC')"
      ]
     },
     "execution_count": 101,
     "metadata": {},
     "output_type": "execute_result"
    }
   ],
   "source": [
    "p = pd.Period('2007', freq='A-DEC')\n",
    "p"
   ]
  },
  {
   "cell_type": "code",
   "execution_count": 102,
   "id": "b0a5c98b",
   "metadata": {},
   "outputs": [
    {
     "data": {
      "text/plain": [
       "Period('2007-12', 'M')"
      ]
     },
     "execution_count": 102,
     "metadata": {},
     "output_type": "execute_result"
    }
   ],
   "source": [
    "p.asfreq('M', how='start')\n",
    "pd.Period('2007-01', 'M')\n",
    "p.asfreq('M', how='end')"
   ]
  },
  {
   "cell_type": "markdown",
   "id": "67cc9f1b",
   "metadata": {},
   "source": [
    "You can think of Period('2007', 'A-DEC') as being a sort of cursor pointing to a\n",
    "span of time, subdivided by monthly periods. See Figure 11-1 for an illustration of\n",
    "this. For a fiscal year ending on a month other than December, the corresponding\n",
    "monthly subperiods are different:\n"
   ]
  },
  {
   "cell_type": "code",
   "execution_count": 103,
   "id": "4db8cd85",
   "metadata": {},
   "outputs": [
    {
     "data": {
      "text/plain": [
       "Period('2007', 'A-JUN')"
      ]
     },
     "execution_count": 103,
     "metadata": {},
     "output_type": "execute_result"
    }
   ],
   "source": [
    "p = pd.Period('2007', freq='A-JUN')\n",
    "p"
   ]
  },
  {
   "cell_type": "code",
   "execution_count": 104,
   "id": "5d621d15",
   "metadata": {},
   "outputs": [
    {
     "data": {
      "text/plain": [
       "Period('2006-07', 'M')"
      ]
     },
     "execution_count": 104,
     "metadata": {},
     "output_type": "execute_result"
    }
   ],
   "source": [
    " p.asfreq('M', 'start')"
   ]
  },
  {
   "cell_type": "code",
   "execution_count": 105,
   "id": "7e4e5716",
   "metadata": {},
   "outputs": [
    {
     "data": {
      "text/plain": [
       "Period('2007-06', 'M')"
      ]
     },
     "execution_count": 105,
     "metadata": {},
     "output_type": "execute_result"
    }
   ],
   "source": [
    "p.asfreq('M', 'end')"
   ]
  },
  {
   "cell_type": "markdown",
   "id": "c4b1ee34",
   "metadata": {},
   "source": [
    "When you are converting from high to low frequency, pandas determines the super‐\n",
    "period depending on where the subperiod “belongs.” For example, in A-JUN fre‐\n",
    "quency, the month Aug-2007 is actually part of the 2008 period:"
   ]
  },
  {
   "cell_type": "code",
   "execution_count": 106,
   "id": "719094fc",
   "metadata": {},
   "outputs": [
    {
     "data": {
      "text/plain": [
       "Period('2008', 'A-JUN')"
      ]
     },
     "execution_count": 106,
     "metadata": {},
     "output_type": "execute_result"
    }
   ],
   "source": [
    "p = pd.Period('Aug-2007', 'M')\n",
    "p.asfreq('A-JUN')"
   ]
  },
  {
   "cell_type": "markdown",
   "id": "8f263142",
   "metadata": {},
   "source": [
    "Whole PeriodIndex objects or time series can be similarly converted with the same\n",
    "semantics:"
   ]
  },
  {
   "cell_type": "code",
   "execution_count": 107,
   "id": "92cc38c7",
   "metadata": {},
   "outputs": [
    {
     "data": {
      "text/plain": [
       "2006    1.483915\n",
       "2007    0.512632\n",
       "2008    0.678113\n",
       "2009    0.164507\n",
       "Freq: A-DEC, dtype: float64"
      ]
     },
     "execution_count": 107,
     "metadata": {},
     "output_type": "execute_result"
    }
   ],
   "source": [
    "rng = pd.period_range('2006', '2009', freq='A-DEC')\n",
    "ts = pd.Series(np.random.randn(len(rng)), index=rng)\n",
    "ts"
   ]
  },
  {
   "cell_type": "code",
   "execution_count": 108,
   "id": "a5207a5b",
   "metadata": {},
   "outputs": [
    {
     "data": {
      "text/plain": [
       "2006-01    1.483915\n",
       "2007-01    0.512632\n",
       "2008-01    0.678113\n",
       "2009-01    0.164507\n",
       "Freq: M, dtype: float64"
      ]
     },
     "execution_count": 108,
     "metadata": {},
     "output_type": "execute_result"
    }
   ],
   "source": [
    "ts.asfreq('M', how='start')"
   ]
  },
  {
   "cell_type": "markdown",
   "id": "5c1b7fa6",
   "metadata": {},
   "source": [
    "Here, the annual periods are replaced with monthly periods corresponding to the first\n",
    "month falling within each annual period. If we instead wanted the last business day of\n",
    "each year, we can use the 'B' frequency and indicate that we want the end of the\n",
    "period:"
   ]
  },
  {
   "cell_type": "code",
   "execution_count": 109,
   "id": "b65115ba",
   "metadata": {},
   "outputs": [
    {
     "data": {
      "text/plain": [
       "2006-12-29    1.483915\n",
       "2007-12-31    0.512632\n",
       "2008-12-31    0.678113\n",
       "2009-12-31    0.164507\n",
       "Freq: B, dtype: float64"
      ]
     },
     "execution_count": 109,
     "metadata": {},
     "output_type": "execute_result"
    }
   ],
   "source": [
    "ts.asfreq('B', how='end')"
   ]
  },
  {
   "cell_type": "markdown",
   "id": "cb669d4b",
   "metadata": {},
   "source": [
    "## Quarterly Period Frequencies"
   ]
  },
  {
   "cell_type": "markdown",
   "id": "18fb25b1",
   "metadata": {},
   "source": [
    "Quarterly data is standard in accounting, finance, and other fields. Much quarterly\n",
    "data is reported relative to a fiscal year end, typically the last calendar or business day\n",
    "of one of the 12 months of the year. Thus, the period 2012Q4 has a different meaning\n",
    "depending on fiscal year end. pandas supports all 12 possible quarterly frequencies as\n",
    "Q-JAN through Q-DEC:"
   ]
  },
  {
   "cell_type": "code",
   "execution_count": 110,
   "id": "0351f96f",
   "metadata": {},
   "outputs": [
    {
     "data": {
      "text/plain": [
       "Period('2012Q4', 'Q-JAN')"
      ]
     },
     "execution_count": 110,
     "metadata": {},
     "output_type": "execute_result"
    }
   ],
   "source": [
    "p = pd.Period('2012Q4', freq='Q-JAN')\n",
    "p"
   ]
  },
  {
   "cell_type": "markdown",
   "id": "243835bf",
   "metadata": {},
   "source": [
    "In the case of fiscal year ending in January, 2012Q4 runs from November through Jan‐\n",
    "uary, which you can check by converting to daily frequency. See Figure 11-2 for an\n",
    "illustration."
   ]
  },
  {
   "cell_type": "code",
   "execution_count": 111,
   "id": "576ec77e",
   "metadata": {},
   "outputs": [
    {
     "data": {
      "text/plain": [
       "Period('2011-11-01', 'D')"
      ]
     },
     "execution_count": 111,
     "metadata": {},
     "output_type": "execute_result"
    }
   ],
   "source": [
    "p.asfreq('D', 'start')"
   ]
  },
  {
   "cell_type": "code",
   "execution_count": 112,
   "id": "75611543",
   "metadata": {},
   "outputs": [
    {
     "data": {
      "text/plain": [
       "Period('2012-01-31', 'D')"
      ]
     },
     "execution_count": 112,
     "metadata": {},
     "output_type": "execute_result"
    }
   ],
   "source": [
    "p.asfreq('D', 'end')"
   ]
  },
  {
   "cell_type": "markdown",
   "id": "1fd6da66",
   "metadata": {},
   "source": [
    "Thus, it’s possible to do easy period arithmetic; for example, to get the timestamp at 4\n",
    "PM on the second-to-last business day of the quarter, you could do:"
   ]
  },
  {
   "cell_type": "code",
   "execution_count": 113,
   "id": "b55a7ee4",
   "metadata": {},
   "outputs": [
    {
     "data": {
      "text/plain": [
       "Period('2012-01-30 16:00', 'T')"
      ]
     },
     "execution_count": 113,
     "metadata": {},
     "output_type": "execute_result"
    }
   ],
   "source": [
    "p4pm = (p.asfreq('B', 'e') - 1).asfreq('T', 's') + 16 * 60\n",
    "p4pm"
   ]
  },
  {
   "cell_type": "code",
   "execution_count": 114,
   "id": "c6861e99",
   "metadata": {},
   "outputs": [
    {
     "data": {
      "text/plain": [
       "Timestamp('2012-01-30 16:00:00')"
      ]
     },
     "execution_count": 114,
     "metadata": {},
     "output_type": "execute_result"
    }
   ],
   "source": [
    "p4pm.to_timestamp()"
   ]
  },
  {
   "cell_type": "markdown",
   "id": "8ae4f86b",
   "metadata": {},
   "source": [
    "You can generate quarterly ranges using period_range. Arithmetic is identical, too:"
   ]
  },
  {
   "cell_type": "code",
   "execution_count": 115,
   "id": "7d057d40",
   "metadata": {},
   "outputs": [
    {
     "data": {
      "text/plain": [
       "2011Q3    0\n",
       "2011Q4    1\n",
       "2012Q1    2\n",
       "2012Q2    3\n",
       "2012Q3    4\n",
       "2012Q4    5\n",
       "Freq: Q-JAN, dtype: int32"
      ]
     },
     "execution_count": 115,
     "metadata": {},
     "output_type": "execute_result"
    }
   ],
   "source": [
    "rng = pd.period_range('2011Q3', '2012Q4', freq='Q-JAN')\n",
    "ts = pd.Series(np.arange(len(rng)), index=rng)\n",
    "ts"
   ]
  },
  {
   "cell_type": "code",
   "execution_count": 116,
   "id": "ff6bfe4b",
   "metadata": {},
   "outputs": [],
   "source": [
    "new_rng = (rng.asfreq('B', 'e') - 1).asfreq('T', 's') + 16 * 60\n",
    "ts.index = new_rng.to_timestamp()"
   ]
  },
  {
   "cell_type": "code",
   "execution_count": 117,
   "id": "b12ba3fe",
   "metadata": {},
   "outputs": [
    {
     "data": {
      "text/plain": [
       "2010-10-28 16:00:00    0\n",
       "2011-01-28 16:00:00    1\n",
       "2011-04-28 16:00:00    2\n",
       "2011-07-28 16:00:00    3\n",
       "2011-10-28 16:00:00    4\n",
       "2012-01-30 16:00:00    5\n",
       "dtype: int32"
      ]
     },
     "execution_count": 117,
     "metadata": {},
     "output_type": "execute_result"
    }
   ],
   "source": [
    "ts"
   ]
  },
  {
   "cell_type": "markdown",
   "id": "02483a8e",
   "metadata": {},
   "source": [
    "## Converting Timestamps to Periods (and Back)"
   ]
  },
  {
   "cell_type": "markdown",
   "id": "2dcafbd9",
   "metadata": {},
   "source": [
    "Series and DataFrame objects indexed by timestamps can be converted to periods\n",
    "with the to_period method:"
   ]
  },
  {
   "cell_type": "code",
   "execution_count": 118,
   "id": "46baa15e",
   "metadata": {},
   "outputs": [
    {
     "data": {
      "text/plain": [
       "2000-01-31    0.584168\n",
       "2000-02-29    1.238434\n",
       "2000-03-31   -1.390172\n",
       "Freq: M, dtype: float64"
      ]
     },
     "execution_count": 118,
     "metadata": {},
     "output_type": "execute_result"
    }
   ],
   "source": [
    "rng = pd.date_range('2000-01-01', periods=3, freq='M')\n",
    "ts = pd.Series(np.random.randn(3), index=rng)\n",
    "ts"
   ]
  },
  {
   "cell_type": "code",
   "execution_count": 119,
   "id": "7992156f",
   "metadata": {},
   "outputs": [
    {
     "data": {
      "text/plain": [
       "2000-01    0.584168\n",
       "2000-02    1.238434\n",
       "2000-03   -1.390172\n",
       "Freq: M, dtype: float64"
      ]
     },
     "execution_count": 119,
     "metadata": {},
     "output_type": "execute_result"
    }
   ],
   "source": [
    "pts = ts.to_period()\n",
    "pts"
   ]
  },
  {
   "cell_type": "markdown",
   "id": "b160d4eb",
   "metadata": {},
   "source": [
    "Since periods refer to non-overlapping timespans, a timestamp can only belong to a\n",
    "single period for a given frequency. While the frequency of the new PeriodIndex is\n",
    "inferred from the timestamps by default, you can specify any frequency you want.\n",
    "There is also no problem with having duplicate periods in the result:"
   ]
  },
  {
   "cell_type": "code",
   "execution_count": 120,
   "id": "4f19f018",
   "metadata": {},
   "outputs": [
    {
     "data": {
      "text/plain": [
       "2000-01-29    0.771349\n",
       "2000-01-30    0.682887\n",
       "2000-01-31   -0.775785\n",
       "2000-02-01   -0.653481\n",
       "2000-02-02    0.495912\n",
       "2000-02-03    1.228593\n",
       "Freq: D, dtype: float64"
      ]
     },
     "execution_count": 120,
     "metadata": {},
     "output_type": "execute_result"
    }
   ],
   "source": [
    "rng = pd.date_range('1/29/2000', periods=6, freq='D')\n",
    "ts2 = pd.Series(np.random.randn(6), index=rng)\n",
    "ts2"
   ]
  },
  {
   "cell_type": "code",
   "execution_count": 121,
   "id": "028af261",
   "metadata": {},
   "outputs": [
    {
     "data": {
      "text/plain": [
       "2000-01    0.771349\n",
       "2000-01    0.682887\n",
       "2000-01   -0.775785\n",
       "2000-02   -0.653481\n",
       "2000-02    0.495912\n",
       "2000-02    1.228593\n",
       "Freq: M, dtype: float64"
      ]
     },
     "execution_count": 121,
     "metadata": {},
     "output_type": "execute_result"
    }
   ],
   "source": [
    "ts2.to_period('M')"
   ]
  },
  {
   "cell_type": "markdown",
   "id": "ed5f94b0",
   "metadata": {},
   "source": [
    "To convert back to timestamps, use to_timestamp:"
   ]
  },
  {
   "cell_type": "code",
   "execution_count": 122,
   "id": "280dc51b",
   "metadata": {},
   "outputs": [
    {
     "data": {
      "text/plain": [
       "2000-01-29    0.771349\n",
       "2000-01-30    0.682887\n",
       "2000-01-31   -0.775785\n",
       "2000-02-01   -0.653481\n",
       "2000-02-02    0.495912\n",
       "2000-02-03    1.228593\n",
       "Freq: D, dtype: float64"
      ]
     },
     "execution_count": 122,
     "metadata": {},
     "output_type": "execute_result"
    }
   ],
   "source": [
    "pts = ts2.to_period()\n",
    "pts"
   ]
  },
  {
   "cell_type": "code",
   "execution_count": 123,
   "id": "49eee6f3",
   "metadata": {},
   "outputs": [
    {
     "data": {
      "text/plain": [
       "2000-01-29 23:59:59.999999999    0.771349\n",
       "2000-01-30 23:59:59.999999999    0.682887\n",
       "2000-01-31 23:59:59.999999999   -0.775785\n",
       "2000-02-01 23:59:59.999999999   -0.653481\n",
       "2000-02-02 23:59:59.999999999    0.495912\n",
       "2000-02-03 23:59:59.999999999    1.228593\n",
       "Freq: D, dtype: float64"
      ]
     },
     "execution_count": 123,
     "metadata": {},
     "output_type": "execute_result"
    }
   ],
   "source": [
    "pts.to_timestamp(how='end')"
   ]
  },
  {
   "cell_type": "markdown",
   "id": "92b30cae",
   "metadata": {},
   "source": [
    "### Creating a PeriodIndex from Arrays"
   ]
  },
  {
   "cell_type": "markdown",
   "id": "e988a8e6",
   "metadata": {},
   "source": [
    "Fixed frequency datasets are sometimes stored with timespan information spread\n",
    "across multiple columns. For example, in this macroeconomic dataset, the year and\n",
    "quarter are in different columns:"
   ]
  },
  {
   "cell_type": "code",
   "execution_count": 124,
   "id": "041c1196",
   "metadata": {},
   "outputs": [
    {
     "data": {
      "text/html": [
       "<div>\n",
       "<style scoped>\n",
       "    .dataframe tbody tr th:only-of-type {\n",
       "        vertical-align: middle;\n",
       "    }\n",
       "\n",
       "    .dataframe tbody tr th {\n",
       "        vertical-align: top;\n",
       "    }\n",
       "\n",
       "    .dataframe thead th {\n",
       "        text-align: right;\n",
       "    }\n",
       "</style>\n",
       "<table border=\"1\" class=\"dataframe\">\n",
       "  <thead>\n",
       "    <tr style=\"text-align: right;\">\n",
       "      <th></th>\n",
       "      <th>year</th>\n",
       "      <th>quarter</th>\n",
       "      <th>realgdp</th>\n",
       "      <th>realcons</th>\n",
       "      <th>realinv</th>\n",
       "      <th>realgovt</th>\n",
       "      <th>realdpi</th>\n",
       "      <th>cpi</th>\n",
       "      <th>m1</th>\n",
       "      <th>tbilrate</th>\n",
       "      <th>unemp</th>\n",
       "      <th>pop</th>\n",
       "      <th>infl</th>\n",
       "      <th>realint</th>\n",
       "    </tr>\n",
       "  </thead>\n",
       "  <tbody>\n",
       "    <tr>\n",
       "      <th>0</th>\n",
       "      <td>1959.0</td>\n",
       "      <td>1.0</td>\n",
       "      <td>2710.349</td>\n",
       "      <td>1707.4</td>\n",
       "      <td>286.898</td>\n",
       "      <td>470.045</td>\n",
       "      <td>1886.9</td>\n",
       "      <td>28.98</td>\n",
       "      <td>139.7</td>\n",
       "      <td>2.82</td>\n",
       "      <td>5.8</td>\n",
       "      <td>177.146</td>\n",
       "      <td>0.00</td>\n",
       "      <td>0.00</td>\n",
       "    </tr>\n",
       "    <tr>\n",
       "      <th>1</th>\n",
       "      <td>1959.0</td>\n",
       "      <td>2.0</td>\n",
       "      <td>2778.801</td>\n",
       "      <td>1733.7</td>\n",
       "      <td>310.859</td>\n",
       "      <td>481.301</td>\n",
       "      <td>1919.7</td>\n",
       "      <td>29.15</td>\n",
       "      <td>141.7</td>\n",
       "      <td>3.08</td>\n",
       "      <td>5.1</td>\n",
       "      <td>177.830</td>\n",
       "      <td>2.34</td>\n",
       "      <td>0.74</td>\n",
       "    </tr>\n",
       "    <tr>\n",
       "      <th>2</th>\n",
       "      <td>1959.0</td>\n",
       "      <td>3.0</td>\n",
       "      <td>2775.488</td>\n",
       "      <td>1751.8</td>\n",
       "      <td>289.226</td>\n",
       "      <td>491.260</td>\n",
       "      <td>1916.4</td>\n",
       "      <td>29.35</td>\n",
       "      <td>140.5</td>\n",
       "      <td>3.82</td>\n",
       "      <td>5.3</td>\n",
       "      <td>178.657</td>\n",
       "      <td>2.74</td>\n",
       "      <td>1.09</td>\n",
       "    </tr>\n",
       "    <tr>\n",
       "      <th>3</th>\n",
       "      <td>1959.0</td>\n",
       "      <td>4.0</td>\n",
       "      <td>2785.204</td>\n",
       "      <td>1753.7</td>\n",
       "      <td>299.356</td>\n",
       "      <td>484.052</td>\n",
       "      <td>1931.3</td>\n",
       "      <td>29.37</td>\n",
       "      <td>140.0</td>\n",
       "      <td>4.33</td>\n",
       "      <td>5.6</td>\n",
       "      <td>179.386</td>\n",
       "      <td>0.27</td>\n",
       "      <td>4.06</td>\n",
       "    </tr>\n",
       "    <tr>\n",
       "      <th>4</th>\n",
       "      <td>1960.0</td>\n",
       "      <td>1.0</td>\n",
       "      <td>2847.699</td>\n",
       "      <td>1770.5</td>\n",
       "      <td>331.722</td>\n",
       "      <td>462.199</td>\n",
       "      <td>1955.5</td>\n",
       "      <td>29.54</td>\n",
       "      <td>139.6</td>\n",
       "      <td>3.50</td>\n",
       "      <td>5.2</td>\n",
       "      <td>180.007</td>\n",
       "      <td>2.31</td>\n",
       "      <td>1.19</td>\n",
       "    </tr>\n",
       "  </tbody>\n",
       "</table>\n",
       "</div>"
      ],
      "text/plain": [
       "     year  quarter   realgdp  realcons  realinv  realgovt  realdpi    cpi  \\\n",
       "0  1959.0      1.0  2710.349    1707.4  286.898   470.045   1886.9  28.98   \n",
       "1  1959.0      2.0  2778.801    1733.7  310.859   481.301   1919.7  29.15   \n",
       "2  1959.0      3.0  2775.488    1751.8  289.226   491.260   1916.4  29.35   \n",
       "3  1959.0      4.0  2785.204    1753.7  299.356   484.052   1931.3  29.37   \n",
       "4  1960.0      1.0  2847.699    1770.5  331.722   462.199   1955.5  29.54   \n",
       "\n",
       "      m1  tbilrate  unemp      pop  infl  realint  \n",
       "0  139.7      2.82    5.8  177.146  0.00     0.00  \n",
       "1  141.7      3.08    5.1  177.830  2.34     0.74  \n",
       "2  140.5      3.82    5.3  178.657  2.74     1.09  \n",
       "3  140.0      4.33    5.6  179.386  0.27     4.06  \n",
       "4  139.6      3.50    5.2  180.007  2.31     1.19  "
      ]
     },
     "execution_count": 124,
     "metadata": {},
     "output_type": "execute_result"
    }
   ],
   "source": [
    "data = pd.read_csv('macrodata.csv')\n",
    "data.head(5)"
   ]
  },
  {
   "cell_type": "code",
   "execution_count": 125,
   "id": "efe2c45e",
   "metadata": {},
   "outputs": [
    {
     "data": {
      "text/plain": [
       "0      1959.0\n",
       "1      1959.0\n",
       "2      1959.0\n",
       "3      1959.0\n",
       "4      1960.0\n",
       "        ...  \n",
       "198    2008.0\n",
       "199    2008.0\n",
       "200    2009.0\n",
       "201    2009.0\n",
       "202    2009.0\n",
       "Name: year, Length: 203, dtype: float64"
      ]
     },
     "execution_count": 125,
     "metadata": {},
     "output_type": "execute_result"
    }
   ],
   "source": [
    "data.year\n"
   ]
  },
  {
   "cell_type": "code",
   "execution_count": 126,
   "id": "8c4237dd",
   "metadata": {},
   "outputs": [
    {
     "data": {
      "text/plain": [
       "0      1.0\n",
       "1      2.0\n",
       "2      3.0\n",
       "3      4.0\n",
       "4      1.0\n",
       "      ... \n",
       "198    3.0\n",
       "199    4.0\n",
       "200    1.0\n",
       "201    2.0\n",
       "202    3.0\n",
       "Name: quarter, Length: 203, dtype: float64"
      ]
     },
     "execution_count": 126,
     "metadata": {},
     "output_type": "execute_result"
    }
   ],
   "source": [
    "data.quarter"
   ]
  },
  {
   "cell_type": "markdown",
   "id": "b8da969c",
   "metadata": {},
   "source": [
    "By passing these arrays to PeriodIndex with a frequency, you can combine them to\n",
    "form an index for the DataFrame:"
   ]
  },
  {
   "cell_type": "code",
   "execution_count": 127,
   "id": "a0a49193",
   "metadata": {},
   "outputs": [
    {
     "data": {
      "text/plain": [
       "PeriodIndex(['1959Q1', '1959Q2', '1959Q3', '1959Q4', '1960Q1', '1960Q2',\n",
       "             '1960Q3', '1960Q4', '1961Q1', '1961Q2',\n",
       "             ...\n",
       "             '2007Q2', '2007Q3', '2007Q4', '2008Q1', '2008Q2', '2008Q3',\n",
       "             '2008Q4', '2009Q1', '2009Q2', '2009Q3'],\n",
       "            dtype='period[Q-DEC]', length=203, freq='Q-DEC')"
      ]
     },
     "execution_count": 127,
     "metadata": {},
     "output_type": "execute_result"
    }
   ],
   "source": [
    "index = pd.PeriodIndex(year=data.year, quarter=data.quarter,freq='Q-DEC')\n",
    "index"
   ]
  },
  {
   "cell_type": "code",
   "execution_count": 128,
   "id": "50e0812a",
   "metadata": {},
   "outputs": [
    {
     "data": {
      "text/plain": [
       "1959Q1    0.00\n",
       "1959Q2    2.34\n",
       "1959Q3    2.74\n",
       "1959Q4    0.27\n",
       "1960Q1    2.31\n",
       "          ... \n",
       "2008Q3   -3.16\n",
       "2008Q4   -8.79\n",
       "2009Q1    0.94\n",
       "2009Q2    3.37\n",
       "2009Q3    3.56\n",
       "Freq: Q-DEC, Name: infl, Length: 203, dtype: float64"
      ]
     },
     "execution_count": 128,
     "metadata": {},
     "output_type": "execute_result"
    }
   ],
   "source": [
    "data.index = index\n",
    "data.infl"
   ]
  },
  {
   "cell_type": "markdown",
   "id": "800f9770",
   "metadata": {},
   "source": [
    "## 11.6 Resampling and Frequency Conversion"
   ]
  },
  {
   "cell_type": "markdown",
   "id": "52e80d50",
   "metadata": {},
   "source": [
    "Resampling refers to the process of converting a time series from one frequency to\n",
    "another. Aggregating higher frequency data to lower frequency is called downsam‐\n",
    "pling, while converting lower frequency to higher frequency is called upsampling. Not\n",
    "all resampling falls into either of these categories; for example, converting W-WED\n",
    "(weekly on Wednesday) to W-FRI is neither upsampling nor downsampling."
   ]
  },
  {
   "cell_type": "markdown",
   "id": "0e1a9b0c",
   "metadata": {},
   "source": [
    "pandas objects are equipped with a resample method, which is the workhorse func‐\n",
    "tion for all frequency conversion. resample has a similar API to groupby; you call\n",
    "resample to group the data, then call an aggregation function:\n"
   ]
  },
  {
   "cell_type": "code",
   "execution_count": 129,
   "id": "efd9eee4",
   "metadata": {},
   "outputs": [
    {
     "data": {
      "text/plain": [
       "2000-01-01    0.503645\n",
       "2000-01-02   -0.057148\n",
       "2000-01-03    0.416662\n",
       "2000-01-04    0.760523\n",
       "2000-01-05    1.590519\n",
       "                ...   \n",
       "2000-04-05    1.772276\n",
       "2000-04-06    0.308498\n",
       "2000-04-07    1.008976\n",
       "2000-04-08   -0.310977\n",
       "2000-04-09   -1.739288\n",
       "Freq: D, Length: 100, dtype: float64"
      ]
     },
     "execution_count": 129,
     "metadata": {},
     "output_type": "execute_result"
    }
   ],
   "source": [
    "rng = pd.date_range('2000-01-01', periods=100, freq='D')\n",
    "ts = pd.Series(np.random.randn(len(rng)), index=rng)\n",
    "ts"
   ]
  },
  {
   "cell_type": "code",
   "execution_count": 130,
   "id": "51310926",
   "metadata": {},
   "outputs": [
    {
     "data": {
      "text/plain": [
       "2000-01-31    0.169067\n",
       "2000-02-29    0.335929\n",
       "2000-03-31   -0.042650\n",
       "2000-04-30   -0.055754\n",
       "Freq: M, dtype: float64"
      ]
     },
     "execution_count": 130,
     "metadata": {},
     "output_type": "execute_result"
    }
   ],
   "source": [
    "ts.resample('M').mean()"
   ]
  },
  {
   "cell_type": "code",
   "execution_count": 131,
   "id": "f2344801",
   "metadata": {},
   "outputs": [
    {
     "data": {
      "text/plain": [
       "2000-01    0.169067\n",
       "2000-02    0.335929\n",
       "2000-03   -0.042650\n",
       "2000-04   -0.055754\n",
       "Freq: M, dtype: float64"
      ]
     },
     "execution_count": 131,
     "metadata": {},
     "output_type": "execute_result"
    }
   ],
   "source": [
    "ts.resample('M', kind='period').mean()"
   ]
  },
  {
   "cell_type": "markdown",
   "id": "5cb57062",
   "metadata": {},
   "source": [
    "resample is a flexible and high-performance method that can be used to process very\n",
    "large time series. The examples in the following sections illustrate its semantics and\n",
    "use. Table 11-5 summarizes some of its options."
   ]
  },
  {
   "cell_type": "markdown",
   "id": "bf00e895",
   "metadata": {},
   "source": [
    "Table 11-5. Resample method arguments\n",
    "----------------------------------------------------------\n",
    " \n",
    "   \n",
    "Argument --> Description\n",
    "  \n",
    "   \n",
    "freq --> String or DateOffset indicating desired resampled frequency (e.g., ‘M', ’5min', or Second(15))\n",
    "   \n",
    "     \n",
    "axis --> Axis to resample on; default axis=0\n",
    "  \n",
    "    \n",
    "fill_method --> How to interpolate when upsampling, as in 'ffill' or 'bfill'; by default does no interpolation\n",
    "   \n",
    "     \n",
    "closed --> In downsampling, which end of each interval is closed (inclusive), 'right' or 'left'\n",
    "   \n",
    "     \n",
    "label --> In downsampling, how to label the aggregated result, with the 'right' or 'left' bin edge (e.g., the\n",
    "9:30 to 9:35 five-minute interval could be labeled 9:30 or 9:35)\n",
    "   \n",
    "     \n",
    "loffset --> Time adjustment to the bin labels, such as '-1s' / Second(-1) to shift the aggregate labels one\n",
    "second earlier\n",
    "   \n",
    "     \n",
    "limit --> When forward or backward filling, the maximum number of periods to fill\n",
    "   \n",
    "     \n",
    "kind --> Aggregate to periods ('period') or timestamps ('timestamp'); defaults to the type of index the time  series has\n",
    "convention When resampling periods, the convention ('start' or 'end') for converting the low-frequency period\n",
    "to high frequency; defaults to 'end'"
   ]
  },
  {
   "cell_type": "markdown",
   "id": "fb5564b1",
   "metadata": {},
   "source": [
    "### Downsampling"
   ]
  },
  {
   "cell_type": "markdown",
   "id": "6bff1eb5",
   "metadata": {},
   "source": [
    "Aggregating data to a regular, lower frequency is a pretty normal time series task. The\n",
    "data you’re aggregating doesn’t need to be fixed frequently; the desired frequency\n",
    "defines bin edges that are used to slice the time series into pieces to aggregate. For\n",
    "example, to convert to monthly, 'M' or 'BM', you need to chop up the data into onemonth intervals. Each interval is said to be half-open; a data point can only belong to\n",
    "one interval, and the union of the intervals must make up the whole time frame.\n",
    "There are a couple things to think about when using resample to downsample data:  \n",
    "        \n",
    "        \n",
    "• Which side of each interval is closed   \n",
    "  \n",
    "     \n",
    "• How to label each aggregated bin, either with the start of the interval or the end"
   ]
  },
  {
   "cell_type": "markdown",
   "id": "6c5969a2",
   "metadata": {},
   "source": [
    "To illustrate, let’s look at some one-minute data:"
   ]
  },
  {
   "cell_type": "code",
   "execution_count": 132,
   "id": "5f701df1",
   "metadata": {},
   "outputs": [],
   "source": [
    "rng = pd.date_range('2000-01-01', periods=12, freq='T')\n",
    "ts = pd.Series(np.arange(12), index=rng)"
   ]
  },
  {
   "cell_type": "code",
   "execution_count": 133,
   "id": "74cf2e93",
   "metadata": {},
   "outputs": [
    {
     "data": {
      "text/plain": [
       "2000-01-01 00:00:00     0\n",
       "2000-01-01 00:01:00     1\n",
       "2000-01-01 00:02:00     2\n",
       "2000-01-01 00:03:00     3\n",
       "2000-01-01 00:04:00     4\n",
       "2000-01-01 00:05:00     5\n",
       "2000-01-01 00:06:00     6\n",
       "2000-01-01 00:07:00     7\n",
       "2000-01-01 00:08:00     8\n",
       "2000-01-01 00:09:00     9\n",
       "2000-01-01 00:10:00    10\n",
       "2000-01-01 00:11:00    11\n",
       "Freq: T, dtype: int32"
      ]
     },
     "execution_count": 133,
     "metadata": {},
     "output_type": "execute_result"
    }
   ],
   "source": [
    "ts"
   ]
  },
  {
   "cell_type": "markdown",
   "id": "29cb8c96",
   "metadata": {},
   "source": [
    "Suppose you wanted to aggregate this data into five-minute chunks or bars by taking\n",
    "the sum of each group:"
   ]
  },
  {
   "cell_type": "code",
   "execution_count": 134,
   "id": "9a71e9aa",
   "metadata": {},
   "outputs": [
    {
     "data": {
      "text/plain": [
       "1999-12-31 23:55:00     0\n",
       "2000-01-01 00:00:00    15\n",
       "2000-01-01 00:05:00    40\n",
       "2000-01-01 00:10:00    11\n",
       "Freq: 5T, dtype: int32"
      ]
     },
     "execution_count": 134,
     "metadata": {},
     "output_type": "execute_result"
    }
   ],
   "source": [
    "ts.resample('5min', closed='right').sum()"
   ]
  },
  {
   "cell_type": "markdown",
   "id": "abd3e8cf",
   "metadata": {},
   "source": [
    "The frequency you pass defines bin edges in five-minute increments. By default,\n",
    "the left bin edge is inclusive, so the 00:00 value is included in the 00:00 to 00:05\n",
    "interval.1\n",
    " Passing closed='right' changes the interval to be closed on the right:\n"
   ]
  },
  {
   "cell_type": "code",
   "execution_count": 135,
   "id": "ac02a219",
   "metadata": {},
   "outputs": [
    {
     "data": {
      "text/plain": [
       "1999-12-31 23:55:00     0\n",
       "2000-01-01 00:00:00    15\n",
       "2000-01-01 00:05:00    40\n",
       "2000-01-01 00:10:00    11\n",
       "Freq: 5T, dtype: int32"
      ]
     },
     "execution_count": 135,
     "metadata": {},
     "output_type": "execute_result"
    }
   ],
   "source": [
    "ts.resample('5min', closed='right').sum()"
   ]
  },
  {
   "cell_type": "markdown",
   "id": "3bb8aa49",
   "metadata": {},
   "source": [
    "The resulting time series is labeled by the timestamps from the left side of each bin.\n",
    "By passing label='right' you can label them with the right bin edge:"
   ]
  },
  {
   "cell_type": "code",
   "execution_count": 136,
   "id": "e20602cc",
   "metadata": {},
   "outputs": [
    {
     "data": {
      "text/plain": [
       "2000-01-01 00:00:00     0\n",
       "2000-01-01 00:05:00    15\n",
       "2000-01-01 00:10:00    40\n",
       "2000-01-01 00:15:00    11\n",
       "Freq: 5T, dtype: int32"
      ]
     },
     "execution_count": 136,
     "metadata": {},
     "output_type": "execute_result"
    }
   ],
   "source": [
    " ts.resample('5min', closed='right', label='right').sum()"
   ]
  },
  {
   "cell_type": "markdown",
   "id": "bfe6b3d3",
   "metadata": {},
   "source": [
    "The choice of the default values for closed and label might seem a bit odd to some users. In practice the\n",
    "choice is somewhat arbitrary; for some target frequencies, closed='left' is preferable, while for others\n",
    "closed='right' makes more sense. The important thing is that you keep in mind exactly how you are seg‐\n",
    "menting the data."
   ]
  },
  {
   "cell_type": "markdown",
   "id": "9d1f8114",
   "metadata": {},
   "source": [
    "Lastly, you might want to shift the result index by some amount, say subtracting one\n",
    "second from the right edge to make it more clear which interval the timestamp refers\n",
    "to. To do this, pass a string or date offset to loffset:\n"
   ]
  },
  {
   "cell_type": "code",
   "execution_count": 137,
   "id": "158aeb7b",
   "metadata": {},
   "outputs": [
    {
     "name": "stderr",
     "output_type": "stream",
     "text": [
      "C:\\Users\\ankit19.gupta\\OneDrive - Reliance Corporate IT Park Limited\\Desktop\\Practice_Code\\Python_Practice\\Python_For_Data_Analysis\\myenv\\lib\\site-packages\\ipykernel_launcher.py:1: FutureWarning: 'loffset' in .resample() and in Grouper() is deprecated.\n",
      "\n",
      ">>> df.resample(freq=\"3s\", loffset=\"8H\")\n",
      "\n",
      "becomes:\n",
      "\n",
      ">>> from pandas.tseries.frequencies import to_offset\n",
      ">>> df = df.resample(freq=\"3s\").mean()\n",
      ">>> df.index = df.index.to_timestamp() + to_offset(\"8H\")\n",
      "\n",
      "  \"\"\"Entry point for launching an IPython kernel.\n"
     ]
    },
    {
     "data": {
      "text/plain": [
       "1999-12-31 23:59:59     0\n",
       "2000-01-01 00:04:59    15\n",
       "2000-01-01 00:09:59    40\n",
       "2000-01-01 00:14:59    11\n",
       "Freq: 5T, dtype: int32"
      ]
     },
     "execution_count": 137,
     "metadata": {},
     "output_type": "execute_result"
    }
   ],
   "source": [
    "ts.resample('5min', closed='right',label='right', loffset='-1s').sum()"
   ]
  },
  {
   "cell_type": "markdown",
   "id": "41451304",
   "metadata": {},
   "source": [
    "You also could have accomplished the effect of loffset by calling the shift method\n",
    "on the result without the loffset."
   ]
  },
  {
   "cell_type": "markdown",
   "id": "07b118f9",
   "metadata": {},
   "source": [
    "#### Open-High-Low-Close (OHLC) resampling"
   ]
  },
  {
   "cell_type": "markdown",
   "id": "dea27dcd",
   "metadata": {},
   "source": [
    "In finance, a popular way to aggregate a time series is to compute four values for each\n",
    "bucket: the first (open), last (close), maximum (high), and minimal (low) values. By\n",
    "using the ohlc aggregate function you will obtain a DataFrame having columns con‐\n",
    "taining these four aggregates, which are efficiently computed in a single sweep of the\n",
    "data:"
   ]
  },
  {
   "cell_type": "code",
   "execution_count": 138,
   "id": "b2f1c406",
   "metadata": {},
   "outputs": [
    {
     "data": {
      "text/html": [
       "<div>\n",
       "<style scoped>\n",
       "    .dataframe tbody tr th:only-of-type {\n",
       "        vertical-align: middle;\n",
       "    }\n",
       "\n",
       "    .dataframe tbody tr th {\n",
       "        vertical-align: top;\n",
       "    }\n",
       "\n",
       "    .dataframe thead th {\n",
       "        text-align: right;\n",
       "    }\n",
       "</style>\n",
       "<table border=\"1\" class=\"dataframe\">\n",
       "  <thead>\n",
       "    <tr style=\"text-align: right;\">\n",
       "      <th></th>\n",
       "      <th>open</th>\n",
       "      <th>high</th>\n",
       "      <th>low</th>\n",
       "      <th>close</th>\n",
       "    </tr>\n",
       "  </thead>\n",
       "  <tbody>\n",
       "    <tr>\n",
       "      <th>2000-01-01 00:00:00</th>\n",
       "      <td>0</td>\n",
       "      <td>4</td>\n",
       "      <td>0</td>\n",
       "      <td>4</td>\n",
       "    </tr>\n",
       "    <tr>\n",
       "      <th>2000-01-01 00:05:00</th>\n",
       "      <td>5</td>\n",
       "      <td>9</td>\n",
       "      <td>5</td>\n",
       "      <td>9</td>\n",
       "    </tr>\n",
       "    <tr>\n",
       "      <th>2000-01-01 00:10:00</th>\n",
       "      <td>10</td>\n",
       "      <td>11</td>\n",
       "      <td>10</td>\n",
       "      <td>11</td>\n",
       "    </tr>\n",
       "  </tbody>\n",
       "</table>\n",
       "</div>"
      ],
      "text/plain": [
       "                     open  high  low  close\n",
       "2000-01-01 00:00:00     0     4    0      4\n",
       "2000-01-01 00:05:00     5     9    5      9\n",
       "2000-01-01 00:10:00    10    11   10     11"
      ]
     },
     "execution_count": 138,
     "metadata": {},
     "output_type": "execute_result"
    }
   ],
   "source": [
    "ts.resample('5min').ohlc()"
   ]
  },
  {
   "cell_type": "markdown",
   "id": "b9797389",
   "metadata": {},
   "source": [
    "## Upsampling and Interpolation"
   ]
  },
  {
   "cell_type": "markdown",
   "id": "ddfe21b8",
   "metadata": {},
   "source": [
    "When converting from a low frequency to a higher frequency, no aggregation is\n",
    "needed. Let’s consider a DataFrame with some weekly data:\n"
   ]
  },
  {
   "cell_type": "code",
   "execution_count": 139,
   "id": "3b583385",
   "metadata": {},
   "outputs": [
    {
     "data": {
      "text/html": [
       "<div>\n",
       "<style scoped>\n",
       "    .dataframe tbody tr th:only-of-type {\n",
       "        vertical-align: middle;\n",
       "    }\n",
       "\n",
       "    .dataframe tbody tr th {\n",
       "        vertical-align: top;\n",
       "    }\n",
       "\n",
       "    .dataframe thead th {\n",
       "        text-align: right;\n",
       "    }\n",
       "</style>\n",
       "<table border=\"1\" class=\"dataframe\">\n",
       "  <thead>\n",
       "    <tr style=\"text-align: right;\">\n",
       "      <th></th>\n",
       "      <th>Colorado</th>\n",
       "      <th>Texas</th>\n",
       "      <th>New York</th>\n",
       "      <th>Ohio</th>\n",
       "    </tr>\n",
       "  </thead>\n",
       "  <tbody>\n",
       "    <tr>\n",
       "      <th>2000-01-05</th>\n",
       "      <td>-0.608694</td>\n",
       "      <td>-0.402756</td>\n",
       "      <td>0.154126</td>\n",
       "      <td>-0.259819</td>\n",
       "    </tr>\n",
       "    <tr>\n",
       "      <th>2000-01-12</th>\n",
       "      <td>-1.403484</td>\n",
       "      <td>0.054284</td>\n",
       "      <td>-0.787793</td>\n",
       "      <td>-1.165118</td>\n",
       "    </tr>\n",
       "  </tbody>\n",
       "</table>\n",
       "</div>"
      ],
      "text/plain": [
       "            Colorado     Texas  New York      Ohio\n",
       "2000-01-05 -0.608694 -0.402756  0.154126 -0.259819\n",
       "2000-01-12 -1.403484  0.054284 -0.787793 -1.165118"
      ]
     },
     "execution_count": 139,
     "metadata": {},
     "output_type": "execute_result"
    }
   ],
   "source": [
    "frame = pd.DataFrame(np.random.randn(2, 4),index=pd.date_range('1/1/2000', periods=2,freq='W-WED'),columns=['Colorado', 'Texas', 'New York', 'Ohio'])\n",
    "frame"
   ]
  },
  {
   "cell_type": "markdown",
   "id": "bfb1acee",
   "metadata": {},
   "source": [
    "When you are using an aggregation function with this data, there is only one value\n",
    "per group, and missing values result in the gaps. We use the asfreq method to con‐\n",
    "vert to the higher frequency without any aggregation:\n"
   ]
  },
  {
   "cell_type": "code",
   "execution_count": 140,
   "id": "fcf4aad9",
   "metadata": {},
   "outputs": [
    {
     "data": {
      "text/html": [
       "<div>\n",
       "<style scoped>\n",
       "    .dataframe tbody tr th:only-of-type {\n",
       "        vertical-align: middle;\n",
       "    }\n",
       "\n",
       "    .dataframe tbody tr th {\n",
       "        vertical-align: top;\n",
       "    }\n",
       "\n",
       "    .dataframe thead th {\n",
       "        text-align: right;\n",
       "    }\n",
       "</style>\n",
       "<table border=\"1\" class=\"dataframe\">\n",
       "  <thead>\n",
       "    <tr style=\"text-align: right;\">\n",
       "      <th></th>\n",
       "      <th>Colorado</th>\n",
       "      <th>Texas</th>\n",
       "      <th>New York</th>\n",
       "      <th>Ohio</th>\n",
       "    </tr>\n",
       "  </thead>\n",
       "  <tbody>\n",
       "    <tr>\n",
       "      <th>2000-01-05</th>\n",
       "      <td>-0.608694</td>\n",
       "      <td>-0.402756</td>\n",
       "      <td>0.154126</td>\n",
       "      <td>-0.259819</td>\n",
       "    </tr>\n",
       "    <tr>\n",
       "      <th>2000-01-06</th>\n",
       "      <td>NaN</td>\n",
       "      <td>NaN</td>\n",
       "      <td>NaN</td>\n",
       "      <td>NaN</td>\n",
       "    </tr>\n",
       "    <tr>\n",
       "      <th>2000-01-07</th>\n",
       "      <td>NaN</td>\n",
       "      <td>NaN</td>\n",
       "      <td>NaN</td>\n",
       "      <td>NaN</td>\n",
       "    </tr>\n",
       "    <tr>\n",
       "      <th>2000-01-08</th>\n",
       "      <td>NaN</td>\n",
       "      <td>NaN</td>\n",
       "      <td>NaN</td>\n",
       "      <td>NaN</td>\n",
       "    </tr>\n",
       "    <tr>\n",
       "      <th>2000-01-09</th>\n",
       "      <td>NaN</td>\n",
       "      <td>NaN</td>\n",
       "      <td>NaN</td>\n",
       "      <td>NaN</td>\n",
       "    </tr>\n",
       "    <tr>\n",
       "      <th>2000-01-10</th>\n",
       "      <td>NaN</td>\n",
       "      <td>NaN</td>\n",
       "      <td>NaN</td>\n",
       "      <td>NaN</td>\n",
       "    </tr>\n",
       "    <tr>\n",
       "      <th>2000-01-11</th>\n",
       "      <td>NaN</td>\n",
       "      <td>NaN</td>\n",
       "      <td>NaN</td>\n",
       "      <td>NaN</td>\n",
       "    </tr>\n",
       "    <tr>\n",
       "      <th>2000-01-12</th>\n",
       "      <td>-1.403484</td>\n",
       "      <td>0.054284</td>\n",
       "      <td>-0.787793</td>\n",
       "      <td>-1.165118</td>\n",
       "    </tr>\n",
       "  </tbody>\n",
       "</table>\n",
       "</div>"
      ],
      "text/plain": [
       "            Colorado     Texas  New York      Ohio\n",
       "2000-01-05 -0.608694 -0.402756  0.154126 -0.259819\n",
       "2000-01-06       NaN       NaN       NaN       NaN\n",
       "2000-01-07       NaN       NaN       NaN       NaN\n",
       "2000-01-08       NaN       NaN       NaN       NaN\n",
       "2000-01-09       NaN       NaN       NaN       NaN\n",
       "2000-01-10       NaN       NaN       NaN       NaN\n",
       "2000-01-11       NaN       NaN       NaN       NaN\n",
       "2000-01-12 -1.403484  0.054284 -0.787793 -1.165118"
      ]
     },
     "execution_count": 140,
     "metadata": {},
     "output_type": "execute_result"
    }
   ],
   "source": [
    "df_daily = frame.resample('D').asfreq()\n",
    "df_daily"
   ]
  },
  {
   "cell_type": "markdown",
   "id": "46aa0e78",
   "metadata": {},
   "source": [
    "Suppose you wanted to fill forward each weekly value on the non-Wednesdays. The\n",
    "same filling or interpolation methods available in the fillna and reindex methods\n",
    "are available for resampling:\n"
   ]
  },
  {
   "cell_type": "code",
   "execution_count": 141,
   "id": "41834745",
   "metadata": {},
   "outputs": [
    {
     "data": {
      "text/html": [
       "<div>\n",
       "<style scoped>\n",
       "    .dataframe tbody tr th:only-of-type {\n",
       "        vertical-align: middle;\n",
       "    }\n",
       "\n",
       "    .dataframe tbody tr th {\n",
       "        vertical-align: top;\n",
       "    }\n",
       "\n",
       "    .dataframe thead th {\n",
       "        text-align: right;\n",
       "    }\n",
       "</style>\n",
       "<table border=\"1\" class=\"dataframe\">\n",
       "  <thead>\n",
       "    <tr style=\"text-align: right;\">\n",
       "      <th></th>\n",
       "      <th>Colorado</th>\n",
       "      <th>Texas</th>\n",
       "      <th>New York</th>\n",
       "      <th>Ohio</th>\n",
       "    </tr>\n",
       "  </thead>\n",
       "  <tbody>\n",
       "    <tr>\n",
       "      <th>2000-01-05</th>\n",
       "      <td>-0.608694</td>\n",
       "      <td>-0.402756</td>\n",
       "      <td>0.154126</td>\n",
       "      <td>-0.259819</td>\n",
       "    </tr>\n",
       "    <tr>\n",
       "      <th>2000-01-06</th>\n",
       "      <td>-0.608694</td>\n",
       "      <td>-0.402756</td>\n",
       "      <td>0.154126</td>\n",
       "      <td>-0.259819</td>\n",
       "    </tr>\n",
       "    <tr>\n",
       "      <th>2000-01-07</th>\n",
       "      <td>-0.608694</td>\n",
       "      <td>-0.402756</td>\n",
       "      <td>0.154126</td>\n",
       "      <td>-0.259819</td>\n",
       "    </tr>\n",
       "    <tr>\n",
       "      <th>2000-01-08</th>\n",
       "      <td>-0.608694</td>\n",
       "      <td>-0.402756</td>\n",
       "      <td>0.154126</td>\n",
       "      <td>-0.259819</td>\n",
       "    </tr>\n",
       "    <tr>\n",
       "      <th>2000-01-09</th>\n",
       "      <td>-0.608694</td>\n",
       "      <td>-0.402756</td>\n",
       "      <td>0.154126</td>\n",
       "      <td>-0.259819</td>\n",
       "    </tr>\n",
       "    <tr>\n",
       "      <th>2000-01-10</th>\n",
       "      <td>-0.608694</td>\n",
       "      <td>-0.402756</td>\n",
       "      <td>0.154126</td>\n",
       "      <td>-0.259819</td>\n",
       "    </tr>\n",
       "    <tr>\n",
       "      <th>2000-01-11</th>\n",
       "      <td>-0.608694</td>\n",
       "      <td>-0.402756</td>\n",
       "      <td>0.154126</td>\n",
       "      <td>-0.259819</td>\n",
       "    </tr>\n",
       "    <tr>\n",
       "      <th>2000-01-12</th>\n",
       "      <td>-1.403484</td>\n",
       "      <td>0.054284</td>\n",
       "      <td>-0.787793</td>\n",
       "      <td>-1.165118</td>\n",
       "    </tr>\n",
       "  </tbody>\n",
       "</table>\n",
       "</div>"
      ],
      "text/plain": [
       "            Colorado     Texas  New York      Ohio\n",
       "2000-01-05 -0.608694 -0.402756  0.154126 -0.259819\n",
       "2000-01-06 -0.608694 -0.402756  0.154126 -0.259819\n",
       "2000-01-07 -0.608694 -0.402756  0.154126 -0.259819\n",
       "2000-01-08 -0.608694 -0.402756  0.154126 -0.259819\n",
       "2000-01-09 -0.608694 -0.402756  0.154126 -0.259819\n",
       "2000-01-10 -0.608694 -0.402756  0.154126 -0.259819\n",
       "2000-01-11 -0.608694 -0.402756  0.154126 -0.259819\n",
       "2000-01-12 -1.403484  0.054284 -0.787793 -1.165118"
      ]
     },
     "execution_count": 141,
     "metadata": {},
     "output_type": "execute_result"
    }
   ],
   "source": [
    "frame.resample('D').ffill()"
   ]
  },
  {
   "cell_type": "markdown",
   "id": "c451380d",
   "metadata": {},
   "source": [
    "You can similarly choose to only fill a certain number of periods forward to limit how\n",
    "far to continue using an observed value:"
   ]
  },
  {
   "cell_type": "code",
   "execution_count": 142,
   "id": "d839eea6",
   "metadata": {},
   "outputs": [
    {
     "data": {
      "text/html": [
       "<div>\n",
       "<style scoped>\n",
       "    .dataframe tbody tr th:only-of-type {\n",
       "        vertical-align: middle;\n",
       "    }\n",
       "\n",
       "    .dataframe tbody tr th {\n",
       "        vertical-align: top;\n",
       "    }\n",
       "\n",
       "    .dataframe thead th {\n",
       "        text-align: right;\n",
       "    }\n",
       "</style>\n",
       "<table border=\"1\" class=\"dataframe\">\n",
       "  <thead>\n",
       "    <tr style=\"text-align: right;\">\n",
       "      <th></th>\n",
       "      <th>Colorado</th>\n",
       "      <th>Texas</th>\n",
       "      <th>New York</th>\n",
       "      <th>Ohio</th>\n",
       "    </tr>\n",
       "  </thead>\n",
       "  <tbody>\n",
       "    <tr>\n",
       "      <th>2000-01-05</th>\n",
       "      <td>-0.608694</td>\n",
       "      <td>-0.402756</td>\n",
       "      <td>0.154126</td>\n",
       "      <td>-0.259819</td>\n",
       "    </tr>\n",
       "    <tr>\n",
       "      <th>2000-01-06</th>\n",
       "      <td>-0.608694</td>\n",
       "      <td>-0.402756</td>\n",
       "      <td>0.154126</td>\n",
       "      <td>-0.259819</td>\n",
       "    </tr>\n",
       "    <tr>\n",
       "      <th>2000-01-07</th>\n",
       "      <td>-0.608694</td>\n",
       "      <td>-0.402756</td>\n",
       "      <td>0.154126</td>\n",
       "      <td>-0.259819</td>\n",
       "    </tr>\n",
       "    <tr>\n",
       "      <th>2000-01-08</th>\n",
       "      <td>NaN</td>\n",
       "      <td>NaN</td>\n",
       "      <td>NaN</td>\n",
       "      <td>NaN</td>\n",
       "    </tr>\n",
       "    <tr>\n",
       "      <th>2000-01-09</th>\n",
       "      <td>NaN</td>\n",
       "      <td>NaN</td>\n",
       "      <td>NaN</td>\n",
       "      <td>NaN</td>\n",
       "    </tr>\n",
       "    <tr>\n",
       "      <th>2000-01-10</th>\n",
       "      <td>NaN</td>\n",
       "      <td>NaN</td>\n",
       "      <td>NaN</td>\n",
       "      <td>NaN</td>\n",
       "    </tr>\n",
       "    <tr>\n",
       "      <th>2000-01-11</th>\n",
       "      <td>NaN</td>\n",
       "      <td>NaN</td>\n",
       "      <td>NaN</td>\n",
       "      <td>NaN</td>\n",
       "    </tr>\n",
       "    <tr>\n",
       "      <th>2000-01-12</th>\n",
       "      <td>-1.403484</td>\n",
       "      <td>0.054284</td>\n",
       "      <td>-0.787793</td>\n",
       "      <td>-1.165118</td>\n",
       "    </tr>\n",
       "  </tbody>\n",
       "</table>\n",
       "</div>"
      ],
      "text/plain": [
       "            Colorado     Texas  New York      Ohio\n",
       "2000-01-05 -0.608694 -0.402756  0.154126 -0.259819\n",
       "2000-01-06 -0.608694 -0.402756  0.154126 -0.259819\n",
       "2000-01-07 -0.608694 -0.402756  0.154126 -0.259819\n",
       "2000-01-08       NaN       NaN       NaN       NaN\n",
       "2000-01-09       NaN       NaN       NaN       NaN\n",
       "2000-01-10       NaN       NaN       NaN       NaN\n",
       "2000-01-11       NaN       NaN       NaN       NaN\n",
       "2000-01-12 -1.403484  0.054284 -0.787793 -1.165118"
      ]
     },
     "execution_count": 142,
     "metadata": {},
     "output_type": "execute_result"
    }
   ],
   "source": [
    "frame.resample('D').ffill(limit=2)"
   ]
  },
  {
   "cell_type": "markdown",
   "id": "27ed36e7",
   "metadata": {},
   "source": [
    "Notably, the new date index need not overlap with the old one at all:\n"
   ]
  },
  {
   "cell_type": "code",
   "execution_count": 143,
   "id": "1ea12184",
   "metadata": {},
   "outputs": [
    {
     "data": {
      "text/html": [
       "<div>\n",
       "<style scoped>\n",
       "    .dataframe tbody tr th:only-of-type {\n",
       "        vertical-align: middle;\n",
       "    }\n",
       "\n",
       "    .dataframe tbody tr th {\n",
       "        vertical-align: top;\n",
       "    }\n",
       "\n",
       "    .dataframe thead th {\n",
       "        text-align: right;\n",
       "    }\n",
       "</style>\n",
       "<table border=\"1\" class=\"dataframe\">\n",
       "  <thead>\n",
       "    <tr style=\"text-align: right;\">\n",
       "      <th></th>\n",
       "      <th>Colorado</th>\n",
       "      <th>Texas</th>\n",
       "      <th>New York</th>\n",
       "      <th>Ohio</th>\n",
       "    </tr>\n",
       "  </thead>\n",
       "  <tbody>\n",
       "    <tr>\n",
       "      <th>2000-01-06</th>\n",
       "      <td>-0.608694</td>\n",
       "      <td>-0.402756</td>\n",
       "      <td>0.154126</td>\n",
       "      <td>-0.259819</td>\n",
       "    </tr>\n",
       "    <tr>\n",
       "      <th>2000-01-13</th>\n",
       "      <td>-1.403484</td>\n",
       "      <td>0.054284</td>\n",
       "      <td>-0.787793</td>\n",
       "      <td>-1.165118</td>\n",
       "    </tr>\n",
       "  </tbody>\n",
       "</table>\n",
       "</div>"
      ],
      "text/plain": [
       "            Colorado     Texas  New York      Ohio\n",
       "2000-01-06 -0.608694 -0.402756  0.154126 -0.259819\n",
       "2000-01-13 -1.403484  0.054284 -0.787793 -1.165118"
      ]
     },
     "execution_count": 143,
     "metadata": {},
     "output_type": "execute_result"
    }
   ],
   "source": [
    "frame.resample('W-THU').ffill()"
   ]
  },
  {
   "cell_type": "markdown",
   "id": "b1bb4b8d",
   "metadata": {},
   "source": [
    "### Resampling with Periods"
   ]
  },
  {
   "cell_type": "markdown",
   "id": "10dda0fe",
   "metadata": {},
   "source": [
    "Resampling data indexed by periods is similar to timestamps:"
   ]
  },
  {
   "cell_type": "code",
   "execution_count": 144,
   "id": "7b269ce9",
   "metadata": {},
   "outputs": [
    {
     "data": {
      "text/html": [
       "<div>\n",
       "<style scoped>\n",
       "    .dataframe tbody tr th:only-of-type {\n",
       "        vertical-align: middle;\n",
       "    }\n",
       "\n",
       "    .dataframe tbody tr th {\n",
       "        vertical-align: top;\n",
       "    }\n",
       "\n",
       "    .dataframe thead th {\n",
       "        text-align: right;\n",
       "    }\n",
       "</style>\n",
       "<table border=\"1\" class=\"dataframe\">\n",
       "  <thead>\n",
       "    <tr style=\"text-align: right;\">\n",
       "      <th></th>\n",
       "      <th>Colorado</th>\n",
       "      <th>Texas</th>\n",
       "      <th>New York</th>\n",
       "      <th>Ohio</th>\n",
       "    </tr>\n",
       "  </thead>\n",
       "  <tbody>\n",
       "    <tr>\n",
       "      <th>2000-01</th>\n",
       "      <td>-0.071128</td>\n",
       "      <td>0.910539</td>\n",
       "      <td>1.161215</td>\n",
       "      <td>0.057181</td>\n",
       "    </tr>\n",
       "    <tr>\n",
       "      <th>2000-02</th>\n",
       "      <td>0.949706</td>\n",
       "      <td>-0.398110</td>\n",
       "      <td>1.156819</td>\n",
       "      <td>0.887352</td>\n",
       "    </tr>\n",
       "    <tr>\n",
       "      <th>2000-03</th>\n",
       "      <td>1.369713</td>\n",
       "      <td>0.286911</td>\n",
       "      <td>-0.681875</td>\n",
       "      <td>0.057731</td>\n",
       "    </tr>\n",
       "    <tr>\n",
       "      <th>2000-04</th>\n",
       "      <td>0.366768</td>\n",
       "      <td>0.843658</td>\n",
       "      <td>-0.042047</td>\n",
       "      <td>1.118284</td>\n",
       "    </tr>\n",
       "    <tr>\n",
       "      <th>2000-05</th>\n",
       "      <td>0.023637</td>\n",
       "      <td>0.193718</td>\n",
       "      <td>1.350770</td>\n",
       "      <td>2.116953</td>\n",
       "    </tr>\n",
       "  </tbody>\n",
       "</table>\n",
       "</div>"
      ],
      "text/plain": [
       "         Colorado     Texas  New York      Ohio\n",
       "2000-01 -0.071128  0.910539  1.161215  0.057181\n",
       "2000-02  0.949706 -0.398110  1.156819  0.887352\n",
       "2000-03  1.369713  0.286911 -0.681875  0.057731\n",
       "2000-04  0.366768  0.843658 -0.042047  1.118284\n",
       "2000-05  0.023637  0.193718  1.350770  2.116953"
      ]
     },
     "execution_count": 144,
     "metadata": {},
     "output_type": "execute_result"
    }
   ],
   "source": [
    "frame = pd.DataFrame(np.random.randn(24, 4),index=pd.period_range('1-2000', '12-2001',freq='M'),columns=['Colorado', 'Texas', 'New York', 'Ohio'])\n",
    "frame[:5]"
   ]
  },
  {
   "cell_type": "code",
   "execution_count": 145,
   "id": "35514671",
   "metadata": {},
   "outputs": [
    {
     "data": {
      "text/html": [
       "<div>\n",
       "<style scoped>\n",
       "    .dataframe tbody tr th:only-of-type {\n",
       "        vertical-align: middle;\n",
       "    }\n",
       "\n",
       "    .dataframe tbody tr th {\n",
       "        vertical-align: top;\n",
       "    }\n",
       "\n",
       "    .dataframe thead th {\n",
       "        text-align: right;\n",
       "    }\n",
       "</style>\n",
       "<table border=\"1\" class=\"dataframe\">\n",
       "  <thead>\n",
       "    <tr style=\"text-align: right;\">\n",
       "      <th></th>\n",
       "      <th>Colorado</th>\n",
       "      <th>Texas</th>\n",
       "      <th>New York</th>\n",
       "      <th>Ohio</th>\n",
       "    </tr>\n",
       "  </thead>\n",
       "  <tbody>\n",
       "    <tr>\n",
       "      <th>2000</th>\n",
       "      <td>0.313797</td>\n",
       "      <td>-0.026340</td>\n",
       "      <td>0.401330</td>\n",
       "      <td>0.470624</td>\n",
       "    </tr>\n",
       "    <tr>\n",
       "      <th>2001</th>\n",
       "      <td>-0.253618</td>\n",
       "      <td>-0.417882</td>\n",
       "      <td>0.275276</td>\n",
       "      <td>-0.495417</td>\n",
       "    </tr>\n",
       "  </tbody>\n",
       "</table>\n",
       "</div>"
      ],
      "text/plain": [
       "      Colorado     Texas  New York      Ohio\n",
       "2000  0.313797 -0.026340  0.401330  0.470624\n",
       "2001 -0.253618 -0.417882  0.275276 -0.495417"
      ]
     },
     "execution_count": 145,
     "metadata": {},
     "output_type": "execute_result"
    }
   ],
   "source": [
    "annual_frame = frame.resample('A-DEC').mean()\n",
    "annual_frame"
   ]
  },
  {
   "cell_type": "markdown",
   "id": "d683b1f7",
   "metadata": {},
   "source": [
    "Upsampling is more nuanced, as you must make a decision about which end of the\n",
    "timespan in the new frequency to place the values before resampling, just like the\n",
    "asfreq method. The convention argument defaults to 'start' but can also be 'end':"
   ]
  },
  {
   "cell_type": "code",
   "execution_count": 146,
   "id": "220349f6",
   "metadata": {},
   "outputs": [
    {
     "data": {
      "text/html": [
       "<div>\n",
       "<style scoped>\n",
       "    .dataframe tbody tr th:only-of-type {\n",
       "        vertical-align: middle;\n",
       "    }\n",
       "\n",
       "    .dataframe tbody tr th {\n",
       "        vertical-align: top;\n",
       "    }\n",
       "\n",
       "    .dataframe thead th {\n",
       "        text-align: right;\n",
       "    }\n",
       "</style>\n",
       "<table border=\"1\" class=\"dataframe\">\n",
       "  <thead>\n",
       "    <tr style=\"text-align: right;\">\n",
       "      <th></th>\n",
       "      <th>Colorado</th>\n",
       "      <th>Texas</th>\n",
       "      <th>New York</th>\n",
       "      <th>Ohio</th>\n",
       "    </tr>\n",
       "  </thead>\n",
       "  <tbody>\n",
       "    <tr>\n",
       "      <th>2000Q1</th>\n",
       "      <td>0.313797</td>\n",
       "      <td>-0.026340</td>\n",
       "      <td>0.401330</td>\n",
       "      <td>0.470624</td>\n",
       "    </tr>\n",
       "    <tr>\n",
       "      <th>2000Q2</th>\n",
       "      <td>0.313797</td>\n",
       "      <td>-0.026340</td>\n",
       "      <td>0.401330</td>\n",
       "      <td>0.470624</td>\n",
       "    </tr>\n",
       "    <tr>\n",
       "      <th>2000Q3</th>\n",
       "      <td>0.313797</td>\n",
       "      <td>-0.026340</td>\n",
       "      <td>0.401330</td>\n",
       "      <td>0.470624</td>\n",
       "    </tr>\n",
       "    <tr>\n",
       "      <th>2000Q4</th>\n",
       "      <td>0.313797</td>\n",
       "      <td>-0.026340</td>\n",
       "      <td>0.401330</td>\n",
       "      <td>0.470624</td>\n",
       "    </tr>\n",
       "    <tr>\n",
       "      <th>2001Q1</th>\n",
       "      <td>-0.253618</td>\n",
       "      <td>-0.417882</td>\n",
       "      <td>0.275276</td>\n",
       "      <td>-0.495417</td>\n",
       "    </tr>\n",
       "    <tr>\n",
       "      <th>2001Q2</th>\n",
       "      <td>-0.253618</td>\n",
       "      <td>-0.417882</td>\n",
       "      <td>0.275276</td>\n",
       "      <td>-0.495417</td>\n",
       "    </tr>\n",
       "    <tr>\n",
       "      <th>2001Q3</th>\n",
       "      <td>-0.253618</td>\n",
       "      <td>-0.417882</td>\n",
       "      <td>0.275276</td>\n",
       "      <td>-0.495417</td>\n",
       "    </tr>\n",
       "    <tr>\n",
       "      <th>2001Q4</th>\n",
       "      <td>-0.253618</td>\n",
       "      <td>-0.417882</td>\n",
       "      <td>0.275276</td>\n",
       "      <td>-0.495417</td>\n",
       "    </tr>\n",
       "  </tbody>\n",
       "</table>\n",
       "</div>"
      ],
      "text/plain": [
       "        Colorado     Texas  New York      Ohio\n",
       "2000Q1  0.313797 -0.026340  0.401330  0.470624\n",
       "2000Q2  0.313797 -0.026340  0.401330  0.470624\n",
       "2000Q3  0.313797 -0.026340  0.401330  0.470624\n",
       "2000Q4  0.313797 -0.026340  0.401330  0.470624\n",
       "2001Q1 -0.253618 -0.417882  0.275276 -0.495417\n",
       "2001Q2 -0.253618 -0.417882  0.275276 -0.495417\n",
       "2001Q3 -0.253618 -0.417882  0.275276 -0.495417\n",
       "2001Q4 -0.253618 -0.417882  0.275276 -0.495417"
      ]
     },
     "execution_count": 146,
     "metadata": {},
     "output_type": "execute_result"
    }
   ],
   "source": [
    "# Q-DEC: Quarterly, year ending in December\n",
    "annual_frame.resample('Q-DEC').ffill()"
   ]
  },
  {
   "cell_type": "code",
   "execution_count": 147,
   "id": "0a9e5177",
   "metadata": {},
   "outputs": [
    {
     "data": {
      "text/html": [
       "<div>\n",
       "<style scoped>\n",
       "    .dataframe tbody tr th:only-of-type {\n",
       "        vertical-align: middle;\n",
       "    }\n",
       "\n",
       "    .dataframe tbody tr th {\n",
       "        vertical-align: top;\n",
       "    }\n",
       "\n",
       "    .dataframe thead th {\n",
       "        text-align: right;\n",
       "    }\n",
       "</style>\n",
       "<table border=\"1\" class=\"dataframe\">\n",
       "  <thead>\n",
       "    <tr style=\"text-align: right;\">\n",
       "      <th></th>\n",
       "      <th>Colorado</th>\n",
       "      <th>Texas</th>\n",
       "      <th>New York</th>\n",
       "      <th>Ohio</th>\n",
       "    </tr>\n",
       "  </thead>\n",
       "  <tbody>\n",
       "    <tr>\n",
       "      <th>2000Q4</th>\n",
       "      <td>0.313797</td>\n",
       "      <td>-0.026340</td>\n",
       "      <td>0.401330</td>\n",
       "      <td>0.470624</td>\n",
       "    </tr>\n",
       "    <tr>\n",
       "      <th>2001Q1</th>\n",
       "      <td>0.313797</td>\n",
       "      <td>-0.026340</td>\n",
       "      <td>0.401330</td>\n",
       "      <td>0.470624</td>\n",
       "    </tr>\n",
       "    <tr>\n",
       "      <th>2001Q2</th>\n",
       "      <td>0.313797</td>\n",
       "      <td>-0.026340</td>\n",
       "      <td>0.401330</td>\n",
       "      <td>0.470624</td>\n",
       "    </tr>\n",
       "    <tr>\n",
       "      <th>2001Q3</th>\n",
       "      <td>0.313797</td>\n",
       "      <td>-0.026340</td>\n",
       "      <td>0.401330</td>\n",
       "      <td>0.470624</td>\n",
       "    </tr>\n",
       "    <tr>\n",
       "      <th>2001Q4</th>\n",
       "      <td>-0.253618</td>\n",
       "      <td>-0.417882</td>\n",
       "      <td>0.275276</td>\n",
       "      <td>-0.495417</td>\n",
       "    </tr>\n",
       "  </tbody>\n",
       "</table>\n",
       "</div>"
      ],
      "text/plain": [
       "        Colorado     Texas  New York      Ohio\n",
       "2000Q4  0.313797 -0.026340  0.401330  0.470624\n",
       "2001Q1  0.313797 -0.026340  0.401330  0.470624\n",
       "2001Q2  0.313797 -0.026340  0.401330  0.470624\n",
       "2001Q3  0.313797 -0.026340  0.401330  0.470624\n",
       "2001Q4 -0.253618 -0.417882  0.275276 -0.495417"
      ]
     },
     "execution_count": 147,
     "metadata": {},
     "output_type": "execute_result"
    }
   ],
   "source": [
    "annual_frame.resample('Q-DEC', convention='end').ffill()"
   ]
  },
  {
   "cell_type": "markdown",
   "id": "24411d18",
   "metadata": {},
   "source": [
    "Since periods refer to timespans, the rules about upsampling and downsampling are\n",
    "more rigid:\n",
    "       \n",
    "         \n",
    "• In downsampling, the target frequency must be a subperiod of the source\n",
    "frequency.\n",
    "  \n",
    "     \n",
    "• In upsampling, the target frequency must be a superperiod of the source\n",
    "frequency.\n",
    "  \n",
    "     \n",
    "If these rules are not satisfied, an exception will be raised. This mainly affects the\n",
    "quarterly, annual, and weekly frequencies; for example, the timespans defined by QMAR only line up with A-MAR, A-JUN, A-SEP, and A-DEC:"
   ]
  },
  {
   "cell_type": "code",
   "execution_count": 148,
   "id": "d94f31e5",
   "metadata": {},
   "outputs": [
    {
     "data": {
      "text/html": [
       "<div>\n",
       "<style scoped>\n",
       "    .dataframe tbody tr th:only-of-type {\n",
       "        vertical-align: middle;\n",
       "    }\n",
       "\n",
       "    .dataframe tbody tr th {\n",
       "        vertical-align: top;\n",
       "    }\n",
       "\n",
       "    .dataframe thead th {\n",
       "        text-align: right;\n",
       "    }\n",
       "</style>\n",
       "<table border=\"1\" class=\"dataframe\">\n",
       "  <thead>\n",
       "    <tr style=\"text-align: right;\">\n",
       "      <th></th>\n",
       "      <th>Colorado</th>\n",
       "      <th>Texas</th>\n",
       "      <th>New York</th>\n",
       "      <th>Ohio</th>\n",
       "    </tr>\n",
       "  </thead>\n",
       "  <tbody>\n",
       "    <tr>\n",
       "      <th>2000Q4</th>\n",
       "      <td>0.313797</td>\n",
       "      <td>-0.026340</td>\n",
       "      <td>0.401330</td>\n",
       "      <td>0.470624</td>\n",
       "    </tr>\n",
       "    <tr>\n",
       "      <th>2001Q1</th>\n",
       "      <td>0.313797</td>\n",
       "      <td>-0.026340</td>\n",
       "      <td>0.401330</td>\n",
       "      <td>0.470624</td>\n",
       "    </tr>\n",
       "    <tr>\n",
       "      <th>2001Q2</th>\n",
       "      <td>0.313797</td>\n",
       "      <td>-0.026340</td>\n",
       "      <td>0.401330</td>\n",
       "      <td>0.470624</td>\n",
       "    </tr>\n",
       "    <tr>\n",
       "      <th>2001Q3</th>\n",
       "      <td>0.313797</td>\n",
       "      <td>-0.026340</td>\n",
       "      <td>0.401330</td>\n",
       "      <td>0.470624</td>\n",
       "    </tr>\n",
       "    <tr>\n",
       "      <th>2001Q4</th>\n",
       "      <td>-0.253618</td>\n",
       "      <td>-0.417882</td>\n",
       "      <td>0.275276</td>\n",
       "      <td>-0.495417</td>\n",
       "    </tr>\n",
       "    <tr>\n",
       "      <th>2002Q1</th>\n",
       "      <td>-0.253618</td>\n",
       "      <td>-0.417882</td>\n",
       "      <td>0.275276</td>\n",
       "      <td>-0.495417</td>\n",
       "    </tr>\n",
       "    <tr>\n",
       "      <th>2002Q2</th>\n",
       "      <td>-0.253618</td>\n",
       "      <td>-0.417882</td>\n",
       "      <td>0.275276</td>\n",
       "      <td>-0.495417</td>\n",
       "    </tr>\n",
       "    <tr>\n",
       "      <th>2002Q3</th>\n",
       "      <td>-0.253618</td>\n",
       "      <td>-0.417882</td>\n",
       "      <td>0.275276</td>\n",
       "      <td>-0.495417</td>\n",
       "    </tr>\n",
       "  </tbody>\n",
       "</table>\n",
       "</div>"
      ],
      "text/plain": [
       "        Colorado     Texas  New York      Ohio\n",
       "2000Q4  0.313797 -0.026340  0.401330  0.470624\n",
       "2001Q1  0.313797 -0.026340  0.401330  0.470624\n",
       "2001Q2  0.313797 -0.026340  0.401330  0.470624\n",
       "2001Q3  0.313797 -0.026340  0.401330  0.470624\n",
       "2001Q4 -0.253618 -0.417882  0.275276 -0.495417\n",
       "2002Q1 -0.253618 -0.417882  0.275276 -0.495417\n",
       "2002Q2 -0.253618 -0.417882  0.275276 -0.495417\n",
       "2002Q3 -0.253618 -0.417882  0.275276 -0.495417"
      ]
     },
     "execution_count": 148,
     "metadata": {},
     "output_type": "execute_result"
    }
   ],
   "source": [
    "annual_frame.resample('Q-MAR').ffill()"
   ]
  },
  {
   "cell_type": "markdown",
   "id": "ec0b2e13",
   "metadata": {},
   "source": [
    "## 11.7 Moving Window Functions\n"
   ]
  },
  {
   "cell_type": "markdown",
   "id": "20380392",
   "metadata": {},
   "source": [
    "An important class of array transformations used for time series operations are statis‐\n",
    "tics and other functions evaluated over a sliding window or with exponentially decay‐\n",
    "ing weights. This can be useful for smoothing noisy or gappy data. I call these moving\n",
    "window functions, even though it includes functions without a fixed-length window like exponentially weighted moving average. Like other statistical functions, these\n",
    "also automatically exclude missing data.  \n",
    "  \n",
    "     \n",
    "       \n",
    "Before digging in, we can load up some time series data and resample it to business\n",
    "day frequency:       "
   ]
  },
  {
   "cell_type": "code",
   "execution_count": 152,
   "id": "f875ba0a",
   "metadata": {},
   "outputs": [],
   "source": [
    "close_px_all = pd.read_csv('stock_px.csv',parse_dates=True, index_col=0)\n",
    "close_px = close_px_all[['AAPL', 'MSFT', 'XOM']]\n",
    "close_px = close_px.resample('B').ffill()"
   ]
  },
  {
   "cell_type": "markdown",
   "id": "fc07d92b",
   "metadata": {},
   "source": [
    "I now introduce the rolling operator, which behaves similarly to resample and\n",
    "groupby. It can be called on a Series or DataFrame along with a window (expressed as\n",
    "a number of periods; see Figure 11-4 for the plot created)"
   ]
  },
  {
   "cell_type": "code",
   "execution_count": 153,
   "id": "28878044",
   "metadata": {},
   "outputs": [
    {
     "data": {
      "text/plain": [
       "<AxesSubplot:>"
      ]
     },
     "execution_count": 153,
     "metadata": {},
     "output_type": "execute_result"
    },
    {
     "data": {
      "image/png": "[encoded data removed]",
      "text/plain": [
       "<Figure size 432x288 with 1 Axes>"
      ]
     },
     "metadata": {
      "needs_background": "light"
     },
     "output_type": "display_data"
    }
   ],
   "source": [
    "close_px.AAPL.plot()"
   ]
  },
  {
   "cell_type": "code",
   "execution_count": 154,
   "id": "4191c79b",
   "metadata": {},
   "outputs": [
    {
     "data": {
      "text/plain": [
       "<AxesSubplot:>"
      ]
     },
     "execution_count": 154,
     "metadata": {},
     "output_type": "execute_result"
    },
    {
     "data": {
      "image/png": "[encoded data removed]",
      "text/plain": [
       "<Figure size 432x288 with 1 Axes>"
      ]
     },
     "metadata": {
      "needs_background": "light"
     },
     "output_type": "display_data"
    }
   ],
   "source": [
    "close_px.AAPL.rolling(250).mean().plot()"
   ]
  },
  {
   "cell_type": "markdown",
   "id": "dbb1d3f2",
   "metadata": {},
   "source": [
    "The expression rolling(250) is similar in behavior to groupby, but instead of group‐\n",
    "ing it creates an object that enables grouping over a 250-day sliding window. So here\n",
    "we have the 250-day moving window average of Apple’s stock price."
   ]
  },
  {
   "cell_type": "markdown",
   "id": "f9f9adfe",
   "metadata": {},
   "source": [
    "By default rolling functions require all of the values in the window to be non-NA.\n",
    "This behavior can be changed to account for missing data and, in particular, the fact\n",
    "that you will have fewer than window periods of data at the beginning of the time\n",
    "series (see Figure 11-5):"
   ]
  },
  {
   "cell_type": "code",
   "execution_count": 155,
   "id": "fa2d6113",
   "metadata": {},
   "outputs": [
    {
     "data": {
      "text/plain": [
       "1990-02-08         NaN\n",
       "1990-02-09         NaN\n",
       "1990-02-12         NaN\n",
       "1990-02-13         NaN\n",
       "1990-02-14    0.148189\n",
       "1990-02-15    0.141003\n",
       "1990-02-16    0.135454\n",
       "Freq: B, Name: AAPL, dtype: float64"
      ]
     },
     "execution_count": 155,
     "metadata": {},
     "output_type": "execute_result"
    }
   ],
   "source": [
    "appl_std250 = close_px.AAPL.rolling(250, min_periods=10).std()\n",
    "appl_std250[5:12]"
   ]
  },
  {
   "cell_type": "code",
   "execution_count": 156,
   "id": "e85d3f46",
   "metadata": {},
   "outputs": [
    {
     "data": {
      "text/plain": [
       "<AxesSubplot:>"
      ]
     },
     "execution_count": 156,
     "metadata": {},
     "output_type": "execute_result"
    },
    {
     "data": {
      "image/png": "[encoded data removed]",
      "text/plain": [
       "<Figure size 432x288 with 1 Axes>"
      ]
     },
     "metadata": {
      "needs_background": "light"
     },
     "output_type": "display_data"
    }
   ],
   "source": [
    "appl_std250.plot()"
   ]
  },
  {
   "cell_type": "markdown",
   "id": "d21f8eb9",
   "metadata": {},
   "source": [
    "In order to compute an expanding window mean, use the expanding operator instead\n",
    "of rolling. The expanding mean starts the time window from the beginning of the\n",
    "time series and increases the size of the window until it encompasses the whole series.\n",
    "An expanding window mean on the apple_std250 time series looks like this:"
   ]
  },
  {
   "cell_type": "code",
   "execution_count": 157,
   "id": "2d7b461c",
   "metadata": {},
   "outputs": [],
   "source": [
    "expanding_mean = appl_std250.expanding().mean()"
   ]
  },
  {
   "cell_type": "markdown",
   "id": "6b18516e",
   "metadata": {},
   "source": [
    "Calling a moving window function on a DataFrame applies the transformation to\n",
    "each column (see Figure 11-6):\n"
   ]
  },
  {
   "cell_type": "code",
   "execution_count": 158,
   "id": "baae910b",
   "metadata": {},
   "outputs": [
    {
     "data": {
      "text/plain": [
       "<AxesSubplot:>"
      ]
     },
     "execution_count": 158,
     "metadata": {},
     "output_type": "execute_result"
    },
    {
     "data": {
      "image/png": "[encoded data removed]",
      "text/plain": [
       "<Figure size 432x288 with 1 Axes>"
      ]
     },
     "metadata": {
      "needs_background": "light"
     },
     "output_type": "display_data"
    }
   ],
   "source": [
    "close_px.rolling(60).mean().plot(logy=True)"
   ]
  },
  {
   "cell_type": "markdown",
   "id": "b688056f",
   "metadata": {},
   "source": [
    "The rolling function also accepts a string indicating a fixed-size time offset rather\n",
    "than a set number of periods. Using this notation can be useful for irregular time ser‐\n",
    "ies. These are the same strings that you can pass to resample. For example, we could\n",
    "compute a 20-day rolling mean like so:"
   ]
  },
  {
   "cell_type": "code",
   "execution_count": 159,
   "id": "ace8cbbb",
   "metadata": {},
   "outputs": [
    {
     "data": {
      "text/html": [
       "<div>\n",
       "<style scoped>\n",
       "    .dataframe tbody tr th:only-of-type {\n",
       "        vertical-align: middle;\n",
       "    }\n",
       "\n",
       "    .dataframe tbody tr th {\n",
       "        vertical-align: top;\n",
       "    }\n",
       "\n",
       "    .dataframe thead th {\n",
       "        text-align: right;\n",
       "    }\n",
       "</style>\n",
       "<table border=\"1\" class=\"dataframe\">\n",
       "  <thead>\n",
       "    <tr style=\"text-align: right;\">\n",
       "      <th></th>\n",
       "      <th>AAPL</th>\n",
       "      <th>MSFT</th>\n",
       "      <th>XOM</th>\n",
       "    </tr>\n",
       "  </thead>\n",
       "  <tbody>\n",
       "    <tr>\n",
       "      <th>1990-02-01</th>\n",
       "      <td>7.860000</td>\n",
       "      <td>0.510000</td>\n",
       "      <td>6.120000</td>\n",
       "    </tr>\n",
       "    <tr>\n",
       "      <th>1990-02-02</th>\n",
       "      <td>7.930000</td>\n",
       "      <td>0.510000</td>\n",
       "      <td>6.180000</td>\n",
       "    </tr>\n",
       "    <tr>\n",
       "      <th>1990-02-05</th>\n",
       "      <td>8.013333</td>\n",
       "      <td>0.510000</td>\n",
       "      <td>6.203333</td>\n",
       "    </tr>\n",
       "    <tr>\n",
       "      <th>1990-02-06</th>\n",
       "      <td>8.040000</td>\n",
       "      <td>0.510000</td>\n",
       "      <td>6.210000</td>\n",
       "    </tr>\n",
       "    <tr>\n",
       "      <th>1990-02-07</th>\n",
       "      <td>7.986000</td>\n",
       "      <td>0.510000</td>\n",
       "      <td>6.234000</td>\n",
       "    </tr>\n",
       "    <tr>\n",
       "      <th>...</th>\n",
       "      <td>...</td>\n",
       "      <td>...</td>\n",
       "      <td>...</td>\n",
       "    </tr>\n",
       "    <tr>\n",
       "      <th>2011-10-10</th>\n",
       "      <td>389.351429</td>\n",
       "      <td>25.602143</td>\n",
       "      <td>72.527857</td>\n",
       "    </tr>\n",
       "    <tr>\n",
       "      <th>2011-10-11</th>\n",
       "      <td>388.505000</td>\n",
       "      <td>25.674286</td>\n",
       "      <td>72.835000</td>\n",
       "    </tr>\n",
       "    <tr>\n",
       "      <th>2011-10-12</th>\n",
       "      <td>388.531429</td>\n",
       "      <td>25.810000</td>\n",
       "      <td>73.400714</td>\n",
       "    </tr>\n",
       "    <tr>\n",
       "      <th>2011-10-13</th>\n",
       "      <td>388.826429</td>\n",
       "      <td>25.961429</td>\n",
       "      <td>73.905000</td>\n",
       "    </tr>\n",
       "    <tr>\n",
       "      <th>2011-10-14</th>\n",
       "      <td>391.038000</td>\n",
       "      <td>26.048667</td>\n",
       "      <td>74.185333</td>\n",
       "    </tr>\n",
       "  </tbody>\n",
       "</table>\n",
       "<p>5662 rows × 3 columns</p>\n",
       "</div>"
      ],
      "text/plain": [
       "                  AAPL       MSFT        XOM\n",
       "1990-02-01    7.860000   0.510000   6.120000\n",
       "1990-02-02    7.930000   0.510000   6.180000\n",
       "1990-02-05    8.013333   0.510000   6.203333\n",
       "1990-02-06    8.040000   0.510000   6.210000\n",
       "1990-02-07    7.986000   0.510000   6.234000\n",
       "...                ...        ...        ...\n",
       "2011-10-10  389.351429  25.602143  72.527857\n",
       "2011-10-11  388.505000  25.674286  72.835000\n",
       "2011-10-12  388.531429  25.810000  73.400714\n",
       "2011-10-13  388.826429  25.961429  73.905000\n",
       "2011-10-14  391.038000  26.048667  74.185333\n",
       "\n",
       "[5662 rows x 3 columns]"
      ]
     },
     "execution_count": 159,
     "metadata": {},
     "output_type": "execute_result"
    }
   ],
   "source": [
    "close_px.rolling('20D').mean()"
   ]
  },
  {
   "cell_type": "markdown",
   "id": "3700ab1c",
   "metadata": {},
   "source": [
    "## Exponentially Weighted Functions"
   ]
  },
  {
   "cell_type": "markdown",
   "id": "acf1af6c",
   "metadata": {},
   "source": [
    "An alternative to using a static window size with equally weighted observations is to\n",
    "specify a constant decay factor to give more weight to more recent observations.\n",
    "There are a couple of ways to specify the decay factor. A popular one is using a span,\n",
    "which makes the result comparable to a simple moving window function with win‐\n",
    "dow size equal to the span.\n",
    "    \n",
    "     \n",
    "Since an exponentially weighted statistic places more weight on more recent observa‐\n",
    "tions, it “adapts” faster to changes compared with the equal-weighted version.\n",
    "  \n",
    "     \n",
    "pandas has the ewm operator to go along with rolling and expanding. Here’s an\n",
    "example comparing a 60-day moving average of Apple’s stock price with an EW mov‐\n",
    "ing average with span=60 (see Figure 11-7):\n"
   ]
  },
  {
   "cell_type": "code",
   "execution_count": 161,
   "id": "4b905213",
   "metadata": {},
   "outputs": [
    {
     "data": {
      "text/plain": [
       "<matplotlib.legend.Legend at 0x2ae8a0005c0>"
      ]
     },
     "execution_count": 161,
     "metadata": {},
     "output_type": "execute_result"
    },
    {
     "data": {
      "image/png": "[encoded data removed]",
      "text/plain": [
       "<Figure size 432x288 with 1 Axes>"
      ]
     },
     "metadata": {
      "needs_background": "light"
     },
     "output_type": "display_data"
    }
   ],
   "source": [
    "import matplotlib.pyplot as plt\n",
    "aapl_px = close_px.AAPL['2006':'2007']\n",
    "ma60 = aapl_px.rolling(30, min_periods=20).mean()\n",
    "ewma60 = aapl_px.ewm(span=30).mean()\n",
    "ma60.plot(style='k--', label='Simple MA')\n",
    "ewma60.plot(style='k-', label='EW MA')\n",
    "plt.legend()"
   ]
  },
  {
   "cell_type": "markdown",
   "id": "dd44e9f3",
   "metadata": {},
   "source": [
    "## Binary Moving Window Functions"
   ]
  },
  {
   "cell_type": "markdown",
   "id": "6e62a4bd",
   "metadata": {},
   "source": [
    "Some statistical operators, like correlation and covariance, need to operate on two\n",
    "time series. As an example, financial analysts are often interested in a stock’s correla‐\n",
    "tion to a benchmark index like the S&P 500. To have a look at this, we first compute\n",
    "the percent change for all of our time series of interest:"
   ]
  },
  {
   "cell_type": "code",
   "execution_count": 162,
   "id": "74c664e3",
   "metadata": {},
   "outputs": [],
   "source": [
    "spx_px = close_px_all['SPX']\n",
    "spx_rets = spx_px.pct_change()\n",
    "returns = close_px.pct_change()"
   ]
  },
  {
   "cell_type": "markdown",
   "id": "6ad92a4d",
   "metadata": {},
   "source": [
    "The corr aggregation function after we call rolling can then compute the rolling\n",
    "correlation with spx_rets (see Figure 11-8 for the resulting plot):\n"
   ]
  },
  {
   "cell_type": "code",
   "execution_count": 163,
   "id": "fd80e60b",
   "metadata": {},
   "outputs": [
    {
     "data": {
      "text/plain": [
       "<AxesSubplot:>"
      ]
     },
     "execution_count": 163,
     "metadata": {},
     "output_type": "execute_result"
    },
    {
     "data": {
      "image/png": "[encoded data removed]",
      "text/plain": [
       "<Figure size 432x288 with 1 Axes>"
      ]
     },
     "metadata": {
      "needs_background": "light"
     },
     "output_type": "display_data"
    }
   ],
   "source": [
    "corr = returns.AAPL.rolling(125, min_periods=100).corr(spx_rets)\n",
    "corr.plot()"
   ]
  },
  {
   "cell_type": "markdown",
   "id": "94fc7174",
   "metadata": {},
   "source": [
    "Suppose you wanted to compute the correlation of the S&P 500 index with many\n",
    "stocks at once. Writing a loop and creating a new DataFrame would be easy but might\n",
    "get repetitive, so if you pass a Series and a DataFrame, a function like rolling_corr\n",
    "will compute the correlation of the Series (spx_rets, in this case) with each column\n",
    "in the DataFrame (see Figure 11-9 for the plot of the result):"
   ]
  },
  {
   "cell_type": "code",
   "execution_count": 164,
   "id": "bb347b58",
   "metadata": {},
   "outputs": [
    {
     "data": {
      "text/plain": [
       "<AxesSubplot:>"
      ]
     },
     "execution_count": 164,
     "metadata": {},
     "output_type": "execute_result"
    },
    {
     "data": {
      "image/png": "[encoded data removed]",
      "text/plain": [
       "<Figure size 432x288 with 1 Axes>"
      ]
     },
     "metadata": {
      "needs_background": "light"
     },
     "output_type": "display_data"
    }
   ],
   "source": [
    "corr = returns.rolling(125, min_periods=100).corr(spx_rets)\n",
    "corr.plot()"
   ]
  },
  {
   "cell_type": "markdown",
   "id": "8ee7c0f1",
   "metadata": {},
   "source": [
    "## User-Defined Moving Window Functions"
   ]
  },
  {
   "cell_type": "markdown",
   "id": "05999ee0",
   "metadata": {},
   "source": [
    "The apply method on rolling and related methods provides a means to apply an\n",
    "array function of your own devising over a moving window. The only requirement is\n",
    "that the function produce a single value (a reduction) from each piece of the array.\n",
    "For example, while we can compute sample quantiles using rolling(...).quan\n",
    "tile(q), we might be interested in the percentile rank of a particular value over the\n",
    "sample. The scipy.stats.percentileofscore function does just this (see\n",
    "Figure 11-10 for the resulting plot):"
   ]
  },
  {
   "cell_type": "code",
   "execution_count": 165,
   "id": "4962f7ef",
   "metadata": {},
   "outputs": [
    {
     "data": {
      "text/plain": [
       "<AxesSubplot:>"
      ]
     },
     "execution_count": 165,
     "metadata": {},
     "output_type": "execute_result"
    },
    {
     "data": {
      "image/png": "[encoded data removed]",
      "text/plain": [
       "<Figure size 432x288 with 1 Axes>"
      ]
     },
     "metadata": {
      "needs_background": "light"
     },
     "output_type": "display_data"
    }
   ],
   "source": [
    "from scipy.stats import percentileofscore\n",
    "score_at_2percent = lambda x: percentileofscore(x, 0.02)\n",
    "result = returns.AAPL.rolling(250).apply(score_at_2percent)\n",
    "result.plot()"
   ]
  },
  {
   "cell_type": "code",
   "execution_count": null,
   "id": "00e0e2de",
   "metadata": {},
   "outputs": [],
   "source": []
  }
 ],
 "metadata": {
  "kernelspec": {
   "display_name": "Python 3 (ipykernel)",
   "language": "python",
   "name": "python3"
  },
  "language_info": {
   "codemirror_mode": {
    "name": "ipython",
    "version": 3
   },
   "file_extension": ".py",
   "mimetype": "text/x-python",
   "name": "python",
   "nbconvert_exporter": "python",
   "pygments_lexer": "ipython3",
   "version": "3.9.18"
  }
 },
 "nbformat": 4,
 "nbformat_minor": 5
}
